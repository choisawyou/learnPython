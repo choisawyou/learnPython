{
 "cells": [
  {
   "cell_type": "markdown",
   "metadata": {},
   "source": [
    "# 4일차"
   ]
  },
  {
   "cell_type": "markdown",
   "metadata": {},
   "source": [
    "# 2019.12.30"
   ]
  },
  {
   "cell_type": "markdown",
   "metadata": {},
   "source": [
    "# 객체 지향 프로그래밍 (class -> (instance) Object)   \n",
    "- Class : 멤버변수(속성)  + 멤버함수(공유되어 지어짐)\n",
    "- 인스턴스할 때 멤버변수(속성)을 저장하는 공간만 확보"
   ]
  },
  {
   "cell_type": "code",
   "execution_count": 4,
   "metadata": {},
   "outputs": [
    {
     "name": "stdout",
     "output_type": "stream",
     "text": [
      "삼각형의 넓이는 100.0\n"
     ]
    }
   ],
   "source": [
    "width = 10\n",
    "height = 20\n",
    "area = 10*20/2\n",
    "area = 10*20/2\n",
    "print(\"삼각형의 넓이는\", area)"
   ]
  },
  {
   "cell_type": "code",
   "execution_count": 7,
   "metadata": {},
   "outputs": [
    {
     "name": "stdout",
     "output_type": "stream",
     "text": [
      "10 20 100.0\n"
     ]
    }
   ],
   "source": [
    "class Triangle:\n",
    "    def setData(self, width, height): # 함수를 이용한 초기화\n",
    "        self.width=width\n",
    "        self.height=height\n",
    "    def area(self): # self는 매개변수 취급을 안함, 넣어야만 함수로 만들수있음.\n",
    "        return self.width*self.height/2\n",
    "tri1 = Triangle() # 인스턴스 한다. () 함수처럼\n",
    "tri1.setData(10,20)\n",
    "print(tri1.width, tri1.height, tri1.area())"
   ]
  },
  {
   "cell_type": "code",
   "execution_count": 12,
   "metadata": {},
   "outputs": [
    {
     "name": "stdout",
     "output_type": "stream",
     "text": [
      "10 20 100.0\n"
     ]
    }
   ],
   "source": [
    "# __init__ : Object에 있는 함수 (상속)\n",
    "class Triangle :\n",
    "    def __init__(self,width,height): # 초기화 함수, 생성자, 강제로 호출불가한 함수\n",
    "        self.width = width\n",
    "        self.height = height\n",
    "    def area(self):\n",
    "        return self.width*self.height/2\n",
    "tri1 = Triangle(10,20)\n",
    "# tri1.__init__(10,20) 불가, 인스턴스 할 때 자동으로 호출\n",
    "print(tri1.width,tri1.height,tri1.area())"
   ]
  },
  {
   "cell_type": "code",
   "execution_count": 15,
   "metadata": {},
   "outputs": [
    {
     "data": {
      "text/plain": [
       "'클래스의 예'"
      ]
     },
     "execution_count": 15,
     "metadata": {},
     "output_type": "execute_result"
    }
   ],
   "source": [
    "# 클래스변수, 멤버변수, 지역변수\n",
    "class Myclass(object): # 선언하는 순간에 메모리에 자리를 잡읍\n",
    "    \"\"\"클래스의 예\"\"\"\n",
    "    i = 12345 # class변수 , 공용변수\n",
    "    def __init__(self): \n",
    "        self.i = 54321 # 멤버변수\n",
    "        num = 100 # 지역변수\n",
    "    def f(self):\n",
    "        return self.i\n",
    "Myclass.__doc__ # Object의 속성"
   ]
  },
  {
   "cell_type": "code",
   "execution_count": 19,
   "metadata": {},
   "outputs": [
    {
     "name": "stdout",
     "output_type": "stream",
     "text": [
      "12345\n"
     ]
    }
   ],
   "source": [
    "print(Myclass.i)"
   ]
  },
  {
   "cell_type": "code",
   "execution_count": 27,
   "metadata": {},
   "outputs": [
    {
     "name": "stdout",
     "output_type": "stream",
     "text": [
      "54321\n"
     ]
    },
    {
     "data": {
      "text/plain": [
       "54321"
      ]
     },
     "execution_count": 27,
     "metadata": {},
     "output_type": "execute_result"
    }
   ],
   "source": [
    "myclass=Myclass() # self.i에 대한 메모리 확보\n",
    "print(myclass.i) # 멤버변수호출\n",
    "myclass.f()"
   ]
  },
  {
   "cell_type": "code",
   "execution_count": 28,
   "metadata": {},
   "outputs": [
    {
     "name": "stdout",
     "output_type": "stream",
     "text": [
      "54321\n",
      "12345\n",
      "54321\n"
     ]
    }
   ],
   "source": [
    "print(myclass.i)\n",
    "print(Myclass.i)\n",
    "print(Myclass().i) # 참조가 없기 때문에 사용과 동시에 메모리에서 사라짐."
   ]
  },
  {
   "cell_type": "code",
   "execution_count": 31,
   "metadata": {},
   "outputs": [
    {
     "name": "stdout",
     "output_type": "stream",
     "text": [
      "생성 Mon Dec 30 11:10:05 2019\n",
      "Sleeping for 3 sec\n",
      "사망 Mon Dec 30 11:10:08 2019\n"
     ]
    }
   ],
   "source": [
    "from time import time, ctime, sleep # 시간은 초로 관리 ctime(문자열로 convert)\n",
    "class Life:\n",
    "    def __init__(self): #  생성자\n",
    "        self.birth = ctime() # 현재의 시간을 문자열로 변환\n",
    "        print ('생성', self.birth)\n",
    "    def __del__(self): # 소멸자 (메모리에서 사라질때 자동으로 호출)\n",
    "        print ('사망', ctime())\n",
    "    def test(self):\n",
    "        #mylife = Life()\n",
    "        print('Sleeping for 3 sec')\n",
    "        sleep(3) # 초\n",
    "li = Life() # 오른쪽은 heap에 저장, 왼쪽은 그 주소를 가리키는 stack에 생성\n",
    "li.test()\n",
    "del li # 자동으로 가비지 컬렉션됨."
   ]
  },
  {
   "cell_type": "code",
   "execution_count": 42,
   "metadata": {},
   "outputs": [],
   "source": [
    "# 사원관리\n",
    "class Employee:\n",
    "    empCount = 0 # 사원수를 저장 : 클래스 변수 생성\n",
    "    def __init__(self, name, salary):\n",
    "        self.name = name # 이름\n",
    "        self.salary = salary # 급여\n",
    "        Employee.empCount +=1\n",
    "    def displayCount(self):\n",
    "        print(\"직원수 = %d\" % Employee.empCount)\n",
    "    def displayEmployee(self):\n",
    "        print(\"이름: \", self.name, \", 급여 : \", self.salary)\n",
    "    def __call__(self, *pargs, **kargs):\n",
    "        print(\"Called:\", pargs, kargs)"
   ]
  },
  {
   "cell_type": "code",
   "execution_count": 205,
   "metadata": {},
   "outputs": [
    {
     "name": "stdout",
     "output_type": "stream",
     "text": [
      "직원수 = 303\n",
      "None\n",
      "직원수 = 304\n",
      "None\n",
      "이름:  임영택 , 급여 :  500\n",
      "None\n",
      "이름:  빅데이터 , 급여 :  500\n",
      "None\n",
      "Called: ('빅데이터', 500, 100) {'c': 100}\n",
      "None\n"
     ]
    }
   ],
   "source": [
    "emp = Employee(\"임영택\", 500)\n",
    "print(emp.displayCount()) # 1\n",
    "emp1 = Employee(\"빅데이터\", 500)\n",
    "print(emp1.displayCount()) # 2 공유변수이기 때문\n",
    "print(emp.displayEmployee()) # 2 데이터를 담고있는 위치가 다르기 때문\n",
    "print(emp1.displayEmployee())\n",
    "print(emp(\"빅데이터\", 500,100, c=100)) # class를 함수처럼 사용하고 싶을때.\n",
    "                                        # __call__을 오버라이딩"
   ]
  },
  {
   "cell_type": "code",
   "execution_count": 197,
   "metadata": {},
   "outputs": [],
   "source": [
    "# 실시간으로 변수를 추가가능\n",
    "emp1.age = 7\n",
    "emp.age = 8"
   ]
  },
  {
   "cell_type": "code",
   "execution_count": 198,
   "metadata": {},
   "outputs": [
    {
     "name": "stdout",
     "output_type": "stream",
     "text": [
      "7\n"
     ]
    }
   ],
   "source": [
    "print(emp1.age)"
   ]
  },
  {
   "cell_type": "code",
   "execution_count": 200,
   "metadata": {},
   "outputs": [
    {
     "name": "stdout",
     "output_type": "stream",
     "text": [
      "{'name': '임영택', 'salary': 500, 'age': 8}\n"
     ]
    }
   ],
   "source": [
    "print(emp.__dict__) # object 를 상속"
   ]
  },
  {
   "cell_type": "code",
   "execution_count": 203,
   "metadata": {},
   "outputs": [
    {
     "name": "stdout",
     "output_type": "stream",
     "text": [
      "['__call__', '__class__', '__delattr__', '__dict__', '__dir__', '__doc__', '__eq__', '__format__', '__ge__', '__getattribute__', '__gt__', '__hash__', '__init__', '__init_subclass__', '__le__', '__lt__', '__module__', '__ne__', '__new__', '__reduce__', '__reduce_ex__', '__repr__', '__setattr__', '__sizeof__', '__str__', '__subclasshook__', '__weakref__', 'age', 'displayCount', 'displayEmployee', 'empCount', 'name', 'salary']\n"
     ]
    }
   ],
   "source": [
    "print(dir(emp))"
   ]
  },
  {
   "cell_type": "markdown",
   "metadata": {},
   "source": [
    "# 문제\n",
    "- 이름과 나이를 저장하는 Student class를 생성하시오\n",
    "- 이름과 나이를 출력하는 pring 함수를 클래스내에 정의하시오"
   ]
  },
  {
   "cell_type": "code",
   "execution_count": 215,
   "metadata": {},
   "outputs": [],
   "source": [
    "class Student:\n",
    "    def __init__(self, name, age):\n",
    "        \"\"\"학생관리\"\"\"\n",
    "        self.name = name\n",
    "        self.age = age\n",
    "    def pring(self):\n",
    "        print(\"이름 :\", self.name, \", 나이 : \", self.age)\n",
    "    def __repr__(self): #__str__\n",
    "        return \"나의 이름은  \" + self.name\n",
    "\n"
   ]
  },
  {
   "cell_type": "code",
   "execution_count": 229,
   "metadata": {},
   "outputs": [
    {
     "name": "stdout",
     "output_type": "stream",
     "text": [
      "이름 : 임영택 , 나이 :  24\n",
      "나의 이름은  임영택\n"
     ]
    }
   ],
   "source": [
    "hhh = Student(\"임영택\",24)\n",
    "hhh.pring()\n",
    "print(hhh)"
   ]
  },
  {
   "cell_type": "code",
   "execution_count": 227,
   "metadata": {},
   "outputs": [
    {
     "name": "stdout",
     "output_type": "stream",
     "text": [
      "<class '__main__.Student'>\n"
     ]
    }
   ],
   "source": [
    "# object로 부터 상속\n",
    "print(hhh.__class__) # 어떤 클래스에서 인스턴스 되었는지를 확인"
   ]
  },
  {
   "cell_type": "code",
   "execution_count": 232,
   "metadata": {},
   "outputs": [
    {
     "name": "stdout",
     "output_type": "stream",
     "text": [
      "나의 이름은  임영택\n"
     ]
    }
   ],
   "source": [
    "#Student(\"임영택\", 24)\n",
    "g = hhh.__class__(\"임영택\", 24) # 인스턴스된 변수로 부터 클래스 생성\n",
    "print(g)"
   ]
  },
  {
   "cell_type": "code",
   "execution_count": 275,
   "metadata": {},
   "outputs": [],
   "source": [
    "# x1=10;y1=20\n",
    "# x2=20;y2=30\n",
    "# distance = math.sqrt ((x1-x2)**2+(y1-y2)**2)\n",
    "import math\n",
    "# 1개를 다루는 클래스를 작성하고 있지만 거리값은 두개를 이용\n",
    "class Point:\n",
    "    def __init__(self,x,y):\n",
    "        self.x=x\n",
    "        self.y=y\n",
    "    def __srt__(self): # __repr__ 문자열을 요구하는 함수에 들어가면 실행\n",
    "        return \"좌표는 (%d, %d)\" %(self.x, self.y)\n",
    "    def dist(self, other): # 피타고라스 정리\n",
    "        distance=math.sqrt((self.x-other.x)**2+(self.y-other.y)**2)\n",
    "        return distance\n",
    "    def collision(self,other):\n",
    "        return self.dist(other)<3\n"
   ]
  },
  {
   "cell_type": "code",
   "execution_count": 276,
   "metadata": {},
   "outputs": [
    {
     "name": "stdout",
     "output_type": "stream",
     "text": [
      "<__main__.Point object at 0x00000160E3F49A48>\n",
      "<__main__.Point object at 0x00000160E3F49BC8>\n"
     ]
    },
    {
     "data": {
      "text/plain": [
       "5.0"
      ]
     },
     "execution_count": 276,
     "metadata": {},
     "output_type": "execute_result"
    }
   ],
   "source": [
    "\n",
    "xx = Point(7,3)\n",
    "xx2 = Point(4,7)\n",
    "print(xx)\n",
    "print(xx2)\n",
    "xx.dist(xx2)"
   ]
  },
  {
   "cell_type": "code",
   "execution_count": 249,
   "metadata": {},
   "outputs": [
    {
     "name": "stdout",
     "output_type": "stream",
     "text": [
      "두점 사이의 거리는 =  5.0\n",
      "충돌하지 않았습니다.\n"
     ]
    }
   ],
   "source": [
    "print(\"두점 사이의 거리는 = \", xx.dist(xx2))\n",
    "if xx.collision(xx2):\n",
    "    print(\"충돌했습니다.\")\n",
    "else:\n",
    "    print(\"충돌하지 않았습니다.\")"
   ]
  },
  {
   "cell_type": "markdown",
   "metadata": {},
   "source": [
    "# 문제: point 클래스를 이용하여 Circle 클래스를 정의하시오\n",
    "- 원 : 중심점하고 반지름\n",
    "- 원과 원이 충돌하는지를 확인하는 함수를 작성하시오.\n",
    "- 서로 반지름이 차이가  중심점하고의 거리에 들어가면 충돌임."
   ]
  },
  {
   "cell_type": "code",
   "execution_count": 260,
   "metadata": {},
   "outputs": [],
   "source": [
    "import math\n",
    "joong = point(3,4)\n",
    "class circle:\n",
    "    def __init__(self,joong,ban):\n",
    "        self.joong = joong\n",
    "        self.ban = ban\n",
    "    def dist(self):\n",
    "        return \"원의중심은 \" + str(self.joong) + \"반지름은 \" + str(self.ban)\n",
    "    def coll(self,other):\n",
    "        if self.joong.dist(other.joong) < self.ban + other.ban :\n",
    "            result = \"충돌한다\"\n",
    "        else:\n",
    "            return \"충돌하지 않는다.\"\n",
    "        return result"
   ]
  },
  {
   "cell_type": "code",
   "execution_count": 266,
   "metadata": {},
   "outputs": [
    {
     "name": "stdout",
     "output_type": "stream",
     "text": [
      "<__main__.circle object at 0x00000160E3B3DC08>\n",
      "<__main__.circle object at 0x00000160E3B3D708>\n"
     ]
    }
   ],
   "source": [
    "cir = circle(xx, 1)\n",
    "cir2 = circle(xx2, 5)\n",
    "print(cir)\n",
    "print(cir2)"
   ]
  },
  {
   "cell_type": "code",
   "execution_count": 263,
   "metadata": {},
   "outputs": [
    {
     "name": "stdout",
     "output_type": "stream",
     "text": [
      "충돌한다\n"
     ]
    },
    {
     "data": {
      "text/plain": [
       "'충돌한다'"
      ]
     },
     "execution_count": 263,
     "metadata": {},
     "output_type": "execute_result"
    }
   ],
   "source": [
    "print(cir.coll(cir2))\n",
    "circle.coll(cir,cir2) # self"
   ]
  },
  {
   "cell_type": "markdown",
   "metadata": {},
   "source": [
    "# point 를 이용해서 사각형 Rectangle 클래스를 작성하시오\n",
    "- 사각형의 면적을 구하는 함수를 작성하시오 x1-x2 * y1-y2\n",
    "- 사각형의 둘레를 구하는 함수를 작성하시오 (x1-x2) * 2 + (y1 - y2)\n",
    "- 대각선의 길이를 구하는 함수를 작성하시오 (x1-x2)**2 + (y1 - y2) **2"
   ]
  },
  {
   "cell_type": "code",
   "execution_count": 270,
   "metadata": {},
   "outputs": [],
   "source": [
    "xx = Point(7,3)\n",
    "xx1 = Point(4,9)\n",
    "\n",
    "class Rectangle:\n",
    "    def __init__(self,p1,p2):\n",
    "        self.p1 = p1\n",
    "        self.p2 = p2\n",
    "    def myunjuk(self):\n",
    "        return abs((self.p1.x - self.p2.x)) * abs((self.p1.y - self.p2.y))\n",
    "    def doole(self):\n",
    "        return abs((self.p))\n",
    "\n",
    "    \n",
    "#    def myunjuk(self):\n",
    "#        return myun = self.x * self.y\n",
    "#    def doole(self):\n",
    "#        return doole = self.x"
   ]
  },
  {
   "cell_type": "code",
   "execution_count": 277,
   "metadata": {},
   "outputs": [
    {
     "name": "stdout",
     "output_type": "stream",
     "text": [
      "<__main__.Rectangle object at 0x00000160E38E3F08>\n"
     ]
    }
   ],
   "source": [
    "sagak = Rectangle(3,7,9,14)\n",
    "\n",
    "print(sagak)"
   ]
  },
  {
   "cell_type": "code",
   "execution_count": 282,
   "metadata": {},
   "outputs": [],
   "source": [
    "class Rectangle2:\n",
    "    def __init__(self, po1,po2): # po1 = Point() 매핑\n",
    "        self.po1 = po1\n",
    "        self.po2 = po2\n",
    "    def area(self):\n",
    "        result = abs((po1.x - po2.x) * (po1.y - po2.y))\n",
    "        return result\n",
    "    def perimeter(self):\n",
    "        result = abs(po1.x - po2.x)*2 + abs(po1.y - po2.y)*2\n",
    "        return result\n",
    "    def diagonal_dist(self):\n",
    "        result = math.sqrt((po1.x-po2.x)**2+(po1.y - po2.y)**2)\n",
    "        return result"
   ]
  },
  {
   "cell_type": "markdown",
   "metadata": {},
   "source": [
    "# vector = 길이 = 크기 + 방향\n",
    "- 내적 유사도 = cos 유사도 = dot연산 , 요소끼리 곱하고 다 더해주면됨.\n",
    "- A'B\n",
    "- A = [10,20,30] , B = [20,30,40]\n",
    "- A'B = [10 * 20 + 20 * 30 + 30 * 40]"
   ]
  },
  {
   "cell_type": "code",
   "execution_count": 299,
   "metadata": {},
   "outputs": [],
   "source": [
    "xx = Point(7,3)\n",
    "xx1 = Point(4,9)\n",
    "re = Rectangle2(xx,xx1)"
   ]
  },
  {
   "cell_type": "code",
   "execution_count": 303,
   "metadata": {},
   "outputs": [
    {
     "name": "stdout",
     "output_type": "stream",
     "text": [
      "<bound method Rectangle2.area of <__main__.Rectangle2 object at 0x00000160E3BDB3C8>>\n"
     ]
    }
   ],
   "source": [
    "print(re.area)"
   ]
  },
  {
   "cell_type": "code",
   "execution_count": 304,
   "metadata": {},
   "outputs": [
    {
     "name": "stdout",
     "output_type": "stream",
     "text": [
      "<bound method Rectangle2.perimeter of <__main__.Rectangle2 object at 0x00000160E3BDB3C8>>\n"
     ]
    }
   ],
   "source": [
    "print(re.perimeter)"
   ]
  },
  {
   "cell_type": "markdown",
   "metadata": {},
   "source": [
    "# 문제 : Vector class를 작성하시오\n",
    "- x,y의 2차원 벡터 구현\n",
    "- 벡터의 연산 (+,-,*,/) : 요소별로 계산하면됨.\n",
    "- dot 함수를 구현하시오 : 백터의 요소별로 곱하고 모두 더해주면 내적 유사도\n",
    "- cos 값으로 변환하는 함수를 구현하시오\n",
    "        cos theta = acos(A내적B/|A||B|)\n",
    "        |A| = math.sqrt(x^2 + y^2)"
   ]
  },
  {
   "cell_type": "code",
   "execution_count": 311,
   "metadata": {
    "jupyter": {
     "source_hidden": true
    }
   },
   "outputs": [],
   "source": [
    "class Vector:\n",
    "    def __init__(self,x,y):\n",
    "        self.x = x\n",
    "        self.y = y\n",
    "    def __repr__(self):\n",
    "        return \"(좌표는 %d, %d)\" % (self.x, self.y)\n",
    "    def __add__(self, other, z): #연산자 오버로딩을 오버 라이딩으로 구현할것\n",
    "        return Vector(self.x + other.x + z.x, self.y + other.y + z.y)\n",
    "    def __mul__(self,other, z):\n",
    "        return Vector(self.x * other.x * z.x, self.y * other.y * z.y)\n",
    "    def __sub__(self,other, z):\n",
    "        return Vector(self.x - other.x - z.x , self.y - other.y - z.y)\n",
    "#    def __div__(self,other, z):\n",
    "#        return Vector(self.x / other.x , self.y / other.y)"
   ]
  },
  {
   "cell_type": "code",
   "execution_count": 332,
   "metadata": {},
   "outputs": [],
   "source": [
    "class Vector:\n",
    "    def __init__(self,x,y):\n",
    "        self.x = x\n",
    "        self.y = y\n",
    "    def __repr__(self):\n",
    "        return \"(좌표는 %d, %d)\" % (self.x, self.y)\n",
    "    def __add__(self, other): #연산자 오버로딩을 오버 라이딩으로 구현할것\n",
    "        return Vector(self.x + other.x, self.y + other.y)\n",
    "    def __mul__(self,other):\n",
    "        return Vector(self.x * other.x, self.y * other.y)\n",
    "    def __sub__(self,other):\n",
    "        return Vector(self.x - other.x, self.y - other.y)\n",
    "    def __truediv__(self,other):\n",
    "        return Vector(self.x / other.x , self.y / other.y)"
   ]
  },
  {
   "cell_type": "code",
   "execution_count": 333,
   "metadata": {},
   "outputs": [
    {
     "name": "stdout",
     "output_type": "stream",
     "text": [
      "(좌표는 10, 20)\n",
      "(좌표는 20, 40)\n",
      "(좌표는 30, 47)\n",
      "(좌표는 200, 540)\n",
      "(좌표는 0, 0)\n",
      "(좌표는 -10, -7)\n"
     ]
    }
   ],
   "source": [
    "f = Vector(10,20)\n",
    "g = Vector(20,27)\n",
    "print(f)\n",
    "print(f+f)\n",
    "print(f+g)\n",
    "print(f*g)\n",
    "print(f/g)\n",
    "print(f-g)"
   ]
  },
  {
   "cell_type": "code",
   "execution_count": 317,
   "metadata": {},
   "outputs": [],
   "source": [
    "# 3차원 벡터를 클래스로 구현하시오. (연산자 오버로딩 +,-,*,/)"
   ]
  },
  {
   "cell_type": "code",
   "execution_count": 351,
   "metadata": {},
   "outputs": [],
   "source": [
    "class Vector:\n",
    "    def __init__(self,x,y,z):\n",
    "        self.x = x\n",
    "        self.y = y\n",
    "        self.z = z\n",
    "    def __repr__(self):\n",
    "        return \"(좌표는 %d, %d, %d)\" % (self.x, self.y, self.z)\n",
    "    def __add__(self, other): #연산자 오버로딩을 오버 라이딩으로 구현할것\n",
    "        return Vector(self.x + other.x, self.y + other.y , \n",
    "                      self.z + other.z )\n",
    "    def __mul__(self,other):\n",
    "        return Vector(self.x * other.x, self.y * other.y * z.y, self.z * other.z)\n",
    "    def __sub__(self,other):\n",
    "        return Vector(self.x - other.x, self.y - other.y - z.y, self.z - other.z)\n",
    "    def dist(self):\n",
    "        return math.sqrt(self.x*self.x+self.y*self.y+self.z*self.z)\n",
    "    # 방향만 바뀌어야지 크기까지 바뀌면 안됨\n",
    "    def norm(self):\n",
    "        dist = self.dist()\n",
    "        return self.x/dist, self.y/dist, self.z/dist\n",
    "    def dot(self,other):\n",
    "        return (self.x*other.x + self.y * other.y + self.z * other.z)\n",
    "    def theta(self,other):\n",
    "        dot = self.dot(other)\n",
    "        dist1 = self.dist()\n",
    "        dist2 = other.dist() # radian -> degree 로 (컴퓨터는 라디안 만 사용)\n",
    "        return math.acos(dot/(dist1*dist2)) * (180/math.pi)\n",
    "# 변환과정이 필요 -> 사람이 사용하는 각도입력(90도) -> 라디안 변환(math.pi/180) -> 계산후\n",
    "# -> 사람이 사용하는 degree로 변환해서 출력"
   ]
  },
  {
   "cell_type": "code",
   "execution_count": 347,
   "metadata": {},
   "outputs": [
    {
     "name": "stdout",
     "output_type": "stream",
     "text": [
      "(좌표는 60, 84, 100)\n",
      "(좌표는 6000, 27352620, 35000)\n",
      "(좌표는 -40, -118, -50)\n",
      "\n"
     ]
    }
   ],
   "source": [
    "f = Vector(10,20,25)\n",
    "g = Vector(20,27,35)\n",
    "q = Vector(30,37,40)\n",
    "\n",
    "print(f+g+q)\n",
    "print(f*g*q)\n",
    "print(f-g-q)\n",
    "print()"
   ]
  },
  {
   "cell_type": "code",
   "execution_count": 352,
   "metadata": {},
   "outputs": [
    {
     "name": "stdout",
     "output_type": "stream",
     "text": [
      "(좌표는 10, 0, 0)\n",
      "(좌표는 20, 0, 0)\n",
      "(좌표는 10, -64, 0)\n",
      "(좌표는 0, 0, 0)\n",
      "f벡터의 크기 =  10.0\n",
      "g벡터의 크기 =  27.0\n",
      "f의 normal vector =  (1.0, 0.0, 0.0)\n",
      "g의 normal vector =  (0.0, 1.0, 0.0)\n",
      "두 벡터의 내적 =  0\n",
      "f와 g의 사이각은 =  90.0\n"
     ]
    }
   ],
   "source": [
    "f = Vector(10,0,0)\n",
    "g = Vector(0,27,0)\n",
    "\n",
    "print(f)\n",
    "print(f+f)\n",
    "print(f-g)\n",
    "print(f*g)\n",
    "print(\"f벡터의 크기 = \", f.dist())\n",
    "print(\"g벡터의 크기 = \", g.dist())\n",
    "print(\"f의 normal vector = \", f.norm()) # 1.0 0.0 0.0\n",
    "print(\"g의 normal vector = \", g.norm()) # 0.0 1.0 0.0\n",
    "print(\"두 벡터의 내적 = \", g.dot(f)) # 0 내적이 0이면 두 벡터는 90도 직교한다.\n",
    "print(\"f와 g의 사이각은 = \", f.theta(g)) # 90"
   ]
  },
  {
   "cell_type": "code",
   "execution_count": 357,
   "metadata": {},
   "outputs": [
    {
     "name": "stdout",
     "output_type": "stream",
     "text": [
      "a =  [1, 2, 3]\n",
      "[[1, 2, 3], [4, 5, [1, 2, 3]], 10]\n",
      "[[1, 2, 3], [4, 5, [1, 2, 3]], 10]\n",
      "[[1, 2, 3], [4, 5, [1, 2, 3]], 10]\n",
      "[[1, 2, 3], [4, 5, [1, 2, 3]], 10]\n",
      "[[1, 2, 3, 100], [4, 5, [1, 2, 3, 100]], 10]\n",
      "[[1, 2, 3, 100], [4, 5, [1, 2, 3, 100]], 10]\n",
      "[[1, 2, 3], [4, 5, [1, 2, 3]], 10]\n",
      "[[1, 2, 3], [4, 5, [1, 2, 3]], 10]\n"
     ]
    }
   ],
   "source": [
    "# deep copy와 copy의 차이\n",
    "import copy\n",
    "a=[1,2,3]\n",
    "b=[4,5,a] # 주소\n",
    "x=[a,b,10] \n",
    "y=copy.copy(x)\n",
    "t=copy.deepcopy(x) # 주소복사\n",
    "e=copy.deepcopy(y) # 원래의 요소를 별도의 공간에 복사한 다음 주소전달\n",
    "print(\"a = \", a)\n",
    "print(x)\n",
    "print(y)\n",
    "print(t)\n",
    "print(e)\n",
    "a.append(100)\n",
    "print(x)\n",
    "print(y)\n",
    "print(t)\n",
    "print(e)"
   ]
  },
  {
   "cell_type": "markdown",
   "metadata": {},
   "source": [
    "# 이름, 국어, 수학, 영어를 관리하는 Studunt class를 작성하시오. (1인분만 관리)\n",
    "- 총점과 평균도 계산해서 멤버 변수에 저장"
   ]
  },
  {
   "cell_type": "code",
   "execution_count": 1,
   "metadata": {},
   "outputs": [],
   "source": [
    "class Student:\n",
    "    studCount = 0\n",
    "    def __init__(self,name,kor,eng,mat):\n",
    "        self.name = name\n",
    "        self.kor = int(kor)\n",
    "        self.eng = int(eng)\n",
    "        self.mat = int(mat)\n",
    "        self.tot = self.kor + self.mat + self.eng\n",
    "        self.avg = self.tot / 3\n",
    "        Student.studCount += 1"
   ]
  },
  {
   "cell_type": "code",
   "execution_count": 5,
   "metadata": {},
   "outputs": [
    {
     "name": "stdin",
     "output_type": "stream",
     "text": [
      "1.입력  2.출력  3.계산  4.종료  => 1\n",
      "이름 :  qwe\n",
      "국어 점수 :  45\n",
      "영어 점수 :  85\n",
      "수학 점수 :  95\n",
      "1.입력  2.출력  3.계산  4.종료  => 1\n",
      "이름 :  vsdf\n",
      "국어 점수 :  85\n",
      "영어 점수 :  95\n",
      "수학 점수 :  65\n",
      "1.입력  2.출력  3.계산  4.종료  => 2\n"
     ]
    },
    {
     "name": "stdout",
     "output_type": "stream",
     "text": [
      "이름 :qwe 국어:45 영어:85 수학:95 총점:225 평균:75.0\n",
      "이름 :vsdf 국어:85 영어:95 수학:65 총점:245 평균:81.67\n"
     ]
    },
    {
     "name": "stdin",
     "output_type": "stream",
     "text": [
      "1.입력  2.출력  3.계산  4.종료  => 3\n"
     ]
    },
    {
     "name": "stdout",
     "output_type": "stream",
     "text": [
      "총 학생수 : 2명\n",
      "국어평균: 65.0\t\t영어평균 : 90.0\t\t 수학평균: 80.0\t\t\n"
     ]
    },
    {
     "name": "stdin",
     "output_type": "stream",
     "text": [
      "1.입력  2.출력  3.계산  4.종료  => 3\n"
     ]
    },
    {
     "name": "stdout",
     "output_type": "stream",
     "text": [
      "총 학생수 : 2명\n",
      "국어평균: 65.0\t\t영어평균 : 90.0\t\t 수학평균: 80.0\t\t\n"
     ]
    },
    {
     "name": "stdin",
     "output_type": "stream",
     "text": [
      "1.입력  2.출력  3.계산  4.종료  => 1\n",
      "이름 :  asdf\n",
      "국어 점수 :  123\n",
      "영어 점수 :  456\n",
      "수학 점수 :  654\n",
      "1.입력  2.출력  3.계산  4.종료  => 4\n"
     ]
    }
   ],
   "source": [
    "### 메뉴화\n",
    "def start():\n",
    "    students = []\n",
    "    while True:\n",
    "        choice = input(\"1.입력  2.출력  3.계산  4.종료  =>\")\n",
    "        if choice == '1':\n",
    "            name = input(\"이름 : \")\n",
    "            kor = input(\"국어 점수 : \")\n",
    "            eng = input(\"영어 점수 : \")\n",
    "            mat = input(\"수학 점수 : \")\n",
    "            stud = Student(name,kor,eng,mat)\n",
    "            students.append(stud)\n",
    "        elif choice == '2':\n",
    "            for s in students:\n",
    "                print(\"이름 :%s 국어:%s 영어:%s 수학:%s 총점:%s 평균:%s\" % (s.name, s.kor,s.eng, s.mat,s.tot,round(s.avg,2)))\n",
    "        elif choice == '3':\n",
    "            kortot =0; engtot=0; mattot=0\n",
    "            for s in students:\n",
    "                kortot += s.kor\n",
    "                engtot += s.eng\n",
    "                mattot += s.mat\n",
    "            koravg = round(kortot / len(students),2)\n",
    "            engavg = round(engtot / len(students),2)\n",
    "            matavg = round(mattot / len(students),2)\n",
    "            print(\"총 학생수 : %s명\" % len(students))\n",
    "            print(\"국어평균: %s\\t\\t영어평균 : %s\\t\\t 수학평균: %s\\t\\t\" % (koravg,engavg,matavg))\n",
    "        elif choice == '4':\n",
    "            break\n",
    "start()"
   ]
  },
  {
   "cell_type": "code",
   "execution_count": 1,
   "metadata": {},
   "outputs": [],
   "source": [
    "# 3번 국어 , 영어, 수학의 평균을 출력하시오."
   ]
  },
  {
   "cell_type": "markdown",
   "metadata": {},
   "source": [
    "# 2개로 분리된 class\n",
    "- 기본적인 데이터를 저장하는 클래스\n",
    "- Management(입력, 출력, 검색, 수정등)\n",
    "- 메뉴함수"
   ]
  },
  {
   "cell_type": "code",
   "execution_count": 7,
   "metadata": {},
   "outputs": [],
   "source": [
    "import sys\n",
    "class Student:\n",
    "    def __init__(self):\n",
    "        self.bunho=0; self.name = '';\n",
    "        self.kor = 0; self.mat = 0; self.eng = 0\n",
    "        self.total = 0; self.aver = 0; self.grade=\"\"\n",
    "    def inputData(self):\n",
    "        self.name = input(\"이름을 입력하시오 : \")\n",
    "        self.kor = eval(input(\"국어 점수 : \"))\n",
    "        self.mat = eval(input(\"수학 점수 : \"))\n",
    "        self.eng = eval(input(\"영어 점수 : \"))\n",
    "    def calc_total_aver(self):\n",
    "        self.total = self.kor + self.mat + self.eng\n",
    "        self.aver = round(self.total / 3,2)\n",
    "        self.grade = self.calcSemGrade()\n",
    "    def calcSemGrade(self):\n",
    "        if self.aver >= 90: return \"A\"\n",
    "        elif self.aver >= 80: return \"B\"\n",
    "        elif self.aver >= 70: return \"C\"\n",
    "        elif self.aver >= 60: return \"D\"\n",
    "        else: return \"F\"\n",
    "    def __str__(self):\n",
    "        return '%5s %5s %6.2f %6.2f %6.2f %7.2f %7.2f %5s' % (self.bunho, self.name, self.kor, self.mat, self.eng, self.total, self.aver, self.grade)\n",
    "    def __cmp__(self, other):\n",
    "        return self.name == other.name"
   ]
  },
  {
   "cell_type": "code",
   "execution_count": 8,
   "metadata": {},
   "outputs": [],
   "source": [
    "class Management:\n",
    "    schoolname = \"제주 아카데미\"\n",
    "    bunho = 0\n",
    "    def __init__(self,count):\n",
    "        print(\"메뉴를 선택하시오\")\n",
    "        self.sungjuk = []\n",
    "        self.count = count\n",
    "    def input(self):\n",
    "        for co_in in range(self.count):\n",
    "            stu = Student()\n",
    "            stu.inputData()\n",
    "            Management.bunho += 1 #번호를 자동으로 입력받기위해\n",
    "            stu.bunho = Management.bunho\n",
    "            self.sungjuk.append(stu)\n",
    "    def print_sungjuk(self):\n",
    "        for per in self.sungjuk:\n",
    "            print(per)\n",
    "            print()\n",
    "    def calc_sungjuk(self):\n",
    "        for per in self.sungjuk:\n",
    "            per.calc_total_aver()\n",
    "    def search_name(self):\n",
    "        name = input(\"검색할 학생 이름을 추가하시오\")\n",
    "        for per in self.sungjuk:\n",
    "            if (per.name == name):\n",
    "                print(per)\n",
    "                return\n",
    "        print(\"검색하고자 하는 학생이 없습니다.\")\n",
    "        return\n",
    "    def research_name(self):\n",
    "        name = input(\"검색할 학생 이름을 검색하시오.\")\n",
    "        name2 = input(\"변경할 학생 이름을 검색하시오.\")\n",
    "        for per in self.sungjuk:\n",
    "            if (per.name == name):\n",
    "                per.name = name2\n",
    "                return\n",
    "    def del_name(self):\n",
    "        name = input(\"삭제할 학생 이름을 검색하시오.\")\n",
    "        for per in self.sungjuk:\n",
    "            if (per.name == name):\n",
    "                self.sungjuk.remove(per)\n",
    "                return\n",
    "        else:\n",
    "            print(\"삭제할 학생이 없습니다.\")\n",
    "    def sort_aver(self):\n",
    "        return self.sungjuk.sort(key=lambda x: x.total, reverse=True)\n"
   ]
  },
  {
   "cell_type": "code",
   "execution_count": null,
   "metadata": {},
   "outputs": [
    {
     "name": "stdout",
     "output_type": "stream",
     "text": [
      "메뉴를 선택하시오\n"
     ]
    },
    {
     "name": "stdin",
     "output_type": "stream",
     "text": [
      "['입력(1), 출력(2),계산(3),검색(4),이름수정(5) , 이름삭제(6),정렬(7), 종료(8)'] 1\n",
      "이름을 입력하시오 :  qwe\n",
      "국어 점수 :  85\n",
      "수학 점수 :  95\n",
      "영어 점수 :  85\n",
      "['입력(1), 출력(2),계산(3),검색(4),이름수정(5) , 이름삭제(6),정렬(7), 종료(8)'] 1\n",
      "이름을 입력하시오 :  qweew\n",
      "국어 점수 :  85\n",
      "수학 점수 :  96\n",
      "영어 점수 :  32\n",
      "['입력(1), 출력(2),계산(3),검색(4),이름수정(5) , 이름삭제(6),정렬(7), 종료(8)'] 1\n",
      "이름을 입력하시오 :  qwee\n",
      "국어 점수 :  18\n",
      "수학 점수 :  58\n",
      "영어 점수 :  65\n",
      "['입력(1), 출력(2),계산(3),검색(4),이름수정(5) , 이름삭제(6),정렬(7), 종료(8)'] 2\n"
     ]
    },
    {
     "name": "stdout",
     "output_type": "stream",
     "text": [
      "제주 아카데미성적 계산표\n",
      "   번호    이름     국어     수학     영어      총점      평균      학점\n",
      "    4   qwe  85.00  95.00  85.00    0.00    0.00      \n",
      "\n",
      "    5 qweew  85.00  96.00  32.00    0.00    0.00      \n",
      "\n",
      "    6  qwee  18.00  58.00  65.00    0.00    0.00      \n",
      "\n"
     ]
    },
    {
     "name": "stdin",
     "output_type": "stream",
     "text": [
      "['입력(1), 출력(2),계산(3),검색(4),이름수정(5) , 이름삭제(6),정렬(7), 종료(8)'] 3\n"
     ]
    },
    {
     "name": "stdout",
     "output_type": "stream",
     "text": [
      "계산이 완료 되었습니다. - 확인하려면 출력해보세요\n"
     ]
    },
    {
     "name": "stdin",
     "output_type": "stream",
     "text": [
      "['입력(1), 출력(2),계산(3),검색(4),이름수정(5) , 이름삭제(6),정렬(7), 종료(8)'] 2\n"
     ]
    },
    {
     "name": "stdout",
     "output_type": "stream",
     "text": [
      "제주 아카데미성적 계산표\n",
      "   번호    이름     국어     수학     영어      총점      평균      학점\n",
      "    4   qwe  85.00  95.00  85.00  265.00   88.33     B\n",
      "\n",
      "    5 qweew  85.00  96.00  32.00  213.00   71.00     C\n",
      "\n",
      "    6  qwee  18.00  58.00  65.00  141.00   47.00     F\n",
      "\n"
     ]
    },
    {
     "name": "stdin",
     "output_type": "stream",
     "text": [
      "['입력(1), 출력(2),계산(3),검색(4),이름수정(5) , 이름삭제(6),정렬(7), 종료(8)'] 1\n",
      "이름을 입력하시오 :  asdfsdf\n",
      "국어 점수 :  321\n",
      "수학 점수 :  546\n",
      "영어 점수 :  25\n",
      "['입력(1), 출력(2),계산(3),검색(4),이름수정(5) , 이름삭제(6),정렬(7), 종료(8)'] 1\n",
      "이름을 입력하시오 :  qweew\n",
      "국어 점수 :  25\n",
      "수학 점수 :  659\n",
      "영어 점수 :  98\n",
      "['입력(1), 출력(2),계산(3),검색(4),이름수정(5) , 이름삭제(6),정렬(7), 종료(8)'] 2\n"
     ]
    },
    {
     "name": "stdout",
     "output_type": "stream",
     "text": [
      "제주 아카데미성적 계산표\n",
      "   번호    이름     국어     수학     영어      총점      평균      학점\n",
      "    4   qwe  85.00  95.00  85.00  265.00   88.33     B\n",
      "\n",
      "    5 qweew  85.00  96.00  32.00  213.00   71.00     C\n",
      "\n",
      "    6  qwee  18.00  58.00  65.00  141.00   47.00     F\n",
      "\n",
      "    7 asdfsdf 321.00 546.00  25.00    0.00    0.00      \n",
      "\n",
      "    8 qweew  25.00 659.00  98.00    0.00    0.00      \n",
      "\n"
     ]
    },
    {
     "name": "stdin",
     "output_type": "stream",
     "text": [
      "['입력(1), 출력(2),계산(3),검색(4),이름수정(5) , 이름삭제(6),정렬(7), 종료(8)'] 3\n"
     ]
    },
    {
     "name": "stdout",
     "output_type": "stream",
     "text": [
      "계산이 완료 되었습니다. - 확인하려면 출력해보세요\n"
     ]
    },
    {
     "name": "stdin",
     "output_type": "stream",
     "text": [
      "['입력(1), 출력(2),계산(3),검색(4),이름수정(5) , 이름삭제(6),정렬(7), 종료(8)'] 2\n"
     ]
    },
    {
     "name": "stdout",
     "output_type": "stream",
     "text": [
      "제주 아카데미성적 계산표\n",
      "   번호    이름     국어     수학     영어      총점      평균      학점\n",
      "    4   qwe  85.00  95.00  85.00  265.00   88.33     B\n",
      "\n",
      "    5 qweew  85.00  96.00  32.00  213.00   71.00     C\n",
      "\n",
      "    6  qwee  18.00  58.00  65.00  141.00   47.00     F\n",
      "\n",
      "    7 asdfsdf 321.00 546.00  25.00  892.00  297.33     A\n",
      "\n",
      "    8 qweew  25.00 659.00  98.00  782.00  260.67     A\n",
      "\n"
     ]
    },
    {
     "name": "stdin",
     "output_type": "stream",
     "text": [
      "['입력(1), 출력(2),계산(3),검색(4),이름수정(5) , 이름삭제(6),정렬(7), 종료(8)'] 7\n",
      "['입력(1), 출력(2),계산(3),검색(4),이름수정(5) , 이름삭제(6),정렬(7), 종료(8)'] 2\n"
     ]
    },
    {
     "name": "stdout",
     "output_type": "stream",
     "text": [
      "제주 아카데미성적 계산표\n",
      "   번호    이름     국어     수학     영어      총점      평균      학점\n",
      "    7 asdfsdf 321.00 546.00  25.00  892.00  297.33     A\n",
      "\n",
      "    8 qweew  25.00 659.00  98.00  782.00  260.67     A\n",
      "\n",
      "    4   qwe  85.00  95.00  85.00  265.00   88.33     B\n",
      "\n",
      "    5 qweew  85.00  96.00  32.00  213.00   71.00     C\n",
      "\n",
      "    6  qwee  18.00  58.00  65.00  141.00   47.00     F\n",
      "\n"
     ]
    }
   ],
   "source": [
    "sj = [\"번호\", \"이름\",\"국어\", \"수학\",\"영어\",\"총점\",\"평균\",\"학점\"]\n",
    "menu = [\"입력(1), 출력(2),계산(3),검색(4),이름수정(5) , 이름삭제(6),정렬(7), 종료(8)\"]\n",
    "# 정렬을 총점으로 정렬\n",
    "man_sung = Management(1)\n",
    "while 1:\n",
    "    sel = input(menu)\n",
    "    if sel == \"1\":\n",
    "        man_sung.input()\n",
    "        continue\n",
    "    elif sel == \"2\":\n",
    "        print(Management.schoolname + \"성적 계산표\")\n",
    "        print('%5s %5s %6s %6s %6s %7s %7s %7s' % ('번호','이름','국어','수학','영어','총점','평균','학점'))\n",
    "        man_sung.print_sungjuk()\n",
    "        continue\n",
    "    elif sel == \"3\":\n",
    "        man_sung.calc_sungjuk()\n",
    "        print(\"계산이 완료 되었습니다. - 확인하려면 출력해보세요\")\n",
    "        continue\n",
    "    elif sel == \"4\":\n",
    "        man_sung.search_name()\n",
    "        continue\n",
    "    elif sel == \"5\":\n",
    "        man_sung.research_name()\n",
    "        continue\n",
    "    elif sel == \"6\":\n",
    "        man_sung.del_name()\n",
    "        continue\n",
    "    elif sel == \"7\":\n",
    "        man_sung.sort_aver()\n",
    "        continue\n",
    "    elif sel == \"8\":\n",
    "        break\n",
    "    else:\n",
    "        print(\" 잘못된 입력입니다. 다시입력하세요. \")\n",
    "        continue"
   ]
  },
  {
   "cell_type": "code",
   "execution_count": null,
   "metadata": {},
   "outputs": [],
   "source": []
  }
 ],
 "metadata": {
  "kernelspec": {
   "display_name": "Python 3",
   "language": "python",
   "name": "python3"
  },
  "language_info": {
   "codemirror_mode": {
    "name": "ipython",
    "version": 3
   },
   "file_extension": ".py",
   "mimetype": "text/x-python",
   "name": "python",
   "nbconvert_exporter": "python",
   "pygments_lexer": "ipython3",
   "version": "3.7.4"
  }
 },
 "nbformat": 4,
 "nbformat_minor": 4
}
