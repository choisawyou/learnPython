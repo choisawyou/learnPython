{
 "cells": [
  {
   "cell_type": "markdown",
   "metadata": {},
   "source": [
    "# keras\n",
    " 라자냐랑 비슷 \n",
    "- keras의 기본아이디어는 모델의 층들과 그것들의 입력과 출력에 있다\n",
    "\n",
    "- 모델 구축하기\n",
    "    - 1. 입력/출력 데이터 준비\n",
    "    - 2. 첫번째 층을 생성하고 입력데이터에 맞게 설정해줌\n",
    "    - 3. 마지막층을 생성하고 출력데이터에 맞게 설정해줌\n",
    "    - 4. 입력층과 출력층 사이에 원하는 레이어를 생성해줌\n",
    "    \n",
    "[층 layer]\n",
    "- keras는 미리 구현되어잇는 다양한 층들을 제공해준다\n",
    "\n",
    "- 다층 퍼셉트론에서 사용되는 dense 층\n",
    "    - dense: 쌓여져있는 층에 dense를 쌓으면 fully connected 연결이 생김/ 같은 층 사이에도 연결이 있음\n",
    "\n",
    "- 재현층 lstm gru etc\n",
    "    - 재현층 \n",
    "\n",
    "[절차]\n",
    "- 1. 모듈 읽어들이기\n",
    "- 2. 데이터 가공\n",
    "- 3. 모델 만들기\n",
    "- 4. 학습시키기\n",
    "- 5. 예측하기\n",
    "- 6. 정답률 구하기\n",
    "\n",
    "\n",
    "- "
   ]
  },
  {
   "cell_type": "markdown",
   "metadata": {},
   "source": [
    "# BMI 구하기\n"
   ]
  },
  {
   "cell_type": "markdown",
   "metadata": {},
   "source": [
    "## 모듈 읽어들이기 "
   ]
  },
  {
   "cell_type": "code",
   "execution_count": null,
   "metadata": {},
   "outputs": [],
   "source": [
    "#conda install keras\n",
    "\n",
    "from  keras.models import Sequential\n",
    "from keras.layers.core import Dense, Dropout , Activation\n",
    "from keras.callbacks import EarlyStopping\n",
    "import pandas as pd, numpy as np"
   ]
  },
  {
   "cell_type": "markdown",
   "metadata": {},
   "source": [
    "## 데이터 가공"
   ]
  },
  {
   "cell_type": "markdown",
   "metadata": {},
   "source": [
    "[<키>,<몸무게>],\n",
    "[<키>,<몸무게>],\n",
    "[<키>,<몸무게>], => 이렇게 생긴 list를 사용_ 무조건 numpy 배열식이여야함\n",
    "\n",
    "- 이 데이터들을 THIN / NORMAL / FAT 으로 나누겠다\n",
    "- 여기서 THIN /NORAML /FAT 은 LABEL이다 \n",
    "- 데이터와 label의 개수는 같아야함\n",
    "- label 또한 numpy 배열로 만들기 위해서 아래와 간은 형식으로 바꿔줘야함 \n",
    "    - thin [1,0,0]\n",
    "    - normal [0,1,0]\n",
    "    - fat [0,0,1]\n",
    "    \n",
    "- 키와 몸무게는 0~1사이값으로 바꿔줌 => 정규화 필요 \n",
    "    - 키는 200으로 나누고 몸무게는 100으로 나누기로함 \n",
    "        - 이상치가 있다면 문제발생(키가 200이 넘거나 몸무게가 100이 넘는다면!\n",
    " "
   ]
  },
  {
   "cell_type": "code",
   "execution_count": null,
   "metadata": {
    "scrolled": false
   },
   "outputs": [],
   "source": [
    "#데이터 불러오기\n",
    "csv = pd.read_csv('bmi.csv')\n",
    "\n",
    "#정규화 \n",
    "csv['weight']/= 100\n",
    "csv[\"height\"]/= 200\n",
    "\n",
    "#label 변환\n",
    "\n",
    "bmi_class ={'thin':[1,0,0],\n",
    "            'normal':[0,1,0],\n",
    "            'fat':[0,0,1]}\n",
    "#label_ 빈녀석을 이만개 , 각각으 ㅣ것에 list 세개가 들어갈 수 있는 공간 만들어주기\n",
    "y =  np.empty((20000,3))\n",
    "    \n",
    "    #[0,0,0]\n",
    "    #[0,0,0]\n",
    "    #[0,0,0]\n",
    "    #...\n",
    "    \n",
    "for i, v in enumerate(csv['label']):\n",
    "    y[i]=bmi_class[v] #csv labeㅣ 가져오기\n",
    "     # y의 i번째  bmi class에 v를 넣어서 변환\n",
    "    \n",
    "#print(y[0:3])\n",
    "x= csv[['weight','height']].as_matrix()\n",
    "\n",
    "x_train,y_train = x[2:6],y[2:6]\n",
    "\n",
    "x_test,y_Test = x[7:11],y[7:11]\n",
    "    \n",
    "    "
   ]
  },
  {
   "cell_type": "markdown",
   "metadata": {},
   "source": [
    "## 모델만들기\n",
    "\n",
    "- compile(self,optimizer,loss,me trics = None, sample_weight_mode = None)\n",
    "    - optimizer : 여러가지 최적화 도구가 있다 \n",
    "        -rmsprop사용\n",
    "    - loss   :  categorical eb=ntropy \n",
    "    - metrics를 사용해야 train,test때 evaluate가 정확해진다 "
   ]
  },
  {
   "cell_type": "code",
   "execution_count": null,
   "metadata": {},
   "outputs": [],
   "source": []
  },
  {
   "cell_type": "code",
   "execution_count": null,
   "metadata": {},
   "outputs": [],
   "source": [
    "model = Sequential()\n",
    "#내부적으로 레이어 생성 후에 컴파일 호출 후 모델만듬\n",
    "\n",
    "model.add(Activation('relu'))\n",
    "model.add(Dropout(0.1))\n",
    "model.add(Dense(512))\n",
    "model.add(Activation('relu'))\n",
    "model.add(Dropout(0.1))\n",
    "model.add(Dense(3))\n",
    "model.add(Activation('softmax'))\n",
    "\n",
    "model.compile('rmsprop','categorical_crossentropy',metrics=['accuracy'])  #레이어 형성\n"
   ]
  },
  {
   "cell_type": "markdown",
   "metadata": {},
   "source": [
    "## 학습시키기"
   ]
  },
  {
   "cell_type": "code",
   "execution_count": null,
   "metadata": {},
   "outputs": [],
   "source": [
    "# 첫번째 try _매개변수 없이\n",
    "modle.fit(x_train,y_train) "
   ]
  },
  {
   "cell_type": "code",
   "execution_count": null,
   "metadata": {},
   "outputs": [],
   "source": [
    "#정답률을 올리기 위해서  매개변수 더줌 \n",
    "\n",
    "modle.fit(x_train,y_train,batch_size =100,nb_epoch=20,\n",
    "          validation_split=0.1,\n",
    "          callbacks=[EarlyStopping(monitor='val_loss',patience=2)],\n",
    "          verbose=1) "
   ]
  },
  {
   "cell_type": "markdown",
   "metadata": {},
   "source": [
    "## 예측 후 "
   ]
  },
  {
   "cell_type": "code",
   "execution_count": null,
   "metadata": {},
   "outputs": [],
   "source": [
    "model.predict()"
   ]
  },
  {
   "cell_type": "markdown",
   "metadata": {},
   "source": [
    "## 정답률 구하기"
   ]
  },
  {
   "cell_type": "code",
   "execution_count": null,
   "metadata": {},
   "outputs": [],
   "source": [
    "score =model.evaluate(x,test,y_test)\n",
    "#score 는 list형\n",
    "print('score loss:',score[0]) \n",
    "print('score accuracy',score[1])\n",
    "\n",
    "\n"
   ]
  },
  {
   "cell_type": "code",
   "execution_count": null,
   "metadata": {},
   "outputs": [],
   "source": []
  },
  {
   "cell_type": "code",
   "execution_count": null,
   "metadata": {},
   "outputs": [],
   "source": []
  },
  {
   "cell_type": "code",
   "execution_count": null,
   "metadata": {},
   "outputs": [],
   "source": []
  }
 ],
 "metadata": {
  "kernelspec": {
   "display_name": "Python 3",
   "language": "python",
   "name": "python3"
  },
  "language_info": {
   "codemirror_mode": {
    "name": "ipython",
    "version": 3
   },
   "file_extension": ".py",
   "mimetype": "text/x-python",
   "name": "python",
   "nbconvert_exporter": "python",
   "pygments_lexer": "ipython3",
   "version": "3.7.6"
  },
  "toc": {
   "base_numbering": 1,
   "nav_menu": {},
   "number_sections": true,
   "sideBar": true,
   "skip_h1_title": false,
   "title_cell": "Table of Contents",
   "title_sidebar": "Contents",
   "toc_cell": false,
   "toc_position": {},
   "toc_section_display": true,
   "toc_window_display": true
  }
 },
 "nbformat": 4,
 "nbformat_minor": 2
}
