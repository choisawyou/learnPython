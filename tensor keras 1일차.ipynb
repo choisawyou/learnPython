{
 "cells": [
  {
   "cell_type": "code",
   "execution_count": 1,
   "metadata": {},
   "outputs": [
    {
     "name": "stderr",
     "output_type": "stream",
     "text": [
      "Using TensorFlow backend.\n",
      "C:\\Users\\ICT01_14\\.conda\\envs\\tf_test\\lib\\site-packages\\tensorflow\\python\\framework\\dtypes.py:516: FutureWarning: Passing (type, 1) or '1type' as a synonym of type is deprecated; in a future version of numpy, it will be understood as (type, (1,)) / '(1,)type'.\n",
      "  _np_qint8 = np.dtype([(\"qint8\", np.int8, 1)])\n",
      "C:\\Users\\ICT01_14\\.conda\\envs\\tf_test\\lib\\site-packages\\tensorflow\\python\\framework\\dtypes.py:517: FutureWarning: Passing (type, 1) or '1type' as a synonym of type is deprecated; in a future version of numpy, it will be understood as (type, (1,)) / '(1,)type'.\n",
      "  _np_quint8 = np.dtype([(\"quint8\", np.uint8, 1)])\n",
      "C:\\Users\\ICT01_14\\.conda\\envs\\tf_test\\lib\\site-packages\\tensorflow\\python\\framework\\dtypes.py:518: FutureWarning: Passing (type, 1) or '1type' as a synonym of type is deprecated; in a future version of numpy, it will be understood as (type, (1,)) / '(1,)type'.\n",
      "  _np_qint16 = np.dtype([(\"qint16\", np.int16, 1)])\n",
      "C:\\Users\\ICT01_14\\.conda\\envs\\tf_test\\lib\\site-packages\\tensorflow\\python\\framework\\dtypes.py:519: FutureWarning: Passing (type, 1) or '1type' as a synonym of type is deprecated; in a future version of numpy, it will be understood as (type, (1,)) / '(1,)type'.\n",
      "  _np_quint16 = np.dtype([(\"quint16\", np.uint16, 1)])\n",
      "C:\\Users\\ICT01_14\\.conda\\envs\\tf_test\\lib\\site-packages\\tensorflow\\python\\framework\\dtypes.py:520: FutureWarning: Passing (type, 1) or '1type' as a synonym of type is deprecated; in a future version of numpy, it will be understood as (type, (1,)) / '(1,)type'.\n",
      "  _np_qint32 = np.dtype([(\"qint32\", np.int32, 1)])\n",
      "C:\\Users\\ICT01_14\\.conda\\envs\\tf_test\\lib\\site-packages\\tensorflow\\python\\framework\\dtypes.py:525: FutureWarning: Passing (type, 1) or '1type' as a synonym of type is deprecated; in a future version of numpy, it will be understood as (type, (1,)) / '(1,)type'.\n",
      "  np_resource = np.dtype([(\"resource\", np.ubyte, 1)])\n",
      "C:\\Users\\ICT01_14\\.conda\\envs\\tf_test\\lib\\site-packages\\tensorboard\\compat\\tensorflow_stub\\dtypes.py:541: FutureWarning: Passing (type, 1) or '1type' as a synonym of type is deprecated; in a future version of numpy, it will be understood as (type, (1,)) / '(1,)type'.\n",
      "  _np_qint8 = np.dtype([(\"qint8\", np.int8, 1)])\n",
      "C:\\Users\\ICT01_14\\.conda\\envs\\tf_test\\lib\\site-packages\\tensorboard\\compat\\tensorflow_stub\\dtypes.py:542: FutureWarning: Passing (type, 1) or '1type' as a synonym of type is deprecated; in a future version of numpy, it will be understood as (type, (1,)) / '(1,)type'.\n",
      "  _np_quint8 = np.dtype([(\"quint8\", np.uint8, 1)])\n",
      "C:\\Users\\ICT01_14\\.conda\\envs\\tf_test\\lib\\site-packages\\tensorboard\\compat\\tensorflow_stub\\dtypes.py:543: FutureWarning: Passing (type, 1) or '1type' as a synonym of type is deprecated; in a future version of numpy, it will be understood as (type, (1,)) / '(1,)type'.\n",
      "  _np_qint16 = np.dtype([(\"qint16\", np.int16, 1)])\n",
      "C:\\Users\\ICT01_14\\.conda\\envs\\tf_test\\lib\\site-packages\\tensorboard\\compat\\tensorflow_stub\\dtypes.py:544: FutureWarning: Passing (type, 1) or '1type' as a synonym of type is deprecated; in a future version of numpy, it will be understood as (type, (1,)) / '(1,)type'.\n",
      "  _np_quint16 = np.dtype([(\"quint16\", np.uint16, 1)])\n",
      "C:\\Users\\ICT01_14\\.conda\\envs\\tf_test\\lib\\site-packages\\tensorboard\\compat\\tensorflow_stub\\dtypes.py:545: FutureWarning: Passing (type, 1) or '1type' as a synonym of type is deprecated; in a future version of numpy, it will be understood as (type, (1,)) / '(1,)type'.\n",
      "  _np_qint32 = np.dtype([(\"qint32\", np.int32, 1)])\n",
      "C:\\Users\\ICT01_14\\.conda\\envs\\tf_test\\lib\\site-packages\\tensorboard\\compat\\tensorflow_stub\\dtypes.py:550: FutureWarning: Passing (type, 1) or '1type' as a synonym of type is deprecated; in a future version of numpy, it will be understood as (type, (1,)) / '(1,)type'.\n",
      "  np_resource = np.dtype([(\"resource\", np.ubyte, 1)])\n"
     ]
    },
    {
     "name": "stdout",
     "output_type": "stream",
     "text": [
      "WARNING:tensorflow:From C:\\Users\\ICT01_14\\.conda\\envs\\tf_test\\lib\\site-packages\\keras\\backend\\tensorflow_backend.py:422: The name tf.global_variables is deprecated. Please use tf.compat.v1.global_variables instead.\n",
      "\n",
      "입력데이터=[0.29466096 0.30317302], 예측결과=[0.17313978]\n",
      "입력데이터=[0.39445118 0.79390858], 예측결과=[0.7445744]\n",
      "입력데이터=[0.02884127 0.6208843 ], 예측결과=[0.40292606]\n"
     ]
    }
   ],
   "source": [
    "from keras.models import Sequential\n",
    "from keras.layers import Dense # layers -> 모델구성\n",
    "from sklearn.datasets import make_regression\n",
    "# 신경망에서는 정규화가 우선임\n",
    "from sklearn.preprocessing import MinMaxScaler\n",
    "X,y = make_regression(n_samples=100, n_features=2,noise=0.1,random_state=1)\n",
    "scalarX, scalarY = MinMaxScaler(), MinMaxScaler()\n",
    "scalarX.fit(X)\n",
    "scalarY.fit(y.reshape(100,1))\n",
    "X = scalarX.transform(X)\n",
    "y = scalarY.transform(y.reshape(100,1))\n",
    "# keras 모델\n",
    "model = Sequential()\n",
    "# 100*2 출력차수지정, 2*4 -> 100*4\n",
    "# layer depth\n",
    "# Dense는 FFNN망을 구성할때 씀\n",
    "model.add(Dense(4, input_dim=2, activation='relu'))\n",
    "# 100*4 / 4*4 / 100*4\n",
    "model.add(Dense(4, activation='relu'))\n",
    "# 100*4 / 4*1 / 100*1 예측\n",
    "model.add(Dense(1, activation='linear'))\n",
    "# backend = tensorflow\n",
    "# loss 에 mse, cross enthropy, KL-divergence : 분포를 비교\n",
    "model.compile(loss='mse', optimizer='adam') # tensorflow 모델을변환\n",
    "model.fit(X,y, epochs=1000, verbose=0)\n",
    "Xnew, a = make_regression(n_samples=3, n_features=2, noise=0.1,random_state=1)\n",
    "Xnew = scalarX.transform(Xnew)\n",
    "ynew = model.predict(Xnew)\n",
    "for i in range(len(Xnew)):\n",
    "    print(\"입력데이터=%s, 예측결과=%s\"%(Xnew[i], ynew[i]))"
   ]
  },
  {
   "cell_type": "code",
   "execution_count": 2,
   "metadata": {
    "jupyter": {
     "outputs_hidden": true
    }
   },
   "outputs": [
    {
     "name": "stdout",
     "output_type": "stream",
     "text": [
      "WARNING:tensorflow:From C:\\Users\\ICT01_14\\.conda\\envs\\tf_test\\lib\\site-packages\\tensorflow\\python\\ops\\nn_impl.py:180: add_dispatch_support.<locals>.wrapper (from tensorflow.python.ops.array_ops) is deprecated and will be removed in a future version.\n",
      "Instructions for updating:\n",
      "Use tf.where in 2.0, which has the same broadcast rule as np.where\n",
      "Train on 514 samples, validate on 254 samples\n",
      "Epoch 1/150\n",
      "514/514 [==============================] - 0s 726us/step - loss: 0.6796 - accuracy: 0.6401 - val_loss: 0.6586 - val_accuracy: 0.6732\n",
      "Epoch 2/150\n",
      "514/514 [==============================] - 0s 153us/step - loss: 0.6688 - accuracy: 0.6401 - val_loss: 0.6534 - val_accuracy: 0.6732\n",
      "Epoch 3/150\n",
      "514/514 [==============================] - 0s 165us/step - loss: 0.6617 - accuracy: 0.6401 - val_loss: 0.6514 - val_accuracy: 0.6732\n",
      "Epoch 4/150\n",
      "514/514 [==============================] - 0s 122us/step - loss: 0.6546 - accuracy: 0.6401 - val_loss: 0.6454 - val_accuracy: 0.6890\n",
      "Epoch 5/150\n",
      "514/514 [==============================] - 0s 120us/step - loss: 0.6456 - accuracy: 0.6420 - val_loss: 0.6362 - val_accuracy: 0.7047\n",
      "Epoch 6/150\n",
      "514/514 [==============================] - 0s 109us/step - loss: 0.6387 - accuracy: 0.6459 - val_loss: 0.6237 - val_accuracy: 0.6929\n",
      "Epoch 7/150\n",
      "514/514 [==============================] - 0s 109us/step - loss: 0.6317 - accuracy: 0.6576 - val_loss: 0.6158 - val_accuracy: 0.6890\n",
      "Epoch 8/150\n",
      "514/514 [==============================] - 0s 109us/step - loss: 0.6219 - accuracy: 0.6693 - val_loss: 0.6043 - val_accuracy: 0.6732\n",
      "Epoch 9/150\n",
      "514/514 [==============================] - 0s 113us/step - loss: 0.6165 - accuracy: 0.6654 - val_loss: 0.6042 - val_accuracy: 0.6850\n",
      "Epoch 10/150\n",
      "514/514 [==============================] - 0s 107us/step - loss: 0.6079 - accuracy: 0.7004 - val_loss: 0.5925 - val_accuracy: 0.6890\n",
      "Epoch 11/150\n",
      "514/514 [==============================] - 0s 109us/step - loss: 0.6028 - accuracy: 0.7101 - val_loss: 0.6090 - val_accuracy: 0.7047\n",
      "Epoch 12/150\n",
      "514/514 [==============================] - 0s 118us/step - loss: 0.6052 - accuracy: 0.6868 - val_loss: 0.5800 - val_accuracy: 0.7283\n",
      "Epoch 13/150\n",
      "514/514 [==============================] - 0s 120us/step - loss: 0.6007 - accuracy: 0.6984 - val_loss: 0.5818 - val_accuracy: 0.6969\n",
      "Epoch 14/150\n",
      "514/514 [==============================] - 0s 103us/step - loss: 0.5878 - accuracy: 0.7140 - val_loss: 0.5718 - val_accuracy: 0.7205\n",
      "Epoch 15/150\n",
      "514/514 [==============================] - 0s 103us/step - loss: 0.5845 - accuracy: 0.7257 - val_loss: 0.5787 - val_accuracy: 0.7047\n",
      "Epoch 16/150\n",
      "514/514 [==============================] - 0s 111us/step - loss: 0.5921 - accuracy: 0.7004 - val_loss: 0.5725 - val_accuracy: 0.7047\n",
      "Epoch 17/150\n",
      "514/514 [==============================] - 0s 107us/step - loss: 0.5840 - accuracy: 0.7082 - val_loss: 0.5658 - val_accuracy: 0.7244\n",
      "Epoch 18/150\n",
      "514/514 [==============================] - 0s 97us/step - loss: 0.5823 - accuracy: 0.7062 - val_loss: 0.5700 - val_accuracy: 0.7165\n",
      "Epoch 19/150\n",
      "514/514 [==============================] - 0s 93us/step - loss: 0.5833 - accuracy: 0.7023 - val_loss: 0.5710 - val_accuracy: 0.7087\n",
      "Epoch 20/150\n",
      "514/514 [==============================] - 0s 105us/step - loss: 0.5786 - accuracy: 0.7004 - val_loss: 0.5683 - val_accuracy: 0.7126\n",
      "Epoch 21/150\n",
      "514/514 [==============================] - 0s 107us/step - loss: 0.5743 - accuracy: 0.7179 - val_loss: 0.5769 - val_accuracy: 0.7165\n",
      "Epoch 22/150\n",
      "514/514 [==============================] - 0s 113us/step - loss: 0.5698 - accuracy: 0.7276 - val_loss: 0.5671 - val_accuracy: 0.7047\n",
      "Epoch 23/150\n",
      "514/514 [==============================] - 0s 116us/step - loss: 0.5750 - accuracy: 0.7004 - val_loss: 0.5665 - val_accuracy: 0.7047\n",
      "Epoch 24/150\n",
      "514/514 [==============================] - 0s 107us/step - loss: 0.5591 - accuracy: 0.7237 - val_loss: 0.5639 - val_accuracy: 0.7126\n",
      "Epoch 25/150\n",
      "514/514 [==============================] - 0s 107us/step - loss: 0.5661 - accuracy: 0.7198 - val_loss: 0.5578 - val_accuracy: 0.7165\n",
      "Epoch 26/150\n",
      "514/514 [==============================] - 0s 114us/step - loss: 0.5619 - accuracy: 0.7296 - val_loss: 0.5620 - val_accuracy: 0.7205\n",
      "Epoch 27/150\n",
      "514/514 [==============================] - 0s 111us/step - loss: 0.5602 - accuracy: 0.7315 - val_loss: 0.5643 - val_accuracy: 0.7047\n",
      "Epoch 28/150\n",
      "514/514 [==============================] - 0s 126us/step - loss: 0.5579 - accuracy: 0.7315 - val_loss: 0.6189 - val_accuracy: 0.5945\n",
      "Epoch 29/150\n",
      "514/514 [==============================] - 0s 140us/step - loss: 0.5579 - accuracy: 0.7140 - val_loss: 0.5821 - val_accuracy: 0.7205\n",
      "Epoch 30/150\n",
      "514/514 [==============================] - 0s 122us/step - loss: 0.5556 - accuracy: 0.7218 - val_loss: 0.5737 - val_accuracy: 0.7244\n",
      "Epoch 31/150\n",
      "514/514 [==============================] - 0s 111us/step - loss: 0.5520 - accuracy: 0.7237 - val_loss: 0.5710 - val_accuracy: 0.7126\n",
      "Epoch 32/150\n",
      "514/514 [==============================] - 0s 107us/step - loss: 0.5586 - accuracy: 0.7296 - val_loss: 0.5903 - val_accuracy: 0.6969\n",
      "Epoch 33/150\n",
      "514/514 [==============================] - 0s 109us/step - loss: 0.5809 - accuracy: 0.7179 - val_loss: 0.5948 - val_accuracy: 0.7205\n",
      "Epoch 34/150\n",
      "514/514 [==============================] - 0s 155us/step - loss: 0.5521 - accuracy: 0.7218 - val_loss: 0.5664 - val_accuracy: 0.6969\n",
      "Epoch 35/150\n",
      "514/514 [==============================] - 0s 122us/step - loss: 0.5456 - accuracy: 0.7335 - val_loss: 0.5649 - val_accuracy: 0.7283\n",
      "Epoch 36/150\n",
      "514/514 [==============================] - 0s 111us/step - loss: 0.5520 - accuracy: 0.7237 - val_loss: 0.5691 - val_accuracy: 0.7047\n",
      "Epoch 37/150\n",
      "514/514 [==============================] - 0s 113us/step - loss: 0.5463 - accuracy: 0.7237 - val_loss: 0.5696 - val_accuracy: 0.7283\n",
      "Epoch 38/150\n",
      "514/514 [==============================] - 0s 118us/step - loss: 0.5447 - accuracy: 0.7451 - val_loss: 0.5551 - val_accuracy: 0.7323\n",
      "Epoch 39/150\n",
      "514/514 [==============================] - 0s 115us/step - loss: 0.5514 - accuracy: 0.7179 - val_loss: 0.5605 - val_accuracy: 0.7205\n",
      "Epoch 40/150\n",
      "514/514 [==============================] - 0s 115us/step - loss: 0.5476 - accuracy: 0.7432 - val_loss: 0.5639 - val_accuracy: 0.7165\n",
      "Epoch 41/150\n",
      "514/514 [==============================] - 0s 114us/step - loss: 0.5430 - accuracy: 0.7374 - val_loss: 0.5588 - val_accuracy: 0.7165\n",
      "Epoch 42/150\n",
      "514/514 [==============================] - 0s 111us/step - loss: 0.5466 - accuracy: 0.7354 - val_loss: 0.5905 - val_accuracy: 0.7087\n",
      "Epoch 43/150\n",
      "514/514 [==============================] - 0s 115us/step - loss: 0.5454 - accuracy: 0.7412 - val_loss: 0.5660 - val_accuracy: 0.7165\n",
      "Epoch 44/150\n",
      "514/514 [==============================] - 0s 109us/step - loss: 0.5456 - accuracy: 0.7374 - val_loss: 0.5660 - val_accuracy: 0.7008\n",
      "Epoch 45/150\n",
      "514/514 [==============================] - 0s 103us/step - loss: 0.5349 - accuracy: 0.7374 - val_loss: 0.5854 - val_accuracy: 0.6693\n",
      "Epoch 46/150\n",
      "514/514 [==============================] - 0s 120us/step - loss: 0.5501 - accuracy: 0.7140 - val_loss: 0.5751 - val_accuracy: 0.7165\n",
      "Epoch 47/150\n",
      "514/514 [==============================] - 0s 113us/step - loss: 0.5495 - accuracy: 0.7237 - val_loss: 0.5636 - val_accuracy: 0.7323\n",
      "Epoch 48/150\n",
      "514/514 [==============================] - 0s 115us/step - loss: 0.5399 - accuracy: 0.7296 - val_loss: 0.5602 - val_accuracy: 0.7283\n",
      "Epoch 49/150\n",
      "514/514 [==============================] - 0s 126us/step - loss: 0.5390 - accuracy: 0.7490 - val_loss: 0.5595 - val_accuracy: 0.6890\n",
      "Epoch 50/150\n",
      "514/514 [==============================] - ETA: 0s - loss: 0.6117 - accuracy: 0.60 - 0s 111us/step - loss: 0.5401 - accuracy: 0.7374 - val_loss: 0.5685 - val_accuracy: 0.7008\n",
      "Epoch 51/150\n",
      "514/514 [==============================] - 0s 111us/step - loss: 0.5329 - accuracy: 0.7412 - val_loss: 0.5538 - val_accuracy: 0.7323\n",
      "Epoch 52/150\n",
      "514/514 [==============================] - 0s 105us/step - loss: 0.5384 - accuracy: 0.7490 - val_loss: 0.5630 - val_accuracy: 0.7126\n",
      "Epoch 53/150\n",
      "514/514 [==============================] - 0s 111us/step - loss: 0.5342 - accuracy: 0.7490 - val_loss: 0.5473 - val_accuracy: 0.7441\n",
      "Epoch 54/150\n"
     ]
    },
    {
     "name": "stdout",
     "output_type": "stream",
     "text": [
      "514/514 [==============================] - 0s 109us/step - loss: 0.5322 - accuracy: 0.7296 - val_loss: 0.5517 - val_accuracy: 0.7441\n",
      "Epoch 55/150\n",
      "514/514 [==============================] - 0s 124us/step - loss: 0.5295 - accuracy: 0.7315 - val_loss: 0.5592 - val_accuracy: 0.7323\n",
      "Epoch 56/150\n",
      "514/514 [==============================] - 0s 117us/step - loss: 0.5399 - accuracy: 0.7276 - val_loss: 0.5556 - val_accuracy: 0.7283\n",
      "Epoch 57/150\n",
      "514/514 [==============================] - 0s 113us/step - loss: 0.5392 - accuracy: 0.7296 - val_loss: 0.5710 - val_accuracy: 0.7165\n",
      "Epoch 58/150\n",
      "514/514 [==============================] - 0s 144us/step - loss: 0.5300 - accuracy: 0.7354 - val_loss: 0.5658 - val_accuracy: 0.7205\n",
      "Epoch 59/150\n",
      "514/514 [==============================] - 0s 116us/step - loss: 0.5433 - accuracy: 0.7393 - val_loss: 0.5530 - val_accuracy: 0.7480\n",
      "Epoch 60/150\n",
      "514/514 [==============================] - 0s 109us/step - loss: 0.5351 - accuracy: 0.7257 - val_loss: 0.5549 - val_accuracy: 0.7323\n",
      "Epoch 61/150\n",
      "514/514 [==============================] - 0s 118us/step - loss: 0.5348 - accuracy: 0.7335 - val_loss: 0.5653 - val_accuracy: 0.7205\n",
      "Epoch 62/150\n",
      "514/514 [==============================] - 0s 113us/step - loss: 0.5349 - accuracy: 0.7276 - val_loss: 0.5516 - val_accuracy: 0.7323\n",
      "Epoch 63/150\n",
      "514/514 [==============================] - 0s 111us/step - loss: 0.5253 - accuracy: 0.7412 - val_loss: 0.5535 - val_accuracy: 0.7362\n",
      "Epoch 64/150\n",
      "514/514 [==============================] - 0s 109us/step - loss: 0.5309 - accuracy: 0.7451 - val_loss: 0.5526 - val_accuracy: 0.7362\n",
      "Epoch 65/150\n",
      "514/514 [==============================] - 0s 115us/step - loss: 0.5331 - accuracy: 0.7276 - val_loss: 0.5605 - val_accuracy: 0.7165\n",
      "Epoch 66/150\n",
      "514/514 [==============================] - 0s 109us/step - loss: 0.5361 - accuracy: 0.7237 - val_loss: 0.5404 - val_accuracy: 0.7480\n",
      "Epoch 67/150\n",
      "514/514 [==============================] - 0s 113us/step - loss: 0.5277 - accuracy: 0.7374 - val_loss: 0.5598 - val_accuracy: 0.7283\n",
      "Epoch 68/150\n",
      "514/514 [==============================] - 0s 107us/step - loss: 0.5314 - accuracy: 0.7354 - val_loss: 0.5625 - val_accuracy: 0.7323\n",
      "Epoch 69/150\n",
      "514/514 [==============================] - 0s 111us/step - loss: 0.5289 - accuracy: 0.7276 - val_loss: 0.5556 - val_accuracy: 0.7323\n",
      "Epoch 70/150\n",
      "514/514 [==============================] - 0s 126us/step - loss: 0.5328 - accuracy: 0.7451 - val_loss: 0.5436 - val_accuracy: 0.7362\n",
      "Epoch 71/150\n",
      "514/514 [==============================] - 0s 126us/step - loss: 0.5267 - accuracy: 0.7432 - val_loss: 0.5560 - val_accuracy: 0.7402\n",
      "Epoch 72/150\n",
      "514/514 [==============================] - 0s 114us/step - loss: 0.5269 - accuracy: 0.7393 - val_loss: 0.5389 - val_accuracy: 0.7598\n",
      "Epoch 73/150\n",
      "514/514 [==============================] - 0s 116us/step - loss: 0.5272 - accuracy: 0.7432 - val_loss: 0.5397 - val_accuracy: 0.7402\n",
      "Epoch 74/150\n",
      "514/514 [==============================] - 0s 113us/step - loss: 0.5220 - accuracy: 0.7374 - val_loss: 0.5482 - val_accuracy: 0.7559\n",
      "Epoch 75/150\n",
      "514/514 [==============================] - 0s 113us/step - loss: 0.5266 - accuracy: 0.7374 - val_loss: 0.5419 - val_accuracy: 0.7520\n",
      "Epoch 76/150\n",
      "514/514 [==============================] - 0s 109us/step - loss: 0.5207 - accuracy: 0.7451 - val_loss: 0.5384 - val_accuracy: 0.7362\n",
      "Epoch 77/150\n",
      "514/514 [==============================] - 0s 113us/step - loss: 0.5216 - accuracy: 0.7393 - val_loss: 0.5466 - val_accuracy: 0.7362\n",
      "Epoch 78/150\n",
      "514/514 [==============================] - 0s 107us/step - loss: 0.5190 - accuracy: 0.7490 - val_loss: 0.5366 - val_accuracy: 0.7756\n",
      "Epoch 79/150\n",
      "514/514 [==============================] - 0s 146us/step - loss: 0.5293 - accuracy: 0.7354 - val_loss: 0.5558 - val_accuracy: 0.7323\n",
      "Epoch 80/150\n",
      "514/514 [==============================] - 0s 136us/step - loss: 0.5218 - accuracy: 0.7451 - val_loss: 0.5438 - val_accuracy: 0.7441\n",
      "Epoch 81/150\n",
      "514/514 [==============================] - 0s 113us/step - loss: 0.5289 - accuracy: 0.7471 - val_loss: 0.5461 - val_accuracy: 0.7441\n",
      "Epoch 82/150\n",
      "514/514 [==============================] - 0s 107us/step - loss: 0.5203 - accuracy: 0.7315 - val_loss: 0.5363 - val_accuracy: 0.7717\n",
      "Epoch 83/150\n",
      "514/514 [==============================] - 0s 107us/step - loss: 0.5163 - accuracy: 0.7315 - val_loss: 0.5480 - val_accuracy: 0.7362\n",
      "Epoch 84/150\n",
      "514/514 [==============================] - 0s 109us/step - loss: 0.5279 - accuracy: 0.7490 - val_loss: 0.5377 - val_accuracy: 0.7756\n",
      "Epoch 85/150\n",
      "514/514 [==============================] - 0s 111us/step - loss: 0.5199 - accuracy: 0.7393 - val_loss: 0.5398 - val_accuracy: 0.7559\n",
      "Epoch 86/150\n",
      "514/514 [==============================] - 0s 115us/step - loss: 0.5162 - accuracy: 0.7335 - val_loss: 0.5389 - val_accuracy: 0.7598\n",
      "Epoch 87/150\n",
      "514/514 [==============================] - 0s 109us/step - loss: 0.5161 - accuracy: 0.7451 - val_loss: 0.5314 - val_accuracy: 0.7677\n",
      "Epoch 88/150\n",
      "514/514 [==============================] - 0s 114us/step - loss: 0.5162 - accuracy: 0.7490 - val_loss: 0.5403 - val_accuracy: 0.7402\n",
      "Epoch 89/150\n",
      "514/514 [==============================] - 0s 111us/step - loss: 0.5145 - accuracy: 0.7354 - val_loss: 0.5393 - val_accuracy: 0.7520\n",
      "Epoch 90/150\n",
      "514/514 [==============================] - 0s 118us/step - loss: 0.5174 - accuracy: 0.7412 - val_loss: 0.5429 - val_accuracy: 0.7402\n",
      "Epoch 91/150\n",
      "514/514 [==============================] - 0s 111us/step - loss: 0.5182 - accuracy: 0.7451 - val_loss: 0.5474 - val_accuracy: 0.7283\n",
      "Epoch 92/150\n",
      "514/514 [==============================] - 0s 107us/step - loss: 0.5255 - accuracy: 0.7412 - val_loss: 0.5370 - val_accuracy: 0.7598\n",
      "Epoch 93/150\n",
      "514/514 [==============================] - 0s 109us/step - loss: 0.5153 - accuracy: 0.7549 - val_loss: 0.5405 - val_accuracy: 0.7283\n",
      "Epoch 94/150\n",
      "514/514 [==============================] - 0s 109us/step - loss: 0.5174 - accuracy: 0.7432 - val_loss: 0.5337 - val_accuracy: 0.7598\n",
      "Epoch 95/150\n",
      "514/514 [==============================] - 0s 109us/step - loss: 0.5172 - accuracy: 0.7549 - val_loss: 0.5453 - val_accuracy: 0.7165\n",
      "Epoch 96/150\n",
      "514/514 [==============================] - 0s 114us/step - loss: 0.5211 - accuracy: 0.7412 - val_loss: 0.5357 - val_accuracy: 0.7717\n",
      "Epoch 97/150\n",
      "514/514 [==============================] - 0s 118us/step - loss: 0.5154 - accuracy: 0.7471 - val_loss: 0.5253 - val_accuracy: 0.7756\n",
      "Epoch 98/150\n",
      "514/514 [==============================] - 0s 109us/step - loss: 0.5204 - accuracy: 0.7393 - val_loss: 0.5464 - val_accuracy: 0.7362\n",
      "Epoch 99/150\n",
      "514/514 [==============================] - 0s 109us/step - loss: 0.5236 - accuracy: 0.7296 - val_loss: 0.5337 - val_accuracy: 0.7559\n",
      "Epoch 100/150\n",
      "514/514 [==============================] - 0s 122us/step - loss: 0.5134 - accuracy: 0.7354 - val_loss: 0.5265 - val_accuracy: 0.7677\n",
      "Epoch 101/150\n",
      "514/514 [==============================] - 0s 109us/step - loss: 0.5127 - accuracy: 0.7412 - val_loss: 0.5315 - val_accuracy: 0.7677\n",
      "Epoch 102/150\n",
      "514/514 [==============================] - 0s 107us/step - loss: 0.5062 - accuracy: 0.7549 - val_loss: 0.5223 - val_accuracy: 0.7677\n",
      "Epoch 103/150\n",
      "514/514 [==============================] - 0s 111us/step - loss: 0.5192 - accuracy: 0.7432 - val_loss: 0.5336 - val_accuracy: 0.7402\n",
      "Epoch 104/150\n",
      "514/514 [==============================] - 0s 112us/step - loss: 0.5122 - accuracy: 0.7374 - val_loss: 0.5235 - val_accuracy: 0.7638\n",
      "Epoch 105/150\n",
      "514/514 [==============================] - 0s 116us/step - loss: 0.5074 - accuracy: 0.7412 - val_loss: 0.5274 - val_accuracy: 0.7717\n",
      "Epoch 106/150\n",
      "514/514 [==============================] - 0s 109us/step - loss: 0.5140 - accuracy: 0.7354 - val_loss: 0.5222 - val_accuracy: 0.7677\n",
      "Epoch 107/150\n",
      "514/514 [==============================] - 0s 105us/step - loss: 0.5112 - accuracy: 0.7412 - val_loss: 0.5436 - val_accuracy: 0.7362\n",
      "Epoch 108/150\n",
      "514/514 [==============================] - 0s 103us/step - loss: 0.5195 - accuracy: 0.7549 - val_loss: 0.5316 - val_accuracy: 0.7520\n",
      "Epoch 109/150\n",
      "514/514 [==============================] - 0s 120us/step - loss: 0.5091 - accuracy: 0.7568 - val_loss: 0.5225 - val_accuracy: 0.7835\n",
      "Epoch 110/150\n"
     ]
    },
    {
     "name": "stdout",
     "output_type": "stream",
     "text": [
      "514/514 [==============================] - 0s 107us/step - loss: 0.5043 - accuracy: 0.7393 - val_loss: 0.5546 - val_accuracy: 0.7323\n",
      "Epoch 111/150\n",
      "514/514 [==============================] - 0s 111us/step - loss: 0.5166 - accuracy: 0.7335 - val_loss: 0.5307 - val_accuracy: 0.7559\n",
      "Epoch 112/150\n",
      "514/514 [==============================] - 0s 105us/step - loss: 0.5015 - accuracy: 0.7471 - val_loss: 0.5342 - val_accuracy: 0.7480\n",
      "Epoch 113/150\n",
      "514/514 [==============================] - 0s 111us/step - loss: 0.5063 - accuracy: 0.7412 - val_loss: 0.5252 - val_accuracy: 0.7677\n",
      "Epoch 114/150\n",
      "514/514 [==============================] - 0s 107us/step - loss: 0.4998 - accuracy: 0.7432 - val_loss: 0.5194 - val_accuracy: 0.7756\n",
      "Epoch 115/150\n",
      "514/514 [==============================] - 0s 107us/step - loss: 0.5023 - accuracy: 0.7412 - val_loss: 0.5193 - val_accuracy: 0.7756\n",
      "Epoch 116/150\n",
      "514/514 [==============================] - 0s 109us/step - loss: 0.5002 - accuracy: 0.7510 - val_loss: 0.5191 - val_accuracy: 0.7835\n",
      "Epoch 117/150\n",
      "514/514 [==============================] - 0s 105us/step - loss: 0.5088 - accuracy: 0.7393 - val_loss: 0.5416 - val_accuracy: 0.7480\n",
      "Epoch 118/150\n",
      "514/514 [==============================] - 0s 109us/step - loss: 0.4984 - accuracy: 0.7471 - val_loss: 0.5313 - val_accuracy: 0.7559\n",
      "Epoch 119/150\n",
      "514/514 [==============================] - 0s 107us/step - loss: 0.5111 - accuracy: 0.7471 - val_loss: 0.5224 - val_accuracy: 0.7717\n",
      "Epoch 120/150\n",
      "514/514 [==============================] - 0s 113us/step - loss: 0.4981 - accuracy: 0.7510 - val_loss: 0.5198 - val_accuracy: 0.7677\n",
      "Epoch 121/150\n",
      "514/514 [==============================] - 0s 107us/step - loss: 0.5015 - accuracy: 0.7471 - val_loss: 0.5282 - val_accuracy: 0.7559\n",
      "Epoch 122/150\n",
      "514/514 [==============================] - 0s 109us/step - loss: 0.5018 - accuracy: 0.7451 - val_loss: 0.5168 - val_accuracy: 0.7717\n",
      "Epoch 123/150\n",
      "514/514 [==============================] - 0s 109us/step - loss: 0.4973 - accuracy: 0.7393 - val_loss: 0.5287 - val_accuracy: 0.7480\n",
      "Epoch 124/150\n",
      "514/514 [==============================] - 0s 107us/step - loss: 0.5003 - accuracy: 0.7529 - val_loss: 0.5323 - val_accuracy: 0.7441\n",
      "Epoch 125/150\n",
      "514/514 [==============================] - 0s 107us/step - loss: 0.5021 - accuracy: 0.7490 - val_loss: 0.5287 - val_accuracy: 0.7717\n",
      "Epoch 126/150\n",
      "514/514 [==============================] - 0s 105us/step - loss: 0.4915 - accuracy: 0.7490 - val_loss: 0.5350 - val_accuracy: 0.7480\n",
      "Epoch 127/150\n",
      "514/514 [==============================] - 0s 105us/step - loss: 0.4915 - accuracy: 0.7529 - val_loss: 0.5235 - val_accuracy: 0.7598\n",
      "Epoch 128/150\n",
      "514/514 [==============================] - 0s 111us/step - loss: 0.4936 - accuracy: 0.7568 - val_loss: 0.5251 - val_accuracy: 0.7520\n",
      "Epoch 129/150\n",
      "514/514 [==============================] - 0s 109us/step - loss: 0.4978 - accuracy: 0.7393 - val_loss: 0.5125 - val_accuracy: 0.7677\n",
      "Epoch 130/150\n",
      "514/514 [==============================] - 0s 111us/step - loss: 0.4935 - accuracy: 0.7549 - val_loss: 0.5198 - val_accuracy: 0.7795\n",
      "Epoch 131/150\n",
      "514/514 [==============================] - 0s 107us/step - loss: 0.4928 - accuracy: 0.7471 - val_loss: 0.5221 - val_accuracy: 0.7441\n",
      "Epoch 132/150\n",
      "514/514 [==============================] - 0s 116us/step - loss: 0.4940 - accuracy: 0.7549 - val_loss: 0.5216 - val_accuracy: 0.7677\n",
      "Epoch 133/150\n",
      "514/514 [==============================] - 0s 111us/step - loss: 0.4956 - accuracy: 0.7626 - val_loss: 0.5177 - val_accuracy: 0.7874\n",
      "Epoch 134/150\n",
      "514/514 [==============================] - 0s 116us/step - loss: 0.4897 - accuracy: 0.7549 - val_loss: 0.5167 - val_accuracy: 0.7559\n",
      "Epoch 135/150\n",
      "514/514 [==============================] - 0s 107us/step - loss: 0.4841 - accuracy: 0.7432 - val_loss: 0.5176 - val_accuracy: 0.7874\n",
      "Epoch 136/150\n",
      "514/514 [==============================] - 0s 105us/step - loss: 0.4947 - accuracy: 0.7451 - val_loss: 0.5142 - val_accuracy: 0.7913\n",
      "Epoch 137/150\n",
      "514/514 [==============================] - 0s 111us/step - loss: 0.5046 - accuracy: 0.7393 - val_loss: 0.5153 - val_accuracy: 0.7717\n",
      "Epoch 138/150\n",
      "514/514 [==============================] - 0s 107us/step - loss: 0.4876 - accuracy: 0.7588 - val_loss: 0.5164 - val_accuracy: 0.7756\n",
      "Epoch 139/150\n",
      "514/514 [==============================] - 0s 109us/step - loss: 0.4937 - accuracy: 0.7471 - val_loss: 0.5128 - val_accuracy: 0.7795\n",
      "Epoch 140/150\n",
      "514/514 [==============================] - 0s 109us/step - loss: 0.4860 - accuracy: 0.7451 - val_loss: 0.5206 - val_accuracy: 0.7717\n",
      "Epoch 141/150\n",
      "514/514 [==============================] - 0s 109us/step - loss: 0.4890 - accuracy: 0.7490 - val_loss: 0.5092 - val_accuracy: 0.8031\n",
      "Epoch 142/150\n",
      "514/514 [==============================] - 0s 107us/step - loss: 0.4876 - accuracy: 0.7588 - val_loss: 0.5099 - val_accuracy: 0.7756\n",
      "Epoch 143/150\n",
      "514/514 [==============================] - 0s 105us/step - loss: 0.4933 - accuracy: 0.7471 - val_loss: 0.5082 - val_accuracy: 0.8031\n",
      "Epoch 144/150\n",
      "514/514 [==============================] - 0s 113us/step - loss: 0.4972 - accuracy: 0.7529 - val_loss: 0.5187 - val_accuracy: 0.7874\n",
      "Epoch 145/150\n",
      "514/514 [==============================] - 0s 107us/step - loss: 0.4901 - accuracy: 0.7471 - val_loss: 0.5097 - val_accuracy: 0.7953\n",
      "Epoch 146/150\n",
      "514/514 [==============================] - 0s 118us/step - loss: 0.4869 - accuracy: 0.7490 - val_loss: 0.5246 - val_accuracy: 0.7795\n",
      "Epoch 147/150\n",
      "514/514 [==============================] - 0s 103us/step - loss: 0.4835 - accuracy: 0.7568 - val_loss: 0.5100 - val_accuracy: 0.7756\n",
      "Epoch 148/150\n",
      "514/514 [==============================] - 0s 111us/step - loss: 0.4904 - accuracy: 0.7685 - val_loss: 0.5290 - val_accuracy: 0.7520\n",
      "Epoch 149/150\n",
      "514/514 [==============================] - 0s 118us/step - loss: 0.4786 - accuracy: 0.7685 - val_loss: 0.5107 - val_accuracy: 0.7756\n",
      "Epoch 150/150\n",
      "514/514 [==============================] - 0s 107us/step - loss: 0.4832 - accuracy: 0.7704 - val_loss: 0.5203 - val_accuracy: 0.7598\n",
      "768/768 [==============================] - 0s 13us/step\n",
      "\n",
      "accuracy: 76.82%\n"
     ]
    }
   ],
   "source": [
    "from keras.models import Sequential\n",
    "from keras.layers import Dense\n",
    "import numpy\n",
    "numpy.random.seed(7)\n",
    "dataset = numpy.loadtxt(\"pima.data\", delimiter=\",\")\n",
    "X = dataset[:,0:8] # 8개 독립변수\n",
    "Y = dataset[:,8] # 종속변수\n",
    "model = Sequential()\n",
    "# ? * 8 / 8*12 => ?*12\n",
    "model.add(Dense(12, input_dim=8,kernel_initializer='uniform', activation='relu'))\n",
    "# ?*12 / 12*8 -> ?*8\n",
    "model.add(Dense(8,kernel_initializer='uniform', activation='relu'))\n",
    "# ? * 8 / 8*1 -> ?*1 분류\n",
    "model.add(Dense(1,kernel_initializer='uniform', activation='sigmoid')) # 0.5\n",
    "model.compile(loss='binary_crossentropy', optimizer='adam', metrics=['accuracy'])\n",
    "# 데이터 분리입력 (train, test) :과적합 되는상황이나옴\n",
    "# train, validation, test\n",
    "history = model.fit(X,Y,validation_split=0.33 ,epochs=150, batch_size=10)\n",
    "scores = model.evaluate(X,Y)\n",
    "print(\"\\n%s: %.2f%%\"%(model.metrics_names[1], scores[1]*100))"
   ]
  },
  {
   "cell_type": "code",
   "execution_count": 3,
   "metadata": {},
   "outputs": [
    {
     "name": "stdout",
     "output_type": "stream",
     "text": [
      "dict_keys(['val_loss', 'val_accuracy', 'loss', 'accuracy'])\n"
     ]
    },
    {
     "data": {
      "image/png": "[encoded data removed]",
      "text/plain": [
       "<Figure size 432x288 with 1 Axes>"
      ]
     },
     "metadata": {
      "needs_background": "light"
     },
     "output_type": "display_data"
    }
   ],
   "source": [
    "import matplotlib.pyplot as plt\n",
    "print(history.history.keys())\n",
    "# loss, accuracy\n",
    "plt.plot(history.history['accuracy'])\n",
    "plt.plot(history.history['loss'])\n",
    "plt.show()"
   ]
  },
  {
   "cell_type": "code",
   "execution_count": 4,
   "metadata": {},
   "outputs": [
    {
     "data": {
      "image/png": "[encoded data removed]",
      "text/plain": [
       "<Figure size 432x288 with 1 Axes>"
      ]
     },
     "metadata": {
      "needs_background": "light"
     },
     "output_type": "display_data"
    }
   ],
   "source": [
    "plt.plot(history.history['val_accuracy'])\n",
    "plt.plot(history.history['val_loss'])\n",
    "plt.show()"
   ]
  },
  {
   "cell_type": "code",
   "execution_count": 5,
   "metadata": {},
   "outputs": [
    {
     "data": {
      "image/png": "[encoded data removed]",
      "text/plain": [
       "<Figure size 432x288 with 1 Axes>"
      ]
     },
     "metadata": {
      "needs_background": "light"
     },
     "output_type": "display_data"
    }
   ],
   "source": [
    "plt.plot(history.history['accuracy'])\n",
    "plt.plot(history.history['val_accuracy'])\n",
    "plt.title('accuracy')\n",
    "plt.ylabel('accuracy')\n",
    "plt.xlabel('epoch')\n",
    "plt.legend(['train','test'], loc='upper left')\n",
    "plt.show()"
   ]
  },
  {
   "cell_type": "code",
   "execution_count": 6,
   "metadata": {},
   "outputs": [
    {
     "data": {
      "image/png": "[encoded data removed]",
      "text/plain": [
       "<Figure size 432x288 with 1 Axes>"
      ]
     },
     "metadata": {
      "needs_background": "light"
     },
     "output_type": "display_data"
    }
   ],
   "source": [
    "plt.plot(history.history['loss'])\n",
    "plt.plot(history.history['val_loss'])\n",
    "plt.title('loss')\n",
    "plt.ylabel('loss')\n",
    "plt.xlabel('epoch')\n",
    "plt.legend(['train','test'], loc='upper left')\n",
    "plt.show()"
   ]
  },
  {
   "cell_type": "code",
   "execution_count": 7,
   "metadata": {},
   "outputs": [],
   "source": [
    "from sklearn.preprocessing import scale\n",
    "from sklearn.model_selection import train_test_split\n",
    "from sklearn.datasets import make_moons\n",
    "import matplotlib.pyplot as plt\n",
    "X,Y = make_moons(noise=0.2, random_state=0, n_samples=1000)\n",
    "X = scale(X)\n",
    "X_train,X_test, Y_train,Y_test = train_test_split(X,Y,test_size=.3)"
   ]
  },
  {
   "cell_type": "code",
   "execution_count": 8,
   "metadata": {},
   "outputs": [
    {
     "data": {
      "text/plain": [
       "[Text(0, 0.5, 'Y'), Text(0.5, 0, 'X'), Text(0.5, 1.0, 'binary classification')]"
      ]
     },
     "execution_count": 8,
     "metadata": {},
     "output_type": "execute_result"
    },
    {
     "data": {
      "image/png": "[encoded data removed]",
      "text/plain": [
       "<Figure size 432x288 with 1 Axes>"
      ]
     },
     "metadata": {
      "needs_background": "light"
     },
     "output_type": "display_data"
    }
   ],
   "source": [
    "fig, ax = plt.subplots()\n",
    "ax.scatter(X[Y==0,0], X[Y==0,1], label='Class 0')\n",
    "ax.scatter(X[Y==1,0], X[Y==1,1], color='r', label='Class 1')\n",
    "ax.legend()\n",
    "ax.set(xlabel='X', ylabel='Y', title='binary classification')"
   ]
  },
  {
   "cell_type": "code",
   "execution_count": 9,
   "metadata": {},
   "outputs": [
    {
     "data": {
      "text/plain": [
       "(700, 2)"
      ]
     },
     "execution_count": 9,
     "metadata": {},
     "output_type": "execute_result"
    }
   ],
   "source": [
    "X_train.shape\n"
   ]
  },
  {
   "cell_type": "code",
   "execution_count": 10,
   "metadata": {},
   "outputs": [
    {
     "name": "stdout",
     "output_type": "stream",
     "text": [
      "WARNING:tensorflow:From C:\\Users\\ICT01_14\\.conda\\envs\\tf_test\\lib\\site-packages\\keras\\callbacks\\tensorboard_v1.py:146: The name tf.summary.histogram is deprecated. Please use tf.compat.v1.summary.histogram instead.\n",
      "\n",
      "WARNING:tensorflow:From C:\\Users\\ICT01_14\\.conda\\envs\\tf_test\\lib\\site-packages\\keras\\callbacks\\tensorboard_v1.py:200: The name tf.summary.merge_all is deprecated. Please use tf.compat.v1.summary.merge_all instead.\n",
      "\n",
      "WARNING:tensorflow:From C:\\Users\\ICT01_14\\.conda\\envs\\tf_test\\lib\\site-packages\\keras\\callbacks\\tensorboard_v1.py:203: The name tf.summary.FileWriter is deprecated. Please use tf.compat.v1.summary.FileWriter instead.\n",
      "\n"
     ]
    }
   ],
   "source": [
    "import keras\n",
    "from keras.models import Sequential\n",
    "from keras.layers import Dense\n",
    "import numpy\n",
    "# 비선형 모델 - 신경망\n",
    "model = Sequential()\n",
    "model.add(Dense(32, input_dim=2, activation='relu')) # 차원확대\n",
    "model.add(Dense(1, activation='sigmoid'))\n",
    "model.compile(optimizer='AdaDelta',loss='binary_crossentropy', metrics=['accuracy'])\n",
    "# callback 함수는 window 자동으로 호출되는 함수 / 이미지 출력할 준비를해라\n",
    "tb_callback = keras.callbacks.TensorBoard(log_dir='./Graph/model_1/',histogram_freq=100,write_graph=True,write_images=False)\n",
    "tb_callback.set_model(model) # 콜백을 모델에 등록"
   ]
  },
  {
   "cell_type": "code",
   "execution_count": 11,
   "metadata": {},
   "outputs": [
    {
     "name": "stdout",
     "output_type": "stream",
     "text": [
      "WARNING:tensorflow:From C:\\Users\\ICT01_14\\.conda\\envs\\tf_test\\lib\\site-packages\\keras\\callbacks\\tensorboard_v1.py:343: The name tf.Summary is deprecated. Please use tf.compat.v1.Summary instead.\n",
      "\n"
     ]
    }
   ],
   "source": [
    "hist = model.fit(X_train,Y_train,batch_size=32, epochs=200,verbose=0,callbacks=[tb_callback] ,validation_data =(X_test,Y_test))"
   ]
  },
  {
   "cell_type": "code",
   "execution_count": 12,
   "metadata": {},
   "outputs": [
    {
     "name": "stdout",
     "output_type": "stream",
     "text": [
      "Test loss : 0.08657280007998149\n",
      "Test accuracy :  0.9666666388511658\n"
     ]
    }
   ],
   "source": [
    "score = model.evaluate(X_test,Y_test, verbose=0)\n",
    "print(\"Test loss :\", score[0])\n",
    "print(\"Test accuracy : \", score[1])"
   ]
  },
  {
   "cell_type": "code",
   "execution_count": 13,
   "metadata": {},
   "outputs": [
    {
     "name": "stdout",
     "output_type": "stream",
     "text": [
      "Test loss: 0.08657280007998149\n",
      "Test accuracy : 0.9666666388511658\n"
     ]
    }
   ],
   "source": [
    "score = model.evaluate(X_test, Y_test, verbose=0)\n",
    "print(\"Test loss:\",score[0])\n",
    "print(\"Test accuracy :\", score[1])"
   ]
  },
  {
   "cell_type": "code",
   "execution_count": 14,
   "metadata": {},
   "outputs": [
    {
     "name": "stdout",
     "output_type": "stream",
     "text": [
      "Model: \"sequential_3\"\n",
      "_________________________________________________________________\n",
      "Layer (type)                 Output Shape              Param #   \n",
      "=================================================================\n",
      "dense_7 (Dense)              (None, 32)                96        \n",
      "_________________________________________________________________\n",
      "dense_8 (Dense)              (None, 1)                 33        \n",
      "=================================================================\n",
      "Total params: 129\n",
      "Trainable params: 129\n",
      "Non-trainable params: 0\n",
      "_________________________________________________________________\n"
     ]
    }
   ],
   "source": [
    "keras.utils.print_summary(model)"
   ]
  },
  {
   "cell_type": "code",
   "execution_count": 15,
   "metadata": {},
   "outputs": [],
   "source": [
    "# conda install graphviz\n",
    "# conda install pydot\n",
    "import pydot\n",
    "from keras.utils.vis_utils import model_to_dot"
   ]
  },
  {
   "cell_type": "code",
   "execution_count": 16,
   "metadata": {},
   "outputs": [
    {
     "ename": "OSError",
     "evalue": "`pydot` failed to call GraphViz.Please install GraphViz (https://www.graphviz.org/) and ensure that its executables are in the $PATH.",
     "output_type": "error",
     "traceback": [
      "\u001b[1;31m---------------------------------------------------------------------------\u001b[0m",
      "\u001b[1;31mFileNotFoundError\u001b[0m                         Traceback (most recent call last)",
      "\u001b[1;32m~\\.conda\\envs\\tf_test\\lib\\site-packages\\pydot.py\u001b[0m in \u001b[0;36mcreate\u001b[1;34m(self, prog, format, encoding)\u001b[0m\n\u001b[0;32m   1914\u001b[0m                 \u001b[0marguments\u001b[0m\u001b[1;33m=\u001b[0m\u001b[0marguments\u001b[0m\u001b[1;33m,\u001b[0m\u001b[1;33m\u001b[0m\u001b[1;33m\u001b[0m\u001b[0m\n\u001b[1;32m-> 1915\u001b[1;33m                 \u001b[0mworking_dir\u001b[0m\u001b[1;33m=\u001b[0m\u001b[0mtmp_dir\u001b[0m\u001b[1;33m,\u001b[0m\u001b[1;33m\u001b[0m\u001b[1;33m\u001b[0m\u001b[0m\n\u001b[0m\u001b[0;32m   1916\u001b[0m             )\n",
      "\u001b[1;32m~\\.conda\\envs\\tf_test\\lib\\site-packages\\pydot.py\u001b[0m in \u001b[0;36mcall_graphviz\u001b[1;34m(program, arguments, working_dir, **kwargs)\u001b[0m\n\u001b[0;32m    135\u001b[0m         \u001b[0mstdout\u001b[0m\u001b[1;33m=\u001b[0m\u001b[0msubprocess\u001b[0m\u001b[1;33m.\u001b[0m\u001b[0mPIPE\u001b[0m\u001b[1;33m,\u001b[0m\u001b[1;33m\u001b[0m\u001b[1;33m\u001b[0m\u001b[0m\n\u001b[1;32m--> 136\u001b[1;33m         \u001b[1;33m**\u001b[0m\u001b[0mkwargs\u001b[0m\u001b[1;33m\u001b[0m\u001b[1;33m\u001b[0m\u001b[0m\n\u001b[0m\u001b[0;32m    137\u001b[0m     )\n",
      "\u001b[1;32m~\\.conda\\envs\\tf_test\\lib\\subprocess.py\u001b[0m in \u001b[0;36m__init__\u001b[1;34m(self, args, bufsize, executable, stdin, stdout, stderr, preexec_fn, close_fds, shell, cwd, env, universal_newlines, startupinfo, creationflags, restore_signals, start_new_session, pass_fds, encoding, errors, text)\u001b[0m\n\u001b[0;32m    799\u001b[0m                                 \u001b[0merrread\u001b[0m\u001b[1;33m,\u001b[0m \u001b[0merrwrite\u001b[0m\u001b[1;33m,\u001b[0m\u001b[1;33m\u001b[0m\u001b[1;33m\u001b[0m\u001b[0m\n\u001b[1;32m--> 800\u001b[1;33m                                 restore_signals, start_new_session)\n\u001b[0m\u001b[0;32m    801\u001b[0m         \u001b[1;32mexcept\u001b[0m\u001b[1;33m:\u001b[0m\u001b[1;33m\u001b[0m\u001b[1;33m\u001b[0m\u001b[0m\n",
      "\u001b[1;32m~\\.conda\\envs\\tf_test\\lib\\subprocess.py\u001b[0m in \u001b[0;36m_execute_child\u001b[1;34m(self, args, executable, preexec_fn, close_fds, pass_fds, cwd, env, startupinfo, creationflags, shell, p2cread, p2cwrite, c2pread, c2pwrite, errread, errwrite, unused_restore_signals, unused_start_new_session)\u001b[0m\n\u001b[0;32m   1206\u001b[0m                                          \u001b[0mos\u001b[0m\u001b[1;33m.\u001b[0m\u001b[0mfspath\u001b[0m\u001b[1;33m(\u001b[0m\u001b[0mcwd\u001b[0m\u001b[1;33m)\u001b[0m \u001b[1;32mif\u001b[0m \u001b[0mcwd\u001b[0m \u001b[1;32mis\u001b[0m \u001b[1;32mnot\u001b[0m \u001b[1;32mNone\u001b[0m \u001b[1;32melse\u001b[0m \u001b[1;32mNone\u001b[0m\u001b[1;33m,\u001b[0m\u001b[1;33m\u001b[0m\u001b[1;33m\u001b[0m\u001b[0m\n\u001b[1;32m-> 1207\u001b[1;33m                                          startupinfo)\n\u001b[0m\u001b[0;32m   1208\u001b[0m             \u001b[1;32mfinally\u001b[0m\u001b[1;33m:\u001b[0m\u001b[1;33m\u001b[0m\u001b[1;33m\u001b[0m\u001b[0m\n",
      "\u001b[1;31mFileNotFoundError\u001b[0m: [WinError 2] 지정된 파일을 찾을 수 없습니다",
      "\nDuring handling of the above exception, another exception occurred:\n",
      "\u001b[1;31mFileNotFoundError\u001b[0m                         Traceback (most recent call last)",
      "\u001b[1;32m~\\.conda\\envs\\tf_test\\lib\\site-packages\\keras\\utils\\vis_utils.py\u001b[0m in \u001b[0;36m_check_pydot\u001b[1;34m()\u001b[0m\n\u001b[0;32m     27\u001b[0m         \u001b[1;31m# to check the pydot/graphviz installation.\u001b[0m\u001b[1;33m\u001b[0m\u001b[1;33m\u001b[0m\u001b[1;33m\u001b[0m\u001b[0m\n\u001b[1;32m---> 28\u001b[1;33m         \u001b[0mpydot\u001b[0m\u001b[1;33m.\u001b[0m\u001b[0mDot\u001b[0m\u001b[1;33m.\u001b[0m\u001b[0mcreate\u001b[0m\u001b[1;33m(\u001b[0m\u001b[0mpydot\u001b[0m\u001b[1;33m.\u001b[0m\u001b[0mDot\u001b[0m\u001b[1;33m(\u001b[0m\u001b[1;33m)\u001b[0m\u001b[1;33m)\u001b[0m\u001b[1;33m\u001b[0m\u001b[1;33m\u001b[0m\u001b[0m\n\u001b[0m\u001b[0;32m     29\u001b[0m     \u001b[1;32mexcept\u001b[0m \u001b[0mOSError\u001b[0m\u001b[1;33m:\u001b[0m\u001b[1;33m\u001b[0m\u001b[1;33m\u001b[0m\u001b[0m\n",
      "\u001b[1;32m~\\.conda\\envs\\tf_test\\lib\\site-packages\\pydot.py\u001b[0m in \u001b[0;36mcreate\u001b[1;34m(self, prog, format, encoding)\u001b[0m\n\u001b[0;32m   1921\u001b[0m                     prog=prog)\n\u001b[1;32m-> 1922\u001b[1;33m                 \u001b[1;32mraise\u001b[0m \u001b[0mOSError\u001b[0m\u001b[1;33m(\u001b[0m\u001b[1;33m*\u001b[0m\u001b[0margs\u001b[0m\u001b[1;33m)\u001b[0m\u001b[1;33m\u001b[0m\u001b[1;33m\u001b[0m\u001b[0m\n\u001b[0m\u001b[0;32m   1923\u001b[0m             \u001b[1;32melse\u001b[0m\u001b[1;33m:\u001b[0m\u001b[1;33m\u001b[0m\u001b[1;33m\u001b[0m\u001b[0m\n",
      "\u001b[1;31mFileNotFoundError\u001b[0m: [WinError 2] \"dot\" not found in path.",
      "\nDuring handling of the above exception, another exception occurred:\n",
      "\u001b[1;31mOSError\u001b[0m                                   Traceback (most recent call last)",
      "\u001b[1;32m<ipython-input-16-18c84a4b0e8e>\u001b[0m in \u001b[0;36m<module>\u001b[1;34m\u001b[0m\n\u001b[0;32m      1\u001b[0m \u001b[1;32mfrom\u001b[0m \u001b[0mkeras\u001b[0m\u001b[1;33m.\u001b[0m\u001b[0mutils\u001b[0m \u001b[1;32mimport\u001b[0m \u001b[0mplot_model\u001b[0m\u001b[1;33m\u001b[0m\u001b[1;33m\u001b[0m\u001b[0m\n\u001b[1;32m----> 2\u001b[1;33m \u001b[0mplot_model\u001b[0m\u001b[1;33m(\u001b[0m\u001b[0mmodel\u001b[0m\u001b[1;33m)\u001b[0m\u001b[1;33m\u001b[0m\u001b[1;33m\u001b[0m\u001b[0m\n\u001b[0m",
      "\u001b[1;32m~\\.conda\\envs\\tf_test\\lib\\site-packages\\keras\\utils\\vis_utils.py\u001b[0m in \u001b[0;36mplot_model\u001b[1;34m(model, to_file, show_shapes, show_layer_names, rankdir, expand_nested, dpi)\u001b[0m\n\u001b[0;32m    238\u001b[0m     \"\"\"\n\u001b[0;32m    239\u001b[0m     dot = model_to_dot(model, show_shapes, show_layer_names, rankdir,\n\u001b[1;32m--> 240\u001b[1;33m                        expand_nested, dpi)\n\u001b[0m\u001b[0;32m    241\u001b[0m     \u001b[0m_\u001b[0m\u001b[1;33m,\u001b[0m \u001b[0mextension\u001b[0m \u001b[1;33m=\u001b[0m \u001b[0mos\u001b[0m\u001b[1;33m.\u001b[0m\u001b[0mpath\u001b[0m\u001b[1;33m.\u001b[0m\u001b[0msplitext\u001b[0m\u001b[1;33m(\u001b[0m\u001b[0mto_file\u001b[0m\u001b[1;33m)\u001b[0m\u001b[1;33m\u001b[0m\u001b[1;33m\u001b[0m\u001b[0m\n\u001b[0;32m    242\u001b[0m     \u001b[1;32mif\u001b[0m \u001b[1;32mnot\u001b[0m \u001b[0mextension\u001b[0m\u001b[1;33m:\u001b[0m\u001b[1;33m\u001b[0m\u001b[1;33m\u001b[0m\u001b[0m\n",
      "\u001b[1;32m~\\.conda\\envs\\tf_test\\lib\\site-packages\\keras\\utils\\vis_utils.py\u001b[0m in \u001b[0;36mmodel_to_dot\u001b[1;34m(model, show_shapes, show_layer_names, rankdir, expand_nested, dpi, subgraph)\u001b[0m\n\u001b[0;32m     77\u001b[0m     \u001b[1;32mfrom\u001b[0m \u001b[1;33m.\u001b[0m\u001b[1;33m.\u001b[0m\u001b[0mmodels\u001b[0m \u001b[1;32mimport\u001b[0m \u001b[0mSequential\u001b[0m\u001b[1;33m\u001b[0m\u001b[1;33m\u001b[0m\u001b[0m\n\u001b[0;32m     78\u001b[0m \u001b[1;33m\u001b[0m\u001b[0m\n\u001b[1;32m---> 79\u001b[1;33m     \u001b[0m_check_pydot\u001b[0m\u001b[1;33m(\u001b[0m\u001b[1;33m)\u001b[0m\u001b[1;33m\u001b[0m\u001b[1;33m\u001b[0m\u001b[0m\n\u001b[0m\u001b[0;32m     80\u001b[0m     \u001b[1;32mif\u001b[0m \u001b[0msubgraph\u001b[0m\u001b[1;33m:\u001b[0m\u001b[1;33m\u001b[0m\u001b[1;33m\u001b[0m\u001b[0m\n\u001b[0;32m     81\u001b[0m         \u001b[0mdot\u001b[0m \u001b[1;33m=\u001b[0m \u001b[0mpydot\u001b[0m\u001b[1;33m.\u001b[0m\u001b[0mCluster\u001b[0m\u001b[1;33m(\u001b[0m\u001b[0mstyle\u001b[0m\u001b[1;33m=\u001b[0m\u001b[1;34m'dashed'\u001b[0m\u001b[1;33m,\u001b[0m \u001b[0mgraph_name\u001b[0m\u001b[1;33m=\u001b[0m\u001b[0mmodel\u001b[0m\u001b[1;33m.\u001b[0m\u001b[0mname\u001b[0m\u001b[1;33m)\u001b[0m\u001b[1;33m\u001b[0m\u001b[1;33m\u001b[0m\u001b[0m\n",
      "\u001b[1;32m~\\.conda\\envs\\tf_test\\lib\\site-packages\\keras\\utils\\vis_utils.py\u001b[0m in \u001b[0;36m_check_pydot\u001b[1;34m()\u001b[0m\n\u001b[0;32m     29\u001b[0m     \u001b[1;32mexcept\u001b[0m \u001b[0mOSError\u001b[0m\u001b[1;33m:\u001b[0m\u001b[1;33m\u001b[0m\u001b[1;33m\u001b[0m\u001b[0m\n\u001b[0;32m     30\u001b[0m         raise OSError(\n\u001b[1;32m---> 31\u001b[1;33m             \u001b[1;34m'`pydot` failed to call GraphViz.'\u001b[0m\u001b[1;33m\u001b[0m\u001b[1;33m\u001b[0m\u001b[0m\n\u001b[0m\u001b[0;32m     32\u001b[0m             \u001b[1;34m'Please install GraphViz (https://www.graphviz.org/) '\u001b[0m\u001b[1;33m\u001b[0m\u001b[1;33m\u001b[0m\u001b[0m\n\u001b[0;32m     33\u001b[0m             'and ensure that its executables are in the $PATH.')\n",
      "\u001b[1;31mOSError\u001b[0m: `pydot` failed to call GraphViz.Please install GraphViz (https://www.graphviz.org/) and ensure that its executables are in the $PATH."
     ]
    }
   ],
   "source": [
    "from keras.utils import plot_model\n",
    "plot_model(model)"
   ]
  },
  {
   "cell_type": "code",
   "execution_count": null,
   "metadata": {},
   "outputs": [],
   "source": [
    "%matplotlib inline\n",
    "from keras.utils.vis_utils import model_to_dot\n",
    "model_to_dot(model)"
   ]
  },
  {
   "cell_type": "code",
   "execution_count": null,
   "metadata": {},
   "outputs": [],
   "source": [
    "from IPython.display import Image, SVG\n",
    "SVG(model_to_dot(model).create(prog='dot', format='svg'))"
   ]
  },
  {
   "cell_type": "code",
   "execution_count": null,
   "metadata": {},
   "outputs": [],
   "source": [
    "model.summary()"
   ]
  },
  {
   "cell_type": "code",
   "execution_count": null,
   "metadata": {},
   "outputs": [],
   "source": [
    "import keras\n",
    "# Callback class\n",
    "# Custum callback 함수 제작\n",
    "# 함수에 의해서 호출되는 객체\n",
    "class CustomHistory(keras.callbacks.Callback): # 상속\n",
    "    def init(self):\n",
    "        self.train_loss = []\n",
    "        self.val_loss = []\n",
    "        self.train_acc = []\n",
    "        self.val_acc = []\n",
    "    def on_epoch_end(self,batch, logs={}): # 오버라이딩\n",
    "        self.train_loss.append(logs.get('loss'))\n",
    "        self.val_loss.append(logs.get('val_loss'))\n",
    "        self.train_acc.append(logs.get('accuracy'))\n",
    "        self.val_acc.append(logs.get('val_accuracy'))"
   ]
  },
  {
   "cell_type": "code",
   "execution_count": null,
   "metadata": {},
   "outputs": [],
   "source": [
    "from keras.datasets import mnist\n",
    "import matplotlib.pylab as plt\n",
    "from keras.models import Sequential\n",
    "from keras.layers import Dense\n",
    "(X_train0, y_train0), (X_test0, y_test0) = mnist.load_data()\n",
    "print(X_train0.shape, X_train0.dtype)\n",
    "print(y_train0.shape, y_train0.dtype)\n",
    "print(X_test0.shape, X_test0.dtype)\n",
    "print(y_test0.shape, y_test0.dtype)"
   ]
  },
  {
   "cell_type": "code",
   "execution_count": null,
   "metadata": {},
   "outputs": [],
   "source": [
    "plt.imshow(X_train0[0])\n",
    "plt.grid(False)\n",
    "plt.show"
   ]
  },
  {
   "cell_type": "code",
   "execution_count": null,
   "metadata": {},
   "outputs": [],
   "source": [
    "X_train = X_train0.reshape(60000,784).astype('float32')/255.0\n",
    "X_test = X_test0.reshape(10000,784).astype('float32')/255.0\n",
    "print(X_train.shape, X_train.dtype) # 60000 * 784"
   ]
  },
  {
   "cell_type": "code",
   "execution_count": null,
   "metadata": {},
   "outputs": [],
   "source": [
    "y_train0[:5]\n",
    "# one hot encoding 여부 : multi - label-> softmax\n",
    "# 경우에 수에 대한 확률값"
   ]
  },
  {
   "cell_type": "code",
   "execution_count": null,
   "metadata": {},
   "outputs": [],
   "source": [
    "from keras.utils import np_utils\n",
    "Y_train = np_utils.to_categorical(y_train0,10)\n",
    "Y_test = np_utils.to_categorical(y_test0,10)\n",
    "Y_train[:5]"
   ]
  },
  {
   "cell_type": "code",
   "execution_count": null,
   "metadata": {},
   "outputs": [],
   "source": [
    "from keras.optimizers import SGD\n",
    "import numpy as np\n",
    "np.random.seed(0)\n",
    "model = Sequential()\n",
    "# 60000 * 784\n",
    "model.add(Dense(512, input_dim=784, activation='sigmoid'))\n",
    "# 60000 * 15 / 15 *10 -> 60000*10\n",
    "model.add(Dense(15))\n",
    "model.add(Dense(10, activation='sigmoid'))\n",
    "# lr : learning rate\n",
    "# stochastic gradient descent\n",
    "model.compile(optimizer=SGD(lr=0.2), loss='mse', metrics=['accuracy'])"
   ]
  },
  {
   "cell_type": "code",
   "execution_count": null,
   "metadata": {},
   "outputs": [],
   "source": [
    "model.layers"
   ]
  },
  {
   "cell_type": "code",
   "execution_count": null,
   "metadata": {},
   "outputs": [],
   "source": [
    "l1 = model.layers[0]\n",
    "l2 = model.layers[1]\n",
    "# 레이어 속성으로 정보확인\n",
    "l1.name\n",
    "l1.input_shape\n",
    "l1.output_shape\n",
    "l1.activation"
   ]
  },
  {
   "cell_type": "code",
   "execution_count": null,
   "metadata": {},
   "outputs": [],
   "source": [
    "custom_hist = CustomHistory()\n",
    "custom_hist.init()\n",
    "hist = model.fit(X_train,Y_train, nb_epoch=30, batch_size=100,validation_data=(X_test, Y_test),callbacks = [custom_hist], verbose=2)\n"
   ]
  },
  {
   "cell_type": "code",
   "execution_count": null,
   "metadata": {},
   "outputs": [],
   "source": [
    "plt.plot(hist.history['loss'])\n",
    "plt.show()\n",
    "hist.history"
   ]
  },
  {
   "cell_type": "code",
   "execution_count": null,
   "metadata": {},
   "outputs": [],
   "source": [
    "plt.plot(hist.history['accuracy'], 'b-', label='Training')\n",
    "plt.plot(hist.history['val_accuracy'], 'r:', label='test')\n",
    "plt.legend()\n",
    "plt.show()\n",
    "\n",
    "print(hist.model)\n",
    "print(hist.params)\n",
    "print(hist.history['accuracy'])\n",
    "print(hist.history['val_accuracy'][29])\n",
    "plt.show()\n",
    "plt.plot(custom_hist.train_loss, 'y', label='train loss')\n",
    "plt.show()"
   ]
  },
  {
   "cell_type": "code",
   "execution_count": null,
   "metadata": {},
   "outputs": [],
   "source": [
    "model.predict(X_test[:1,:])\n"
   ]
  },
  {
   "cell_type": "code",
   "execution_count": null,
   "metadata": {},
   "outputs": [],
   "source": [
    "# 문제 X_test의 이미지 한장의 label을 예측해보시오\n",
    "model.predict(X_test[:1,:])"
   ]
  },
  {
   "cell_type": "code",
   "execution_count": null,
   "metadata": {},
   "outputs": [],
   "source": [
    "model.predict_classes(X_test[:1,:], verbose=0)"
   ]
  },
  {
   "cell_type": "code",
   "execution_count": null,
   "metadata": {},
   "outputs": [],
   "source": [
    "# 보스턴집값예측\n",
    "from keras.datasets import boston_housing\n",
    "(x_train, y_train), (x_test, y_test) = boston_housing.load_data()"
   ]
  },
  {
   "cell_type": "code",
   "execution_count": null,
   "metadata": {},
   "outputs": [],
   "source": [
    "num_faetures=13\n",
    "model = Sequential()\n",
    "model.add(Dense(1, input_dim=num_faetures, activation='linear'))"
   ]
  },
  {
   "cell_type": "code",
   "execution_count": null,
   "metadata": {},
   "outputs": [],
   "source": [
    "model.summary()\n",
    "model.compile(optimizer='rmsprop', loss='mse', metrics=['mae'])\n",
    "model.fit(x_train, y_train, batch_size=1, epochs=10, verbose=1)"
   ]
  },
  {
   "cell_type": "code",
   "execution_count": null,
   "metadata": {},
   "outputs": [],
   "source": [
    "# mae\n",
    "mse, mae = model.evaluate(x_test,y_test,verbose=False)\n",
    "rmse= np.sqrt(mse)\n",
    "mse,rmse,mae"
   ]
  },
  {
   "cell_type": "code",
   "execution_count": null,
   "metadata": {},
   "outputs": [],
   "source": []
  },
  {
   "cell_type": "code",
   "execution_count": null,
   "metadata": {},
   "outputs": [],
   "source": [
    "# 문제 : x_test의 3집을 예상하시오.\n",
    "model.evaluate(x_test,y_test,verbose=False)"
   ]
  },
  {
   "cell_type": "code",
   "execution_count": null,
   "metadata": {},
   "outputs": [],
   "source": [
    "pred = model.predict(x_test[:3,:])\n",
    "real = y_test[:3]\n",
    "print(model.predict(x_test[:3,:]))\n",
    "print('실제집값 :', y_test[:3])"
   ]
  },
  {
   "cell_type": "code",
   "execution_count": null,
   "metadata": {},
   "outputs": [],
   "source": [
    "pred =pred.reshape(3)"
   ]
  },
  {
   "cell_type": "code",
   "execution_count": null,
   "metadata": {},
   "outputs": [],
   "source": [
    "import numpy as np\n",
    "np.corrcoef(pred,real)"
   ]
  },
  {
   "cell_type": "code",
   "execution_count": null,
   "metadata": {},
   "outputs": [],
   "source": []
  }
 ],
 "metadata": {
  "kernelspec": {
   "display_name": "Python 3",
   "language": "python",
   "name": "python3"
  },
  "language_info": {
   "codemirror_mode": {
    "name": "ipython",
    "version": 3
   },
   "file_extension": ".py",
   "mimetype": "text/x-python",
   "name": "python",
   "nbconvert_exporter": "python",
   "pygments_lexer": "ipython3",
   "version": "3.7.6"
  },
  "toc": {
   "base_numbering": 1,
   "nav_menu": {},
   "number_sections": true,
   "sideBar": true,
   "skip_h1_title": false,
   "title_cell": "Table of Contents",
   "title_sidebar": "Contents",
   "toc_cell": false,
   "toc_position": {},
   "toc_section_display": true,
   "toc_window_display": true
  }
 },
 "nbformat": 4,
 "nbformat_minor": 4
}
