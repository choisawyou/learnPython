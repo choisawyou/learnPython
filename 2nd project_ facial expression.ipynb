{
 "cells": [
  {
   "cell_type": "markdown",
   "metadata": {},
   "source": [
    "1.  이미지 감정 인식\n",
    "https://github.com/sunsmiling/facial-emotion-detector\n",
    "\n",
    "\n",
    "2. 영상 실시간 감정 인식\n",
    "https://jusonn.github.io/blog/2018/02/16/real-time-emotion-detection/\n",
    "\n",
    "\n",
    "\n",
    "출처: https://icandooit.tistory.com/95 [i can do \"IT\"]"
   ]
  },
  {
   "cell_type": "markdown",
   "metadata": {},
   "source": [
    "# kaggle \n",
    "\n",
    "- (0=Angry 화남, 1=Disgust역겨움, 2=Fear두려움, 3=Happy행복, 4=Sad슬픔, 5=Surprise놀람, 6=Neutral무표정)."
   ]
  },
  {
   "cell_type": "markdown",
   "metadata": {},
   "source": [
    "If you use this dataset in your research work, please cite\n",
    "\n",
    "\"Challenges in Representation Learning: A report on three machine learning\n",
    "contests.\" I Goodfellow, D Erhan, PL Carrier, A Courville, M Mirza, B\n",
    "Hamner, W Cukierski, Y Tang, DH Lee, Y Zhou, C Ramaiah, F Feng, R Li,\n",
    "X Wang, D Athanasakis, J Shawe-Taylor, M Milakov, J Park, R Ionescu,\n",
    "M Popescu, C Grozea, J Bergstra, J Xie, L Romaszko, B Xu, Z Chuang, and\n",
    "Y. Bengio. arXiv 2013.\n",
    "\n",
    "See fer2013.bib for a bibtex entry.\n"
   ]
  },
  {
   "cell_type": "code",
   "execution_count": 66,
   "metadata": {},
   "outputs": [],
   "source": [
    "import pylearn\n"
   ]
  },
  {
   "cell_type": "code",
   "execution_count": 69,
   "metadata": {},
   "outputs": [
    {
     "ename": "ModuleNotFoundError",
     "evalue": "No module named 'pylearn.datasets.dense_design_matrix'; 'pylearn.datasets' is not a package",
     "output_type": "error",
     "traceback": [
      "\u001b[1;31m---------------------------------------------------------------------------\u001b[0m",
      "\u001b[1;31mModuleNotFoundError\u001b[0m                       Traceback (most recent call last)",
      "\u001b[1;32m<ipython-input-69-cd3e3cac123d>\u001b[0m in \u001b[0;36m<module>\u001b[1;34m\u001b[0m\n\u001b[0;32m     14\u001b[0m \u001b[1;32mimport\u001b[0m \u001b[0mos\u001b[0m\u001b[1;33m\u001b[0m\u001b[1;33m\u001b[0m\u001b[0m\n\u001b[0;32m     15\u001b[0m \u001b[1;32mimport\u001b[0m \u001b[0mpylearn\u001b[0m\u001b[1;33m.\u001b[0m\u001b[0mdatasets\u001b[0m\u001b[1;33m\u001b[0m\u001b[1;33m\u001b[0m\u001b[0m\n\u001b[1;32m---> 16\u001b[1;33m \u001b[1;32mfrom\u001b[0m \u001b[0mpylearn\u001b[0m\u001b[1;33m.\u001b[0m\u001b[0mdatasets\u001b[0m\u001b[1;33m.\u001b[0m\u001b[0mdense_design_matrix\u001b[0m \u001b[1;32mimport\u001b[0m \u001b[0mDefaultViewConverter\u001b[0m\u001b[1;33m\u001b[0m\u001b[1;33m\u001b[0m\u001b[0m\n\u001b[0m\u001b[0;32m     17\u001b[0m \u001b[1;32mfrom\u001b[0m \u001b[0mpylearn\u001b[0m\u001b[1;33m.\u001b[0m\u001b[0mdatasets\u001b[0m\u001b[1;33m.\u001b[0m\u001b[0mdense_design_matrix\u001b[0m \u001b[1;32mimport\u001b[0m \u001b[0mDenseDesignMatrix\u001b[0m\u001b[1;33m\u001b[0m\u001b[1;33m\u001b[0m\u001b[0m\n\u001b[0;32m     18\u001b[0m \u001b[1;32mfrom\u001b[0m \u001b[0mpylearn\u001b[0m\u001b[1;33m.\u001b[0m\u001b[0mutils\u001b[0m\u001b[1;33m.\u001b[0m\u001b[0mstring_utils\u001b[0m \u001b[1;32mimport\u001b[0m \u001b[0mpreprocess\u001b[0m\u001b[1;33m\u001b[0m\u001b[1;33m\u001b[0m\u001b[0m\n",
      "\u001b[1;31mModuleNotFoundError\u001b[0m: No module named 'pylearn.datasets.dense_design_matrix'; 'pylearn.datasets' is not a package"
     ]
    }
   ],
   "source": [
    "\"\"\"\n",
    "A Pylearn2 Dataset class for accessing the data for the\n",
    "facial expression recognition Kaggle contest for the ICML\n",
    "2013 workshop on representation learning.\n",
    "\"\"\"\n",
    "__authors__ = \"Ian Goodfellow\"\n",
    "__copyright__ = \"Copyright 2013, Universite de Montreal\"\n",
    "__credits__ = [\"Ian Goodfellow\"]\n",
    "__license__ = \"3-clause BSD\"\n",
    "__maintainer__ = \"LISA Lab\"\n",
    "\n",
    "import csv\n",
    "import numpy as np\n",
    "import os\n",
    "import pylearn.datasets\n",
    "from pylearn.datasets.dense_design_matrix import DefaultViewConverter\n",
    "from pylearn.datasets.dense_design_matrix import DenseDesignMatrix\n",
    "from pylearn.utils.string_utils import preprocess\n",
    "\n",
    "class EmotionsDataset(DenseDesignMatrix):\n",
    "    \"\"\"\n",
    "    A Pylearn2 Dataset class for accessing the data for the\n",
    "    facial expression recognition Kaggle contest for the ICML\n",
    "    2013 workshop on representation learning.\n",
    "    \"\"\"\n",
    "\n",
    "    def __init__(self, which_set,\n",
    "            base_path = '${C:/Users/ICT01_22/Documents/seoy',\n",
    "            start = None,\n",
    "            stop = None,\n",
    "            preprocessor = None,\n",
    "            fit_preprocessor = False,\n",
    "            axes = ('b', 0, 1, 'c'),\n",
    "            fit_test_preprocessor = False):\n",
    "        \"\"\"\n",
    "        which_set: A string specifying which portion of the dataset\n",
    "            to load. Valid values are 'train' or 'public_test'\n",
    "        base_path: The directory containing the .csv files from kaggle.com.\n",
    "                This directory should be writable; if the .csv files haven't\n",
    "                already been converted to npy, this class will convert them\n",
    "                to save memory the next time they are loaded.\n",
    "        fit_preprocessor: True if the preprocessor is allowed to fit the\n",
    "                   data.\n",
    "        fit_test_preprocessor: If we construct a test set based on this\n",
    "                    dataset, should it be allowed to fit the test set?\n",
    "        \"\"\"\n",
    "\n",
    "        self.test_args = locals()\n",
    "        self.test_args['which_set'] = 'public_test'\n",
    "        self.test_args['fit_preprocessor'] = fit_test_preprocessor\n",
    "        del self.test_args['start']\n",
    "        del self.test_args['stop']\n",
    "        del self.test_args['self']\n",
    "        del self.test_args['__class__']\n",
    "\n",
    "        files = {'train': 'train.csv', 'public_test' : 'test.csv'}\n",
    "\n",
    "        try:\n",
    "            filename = files[which_set]\n",
    "        except KeyError:\n",
    "            raise ValueError(\"Unrecognized dataset name: \" + which_set)\n",
    "\n",
    "        path = base_path + '/' + filename\n",
    "\n",
    "        path = preprocess(path)\n",
    "\n",
    "        X, y = self._load_data(path, which_set == 'train')\n",
    "\n",
    "\n",
    "        if start is not None:\n",
    "            assert which_set != 'test'\n",
    "            assert isinstance(start, int)\n",
    "            assert isinstance(stop, int)\n",
    "            assert start >= 0\n",
    "            assert start < stop\n",
    "            assert stop <= X.shape[0]\n",
    "            X = X[start:stop, :]\n",
    "            if y is not None:\n",
    "                y = y[start:stop, :]\n",
    "\n",
    "        view_converter = DefaultViewConverter(shape=[48,48,1], axes=axes)\n",
    "\n",
    "        if y is None:\n",
    "            y_labels = None\n",
    "        else:\n",
    "            y_labels = 7\n",
    "        super(EmotionsDataset, self).__init__(X=X, y=y, y_labels=y_labels, view_converter=view_converter)\n",
    "\n",
    "        if preprocessor:\n",
    "            preprocessor.apply(self, can_fit=fit_preprocessor)\n",
    "\n",
    "    def adjust_for_viewer(self, X):\n",
    "        return (X - 127.5) / 127.5\n",
    "\n",
    "    def get_test_set(self):\n",
    "        return EmotionsDataset(**self.test_args)\n",
    "\n",
    "    def _load_data(self, path, expect_labels):\n",
    "\n",
    "        assert path.endswith('.csv')\n",
    "\n",
    "        # If a previous call to this method has already converted\n",
    "        # the data to numpy format, load the numpy directly\n",
    "        X_path = path[:-4] + '.X.npy'\n",
    "        Y_path = path[:-4] + '.Y.npy'\n",
    "        if os.path.exists(X_path):\n",
    "            X = np.load(X_path)\n",
    "            if expect_labels:\n",
    "                y = np.load(Y_path)\n",
    "            else:\n",
    "                y = None\n",
    "            return X, y\n",
    "\n",
    "        # Convert the .csv file to numpy\n",
    "        csv_file = open(path, 'r')\n",
    "\n",
    "        reader = csv.reader(csv_file)\n",
    "\n",
    "        # Discard header\n",
    "        row = next(reader)\n",
    "\n",
    "        y_list = []\n",
    "        X_list = []\n",
    "\n",
    "        for row in reader:\n",
    "            if expect_labels:\n",
    "                y_str, X_row_str = (row[0], row[1])\n",
    "                y = int(y_str)\n",
    "                y_list.append([y])\n",
    "            else:\n",
    "                X_row_str = row[1]\n",
    "            X_row_strs = X_row_str.split(' ')\n",
    "            X_row = [float(x) for x in X_row_strs]\n",
    "            X_list.append(X_row)\n",
    "\n",
    "        X = np.asarray(X_list).astype('float32')\n",
    "        if expect_labels:\n",
    "            y = np.asarray(y_list)\n",
    "        else:\n",
    "            y = None\n",
    "\n",
    "        np.save(X_path, X)\n",
    "        if y is not None:\n",
    "            np.save(Y_path, y)\n",
    "\n",
    "        return X, y\n"
   ]
  },
  {
   "cell_type": "markdown",
   "metadata": {},
   "source": [
    "# csv to jpg\n"
   ]
  },
  {
   "cell_type": "markdown",
   "metadata": {},
   "source": [
    "## 1)"
   ]
  },
  {
   "cell_type": "code",
   "execution_count": null,
   "metadata": {},
   "outputs": [],
   "source": [
    "import os\n",
    "import sys\n",
    "import cv2\n",
    "import numpy as np\n",
    "\n"
   ]
  },
  {
   "cell_type": "code",
   "execution_count": null,
   "metadata": {},
   "outputs": [],
   "source": [
    "def main():\n",
    "    if len(sys.argv) < 2:\n",
    "        print('Usage: python cv_to_img.py [output_path]')\n",
    "    return -1\n",
    "\n",
    "output_path = sys.argv[1]\n",
    "\n",
    "if os.path.exists(output_path):\n",
    "\n",
    "    os.system('rm -rf {}'.format(output_path))\n",
    "\n",
    "os.system('mkdir {}'.format(output_path))\n",
    "\n",
    "label_names = ['Angry', 'Disgust', 'Fear', 'Happy', 'Sad', 'Surprise', 'Neutral']\n",
    "#data = pd.read_csv('fer2013.csv', delimiter=',')\n",
    "data = np.genfromtxt('fer2013.csv',delimiter=',',dtype=None)\n",
    "\n",
    "labels = data[1:,0].astype(np.int32)\n",
    "image_buffer = data[1:,1]\n",
    "images = np.array([np.fromstring(image, np.uint8, sep=' ') for image in image_buffer])\n",
    "usage = data[1:,2]\n",
    "dataset = zip(labels, images, usage)\n",
    "for i, d in enumerate(dataset):\n",
    "    usage_path = os.path.join(output_path, d[-1])\n",
    "    label_path = os.path.join(usage_path, label_names[d[0]])\n",
    "    img = d[1].reshape((48,48))\n",
    "    img_name = '%08d.jpg' % i\n",
    "    img_path = os.path.join(label_path, img_name)\n",
    "    if not os.path.exists(usage_path):\n",
    "        os.system('mkdir {}'.format(usage_path))\n",
    "    if not os.path.exists(label_path):\n",
    "        os.system('mkdir {}'.format(label_path))\n",
    "    cv2.imwrite(img_path, img)\n",
    "    print ('Write {}'.format(img_path))\n",
    "\n"
   ]
  },
  {
   "cell_type": "code",
   "execution_count": null,
   "metadata": {},
   "outputs": [],
   "source": []
  },
  {
   "cell_type": "code",
   "execution_count": null,
   "metadata": {},
   "outputs": [],
   "source": [
    "if __name__ == '__main__':\n",
    "    main()"
   ]
  },
  {
   "cell_type": "markdown",
   "metadata": {},
   "source": [
    "## 2)"
   ]
  },
  {
   "cell_type": "code",
   "execution_count": null,
   "metadata": {},
   "outputs": [],
   "source": [
    "$mkdir fer_images\n",
    "\n",
    "fer_data=pd.read_csv('fer2013/fer2013.csv',delimiter=',')\n",
    "\n",
    "def save_fer_img():\n",
    "\n",
    "for index,row in fer_data.iterrows():\n",
    "pixels=np.asarray(list(row['pixels'].split(' ')),dtype=np.uint8)\n",
    "img=pixels.reshape((48,48))\n",
    "pathname=os.path.join('fer_images',str(index)+'.jpg')\n",
    "cv2.imwrite(pathname,img)\n",
    "print('image saved ias {}'.format(pathname))\n",
    "\n"
   ]
  },
  {
   "cell_type": "markdown",
   "metadata": {},
   "source": [
    "# start"
   ]
  },
  {
   "cell_type": "markdown",
   "metadata": {},
   "source": [
    "## 실시간 영상 처리 \n",
    "\n",
    "##https://www.youtube.com/watch?v=DtBu1u5aBsc"
   ]
  },
  {
   "cell_type": "code",
   "execution_count": null,
   "metadata": {},
   "outputs": [],
   "source": [
    "import sys\n",
    "import os\n",
    "import tensorflow\n",
    "import keras\n",
    "import numpy\n",
    "import pandas as pd\n",
    "import numpy as np"
   ]
  },
  {
   "cell_type": "code",
   "execution_count": null,
   "metadata": {
    "scrolled": true
   },
   "outputs": [],
   "source": [
    "from keras.models import Sequential\n",
    "from keras.layers import Dense,Dropout,Activation,Flatten\n",
    "from keras.layers import Conv2D,BatchNormalization\n",
    "from keras.losses import categorical_crossentropy\n",
    "from keras.optimizers import Adam\n",
    "from keras.regularizers import l2\n",
    "from keras.utils import np_utils\n",
    "\n",
    "from keras.layers import MaxPooling2D"
   ]
  },
  {
   "cell_type": "code",
   "execution_count": null,
   "metadata": {},
   "outputs": [],
   "source": [
    "df = pd.read_csv('fer2013.csv')\n",
    "\n",
    "print(df.info())"
   ]
  },
  {
   "cell_type": "code",
   "execution_count": null,
   "metadata": {
    "scrolled": true
   },
   "outputs": [],
   "source": [
    " print(df.head())\n",
    "    \n",
    "print(df['Usage'].value_counts)"
   ]
  },
  {
   "cell_type": "code",
   "execution_count": null,
   "metadata": {},
   "outputs": [],
   "source": [
    "X_train,train_y,X_test,test_y = [],[],[],[]"
   ]
  },
  {
   "cell_type": "code",
   "execution_count": null,
   "metadata": {},
   "outputs": [],
   "source": [
    "for index,row in df.iterrows():\n",
    "    val = row['pixels'].split(\".\")\n",
    "    try:\n",
    "        if 'Training' in row['Usage']:\n",
    "            X_train.append(np.array(val,'float32'))\n",
    "            train_y.append(row['emotion'])\n",
    "        elif 'PublicTest' in row['Usage']:\n",
    "            X_test.append(np.array(val,'float32'))\n",
    "            test_y.append(row['emotion'])\n",
    "    except:\n",
    "        print('error occured at index:{index} and ros:{row}')\n",
    "print(f\"X_train sample data:{X_train[0:2]}\")\n",
    "print(f\"train_y sample data:{train_y[0:2]}\")\n",
    "print(f\"X_teste sample data:{X_test[0:2]}\")\n",
    "print(f\"test_y sample data:{test_y[0:2]}\")"
   ]
  },
  {
   "cell_type": "code",
   "execution_count": null,
   "metadata": {},
   "outputs": [],
   "source": [
    "X_train = np.array(X_train,'float32')\n",
    "train_y = np.array(train_y , 'float32')\n",
    "X_test = np.array(X_test,'float32')\n",
    "test_y = np.array(test_y,'float32')"
   ]
  },
  {
   "cell_type": "code",
   "execution_count": null,
   "metadata": {},
   "outputs": [],
   "source": []
  },
  {
   "cell_type": "code",
   "execution_count": null,
   "metadata": {},
   "outputs": [],
   "source": []
  },
  {
   "cell_type": "markdown",
   "metadata": {},
   "source": [
    "#  이미지 처리  1\n",
    "-https://github.com/neha01/Realtime-Emotion-Detection/blob/master/emotion_recognition.py#L31"
   ]
  },
  {
   "cell_type": "code",
   "execution_count": null,
   "metadata": {},
   "outputs": [],
   "source": []
  },
  {
   "cell_type": "code",
   "execution_count": null,
   "metadata": {},
   "outputs": [],
   "source": [
    "%matplotlib inline\n",
    "import matplotlib.pyplot as plt\n",
    "from keras.models import Sequential\n",
    "from keras.preprocessing.image import ImageDataGenerator\n",
    "from keras.layers import Dense,Dropout,Flatten\n",
    "from keras.layers import Conv2D,MaxPooling2D\n",
    "from keras import backend as K\n",
    "from keras.losses import categorical_crossentropy\n",
    "import pandas as pd\n",
    "import numpy as np\n",
    "from keras.optimizers import Adam\n",
    "\n",
    "# batch_size = 32\n",
    "\n"
   ]
  },
  {
   "cell_type": "code",
   "execution_count": null,
   "metadata": {},
   "outputs": [],
   "source": [
    "df = pd.read_csv('fer2013.csv')\n"
   ]
  },
  {
   "cell_type": "code",
   "execution_count": null,
   "metadata": {},
   "outputs": [],
   "source": [
    "print(df.head())"
   ]
  },
  {
   "cell_type": "markdown",
   "metadata": {},
   "source": [
    "## TRAIN TEST 나누기 "
   ]
  },
  {
   "cell_type": "code",
   "execution_count": null,
   "metadata": {},
   "outputs": [],
   "source": [
    "X_train,y_train,X_test,y_test=[],[],[],[]\n",
    "\n",
    "for index, row in df.iterrows():\n",
    "    val=row['pixels'].split(\" \")\n",
    "    try:\n",
    "        if 'Training' in row['Usage']:\n",
    "            X_train.append(np.array(val,'float32'))\n",
    "            y_train.append(row['emotion'])\n",
    "        elif 'PublicTest' in row['Usage']:\n",
    "            X_test.append(np.array(val,'float32'))\n",
    "            y_test.append(row['emotion'])\n",
    "    except:\n",
    "        print(f\"error occured at index :{index} and row:{row}\")\n"
   ]
  },
  {
   "cell_type": "code",
   "execution_count": null,
   "metadata": {},
   "outputs": [],
   "source": [
    "df.emotion"
   ]
  },
  {
   "cell_type": "code",
   "execution_count": null,
   "metadata": {},
   "outputs": [],
   "source": [
    "print(type(X_train))"
   ]
  },
  {
   "cell_type": "code",
   "execution_count": null,
   "metadata": {},
   "outputs": [],
   "source": [
    "num_features = 64\n",
    "num_labels = 7\n",
    "batch_size = 64\n",
    "epochs = 30\n",
    "width, height = 48, 48"
   ]
  },
  {
   "cell_type": "code",
   "execution_count": null,
   "metadata": {},
   "outputs": [],
   "source": [
    "X_train = np.array(X_train,'float32')\n",
    "y_train = np.array(y_train,'float32')\n",
    "X_test = np.array(X_test,'float32')\n",
    "y_test = np.array(y_test,'float32')"
   ]
  },
  {
   "cell_type": "markdown",
   "metadata": {},
   "source": [
    "## 'y' one hot encoding"
   ]
  },
  {
   "cell_type": "code",
   "execution_count": null,
   "metadata": {},
   "outputs": [],
   "source": [
    "from keras.utils import np_utils\n",
    "\n",
    "y_train = np_utils.to_categorical(y_train, num_classes = num_labels)\n",
    "y_test = np_utils.to_categorical(y_test,num_classes = num_labels)"
   ]
  },
  {
   "cell_type": "markdown",
   "metadata": {},
   "source": [
    "## 0~1 normalization"
   ]
  },
  {
   "cell_type": "code",
   "execution_count": null,
   "metadata": {},
   "outputs": [],
   "source": [
    "#평균 빼주고  표준편차로 나눠주기\n",
    "\n",
    "X_train -=np.mean(X_train,axis = 0)\n",
    "y_train /=np.std(y_train,axis = 0)\n",
    "\n",
    "X_test -=np.mean(X_test,axis =0)\n",
    "y_test /=np.std(y_train,axis =0)\n"
   ]
  },
  {
   "cell_type": "code",
   "execution_count": null,
   "metadata": {},
   "outputs": [],
   "source": [
    "print(X_test.shape[0])"
   ]
  },
  {
   "cell_type": "code",
   "execution_count": null,
   "metadata": {},
   "outputs": [],
   "source": [
    "X_train = X_train.reshape(X_train.shape[0],48,48,1)\n",
    "\n",
    "X_test = X_test.reshape(X_test.shape[0],48,48,1)"
   ]
  },
  {
   "cell_type": "code",
   "execution_count": null,
   "metadata": {},
   "outputs": [],
   "source": [
    "print(f\"shape:{X_train.shape}\")\n",
    "print(f\"shape:{y_train.shape}\")\n",
    "\n",
    "\n",
    "print(f\"shape:{X_test.shape}\")\n",
    "print(f\"shape:{y_test.shape}\")\n"
   ]
  },
  {
   "cell_type": "markdown",
   "metadata": {},
   "source": [
    "## 모델생성"
   ]
  },
  {
   "cell_type": "markdown",
   "metadata": {},
   "source": [
    "### 1st LAYER"
   ]
  },
  {
   "cell_type": "code",
   "execution_count": null,
   "metadata": {},
   "outputs": [],
   "source": [
    "\n",
    "model = Sequential()\n",
    "model.add(Conv2D(64, kernel_size=(3, 3), activation='relu', input_shape=(X_train.shape[1:])))\n",
    "model.add(Conv2D(64,kernel_size= (3, 3), activation='relu'))\n",
    "          \n",
    "model.add(MaxPooling2D(pool_size =(2,2),strides =(2,2)))\n",
    "model.add(Dropout(0.5))"
   ]
  },
  {
   "cell_type": "markdown",
   "metadata": {},
   "source": [
    "### 2nd LAYER"
   ]
  },
  {
   "cell_type": "code",
   "execution_count": null,
   "metadata": {},
   "outputs": [],
   "source": [
    "model.add(Conv2D(64, (3, 3), activation='relu'))\n",
    "model.add(Conv2D(64, (3, 3), activation='relu'))\n",
    "\n",
    "model.add(MaxPooling2D(pool_size=(2,2), strides=(2, 2)))\n",
    "model.add(Dropout(0.5))"
   ]
  },
  {
   "cell_type": "markdown",
   "metadata": {},
   "source": [
    "### 3rd LAYER"
   ]
  },
  {
   "cell_type": "code",
   "execution_count": null,
   "metadata": {},
   "outputs": [],
   "source": [
    "model.add(Conv2D(128, (3, 3), activation='relu'))\n",
    "model.add(Conv2D(128, (3, 3), activation='relu'))\n",
    "# model.add(BatchNormalization())\n",
    "model.add(MaxPooling2D(pool_size=(2,2), strides=(2, 2)))"
   ]
  },
  {
   "cell_type": "code",
   "execution_count": null,
   "metadata": {},
   "outputs": [],
   "source": [
    "model.add(Flatten())"
   ]
  },
  {
   "cell_type": "markdown",
   "metadata": {},
   "source": [
    "## Fully connected"
   ]
  },
  {
   "cell_type": "code",
   "execution_count": null,
   "metadata": {},
   "outputs": [],
   "source": [
    "model.add(Dense(1024,activation = 'relu'))\n",
    "model.add(Dropout(0.2))\n",
    "model.add(Dense(1024,activation ='relu'))\n",
    "model.add(Dropout(0.2))"
   ]
  },
  {
   "cell_type": "code",
   "execution_count": null,
   "metadata": {},
   "outputs": [],
   "source": [
    "model.add(Dense(num_labels, activation = 'softmax'))"
   ]
  },
  {
   "cell_type": "code",
   "execution_count": null,
   "metadata": {},
   "outputs": [],
   "source": [
    "model.summary()"
   ]
  },
  {
   "cell_type": "markdown",
   "metadata": {},
   "source": [
    "## compiling"
   ]
  },
  {
   "cell_type": "code",
   "execution_count": null,
   "metadata": {},
   "outputs": [],
   "source": [
    "model.compile(loss = categorical_crossentropy,\n",
    "             optimizer =Adam(),\n",
    "             metrics =['accuracy'])\n",
    "\n"
   ]
  },
  {
   "cell_type": "markdown",
   "metadata": {},
   "source": [
    "## training"
   ]
  },
  {
   "cell_type": "code",
   "execution_count": null,
   "metadata": {
    "scrolled": false
   },
   "outputs": [],
   "source": [
    "fer = model.fit(X_train,y_train,batch_size = batch_size ,\n",
    "          epochs = epochs , verbose =1, validation_data =(X_test,y_test),shuffle = True)\n"
   ]
  },
  {
   "cell_type": "markdown",
   "metadata": {},
   "source": [
    "## visualize`"
   ]
  },
  {
   "cell_type": "code",
   "execution_count": null,
   "metadata": {},
   "outputs": [],
   "source": [
    "loss = fer.fer['loss']\n",
    "# val_loss = fer.fer['val_loss']\n",
    "\n",
    "epochs = range(1,len(loss) +1)\n",
    "\n",
    "plt.plot(epochs,loss,'bo',label = 'Training loss')\n",
    "# plt.plot(epochs,val_loss,'b',label = 'Validation loss')\n",
    "\n",
    "plt.title('Loss')\n",
    "\n",
    "plt.xlabel('Epochs')\n",
    "plt.ylabel('Loss')\n",
    "\n",
    "plt.legend()\n",
    "plt.show()"
   ]
  },
  {
   "cell_type": "code",
   "execution_count": null,
   "metadata": {},
   "outputs": [],
   "source": [
    "plt.clf()  #그래프 초기화\n",
    "\n",
    "acc = fer.fer['Acc']\n",
    "# val_acc = fer.fer['val_acc']\n",
    "\n",
    "plt.plot(epochs,acc,'bo',label = 'Accuracy')\n",
    "\n",
    "# plt.plot(epochs,val_acc,'b',label = 'val_acc')\n",
    "plt.title('Accuracy')\n",
    "plt.xlabel('Epochs')\n",
    "plt.ylabel('Accuracy')\n",
    "\n",
    "plt.legend()\n",
    "\n",
    "plt.show()"
   ]
  },
  {
   "cell_type": "markdown",
   "metadata": {},
   "source": [
    "# 이미지 처리 2 \n",
    "\n",
    "-https://www.kaggle.com/omarensaj/fer-emotion-detection-psd07"
   ]
  },
  {
   "cell_type": "code",
   "execution_count": 13,
   "metadata": {},
   "outputs": [],
   "source": [
    "import tarfile\n",
    "import pandas as pd\n",
    "import numpy as np\n",
    "import matplotlib.pyplot as plt\n",
    "from keras.models import Sequential, Model, model_from_json\n",
    "from keras.layers import Dense,Conv2D,Activation,MaxPool2D,Flatten,Dropout,BatchNormalization\n",
    "\n",
    "\n",
    "from keras.layers.convolutional import MaxPooling2D\n",
    "from keras.utils import np_utils\n",
    "from keras.callbacks import ModelCheckpoint\n",
    "\n",
    "%matplotlib inline\n"
   ]
  },
  {
   "cell_type": "code",
   "execution_count": 49,
   "metadata": {},
   "outputs": [],
   "source": [
    "df = pd.read_csv('fer2013.csv')"
   ]
  },
  {
   "cell_type": "code",
   "execution_count": 5,
   "metadata": {},
   "outputs": [
    {
     "data": {
      "text/html": [
       "<div>\n",
       "<style scoped>\n",
       "    .dataframe tbody tr th:only-of-type {\n",
       "        vertical-align: middle;\n",
       "    }\n",
       "\n",
       "    .dataframe tbody tr th {\n",
       "        vertical-align: top;\n",
       "    }\n",
       "\n",
       "    .dataframe thead th {\n",
       "        text-align: right;\n",
       "    }\n",
       "</style>\n",
       "<table border=\"1\" class=\"dataframe\">\n",
       "  <thead>\n",
       "    <tr style=\"text-align: right;\">\n",
       "      <th></th>\n",
       "      <th>emotion</th>\n",
       "      <th>pixels</th>\n",
       "      <th>Usage</th>\n",
       "    </tr>\n",
       "  </thead>\n",
       "  <tbody>\n",
       "    <tr>\n",
       "      <td>0</td>\n",
       "      <td>0</td>\n",
       "      <td>70 80 82 72 58 58 60 63 54 58 60 48 89 115 121...</td>\n",
       "      <td>Training</td>\n",
       "    </tr>\n",
       "    <tr>\n",
       "      <td>1</td>\n",
       "      <td>0</td>\n",
       "      <td>151 150 147 155 148 133 111 140 170 174 182 15...</td>\n",
       "      <td>Training</td>\n",
       "    </tr>\n",
       "    <tr>\n",
       "      <td>2</td>\n",
       "      <td>2</td>\n",
       "      <td>231 212 156 164 174 138 161 173 182 200 106 38...</td>\n",
       "      <td>Training</td>\n",
       "    </tr>\n",
       "    <tr>\n",
       "      <td>3</td>\n",
       "      <td>4</td>\n",
       "      <td>24 32 36 30 32 23 19 20 30 41 21 22 32 34 21 1...</td>\n",
       "      <td>Training</td>\n",
       "    </tr>\n",
       "    <tr>\n",
       "      <td>4</td>\n",
       "      <td>6</td>\n",
       "      <td>4 0 0 0 0 0 0 0 0 0 0 0 3 15 23 28 48 50 58 84...</td>\n",
       "      <td>Training</td>\n",
       "    </tr>\n",
       "  </tbody>\n",
       "</table>\n",
       "</div>"
      ],
      "text/plain": [
       "   emotion                                             pixels     Usage\n",
       "0        0  70 80 82 72 58 58 60 63 54 58 60 48 89 115 121...  Training\n",
       "1        0  151 150 147 155 148 133 111 140 170 174 182 15...  Training\n",
       "2        2  231 212 156 164 174 138 161 173 182 200 106 38...  Training\n",
       "3        4  24 32 36 30 32 23 19 20 30 41 21 22 32 34 21 1...  Training\n",
       "4        6  4 0 0 0 0 0 0 0 0 0 0 0 3 15 23 28 48 50 58 84...  Training"
      ]
     },
     "execution_count": 5,
     "metadata": {},
     "output_type": "execute_result"
    }
   ],
   "source": [
    "df.head()"
   ]
  },
  {
   "cell_type": "code",
   "execution_count": 6,
   "metadata": {},
   "outputs": [
    {
     "data": {
      "text/plain": [
       "Training       28709\n",
       "PrivateTest     3589\n",
       "PublicTest      3589\n",
       "Name: Usage, dtype: int64"
      ]
     },
     "execution_count": 6,
     "metadata": {},
     "output_type": "execute_result"
    }
   ],
   "source": [
    "df['Usage'].value_counts()"
   ]
  },
  {
   "cell_type": "markdown",
   "metadata": {},
   "source": [
    "## train val test 나누기"
   ]
  },
  {
   "cell_type": "code",
   "execution_count": 7,
   "metadata": {},
   "outputs": [
    {
     "data": {
      "text/plain": [
       "emotion    0\n",
       "pixels     0\n",
       "dtype: int64"
      ]
     },
     "execution_count": 7,
     "metadata": {},
     "output_type": "execute_result"
    }
   ],
   "source": [
    "train = df[['emotion','pixels']][df['Usage'] == 'Training']\n",
    "train.isnull().sum()"
   ]
  },
  {
   "cell_type": "code",
   "execution_count": 8,
   "metadata": {},
   "outputs": [
    {
     "data": {
      "text/plain": [
       "((28709, 2304), (28709,))"
      ]
     },
     "execution_count": 8,
     "metadata": {},
     "output_type": "execute_result"
    }
   ],
   "source": [
    "train['pixels'] =train['pixels'].apply(lambda im:np.fromstring(im,sep=' '))\n",
    "x_train = np.vstack(train['pixels'].values)\n",
    "y_train = np.array(train['emotion'])\n",
    "x_train.shape,y_train.shape"
   ]
  },
  {
   "cell_type": "code",
   "execution_count": 9,
   "metadata": {},
   "outputs": [],
   "source": [
    "public_test_df = df[['emotion','pixels']][df['Usage'] == 'PublicTest']\n"
   ]
  },
  {
   "cell_type": "code",
   "execution_count": 10,
   "metadata": {},
   "outputs": [],
   "source": [
    "public_test_df['pixels'] = public_test_df['pixels'].apply(lambda im:np.fromstring(im,sep=' '))\n",
    "\n",
    "x_val = np.vstack(public_test_df['pixels'].values)\n",
    "y_val = np.array(public_test_df['emotion'])"
   ]
  },
  {
   "cell_type": "code",
   "execution_count": null,
   "metadata": {},
   "outputs": [],
   "source": []
  },
  {
   "cell_type": "code",
   "execution_count": 10,
   "metadata": {},
   "outputs": [
    {
     "name": "stdout",
     "output_type": "stream",
     "text": [
      "(28709, 2304)\n",
      "(3589, 2304)\n"
     ]
    }
   ],
   "source": [
    "print(x_train.shape)\n",
    "print(x_val.shape)"
   ]
  },
  {
   "cell_type": "code",
   "execution_count": 11,
   "metadata": {},
   "outputs": [],
   "source": [
    "x_train = x_train.reshape(-1,48,48,1)\n",
    "x_val = x_val.reshape(-1,48,48,1)"
   ]
  },
  {
   "cell_type": "code",
   "execution_count": 12,
   "metadata": {},
   "outputs": [
    {
     "name": "stdout",
     "output_type": "stream",
     "text": [
      "(28709, 48, 48, 1)\n",
      "(3589, 48, 48, 1)\n"
     ]
    }
   ],
   "source": [
    "print(x_train.shape)\n",
    "print(x_val.shape)"
   ]
  },
  {
   "cell_type": "code",
   "execution_count": 13,
   "metadata": {},
   "outputs": [],
   "source": [
    "y_train = np_utils.to_categorical(y_train)\n",
    "y_val = np_utils.to_categorical(y_val)\n"
   ]
  },
  {
   "cell_type": "code",
   "execution_count": 15,
   "metadata": {},
   "outputs": [
    {
     "name": "stdout",
     "output_type": "stream",
     "text": [
      "(28709, 7)\n",
      "(3589, 7)\n"
     ]
    }
   ],
   "source": [
    "print(y_train.shape)\n",
    "print(y_val.shape)"
   ]
  },
  {
   "cell_type": "code",
   "execution_count": 16,
   "metadata": {},
   "outputs": [
    {
     "data": {
      "image/png": "[encoded data removed]",
      "text/plain": [
       "<Figure size 864x432 with 12 Axes>"
      ]
     },
     "metadata": {
      "needs_background": "light"
     },
     "output_type": "display_data"
    }
   ],
   "source": [
    "import seaborn as sns\n",
    "plt.figure(0,figsize=(12,6))\n",
    "for i in range(1,13):\n",
    "    plt.subplot(3,4,i)\n",
    "    plt.imshow(x_train[i,:,:,0],cmap='gray')\n",
    "\n",
    "plt.tight_layout()\n",
    "plt.show()"
   ]
  },
  {
   "cell_type": "markdown",
   "metadata": {},
   "source": [
    "## 모델만들기"
   ]
  },
  {
   "cell_type": "code",
   "execution_count": 14,
   "metadata": {},
   "outputs": [],
   "source": [
    "from keras.models import Sequential\n",
    "from keras.layers.normalization import BatchNormalization\n",
    "from keras.layers.convolutional import Conv2D\n",
    "from keras.layers.convolutional import MaxPooling2D\n",
    "from keras.layers.core import Activation\n",
    "from keras.layers.core import Flatten\n",
    "from keras.layers.core import Dropout\n",
    "from keras.layers.core import Dense\n",
    "from keras import backend as K"
   ]
  },
  {
   "cell_type": "code",
   "execution_count": 17,
   "metadata": {},
   "outputs": [],
   "source": [
    "def buildModel(width, height, depth):\n",
    "\t\t# initialize the model along with the input shape to be\n",
    "\t\t# \"channels last\" and the channels dimension itself\n",
    "\t\tmodel = Sequential()\n",
    "\t\tchanDim = -1\n",
    "\t\t# CONV => RELU => POOL\n",
    "\t\tmodel.add(Conv2D(64, 3, data_format=\"channels_last\", kernel_initializer=\"he_normal\", \n",
    "                 input_shape=(48, 48, 1)))\n",
    "\t\tmodel.add(Activation(\"relu\"))\n",
    "\t\tmodel.add(BatchNormalization(axis=chanDim))\n",
    "\t\tmodel.add(MaxPooling2D(pool_size=(3, 3)))\n",
    "\t\tmodel.add(Dropout(0.25))\n",
    "\n",
    "\t\t# (CONV => RELU) * 2 => POOL\n",
    "\t\tmodel.add(Conv2D(64, (3, 3), padding=\"same\"))\n",
    "\t\tmodel.add(Activation(\"relu\"))\n",
    "\t\tmodel.add(BatchNormalization(axis=chanDim))\n",
    "\t\tmodel.add(Conv2D(64, (3, 3), padding=\"same\"))\n",
    "\t\tmodel.add(Activation(\"relu\"))\n",
    "\t\tmodel.add(BatchNormalization(axis=chanDim))\n",
    "\t\tmodel.add(MaxPooling2D(pool_size=(2, 2)))\n",
    "\t\tmodel.add(Dropout(0.25))\n",
    "\n",
    "\t\t# (CONV => RELU) * 2 => POOL\n",
    "\t\tmodel.add(Conv2D(128, (3, 3), padding=\"same\"))\n",
    "\t\tmodel.add(Activation(\"relu\"))\n",
    "\t\tmodel.add(BatchNormalization(axis=chanDim))\n",
    "\t\tmodel.add(Conv2D(128, (3, 3), padding=\"same\"))\n",
    "\t\tmodel.add(Activation(\"relu\"))\n",
    "\t\tmodel.add(BatchNormalization(axis=chanDim))\n",
    "\t\tmodel.add(MaxPooling2D(pool_size=(2, 2)))\n",
    "\t\tmodel.add(Dropout(0.25))\n",
    "\n",
    "\t\t# first (and only) set of FC => RELU layers\n",
    "\t\tmodel.add(Flatten())\n",
    "\t\tmodel.add(Dense(1024))\n",
    "\t\tmodel.add(Activation(\"relu\"))\n",
    "\t\tmodel.add(BatchNormalization())\n",
    "\t\tmodel.add(Dropout(0.25))\n",
    "\n",
    "\t\t# softmax classifier\n",
    "\t\tmodel.add(Dense(7))\n",
    "\t\tmodel.add(Activation(\"softmax\"))\n",
    "\n",
    "\t\t# return the constructed network architecture\n",
    "\t\treturn model\n"
   ]
  },
  {
   "cell_type": "code",
   "execution_count": 18,
   "metadata": {},
   "outputs": [],
   "source": [
    "# batch size, and image dimensions\n",
    "EPOCHS = 100\n",
    "INIT_LR = 1e-3  #learning rate\n",
    "BS = 32  #BATCH SIZE\n"
   ]
  },
  {
   "cell_type": "code",
   "execution_count": 20,
   "metadata": {},
   "outputs": [],
   "source": [
    "model = buildModel(width = 48 , height = 48, depth =1)"
   ]
  },
  {
   "cell_type": "code",
   "execution_count": 21,
   "metadata": {
    "scrolled": true
   },
   "outputs": [
    {
     "name": "stdout",
     "output_type": "stream",
     "text": [
      "_________________________________________________________________\n",
      "Layer (type)                 Output Shape              Param #   \n",
      "=================================================================\n",
      "conv2d_6 (Conv2D)            (None, 46, 46, 64)        640       \n",
      "_________________________________________________________________\n",
      "activation_8 (Activation)    (None, 46, 46, 64)        0         \n",
      "_________________________________________________________________\n",
      "batch_normalization_7 (Batch (None, 46, 46, 64)        256       \n",
      "_________________________________________________________________\n",
      "max_pooling2d_4 (MaxPooling2 (None, 15, 15, 64)        0         \n",
      "_________________________________________________________________\n",
      "dropout_5 (Dropout)          (None, 15, 15, 64)        0         \n",
      "_________________________________________________________________\n",
      "conv2d_7 (Conv2D)            (None, 15, 15, 64)        36928     \n",
      "_________________________________________________________________\n",
      "activation_9 (Activation)    (None, 15, 15, 64)        0         \n",
      "_________________________________________________________________\n",
      "batch_normalization_8 (Batch (None, 15, 15, 64)        256       \n",
      "_________________________________________________________________\n",
      "conv2d_8 (Conv2D)            (None, 15, 15, 64)        36928     \n",
      "_________________________________________________________________\n",
      "activation_10 (Activation)   (None, 15, 15, 64)        0         \n",
      "_________________________________________________________________\n",
      "batch_normalization_9 (Batch (None, 15, 15, 64)        256       \n",
      "_________________________________________________________________\n",
      "max_pooling2d_5 (MaxPooling2 (None, 7, 7, 64)          0         \n",
      "_________________________________________________________________\n",
      "dropout_6 (Dropout)          (None, 7, 7, 64)          0         \n",
      "_________________________________________________________________\n",
      "conv2d_9 (Conv2D)            (None, 7, 7, 128)         73856     \n",
      "_________________________________________________________________\n",
      "activation_11 (Activation)   (None, 7, 7, 128)         0         \n",
      "_________________________________________________________________\n",
      "batch_normalization_10 (Batc (None, 7, 7, 128)         512       \n",
      "_________________________________________________________________\n",
      "conv2d_10 (Conv2D)           (None, 7, 7, 128)         147584    \n",
      "_________________________________________________________________\n",
      "activation_12 (Activation)   (None, 7, 7, 128)         0         \n",
      "_________________________________________________________________\n",
      "batch_normalization_11 (Batc (None, 7, 7, 128)         512       \n",
      "_________________________________________________________________\n",
      "max_pooling2d_6 (MaxPooling2 (None, 3, 3, 128)         0         \n",
      "_________________________________________________________________\n",
      "dropout_7 (Dropout)          (None, 3, 3, 128)         0         \n",
      "_________________________________________________________________\n",
      "flatten_2 (Flatten)          (None, 1152)              0         \n",
      "_________________________________________________________________\n",
      "dense_3 (Dense)              (None, 1024)              1180672   \n",
      "_________________________________________________________________\n",
      "activation_13 (Activation)   (None, 1024)              0         \n",
      "_________________________________________________________________\n",
      "batch_normalization_12 (Batc (None, 1024)              4096      \n",
      "_________________________________________________________________\n",
      "dropout_8 (Dropout)          (None, 1024)              0         \n",
      "_________________________________________________________________\n",
      "dense_4 (Dense)              (None, 7)                 7175      \n",
      "_________________________________________________________________\n",
      "activation_14 (Activation)   (None, 7)                 0         \n",
      "=================================================================\n",
      "Total params: 1,489,671\n",
      "Trainable params: 1,486,727\n",
      "Non-trainable params: 2,944\n",
      "_________________________________________________________________\n"
     ]
    }
   ],
   "source": [
    "model.summary()"
   ]
  },
  {
   "cell_type": "code",
   "execution_count": 15,
   "metadata": {},
   "outputs": [],
   "source": [
    "from keras.optimizers import Adam"
   ]
  },
  {
   "cell_type": "code",
   "execution_count": 24,
   "metadata": {},
   "outputs": [],
   "source": [
    "opt = Adam(lr = INIT_LR, decay = INIT_LR/EPOCHS)\n",
    "model.compile(loss = 'categorical_crossentropy',optimizer = opt,metrics = ['accuracy'])"
   ]
  },
  {
   "cell_type": "code",
   "execution_count": 16,
   "metadata": {},
   "outputs": [],
   "source": [
    "from keras.preprocessing.image import ImageDataGenerator"
   ]
  },
  {
   "cell_type": "code",
   "execution_count": 26,
   "metadata": {},
   "outputs": [],
   "source": [
    "aug = ImageDataGenerator(rotation_range = 25, width_shift_range =0.1,\n",
    "                        height_shift_range = 0.1,shear_range=0.2,zoom_range=0.2,\n",
    "                        horizontal_flip = True,fill_mode = 'nearest')"
   ]
  },
  {
   "cell_type": "markdown",
   "metadata": {},
   "source": [
    "## 모델돌리기"
   ]
  },
  {
   "cell_type": "code",
   "execution_count": 28,
   "metadata": {
    "scrolled": true
   },
   "outputs": [
    {
     "name": "stdout",
     "output_type": "stream",
     "text": [
      "WARNING:tensorflow:From C:\\Users\\seoyo\\Anaconda3\\lib\\site-packages\\tensorflow\\python\\ops\\math_grad.py:1250: add_dispatch_support.<locals>.wrapper (from tensorflow.python.ops.array_ops) is deprecated and will be removed in a future version.\n",
      "Instructions for updating:\n",
      "Use tf.where in 2.0, which has the same broadcast rule as np.where\n",
      "Epoch 1/100\n",
      "897/897 [==============================] - 330s 368ms/step - loss: 2.0318 - acc: 0.2560 - val_loss: 2.1565 - val_acc: 0.3430\n",
      "Epoch 2/100\n",
      "897/897 [==============================] - 373s 416ms/step - loss: 1.7329 - acc: 0.3504 - val_loss: 1.8972 - val_acc: 0.4179\n",
      "Epoch 3/100\n",
      "897/897 [==============================] - 352s 392ms/step - loss: 1.5806 - acc: 0.4126 - val_loss: 1.7811 - val_acc: 0.4494\n",
      "Epoch 4/100\n",
      "897/897 [==============================] - 321s 358ms/step - loss: 1.5065 - acc: 0.4408 - val_loss: 1.4719 - val_acc: 0.4882\n",
      "Epoch 5/100\n",
      "897/897 [==============================] - 311s 346ms/step - loss: 1.4388 - acc: 0.4612 - val_loss: 1.4546 - val_acc: 0.5110\n",
      "Epoch 6/100\n",
      "897/897 [==============================] - 311s 347ms/step - loss: 1.4036 - acc: 0.4774 - val_loss: 1.3188 - val_acc: 0.5322\n",
      "Epoch 7/100\n",
      "897/897 [==============================] - 374s 417ms/step - loss: 1.3644 - acc: 0.4891 - val_loss: 1.4666 - val_acc: 0.5375\n",
      "Epoch 8/100\n",
      "897/897 [==============================] - 406s 453ms/step - loss: 1.3317 - acc: 0.4960 - val_loss: 1.4421 - val_acc: 0.4901\n",
      "Epoch 9/100\n",
      "897/897 [==============================] - 394s 440ms/step - loss: 1.3000 - acc: 0.5104 - val_loss: 1.2951 - val_acc: 0.5361\n",
      "Epoch 10/100\n",
      "897/897 [==============================] - 338s 377ms/step - loss: 1.2760 - acc: 0.5179 - val_loss: 1.3314 - val_acc: 0.5288\n",
      "Epoch 11/100\n",
      "897/897 [==============================] - 341s 380ms/step - loss: 1.2627 - acc: 0.5215 - val_loss: 1.1529 - val_acc: 0.5623\n",
      "Epoch 12/100\n",
      "897/897 [==============================] - 336s 374ms/step - loss: 1.2449 - acc: 0.5293 - val_loss: 1.1602 - val_acc: 0.5729\n",
      "Epoch 13/100\n",
      "897/897 [==============================] - 319s 355ms/step - loss: 1.2297 - acc: 0.5366 - val_loss: 1.1619 - val_acc: 0.5695\n",
      "Epoch 14/100\n",
      "897/897 [==============================] - 338s 376ms/step - loss: 1.2165 - acc: 0.5396 - val_loss: 1.1347 - val_acc: 0.5751\n",
      "Epoch 15/100\n",
      "897/897 [==============================] - 322s 359ms/step - loss: 1.1985 - acc: 0.5454 - val_loss: 1.2283 - val_acc: 0.5364\n",
      "Epoch 16/100\n",
      "897/897 [==============================] - 321s 358ms/step - loss: 1.1913 - acc: 0.5482 - val_loss: 1.1077 - val_acc: 0.5871\n",
      "Epoch 17/100\n",
      "897/897 [==============================] - 347s 387ms/step - loss: 1.1846 - acc: 0.5517 - val_loss: 1.0938 - val_acc: 0.5901\n",
      "Epoch 18/100\n",
      "897/897 [==============================] - 327s 364ms/step - loss: 1.1791 - acc: 0.5545 - val_loss: 1.0866 - val_acc: 0.5929\n",
      "Epoch 19/100\n",
      "897/897 [==============================] - 335s 374ms/step - loss: 1.1645 - acc: 0.5584 - val_loss: 1.1350 - val_acc: 0.5745\n",
      "Epoch 20/100\n",
      "897/897 [==============================] - 356s 397ms/step - loss: 1.1546 - acc: 0.5621 - val_loss: 1.1145 - val_acc: 0.6021\n",
      "Epoch 21/100\n",
      "897/897 [==============================] - 327s 364ms/step - loss: 1.1519 - acc: 0.5661 - val_loss: 1.1339 - val_acc: 0.5826\n",
      "Epoch 22/100\n",
      "897/897 [==============================] - 337s 376ms/step - loss: 1.1429 - acc: 0.5703 - val_loss: 1.0679 - val_acc: 0.6032\n",
      "Epoch 23/100\n",
      "897/897 [==============================] - 341s 380ms/step - loss: 1.1360 - acc: 0.5721 - val_loss: 1.0920 - val_acc: 0.5879\n",
      "Epoch 24/100\n",
      "897/897 [==============================] - 358s 399ms/step - loss: 1.1262 - acc: 0.5736 - val_loss: 1.0891 - val_acc: 0.5890\n",
      "Epoch 25/100\n",
      "897/897 [==============================] - 334s 372ms/step - loss: 1.1266 - acc: 0.5747 - val_loss: 1.0718 - val_acc: 0.5996\n",
      "Epoch 26/100\n",
      "897/897 [==============================] - 340s 379ms/step - loss: 1.1235 - acc: 0.5715 - val_loss: 1.0652 - val_acc: 0.6096\n",
      "Epoch 27/100\n",
      "897/897 [==============================] - 366s 408ms/step - loss: 1.1154 - acc: 0.5787 - val_loss: 1.0617 - val_acc: 0.6046\n",
      "Epoch 28/100\n",
      "897/897 [==============================] - 341s 380ms/step - loss: 1.1074 - acc: 0.5828 - val_loss: 1.0398 - val_acc: 0.6080\n",
      "Epoch 29/100\n",
      "897/897 [==============================] - 336s 374ms/step - loss: 1.1089 - acc: 0.5881 - val_loss: 1.0314 - val_acc: 0.6166\n",
      "Epoch 30/100\n",
      "897/897 [==============================] - 338s 376ms/step - loss: 1.0974 - acc: 0.5872 - val_loss: 1.0290 - val_acc: 0.6188\n",
      "Epoch 31/100\n",
      "897/897 [==============================] - 338s 376ms/step - loss: 1.1018 - acc: 0.5836 - val_loss: 1.0401 - val_acc: 0.6108\n",
      "Epoch 32/100\n",
      "897/897 [==============================] - 385s 429ms/step - loss: 1.0946 - acc: 0.5874 - val_loss: 1.0889 - val_acc: 0.5932\n",
      "Epoch 33/100\n",
      "897/897 [==============================] - 453s 505ms/step - loss: 1.0890 - acc: 0.5920 - val_loss: 1.0290 - val_acc: 0.6225\n",
      "Epoch 34/100\n",
      "897/897 [==============================] - 464s 517ms/step - loss: 1.0838 - acc: 0.5911 - val_loss: 1.0582 - val_acc: 0.6119\n",
      "Epoch 35/100\n",
      "897/897 [==============================] - 374s 417ms/step - loss: 1.0796 - acc: 0.5929 - val_loss: 1.0550 - val_acc: 0.6113\n",
      "Epoch 36/100\n",
      "897/897 [==============================] - 424s 473ms/step - loss: 1.0727 - acc: 0.5941 - val_loss: 1.0278 - val_acc: 0.6130\n",
      "Epoch 37/100\n",
      "897/897 [==============================] - 399s 445ms/step - loss: 1.0659 - acc: 0.5960 - val_loss: 1.0399 - val_acc: 0.6094\n",
      "Epoch 38/100\n",
      "897/897 [==============================] - 542s 604ms/step - loss: 1.0739 - acc: 0.5972 - val_loss: 1.0796 - val_acc: 0.6091\n",
      "Epoch 39/100\n",
      "897/897 [==============================] - 636s 709ms/step - loss: 1.0679 - acc: 0.5999 - val_loss: 1.1284 - val_acc: 0.5809\n",
      "Epoch 40/100\n",
      "897/897 [==============================] - 446s 498ms/step - loss: 1.0606 - acc: 0.5988 - val_loss: 1.0813 - val_acc: 0.6032\n",
      "Epoch 41/100\n",
      "897/897 [==============================] - 360s 401ms/step - loss: 1.0613 - acc: 0.6011 - val_loss: 1.0126 - val_acc: 0.6278\n",
      "Epoch 42/100\n",
      "897/897 [==============================] - 394s 439ms/step - loss: 1.0582 - acc: 0.6005 - val_loss: 1.0287 - val_acc: 0.6325\n",
      "Epoch 43/100\n",
      "897/897 [==============================] - 438s 489ms/step - loss: 1.0525 - acc: 0.6071 - val_loss: 1.0306 - val_acc: 0.6266\n",
      "Epoch 44/100\n",
      "897/897 [==============================] - 506s 564ms/step - loss: 1.0532 - acc: 0.6025 - val_loss: 1.0268 - val_acc: 0.6166\n",
      "Epoch 45/100\n",
      "897/897 [==============================] - 436s 486ms/step - loss: 1.0451 - acc: 0.6056 - val_loss: 1.0414 - val_acc: 0.6141\n",
      "Epoch 46/100\n",
      "897/897 [==============================] - 506s 564ms/step - loss: 1.0429 - acc: 0.6100 - val_loss: 1.0231 - val_acc: 0.6325\n",
      "Epoch 47/100\n",
      "897/897 [==============================] - 521s 581ms/step - loss: 1.0404 - acc: 0.6084 - val_loss: 1.0415 - val_acc: 0.6108\n",
      "Epoch 48/100\n",
      "897/897 [==============================] - 552s 615ms/step - loss: 1.0371 - acc: 0.6086 - val_loss: 1.0229 - val_acc: 0.6258\n",
      "Epoch 49/100\n",
      "897/897 [==============================] - 528s 588ms/step - loss: 1.0368 - acc: 0.6095 - val_loss: 1.0355 - val_acc: 0.6096\n",
      "Epoch 50/100\n",
      "897/897 [==============================] - 508s 567ms/step - loss: 1.0361 - acc: 0.6115 - val_loss: 1.0091 - val_acc: 0.6314\n",
      "Epoch 51/100\n",
      "897/897 [==============================] - 500s 557ms/step - loss: 1.0309 - acc: 0.6115 - val_loss: 0.9991 - val_acc: 0.6317\n",
      "Epoch 52/100\n",
      "897/897 [==============================] - 521s 581ms/step - loss: 1.0162 - acc: 0.6176 - val_loss: 1.0503 - val_acc: 0.6183\n",
      "Epoch 53/100\n",
      "897/897 [==============================] - 522s 582ms/step - loss: 1.0228 - acc: 0.6150 - val_loss: 1.0251 - val_acc: 0.6227\n",
      "Epoch 54/100\n",
      "897/897 [==============================] - 471s 525ms/step - loss: 1.0250 - acc: 0.6134 - val_loss: 1.0309 - val_acc: 0.6147\n",
      "Epoch 55/100\n",
      "897/897 [==============================] - 550s 613ms/step - loss: 1.0212 - acc: 0.6130 - val_loss: 1.0236 - val_acc: 0.6239\n",
      "Epoch 56/100\n",
      "897/897 [==============================] - 512s 571ms/step - loss: 1.0164 - acc: 0.6145 - val_loss: 1.0061 - val_acc: 0.6297\n",
      "Epoch 57/100\n",
      "897/897 [==============================] - 551s 614ms/step - loss: 1.0105 - acc: 0.6231 - val_loss: 1.0316 - val_acc: 0.6247\n",
      "Epoch 58/100\n"
     ]
    },
    {
     "name": "stdout",
     "output_type": "stream",
     "text": [
      "897/897 [==============================] - 493s 550ms/step - loss: 1.0147 - acc: 0.6168 - val_loss: 1.0211 - val_acc: 0.6289\n",
      "Epoch 59/100\n",
      "897/897 [==============================] - 439s 489ms/step - loss: 1.0116 - acc: 0.6209 - val_loss: 1.0091 - val_acc: 0.6317\n",
      "Epoch 60/100\n",
      "897/897 [==============================] - 411s 458ms/step - loss: 1.0129 - acc: 0.6189 - val_loss: 0.9960 - val_acc: 0.6425\n",
      "Epoch 61/100\n",
      "897/897 [==============================] - 435s 485ms/step - loss: 0.9999 - acc: 0.6251 - val_loss: 1.0164 - val_acc: 0.6305\n",
      "Epoch 62/100\n",
      "897/897 [==============================] - 460s 513ms/step - loss: 1.0032 - acc: 0.6243 - val_loss: 1.0019 - val_acc: 0.6336\n",
      "Epoch 63/100\n",
      "897/897 [==============================] - 431s 481ms/step - loss: 0.9996 - acc: 0.6254 - val_loss: 0.9958 - val_acc: 0.6389\n",
      "Epoch 64/100\n",
      "897/897 [==============================] - 434s 483ms/step - loss: 0.9965 - acc: 0.6267 - val_loss: 1.0109 - val_acc: 0.6255\n",
      "Epoch 65/100\n",
      "897/897 [==============================] - 454s 506ms/step - loss: 0.9973 - acc: 0.6260 - val_loss: 0.9995 - val_acc: 0.6358\n",
      "Epoch 66/100\n",
      "897/897 [==============================] - 423s 471ms/step - loss: 1.0012 - acc: 0.6248 - val_loss: 1.0014 - val_acc: 0.6344\n",
      "Epoch 67/100\n",
      "897/897 [==============================] - 403s 450ms/step - loss: 0.9941 - acc: 0.6259 - val_loss: 1.0375 - val_acc: 0.6225\n",
      "Epoch 68/100\n",
      "897/897 [==============================] - 394s 440ms/step - loss: 0.9890 - acc: 0.6285 - val_loss: 1.0034 - val_acc: 0.6342\n",
      "Epoch 69/100\n",
      "897/897 [==============================] - 393s 438ms/step - loss: 0.9966 - acc: 0.6295 - val_loss: 0.9933 - val_acc: 0.6353\n",
      "Epoch 70/100\n",
      "897/897 [==============================] - 396s 441ms/step - loss: 0.9835 - acc: 0.6315 - val_loss: 0.9946 - val_acc: 0.6395\n",
      "Epoch 71/100\n",
      "897/897 [==============================] - 717s 799ms/step - loss: 0.9869 - acc: 0.6330 - val_loss: 0.9727 - val_acc: 0.6514\n",
      "Epoch 72/100\n",
      "897/897 [==============================] - 399s 445ms/step - loss: 0.9857 - acc: 0.6306 - val_loss: 0.9969 - val_acc: 0.6342\n",
      "Epoch 73/100\n",
      "897/897 [==============================] - 404s 451ms/step - loss: 0.9813 - acc: 0.6332 - val_loss: 0.9879 - val_acc: 0.6350\n",
      "Epoch 74/100\n",
      "897/897 [==============================] - 417s 465ms/step - loss: 0.9812 - acc: 0.6322 - val_loss: 0.9953 - val_acc: 0.6369\n",
      "Epoch 75/100\n",
      "897/897 [==============================] - 414s 461ms/step - loss: 0.9803 - acc: 0.6290 - val_loss: 0.9847 - val_acc: 0.6397\n",
      "Epoch 76/100\n",
      "897/897 [==============================] - 412s 460ms/step - loss: 0.9730 - acc: 0.6346 - val_loss: 0.9895 - val_acc: 0.6342\n",
      "Epoch 77/100\n",
      "897/897 [==============================] - 416s 464ms/step - loss: 0.9712 - acc: 0.6342 - val_loss: 0.9681 - val_acc: 0.6481\n",
      "Epoch 78/100\n",
      "897/897 [==============================] - 414s 462ms/step - loss: 0.9694 - acc: 0.6350 - val_loss: 1.0085 - val_acc: 0.6314\n",
      "Epoch 79/100\n",
      "897/897 [==============================] - 421s 469ms/step - loss: 0.9766 - acc: 0.6331 - val_loss: 1.0010 - val_acc: 0.6325\n",
      "Epoch 80/100\n",
      "897/897 [==============================] - 417s 465ms/step - loss: 0.9678 - acc: 0.6375 - val_loss: 0.9632 - val_acc: 0.6500\n",
      "Epoch 81/100\n",
      "897/897 [==============================] - 518s 578ms/step - loss: 0.9770 - acc: 0.6323 - val_loss: 0.9750 - val_acc: 0.6367\n",
      "Epoch 82/100\n",
      "897/897 [==============================] - 425s 474ms/step - loss: 0.9673 - acc: 0.6369 - val_loss: 0.9897 - val_acc: 0.6356\n",
      "Epoch 83/100\n",
      "897/897 [==============================] - 418s 466ms/step - loss: 0.9721 - acc: 0.6356 - val_loss: 0.9745 - val_acc: 0.6456\n",
      "Epoch 84/100\n",
      "897/897 [==============================] - 421s 470ms/step - loss: 0.9653 - acc: 0.6396 - val_loss: 0.9764 - val_acc: 0.6461\n",
      "Epoch 85/100\n",
      "897/897 [==============================] - 428s 477ms/step - loss: 0.9658 - acc: 0.6365 - val_loss: 0.9701 - val_acc: 0.6498\n",
      "Epoch 86/100\n",
      "897/897 [==============================] - 431s 481ms/step - loss: 0.9595 - acc: 0.6404 - val_loss: 0.9687 - val_acc: 0.6481\n",
      "Epoch 87/100\n",
      "897/897 [==============================] - 430s 480ms/step - loss: 0.9585 - acc: 0.6424 - val_loss: 0.9835 - val_acc: 0.6420\n",
      "Epoch 88/100\n",
      "897/897 [==============================] - 439s 489ms/step - loss: 0.9635 - acc: 0.6384 - val_loss: 0.9800 - val_acc: 0.6358\n",
      "Epoch 89/100\n",
      "897/897 [==============================] - 432s 482ms/step - loss: 0.9548 - acc: 0.6422 - val_loss: 0.9696 - val_acc: 0.6545\n",
      "Epoch 90/100\n",
      "897/897 [==============================] - 437s 487ms/step - loss: 0.9577 - acc: 0.6401 - val_loss: 0.9760 - val_acc: 0.6431\n",
      "Epoch 91/100\n",
      "897/897 [==============================] - 435s 485ms/step - loss: 0.9622 - acc: 0.6401 - val_loss: 0.9672 - val_acc: 0.6525\n",
      "Epoch 92/100\n",
      "897/897 [==============================] - 438s 488ms/step - loss: 0.9524 - acc: 0.6436 - val_loss: 0.9941 - val_acc: 0.6367\n",
      "Epoch 93/100\n",
      "897/897 [==============================] - 444s 495ms/step - loss: 0.9466 - acc: 0.6457 - val_loss: 0.9997 - val_acc: 0.6372\n",
      "Epoch 94/100\n",
      "897/897 [==============================] - 441s 491ms/step - loss: 0.9556 - acc: 0.6427 - val_loss: 0.9772 - val_acc: 0.6459\n",
      "Epoch 95/100\n",
      "897/897 [==============================] - 441s 492ms/step - loss: 0.9493 - acc: 0.6420 - val_loss: 0.9771 - val_acc: 0.6420\n",
      "Epoch 96/100\n",
      "897/897 [==============================] - 450s 502ms/step - loss: 0.9488 - acc: 0.6417 - val_loss: 0.9906 - val_acc: 0.6400\n",
      "Epoch 97/100\n",
      "897/897 [==============================] - 443s 494ms/step - loss: 0.9542 - acc: 0.6439 - val_loss: 0.9987 - val_acc: 0.6328\n",
      "Epoch 98/100\n",
      "897/897 [==============================] - 450s 502ms/step - loss: 0.9441 - acc: 0.6460 - val_loss: 0.9636 - val_acc: 0.6520\n",
      "Epoch 99/100\n",
      "897/897 [==============================] - 458s 510ms/step - loss: 0.9420 - acc: 0.6457 - val_loss: 0.9646 - val_acc: 0.6489\n",
      "Epoch 100/100\n",
      "897/897 [==============================] - 455s 507ms/step - loss: 0.9418 - acc: 0.6470 - val_loss: 0.9858 - val_acc: 0.6422\n"
     ]
    }
   ],
   "source": [
    "hist = model.fit_generator(aug.flow(x_train,y_train,batch_size = BS),epochs =EPOCHS,\n",
    "                          shuffle = True,steps_per_epoch = len(x_train)// BS,\n",
    "                          validation_data =(x_val,y_val),\n",
    "                          verbose =1)"
   ]
  },
  {
   "cell_type": "markdown",
   "metadata": {},
   "source": [
    "## 저장하기"
   ]
  },
  {
   "cell_type": "code",
   "execution_count": 30,
   "metadata": {},
   "outputs": [],
   "source": [
    "# 모델 저장\n",
    "model_json = model.to_json()\n",
    "with open('face_model.json','w') as json_file:\n",
    "    json_file.write(model_json)"
   ]
  },
  {
   "cell_type": "code",
   "execution_count": 32,
   "metadata": {},
   "outputs": [],
   "source": [
    "#  WEIGHT 저장\n",
    "from keras.models import load_model\n",
    "model.save('fer2013_model.h5')"
   ]
  },
  {
   "cell_type": "markdown",
   "metadata": {},
   "source": [
    "## 모델로딩\n"
   ]
  },
  {
   "cell_type": "code",
   "execution_count": 27,
   "metadata": {},
   "outputs": [],
   "source": [
    "import keras\n",
    "import json"
   ]
  },
  {
   "cell_type": "code",
   "execution_count": 24,
   "metadata": {},
   "outputs": [],
   "source": [
    "import tensorflow as tf\n",
    "tf.reset_default_graph()"
   ]
  },
  {
   "cell_type": "code",
   "execution_count": 53,
   "metadata": {},
   "outputs": [
    {
     "ename": "JSONDecodeError",
     "evalue": "Expecting value: line 1 column 1 (char 0)",
     "output_type": "error",
     "traceback": [
      "\u001b[1;31m---------------------------------------------------------------------------\u001b[0m",
      "\u001b[1;31mJSONDecodeError\u001b[0m                           Traceback (most recent call last)",
      "\u001b[1;32m<ipython-input-53-ffc79fddc6a6>\u001b[0m in \u001b[0;36m<module>\u001b[1;34m\u001b[0m\n\u001b[0;32m      1\u001b[0m \u001b[1;32mwith\u001b[0m \u001b[0mopen\u001b[0m\u001b[1;33m(\u001b[0m\u001b[1;34m'face_model.json'\u001b[0m\u001b[1;33m)\u001b[0m \u001b[1;32mas\u001b[0m \u001b[0mjson_file\u001b[0m\u001b[1;33m:\u001b[0m\u001b[1;33m\u001b[0m\u001b[1;33m\u001b[0m\u001b[0m\n\u001b[0;32m      2\u001b[0m     \u001b[0mjson_config\u001b[0m \u001b[1;33m=\u001b[0m \u001b[0mjson_file\u001b[0m\u001b[1;33m.\u001b[0m\u001b[0mread\u001b[0m\u001b[1;33m(\u001b[0m\u001b[1;33m)\u001b[0m\u001b[1;33m\u001b[0m\u001b[1;33m\u001b[0m\u001b[0m\n\u001b[1;32m----> 3\u001b[1;33m \u001b[0mnew_model\u001b[0m \u001b[1;33m=\u001b[0m \u001b[0mkeras\u001b[0m\u001b[1;33m.\u001b[0m\u001b[0mmodels\u001b[0m\u001b[1;33m.\u001b[0m\u001b[0mmodel_from_json\u001b[0m\u001b[1;33m(\u001b[0m\u001b[0mjson_config\u001b[0m\u001b[1;33m)\u001b[0m\u001b[1;33m\u001b[0m\u001b[1;33m\u001b[0m\u001b[0m\n\u001b[0m\u001b[0;32m      4\u001b[0m \u001b[0mnew_model\u001b[0m\u001b[1;33m.\u001b[0m\u001b[0mload_weights\u001b[0m\u001b[1;33m(\u001b[0m\u001b[1;34m'fer2013_model.h5'\u001b[0m\u001b[1;33m)\u001b[0m\u001b[1;33m\u001b[0m\u001b[1;33m\u001b[0m\u001b[0m\n",
      "\u001b[1;32m~\\Anaconda3\\lib\\site-packages\\keras\\engine\\saving.py\u001b[0m in \u001b[0;36mmodel_from_json\u001b[1;34m(json_string, custom_objects)\u001b[0m\n\u001b[0;32m    660\u001b[0m         \u001b[0mA\u001b[0m \u001b[0mKeras\u001b[0m \u001b[0mmodel\u001b[0m \u001b[0minstance\u001b[0m \u001b[1;33m(\u001b[0m\u001b[0muncompiled\u001b[0m\u001b[1;33m)\u001b[0m\u001b[1;33m.\u001b[0m\u001b[1;33m\u001b[0m\u001b[1;33m\u001b[0m\u001b[0m\n\u001b[0;32m    661\u001b[0m     \"\"\"\n\u001b[1;32m--> 662\u001b[1;33m     \u001b[0mconfig\u001b[0m \u001b[1;33m=\u001b[0m \u001b[0mjson\u001b[0m\u001b[1;33m.\u001b[0m\u001b[0mloads\u001b[0m\u001b[1;33m(\u001b[0m\u001b[0mjson_string\u001b[0m\u001b[1;33m)\u001b[0m\u001b[1;33m\u001b[0m\u001b[1;33m\u001b[0m\u001b[0m\n\u001b[0m\u001b[0;32m    663\u001b[0m     \u001b[1;32mfrom\u001b[0m \u001b[1;33m.\u001b[0m\u001b[1;33m.\u001b[0m\u001b[0mlayers\u001b[0m \u001b[1;32mimport\u001b[0m \u001b[0mdeserialize\u001b[0m\u001b[1;33m\u001b[0m\u001b[1;33m\u001b[0m\u001b[0m\n\u001b[0;32m    664\u001b[0m     \u001b[1;32mreturn\u001b[0m \u001b[0mdeserialize\u001b[0m\u001b[1;33m(\u001b[0m\u001b[0mconfig\u001b[0m\u001b[1;33m,\u001b[0m \u001b[0mcustom_objects\u001b[0m\u001b[1;33m=\u001b[0m\u001b[0mcustom_objects\u001b[0m\u001b[1;33m)\u001b[0m\u001b[1;33m\u001b[0m\u001b[1;33m\u001b[0m\u001b[0m\n",
      "\u001b[1;32m~\\Anaconda3\\lib\\json\\__init__.py\u001b[0m in \u001b[0;36mloads\u001b[1;34m(s, encoding, cls, object_hook, parse_float, parse_int, parse_constant, object_pairs_hook, **kw)\u001b[0m\n\u001b[0;32m    346\u001b[0m             \u001b[0mparse_int\u001b[0m \u001b[1;32mis\u001b[0m \u001b[1;32mNone\u001b[0m \u001b[1;32mand\u001b[0m \u001b[0mparse_float\u001b[0m \u001b[1;32mis\u001b[0m \u001b[1;32mNone\u001b[0m \u001b[1;32mand\u001b[0m\u001b[1;33m\u001b[0m\u001b[1;33m\u001b[0m\u001b[0m\n\u001b[0;32m    347\u001b[0m             parse_constant is None and object_pairs_hook is None and not kw):\n\u001b[1;32m--> 348\u001b[1;33m         \u001b[1;32mreturn\u001b[0m \u001b[0m_default_decoder\u001b[0m\u001b[1;33m.\u001b[0m\u001b[0mdecode\u001b[0m\u001b[1;33m(\u001b[0m\u001b[0ms\u001b[0m\u001b[1;33m)\u001b[0m\u001b[1;33m\u001b[0m\u001b[1;33m\u001b[0m\u001b[0m\n\u001b[0m\u001b[0;32m    349\u001b[0m     \u001b[1;32mif\u001b[0m \u001b[0mcls\u001b[0m \u001b[1;32mis\u001b[0m \u001b[1;32mNone\u001b[0m\u001b[1;33m:\u001b[0m\u001b[1;33m\u001b[0m\u001b[1;33m\u001b[0m\u001b[0m\n\u001b[0;32m    350\u001b[0m         \u001b[0mcls\u001b[0m \u001b[1;33m=\u001b[0m \u001b[0mJSONDecoder\u001b[0m\u001b[1;33m\u001b[0m\u001b[1;33m\u001b[0m\u001b[0m\n",
      "\u001b[1;32m~\\Anaconda3\\lib\\json\\decoder.py\u001b[0m in \u001b[0;36mdecode\u001b[1;34m(self, s, _w)\u001b[0m\n\u001b[0;32m    335\u001b[0m \u001b[1;33m\u001b[0m\u001b[0m\n\u001b[0;32m    336\u001b[0m         \"\"\"\n\u001b[1;32m--> 337\u001b[1;33m         \u001b[0mobj\u001b[0m\u001b[1;33m,\u001b[0m \u001b[0mend\u001b[0m \u001b[1;33m=\u001b[0m \u001b[0mself\u001b[0m\u001b[1;33m.\u001b[0m\u001b[0mraw_decode\u001b[0m\u001b[1;33m(\u001b[0m\u001b[0ms\u001b[0m\u001b[1;33m,\u001b[0m \u001b[0midx\u001b[0m\u001b[1;33m=\u001b[0m\u001b[0m_w\u001b[0m\u001b[1;33m(\u001b[0m\u001b[0ms\u001b[0m\u001b[1;33m,\u001b[0m \u001b[1;36m0\u001b[0m\u001b[1;33m)\u001b[0m\u001b[1;33m.\u001b[0m\u001b[0mend\u001b[0m\u001b[1;33m(\u001b[0m\u001b[1;33m)\u001b[0m\u001b[1;33m)\u001b[0m\u001b[1;33m\u001b[0m\u001b[1;33m\u001b[0m\u001b[0m\n\u001b[0m\u001b[0;32m    338\u001b[0m         \u001b[0mend\u001b[0m \u001b[1;33m=\u001b[0m \u001b[0m_w\u001b[0m\u001b[1;33m(\u001b[0m\u001b[0ms\u001b[0m\u001b[1;33m,\u001b[0m \u001b[0mend\u001b[0m\u001b[1;33m)\u001b[0m\u001b[1;33m.\u001b[0m\u001b[0mend\u001b[0m\u001b[1;33m(\u001b[0m\u001b[1;33m)\u001b[0m\u001b[1;33m\u001b[0m\u001b[1;33m\u001b[0m\u001b[0m\n\u001b[0;32m    339\u001b[0m         \u001b[1;32mif\u001b[0m \u001b[0mend\u001b[0m \u001b[1;33m!=\u001b[0m \u001b[0mlen\u001b[0m\u001b[1;33m(\u001b[0m\u001b[0ms\u001b[0m\u001b[1;33m)\u001b[0m\u001b[1;33m:\u001b[0m\u001b[1;33m\u001b[0m\u001b[1;33m\u001b[0m\u001b[0m\n",
      "\u001b[1;32m~\\Anaconda3\\lib\\json\\decoder.py\u001b[0m in \u001b[0;36mraw_decode\u001b[1;34m(self, s, idx)\u001b[0m\n\u001b[0;32m    353\u001b[0m             \u001b[0mobj\u001b[0m\u001b[1;33m,\u001b[0m \u001b[0mend\u001b[0m \u001b[1;33m=\u001b[0m \u001b[0mself\u001b[0m\u001b[1;33m.\u001b[0m\u001b[0mscan_once\u001b[0m\u001b[1;33m(\u001b[0m\u001b[0ms\u001b[0m\u001b[1;33m,\u001b[0m \u001b[0midx\u001b[0m\u001b[1;33m)\u001b[0m\u001b[1;33m\u001b[0m\u001b[1;33m\u001b[0m\u001b[0m\n\u001b[0;32m    354\u001b[0m         \u001b[1;32mexcept\u001b[0m \u001b[0mStopIteration\u001b[0m \u001b[1;32mas\u001b[0m \u001b[0merr\u001b[0m\u001b[1;33m:\u001b[0m\u001b[1;33m\u001b[0m\u001b[1;33m\u001b[0m\u001b[0m\n\u001b[1;32m--> 355\u001b[1;33m             \u001b[1;32mraise\u001b[0m \u001b[0mJSONDecodeError\u001b[0m\u001b[1;33m(\u001b[0m\u001b[1;34m\"Expecting value\"\u001b[0m\u001b[1;33m,\u001b[0m \u001b[0ms\u001b[0m\u001b[1;33m,\u001b[0m \u001b[0merr\u001b[0m\u001b[1;33m.\u001b[0m\u001b[0mvalue\u001b[0m\u001b[1;33m)\u001b[0m \u001b[1;32mfrom\u001b[0m \u001b[1;32mNone\u001b[0m\u001b[1;33m\u001b[0m\u001b[1;33m\u001b[0m\u001b[0m\n\u001b[0m\u001b[0;32m    356\u001b[0m         \u001b[1;32mreturn\u001b[0m \u001b[0mobj\u001b[0m\u001b[1;33m,\u001b[0m \u001b[0mend\u001b[0m\u001b[1;33m\u001b[0m\u001b[1;33m\u001b[0m\u001b[0m\n",
      "\u001b[1;31mJSONDecodeError\u001b[0m: Expecting value: line 1 column 1 (char 0)"
     ]
    }
   ],
   "source": [
    "with open('face_model.json') as json_file:\n",
    "    json_config = json_file.read()\n",
    "new_model = keras.models.model_from_json(json_config)\n",
    "new_model.load_weights('fer2013_model.h5')"
   ]
  },
  {
   "cell_type": "code",
   "execution_count": null,
   "metadata": {},
   "outputs": [],
   "source": [
    "from keras.models import load_model\n",
    "model = load_model('fer2013_model.h5')\n"
   ]
  },
  {
   "cell_type": "code",
   "execution_count": 47,
   "metadata": {},
   "outputs": [],
   "source": [
    "from keras.preprocessing.image import ImageDataGenerator"
   ]
  },
  {
   "cell_type": "code",
   "execution_count": 50,
   "metadata": {},
   "outputs": [
    {
     "data": {
      "text/plain": [
       "<bound method NDFrame.head of        emotion                                             pixels        Usage\n",
       "0            0  70 80 82 72 58 58 60 63 54 58 60 48 89 115 121...     Training\n",
       "1            0  151 150 147 155 148 133 111 140 170 174 182 15...     Training\n",
       "2            2  231 212 156 164 174 138 161 173 182 200 106 38...     Training\n",
       "3            4  24 32 36 30 32 23 19 20 30 41 21 22 32 34 21 1...     Training\n",
       "4            6  4 0 0 0 0 0 0 0 0 0 0 0 3 15 23 28 48 50 58 84...     Training\n",
       "...        ...                                                ...          ...\n",
       "35882        6  50 36 17 22 23 29 33 39 34 37 37 37 39 43 48 5...  PrivateTest\n",
       "35883        3  178 174 172 173 181 188 191 194 196 199 200 20...  PrivateTest\n",
       "35884        0  17 17 16 23 28 22 19 17 25 26 20 24 31 19 27 9...  PrivateTest\n",
       "35885        3  30 28 28 29 31 30 42 68 79 81 77 67 67 71 63 6...  PrivateTest\n",
       "35886        2  19 13 14 12 13 16 21 33 50 57 71 84 97 108 122...  PrivateTest\n",
       "\n",
       "[35887 rows x 3 columns]>"
      ]
     },
     "execution_count": 50,
     "metadata": {},
     "output_type": "execute_result"
    }
   ],
   "source": [
    "df.head"
   ]
  },
  {
   "cell_type": "code",
   "execution_count": 52,
   "metadata": {},
   "outputs": [
    {
     "ename": "KeyError",
     "evalue": "\"None of [Index(['Training', 'Training', 'Training', 'Training', 'Training', 'Training',\\n       'Training', 'Training', 'Training', 'Training',\\n       ...\\n       'PrivateTest', 'PrivateTest', 'PrivateTest', 'PrivateTest',\\n       'PrivateTest', 'PrivateTest', 'PrivateTest', 'PrivateTest',\\n       'PrivateTest', 'PrivateTest'],\\n      dtype='object', length=35887)] are in the [columns]\"",
     "output_type": "error",
     "traceback": [
      "\u001b[1;31m---------------------------------------------------------------------------\u001b[0m",
      "\u001b[1;31mKeyError\u001b[0m                                  Traceback (most recent call last)",
      "\u001b[1;32m<ipython-input-52-099a07803333>\u001b[0m in \u001b[0;36m<module>\u001b[1;34m\u001b[0m\n\u001b[1;32m----> 1\u001b[1;33m \u001b[0mtest\u001b[0m \u001b[1;33m=\u001b[0m \u001b[0mdf\u001b[0m\u001b[1;33m[\u001b[0m\u001b[1;33m[\u001b[0m\u001b[1;34m'emotion'\u001b[0m\u001b[1;33m,\u001b[0m\u001b[1;34m'pixels'\u001b[0m\u001b[1;33m]\u001b[0m\u001b[1;33m]\u001b[0m\u001b[1;33m[\u001b[0m\u001b[0mdf\u001b[0m\u001b[1;33m[\u001b[0m\u001b[1;34m'Usage'\u001b[0m\u001b[1;33m]\u001b[0m\u001b[1;33m]\u001b[0m \u001b[1;33m==\u001b[0m\u001b[1;34m'PrivateTest'\u001b[0m\u001b[1;33m\u001b[0m\u001b[1;33m\u001b[0m\u001b[0m\n\u001b[0m\u001b[0;32m      2\u001b[0m \u001b[0mtest\u001b[0m\u001b[1;33m.\u001b[0m\u001b[0misnull\u001b[0m\u001b[1;33m(\u001b[0m\u001b[1;33m)\u001b[0m\u001b[1;33m.\u001b[0m\u001b[0msum\u001b[0m\u001b[1;33m(\u001b[0m\u001b[1;33m)\u001b[0m\u001b[1;33m\u001b[0m\u001b[1;33m\u001b[0m\u001b[0m\n",
      "\u001b[1;32m~\\Anaconda3\\lib\\site-packages\\pandas\\core\\frame.py\u001b[0m in \u001b[0;36m__getitem__\u001b[1;34m(self, key)\u001b[0m\n\u001b[0;32m   2984\u001b[0m             \u001b[1;32mif\u001b[0m \u001b[0mis_iterator\u001b[0m\u001b[1;33m(\u001b[0m\u001b[0mkey\u001b[0m\u001b[1;33m)\u001b[0m\u001b[1;33m:\u001b[0m\u001b[1;33m\u001b[0m\u001b[1;33m\u001b[0m\u001b[0m\n\u001b[0;32m   2985\u001b[0m                 \u001b[0mkey\u001b[0m \u001b[1;33m=\u001b[0m \u001b[0mlist\u001b[0m\u001b[1;33m(\u001b[0m\u001b[0mkey\u001b[0m\u001b[1;33m)\u001b[0m\u001b[1;33m\u001b[0m\u001b[1;33m\u001b[0m\u001b[0m\n\u001b[1;32m-> 2986\u001b[1;33m             \u001b[0mindexer\u001b[0m \u001b[1;33m=\u001b[0m \u001b[0mself\u001b[0m\u001b[1;33m.\u001b[0m\u001b[0mloc\u001b[0m\u001b[1;33m.\u001b[0m\u001b[0m_convert_to_indexer\u001b[0m\u001b[1;33m(\u001b[0m\u001b[0mkey\u001b[0m\u001b[1;33m,\u001b[0m \u001b[0maxis\u001b[0m\u001b[1;33m=\u001b[0m\u001b[1;36m1\u001b[0m\u001b[1;33m,\u001b[0m \u001b[0mraise_missing\u001b[0m\u001b[1;33m=\u001b[0m\u001b[1;32mTrue\u001b[0m\u001b[1;33m)\u001b[0m\u001b[1;33m\u001b[0m\u001b[1;33m\u001b[0m\u001b[0m\n\u001b[0m\u001b[0;32m   2987\u001b[0m \u001b[1;33m\u001b[0m\u001b[0m\n\u001b[0;32m   2988\u001b[0m         \u001b[1;31m# take() does not accept boolean indexers\u001b[0m\u001b[1;33m\u001b[0m\u001b[1;33m\u001b[0m\u001b[1;33m\u001b[0m\u001b[0m\n",
      "\u001b[1;32m~\\Anaconda3\\lib\\site-packages\\pandas\\core\\indexing.py\u001b[0m in \u001b[0;36m_convert_to_indexer\u001b[1;34m(self, obj, axis, is_setter, raise_missing)\u001b[0m\n\u001b[0;32m   1283\u001b[0m                 \u001b[1;31m# When setting, missing keys are not allowed, even with .loc:\u001b[0m\u001b[1;33m\u001b[0m\u001b[1;33m\u001b[0m\u001b[1;33m\u001b[0m\u001b[0m\n\u001b[0;32m   1284\u001b[0m                 \u001b[0mkwargs\u001b[0m \u001b[1;33m=\u001b[0m \u001b[1;33m{\u001b[0m\u001b[1;34m\"raise_missing\"\u001b[0m\u001b[1;33m:\u001b[0m \u001b[1;32mTrue\u001b[0m \u001b[1;32mif\u001b[0m \u001b[0mis_setter\u001b[0m \u001b[1;32melse\u001b[0m \u001b[0mraise_missing\u001b[0m\u001b[1;33m}\u001b[0m\u001b[1;33m\u001b[0m\u001b[1;33m\u001b[0m\u001b[0m\n\u001b[1;32m-> 1285\u001b[1;33m                 \u001b[1;32mreturn\u001b[0m \u001b[0mself\u001b[0m\u001b[1;33m.\u001b[0m\u001b[0m_get_listlike_indexer\u001b[0m\u001b[1;33m(\u001b[0m\u001b[0mobj\u001b[0m\u001b[1;33m,\u001b[0m \u001b[0maxis\u001b[0m\u001b[1;33m,\u001b[0m \u001b[1;33m**\u001b[0m\u001b[0mkwargs\u001b[0m\u001b[1;33m)\u001b[0m\u001b[1;33m[\u001b[0m\u001b[1;36m1\u001b[0m\u001b[1;33m]\u001b[0m\u001b[1;33m\u001b[0m\u001b[1;33m\u001b[0m\u001b[0m\n\u001b[0m\u001b[0;32m   1286\u001b[0m         \u001b[1;32melse\u001b[0m\u001b[1;33m:\u001b[0m\u001b[1;33m\u001b[0m\u001b[1;33m\u001b[0m\u001b[0m\n\u001b[0;32m   1287\u001b[0m             \u001b[1;32mtry\u001b[0m\u001b[1;33m:\u001b[0m\u001b[1;33m\u001b[0m\u001b[1;33m\u001b[0m\u001b[0m\n",
      "\u001b[1;32m~\\Anaconda3\\lib\\site-packages\\pandas\\core\\indexing.py\u001b[0m in \u001b[0;36m_get_listlike_indexer\u001b[1;34m(self, key, axis, raise_missing)\u001b[0m\n\u001b[0;32m   1090\u001b[0m \u001b[1;33m\u001b[0m\u001b[0m\n\u001b[0;32m   1091\u001b[0m         self._validate_read_indexer(\n\u001b[1;32m-> 1092\u001b[1;33m             \u001b[0mkeyarr\u001b[0m\u001b[1;33m,\u001b[0m \u001b[0mindexer\u001b[0m\u001b[1;33m,\u001b[0m \u001b[0mo\u001b[0m\u001b[1;33m.\u001b[0m\u001b[0m_get_axis_number\u001b[0m\u001b[1;33m(\u001b[0m\u001b[0maxis\u001b[0m\u001b[1;33m)\u001b[0m\u001b[1;33m,\u001b[0m \u001b[0mraise_missing\u001b[0m\u001b[1;33m=\u001b[0m\u001b[0mraise_missing\u001b[0m\u001b[1;33m\u001b[0m\u001b[1;33m\u001b[0m\u001b[0m\n\u001b[0m\u001b[0;32m   1093\u001b[0m         )\n\u001b[0;32m   1094\u001b[0m         \u001b[1;32mreturn\u001b[0m \u001b[0mkeyarr\u001b[0m\u001b[1;33m,\u001b[0m \u001b[0mindexer\u001b[0m\u001b[1;33m\u001b[0m\u001b[1;33m\u001b[0m\u001b[0m\n",
      "\u001b[1;32m~\\Anaconda3\\lib\\site-packages\\pandas\\core\\indexing.py\u001b[0m in \u001b[0;36m_validate_read_indexer\u001b[1;34m(self, key, indexer, axis, raise_missing)\u001b[0m\n\u001b[0;32m   1175\u001b[0m                 raise KeyError(\n\u001b[0;32m   1176\u001b[0m                     \"None of [{key}] are in the [{axis}]\".format(\n\u001b[1;32m-> 1177\u001b[1;33m                         \u001b[0mkey\u001b[0m\u001b[1;33m=\u001b[0m\u001b[0mkey\u001b[0m\u001b[1;33m,\u001b[0m \u001b[0maxis\u001b[0m\u001b[1;33m=\u001b[0m\u001b[0mself\u001b[0m\u001b[1;33m.\u001b[0m\u001b[0mobj\u001b[0m\u001b[1;33m.\u001b[0m\u001b[0m_get_axis_name\u001b[0m\u001b[1;33m(\u001b[0m\u001b[0maxis\u001b[0m\u001b[1;33m)\u001b[0m\u001b[1;33m\u001b[0m\u001b[1;33m\u001b[0m\u001b[0m\n\u001b[0m\u001b[0;32m   1178\u001b[0m                     )\n\u001b[0;32m   1179\u001b[0m                 )\n",
      "\u001b[1;31mKeyError\u001b[0m: \"None of [Index(['Training', 'Training', 'Training', 'Training', 'Training', 'Training',\\n       'Training', 'Training', 'Training', 'Training',\\n       ...\\n       'PrivateTest', 'PrivateTest', 'PrivateTest', 'PrivateTest',\\n       'PrivateTest', 'PrivateTest', 'PrivateTest', 'PrivateTest',\\n       'PrivateTest', 'PrivateTest'],\\n      dtype='object', length=35887)] are in the [columns]\""
     ]
    }
   ],
   "source": [
    "test = df[['emotion','pixels']][df['Usage']] =='PrivateTest'\n",
    "test.isnull().sum()"
   ]
  },
  {
   "cell_type": "code",
   "execution_count": 48,
   "metadata": {},
   "outputs": [
    {
     "ename": "NameError",
     "evalue": "name 'aug' is not defined",
     "output_type": "error",
     "traceback": [
      "\u001b[1;31m---------------------------------------------------------------------------\u001b[0m",
      "\u001b[1;31mNameError\u001b[0m                                 Traceback (most recent call last)",
      "\u001b[1;32m<ipython-input-48-8b91d7dcf5f6>\u001b[0m in \u001b[0;36m<module>\u001b[1;34m\u001b[0m\n\u001b[1;32m----> 1\u001b[1;33m model.fit_generator(aug.flow(x_test,y_test,batch_size = BS),epochs =EPOCHS,\n\u001b[0m\u001b[0;32m      2\u001b[0m                           \u001b[0mshuffle\u001b[0m \u001b[1;33m=\u001b[0m \u001b[1;32mTrue\u001b[0m\u001b[1;33m,\u001b[0m\u001b[0msteps_per_epoch\u001b[0m \u001b[1;33m=\u001b[0m \u001b[0mlen\u001b[0m\u001b[1;33m(\u001b[0m\u001b[0mx_train\u001b[0m\u001b[1;33m)\u001b[0m\u001b[1;33m//\u001b[0m \u001b[0mBS\u001b[0m\u001b[1;33m,\u001b[0m\u001b[1;33m\u001b[0m\u001b[1;33m\u001b[0m\u001b[0m\n\u001b[0;32m      3\u001b[0m                           \u001b[0mvalidation_data\u001b[0m \u001b[1;33m=\u001b[0m\u001b[1;33m(\u001b[0m\u001b[0mx_val\u001b[0m\u001b[1;33m,\u001b[0m\u001b[0my_val\u001b[0m\u001b[1;33m)\u001b[0m\u001b[1;33m,\u001b[0m\u001b[1;33m\u001b[0m\u001b[1;33m\u001b[0m\u001b[0m\n\u001b[0;32m      4\u001b[0m                           verbose =1)\n",
      "\u001b[1;31mNameError\u001b[0m: name 'aug' is not defined"
     ]
    }
   ],
   "source": [
    " model.fit(x_testX_train,y_train,batch_size = batch_size ,\n",
    "          epochs = epochs , verbose =1, validation_data =(X_test,y_test),shuffle = True)\n"
   ]
  },
  {
   "cell_type": "code",
   "execution_count": null,
   "metadata": {},
   "outputs": [],
   "source": []
  },
  {
   "cell_type": "code",
   "execution_count": null,
   "metadata": {},
   "outputs": [],
   "source": []
  },
  {
   "cell_type": "code",
   "execution_count": null,
   "metadata": {},
   "outputs": [],
   "source": []
  },
  {
   "cell_type": "markdown",
   "metadata": {},
   "source": [
    "## 시각화"
   ]
  },
  {
   "cell_type": "code",
   "execution_count": 44,
   "metadata": {},
   "outputs": [
    {
     "ename": "NameError",
     "evalue": "name 'hist' is not defined",
     "output_type": "error",
     "traceback": [
      "\u001b[1;31m---------------------------------------------------------------------------\u001b[0m",
      "\u001b[1;31mNameError\u001b[0m                                 Traceback (most recent call last)",
      "\u001b[1;32m<ipython-input-44-567569d7d1ae>\u001b[0m in \u001b[0;36m<module>\u001b[1;34m\u001b[0m\n\u001b[0;32m      3\u001b[0m \u001b[0mplt\u001b[0m\u001b[1;33m.\u001b[0m\u001b[0msuptitle\u001b[0m\u001b[1;33m(\u001b[0m\u001b[1;34m'Optimizer : Adam'\u001b[0m\u001b[1;33m,\u001b[0m\u001b[0mfontsize\u001b[0m \u001b[1;33m=\u001b[0m\u001b[1;36m10\u001b[0m\u001b[1;33m)\u001b[0m\u001b[1;33m\u001b[0m\u001b[1;33m\u001b[0m\u001b[0m\n\u001b[0;32m      4\u001b[0m \u001b[0mplt\u001b[0m\u001b[1;33m.\u001b[0m\u001b[0mylabel\u001b[0m\u001b[1;33m(\u001b[0m\u001b[1;34m'Loss'\u001b[0m\u001b[1;33m,\u001b[0m\u001b[0mfontsize\u001b[0m \u001b[1;33m=\u001b[0m\u001b[1;36m16\u001b[0m\u001b[1;33m)\u001b[0m\u001b[1;33m\u001b[0m\u001b[1;33m\u001b[0m\u001b[0m\n\u001b[1;32m----> 5\u001b[1;33m \u001b[0mplt\u001b[0m\u001b[1;33m.\u001b[0m\u001b[0mplot\u001b[0m\u001b[1;33m(\u001b[0m\u001b[0mhist\u001b[0m\u001b[1;33m.\u001b[0m\u001b[0mhistory\u001b[0m\u001b[1;33m[\u001b[0m\u001b[1;34m'loss'\u001b[0m\u001b[1;33m]\u001b[0m\u001b[1;33m,\u001b[0m\u001b[0mcolor\u001b[0m \u001b[1;33m=\u001b[0m \u001b[1;34m'b'\u001b[0m\u001b[1;33m,\u001b[0m\u001b[0mlabel\u001b[0m \u001b[1;33m=\u001b[0m \u001b[1;34m'Training Loss'\u001b[0m\u001b[1;33m)\u001b[0m\u001b[1;33m\u001b[0m\u001b[1;33m\u001b[0m\u001b[0m\n\u001b[0m\u001b[0;32m      6\u001b[0m \u001b[0mplt\u001b[0m\u001b[1;33m.\u001b[0m\u001b[0mplot\u001b[0m\u001b[1;33m(\u001b[0m\u001b[0mhis\u001b[0m\u001b[1;33m.\u001b[0m\u001b[0mhistory\u001b[0m\u001b[1;33m[\u001b[0m\u001b[1;34m'val_loss'\u001b[0m\u001b[1;33m]\u001b[0m\u001b[1;33m,\u001b[0m\u001b[0mcolor\u001b[0m \u001b[1;33m=\u001b[0m \u001b[1;34m'r'\u001b[0m\u001b[1;33m,\u001b[0m\u001b[0mlabel\u001b[0m \u001b[1;33m=\u001b[0m \u001b[1;34m'Validation Loss'\u001b[0m\u001b[1;33m)\u001b[0m\u001b[1;33m\u001b[0m\u001b[1;33m\u001b[0m\u001b[0m\n\u001b[0;32m      7\u001b[0m \u001b[0mplt\u001b[0m\u001b[1;33m.\u001b[0m\u001b[0mlegend\u001b[0m\u001b[1;33m(\u001b[0m\u001b[0mloc\u001b[0m \u001b[1;33m=\u001b[0m \u001b[1;34m'upper right'\u001b[0m\u001b[1;33m)\u001b[0m\u001b[1;33m\u001b[0m\u001b[1;33m\u001b[0m\u001b[0m\n",
      "\u001b[1;31mNameError\u001b[0m: name 'hist' is not defined"
     ]
    },
    {
     "data": {
      "image/png": "[encoded data removed]",
      "text/plain": [
       "<Figure size 1008x216 with 1 Axes>"
      ]
     },
     "metadata": {
      "needs_background": "light"
     },
     "output_type": "display_data"
    }
   ],
   "source": [
    "plt.figure(figsize=(14,3))\n",
    "plt.subplot(1,2,1)\n",
    "plt.suptitle('Optimizer : Adam',fontsize =10)\n",
    "plt.ylabel('Loss',fontsize =16)\n",
    "plt.plot(hist.history['loss'],color = 'b',label = 'Training Loss')\n",
    "plt.plot(his.history['val_loss'],color = 'r',label = 'Validation Loss')\n",
    "plt.legend(loc = 'upper right')\n",
    "\n",
    "plt.subplot(1,2,2)\n",
    "plt.ylabel('Accuracy',fontsize = 16)\n",
    "plt.plot(hist.history['acc'],color = 'b',label = 'Training Accuracy')\n",
    "plt.plot(hist.histpry['val_acc'],color = 'r',label = 'Validation Accuracy')\n",
    "\n",
    "plt.legend(loc = 'lower right')\n",
    "\n",
    "plt.show()"
   ]
  },
  {
   "cell_type": "markdown",
   "metadata": {},
   "source": [
    "## 이미지 테스트\n",
    "\n",
    "- 경로설정 및 파일 설정\n",
    "-https://wikidocs.net/83\n"
   ]
  },
  {
   "cell_type": "markdown",
   "metadata": {},
   "source": [
    "### 파일 생성 및 경로설정"
   ]
  },
  {
   "cell_type": "code",
   "execution_count": null,
   "metadata": {},
   "outputs": [],
   "source": [
    "import os\n",
    "image_test_path = '경로'\n",
    "os.mkdir('image_test')  #테스트 폴더 생성\n",
    "\n",
    "# os.mkdir('test_pretraitement')"
   ]
  },
  {
   "cell_type": "code",
   "execution_count": null,
   "metadata": {},
   "outputs": [],
   "source": [
    "#glob는 파일들의 목록을 뽑을 때 사용하는데, 파일의 경로명을 이용해서 입맛대로 요리할 수 있답니다.\n",
    "\n",
    "import glob\n",
    "import cv2 as cv\n",
    "from keras.preprocessing.image import img_to_array\n",
    "\n",
    "image_test = 'image_test'\n",
    "\n",
    "# test_pretraitement = 'test_pretraitement'"
   ]
  },
  {
   "cell_type": "markdown",
   "metadata": {},
   "source": [
    "[CascadeClassifier]\n",
    "\n",
    "#https://m.blog.naver.com/PostView.nhn?blogId=samsjang&logNo=220699662173&proxyReferer=https%3A%2F%2Fwww.google.com%2F"
   ]
  },
  {
   "cell_type": "markdown",
   "metadata": {},
   "source": [
    "### 사이즈 , 색상 변경\n",
    "\n",
    "\n",
    "- vision API 사용한 사이ㅡ : https://bcho.tistory.com/1179"
   ]
  },
  {
   "cell_type": "code",
   "execution_count": null,
   "metadata": {},
   "outputs": [],
   "source": [
    "data_test = {}\n",
    "labels_test = {}\n",
    "#CascadeClassifier (다단계 분류)`\n",
    "face_cascade = cv.CascadeClassifier('../input/haarcascade/haarcascade_frontalface_default.xml')\n",
    "i = 0\n",
    "for img in glob.glob(image_test_path+'/*.jpg'):\n",
    "    image = cv.imread(img)\n",
    "    name  = img.split('/')[-1]\n",
    "    \n",
    "    gray_image =cv.cvtColor(image,cv.COLOR_BGR2GRAY) #c0nvert to grey\n",
    "    height,width = image.shape[:2]\n",
    "    faces =face_cascade.detecMultiScale(gray_image,1.3,1)\n",
    "    if isinstance(faces,tuple):\n",
    "        resized_image=cv.resize(gray_image(48,48))\n",
    "        cv.imwrite(image_test_path+'/'+name,resized_image)\n",
    "        #print \n",
    "    elif isinstance(faces,np.ndarray):\n",
    "        for(x,y,w,h) in faces:\n",
    "            if w*h <(height * width)/3 :\n",
    "                resized_image =cv.resize(gray_image,(48,48))\n",
    "                cv.imwrite(image_test_path+'/'+name,resized_image)\n",
    "            else:\n",
    "                #cv.rectangle(img,(x,y),(x+w,y+h),(255,0,0),2)\n",
    "                roi_gray = gray_image[y:y+h,x:x+w]\n",
    "                #print(len(roi_gray))\n",
    "                resized_image = cv.resize(roi_gray,(48,48))\n",
    "                cv.imwrite(image_test_path+'/'+name.resized_image)\n",
    "    image = resized_image.astype('float')/255.0\n",
    "    image = img_to_array(image)\n",
    "    image = np.expand_dims(image,axis =0)\n",
    "    data_test[name] = image"
   ]
  },
  {
   "cell_type": "code",
   "execution_count": null,
   "metadata": {},
   "outputs": [],
   "source": [
    "data_predict ={}\n",
    "for key,value in data_test.items():\n",
    "    predict = model.predict(value)\n",
    "    idx = np.argmax(predict)\n",
    "    data_predict[key] =idx\n",
    "    \n",
    "print(idx)"
   ]
  },
  {
   "cell_type": "code",
   "execution_count": null,
   "metadata": {},
   "outputs": [],
   "source": [
    "final_data = pd.DataFrame(list(data_predict.items()),\n",
    "                         columns =['Image','Emotion'])"
   ]
  },
  {
   "cell_type": "code",
   "execution_count": null,
   "metadata": {},
   "outputs": [],
   "source": [
    "final_data.to.csv('result.csv')"
   ]
  },
  {
   "cell_type": "code",
   "execution_count": null,
   "metadata": {},
   "outputs": [],
   "source": [
    "# fd = io.open(imagefile,'rb')\n",
    "\n",
    "# image = Image.open(fd)\n",
    "\n",
    " \n",
    "\n",
    "# import matplotlib.pyplot as plt\n",
    "\n",
    "# # display original image\n",
    "\n",
    "# print \"Original image\"\n",
    "\n",
    "# plt.imshow(image)\n",
    "\n",
    "# plt.show()\n",
    "\n",
    "\n",
    "\n",
    "# 출처: https://bcho.tistory.com/1179 [조대협의 블로그]"
   ]
  },
  {
   "cell_type": "markdown",
   "metadata": {},
   "source": [
    "### 활용하기"
   ]
  },
  {
   "cell_type": "code",
   "execution_count": null,
   "metadata": {},
   "outputs": [],
   "source": [
    "#이미지 불러오기\n",
    "image_path = blah\n",
    "img = image.load_imag(imga_path,target_size =(48,48))\n",
    "xhat = image.img_to_array(img)\n",
    "xhat =np.expand_dims(xhat,axis =0)\n",
    "xhat = preprocess_input(xhat)\n",
    "                \n",
    " #임의의 이미지로 예측\n",
    "yhat=model.predict(xhat)\n",
    "\n",
    "\n",
    "#결과확인\n",
    "P = imagenet_utils.decode_predictions(yhat)\n",
    "\n",
    "for(i,(imagenetID,label,prob)) in enumerate(P[0]):\n",
    "    print(\"{}.{}:{:.2f}%\".format(i+1,label,prob*100))"
   ]
  },
  {
   "cell_type": "code",
   "execution_count": null,
   "metadata": {},
   "outputs": [],
   "source": [
    "np.set_printoptions(formatter={'float': lambda x: \"{0:0.3f}\".format(x)}) #>> 넘파이 출력옵션 변경하는것! (소수점3자리까지)\n",
    "cnt = 0\n",
    "for i in prediction2:\n",
    "    pre_ans = i.argmax()  # 예측 레이블  # argmax : 함수를 최대로 만들기 위한 x 값 --> 즉 첫번째에서는 3번째만 1이므로 2가 출력됨\n",
    "    print(i)\n",
    "    print(pre_ans)\n",
    "    pre_ans_str = ''\n",
    "    if pre_ans == 0: pre_ans_str = \"캔\"\n",
    "    elif pre_ans == 1: pre_ans_str = \"플라스틱\"\n",
    "    elif pre_ans == 2: pre_ans_str = \"유리\"\n",
    "    else: pre_ans_str = \"스티로품\"\n",
    "    if i[0] >= 0.8 : print(\"해당 \"+filenames[cnt].split(\"\\\\\")[1]+\"이미지는 \"+pre_ans_str+\"로 추정됩니다.\")\n",
    "    if i[1] >= 0.8: print(\"해당 \"+filenames[cnt].split(\"\\\\\")[1]+\"이미지는 \"+pre_ans_str+\"으로 추정됩니다.\")\n",
    "    if i[2] >= 0.8: print(\"해당 \"+filenames[cnt].split(\"\\\\\")[1]+\"이미지는 \"+pre_ans_str+\"로 추정됩니다.\")\n",
    "    if i[3] >= 0.8: print(\"해당 \"+filenames[cnt].split(\"\\\\\")[1]+\"이미지는 \"+pre_ans_str+\"로 추정됩니다.\")\n",
    "    cnt += 1"
   ]
  },
  {
   "cell_type": "code",
   "execution_count": null,
   "metadata": {},
   "outputs": [],
   "source": []
  },
  {
   "cell_type": "code",
   "execution_count": null,
   "metadata": {},
   "outputs": [],
   "source": []
  },
  {
   "cell_type": "code",
   "execution_count": null,
   "metadata": {},
   "outputs": [],
   "source": []
  },
  {
   "cell_type": "code",
   "execution_count": null,
   "metadata": {},
   "outputs": [],
   "source": []
  },
  {
   "cell_type": "code",
   "execution_count": null,
   "metadata": {},
   "outputs": [],
   "source": []
  },
  {
   "cell_type": "code",
   "execution_count": null,
   "metadata": {},
   "outputs": [],
   "source": []
  },
  {
   "cell_type": "markdown",
   "metadata": {},
   "source": [
    "# KDEF\n",
    "\n",
    "- https://www.slideshare.net/WonjuSeo/facial-emotion-recognition-with-keras\n",
    "\n",
    "- https://github.com/Wonjuseo/Facial_Expression\n",
    "- https://github.com/Wonjuseo/Facial_Expression/blob/master/FER/data_load.py\n",
    "\n",
    "When I tried lots of tests,\n",
    "1. Smooth labels improved greatly accuracy.(rather than one-hot labels - argmax(emotions))\n",
    "2. When parameteric ReLU was used, AveragePooling showed better results than when maxpooling was used\n",
    "3. To avert over-fitting problems, I used \n",
    "  1. Data augmentation (Image augmentation)\n",
    "  2. Add Gausssian noise\n",
    "  3. Global Average Pooling layer, rather than Flatten\n",
    "  4. Dropout layers with 0.2\n",
    "\n"
   ]
  },
  {
   "cell_type": "markdown",
   "metadata": {},
   "source": [
    "## 데이터 convert\n",
    "\n",
    "- https://antilibrary.org/1980\n",
    "- https://keras.io/ko/getting-started/sequential-model-guide/\n",
    "- https://github.com/Rakshith-2905/Face-Recognition/blob/master/README.md\n",
    "\n",
    "\n",
    "- \n",
    "- afraid\n",
    "- anger\n",
    "- disgusted\n",
    "- happy\n",
    "- neutral\n",
    "- sad\n",
    "- surprised"
   ]
  },
  {
   "cell_type": "markdown",
   "metadata": {},
   "source": [
    "1. 이미지 불러오기\n",
    "2. 이미지 흑백지정, 사이즈 지정 / 변환\n",
    "3. train val test 나누기\n",
    "4. grid search \n"
   ]
  },
  {
   "cell_type": "code",
   "execution_count": 4,
   "metadata": {},
   "outputs": [],
   "source": [
    "import glob\n",
    "import numpy as np , pandas as pd\n",
    "import os \n",
    "from scipy import misc\n",
    "import shutil\n",
    "import matplotlib.pyplot as plt\n",
    "\n",
    "import tensorflow as tf\n",
    "from tensorflow import keras\n",
    "from tensorflow.keras import utils\n",
    "from tensorflow.keras import layers\n",
    "from tensorflow.keras.callbacks import EarlyStopping\n",
    "from tensorflow.keras.layers import Dense,Dropout,Flatten,MaxPooling2D\n",
    "from tensorflow.keras.preprocessing.image import ImageDataGenerator\n"
   ]
  },
  {
   "cell_type": "code",
   "execution_count": 15,
   "metadata": {},
   "outputs": [
    {
     "data": {
      "text/plain": [
       "694"
      ]
     },
     "execution_count": 15,
     "metadata": {},
     "output_type": "execute_result"
    }
   ],
   "source": [
    "# len(os.listdir(afraid_dir))\n",
    "# len(os.listdir(anger_dir))\n",
    "len(os.listdir(disgusted_dir))\n",
    "# len(os.listdir(happy_dir))\n",
    "# len(os.listdir(neutral_dir))\n",
    "# len(os.listdir(sad_dir))\n",
    "# len(os.listdir(surprised_dir))"
   ]
  },
  {
   "cell_type": "code",
   "execution_count": 24,
   "metadata": {},
   "outputs": [],
   "source": [
    "image_path = list(os.listdir('./emotion/'))\n",
    "afraid= list(os.listdir(\"./emotion/afraid/\"))\n",
    "anger = list(os.listdir(\"./emotion/anger/\"))\n",
    "disgusted = list(os.listdir(\"./emotion/disgusted/\"))\n",
    "happy = list(os.listdir(\"./emotion/happy/\"))\n",
    "neutral = list(os.listdir(\"./emotion/neutral\"))\n",
    "sad = list(os.listdir(\"./emotion/sad\"))\n",
    "surprised = list(os.listdir(\"./emotion/surprised\"))"
   ]
  },
  {
   "cell_type": "code",
   "execution_count": null,
   "metadata": {},
   "outputs": [],
   "source": [
    "data_test = {}\n",
    "labels_test = {}\n",
    "#CascadeClassifier (다단계 분류)`\n",
    "face_cascade = cv.CascadeClassifier('../input/haarcascade/haarcascade_frontalface_default.xml')\n",
    "i = 0\n",
    "for img in glob.glob(image_test_path+'/*.jpg'):\n",
    "    image = cv.imread(img)\n",
    "    name  = img.split('/')[-1]\n",
    "    \n",
    "    gray_image =cv.cvtColor(image,cv.COLOR_BGR2GRAY) #c0nvert to grey\n",
    "    height,width = image.shape[:2]\n",
    "    faces =face_cascade.detecMultiScale(gray_image,1.3,1)\n",
    "    if isinstance(faces,tuple):\n",
    "        resized_image=cv.resize(gray_image(48,48))\n",
    "        cv.imwrite(image_test_path+'/'+name,resized_image)\n",
    "        #print \n",
    "    elif isinstance(faces,np.ndarray):\n",
    "        for(x,y,w,h) in faces:\n",
    "            if w*h <(height * width)/3 :\n",
    "                resized_image =cv.resize(gray_image,(48,48))\n",
    "                cv.imwrite(image_test_path+'/'+name,resized_image)\n",
    "            else:\n",
    "                #cv.rectangle(img,(x,y),(x+w,y+h),(255,0,0),2)\n",
    "                roi_gray = gray_image[y:y+h,x:x+w]\n",
    "                #print(len(roi_gray))\n",
    "                resized_image = cv.resize(roi_gray,(48,48))\n",
    "                cv.imwrite(image_test_path+'/'+name.resized_image)\n",
    "    image = resized_image.astype('float')/255.0\n",
    "    image = img_to_array(image)\n",
    "    image = np.expand_dims(image,axis =0)\n",
    "    data_test[name] = image"
   ]
  },
  {
   "cell_type": "code",
   "execution_count": 42,
   "metadata": {},
   "outputs": [],
   "source": [
    "import cv2"
   ]
  },
  {
   "cell_type": "code",
   "execution_count": 50,
   "metadata": {},
   "outputs": [
    {
     "ename": "TypeError",
     "evalue": "Expected Ptr<cv::UMat> for argument 'src'",
     "output_type": "error",
     "traceback": [
      "\u001b[1;31m---------------------------------------------------------------------------\u001b[0m",
      "\u001b[1;31mTypeError\u001b[0m                                 Traceback (most recent call last)",
      "\u001b[1;32m<ipython-input-50-c7ce0fc2a26e>\u001b[0m in \u001b[0;36m<module>\u001b[1;34m\u001b[0m\n\u001b[0;32m      3\u001b[0m \u001b[1;33m\u001b[0m\u001b[0m\n\u001b[0;32m      4\u001b[0m \u001b[1;32mfor\u001b[0m \u001b[0mimg\u001b[0m \u001b[1;32min\u001b[0m \u001b[0mglob\u001b[0m\u001b[1;33m.\u001b[0m\u001b[0mglob\u001b[0m\u001b[1;33m(\u001b[0m\u001b[0mafraid_dir\u001b[0m\u001b[1;33m+\u001b[0m\u001b[1;34m'/*.JPG'\u001b[0m\u001b[1;33m)\u001b[0m\u001b[1;33m:\u001b[0m\u001b[1;33m\u001b[0m\u001b[1;33m\u001b[0m\u001b[0m\n\u001b[1;32m----> 5\u001b[1;33m     \u001b[0mimage\u001b[0m \u001b[1;33m=\u001b[0m\u001b[0mcv2\u001b[0m\u001b[1;33m.\u001b[0m\u001b[0mcvtColor\u001b[0m\u001b[1;33m(\u001b[0m\u001b[0mimg\u001b[0m\u001b[1;33m,\u001b[0m\u001b[0mcv2\u001b[0m\u001b[1;33m.\u001b[0m\u001b[0mCOLOR_BGR2GRAY\u001b[0m\u001b[1;33m)\u001b[0m\u001b[1;33m\u001b[0m\u001b[1;33m\u001b[0m\u001b[0m\n\u001b[0m\u001b[0;32m      6\u001b[0m \u001b[1;33m\u001b[0m\u001b[0m\n\u001b[0;32m      7\u001b[0m \u001b[0mplt\u001b[0m\u001b[1;33m.\u001b[0m\u001b[0mshow\u001b[0m\u001b[1;33m(\u001b[0m\u001b[1;36m1\u001b[0m\u001b[1;33m,\u001b[0m\u001b[1;36m2\u001b[0m\u001b[1;33m)\u001b[0m\u001b[1;33m\u001b[0m\u001b[1;33m\u001b[0m\u001b[0m\n",
      "\u001b[1;31mTypeError\u001b[0m: Expected Ptr<cv::UMat> for argument 'src'"
     ]
    }
   ],
   "source": [
    "afraid_dir = './emotion/afraid'\n",
    "\n",
    "\n",
    "for img in glob.glob(afraid_dir+'/*.JPG'):\n",
    "    image =cv2.cvtColor(img,cv2.COLOR_BGR2GRAY)\n",
    "    \n",
    "plt.show(1,2)\n",
    "plt.imshow(image)"
   ]
  },
  {
   "cell_type": "code",
   "execution_count": null,
   "metadata": {},
   "outputs": [],
   "source": []
  },
  {
   "cell_type": "code",
   "execution_count": null,
   "metadata": {},
   "outputs": [],
   "source": [
    "image_path = list(os.listdir('./emotion/'))\n",
    "afraid= list(os.listdir(\"./emotion/afraid/\"))\n",
    "anger = list(os.listdir(\"./emotion/anger/\"))\n",
    "disgusted = list(os.listdir(\"./emotion/disgusted/\"))\n",
    "happy = list(os.listdir(\"./emotion/happy/\"))\n",
    "neutral = list(os.listdir(\"./emotion/neutral\"))\n",
    "sad = list(os.listdir(\"./emotion/sad\"))\n",
    "surprised = list(os.listdir(\"./emotion/surprised\"))"
   ]
  },
  {
   "cell_type": "code",
   "execution_count": null,
   "metadata": {},
   "outputs": [],
   "source": [
    "a = glob.glob(afraid_dir)"
   ]
  },
  {
   "cell_type": "code",
   "execution_count": 38,
   "metadata": {},
   "outputs": [
    {
     "ename": "TypeError",
     "evalue": "Expected Ptr<cv::UMat> for argument 'src'",
     "output_type": "error",
     "traceback": [
      "\u001b[1;31m---------------------------------------------------------------------------\u001b[0m",
      "\u001b[1;31mTypeError\u001b[0m                                 Traceback (most recent call last)",
      "\u001b[1;32m<ipython-input-38-5b52a129f547>\u001b[0m in \u001b[0;36m<module>\u001b[1;34m\u001b[0m\n\u001b[1;32m----> 1\u001b[1;33m \u001b[0mafraid\u001b[0m \u001b[1;33m=\u001b[0m \u001b[0mcv2\u001b[0m\u001b[1;33m.\u001b[0m\u001b[0mcvtColor\u001b[0m\u001b[1;33m(\u001b[0m\u001b[0mafraid_dir\u001b[0m\u001b[1;33m,\u001b[0m\u001b[0mcv2\u001b[0m\u001b[1;33m.\u001b[0m\u001b[0mCOLOR_BGR2GRAY\u001b[0m\u001b[1;33m)\u001b[0m\u001b[1;33m\u001b[0m\u001b[1;33m\u001b[0m\u001b[0m\n\u001b[0m",
      "\u001b[1;31mTypeError\u001b[0m: Expected Ptr<cv::UMat> for argument 'src'"
     ]
    }
   ],
   "source": [
    "\n",
    "afraid = cv2.cvtColor(afraid_dir,cv2.COLOR_BGR2GRAY)"
   ]
  },
  {
   "cell_type": "code",
   "execution_count": null,
   "metadata": {},
   "outputs": [],
   "source": []
  },
  {
   "cell_type": "code",
   "execution_count": null,
   "metadata": {},
   "outputs": [],
   "source": []
  },
  {
   "cell_type": "code",
   "execution_count": null,
   "metadata": {},
   "outputs": [],
   "source": []
  },
  {
   "cell_type": "code",
   "execution_count": null,
   "metadata": {},
   "outputs": [],
   "source": []
  },
  {
   "cell_type": "code",
   "execution_count": null,
   "metadata": {},
   "outputs": [],
   "source": []
  },
  {
   "cell_type": "code",
   "execution_count": null,
   "metadata": {},
   "outputs": [],
   "source": []
  },
  {
   "cell_type": "code",
   "execution_count": null,
   "metadata": {},
   "outputs": [],
   "source": []
  },
  {
   "cell_type": "code",
   "execution_count": null,
   "metadata": {},
   "outputs": [],
   "source": []
  },
  {
   "cell_type": "code",
   "execution_count": null,
   "metadata": {},
   "outputs": [],
   "source": []
  },
  {
   "cell_type": "code",
   "execution_count": null,
   "metadata": {},
   "outputs": [],
   "source": []
  },
  {
   "cell_type": "code",
   "execution_count": null,
   "metadata": {},
   "outputs": [],
   "source": []
  },
  {
   "cell_type": "code",
   "execution_count": null,
   "metadata": {},
   "outputs": [],
   "source": []
  },
  {
   "cell_type": "code",
   "execution_count": null,
   "metadata": {},
   "outputs": [],
   "source": []
  },
  {
   "cell_type": "code",
   "execution_count": null,
   "metadata": {},
   "outputs": [],
   "source": []
  },
  {
   "cell_type": "code",
   "execution_count": null,
   "metadata": {},
   "outputs": [],
   "source": []
  },
  {
   "cell_type": "code",
   "execution_count": null,
   "metadata": {},
   "outputs": [],
   "source": []
  },
  {
   "cell_type": "code",
   "execution_count": null,
   "metadata": {},
   "outputs": [],
   "source": []
  },
  {
   "cell_type": "code",
   "execution_count": null,
   "metadata": {},
   "outputs": [],
   "source": []
  },
  {
   "cell_type": "code",
   "execution_count": null,
   "metadata": {},
   "outputs": [],
   "source": []
  },
  {
   "cell_type": "code",
   "execution_count": null,
   "metadata": {},
   "outputs": [],
   "source": []
  },
  {
   "cell_type": "code",
   "execution_count": null,
   "metadata": {},
   "outputs": [],
   "source": []
  }
 ],
 "metadata": {
  "kernelspec": {
   "display_name": "Python 3",
   "language": "python",
   "name": "python3"
  },
  "language_info": {
   "codemirror_mode": {
    "name": "ipython",
    "version": 3
   },
   "file_extension": ".py",
   "mimetype": "text/x-python",
   "name": "python",
   "nbconvert_exporter": "python",
   "pygments_lexer": "ipython3",
   "version": "3.7.4"
  },
  "toc": {
   "base_numbering": 1,
   "nav_menu": {},
   "number_sections": true,
   "sideBar": true,
   "skip_h1_title": false,
   "title_cell": "Table of Contents",
   "title_sidebar": "Contents",
   "toc_cell": false,
   "toc_position": {
    "height": "calc(100% - 180px)",
    "left": "10px",
    "top": "150px",
    "width": "165px"
   },
   "toc_section_display": true,
   "toc_window_display": true
  }
 },
 "nbformat": 4,
 "nbformat_minor": 2
}
