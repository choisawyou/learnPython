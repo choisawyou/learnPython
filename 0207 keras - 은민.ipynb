{
 "cells": [
  {
   "cell_type": "code",
   "execution_count": null,
   "metadata": {},
   "outputs": [],
   "source": [
    "# 지금까지 \n",
    "# constant , variables( 가중치 저장되는 공간 ) , placeholder( 데이터 주입)\n",
    "# 가중치가 들어오는 데이터와 행렬연산을 통해 오차기반 학습을 했다 \n",
    "# for 문을 이용해서 epoch 와 batchsize 를 돌렸다  ---> keras 에서는 for문 안쓰고, fit 함수를 이용해서 한번에 가능하다 (tensorflow 는 그 fit 내용을 이해하기 위해 배웠음)\n"
   ]
  },
  {
   "cell_type": "code",
   "execution_count": null,
   "metadata": {},
   "outputs": [],
   "source": [
    "# keras \n",
    "#keras 의 backend :  tensorflow, CNTK, Theano ( 즉 이런것등을 추가해서 묶은것이다 =  keras 는 왼쪽것들을 wrapper 시킨것이다. )\n",
    "# keras 의 compile  (compile 은 loss, activation, optimizer 이런것을 말함. compile 아래에 저런것들이 있음 )\n",
    "# keras 는 model 을 layer 방식으로 만들었다(=가중치 선언할필요가 없다), keras에서는 return 받는 과정이 생략된다 ( 점찍고 함수 호출하고 )\n",
    "# layer 로 만들어졌기때문에 다른것들도 layer 로 구성되어있는데 Input, Dense, CNN, RNN 모두 layer 로 만들었다 (input dense 통과하면 회귀망)\n",
    "# 즉 keras 는 출력 차수 값만 지정하면 된다 \n",
    "\n",
    "# keras 에서 model 을 만드는 방법\n",
    "# 1. sequential  ( 간단한 망, simple input, simple output) \n",
    "# 2. functional ( multi input, multi output ( ex. 한쪽은 이미지 한쪽은 텍스트를 받아서 RNN 망 학습시키면 이미지를 텍스트로 번역할수있다))\n",
    "# 3. model  ( 상속을 받아서 하는 것으로 class base 로 프로그램을 하게 만들어줬다 )\n",
    "\n",
    "\n",
    "# evaluate 하고 predict  ( evaluate 에는 test 데이터 넣어주고 predict 에는 실제 사용할 데이터 넣어주면 된다 ) \n",
    "\n",
    "#  keras 는 scikit 과 연결되어있는데 그래서 classifier 와 regressor 을 이용해서 ? \n",
    "# scikit 의 장점은 pipeline, gridsearchcv  \n",
    "# 사이킷에 있는 gridsearchcv 를 이용해서 최적의 하이퍼파라미터를 정해질수 있게끔 해준다 (즉 keras 는 하이퍼파라미터 튜닝 기능 사용할 수 있다 )"
   ]
  },
  {
   "cell_type": "code",
   "execution_count": null,
   "metadata": {},
   "outputs": [],
   "source": [
    "# application  transform learning(처음부터 가중치를 학습시키는 것은 오래걸림)\n",
    "# 즉 대표적인 분야에서 pre training 을 해둔다 ( pretrainging 하면 어느정도 가중치가 학습되어있다 ) \n",
    "# 가중치를 처음부터 학습하지 않고, -> 그니까 빨리 적합할수있다 "
   ]
  },
  {
   "cell_type": "code",
   "execution_count": null,
   "metadata": {},
   "outputs": [],
   "source": [
    "# GRU  ( LSTM 보다 속도 빠름 ) \n",
    "# GRU 에서 sequence2sequence 했음 "
   ]
  },
  {
   "cell_type": "code",
   "execution_count": null,
   "metadata": {},
   "outputs": [],
   "source": [
    "# NMT -> transformer -> BERT (transform 이용해서 양방향으로 작동하게 하는 망) "
   ]
  },
  {
   "cell_type": "code",
   "execution_count": null,
   "metadata": {},
   "outputs": [],
   "source": [
    "# image , movie -> opencv\n",
    "# sound  -> librosa\n",
    "# text -> mltk, corpus"
   ]
  },
  {
   "cell_type": "code",
   "execution_count": null,
   "metadata": {},
   "outputs": [],
   "source": []
  },
  {
   "cell_type": "code",
   "execution_count": null,
   "metadata": {},
   "outputs": [],
   "source": []
  },
  {
   "cell_type": "code",
   "execution_count": null,
   "metadata": {},
   "outputs": [],
   "source": []
  },
  {
   "cell_type": "code",
   "execution_count": null,
   "metadata": {},
   "outputs": [],
   "source": []
  },
  {
   "cell_type": "code",
   "execution_count": null,
   "metadata": {},
   "outputs": [],
   "source": [
    "# 오늘 : 파라미터 튜닝, 기본구조"
   ]
  },
  {
   "cell_type": "code",
   "execution_count": null,
   "metadata": {},
   "outputs": [],
   "source": [
    "# 회귀 \n",
    "from keras.models import Sequential  # sequential -> models 서브패키지 \n",
    "from keras.layers import Dense       # layers 에서 모델 구성을 한다 ( Dense 등 ) \n",
    "from sklearn.datasets import make_regression\n",
    "\n",
    "# 신경망에서는 정규화를 해야한다 \n",
    "from sklearn.preprocessing import MinMaxScaler\n",
    "\n",
    "X, y= make_regression(n_samples=100, n_features=2, noise=0.1, random_state=1) # 샘플100개, feature2니까 100x2 ( -> y는 100개가 만들어짐 )\n",
    "\n",
    "scalarX, scalarY = MinMaxScaler(), MinMaxScaler() # 민맥스 2개를 만든 이유는? 데이터 사이즈가 다르기 때문이다 .(값의 범위가 다르니까)\n",
    "scalarX.fit(X)\n",
    "scalarY.fit(y.reshape(100,1)) # 행으로\n",
    "model = Sequential()\n",
    "y = scalarY.transform(y.reshape(100,1))\n",
    "# 여기서부터 keras model 시작 \n",
    "model = Sequential() # sequential 모델 사용했다 \n",
    "model.add(Dense(4, input_dim=2, activation='relu')) \n",
    "##>>  dense 가 출력차수만 지정하면 가중치를 알아서 만들어준다 ( 100x2 가 들어왔고 dense 가 출력 2x4 를 만들어준다 )\n",
    "model.add(Dense(4,activation='relu')) # 두번째층의 입력망은 100x4 이다. 가중치는 4x4 이다. 출력차수는 100x4 가 됨 \n",
    "model.add(Dense(1,activation='linear')) # 입력은 100x4, 가중치는 4x1  출력은 100x1 이다.(즉 100x1 로 예측이된다)  \n",
    "\n",
    "\n",
    "# 모델을 만들어두고, compile 하는 것은 ? backend 가 tensorflow 이기 때문이다 (즉 tesnorflow 로 바꿔주는 것이 compile 이다 )\n",
    "model.compile(loss='mse', optimizer='adam') # compile 은 tensorflow 로 모델을 변형하는 역할을 한다 \n",
    "# >>> compile 쓰니까 간단하게 loss, optimizer 동시 사용 가능\n",
    "#loss 함수 :  회귀일땐 mse, 분류일때는 enthropy, gan 에서는 KL-divergence(이건 분포를 비교해준다) \n",
    "\n",
    "# tesnorflow 에서는 이중 for 문을 썼었다 ( 위에 for 문은 epoch, 밑에 for문은 minibatch 였음) 근데 keras 에서는 아래처럼 간단\n",
    "model.fit(X, y ,epochs=1000, verbose=0) # X 는 100x2,  출력차수는 2x4 이다.  \n",
    "\n",
    "\n",
    "# 테스트 해보려고 새로운 샘플을 만들었다 \n",
    "Xnew, a = make_regression(n_samples=3, n_features=2, noise=0.1, random_state=1)\n",
    "Xnew = scalarX.transform(Xnew)\n",
    "ynew = model.predict(Xnew)\n",
    "for i in range(len(Xnew)):\n",
    "    print('입력데이터=%s, 예측결과=%s' % (Xnew[i], ynew[i]))\n",
    "    \n",
    "                          "
   ]
  },
  {
   "cell_type": "code",
   "execution_count": null,
   "metadata": {},
   "outputs": [],
   "source": [
    "# keras \n",
    "# model에 add 해서 layer 를 추가하면 된다 (keras 가 알아서 layer 를 많이 만들어뒀음. 그 중에 많이 쓰는 것이 dense망 이다)\n",
    "# dense 망은 FFNN 망을만들때 쓴다 "
   ]
  },
  {
   "cell_type": "code",
   "execution_count": null,
   "metadata": {},
   "outputs": [],
   "source": []
  },
  {
   "cell_type": "code",
   "execution_count": null,
   "metadata": {},
   "outputs": [],
   "source": []
  },
  {
   "cell_type": "code",
   "execution_count": null,
   "metadata": {},
   "outputs": [],
   "source": [
    "from keras.models import Sequential  # sequentialo : 입력도 1개, output 도 1개이다 \n",
    "from keras.layers import Dense\n",
    "import numpy\n",
    "numpy.random.seed(7)\n",
    "dataset = numpy.loadtxt('pima.data', delimiter=',') # 데이터 로드\n",
    "X = dataset[:,0:8] # 독립변수 8개 \n",
    "Y = dataset[:,8]  # 9번째있는 것이 종속변수이다 \n",
    "\n",
    "model = Sequential()\n",
    "# ? x8  8x12 -> ? x12 \n",
    "model.add(Dense(12, input_dim=8, activation='relu'))\n",
    "#?x12   12x8 -> ?x8\n",
    "model.add(Dense(8, activation='relu'))  \n",
    "# ?x8  8x1 --> ?x1  이 된다 \n",
    "\n",
    "model.add(Dense(1, activation='sigmoid')) # 앞에서는 linear 가 왔다 (에측이 되는것 ) 여기선 sigmoid 가 왔다 ( 0.5 보다 크면 1 아니면 0이된다 0)\n",
    "model.compile(loss='binary_crossentropy', optimizer = 'adam', metrics=['accuracy']) # compile 할때 주로, loss optimizer, metrics 쓴다 \n",
    "model.fit(X,Y, epochs=150, batch_size=10) # epochs 와 batch_size 가 들어옴 \n",
    "\n",
    "scores = model.evaluate(X,Y)\n",
    "# print(model.metrics_names)\n",
    "#->  2번째 accuracy \n",
    "print('\\n%s: %.2f%%' %(model.metrics_names[1], scores[1]*100))"
   ]
  },
  {
   "cell_type": "code",
   "execution_count": null,
   "metadata": {},
   "outputs": [],
   "source": [
    "# kernel_initalizer 사용 , return 을 사용했을때? \n",
    "from keras.models import Sequential \n",
    "from keras.layers import Dense\n",
    "import numpy\n",
    "numpy.random.seed(7)\n",
    "dataset = numpy.loadtxt('pima.data', delimiter=',') \n",
    "X = dataset[:,0:8] \n",
    "Y = dataset[:,8] \n",
    "\n",
    "model = Sequential()\n",
    "model.add(Dense(12, input_dim=8, activation='relu', kernel_initializer='uniform')) \n",
    "# kernel_initializr 를 통해서 초기화방법 지정해줄수있다 >> 우리도 모르게 만들어지는 가중치를 균등분포로 초기화해주었다 \n",
    "model.add(Dense(8, activation='relu'))  \n",
    "\n",
    "\n",
    "model.add(Dense(1, activation='sigmoid'))\n",
    "model.compile(loss='binary_crossentropy', optimizer = 'adam', metrics=['accuracy'])  \n",
    "\n",
    "history = model.fit(X,Y, epochs=150,validation_split=0.33,  batch_size=10) # history 로 리턴받았다 --> 아래 참고 \n",
    "     # 데이터를 분리할때  train 와 test 로 분리되는데 과적합 되는 현상이 벌어짐) \n",
    "     # -> train, validation, test 로 나눈다 ( 검증용 데이터인 validation 을 만드는 것 )\n",
    "scores = model.evaluate(X,Y)\n",
    "\n",
    "print('\\n%s: %.2f%%' %(model.metrics_names[1], scores[1]*100))"
   ]
  },
  {
   "cell_type": "code",
   "execution_count": null,
   "metadata": {},
   "outputs": [],
   "source": [
    "print(history.history.keys()) # history 로 리턴받으면 -->> loss, accuracy 가 둘다 나온다. "
   ]
  },
  {
   "cell_type": "code",
   "execution_count": null,
   "metadata": {},
   "outputs": [],
   "source": [
    "%matplotlib inline\n",
    "import matplotlib.pyplot as plt\n",
    "plt.plot(history.history['accuracy'])\n",
    "plt.show()"
   ]
  },
  {
   "cell_type": "code",
   "execution_count": null,
   "metadata": {},
   "outputs": [],
   "source": [
    "print(history.history.keys())\n",
    "# val_loss, val_accuracy , loss, accuracy\n",
    "\n",
    "plt.plot(history.history['accuracy'])\n",
    "plt.plot(history.history['val_accuracy'])\n",
    "plt.title('accuracy')\n",
    "plt.ylabel('accuracy')\n",
    "plt.xlabel('epoch')\n",
    "plt.legend(['train', 'test'], loc='upper left')\n",
    "plt.show()"
   ]
  },
  {
   "cell_type": "code",
   "execution_count": null,
   "metadata": {},
   "outputs": [],
   "source": [
    "plt.plot(history.history['loss'])\n",
    "plt.plot(history.history['val_loss'])\n",
    "plt.title('loss')\n",
    "plt.ylabel('loss')\n",
    "plt.xlabel('epoch')\n",
    "plt.legend(['train', 'test'], loc='upper left')\n",
    "plt.show()"
   ]
  },
  {
   "cell_type": "code",
   "execution_count": null,
   "metadata": {},
   "outputs": [],
   "source": [
    "from sklearn.preprocessing import scale\n",
    "from sklearn.model_selection import train_test_split\n",
    "from sklearn.datasets import make_moons\n",
    "X, Y =make_moons(noise=0.2, random_state=0, n_samples=1000)  # X 는 1000x2\n",
    "X = scale(X)\n",
    "X_train, X_test, Y_train, Y_test = train_test_split(X, Y, test_size=.5)\n",
    "\n",
    "print(X.shape)  # X 는 1000x2 \n",
    "print(Y.shape)"
   ]
  },
  {
   "cell_type": "code",
   "execution_count": null,
   "metadata": {},
   "outputs": [],
   "source": [
    "fig, ax = plt.subplots()\n",
    "ax.scatter(X[Y==0,0], X[Y==0,1], label='Class 0 ')\n",
    "ax.scatter(X[Y==1, 0], X[Y==1, 1], color='r', label='Class 1')\n",
    "ax.legend()\n",
    "ax.set(xlabel='X', ylabel='Y', title='binary classification ')"
   ]
  },
  {
   "cell_type": "code",
   "execution_count": null,
   "metadata": {},
   "outputs": [],
   "source": [
    "import keras"
   ]
  },
  {
   "cell_type": "code",
   "execution_count": null,
   "metadata": {},
   "outputs": [],
   "source": [
    "# 비선형모델일때 -> 신경망쓴다 \n",
    "model = Sequential()\n",
    "# 행렬연산 -> 설명을 확대 (변수32 - 설명) \n",
    "# 1000x2  2x32=64  + 32 = 96 ---> 1000x32 \n",
    "\n",
    "\n",
    "model.add(Dense(32, input_dim=2, activation='relu')) # 여기에는 1000x32 가 들어오고 가중치는 32x1이 되고 결과는 1000x1 이 된다 (분류라는것)\n",
    "                                                                                         # 32x1 = 33+bias1 =34 (즉 가중치가 있으면 bias 가 있다) \n",
    "model.add(Dense(1, activation='sigmoid')) \n",
    "\n",
    "model.compile(optimizer='AdaDelta', loss='binary_crossentropy', metrics=['accuracy'])\n",
    "# callback 함수는 언제쓰냐?\n",
    "# callback 함수는 window 에서 자동으로 호출되는 함수이다 \n",
    "tb_callback = keras.callbacks.TensorBoard(log_dir = './Graph/model_1/',   # graph 이미지 출력 \n",
    "                                         histogram_freq = 100, write_graph=True,\n",
    "                                         write_images = False)\n",
    "\n",
    "tb_callback.set_model(model) # 콜백을 모델에 등록해준다 (이미지를 간단하게 불러오는것을 콜백함수가 쓴것이라고 생각하자)\n",
    "# 콜백함수를 모델에 등록하면 --> 모델이 훈련되면서 자동으로 위에 3문장을 호출해준다 (tb_callback = keras.callbacks.TensorBoard(log_dir = './Graph/model_1/',   # graph 이미지 출력 \n",
    "                                                                               # histogram_freq = 100, write_graph=True,\n",
    "                                                                               #  write_images = False)  --> 이걸 자동으로 호출해준다 \n",
    "        \n"
   ]
  },
  {
   "cell_type": "code",
   "execution_count": null,
   "metadata": {},
   "outputs": [],
   "source": [
    "# 위에서 등록을 했고 fit 할때 호출을 한다 \n",
    "hist = model.fit(X_train, Y_train, batch_size=32, epochs=200, verbose= 0, validation_data = (X_test, Y_test), callbacks=[tb_callback])"
   ]
  },
  {
   "cell_type": "code",
   "execution_count": null,
   "metadata": {},
   "outputs": [],
   "source": [
    "score = model.evaluate(X_test, Y_test, verbose=0)\n",
    "print(\"Test Loss: \" , score[0])\n",
    "print(\"Test accuracy:\", score[1]) "
   ]
  },
  {
   "cell_type": "code",
   "execution_count": null,
   "metadata": {},
   "outputs": [],
   "source": [
    "keras.utils.print_summary(model) # #print 하고 summary 하면 모델의 구성을 출력하낟 "
   ]
  },
  {
   "cell_type": "code",
   "execution_count": null,
   "metadata": {},
   "outputs": [],
   "source": [
    "keras.utils.plot_model(model)  # 이건 모델의 구성!"
   ]
  },
  {
   "cell_type": "code",
   "execution_count": null,
   "metadata": {},
   "outputs": [],
   "source": [
    "%matplotlib inline\n",
    "from keras.utils.vis_utils import model_to_dot\n",
    "model_to_dot(model)"
   ]
  },
  {
   "cell_type": "code",
   "execution_count": null,
   "metadata": {},
   "outputs": [],
   "source": [
    "from IPython.display import Image, SVG\n",
    "SVG(model_to_dot(model).create(prog='dot', format='svg'))"
   ]
  },
  {
   "cell_type": "code",
   "execution_count": null,
   "metadata": {},
   "outputs": [],
   "source": [
    "from keras.datasets import mnist\n",
    "import matplotlib.pylab as plt\n",
    "(X_train0, y_train0), (X_test0, y_test0) = mnist.load_data()\n",
    "print(X_train0.shape, X_train0.dtype)  # 60000,  28x28 이 나온다   -> 28x28이라고 안해도 된다 (내맘대로 조정한다)\n",
    "print(y_train0.shape, y_train0.dtype)  # 60000\n",
    "print(X_test0.shape, X_test0.dtype)   # 10000, 28x28\n",
    "print(y_test0.shape, y_test0.dtype) # "
   ]
  },
  {
   "cell_type": "code",
   "execution_count": null,
   "metadata": {},
   "outputs": [],
   "source": [
    "plt.imshow(X_train0[0])\n",
    "plt.grid(False)\n",
    "plt.show()\n"
   ]
  },
  {
   "cell_type": "code",
   "execution_count": null,
   "metadata": {},
   "outputs": [],
   "source": [
    "# fully-connected : flatten : FFNN 은 \n",
    "\n",
    "X_train = X_train0.reshape(60000,784).astype('float32')/255.0  # 255  로 나누는 이유 -> 이미지 정규화 (이미지는 원래 0~255사이의 값이므로 255로 나누니까 0~1 로 바뀐다=정규화) / 나누려면 float 형으로 바꾸어야한다. \n",
    "X_test = X_test0.reshape(10000,784).astype('float32')/255.0\n",
    "print(X_train.shape, X_train.dtype)"
   ]
  },
  {
   "cell_type": "code",
   "execution_count": null,
   "metadata": {},
   "outputs": [],
   "source": [
    "\n",
    "y_train0[:5] # 이걸확인해보면 one_hot_encoding 여부 확인가능  \n",
    "# 5,0,4,1,9   로 나온다 -> onehotencoding 되어있지 않다   -> 해주어야한다 .\n",
    "\n",
    "#( a만약 강아지고양이 이렇게 말고 3개가 넘어가면 softmax 해준다 )\n"
   ]
  },
  {
   "cell_type": "code",
   "execution_count": null,
   "metadata": {},
   "outputs": [],
   "source": [
    "# categorical 함수를 이용해서 원핫인코딩한다\n",
    "from keras.utils import np_utils\n",
    "Y_train = np_utils.to_categorical(y_train0, 10)\n",
    "Y_test = np_utils.to_categorical(y_test0, 10)\n",
    "Y_train[:5]"
   ]
  },
  {
   "cell_type": "code",
   "execution_count": null,
   "metadata": {},
   "outputs": [],
   "source": [
    "import numpy as np\n",
    "from keras.optimizers import SGD\n",
    "import numpy as np\n",
    "np.random.seed(0)\n",
    "model = Sequential()\n",
    "# 60000x784 ,  784x 15  ---> 60000x15\n",
    "model.add(Dense(15, input_dim=784, activation='sigmoid'))\n",
    "# 60000x15   15x10   ->  60000x10 \n",
    "model.add(Dense(10, activation='sigmoid'))\n",
    "model.compile(optimizer=SGD(lr=0.2), loss='mean_squared_error', metrics=['accuracy']) \n",
    "# learning rate(lr)\n",
    "# stockhastic gradient descent : SGD : 확률적 경사하강법"
   ]
  },
  {
   "cell_type": "code",
   "execution_count": null,
   "metadata": {},
   "outputs": [],
   "source": [
    "# model.add(Dense(15, input_dim=784, activation='sigmoid')) 이것을 \n",
    "# 출력차수가 512 인 레이어를 추가하고 싶을땐 \n",
    "# model.add(Dense(512, input_dim=784, activation='sigmoid')) ; model.add(Dense(15)) 로 바꿔보자 "
   ]
  },
  {
   "cell_type": "code",
   "execution_count": null,
   "metadata": {},
   "outputs": [],
   "source": [
    "model.layers\n"
   ]
  },
  {
   "cell_type": "code",
   "execution_count": null,
   "metadata": {},
   "outputs": [],
   "source": [
    "l1 = model.layers[0]\n",
    "l2 = model.layers[1]\n",
    "# 레이어 속성으로 정보확인\n",
    "l1.name\n",
    "l1.input_shape\n",
    "l1.output_shape\n",
    "l1.activation"
   ]
  },
  {
   "cell_type": "code",
   "execution_count": null,
   "metadata": {},
   "outputs": [],
   "source": [
    "hist = model.fit(X_train, Y_train, nb_epoch=30, batch_size=100,\n",
    "                validation_data = (X_test, Y_test), verbose=2) # validation data 를 저렇게 별도로 주어도된다 \n",
    "plt.plot(hist.history['loss']) # 작업했던 내용을 확인할수있다. \n",
    "plt.show()"
   ]
  },
  {
   "cell_type": "code",
   "execution_count": null,
   "metadata": {},
   "outputs": [],
   "source": [
    "plt.plot(hist.history['accuracy'],'b-', label='training')\n",
    "plt.plot(hist.history['val_accuracy'],'r:', label='test')\n",
    "plt.legend()\n",
    "plt.show()\n",
    "\n",
    "print(hist.model)\n",
    "print(hist.params)\n",
    "print(hist.history['accuracy'])\n",
    "print(hist.history['val_accuracy'][29])"
   ]
  },
  {
   "cell_type": "code",
   "execution_count": null,
   "metadata": {},
   "outputs": [],
   "source": [
    "# callback class\n",
    "# callback 함수를 상속받으면 custom callback 함수를 제작할 수 있다\n",
    "# >> keras 가 가지고있는 call back 기능은 함수에 의해서 호출되는 객체이다 \n",
    "\n",
    "class CustomHistory(keras.callbacks.Callback): # () 안에 보이는것처럼 상속을 받는다. \n",
    "    def init(self):   #__init 랑 다른가??? (이해안됨)  \n",
    "        self.train_loss = []\n",
    "        self.val_loss = []\n",
    "        self.train_acc = []\n",
    "        self.val_acc = []\n",
    "    def on_epoch_end(self, batch,logs={}):  # 오버라이딩하고있다 (배치와 로고가 매개변수로 들어온다) \n",
    "        self.train_loss.append(logs.get('loss'))\n",
    "        self.val_loss.append(logs.get('val_loss'))\n",
    "        self.train_acc.append(logs.get('acc'))\n",
    "        self.val_acc.append(logs.get('val_acc'))"
   ]
  },
  {
   "cell_type": "code",
   "execution_count": null,
   "metadata": {},
   "outputs": [],
   "source": [
    "custom_hist = CustomHistory()\n",
    "custom_hist.init()  # init 를 호출하면 안되는데 어떻게 호출했나? \n",
    "hist = model.fit(X_train, Y_train, nb_epoch=30, batch_size=100, validation_data = (X_test,Y_test),\n",
    "                 callbacks=[custom_hist], verbose=2)\n",
    "                 \n",
    "plt.plot(hist.history())"
   ]
  },
  {
   "cell_type": "code",
   "execution_count": null,
   "metadata": {},
   "outputs": [],
   "source": [
    "plt.plot(hist.history['accuracy'],'-b', label='training')\n",
    "plt.plot(hist.history['val_accuracy'], 'r:', label='test')\n",
    "plt.legend()\n",
    "plt.show()\n",
    "\n",
    "print(hist.model)\n",
    "print(hist.params)\n",
    "print(hist.history['accuracy'])\n",
    "print(hist.history['val_accuracy'][29])\n",
    "plt.show()\n",
    "plot(custom_hist.train_loss, 'y', label='train loss')\n",
    "plt.show()"
   ]
  },
  {
   "cell_type": "code",
   "execution_count": null,
   "metadata": {},
   "outputs": [],
   "source": [
    "# 문제 : X_test 의 이미지 한장의 label 을 예측하라\n",
    "model.predict(X_test[:1,:])"
   ]
  },
  {
   "cell_type": "code",
   "execution_count": null,
   "metadata": {},
   "outputs": [],
   "source": [
    "model.predict_classes(X_test[:1,:],verbose=0)"
   ]
  },
  {
   "cell_type": "code",
   "execution_count": null,
   "metadata": {},
   "outputs": [],
   "source": []
  },
  {
   "cell_type": "code",
   "execution_count": null,
   "metadata": {},
   "outputs": [],
   "source": []
  },
  {
   "cell_type": "code",
   "execution_count": null,
   "metadata": {},
   "outputs": [],
   "source": []
  },
  {
   "cell_type": "code",
   "execution_count": null,
   "metadata": {},
   "outputs": [],
   "source": [
    "from keras.datasets import boston_housing\n",
    "(x_train, y_train), (x_test, y_test) = boston_housing.load_data()"
   ]
  },
  {
   "cell_type": "code",
   "execution_count": null,
   "metadata": {},
   "outputs": [],
   "source": [
    "print(x_train.shape) # e다른것도 확인하기"
   ]
  },
  {
   "cell_type": "code",
   "execution_count": null,
   "metadata": {},
   "outputs": [],
   "source": [
    "model = Sequential()\n",
    "num_features=13\n",
    "# 회귀만들기 -=> dense만 하나 쓰면된다.\n",
    "model.add(Dense(1, input_dim=num_features, activation='linear'))"
   ]
  },
  {
   "cell_type": "code",
   "execution_count": null,
   "metadata": {},
   "outputs": [],
   "source": [
    "model.summary()\n",
    "model.compile(optimizer='rmsprop', loss='mse', metrics=['mae'])\n",
    "model.fit(x_train, y_train, batch_size=1, epochs=10, verbose=1) # 회귀가 간단하게 된다"
   ]
  },
  {
   "cell_type": "code",
   "execution_count": null,
   "metadata": {},
   "outputs": [],
   "source": [
    "# 아까는 accuracy 였는데 지금은 mae ??  (metrics 에 mae 지정했기때문)\n",
    "mse, mae = model.evaluate(x_test, y_test, verbose=False)  \n",
    "rmse = np.sqrt(mse)\n",
    "mse, rmse,mae"
   ]
  },
  {
   "cell_type": "code",
   "execution_count": null,
   "metadata": {},
   "outputs": [],
   "source": [
    "# quiz : x_test 의 앞의 3집을 예측해보시오 "
   ]
  },
  {
   "cell_type": "code",
   "execution_count": null,
   "metadata": {},
   "outputs": [],
   "source": [
    "pred=model.predict(x_test[:3,:])\n",
    "#pred.shape\n",
    "pred = pred.reshape(3,)"
   ]
  },
  {
   "cell_type": "code",
   "execution_count": null,
   "metadata": {},
   "outputs": [],
   "source": [
    "real = y_test[:3]\n",
    "real.shape"
   ]
  },
  {
   "cell_type": "code",
   "execution_count": null,
   "metadata": {},
   "outputs": [],
   "source": [
    "# 상관계수를 확인하라\n",
    "import numpy as np\n",
    "np.corrcoef(pred,real)"
   ]
  },
  {
   "cell_type": "code",
   "execution_count": null,
   "metadata": {},
   "outputs": [],
   "source": []
  },
  {
   "cell_type": "code",
   "execution_count": null,
   "metadata": {},
   "outputs": [],
   "source": []
  },
  {
   "cell_type": "code",
   "execution_count": 5,
   "metadata": {},
   "outputs": [
    {
     "name": "stderr",
     "output_type": "stream",
     "text": [
      "Using TensorFlow backend.\n"
     ]
    }
   ],
   "source": [
    "# scikits 와 keras 를 연결하는 객체를 만들었다 \n",
    "# 그게 바로 kerasclassifier, kerasregressor 이다  \n",
    "import numpy as np\n",
    "from sklearn.model_selection import GridSearchCV\n",
    "from keras.models import Sequential\n",
    "from keras.layers import Dense\n",
    "from keras.wrappers.scikit_learn import KerasClassifier \n",
    "#그리드서치랑 케라스클래스파이어 2개필요 "
   ]
  },
  {
   "cell_type": "code",
   "execution_count": null,
   "metadata": {},
   "outputs": [],
   "source": [
    "# 768x9 => 768x8 => 독립변수, 768x1 종속변수\n",
    "#  변수 8\n",
    "def create_model():\n",
    "    model = Sequential()\n",
    "    # 8x12 => 768x12\n",
    "    model.add(Dense(12, input_dim=8,activation='relu'))\n",
    "    # 768x12 => 768x1\n",
    "    model.add(Dense(1, activation='sigmoid')) # 0~1값이 된다\n",
    "    model.compile(loss ='binary_crossentropy', optimizer='adam', metrics=['accuracy'])\n",
    "    return model\n",
    "\n",
    "seed=7\n",
    "numpy.random.seed(seed)\n",
    "dataset = np.loadtxt('pima.csv', delimiter=',')\n",
    "print(dataset.shape)\n",
    "X = dataset[:,0:8]\n",
    "Y = dataset[:,8]\n",
    "model = KerasClassifier(build_fn=create_model, verbose=0) # verbose : 설명을 달것인가 말것인다.0,1\n",
    "print(X.shape)\n",
    "print(Y.shape)"
   ]
  },
  {
   "cell_type": "code",
   "execution_count": null,
   "metadata": {},
   "outputs": [],
   "source": [
    "# 파라미터 튜닝을 위해서 아래처럼 조합을 만든다 \n",
    "batch_size = [10,20,40,60,80,100]\n",
    "epochs=[10,50,100]\n",
    "\n",
    "# 매개 변수 입력 형태는 dictionary 이다 \n",
    "param_grid = dict(batch_size = batch_size, epochs = epochs)\n",
    "grid = GridSearchCV(estimator=model, param_grid=param_grid, n_jobs=-1) # 참여하는 cpu 개수 \n",
    "grid_result = grid.fit(X,Y)\n",
    "\n",
    "print('최적스코어: {} 사용한 파라미터조합 : '.format(grid_result.best_score_, grid_result.best_params_))\n",
    "means = grid_result.cv_results_['mean_test_score']\n",
    "stds = grid_result.cv_results_['std_test_score']\n",
    "params = grid_result.cv_results_['params']\n",
    "\n",
    "for mean, stdev, param in zip(means, stds, params):\n",
    "    print('{}({}) with : {}'.format(mean, stdev, param))"
   ]
  },
  {
   "cell_type": "code",
   "execution_count": null,
   "metadata": {},
   "outputs": [],
   "source": [
    "#https://3months.tistory.com/321"
   ]
  },
  {
   "cell_type": "code",
   "execution_count": null,
   "metadata": {},
   "outputs": [],
   "source": []
  },
  {
   "cell_type": "code",
   "execution_count": null,
   "metadata": {},
   "outputs": [],
   "source": []
  },
  {
   "cell_type": "code",
   "execution_count": null,
   "metadata": {},
   "outputs": [],
   "source": [
    "# Q.dense2:  가중치 초기화(kernel_initializer) 매개변수를 넣고 이를\n",
    "#['uniform ' , 'lecun_uniform', 'normal', 'zero',' glorot_normal', 'glorot_uniform', 'he_normal', 'he_uniform']\n",
    "# 로 테스트해서 가장 최적의 가중치 초기화 파라미터를 결정하시오\n",
    "\n",
    "#dense1 : activation 함수를 달아주고\n",
    "# ['softmax', 'softplus', 'softsign',' relu', 'tanh', 'sigmoid', 'hard_sigmoid' , 'linear'] 의 조합중 가장 좋은 activation 함수를 ㅓㅇ하라 \n",
    "\n",
    "#dropout rate 도 ! "
   ]
  },
  {
   "cell_type": "code",
   "execution_count": 30,
   "metadata": {},
   "outputs": [
    {
     "name": "stdout",
     "output_type": "stream",
     "text": [
      "(768, 9)\n",
      "(768, 8)\n",
      "(768,)\n"
     ]
    }
   ],
   "source": [
    "import numpy\n",
    "from keras.layers import Dropout\n",
    "def create_model(activation, init_mode, dropout_rate):\n",
    "    model = Sequential()\n",
    "    model.add(Dense(12, input_dim=8, activation=activation))  # activation 에는 activation 을 넣어준다 \n",
    "    model.add(Dropout(dropout_rate)) # dropout-rate 도 해보자 (r과적합방지하려고 쓰는것 ) \n",
    "    model.add(Dense(1, activation='sigmoid', kernel_initializer=init_mode))  # 2번째에는 kernel initializer 쓴다 (안되는 이유는? 함수안에서 init_ㅡmode 를 인식하지 못함 --> 중요한것!!!!-> 파라미터에 넣어야한다!!)\n",
    "              \n",
    "    model.compile(loss ='binary_crossentropy', optimizer='adam', metrics=['accuracy'])\n",
    "    return model\n",
    "\n",
    "seed=7\n",
    "numpy.random.seed(seed)\n",
    "dataset = np.loadtxt('pima.csv', delimiter=',')\n",
    "print(dataset.shape)\n",
    "X = dataset[:,0:8]\n",
    "Y = dataset[:,8]\n",
    "model = KerasClassifier(build_fn=create_model, verbose=0) \n",
    "print(X.shape)\n",
    "print(Y.shape)\n"
   ]
  },
  {
   "cell_type": "code",
   "execution_count": 31,
   "metadata": {},
   "outputs": [
    {
     "name": "stdout",
     "output_type": "stream",
     "text": [
      "WARNING:tensorflow:Large dropout rate: 0.8 (>0.5). In TensorFlow 2.x, dropout() uses dropout rate instead of keep_prob. Please ensure that this is intended.\n",
      "최적스코어: 0.6627604166666666 사용한 파라미터조합 : \n",
      "0.6510416666666666(0.024773824987552668) with : {'activation': 'softmax', 'dropout_rate': 0.0, 'init_mode': 'uniform'}\n",
      "0.4765625(0.14095014494272434) with : {'activation': 'softmax', 'dropout_rate': 0.0, 'init_mode': 'lecun_uniform'}\n",
      "0.6497395833333334(0.02655739329996242) with : {'activation': 'softmax', 'dropout_rate': 0.0, 'init_mode': 'normal'}\n",
      "0.6510416666666666(0.024773824987552668) with : {'activation': 'softmax', 'dropout_rate': 0.0, 'init_mode': 'zero'}\n",
      "0.4505208333333333(0.12112874718289306) with : {'activation': 'softmax', 'dropout_rate': 0.0, 'init_mode': 'glorot_normal'}\n",
      "0.5247395833333334(0.1036608814452872) with : {'activation': 'softmax', 'dropout_rate': 0.0, 'init_mode': 'glorot_uniform'}\n",
      "0.4856770833333333(0.1185396528827192) with : {'activation': 'softmax', 'dropout_rate': 0.0, 'init_mode': 'he_normal'}\n",
      "0.5325520833333334(0.03014540860101621) with : {'activation': 'softmax', 'dropout_rate': 0.0, 'init_mode': 'he_uniform'}\n",
      "0.5638020833333334(0.07814669837564404) with : {'activation': 'softmax', 'dropout_rate': 0.1, 'init_mode': 'uniform'}\n",
      "0.3528645833333333(0.030145408601016215) with : {'activation': 'softmax', 'dropout_rate': 0.1, 'init_mode': 'lecun_uniform'}\n",
      "0.5455729166666666(0.09256704472487615) with : {'activation': 'softmax', 'dropout_rate': 0.1, 'init_mode': 'normal'}\n",
      "0.6510416666666666(0.024773824987552668) with : {'activation': 'softmax', 'dropout_rate': 0.1, 'init_mode': 'zero'}\n",
      "0.5221354166666666(0.13815588911146914) with : {'activation': 'softmax', 'dropout_rate': 0.1, 'init_mode': 'glorot_normal'}\n",
      "0.5403645833333334(0.1561305967382666) with : {'activation': 'softmax', 'dropout_rate': 0.1, 'init_mode': 'glorot_uniform'}\n",
      "0.5143229166666666(0.1250542417035726) with : {'activation': 'softmax', 'dropout_rate': 0.1, 'init_mode': 'he_normal'}\n",
      "0.51171875(0.07935233846454474) with : {'activation': 'softmax', 'dropout_rate': 0.1, 'init_mode': 'he_uniform'}\n",
      "0.578125(0.13814361676952963) with : {'activation': 'softmax', 'dropout_rate': 0.2, 'init_mode': 'uniform'}\n",
      "0.55078125(0.13100019630630966) with : {'activation': 'softmax', 'dropout_rate': 0.2, 'init_mode': 'lecun_uniform'}\n",
      "0.6510416666666666(0.024150048165353395) with : {'activation': 'softmax', 'dropout_rate': 0.2, 'init_mode': 'normal'}\n",
      "0.6510416666666666(0.024773824987552668) with : {'activation': 'softmax', 'dropout_rate': 0.2, 'init_mode': 'zero'}\n",
      "0.48046875(0.13810679320049757) with : {'activation': 'softmax', 'dropout_rate': 0.2, 'init_mode': 'glorot_normal'}\n",
      "0.60546875(0.04971844555217912) with : {'activation': 'softmax', 'dropout_rate': 0.2, 'init_mode': 'glorot_uniform'}\n",
      "0.53125(0.049820641848200495) with : {'activation': 'softmax', 'dropout_rate': 0.2, 'init_mode': 'he_normal'}\n",
      "0.5572916666666666(0.0822685885361006) with : {'activation': 'softmax', 'dropout_rate': 0.2, 'init_mode': 'he_uniform'}\n",
      "0.5416666666666666(0.14769321810884622) with : {'activation': 'softmax', 'dropout_rate': 0.3, 'init_mode': 'uniform'}\n",
      "0.5182291666666666(0.12638930622260158) with : {'activation': 'softmax', 'dropout_rate': 0.3, 'init_mode': 'lecun_uniform'}\n",
      "0.58203125(0.06590651424397793) with : {'activation': 'softmax', 'dropout_rate': 0.3, 'init_mode': 'normal'}\n",
      "0.6510416666666666(0.024773824987552668) with : {'activation': 'softmax', 'dropout_rate': 0.3, 'init_mode': 'zero'}\n",
      "0.5533854166666666(0.03962271889245557) with : {'activation': 'softmax', 'dropout_rate': 0.3, 'init_mode': 'glorot_normal'}\n",
      "0.4791666666666667(0.1040526720000367) with : {'activation': 'softmax', 'dropout_rate': 0.3, 'init_mode': 'glorot_uniform'}\n",
      "0.50390625(0.12552785682286488) with : {'activation': 'softmax', 'dropout_rate': 0.3, 'init_mode': 'he_normal'}\n",
      "0.5729166666666666(0.10675495308734183) with : {'activation': 'softmax', 'dropout_rate': 0.3, 'init_mode': 'he_uniform'}\n",
      "0.5260416666666666(0.14200470927612655) with : {'activation': 'softmax', 'dropout_rate': 0.4, 'init_mode': 'uniform'}\n",
      "0.3893229166666667(0.04101045767714485) with : {'activation': 'softmax', 'dropout_rate': 0.4, 'init_mode': 'lecun_uniform'}\n",
      "0.6380208333333334(0.04882378452930384) with : {'activation': 'softmax', 'dropout_rate': 0.4, 'init_mode': 'normal'}\n",
      "0.6510416666666666(0.024773824987552668) with : {'activation': 'softmax', 'dropout_rate': 0.4, 'init_mode': 'zero'}\n",
      "0.4205729166666667(0.062200890169250976) with : {'activation': 'softmax', 'dropout_rate': 0.4, 'init_mode': 'glorot_normal'}\n",
      "0.5065104166666666(0.05046307910176068) with : {'activation': 'softmax', 'dropout_rate': 0.4, 'init_mode': 'glorot_uniform'}\n",
      "0.4986979166666667(0.13555431705874915) with : {'activation': 'softmax', 'dropout_rate': 0.4, 'init_mode': 'he_normal'}\n",
      "0.5221354166666666(0.09759546719501828) with : {'activation': 'softmax', 'dropout_rate': 0.4, 'init_mode': 'he_uniform'}\n",
      "0.5208333333333334(0.10751455913199487) with : {'activation': 'softmax', 'dropout_rate': 0.5, 'init_mode': 'uniform'}\n",
      "0.4466145833333333(0.03696632699629789) with : {'activation': 'softmax', 'dropout_rate': 0.5, 'init_mode': 'lecun_uniform'}\n",
      "0.6380208333333334(0.03831754939990146) with : {'activation': 'softmax', 'dropout_rate': 0.5, 'init_mode': 'normal'}\n",
      "0.6510416666666666(0.024773824987552668) with : {'activation': 'softmax', 'dropout_rate': 0.5, 'init_mode': 'zero'}\n",
      "0.4674479166666667(0.09295087654986847) with : {'activation': 'softmax', 'dropout_rate': 0.5, 'init_mode': 'glorot_normal'}\n",
      "0.4270833333333333(0.1292543175388372) with : {'activation': 'softmax', 'dropout_rate': 0.5, 'init_mode': 'glorot_uniform'}\n",
      "0.56640625(0.0720982718745163) with : {'activation': 'softmax', 'dropout_rate': 0.5, 'init_mode': 'he_normal'}\n",
      "0.55859375(0.106548294507702) with : {'activation': 'softmax', 'dropout_rate': 0.5, 'init_mode': 'he_uniform'}\n",
      "0.52734375(0.13262087892199204) with : {'activation': 'softmax', 'dropout_rate': 0.6, 'init_mode': 'uniform'}\n",
      "0.5494791666666666(0.11286892152484028) with : {'activation': 'softmax', 'dropout_rate': 0.6, 'init_mode': 'lecun_uniform'}\n",
      "0.5221354166666666(0.11871115958376542) with : {'activation': 'softmax', 'dropout_rate': 0.6, 'init_mode': 'normal'}\n",
      "0.6510416666666666(0.024773824987552668) with : {'activation': 'softmax', 'dropout_rate': 0.6, 'init_mode': 'zero'}\n",
      "0.4010416666666667(0.10864401065105808) with : {'activation': 'softmax', 'dropout_rate': 0.6, 'init_mode': 'glorot_normal'}\n",
      "0.5638020833333334(0.03226435336813507) with : {'activation': 'softmax', 'dropout_rate': 0.6, 'init_mode': 'glorot_uniform'}\n",
      "0.625(0.034499065884093155) with : {'activation': 'softmax', 'dropout_rate': 0.6, 'init_mode': 'he_normal'}\n",
      "0.4908854166666667(0.12806835214517504) with : {'activation': 'softmax', 'dropout_rate': 0.6, 'init_mode': 'he_uniform'}\n",
      "0.6197916666666666(0.04150358711070111) with : {'activation': 'softmax', 'dropout_rate': 0.7, 'init_mode': 'uniform'}\n",
      "0.5729166666666666(0.11518838830518996) with : {'activation': 'softmax', 'dropout_rate': 0.7, 'init_mode': 'lecun_uniform'}\n",
      "0.62109375(0.059069251157363306) with : {'activation': 'softmax', 'dropout_rate': 0.7, 'init_mode': 'normal'}\n",
      "0.6510416666666666(0.024773824987552668) with : {'activation': 'softmax', 'dropout_rate': 0.7, 'init_mode': 'zero'}\n",
      "0.5729166666666666(0.134575210184419) with : {'activation': 'softmax', 'dropout_rate': 0.7, 'init_mode': 'glorot_normal'}\n",
      "0.5052083333333334(0.14371366917101944) with : {'activation': 'softmax', 'dropout_rate': 0.7, 'init_mode': 'glorot_uniform'}\n",
      "0.4440104166666667(0.04840528722771121) with : {'activation': 'softmax', 'dropout_rate': 0.7, 'init_mode': 'he_normal'}\n",
      "0.4661458333333333(0.14470124199800044) with : {'activation': 'softmax', 'dropout_rate': 0.7, 'init_mode': 'he_uniform'}\n",
      "0.5690104166666666(0.14009351725325797) with : {'activation': 'softmax', 'dropout_rate': 0.8, 'init_mode': 'uniform'}\n",
      "0.4791666666666667(0.10385696147192326) with : {'activation': 'softmax', 'dropout_rate': 0.8, 'init_mode': 'lecun_uniform'}\n",
      "0.5026041666666666(0.08748217204292096) with : {'activation': 'softmax', 'dropout_rate': 0.8, 'init_mode': 'normal'}\n",
      "0.6510416666666666(0.024773824987552668) with : {'activation': 'softmax', 'dropout_rate': 0.8, 'init_mode': 'zero'}\n",
      "0.4986979166666667(0.04882378452930384) with : {'activation': 'softmax', 'dropout_rate': 0.8, 'init_mode': 'glorot_normal'}\n",
      "0.53515625(0.1424933752115047) with : {'activation': 'softmax', 'dropout_rate': 0.8, 'init_mode': 'glorot_uniform'}\n",
      "0.50390625(0.1128088209233879) with : {'activation': 'softmax', 'dropout_rate': 0.8, 'init_mode': 'he_normal'}\n",
      "0.5169270833333334(0.06700354338681566) with : {'activation': 'softmax', 'dropout_rate': 0.8, 'init_mode': 'he_uniform'}\n",
      "0.5286458333333334(0.150490643598743) with : {'activation': 'softmax', 'dropout_rate': 0.9, 'init_mode': 'uniform'}\n",
      "0.5950520833333334(0.04480377743251368) with : {'activation': 'softmax', 'dropout_rate': 0.9, 'init_mode': 'lecun_uniform'}\n",
      "0.5833333333333334(0.07656870014577685) with : {'activation': 'softmax', 'dropout_rate': 0.9, 'init_mode': 'normal'}\n",
      "0.6510416666666666(0.024773824987552668) with : {'activation': 'softmax', 'dropout_rate': 0.9, 'init_mode': 'zero'}\n",
      "0.6171875(0.04384754750125713) with : {'activation': 'softmax', 'dropout_rate': 0.9, 'init_mode': 'glorot_normal'}\n",
      "0.6106770833333334(0.05425173608333245) with : {'activation': 'softmax', 'dropout_rate': 0.9, 'init_mode': 'glorot_uniform'}\n",
      "0.4921875(0.11512949853226873) with : {'activation': 'softmax', 'dropout_rate': 0.9, 'init_mode': 'he_normal'}\n",
      "0.5338541666666666(0.14286174464004428) with : {'activation': 'softmax', 'dropout_rate': 0.9, 'init_mode': 'he_uniform'}\n",
      "0.484375(0.07973599423122325) with : {'activation': 'softplus', 'dropout_rate': 0.0, 'init_mode': 'uniform'}\n",
      "0.4635416666666667(0.08989091455256878) with : {'activation': 'softplus', 'dropout_rate': 0.0, 'init_mode': 'lecun_uniform'}\n",
      "0.58203125(0.0943987966687076) with : {'activation': 'softplus', 'dropout_rate': 0.0, 'init_mode': 'normal'}\n",
      "0.6510416666666666(0.03097754493065187) with : {'activation': 'softplus', 'dropout_rate': 0.0, 'init_mode': 'zero'}\n",
      "0.43359375(0.13319491513067105) with : {'activation': 'softplus', 'dropout_rate': 0.0, 'init_mode': 'glorot_normal'}\n",
      "0.5442708333333334(0.14603083724113622) with : {'activation': 'softplus', 'dropout_rate': 0.0, 'init_mode': 'glorot_uniform'}\n",
      "0.5651041666666666(0.030313663351101083) with : {'activation': 'softplus', 'dropout_rate': 0.0, 'init_mode': 'he_normal'}\n",
      "0.4908854166666667(0.10680258674171812) with : {'activation': 'softplus', 'dropout_rate': 0.0, 'init_mode': 'he_uniform'}\n",
      "0.5755208333333334(0.10316905098718909) with : {'activation': 'softplus', 'dropout_rate': 0.1, 'init_mode': 'uniform'}\n",
      "0.6458333333333334(0.02749832302336312) with : {'activation': 'softplus', 'dropout_rate': 0.1, 'init_mode': 'lecun_uniform'}\n",
      "0.5221354166666666(0.05726206621691673) with : {'activation': 'softplus', 'dropout_rate': 0.1, 'init_mode': 'normal'}\n",
      "0.6106770833333334(0.038450060052691144) with : {'activation': 'softplus', 'dropout_rate': 0.1, 'init_mode': 'zero'}\n",
      "0.55859375(0.11757747611947196) with : {'activation': 'softplus', 'dropout_rate': 0.1, 'init_mode': 'glorot_normal'}\n",
      "0.5611979166666666(0.08829238806335774) with : {'activation': 'softplus', 'dropout_rate': 0.1, 'init_mode': 'glorot_uniform'}\n",
      "0.54296875(0.071032196338468) with : {'activation': 'softplus', 'dropout_rate': 0.1, 'init_mode': 'he_normal'}\n",
      "0.4661458333333333(0.08282314528015235) with : {'activation': 'softplus', 'dropout_rate': 0.1, 'init_mode': 'he_uniform'}\n",
      "0.5260416666666666(0.10252614419286211) with : {'activation': 'softplus', 'dropout_rate': 0.2, 'init_mode': 'uniform'}\n",
      "0.56640625(0.06697823515422753) with : {'activation': 'softplus', 'dropout_rate': 0.2, 'init_mode': 'lecun_uniform'}\n",
      "0.5716145833333334(0.09229190180556954) with : {'activation': 'softplus', 'dropout_rate': 0.2, 'init_mode': 'normal'}\n",
      "0.63671875(0.014615849167085708) with : {'activation': 'softplus', 'dropout_rate': 0.2, 'init_mode': 'zero'}\n",
      "0.5625(0.12721827279243994) with : {'activation': 'softplus', 'dropout_rate': 0.2, 'init_mode': 'glorot_normal'}\n",
      "0.5846354166666666(0.08319079606751713) with : {'activation': 'softplus', 'dropout_rate': 0.2, 'init_mode': 'glorot_uniform'}\n",
      "0.4739583333333333(0.05396974420849663) with : {'activation': 'softplus', 'dropout_rate': 0.2, 'init_mode': 'he_normal'}\n",
      "0.5182291666666666(0.11853965288271918) with : {'activation': 'softplus', 'dropout_rate': 0.2, 'init_mode': 'he_uniform'}\n",
      "0.5299479166666666(0.10197898046458996) with : {'activation': 'softplus', 'dropout_rate': 0.3, 'init_mode': 'uniform'}\n",
      "0.5859375(0.02209708691207961) with : {'activation': 'softplus', 'dropout_rate': 0.3, 'init_mode': 'lecun_uniform'}\n",
      "0.5143229166666666(0.08282314528015235) with : {'activation': 'softplus', 'dropout_rate': 0.3, 'init_mode': 'normal'}\n",
      "0.65625(0.01149968862803105) with : {'activation': 'softplus', 'dropout_rate': 0.3, 'init_mode': 'zero'}\n",
      "0.48828125(0.10801799558310489) with : {'activation': 'softplus', 'dropout_rate': 0.3, 'init_mode': 'glorot_normal'}\n",
      "0.5546875(0.11757747611947196) with : {'activation': 'softplus', 'dropout_rate': 0.3, 'init_mode': 'glorot_uniform'}\n",
      "0.546875(0.09948802861923471) with : {'activation': 'softplus', 'dropout_rate': 0.3, 'init_mode': 'he_normal'}\n",
      "0.515625(0.13407033048226963) with : {'activation': 'softplus', 'dropout_rate': 0.3, 'init_mode': 'he_uniform'}\n",
      "0.5807291666666666(0.08943710813059581) with : {'activation': 'softplus', 'dropout_rate': 0.4, 'init_mode': 'uniform'}\n",
      "0.40625(0.05221337931188391) with : {'activation': 'softplus', 'dropout_rate': 0.4, 'init_mode': 'lecun_uniform'}\n",
      "0.5208333333333334(0.12846489046271445) with : {'activation': 'softplus', 'dropout_rate': 0.4, 'init_mode': 'normal'}\n",
      "0.65234375(0.026106689655941956) with : {'activation': 'softplus', 'dropout_rate': 0.4, 'init_mode': 'zero'}\n",
      "0.35546875(0.020914555213813815) with : {'activation': 'softplus', 'dropout_rate': 0.4, 'init_mode': 'glorot_normal'}\n",
      "0.4661458333333333(0.11187313293755516) with : {'activation': 'softplus', 'dropout_rate': 0.4, 'init_mode': 'glorot_uniform'}\n",
      "0.48828125(0.10539638721275033) with : {'activation': 'softplus', 'dropout_rate': 0.4, 'init_mode': 'he_normal'}\n",
      "0.5572916666666666(0.13381717630912418) with : {'activation': 'softplus', 'dropout_rate': 0.4, 'init_mode': 'he_uniform'}\n",
      "0.5989583333333334(0.05263380971720765) with : {'activation': 'softplus', 'dropout_rate': 0.5, 'init_mode': 'uniform'}\n",
      "0.42578125(0.09282310896157091) with : {'activation': 'softplus', 'dropout_rate': 0.5, 'init_mode': 'lecun_uniform'}\n",
      "0.62890625(0.011048543456039806) with : {'activation': 'softplus', 'dropout_rate': 0.5, 'init_mode': 'normal'}\n",
      "0.6236979166666666(0.0403855792168511) with : {'activation': 'softplus', 'dropout_rate': 0.5, 'init_mode': 'zero'}\n",
      "0.5755208333333334(0.09101553186094423) with : {'activation': 'softplus', 'dropout_rate': 0.5, 'init_mode': 'glorot_normal'}\n",
      "0.48828125(0.12418353143298295) with : {'activation': 'softplus', 'dropout_rate': 0.5, 'init_mode': 'glorot_uniform'}\n",
      "0.4140625(0.11618494763648028) with : {'activation': 'softplus', 'dropout_rate': 0.5, 'init_mode': 'he_normal'}\n",
      "0.37109375(0.04910080113272084) with : {'activation': 'softplus', 'dropout_rate': 0.5, 'init_mode': 'he_uniform'}\n",
      "0.5182291666666666(0.11304903162056376) with : {'activation': 'softplus', 'dropout_rate': 0.6, 'init_mode': 'uniform'}\n",
      "0.45703125(0.14785384155828238) with : {'activation': 'softplus', 'dropout_rate': 0.6, 'init_mode': 'lecun_uniform'}\n",
      "0.4453125(0.08144008214120776) with : {'activation': 'softplus', 'dropout_rate': 0.6, 'init_mode': 'normal'}\n",
      "0.64453125(0.01940060472103039) with : {'activation': 'softplus', 'dropout_rate': 0.6, 'init_mode': 'zero'}\n",
      "0.5989583333333334(0.07344950404255446) with : {'activation': 'softplus', 'dropout_rate': 0.6, 'init_mode': 'glorot_normal'}\n",
      "0.4479166666666667(0.12386912493776334) with : {'activation': 'softplus', 'dropout_rate': 0.6, 'init_mode': 'glorot_uniform'}\n",
      "0.53515625(0.15037794183531372) with : {'activation': 'softplus', 'dropout_rate': 0.6, 'init_mode': 'he_normal'}\n",
      "0.5651041666666666(0.09612515013172787) with : {'activation': 'softplus', 'dropout_rate': 0.6, 'init_mode': 'he_uniform'}\n",
      "0.4817708333333333(0.13282526490944369) with : {'activation': 'softplus', 'dropout_rate': 0.7, 'init_mode': 'uniform'}\n",
      "0.4947916666666667(0.13962073892458535) with : {'activation': 'softplus', 'dropout_rate': 0.7, 'init_mode': 'lecun_uniform'}\n",
      "0.5338541666666666(0.10087574973045085) with : {'activation': 'softplus', 'dropout_rate': 0.7, 'init_mode': 'normal'}\n",
      "0.65234375(0.0229993772560621) with : {'activation': 'softplus', 'dropout_rate': 0.7, 'init_mode': 'zero'}\n",
      "0.3736979166666667(0.05185496810348926) with : {'activation': 'softplus', 'dropout_rate': 0.7, 'init_mode': 'glorot_normal'}\n",
      "0.5533854166666666(0.13381717630912418) with : {'activation': 'softplus', 'dropout_rate': 0.7, 'init_mode': 'glorot_uniform'}\n",
      "0.6458333333333334(0.020255663002739642) with : {'activation': 'softplus', 'dropout_rate': 0.7, 'init_mode': 'he_normal'}\n",
      "0.5455729166666666(0.09295087654986847) with : {'activation': 'softplus', 'dropout_rate': 0.7, 'init_mode': 'he_uniform'}\n",
      "0.6458333333333334(0.029634913220679796) with : {'activation': 'softplus', 'dropout_rate': 0.8, 'init_mode': 'uniform'}\n",
      "0.625(0.026106689655941956) with : {'activation': 'softplus', 'dropout_rate': 0.8, 'init_mode': 'lecun_uniform'}\n",
      "0.51171875(0.1329273400560434) with : {'activation': 'softplus', 'dropout_rate': 0.8, 'init_mode': 'normal'}\n",
      "0.4427083333333333(0.12440178033850195) with : {'activation': 'softplus', 'dropout_rate': 0.8, 'init_mode': 'zero'}\n",
      "0.5390625(0.14490028899212037) with : {'activation': 'softplus', 'dropout_rate': 0.8, 'init_mode': 'glorot_normal'}\n",
      "0.5768229166666666(0.12988240457851563) with : {'activation': 'softplus', 'dropout_rate': 0.8, 'init_mode': 'glorot_uniform'}\n",
      "0.41796875(0.13535405203037576) with : {'activation': 'softplus', 'dropout_rate': 0.8, 'init_mode': 'he_normal'}\n",
      "0.5065104166666666(0.12695145565141774) with : {'activation': 'softplus', 'dropout_rate': 0.8, 'init_mode': 'he_uniform'}\n",
      "0.4908854166666667(0.11456853597634863) with : {'activation': 'softplus', 'dropout_rate': 0.9, 'init_mode': 'uniform'}\n",
      "0.4869791666666667(0.12403326254281104) with : {'activation': 'softplus', 'dropout_rate': 0.9, 'init_mode': 'lecun_uniform'}\n",
      "0.58203125(0.09423701626417827) with : {'activation': 'softplus', 'dropout_rate': 0.9, 'init_mode': 'normal'}\n",
      "0.6067708333333334(0.048405287227711216) with : {'activation': 'softplus', 'dropout_rate': 0.9, 'init_mode': 'zero'}\n",
      "0.5286458333333334(0.1092974675595485) with : {'activation': 'softplus', 'dropout_rate': 0.9, 'init_mode': 'glorot_normal'}\n",
      "0.4674479166666667(0.14899611627465514) with : {'activation': 'softplus', 'dropout_rate': 0.9, 'init_mode': 'glorot_uniform'}\n",
      "0.5572916666666666(0.08077115843370221) with : {'activation': 'softplus', 'dropout_rate': 0.9, 'init_mode': 'he_normal'}\n",
      "0.4622395833333333(0.1581053045485473) with : {'activation': 'softplus', 'dropout_rate': 0.9, 'init_mode': 'he_uniform'}\n",
      "0.6471354166666666(0.024773824987552668) with : {'activation': 'softsign', 'dropout_rate': 0.0, 'init_mode': 'uniform'}\n",
      "0.5872395833333334(0.07956570894506348) with : {'activation': 'softsign', 'dropout_rate': 0.0, 'init_mode': 'lecun_uniform'}\n",
      "0.6380208333333334(0.028586586458463733) with : {'activation': 'softsign', 'dropout_rate': 0.0, 'init_mode': 'normal'}\n",
      "0.6510416666666666(0.024773824987552668) with : {'activation': 'softsign', 'dropout_rate': 0.0, 'init_mode': 'zero'}\n",
      "0.6080729166666666(0.008026580733032522) with : {'activation': 'softsign', 'dropout_rate': 0.0, 'init_mode': 'glorot_normal'}\n",
      "0.4674479166666667(0.136861284827822) with : {'activation': 'softsign', 'dropout_rate': 0.0, 'init_mode': 'glorot_uniform'}\n",
      "0.4609375(0.0922735297735759) with : {'activation': 'softsign', 'dropout_rate': 0.0, 'init_mode': 'he_normal'}\n",
      "0.53125(0.1231966267970299) with : {'activation': 'softsign', 'dropout_rate': 0.0, 'init_mode': 'he_uniform'}\n",
      "0.6302083333333334(0.03319674162495302) with : {'activation': 'softsign', 'dropout_rate': 0.1, 'init_mode': 'uniform'}\n",
      "0.484375(0.04170733692199731) with : {'activation': 'softsign', 'dropout_rate': 0.1, 'init_mode': 'lecun_uniform'}\n",
      "0.5885416666666666(0.057439440104460365) with : {'activation': 'softsign', 'dropout_rate': 0.1, 'init_mode': 'normal'}\n",
      "0.6510416666666666(0.024773824987552668) with : {'activation': 'softsign', 'dropout_rate': 0.1, 'init_mode': 'zero'}\n",
      "0.65234375(0.02780489128133154) with : {'activation': 'softsign', 'dropout_rate': 0.1, 'init_mode': 'glorot_normal'}\n",
      "0.43359375(0.074321474962658) with : {'activation': 'softsign', 'dropout_rate': 0.1, 'init_mode': 'glorot_uniform'}\n",
      "0.5377604166666666(0.1473484354003481) with : {'activation': 'softsign', 'dropout_rate': 0.1, 'init_mode': 'he_normal'}\n",
      "0.5338541666666666(0.1402749307845034) with : {'activation': 'softsign', 'dropout_rate': 0.1, 'init_mode': 'he_uniform'}\n",
      "0.59765625(0.05846339666834283) with : {'activation': 'softsign', 'dropout_rate': 0.2, 'init_mode': 'uniform'}\n",
      "0.48046875(0.05975413492491545) with : {'activation': 'softsign', 'dropout_rate': 0.2, 'init_mode': 'lecun_uniform'}\n",
      "0.6145833333333334(0.0590118187167951) with : {'activation': 'softsign', 'dropout_rate': 0.2, 'init_mode': 'normal'}\n",
      "0.6510416666666666(0.024773824987552668) with : {'activation': 'softsign', 'dropout_rate': 0.2, 'init_mode': 'zero'}\n",
      "0.4661458333333333(0.06570039485178575) with : {'activation': 'softsign', 'dropout_rate': 0.2, 'init_mode': 'glorot_normal'}\n",
      "0.4036458333333333(0.05986752048214921) with : {'activation': 'softsign', 'dropout_rate': 0.2, 'init_mode': 'glorot_uniform'}\n",
      "0.51171875(0.13565433870457294) with : {'activation': 'softsign', 'dropout_rate': 0.2, 'init_mode': 'he_normal'}\n",
      "0.5065104166666666(0.10550893010355675) with : {'activation': 'softsign', 'dropout_rate': 0.2, 'init_mode': 'he_uniform'}\n",
      "0.6354166666666666(0.025581878521339193) with : {'activation': 'softsign', 'dropout_rate': 0.3, 'init_mode': 'uniform'}\n",
      "0.6432291666666666(0.03064740181234328) with : {'activation': 'softsign', 'dropout_rate': 0.3, 'init_mode': 'lecun_uniform'}\n",
      "0.59765625(0.07307924583542855) with : {'activation': 'softsign', 'dropout_rate': 0.3, 'init_mode': 'normal'}\n",
      "0.65234375(0.026106689655941956) with : {'activation': 'softsign', 'dropout_rate': 0.3, 'init_mode': 'zero'}\n",
      "0.4921875(0.11710066227040164) with : {'activation': 'softsign', 'dropout_rate': 0.3, 'init_mode': 'glorot_normal'}\n",
      "0.53125(0.0459987545121242) with : {'activation': 'softsign', 'dropout_rate': 0.3, 'init_mode': 'glorot_uniform'}\n",
      "0.4713541666666667(0.12246507350028643) with : {'activation': 'softsign', 'dropout_rate': 0.3, 'init_mode': 'he_normal'}\n",
      "0.5520833333333334(0.06872730843956587) with : {'activation': 'softsign', 'dropout_rate': 0.3, 'init_mode': 'he_uniform'}\n",
      "0.6471354166666666(0.02262779582940464) with : {'activation': 'softsign', 'dropout_rate': 0.4, 'init_mode': 'uniform'}\n",
      "0.6184895833333334(0.03858211559903399) with : {'activation': 'softsign', 'dropout_rate': 0.4, 'init_mode': 'lecun_uniform'}\n",
      "0.5950520833333334(0.07879487120003785) with : {'activation': 'softsign', 'dropout_rate': 0.4, 'init_mode': 'normal'}\n",
      "0.6484375(0.024079742199097563) with : {'activation': 'softsign', 'dropout_rate': 0.4, 'init_mode': 'zero'}\n",
      "0.5247395833333334(0.14606566314979333) with : {'activation': 'softsign', 'dropout_rate': 0.4, 'init_mode': 'glorot_normal'}\n",
      "0.6041666666666666(0.08195888011383445) with : {'activation': 'softsign', 'dropout_rate': 0.4, 'init_mode': 'glorot_uniform'}\n",
      "0.5013020833333334(0.1377503245358145) with : {'activation': 'softsign', 'dropout_rate': 0.4, 'init_mode': 'he_normal'}\n",
      "0.5638020833333334(0.10390592366281251) with : {'activation': 'softsign', 'dropout_rate': 0.4, 'init_mode': 'he_uniform'}\n",
      "0.64453125(0.025315393353155705) with : {'activation': 'softsign', 'dropout_rate': 0.5, 'init_mode': 'uniform'}\n",
      "0.5130208333333334(0.11866830614650466) with : {'activation': 'softsign', 'dropout_rate': 0.5, 'init_mode': 'lecun_uniform'}\n",
      "0.5546875(0.06907180838476482) with : {'activation': 'softsign', 'dropout_rate': 0.5, 'init_mode': 'normal'}\n",
      "0.6510416666666666(0.024773824987552668) with : {'activation': 'softsign', 'dropout_rate': 0.5, 'init_mode': 'zero'}\n",
      "0.5442708333333334(0.12175697632876) with : {'activation': 'softsign', 'dropout_rate': 0.5, 'init_mode': 'glorot_normal'}\n",
      "0.44140625(0.12479638364067953) with : {'activation': 'softsign', 'dropout_rate': 0.5, 'init_mode': 'glorot_uniform'}\n",
      "0.5546875(0.12056757322572959) with : {'activation': 'softsign', 'dropout_rate': 0.5, 'init_mode': 'he_normal'}\n",
      "0.453125(0.11379642196062961) with : {'activation': 'softsign', 'dropout_rate': 0.5, 'init_mode': 'he_uniform'}\n",
      "0.609375(0.05588349930696598) with : {'activation': 'softsign', 'dropout_rate': 0.6, 'init_mode': 'uniform'}\n",
      "0.4739583333333333(0.12893912669976176) with : {'activation': 'softsign', 'dropout_rate': 0.6, 'init_mode': 'lecun_uniform'}\n",
      "0.53515625(0.14744045629012978) with : {'activation': 'softsign', 'dropout_rate': 0.6, 'init_mode': 'normal'}\n",
      "0.6510416666666666(0.024773824987552668) with : {'activation': 'softsign', 'dropout_rate': 0.6, 'init_mode': 'zero'}\n",
      "0.4544270833333333(0.08146089749800549) with : {'activation': 'softsign', 'dropout_rate': 0.6, 'init_mode': 'glorot_normal'}\n",
      "0.4401041666666667(0.07905265227427365) with : {'activation': 'softsign', 'dropout_rate': 0.6, 'init_mode': 'glorot_uniform'}\n",
      "0.5455729166666666(0.049547649975105336) with : {'activation': 'softsign', 'dropout_rate': 0.6, 'init_mode': 'he_normal'}\n",
      "0.4934895833333333(0.14229096129034535) with : {'activation': 'softsign', 'dropout_rate': 0.6, 'init_mode': 'he_uniform'}\n",
      "0.6315104166666666(0.05195296183140626) with : {'activation': 'softsign', 'dropout_rate': 0.7, 'init_mode': 'uniform'}\n",
      "0.5221354166666666(0.09256704472487615) with : {'activation': 'softsign', 'dropout_rate': 0.7, 'init_mode': 'lecun_uniform'}\n",
      "0.62109375(0.04430911335201446) with : {'activation': 'softsign', 'dropout_rate': 0.7, 'init_mode': 'normal'}\n",
      "0.6497395833333334(0.023509726673525765) with : {'activation': 'softsign', 'dropout_rate': 0.7, 'init_mode': 'zero'}\n",
      "0.4947916666666667(0.13151686246579644) with : {'activation': 'softsign', 'dropout_rate': 0.7, 'init_mode': 'glorot_normal'}\n",
      "0.5638020833333334(0.13136207599105823) with : {'activation': 'softsign', 'dropout_rate': 0.7, 'init_mode': 'glorot_uniform'}\n",
      "0.40234375(0.04419417382415922) with : {'activation': 'softsign', 'dropout_rate': 0.7, 'init_mode': 'he_normal'}\n",
      "0.5911458333333334(0.006639348324990605) with : {'activation': 'softsign', 'dropout_rate': 0.7, 'init_mode': 'he_uniform'}\n",
      "0.6549479166666666(0.025779934730759544) with : {'activation': 'softsign', 'dropout_rate': 0.8, 'init_mode': 'uniform'}\n",
      "0.5807291666666666(0.06760809888409984) with : {'activation': 'softsign', 'dropout_rate': 0.8, 'init_mode': 'lecun_uniform'}\n",
      "0.5520833333333334(0.12370476954701688) with : {'activation': 'softsign', 'dropout_rate': 0.8, 'init_mode': 'normal'}\n",
      "0.6510416666666666(0.024773824987552668) with : {'activation': 'softsign', 'dropout_rate': 0.8, 'init_mode': 'zero'}\n",
      "0.6627604166666666(0.008026580733032522) with : {'activation': 'softsign', 'dropout_rate': 0.8, 'init_mode': 'glorot_normal'}\n",
      "0.41015625(0.09700302360515195) with : {'activation': 'softsign', 'dropout_rate': 0.8, 'init_mode': 'glorot_uniform'}\n",
      "0.4622395833333333(0.06381536851480649) with : {'activation': 'softsign', 'dropout_rate': 0.8, 'init_mode': 'he_normal'}\n",
      "0.4921875(0.1387681224088407) with : {'activation': 'softsign', 'dropout_rate': 0.8, 'init_mode': 'he_uniform'}\n",
      "0.52734375(0.14681819601906185) with : {'activation': 'softsign', 'dropout_rate': 0.9, 'init_mode': 'uniform'}\n",
      "0.5364583333333334(0.15197047396319202) with : {'activation': 'softsign', 'dropout_rate': 0.9, 'init_mode': 'lecun_uniform'}\n",
      "0.5169270833333334(0.10187918042717996) with : {'activation': 'softsign', 'dropout_rate': 0.9, 'init_mode': 'normal'}\n",
      "0.6510416666666666(0.024773824987552668) with : {'activation': 'softsign', 'dropout_rate': 0.9, 'init_mode': 'zero'}\n",
      "0.43359375(0.1141534312203317) with : {'activation': 'softsign', 'dropout_rate': 0.9, 'init_mode': 'glorot_normal'}\n",
      "0.4791666666666667(0.0970729105188323) with : {'activation': 'softsign', 'dropout_rate': 0.9, 'init_mode': 'glorot_uniform'}\n",
      "0.5807291666666666(0.06820729611306664) with : {'activation': 'softsign', 'dropout_rate': 0.9, 'init_mode': 'he_normal'}\n",
      "0.55859375(0.10457277606906908) with : {'activation': 'softsign', 'dropout_rate': 0.9, 'init_mode': 'he_uniform'}\n",
      "0.53125(0.14949595216440367) with : {'activation': 'relu', 'dropout_rate': 0.0, 'init_mode': 'uniform'}\n",
      "0.54296875(0.13989975019336764) with : {'activation': 'relu', 'dropout_rate': 0.0, 'init_mode': 'lecun_uniform'}\n",
      "0.4791666666666667(0.1412865419484952) with : {'activation': 'relu', 'dropout_rate': 0.0, 'init_mode': 'normal'}\n",
      "0.63671875(0.025315393353155705) with : {'activation': 'relu', 'dropout_rate': 0.0, 'init_mode': 'zero'}\n",
      "0.5533854166666666(0.056186065131227654) with : {'activation': 'relu', 'dropout_rate': 0.0, 'init_mode': 'glorot_normal'}\n",
      "0.5716145833333334(0.0462560408029469) with : {'activation': 'relu', 'dropout_rate': 0.0, 'init_mode': 'glorot_uniform'}\n",
      "0.4596354166666667(0.06389502159575676) with : {'activation': 'relu', 'dropout_rate': 0.0, 'init_mode': 'he_normal'}\n",
      "0.49609375(0.1211567376505533) with : {'activation': 'relu', 'dropout_rate': 0.0, 'init_mode': 'he_uniform'}\n",
      "0.4765625(0.11352792825904852) with : {'activation': 'relu', 'dropout_rate': 0.1, 'init_mode': 'uniform'}\n",
      "0.5403645833333334(0.08846504037220326) with : {'activation': 'relu', 'dropout_rate': 0.1, 'init_mode': 'lecun_uniform'}\n",
      "0.5546875(0.08292543400047217) with : {'activation': 'relu', 'dropout_rate': 0.1, 'init_mode': 'normal'}\n",
      "0.6106770833333334(0.04734286188202563) with : {'activation': 'relu', 'dropout_rate': 0.1, 'init_mode': 'zero'}\n",
      "0.4830729166666667(0.11823891754944262) with : {'activation': 'relu', 'dropout_rate': 0.1, 'init_mode': 'glorot_normal'}\n",
      "0.5520833333333334(0.13263366227340462) with : {'activation': 'relu', 'dropout_rate': 0.1, 'init_mode': 'glorot_uniform'}\n",
      "0.5(0.11379642196062961) with : {'activation': 'relu', 'dropout_rate': 0.1, 'init_mode': 'he_normal'}\n",
      "0.5221354166666666(0.12602660033919647) with : {'activation': 'relu', 'dropout_rate': 0.1, 'init_mode': 'he_uniform'}\n",
      "0.5390625(0.036225072248030094) with : {'activation': 'relu', 'dropout_rate': 0.2, 'init_mode': 'uniform'}\n",
      "0.4583333333333333(0.09409297794343575) with : {'activation': 'relu', 'dropout_rate': 0.2, 'init_mode': 'lecun_uniform'}\n",
      "0.5455729166666666(0.010252614419286212) with : {'activation': 'relu', 'dropout_rate': 0.2, 'init_mode': 'normal'}\n",
      "0.6471354166666666(0.02262779582940464) with : {'activation': 'relu', 'dropout_rate': 0.2, 'init_mode': 'zero'}\n",
      "0.453125(0.14888228317967073) with : {'activation': 'relu', 'dropout_rate': 0.2, 'init_mode': 'glorot_normal'}\n",
      "0.3411458333333333(0.012075024082676697) with : {'activation': 'relu', 'dropout_rate': 0.2, 'init_mode': 'glorot_uniform'}\n",
      "0.5(0.017758049084617) with : {'activation': 'relu', 'dropout_rate': 0.2, 'init_mode': 'he_normal'}\n",
      "0.5299479166666666(0.08146089749800549) with : {'activation': 'relu', 'dropout_rate': 0.2, 'init_mode': 'he_uniform'}\n",
      "0.5729166666666666(0.025976480915703128) with : {'activation': 'relu', 'dropout_rate': 0.3, 'init_mode': 'uniform'}\n",
      "0.6145833333333334(0.03513212907091677) with : {'activation': 'relu', 'dropout_rate': 0.3, 'init_mode': 'lecun_uniform'}\n",
      "0.6276041666666666(0.020255663002739642) with : {'activation': 'relu', 'dropout_rate': 0.3, 'init_mode': 'normal'}\n",
      "0.6184895833333334(0.03669011146772232) with : {'activation': 'relu', 'dropout_rate': 0.3, 'init_mode': 'zero'}\n",
      "0.4466145833333333(0.12188223358163085) with : {'activation': 'relu', 'dropout_rate': 0.3, 'init_mode': 'glorot_normal'}\n",
      "0.5846354166666666(0.023509726673525765) with : {'activation': 'relu', 'dropout_rate': 0.3, 'init_mode': 'glorot_uniform'}\n",
      "0.4453125(0.11271860993661013) with : {'activation': 'relu', 'dropout_rate': 0.3, 'init_mode': 'he_normal'}\n",
      "0.4609375(0.05958365202420599) with : {'activation': 'relu', 'dropout_rate': 0.3, 'init_mode': 'he_uniform'}\n",
      "0.6080729166666666(0.05106424883106141) with : {'activation': 'relu', 'dropout_rate': 0.4, 'init_mode': 'uniform'}\n",
      "0.5338541666666666(0.1197775127507826) with : {'activation': 'relu', 'dropout_rate': 0.4, 'init_mode': 'lecun_uniform'}\n",
      "0.55078125(0.04170733692199731) with : {'activation': 'relu', 'dropout_rate': 0.4, 'init_mode': 'normal'}\n",
      "0.6223958333333334(0.06476474018461399) with : {'activation': 'relu', 'dropout_rate': 0.4, 'init_mode': 'zero'}\n",
      "0.5065104166666666(0.13863366306464756) with : {'activation': 'relu', 'dropout_rate': 0.4, 'init_mode': 'glorot_normal'}\n",
      "0.46484375(0.15037794183531372) with : {'activation': 'relu', 'dropout_rate': 0.4, 'init_mode': 'glorot_uniform'}\n",
      "0.4830729166666667(0.1362653692911576) with : {'activation': 'relu', 'dropout_rate': 0.4, 'init_mode': 'he_normal'}\n",
      "0.45703125(0.1483346683284963) with : {'activation': 'relu', 'dropout_rate': 0.4, 'init_mode': 'he_uniform'}\n",
      "0.53125(0.11176699861393195) with : {'activation': 'relu', 'dropout_rate': 0.5, 'init_mode': 'uniform'}\n",
      "0.57421875(0.12983018004702016) with : {'activation': 'relu', 'dropout_rate': 0.5, 'init_mode': 'lecun_uniform'}\n",
      "0.5677083333333334(0.13074109756313768) with : {'activation': 'relu', 'dropout_rate': 0.5, 'init_mode': 'normal'}\n",
      "0.65234375(0.0229993772560621) with : {'activation': 'relu', 'dropout_rate': 0.5, 'init_mode': 'zero'}\n",
      "0.3854166666666667(0.009743899444723805) with : {'activation': 'relu', 'dropout_rate': 0.5, 'init_mode': 'glorot_normal'}\n",
      "0.46875(0.10539638721275033) with : {'activation': 'relu', 'dropout_rate': 0.5, 'init_mode': 'glorot_uniform'}\n",
      "0.5872395833333334(0.06570039485178575) with : {'activation': 'relu', 'dropout_rate': 0.5, 'init_mode': 'he_normal'}\n",
      "0.6510416666666666(0.027125868041666223) with : {'activation': 'relu', 'dropout_rate': 0.5, 'init_mode': 'he_uniform'}\n",
      "0.51953125(0.14331200256128235) with : {'activation': 'relu', 'dropout_rate': 0.6, 'init_mode': 'uniform'}\n",
      "0.484375(0.08456527542254957) with : {'activation': 'relu', 'dropout_rate': 0.6, 'init_mode': 'lecun_uniform'}\n",
      "0.6276041666666666(0.02655739329996242) with : {'activation': 'relu', 'dropout_rate': 0.6, 'init_mode': 'normal'}\n",
      "0.6041666666666666(0.050864648397459925) with : {'activation': 'relu', 'dropout_rate': 0.6, 'init_mode': 'zero'}\n",
      "0.3932291666666667(0.04306727970974278) with : {'activation': 'relu', 'dropout_rate': 0.6, 'init_mode': 'glorot_normal'}\n",
      "0.5729166666666666(0.134575210184419) with : {'activation': 'relu', 'dropout_rate': 0.6, 'init_mode': 'glorot_uniform'}\n",
      "0.4544270833333333(0.11772158387808028) with : {'activation': 'relu', 'dropout_rate': 0.6, 'init_mode': 'he_normal'}\n",
      "0.5442708333333334(0.14651764668438594) with : {'activation': 'relu', 'dropout_rate': 0.6, 'init_mode': 'he_uniform'}\n",
      "0.5234375(0.1308836653450944) with : {'activation': 'relu', 'dropout_rate': 0.7, 'init_mode': 'uniform'}\n",
      "0.5520833333333334(0.04603559773349919) with : {'activation': 'relu', 'dropout_rate': 0.7, 'init_mode': 'lecun_uniform'}\n",
      "0.5768229166666666(0.13174870120459337) with : {'activation': 'relu', 'dropout_rate': 0.7, 'init_mode': 'normal'}\n",
      "0.6510416666666666(0.018688411581259536) with : {'activation': 'relu', 'dropout_rate': 0.7, 'init_mode': 'zero'}\n",
      "0.41796875(0.10231094416959996) with : {'activation': 'relu', 'dropout_rate': 0.7, 'init_mode': 'glorot_normal'}\n",
      "0.39453125(0.06354913719746057) with : {'activation': 'relu', 'dropout_rate': 0.7, 'init_mode': 'glorot_uniform'}\n",
      "0.54296875(0.11878254762292172) with : {'activation': 'relu', 'dropout_rate': 0.7, 'init_mode': 'he_normal'}\n",
      "0.5338541666666666(0.11806672485970475) with : {'activation': 'relu', 'dropout_rate': 0.7, 'init_mode': 'he_uniform'}\n",
      "0.54296875(0.1483346683284963) with : {'activation': 'relu', 'dropout_rate': 0.8, 'init_mode': 'uniform'}\n",
      "0.44140625(0.15481108278856093) with : {'activation': 'relu', 'dropout_rate': 0.8, 'init_mode': 'lecun_uniform'}\n",
      "0.45703125(0.10730936342727351) with : {'activation': 'relu', 'dropout_rate': 0.8, 'init_mode': 'normal'}\n",
      "0.5963541666666666(0.056186065131227654) with : {'activation': 'relu', 'dropout_rate': 0.8, 'init_mode': 'zero'}\n",
      "0.4192708333333333(0.07696623284443567) with : {'activation': 'relu', 'dropout_rate': 0.8, 'init_mode': 'glorot_normal'}\n",
      "0.578125(0.12721827279243994) with : {'activation': 'relu', 'dropout_rate': 0.8, 'init_mode': 'glorot_uniform'}\n",
      "0.4049479166666667(0.07344950404255444) with : {'activation': 'relu', 'dropout_rate': 0.8, 'init_mode': 'he_normal'}\n",
      "0.4713541666666667(0.11806672485970475) with : {'activation': 'relu', 'dropout_rate': 0.8, 'init_mode': 'he_uniform'}\n",
      "0.5338541666666666(0.11767837008015629) with : {'activation': 'relu', 'dropout_rate': 0.9, 'init_mode': 'uniform'}\n",
      "0.46875(0.13535405203037576) with : {'activation': 'relu', 'dropout_rate': 0.9, 'init_mode': 'lecun_uniform'}\n",
      "0.4166666666666667(0.11986241117567768) with : {'activation': 'relu', 'dropout_rate': 0.9, 'init_mode': 'normal'}\n",
      "0.5390625(0.14195694448860777) with : {'activation': 'relu', 'dropout_rate': 0.9, 'init_mode': 'zero'}\n",
      "0.5234375(0.1299085089712179) with : {'activation': 'relu', 'dropout_rate': 0.9, 'init_mode': 'glorot_normal'}\n",
      "0.45703125(0.14587982889750956) with : {'activation': 'relu', 'dropout_rate': 0.9, 'init_mode': 'glorot_uniform'}\n",
      "0.45703125(0.11723089474320182) with : {'activation': 'relu', 'dropout_rate': 0.9, 'init_mode': 'he_normal'}\n",
      "0.53515625(0.14744045629012978) with : {'activation': 'relu', 'dropout_rate': 0.9, 'init_mode': 'he_uniform'}\n",
      "0.6328125(0.01940060472103039) with : {'activation': 'tanh', 'dropout_rate': 0.0, 'init_mode': 'uniform'}\n",
      "0.4674479166666667(0.09051118331761857) with : {'activation': 'tanh', 'dropout_rate': 0.0, 'init_mode': 'lecun_uniform'}\n",
      "0.5703125(0.1164473151839134) with : {'activation': 'tanh', 'dropout_rate': 0.0, 'init_mode': 'normal'}\n",
      "0.6510416666666666(0.024773824987552668) with : {'activation': 'tanh', 'dropout_rate': 0.0, 'init_mode': 'zero'}\n",
      "0.5390625(0.1386947971078644) with : {'activation': 'tanh', 'dropout_rate': 0.0, 'init_mode': 'glorot_normal'}\n",
      "0.4635416666666667(0.15076078408889104) with : {'activation': 'tanh', 'dropout_rate': 0.0, 'init_mode': 'glorot_uniform'}\n",
      "0.5052083333333334(0.09420102733169751) with : {'activation': 'tanh', 'dropout_rate': 0.0, 'init_mode': 'he_normal'}\n",
      "0.51953125(0.13535405203037576) with : {'activation': 'tanh', 'dropout_rate': 0.0, 'init_mode': 'he_uniform'}\n",
      "0.59765625(0.027621358640099514) with : {'activation': 'tanh', 'dropout_rate': 0.1, 'init_mode': 'uniform'}\n",
      "0.5104166666666666(0.08379996307137545) with : {'activation': 'tanh', 'dropout_rate': 0.1, 'init_mode': 'lecun_uniform'}\n",
      "0.6197916666666666(0.02876396098225849) with : {'activation': 'tanh', 'dropout_rate': 0.1, 'init_mode': 'normal'}\n",
      "0.6510416666666666(0.024773824987552668) with : {'activation': 'tanh', 'dropout_rate': 0.1, 'init_mode': 'zero'}\n",
      "0.4114583333333333(0.08846504037220326) with : {'activation': 'tanh', 'dropout_rate': 0.1, 'init_mode': 'glorot_normal'}\n",
      "0.63671875(0.024079742199097563) with : {'activation': 'tanh', 'dropout_rate': 0.1, 'init_mode': 'glorot_uniform'}\n",
      "0.3541666666666667(0.02894024839960009) with : {'activation': 'tanh', 'dropout_rate': 0.1, 'init_mode': 'he_normal'}\n",
      "0.5677083333333334(0.07112760564451909) with : {'activation': 'tanh', 'dropout_rate': 0.1, 'init_mode': 'he_uniform'}\n",
      "0.6419270833333334(0.03440063753547632) with : {'activation': 'tanh', 'dropout_rate': 0.2, 'init_mode': 'uniform'}\n",
      "0.4479166666666667(0.12667069278140947) with : {'activation': 'tanh', 'dropout_rate': 0.2, 'init_mode': 'lecun_uniform'}\n",
      "0.6041666666666666(0.02749832302336312) with : {'activation': 'tanh', 'dropout_rate': 0.2, 'init_mode': 'normal'}\n",
      "0.6510416666666666(0.024773824987552668) with : {'activation': 'tanh', 'dropout_rate': 0.2, 'init_mode': 'zero'}\n",
      "0.3671875(0.03866990209613932) with : {'activation': 'tanh', 'dropout_rate': 0.2, 'init_mode': 'glorot_normal'}\n",
      "0.58984375(0.06682618448102261) with : {'activation': 'tanh', 'dropout_rate': 0.2, 'init_mode': 'glorot_uniform'}\n",
      "0.5625(0.08682074519880027) with : {'activation': 'tanh', 'dropout_rate': 0.2, 'init_mode': 'he_normal'}\n",
      "0.4388020833333333(0.1044429928653931) with : {'activation': 'tanh', 'dropout_rate': 0.2, 'init_mode': 'he_uniform'}\n",
      "0.5494791666666666(0.10826883596868439) with : {'activation': 'tanh', 'dropout_rate': 0.3, 'init_mode': 'uniform'}\n",
      "0.61328125(0.05669672150280532) with : {'activation': 'tanh', 'dropout_rate': 0.3, 'init_mode': 'lecun_uniform'}\n",
      "0.640625(0.020914555213813815) with : {'activation': 'tanh', 'dropout_rate': 0.3, 'init_mode': 'normal'}\n",
      "0.6510416666666666(0.024773824987552668) with : {'activation': 'tanh', 'dropout_rate': 0.3, 'init_mode': 'zero'}\n",
      "0.55078125(0.0877530752369492) with : {'activation': 'tanh', 'dropout_rate': 0.3, 'init_mode': 'glorot_normal'}\n",
      "0.5143229166666666(0.11367716971727682) with : {'activation': 'tanh', 'dropout_rate': 0.3, 'init_mode': 'glorot_uniform'}\n",
      "0.640625(0.02834836075140266) with : {'activation': 'tanh', 'dropout_rate': 0.3, 'init_mode': 'he_normal'}\n",
      "0.4765625(0.10040405025342188) with : {'activation': 'tanh', 'dropout_rate': 0.3, 'init_mode': 'he_uniform'}\n",
      "0.6328125(0.022326078384742508) with : {'activation': 'tanh', 'dropout_rate': 0.4, 'init_mode': 'uniform'}\n",
      "0.51171875(0.11066942375456135) with : {'activation': 'tanh', 'dropout_rate': 0.4, 'init_mode': 'lecun_uniform'}\n",
      "0.49609375(0.12947711348600055) with : {'activation': 'tanh', 'dropout_rate': 0.4, 'init_mode': 'normal'}\n",
      "0.6510416666666666(0.024773824987552668) with : {'activation': 'tanh', 'dropout_rate': 0.4, 'init_mode': 'zero'}\n",
      "0.5299479166666666(0.10751455913199487) with : {'activation': 'tanh', 'dropout_rate': 0.4, 'init_mode': 'glorot_normal'}\n",
      "0.5677083333333334(0.12798889705399147) with : {'activation': 'tanh', 'dropout_rate': 0.4, 'init_mode': 'glorot_uniform'}\n",
      "0.6380208333333334(0.021236336497786574) with : {'activation': 'tanh', 'dropout_rate': 0.4, 'init_mode': 'he_normal'}\n",
      "0.5104166666666666(0.08007547844542602) with : {'activation': 'tanh', 'dropout_rate': 0.4, 'init_mode': 'he_uniform'}\n",
      "0.6458333333333334(0.025581878521339193) with : {'activation': 'tanh', 'dropout_rate': 0.5, 'init_mode': 'uniform'}\n",
      "0.53515625(0.06513020312708229) with : {'activation': 'tanh', 'dropout_rate': 0.5, 'init_mode': 'lecun_uniform'}\n",
      "0.5625(0.14087795536311445) with : {'activation': 'tanh', 'dropout_rate': 0.5, 'init_mode': 'normal'}\n",
      "0.6510416666666666(0.024773824987552668) with : {'activation': 'tanh', 'dropout_rate': 0.5, 'init_mode': 'zero'}\n",
      "0.52734375(0.10320191260642896) with : {'activation': 'tanh', 'dropout_rate': 0.5, 'init_mode': 'glorot_normal'}\n",
      "0.5494791666666666(0.13358892738208966) with : {'activation': 'tanh', 'dropout_rate': 0.5, 'init_mode': 'glorot_uniform'}\n",
      "0.5299479166666666(0.08943710813059583) with : {'activation': 'tanh', 'dropout_rate': 0.5, 'init_mode': 'he_normal'}\n",
      "0.5208333333333334(0.0925120816058938) with : {'activation': 'tanh', 'dropout_rate': 0.5, 'init_mode': 'he_uniform'}\n",
      "0.6106770833333334(0.0401329036651626) with : {'activation': 'tanh', 'dropout_rate': 0.6, 'init_mode': 'uniform'}\n",
      "0.4908854166666667(0.12163159008496609) with : {'activation': 'tanh', 'dropout_rate': 0.6, 'init_mode': 'lecun_uniform'}\n",
      "0.5208333333333334(0.06554537994090218) with : {'activation': 'tanh', 'dropout_rate': 0.6, 'init_mode': 'normal'}\n",
      "0.6510416666666666(0.024773824987552668) with : {'activation': 'tanh', 'dropout_rate': 0.6, 'init_mode': 'zero'}\n",
      "0.5026041666666666(0.13031245836663338) with : {'activation': 'tanh', 'dropout_rate': 0.6, 'init_mode': 'glorot_normal'}\n",
      "0.5078125(0.11929528042756622) with : {'activation': 'tanh', 'dropout_rate': 0.6, 'init_mode': 'glorot_uniform'}\n",
      "0.44140625(0.024910320924100247) with : {'activation': 'tanh', 'dropout_rate': 0.6, 'init_mode': 'he_normal'}\n",
      "0.55078125(0.12056757322572959) with : {'activation': 'tanh', 'dropout_rate': 0.6, 'init_mode': 'he_uniform'}\n",
      "0.6458333333333334(0.025581878521339193) with : {'activation': 'tanh', 'dropout_rate': 0.7, 'init_mode': 'uniform'}\n",
      "0.5455729166666666(0.12287969518129195) with : {'activation': 'tanh', 'dropout_rate': 0.7, 'init_mode': 'lecun_uniform'}\n",
      "0.6380208333333334(0.025976480915703128) with : {'activation': 'tanh', 'dropout_rate': 0.7, 'init_mode': 'normal'}\n",
      "0.6497395833333334(0.02655739329996242) with : {'activation': 'tanh', 'dropout_rate': 0.7, 'init_mode': 'zero'}\n",
      "0.47265625(0.10573365651386349) with : {'activation': 'tanh', 'dropout_rate': 0.7, 'init_mode': 'glorot_normal'}\n",
      "0.5442708333333334(0.14164608076533763) with : {'activation': 'tanh', 'dropout_rate': 0.7, 'init_mode': 'glorot_uniform'}\n",
      "0.5338541666666666(0.13874368494763004) with : {'activation': 'tanh', 'dropout_rate': 0.7, 'init_mode': 'he_normal'}\n",
      "0.41015625(0.01390244564066577) with : {'activation': 'tanh', 'dropout_rate': 0.7, 'init_mode': 'he_uniform'}\n",
      "0.65234375(0.025315393353155705) with : {'activation': 'tanh', 'dropout_rate': 0.8, 'init_mode': 'uniform'}\n",
      "0.3971354166666667(0.05311478659992484) with : {'activation': 'tanh', 'dropout_rate': 0.8, 'init_mode': 'lecun_uniform'}\n",
      "0.5208333333333334(0.05425173608333245) with : {'activation': 'tanh', 'dropout_rate': 0.8, 'init_mode': 'normal'}\n",
      "0.6510416666666666(0.024773824987552668) with : {'activation': 'tanh', 'dropout_rate': 0.8, 'init_mode': 'zero'}\n",
      "0.51953125(0.1349023687284314) with : {'activation': 'tanh', 'dropout_rate': 0.8, 'init_mode': 'glorot_normal'}\n",
      "0.5234375(0.11034724134238699) with : {'activation': 'tanh', 'dropout_rate': 0.8, 'init_mode': 'glorot_uniform'}\n",
      "0.5260416666666666(0.1190107015860922) with : {'activation': 'tanh', 'dropout_rate': 0.8, 'init_mode': 'he_normal'}\n",
      "0.5950520833333334(0.025976480915703128) with : {'activation': 'tanh', 'dropout_rate': 0.8, 'init_mode': 'he_uniform'}\n",
      "0.62890625(0.008438464451051902) with : {'activation': 'tanh', 'dropout_rate': 0.9, 'init_mode': 'uniform'}\n",
      "0.5911458333333334(0.08020241455434632) with : {'activation': 'tanh', 'dropout_rate': 0.9, 'init_mode': 'lecun_uniform'}\n",
      "0.6041666666666666(0.03936514702560149) with : {'activation': 'tanh', 'dropout_rate': 0.9, 'init_mode': 'normal'}\n",
      "0.6497395833333334(0.024359748611809513) with : {'activation': 'tanh', 'dropout_rate': 0.9, 'init_mode': 'zero'}\n",
      "0.4635416666666667(0.05918394884043496) with : {'activation': 'tanh', 'dropout_rate': 0.9, 'init_mode': 'glorot_normal'}\n",
      "0.5013020833333334(0.12598623522835298) with : {'activation': 'tanh', 'dropout_rate': 0.9, 'init_mode': 'glorot_uniform'}\n",
      "0.4505208333333333(0.03194751079787838) with : {'activation': 'tanh', 'dropout_rate': 0.9, 'init_mode': 'he_normal'}\n",
      "0.3893229166666667(0.027865800207073826) with : {'activation': 'tanh', 'dropout_rate': 0.9, 'init_mode': 'he_uniform'}\n",
      "0.6510416666666666(0.024773824987552668) with : {'activation': 'sigmoid', 'dropout_rate': 0.0, 'init_mode': 'uniform'}\n",
      "0.6549479166666666(0.029634913220679796) with : {'activation': 'sigmoid', 'dropout_rate': 0.0, 'init_mode': 'lecun_uniform'}\n",
      "0.6432291666666666(0.01948779888944761) with : {'activation': 'sigmoid', 'dropout_rate': 0.0, 'init_mode': 'normal'}\n",
      "0.6510416666666666(0.024773824987552668) with : {'activation': 'sigmoid', 'dropout_rate': 0.0, 'init_mode': 'zero'}\n",
      "0.5911458333333334(0.046475438274934236) with : {'activation': 'sigmoid', 'dropout_rate': 0.0, 'init_mode': 'glorot_normal'}\n",
      "0.41015625(0.08670349903430465) with : {'activation': 'sigmoid', 'dropout_rate': 0.0, 'init_mode': 'glorot_uniform'}\n",
      "0.5729166666666666(0.134575210184419) with : {'activation': 'sigmoid', 'dropout_rate': 0.0, 'init_mode': 'he_normal'}\n",
      "0.5390625(0.10500961017529141) with : {'activation': 'sigmoid', 'dropout_rate': 0.0, 'init_mode': 'he_uniform'}\n",
      "0.6510416666666666(0.024773824987552668) with : {'activation': 'sigmoid', 'dropout_rate': 0.1, 'init_mode': 'uniform'}\n",
      "0.5403645833333334(0.15197047396319202) with : {'activation': 'sigmoid', 'dropout_rate': 0.1, 'init_mode': 'lecun_uniform'}\n",
      "0.6458333333333334(0.02262779582940464) with : {'activation': 'sigmoid', 'dropout_rate': 0.1, 'init_mode': 'normal'}\n",
      "0.6510416666666666(0.024773824987552668) with : {'activation': 'sigmoid', 'dropout_rate': 0.1, 'init_mode': 'zero'}\n",
      "0.55859375(0.1265769667657785) with : {'activation': 'sigmoid', 'dropout_rate': 0.1, 'init_mode': 'glorot_normal'}\n",
      "0.4713541666666667(0.12037054425957883) with : {'activation': 'sigmoid', 'dropout_rate': 0.1, 'init_mode': 'glorot_uniform'}\n",
      "0.5416666666666666(0.14420830097875972) with : {'activation': 'sigmoid', 'dropout_rate': 0.1, 'init_mode': 'he_normal'}\n",
      "0.54296875(0.14535589629781678) with : {'activation': 'sigmoid', 'dropout_rate': 0.1, 'init_mode': 'he_uniform'}\n",
      "0.6393229166666666(0.019225030026345572) with : {'activation': 'sigmoid', 'dropout_rate': 0.2, 'init_mode': 'uniform'}\n",
      "0.4765625(0.14377264314419022) with : {'activation': 'sigmoid', 'dropout_rate': 0.2, 'init_mode': 'lecun_uniform'}\n",
      "0.5455729166666666(0.14769321810884622) with : {'activation': 'sigmoid', 'dropout_rate': 0.2, 'init_mode': 'normal'}\n",
      "0.6510416666666666(0.024773824987552668) with : {'activation': 'sigmoid', 'dropout_rate': 0.2, 'init_mode': 'zero'}\n",
      "0.3541666666666667(0.03962271889245557) with : {'activation': 'sigmoid', 'dropout_rate': 0.2, 'init_mode': 'glorot_normal'}\n",
      "0.5729166666666666(0.134575210184419) with : {'activation': 'sigmoid', 'dropout_rate': 0.2, 'init_mode': 'glorot_uniform'}\n",
      "0.4453125(0.09127594879334315) with : {'activation': 'sigmoid', 'dropout_rate': 0.2, 'init_mode': 'he_normal'}\n",
      "0.4986979166666667(0.11676718604919459) with : {'activation': 'sigmoid', 'dropout_rate': 0.2, 'init_mode': 'he_uniform'}\n",
      "0.6145833333333334(0.07556571941951515) with : {'activation': 'sigmoid', 'dropout_rate': 0.3, 'init_mode': 'uniform'}\n",
      "0.4596354166666667(0.12460604151323171) with : {'activation': 'sigmoid', 'dropout_rate': 0.3, 'init_mode': 'lecun_uniform'}\n",
      "0.6536458333333334(0.030313663351101083) with : {'activation': 'sigmoid', 'dropout_rate': 0.3, 'init_mode': 'normal'}\n",
      "0.6510416666666666(0.024773824987552668) with : {'activation': 'sigmoid', 'dropout_rate': 0.3, 'init_mode': 'zero'}\n",
      "0.56640625(0.08890473966203939) with : {'activation': 'sigmoid', 'dropout_rate': 0.3, 'init_mode': 'glorot_normal'}\n",
      "0.53515625(0.11089898098889367) with : {'activation': 'sigmoid', 'dropout_rate': 0.3, 'init_mode': 'glorot_uniform'}\n",
      "0.4700520833333333(0.06268959956880585) with : {'activation': 'sigmoid', 'dropout_rate': 0.3, 'init_mode': 'he_normal'}\n",
      "0.5442708333333334(0.14651764668438594) with : {'activation': 'sigmoid', 'dropout_rate': 0.3, 'init_mode': 'he_uniform'}\n",
      "0.65234375(0.025315393353155705) with : {'activation': 'sigmoid', 'dropout_rate': 0.4, 'init_mode': 'uniform'}\n",
      "0.5325520833333334(0.14817456610339896) with : {'activation': 'sigmoid', 'dropout_rate': 0.4, 'init_mode': 'lecun_uniform'}\n",
      "0.64453125(0.03375385780420761) with : {'activation': 'sigmoid', 'dropout_rate': 0.4, 'init_mode': 'normal'}\n",
      "0.6510416666666666(0.024773824987552668) with : {'activation': 'sigmoid', 'dropout_rate': 0.4, 'init_mode': 'zero'}\n",
      "0.53515625(0.137145910077704) with : {'activation': 'sigmoid', 'dropout_rate': 0.4, 'init_mode': 'glorot_normal'}\n",
      "0.6184895833333334(0.029634913220679796) with : {'activation': 'sigmoid', 'dropout_rate': 0.4, 'init_mode': 'glorot_uniform'}\n",
      "0.5481770833333334(0.10267486460268917) with : {'activation': 'sigmoid', 'dropout_rate': 0.4, 'init_mode': 'he_normal'}\n",
      "0.4166666666666667(0.08748217204292096) with : {'activation': 'sigmoid', 'dropout_rate': 0.4, 'init_mode': 'he_uniform'}\n",
      "0.5455729166666666(0.1452625548874539) with : {'activation': 'sigmoid', 'dropout_rate': 0.5, 'init_mode': 'uniform'}\n",
      "0.55078125(0.1374422819199936) with : {'activation': 'sigmoid', 'dropout_rate': 0.5, 'init_mode': 'lecun_uniform'}\n",
      "0.5494791666666666(0.12735147173248748) with : {'activation': 'sigmoid', 'dropout_rate': 0.5, 'init_mode': 'normal'}\n",
      "0.6510416666666666(0.024773824987552668) with : {'activation': 'sigmoid', 'dropout_rate': 0.5, 'init_mode': 'zero'}\n",
      "0.5364583333333334(0.11160001217300063) with : {'activation': 'sigmoid', 'dropout_rate': 0.5, 'init_mode': 'glorot_normal'}\n",
      "0.4453125(0.12487787002457641) with : {'activation': 'sigmoid', 'dropout_rate': 0.5, 'init_mode': 'glorot_uniform'}\n",
      "0.4921875(0.09293263479195561) with : {'activation': 'sigmoid', 'dropout_rate': 0.5, 'init_mode': 'he_normal'}\n",
      "0.4791666666666667(0.14300408450727514) with : {'activation': 'sigmoid', 'dropout_rate': 0.5, 'init_mode': 'he_uniform'}\n",
      "0.6575520833333334(0.03194751079787838) with : {'activation': 'sigmoid', 'dropout_rate': 0.6, 'init_mode': 'uniform'}\n",
      "0.5846354166666666(0.07840661050689894) with : {'activation': 'sigmoid', 'dropout_rate': 0.6, 'init_mode': 'lecun_uniform'}\n",
      "0.5546875(0.10349719765227945) with : {'activation': 'sigmoid', 'dropout_rate': 0.6, 'init_mode': 'normal'}\n",
      "0.6510416666666666(0.024773824987552668) with : {'activation': 'sigmoid', 'dropout_rate': 0.6, 'init_mode': 'zero'}\n",
      "0.60546875(0.08861822670402893) with : {'activation': 'sigmoid', 'dropout_rate': 0.6, 'init_mode': 'glorot_normal'}\n",
      "0.390625(0.05767509007903672) with : {'activation': 'sigmoid', 'dropout_rate': 0.6, 'init_mode': 'glorot_uniform'}\n",
      "0.52734375(0.13262087892199204) with : {'activation': 'sigmoid', 'dropout_rate': 0.6, 'init_mode': 'he_normal'}\n",
      "0.4674479166666667(0.14899611627465514) with : {'activation': 'sigmoid', 'dropout_rate': 0.6, 'init_mode': 'he_uniform'}\n",
      "0.6484375(0.022326078384742508) with : {'activation': 'sigmoid', 'dropout_rate': 0.7, 'init_mode': 'uniform'}\n",
      "0.46875(0.13942631482480272) with : {'activation': 'sigmoid', 'dropout_rate': 0.7, 'init_mode': 'lecun_uniform'}\n",
      "0.53125(0.12769713874943192) with : {'activation': 'sigmoid', 'dropout_rate': 0.7, 'init_mode': 'normal'}\n",
      "0.6510416666666666(0.024773824987552668) with : {'activation': 'sigmoid', 'dropout_rate': 0.7, 'init_mode': 'zero'}\n",
      "0.5703125(0.12983018004702016) with : {'activation': 'sigmoid', 'dropout_rate': 0.7, 'init_mode': 'glorot_normal'}\n",
      "0.47265625(0.11963588149307465) with : {'activation': 'sigmoid', 'dropout_rate': 0.7, 'init_mode': 'glorot_uniform'}\n",
      "0.5455729166666666(0.1239101797226075) with : {'activation': 'sigmoid', 'dropout_rate': 0.7, 'init_mode': 'he_normal'}\n",
      "0.5442708333333334(0.14406715089503885) with : {'activation': 'sigmoid', 'dropout_rate': 0.7, 'init_mode': 'he_uniform'}\n",
      "0.6002604166666666(0.09596628006608479) with : {'activation': 'sigmoid', 'dropout_rate': 0.8, 'init_mode': 'uniform'}\n",
      "0.5859375(0.11334857912927272) with : {'activation': 'sigmoid', 'dropout_rate': 0.8, 'init_mode': 'lecun_uniform'}\n",
      "0.3854166666666667(0.06738202621320631) with : {'activation': 'sigmoid', 'dropout_rate': 0.8, 'init_mode': 'normal'}\n",
      "0.6510416666666666(0.024773824987552668) with : {'activation': 'sigmoid', 'dropout_rate': 0.8, 'init_mode': 'zero'}\n",
      "0.59765625(0.04910080113272084) with : {'activation': 'sigmoid', 'dropout_rate': 0.8, 'init_mode': 'glorot_normal'}\n",
      "0.4205729166666667(0.09780370811569751) with : {'activation': 'sigmoid', 'dropout_rate': 0.8, 'init_mode': 'glorot_uniform'}\n",
      "0.5403645833333334(0.13660089166045203) with : {'activation': 'sigmoid', 'dropout_rate': 0.8, 'init_mode': 'he_normal'}\n",
      "0.3828125(0.042192322255259505) with : {'activation': 'sigmoid', 'dropout_rate': 0.8, 'init_mode': 'he_uniform'}\n",
      "0.5911458333333334(0.08183466855453474) with : {'activation': 'sigmoid', 'dropout_rate': 0.9, 'init_mode': 'uniform'}\n",
      "0.5651041666666666(0.11562910559527773) with : {'activation': 'sigmoid', 'dropout_rate': 0.9, 'init_mode': 'lecun_uniform'}\n",
      "0.56640625(0.09183149834638257) with : {'activation': 'sigmoid', 'dropout_rate': 0.9, 'init_mode': 'normal'}\n",
      "0.6510416666666666(0.024773824987552668) with : {'activation': 'sigmoid', 'dropout_rate': 0.9, 'init_mode': 'zero'}\n",
      "0.35546875(0.03375385780420761) with : {'activation': 'sigmoid', 'dropout_rate': 0.9, 'init_mode': 'glorot_normal'}\n",
      "0.6484375(0.02834836075140266) with : {'activation': 'sigmoid', 'dropout_rate': 0.9, 'init_mode': 'glorot_uniform'}\n",
      "0.55859375(0.10970003786367472) with : {'activation': 'sigmoid', 'dropout_rate': 0.9, 'init_mode': 'he_normal'}\n",
      "0.3984375(0.05855033113520082) with : {'activation': 'sigmoid', 'dropout_rate': 0.9, 'init_mode': 'he_uniform'}\n",
      "0.6458333333333334(0.023938510821419574) with : {'activation': 'hard_sigmoid', 'dropout_rate': 0.0, 'init_mode': 'uniform'}\n",
      "0.4505208333333333(0.07723011784550478) with : {'activation': 'hard_sigmoid', 'dropout_rate': 0.0, 'init_mode': 'lecun_uniform'}\n",
      "0.5052083333333334(0.13719534984501924) with : {'activation': 'hard_sigmoid', 'dropout_rate': 0.0, 'init_mode': 'normal'}\n",
      "0.6510416666666666(0.024773824987552668) with : {'activation': 'hard_sigmoid', 'dropout_rate': 0.0, 'init_mode': 'zero'}\n",
      "0.4635416666666667(0.09256704472487615) with : {'activation': 'hard_sigmoid', 'dropout_rate': 0.0, 'init_mode': 'glorot_normal'}\n",
      "0.65625(0.024910320924100247) with : {'activation': 'hard_sigmoid', 'dropout_rate': 0.0, 'init_mode': 'glorot_uniform'}\n",
      "0.5963541666666666(0.05434540821538856) with : {'activation': 'hard_sigmoid', 'dropout_rate': 0.0, 'init_mode': 'he_normal'}\n",
      "0.4934895833333333(0.13863366306464756) with : {'activation': 'hard_sigmoid', 'dropout_rate': 0.0, 'init_mode': 'he_uniform'}\n",
      "0.6484375(0.024079742199097563) with : {'activation': 'hard_sigmoid', 'dropout_rate': 0.1, 'init_mode': 'uniform'}\n",
      "0.5338541666666666(0.14926896152001556) with : {'activation': 'hard_sigmoid', 'dropout_rate': 0.1, 'init_mode': 'lecun_uniform'}\n",
      "0.6510416666666666(0.024773824987552668) with : {'activation': 'hard_sigmoid', 'dropout_rate': 0.1, 'init_mode': 'normal'}\n",
      "0.6510416666666666(0.024773824987552668) with : {'activation': 'hard_sigmoid', 'dropout_rate': 0.1, 'init_mode': 'zero'}\n",
      "0.4856770833333333(0.11746206261816575) with : {'activation': 'hard_sigmoid', 'dropout_rate': 0.1, 'init_mode': 'glorot_normal'}\n",
      "0.63671875(0.04430911335201446) with : {'activation': 'hard_sigmoid', 'dropout_rate': 0.1, 'init_mode': 'glorot_uniform'}\n",
      "0.5455729166666666(0.11973504096429842) with : {'activation': 'hard_sigmoid', 'dropout_rate': 0.1, 'init_mode': 'he_normal'}\n",
      "0.5755208333333334(0.13374113661571704) with : {'activation': 'hard_sigmoid', 'dropout_rate': 0.1, 'init_mode': 'he_uniform'}\n",
      "0.62109375(0.044652156769485016) with : {'activation': 'hard_sigmoid', 'dropout_rate': 0.2, 'init_mode': 'uniform'}\n",
      "0.4283854166666667(0.13374113661571704) with : {'activation': 'hard_sigmoid', 'dropout_rate': 0.2, 'init_mode': 'lecun_uniform'}\n",
      "0.5442708333333334(0.14300408450727514) with : {'activation': 'hard_sigmoid', 'dropout_rate': 0.2, 'init_mode': 'normal'}\n",
      "0.6510416666666666(0.024773824987552668) with : {'activation': 'hard_sigmoid', 'dropout_rate': 0.2, 'init_mode': 'zero'}\n",
      "0.3619791666666667(0.01813592223591682) with : {'activation': 'hard_sigmoid', 'dropout_rate': 0.2, 'init_mode': 'glorot_normal'}\n",
      "0.58203125(0.0827412232568607) with : {'activation': 'hard_sigmoid', 'dropout_rate': 0.2, 'init_mode': 'glorot_uniform'}\n",
      "0.5442708333333334(0.14651764668438594) with : {'activation': 'hard_sigmoid', 'dropout_rate': 0.2, 'init_mode': 'he_normal'}\n",
      "0.4830729166666667(0.10694536040823474) with : {'activation': 'hard_sigmoid', 'dropout_rate': 0.2, 'init_mode': 'he_uniform'}\n",
      "0.640625(0.017758049084617) with : {'activation': 'hard_sigmoid', 'dropout_rate': 0.3, 'init_mode': 'uniform'}\n",
      "0.52734375(0.10070753925869536) with : {'activation': 'hard_sigmoid', 'dropout_rate': 0.3, 'init_mode': 'lecun_uniform'}\n",
      "0.5221354166666666(0.13998455628484124) with : {'activation': 'hard_sigmoid', 'dropout_rate': 0.3, 'init_mode': 'normal'}\n",
      "0.6510416666666666(0.024773824987552668) with : {'activation': 'hard_sigmoid', 'dropout_rate': 0.3, 'init_mode': 'zero'}\n",
      "0.3528645833333333(0.030145408601016215) with : {'activation': 'hard_sigmoid', 'dropout_rate': 0.3, 'init_mode': 'glorot_normal'}\n",
      "0.3619791666666667(0.042830427613016996) with : {'activation': 'hard_sigmoid', 'dropout_rate': 0.3, 'init_mode': 'glorot_uniform'}\n",
      "0.5729166666666666(0.0999640506128606) with : {'activation': 'hard_sigmoid', 'dropout_rate': 0.3, 'init_mode': 'he_normal'}\n",
      "0.4270833333333333(0.1292543175388372) with : {'activation': 'hard_sigmoid', 'dropout_rate': 0.3, 'init_mode': 'he_uniform'}\n",
      "0.6497395833333334(0.023509726673525765) with : {'activation': 'hard_sigmoid', 'dropout_rate': 0.4, 'init_mode': 'uniform'}\n",
      "0.6197916666666666(0.03194751079787838) with : {'activation': 'hard_sigmoid', 'dropout_rate': 0.4, 'init_mode': 'lecun_uniform'}\n",
      "0.6184895833333334(0.04306727970974278) with : {'activation': 'hard_sigmoid', 'dropout_rate': 0.4, 'init_mode': 'normal'}\n",
      "0.6510416666666666(0.024773824987552668) with : {'activation': 'hard_sigmoid', 'dropout_rate': 0.4, 'init_mode': 'zero'}\n",
      "0.5755208333333334(0.13358892738208966) with : {'activation': 'hard_sigmoid', 'dropout_rate': 0.4, 'init_mode': 'glorot_normal'}\n",
      "0.53125(0.11495264819970438) with : {'activation': 'hard_sigmoid', 'dropout_rate': 0.4, 'init_mode': 'glorot_uniform'}\n",
      "0.56640625(0.11574634679710198) with : {'activation': 'hard_sigmoid', 'dropout_rate': 0.4, 'init_mode': 'he_normal'}\n",
      "0.6119791666666666(0.06260841291755889) with : {'activation': 'hard_sigmoid', 'dropout_rate': 0.4, 'init_mode': 'he_uniform'}\n",
      "0.6627604166666666(0.03226435336813507) with : {'activation': 'hard_sigmoid', 'dropout_rate': 0.5, 'init_mode': 'uniform'}\n",
      "0.49609375(0.1149968862803105) with : {'activation': 'hard_sigmoid', 'dropout_rate': 0.5, 'init_mode': 'lecun_uniform'}\n",
      "0.515625(0.13891465689782942) with : {'activation': 'hard_sigmoid', 'dropout_rate': 0.5, 'init_mode': 'normal'}\n",
      "0.6510416666666666(0.024773824987552668) with : {'activation': 'hard_sigmoid', 'dropout_rate': 0.5, 'init_mode': 'zero'}\n",
      "0.4518229166666667(0.11322885522036283) with : {'activation': 'hard_sigmoid', 'dropout_rate': 0.5, 'init_mode': 'glorot_normal'}\n",
      "0.6354166666666666(0.02876396098225849) with : {'activation': 'hard_sigmoid', 'dropout_rate': 0.5, 'init_mode': 'glorot_uniform'}\n",
      "0.5390625(0.15081700245385687) with : {'activation': 'hard_sigmoid', 'dropout_rate': 0.5, 'init_mode': 'he_normal'}\n",
      "0.3997395833333333(0.038051143740110566) with : {'activation': 'hard_sigmoid', 'dropout_rate': 0.5, 'init_mode': 'he_uniform'}\n",
      "0.6510416666666666(0.024773824987552668) with : {'activation': 'hard_sigmoid', 'dropout_rate': 0.6, 'init_mode': 'uniform'}\n",
      "0.6263020833333334(0.0592698264413596) with : {'activation': 'hard_sigmoid', 'dropout_rate': 0.6, 'init_mode': 'lecun_uniform'}\n",
      "0.5442708333333334(0.14651764668438594) with : {'activation': 'hard_sigmoid', 'dropout_rate': 0.6, 'init_mode': 'normal'}\n",
      "0.6510416666666666(0.024773824987552668) with : {'activation': 'hard_sigmoid', 'dropout_rate': 0.6, 'init_mode': 'zero'}\n",
      "0.5026041666666666(0.12972566791090556) with : {'activation': 'hard_sigmoid', 'dropout_rate': 0.6, 'init_mode': 'glorot_normal'}\n",
      "0.5729166666666666(0.134575210184419) with : {'activation': 'hard_sigmoid', 'dropout_rate': 0.6, 'init_mode': 'glorot_uniform'}\n",
      "0.53125(0.10025196122354249) with : {'activation': 'hard_sigmoid', 'dropout_rate': 0.6, 'init_mode': 'he_normal'}\n",
      "0.6510416666666666(0.024773824987552668) with : {'activation': 'hard_sigmoid', 'dropout_rate': 0.6, 'init_mode': 'he_uniform'}\n",
      "0.6497395833333334(0.023509726673525765) with : {'activation': 'hard_sigmoid', 'dropout_rate': 0.7, 'init_mode': 'uniform'}\n",
      "0.5299479166666666(0.10526761943441529) with : {'activation': 'hard_sigmoid', 'dropout_rate': 0.7, 'init_mode': 'lecun_uniform'}\n",
      "0.4296875(0.04910080113272084) with : {'activation': 'hard_sigmoid', 'dropout_rate': 0.7, 'init_mode': 'normal'}\n",
      "0.6510416666666666(0.024773824987552668) with : {'activation': 'hard_sigmoid', 'dropout_rate': 0.7, 'init_mode': 'zero'}\n",
      "0.57421875(0.06720566614877052) with : {'activation': 'hard_sigmoid', 'dropout_rate': 0.7, 'init_mode': 'glorot_normal'}\n",
      "0.4661458333333333(0.09654752558289909) with : {'activation': 'hard_sigmoid', 'dropout_rate': 0.7, 'init_mode': 'glorot_uniform'}\n",
      "0.5065104166666666(0.12058163440406484) with : {'activation': 'hard_sigmoid', 'dropout_rate': 0.7, 'init_mode': 'he_normal'}\n",
      "0.5950520833333334(0.05986752048214922) with : {'activation': 'hard_sigmoid', 'dropout_rate': 0.7, 'init_mode': 'he_uniform'}\n",
      "0.5377604166666666(0.0866056726474786) with : {'activation': 'hard_sigmoid', 'dropout_rate': 0.8, 'init_mode': 'uniform'}\n",
      "0.5208333333333334(0.10732516164059831) with : {'activation': 'hard_sigmoid', 'dropout_rate': 0.8, 'init_mode': 'lecun_uniform'}\n",
      "0.6510416666666666(0.024773824987552668) with : {'activation': 'hard_sigmoid', 'dropout_rate': 0.8, 'init_mode': 'normal'}\n",
      "0.6510416666666666(0.024773824987552668) with : {'activation': 'hard_sigmoid', 'dropout_rate': 0.8, 'init_mode': 'zero'}\n",
      "0.5716145833333334(0.09344205790629768) with : {'activation': 'hard_sigmoid', 'dropout_rate': 0.8, 'init_mode': 'glorot_normal'}\n",
      "0.3671875(0.030757843257858637) with : {'activation': 'hard_sigmoid', 'dropout_rate': 0.8, 'init_mode': 'glorot_uniform'}\n",
      "0.4752604166666667(0.09473942585198566) with : {'activation': 'hard_sigmoid', 'dropout_rate': 0.8, 'init_mode': 'he_normal'}\n",
      "0.5950520833333334(0.03498705427745938) with : {'activation': 'hard_sigmoid', 'dropout_rate': 0.8, 'init_mode': 'he_uniform'}\n",
      "0.609375(0.05767509007903672) with : {'activation': 'hard_sigmoid', 'dropout_rate': 0.9, 'init_mode': 'uniform'}\n",
      "0.4348958333333333(0.12905741347254027) with : {'activation': 'hard_sigmoid', 'dropout_rate': 0.9, 'init_mode': 'lecun_uniform'}\n",
      "0.6510416666666666(0.024150048165353395) with : {'activation': 'hard_sigmoid', 'dropout_rate': 0.9, 'init_mode': 'normal'}\n",
      "0.6510416666666666(0.024773824987552668) with : {'activation': 'hard_sigmoid', 'dropout_rate': 0.9, 'init_mode': 'zero'}\n",
      "0.4440104166666667(0.10097654151219426) with : {'activation': 'hard_sigmoid', 'dropout_rate': 0.9, 'init_mode': 'glorot_normal'}\n",
      "0.4635416666666667(0.11746206261816573) with : {'activation': 'hard_sigmoid', 'dropout_rate': 0.9, 'init_mode': 'glorot_uniform'}\n",
      "0.4700520833333333(0.14353660187000697) with : {'activation': 'hard_sigmoid', 'dropout_rate': 0.9, 'init_mode': 'he_normal'}\n",
      "0.58203125(0.06907180838476482) with : {'activation': 'hard_sigmoid', 'dropout_rate': 0.9, 'init_mode': 'he_uniform'}\n",
      "0.5755208333333334(0.025779934730759544) with : {'activation': 'linear', 'dropout_rate': 0.0, 'init_mode': 'uniform'}\n",
      "0.5598958333333334(0.006639348324990605) with : {'activation': 'linear', 'dropout_rate': 0.0, 'init_mode': 'lecun_uniform'}\n",
      "0.5416666666666666(0.07905265227427365) with : {'activation': 'linear', 'dropout_rate': 0.0, 'init_mode': 'normal'}\n",
      "0.6015625(0.022326078384742508) with : {'activation': 'linear', 'dropout_rate': 0.0, 'init_mode': 'zero'}\n",
      "0.45703125(0.14587982889750956) with : {'activation': 'linear', 'dropout_rate': 0.0, 'init_mode': 'glorot_normal'}\n",
      "0.6471354166666666(0.006639348324990605) with : {'activation': 'linear', 'dropout_rate': 0.0, 'init_mode': 'glorot_uniform'}\n",
      "0.4921875(0.1387681224088407) with : {'activation': 'linear', 'dropout_rate': 0.0, 'init_mode': 'he_normal'}\n",
      "0.5989583333333334(0.09000400863950757) with : {'activation': 'linear', 'dropout_rate': 0.0, 'init_mode': 'he_uniform'}\n",
      "0.5677083333333334(0.06268959956880585) with : {'activation': 'linear', 'dropout_rate': 0.1, 'init_mode': 'uniform'}\n",
      "0.5182291666666666(0.12154792739703088) with : {'activation': 'linear', 'dropout_rate': 0.1, 'init_mode': 'lecun_uniform'}\n",
      "0.6263020833333334(0.012889967365379774) with : {'activation': 'linear', 'dropout_rate': 0.1, 'init_mode': 'normal'}\n",
      "0.6536458333333334(0.01473139127471974) with : {'activation': 'linear', 'dropout_rate': 0.1, 'init_mode': 'zero'}\n",
      "0.3697916666666667(0.04013290366516261) with : {'activation': 'linear', 'dropout_rate': 0.1, 'init_mode': 'glorot_normal'}\n",
      "0.3971354166666667(0.057968305441541836) with : {'activation': 'linear', 'dropout_rate': 0.1, 'init_mode': 'glorot_uniform'}\n",
      "0.4505208333333333(0.1229624517482087) with : {'activation': 'linear', 'dropout_rate': 0.1, 'init_mode': 'he_normal'}\n",
      "0.5338541666666666(0.08989091455256878) with : {'activation': 'linear', 'dropout_rate': 0.1, 'init_mode': 'he_uniform'}\n",
      "0.62109375(0.03919249203982399) with : {'activation': 'linear', 'dropout_rate': 0.2, 'init_mode': 'uniform'}\n",
      "0.5104166666666666(0.06946343056431843) with : {'activation': 'linear', 'dropout_rate': 0.2, 'init_mode': 'lecun_uniform'}\n",
      "0.5794270833333334(0.10598990325504543) with : {'activation': 'linear', 'dropout_rate': 0.2, 'init_mode': 'normal'}\n",
      "0.6328125(0.02834836075140266) with : {'activation': 'linear', 'dropout_rate': 0.2, 'init_mode': 'zero'}\n",
      "0.5234375(0.09731711948466039) with : {'activation': 'linear', 'dropout_rate': 0.2, 'init_mode': 'glorot_normal'}\n",
      "0.5078125(0.08456527542254957) with : {'activation': 'linear', 'dropout_rate': 0.2, 'init_mode': 'glorot_uniform'}\n",
      "0.4205729166666667(0.016366933710906945) with : {'activation': 'linear', 'dropout_rate': 0.2, 'init_mode': 'he_normal'}\n",
      "0.6197916666666666(0.044690110160756545) with : {'activation': 'linear', 'dropout_rate': 0.2, 'init_mode': 'he_uniform'}\n",
      "0.6171875(0.04499258474784113) with : {'activation': 'linear', 'dropout_rate': 0.3, 'init_mode': 'uniform'}\n",
      "0.5520833333333334(0.12238198059905397) with : {'activation': 'linear', 'dropout_rate': 0.3, 'init_mode': 'lecun_uniform'}\n",
      "0.6015625(0.03996356576360106) with : {'activation': 'linear', 'dropout_rate': 0.3, 'init_mode': 'normal'}\n",
      "0.6471354166666666(0.024150048165353395) with : {'activation': 'linear', 'dropout_rate': 0.3, 'init_mode': 'zero'}\n",
      "0.6119791666666666(0.0403855792168511) with : {'activation': 'linear', 'dropout_rate': 0.3, 'init_mode': 'glorot_normal'}\n",
      "0.5299479166666666(0.11345323391037482) with : {'activation': 'linear', 'dropout_rate': 0.3, 'init_mode': 'glorot_uniform'}\n",
      "0.5026041666666666(0.08707423696510672) with : {'activation': 'linear', 'dropout_rate': 0.3, 'init_mode': 'he_normal'}\n",
      "0.55859375(0.1390244564066577) with : {'activation': 'linear', 'dropout_rate': 0.3, 'init_mode': 'he_uniform'}\n",
      "0.5364583333333334(0.1216315900849661) with : {'activation': 'linear', 'dropout_rate': 0.4, 'init_mode': 'uniform'}\n",
      "0.5846354166666666(0.0958071465580581) with : {'activation': 'linear', 'dropout_rate': 0.4, 'init_mode': 'lecun_uniform'}\n",
      "0.6419270833333334(0.04247267299557315) with : {'activation': 'linear', 'dropout_rate': 0.4, 'init_mode': 'normal'}\n",
      "0.6588541666666666(0.026748227323143407) with : {'activation': 'linear', 'dropout_rate': 0.4, 'init_mode': 'zero'}\n",
      "0.46484375(0.11271860993661013) with : {'activation': 'linear', 'dropout_rate': 0.4, 'init_mode': 'glorot_normal'}\n",
      "0.4635416666666667(0.11483459666848615) with : {'activation': 'linear', 'dropout_rate': 0.4, 'init_mode': 'glorot_uniform'}\n",
      "0.4244791666666667(0.13660089166045203) with : {'activation': 'linear', 'dropout_rate': 0.4, 'init_mode': 'he_normal'}\n",
      "0.4622395833333333(0.10751455913199488) with : {'activation': 'linear', 'dropout_rate': 0.4, 'init_mode': 'he_uniform'}\n",
      "0.6380208333333334(0.03858211559903399) with : {'activation': 'linear', 'dropout_rate': 0.5, 'init_mode': 'uniform'}\n",
      "0.6497395833333334(0.024359748611809513) with : {'activation': 'linear', 'dropout_rate': 0.5, 'init_mode': 'lecun_uniform'}\n",
      "0.5247395833333334(0.15197047396319202) with : {'activation': 'linear', 'dropout_rate': 0.5, 'init_mode': 'normal'}\n",
      "0.5611979166666666(0.11939472277445469) with : {'activation': 'linear', 'dropout_rate': 0.5, 'init_mode': 'zero'}\n",
      "0.3528645833333333(0.027865800207073826) with : {'activation': 'linear', 'dropout_rate': 0.5, 'init_mode': 'glorot_normal'}\n",
      "0.3723958333333333(0.02655739329996242) with : {'activation': 'linear', 'dropout_rate': 0.5, 'init_mode': 'glorot_uniform'}\n",
      "0.5130208333333334(0.13358892738208966) with : {'activation': 'linear', 'dropout_rate': 0.5, 'init_mode': 'he_normal'}\n",
      "0.44921875(0.11813850231472661) with : {'activation': 'linear', 'dropout_rate': 0.5, 'init_mode': 'he_uniform'}\n",
      "0.5963541666666666(0.05425173608333245) with : {'activation': 'linear', 'dropout_rate': 0.6, 'init_mode': 'uniform'}\n",
      "0.59375(0.06590651424397793) with : {'activation': 'linear', 'dropout_rate': 0.6, 'init_mode': 'lecun_uniform'}\n",
      "0.53125(0.03880120944206078) with : {'activation': 'linear', 'dropout_rate': 0.6, 'init_mode': 'normal'}\n",
      "0.62109375(0.005524271728019903) with : {'activation': 'linear', 'dropout_rate': 0.6, 'init_mode': 'zero'}\n",
      "0.57421875(0.13542918611999777) with : {'activation': 'linear', 'dropout_rate': 0.6, 'init_mode': 'glorot_normal'}\n",
      "0.5403645833333334(0.14950729265007628) with : {'activation': 'linear', 'dropout_rate': 0.6, 'init_mode': 'glorot_uniform'}\n",
      "0.54296875(0.1335381524173585) with : {'activation': 'linear', 'dropout_rate': 0.6, 'init_mode': 'he_normal'}\n",
      "0.4583333333333333(0.13577926214821573) with : {'activation': 'linear', 'dropout_rate': 0.6, 'init_mode': 'he_uniform'}\n",
      "0.6041666666666666(0.06585504487709266) with : {'activation': 'linear', 'dropout_rate': 0.7, 'init_mode': 'uniform'}\n",
      "0.5911458333333334(0.11150882326045125) with : {'activation': 'linear', 'dropout_rate': 0.7, 'init_mode': 'lecun_uniform'}\n",
      "0.4921875(0.09116443262611612) with : {'activation': 'linear', 'dropout_rate': 0.7, 'init_mode': 'normal'}\n",
      "0.6588541666666666(0.018414239093399672) with : {'activation': 'linear', 'dropout_rate': 0.7, 'init_mode': 'zero'}\n",
      "0.4348958333333333(0.07656870014577685) with : {'activation': 'linear', 'dropout_rate': 0.7, 'init_mode': 'glorot_normal'}\n",
      "0.578125(0.048264981752215205) with : {'activation': 'linear', 'dropout_rate': 0.7, 'init_mode': 'glorot_uniform'}\n",
      "0.5859375(0.11618494763648028) with : {'activation': 'linear', 'dropout_rate': 0.7, 'init_mode': 'he_normal'}\n",
      "0.5572916666666666(0.12238198059905397) with : {'activation': 'linear', 'dropout_rate': 0.7, 'init_mode': 'he_uniform'}\n",
      "0.53515625(0.030757843257858637) with : {'activation': 'linear', 'dropout_rate': 0.8, 'init_mode': 'uniform'}\n",
      "0.5481770833333334(0.12419718322562939) with : {'activation': 'linear', 'dropout_rate': 0.8, 'init_mode': 'lecun_uniform'}\n",
      "0.6067708333333334(0.03669011146772232) with : {'activation': 'linear', 'dropout_rate': 0.8, 'init_mode': 'normal'}\n",
      "0.6354166666666666(0.017566064535458385) with : {'activation': 'linear', 'dropout_rate': 0.8, 'init_mode': 'zero'}\n",
      "0.4661458333333333(0.06872730843956587) with : {'activation': 'linear', 'dropout_rate': 0.8, 'init_mode': 'glorot_normal'}\n",
      "0.6223958333333334(0.027125868041666223) with : {'activation': 'linear', 'dropout_rate': 0.8, 'init_mode': 'glorot_uniform'}\n",
      "0.5885416666666666(0.07386382606084808) with : {'activation': 'linear', 'dropout_rate': 0.8, 'init_mode': 'he_normal'}\n",
      "0.57421875(0.13006502530385203) with : {'activation': 'linear', 'dropout_rate': 0.8, 'init_mode': 'he_uniform'}\n",
      "0.4479166666666667(0.13562934020833112) with : {'activation': 'linear', 'dropout_rate': 0.9, 'init_mode': 'uniform'}\n",
      "0.5299479166666666(0.14769321810884622) with : {'activation': 'linear', 'dropout_rate': 0.9, 'init_mode': 'lecun_uniform'}\n",
      "0.4713541666666667(0.1351033032933092) with : {'activation': 'linear', 'dropout_rate': 0.9, 'init_mode': 'normal'}\n",
      "0.6510416666666666(0.024773824987552668) with : {'activation': 'linear', 'dropout_rate': 0.9, 'init_mode': 'zero'}\n",
      "0.4908854166666667(0.11593661088308367) with : {'activation': 'linear', 'dropout_rate': 0.9, 'init_mode': 'glorot_normal'}\n",
      "0.37109375(0.05560978256266308) with : {'activation': 'linear', 'dropout_rate': 0.9, 'init_mode': 'glorot_uniform'}\n",
      "0.4231770833333333(0.12638930622260158) with : {'activation': 'linear', 'dropout_rate': 0.9, 'init_mode': 'he_normal'}\n",
      "0.5598958333333334(0.12296245174820872) with : {'activation': 'linear', 'dropout_rate': 0.9, 'init_mode': 'he_uniform'}\n"
     ]
    }
   ],
   "source": [
    "# 파라미터 튜닝을 위해서 아래처럼 조합을 만든다 \n",
    "activation = ['softmax', 'softplus', 'softsign','relu', 'tanh', 'sigmoid', 'hard_sigmoid' , 'linear']\n",
    "init_mode = ['uniform' , 'lecun_uniform', 'normal', 'zero','glorot_normal', 'glorot_uniform', 'he_normal', 'he_uniform']              \n",
    "dropout_rate=[0.0, 0.1, 0.2, 0.3, 0.4, 0.5, 0.6, 0.7, 0.8, 0.9]     \n",
    "              \n",
    "# 매개 변수 입력 형태는 dictionary 이다 \n",
    "param_grid = dict(init_mode = init_mode, activation = activation, dropout_rate= dropout_rate)\n",
    "grid = GridSearchCV(estimator=model, param_grid=param_grid, n_jobs=-1) # 참여하는 cpu 개수 \n",
    "grid_result = grid.fit(X,Y)\n",
    "\n",
    "\n",
    "#summarize result \n",
    "print('최적스코어: {} 사용한 파라미터조합 : '.format(grid_result.best_score_, grid_result.best_params_))\n",
    "means = grid_result.cv_results_['mean_test_score']\n",
    "stds = grid_result.cv_results_['std_test_score']\n",
    "params = grid_result.cv_results_['params']\n",
    "\n",
    "for mean, stdev, param in zip(means, stds, params):\n",
    "    print('{}({}) with : {}'.format(mean, stdev, param))"
   ]
  },
  {
   "cell_type": "code",
   "execution_count": null,
   "metadata": {},
   "outputs": [],
   "source": []
  },
  {
   "cell_type": "code",
   "execution_count": null,
   "metadata": {},
   "outputs": [],
   "source": []
  },
  {
   "cell_type": "code",
   "execution_count": null,
   "metadata": {},
   "outputs": [],
   "source": []
  },
  {
   "cell_type": "code",
   "execution_count": null,
   "metadata": {},
   "outputs": [],
   "source": []
  },
  {
   "cell_type": "code",
   "execution_count": 32,
   "metadata": {},
   "outputs": [
    {
     "ename": "KeyboardInterrupt",
     "evalue": "",
     "output_type": "error",
     "traceback": [
      "\u001b[1;31m---------------------------------------------------------------------------\u001b[0m",
      "\u001b[1;31mKeyboardInterrupt\u001b[0m                         Traceback (most recent call last)",
      "\u001b[1;32m<ipython-input-32-0abd369c9008>\u001b[0m in \u001b[0;36m<module>\u001b[1;34m\u001b[0m\n\u001b[0;32m     13\u001b[0m \u001b[0mfit_params\u001b[0m \u001b[1;33m=\u001b[0m \u001b[0mdict\u001b[0m\u001b[1;33m(\u001b[0m\u001b[0mcallbacks\u001b[0m\u001b[1;33m=\u001b[0m\u001b[1;33m[\u001b[0m\u001b[0mstopper\u001b[0m\u001b[1;33m]\u001b[0m\u001b[1;33m)\u001b[0m\u001b[1;33m\u001b[0m\u001b[1;33m\u001b[0m\u001b[0m\n\u001b[0;32m     14\u001b[0m \u001b[1;33m\u001b[0m\u001b[0m\n\u001b[1;32m---> 15\u001b[1;33m \u001b[0mgrid_result\u001b[0m \u001b[1;33m=\u001b[0m \u001b[0mgrid\u001b[0m\u001b[1;33m.\u001b[0m\u001b[0mfit\u001b[0m\u001b[1;33m(\u001b[0m\u001b[0mX\u001b[0m\u001b[1;33m,\u001b[0m\u001b[0mY\u001b[0m\u001b[1;33m,\u001b[0m \u001b[1;33m**\u001b[0m\u001b[0mfit_params\u001b[0m\u001b[1;33m)\u001b[0m  \u001b[1;31m# ** 를 하는 이유? 변동매개변수이기 때문(10개도 들어올수도있기때문, callback 등등 몇개 들어올지 모르니까\u001b[0m\u001b[1;33m\u001b[0m\u001b[1;33m\u001b[0m\u001b[0m\n\u001b[0m\u001b[0;32m     16\u001b[0m \u001b[1;31m# 변동매개변수(여러개가 전달될때 쓴다 ) list 는 * , 변동매개변수는 **\u001b[0m\u001b[1;33m\u001b[0m\u001b[1;33m\u001b[0m\u001b[1;33m\u001b[0m\u001b[0m\n\u001b[0;32m     17\u001b[0m \u001b[1;33m\u001b[0m\u001b[0m\n",
      "\u001b[1;32m~\\Anaconda3\\lib\\site-packages\\sklearn\\model_selection\\_search.py\u001b[0m in \u001b[0;36mfit\u001b[1;34m(self, X, y, groups, **fit_params)\u001b[0m\n\u001b[0;32m    686\u001b[0m                 \u001b[1;32mreturn\u001b[0m \u001b[0mresults\u001b[0m\u001b[1;33m\u001b[0m\u001b[1;33m\u001b[0m\u001b[0m\n\u001b[0;32m    687\u001b[0m \u001b[1;33m\u001b[0m\u001b[0m\n\u001b[1;32m--> 688\u001b[1;33m             \u001b[0mself\u001b[0m\u001b[1;33m.\u001b[0m\u001b[0m_run_search\u001b[0m\u001b[1;33m(\u001b[0m\u001b[0mevaluate_candidates\u001b[0m\u001b[1;33m)\u001b[0m\u001b[1;33m\u001b[0m\u001b[1;33m\u001b[0m\u001b[0m\n\u001b[0m\u001b[0;32m    689\u001b[0m \u001b[1;33m\u001b[0m\u001b[0m\n\u001b[0;32m    690\u001b[0m         \u001b[1;31m# For multi-metric evaluation, store the best_index_, best_params_ and\u001b[0m\u001b[1;33m\u001b[0m\u001b[1;33m\u001b[0m\u001b[1;33m\u001b[0m\u001b[0m\n",
      "\u001b[1;32m~\\Anaconda3\\lib\\site-packages\\sklearn\\model_selection\\_search.py\u001b[0m in \u001b[0;36m_run_search\u001b[1;34m(self, evaluate_candidates)\u001b[0m\n\u001b[0;32m   1147\u001b[0m     \u001b[1;32mdef\u001b[0m \u001b[0m_run_search\u001b[0m\u001b[1;33m(\u001b[0m\u001b[0mself\u001b[0m\u001b[1;33m,\u001b[0m \u001b[0mevaluate_candidates\u001b[0m\u001b[1;33m)\u001b[0m\u001b[1;33m:\u001b[0m\u001b[1;33m\u001b[0m\u001b[1;33m\u001b[0m\u001b[0m\n\u001b[0;32m   1148\u001b[0m         \u001b[1;34m\"\"\"Search all candidates in param_grid\"\"\"\u001b[0m\u001b[1;33m\u001b[0m\u001b[1;33m\u001b[0m\u001b[0m\n\u001b[1;32m-> 1149\u001b[1;33m         \u001b[0mevaluate_candidates\u001b[0m\u001b[1;33m(\u001b[0m\u001b[0mParameterGrid\u001b[0m\u001b[1;33m(\u001b[0m\u001b[0mself\u001b[0m\u001b[1;33m.\u001b[0m\u001b[0mparam_grid\u001b[0m\u001b[1;33m)\u001b[0m\u001b[1;33m)\u001b[0m\u001b[1;33m\u001b[0m\u001b[1;33m\u001b[0m\u001b[0m\n\u001b[0m\u001b[0;32m   1150\u001b[0m \u001b[1;33m\u001b[0m\u001b[0m\n\u001b[0;32m   1151\u001b[0m \u001b[1;33m\u001b[0m\u001b[0m\n",
      "\u001b[1;32m~\\Anaconda3\\lib\\site-packages\\sklearn\\model_selection\\_search.py\u001b[0m in \u001b[0;36mevaluate_candidates\u001b[1;34m(candidate_params)\u001b[0m\n\u001b[0;32m    665\u001b[0m                                \u001b[1;32mfor\u001b[0m \u001b[0mparameters\u001b[0m\u001b[1;33m,\u001b[0m \u001b[1;33m(\u001b[0m\u001b[0mtrain\u001b[0m\u001b[1;33m,\u001b[0m \u001b[0mtest\u001b[0m\u001b[1;33m)\u001b[0m\u001b[1;33m\u001b[0m\u001b[1;33m\u001b[0m\u001b[0m\n\u001b[0;32m    666\u001b[0m                                in product(candidate_params,\n\u001b[1;32m--> 667\u001b[1;33m                                           cv.split(X, y, groups)))\n\u001b[0m\u001b[0;32m    668\u001b[0m \u001b[1;33m\u001b[0m\u001b[0m\n\u001b[0;32m    669\u001b[0m                 \u001b[1;32mif\u001b[0m \u001b[0mlen\u001b[0m\u001b[1;33m(\u001b[0m\u001b[0mout\u001b[0m\u001b[1;33m)\u001b[0m \u001b[1;33m<\u001b[0m \u001b[1;36m1\u001b[0m\u001b[1;33m:\u001b[0m\u001b[1;33m\u001b[0m\u001b[1;33m\u001b[0m\u001b[0m\n",
      "\u001b[1;32m~\\Anaconda3\\lib\\site-packages\\joblib\\parallel.py\u001b[0m in \u001b[0;36m__call__\u001b[1;34m(self, iterable)\u001b[0m\n\u001b[0;32m    932\u001b[0m \u001b[1;33m\u001b[0m\u001b[0m\n\u001b[0;32m    933\u001b[0m             \u001b[1;32mwith\u001b[0m \u001b[0mself\u001b[0m\u001b[1;33m.\u001b[0m\u001b[0m_backend\u001b[0m\u001b[1;33m.\u001b[0m\u001b[0mretrieval_context\u001b[0m\u001b[1;33m(\u001b[0m\u001b[1;33m)\u001b[0m\u001b[1;33m:\u001b[0m\u001b[1;33m\u001b[0m\u001b[1;33m\u001b[0m\u001b[0m\n\u001b[1;32m--> 934\u001b[1;33m                 \u001b[0mself\u001b[0m\u001b[1;33m.\u001b[0m\u001b[0mretrieve\u001b[0m\u001b[1;33m(\u001b[0m\u001b[1;33m)\u001b[0m\u001b[1;33m\u001b[0m\u001b[1;33m\u001b[0m\u001b[0m\n\u001b[0m\u001b[0;32m    935\u001b[0m             \u001b[1;31m# Make sure that we get a last message telling us we are done\u001b[0m\u001b[1;33m\u001b[0m\u001b[1;33m\u001b[0m\u001b[1;33m\u001b[0m\u001b[0m\n\u001b[0;32m    936\u001b[0m             \u001b[0melapsed_time\u001b[0m \u001b[1;33m=\u001b[0m \u001b[0mtime\u001b[0m\u001b[1;33m.\u001b[0m\u001b[0mtime\u001b[0m\u001b[1;33m(\u001b[0m\u001b[1;33m)\u001b[0m \u001b[1;33m-\u001b[0m \u001b[0mself\u001b[0m\u001b[1;33m.\u001b[0m\u001b[0m_start_time\u001b[0m\u001b[1;33m\u001b[0m\u001b[1;33m\u001b[0m\u001b[0m\n",
      "\u001b[1;32m~\\Anaconda3\\lib\\site-packages\\joblib\\parallel.py\u001b[0m in \u001b[0;36mretrieve\u001b[1;34m(self)\u001b[0m\n\u001b[0;32m    831\u001b[0m             \u001b[1;32mtry\u001b[0m\u001b[1;33m:\u001b[0m\u001b[1;33m\u001b[0m\u001b[1;33m\u001b[0m\u001b[0m\n\u001b[0;32m    832\u001b[0m                 \u001b[1;32mif\u001b[0m \u001b[0mgetattr\u001b[0m\u001b[1;33m(\u001b[0m\u001b[0mself\u001b[0m\u001b[1;33m.\u001b[0m\u001b[0m_backend\u001b[0m\u001b[1;33m,\u001b[0m \u001b[1;34m'supports_timeout'\u001b[0m\u001b[1;33m,\u001b[0m \u001b[1;32mFalse\u001b[0m\u001b[1;33m)\u001b[0m\u001b[1;33m:\u001b[0m\u001b[1;33m\u001b[0m\u001b[1;33m\u001b[0m\u001b[0m\n\u001b[1;32m--> 833\u001b[1;33m                     \u001b[0mself\u001b[0m\u001b[1;33m.\u001b[0m\u001b[0m_output\u001b[0m\u001b[1;33m.\u001b[0m\u001b[0mextend\u001b[0m\u001b[1;33m(\u001b[0m\u001b[0mjob\u001b[0m\u001b[1;33m.\u001b[0m\u001b[0mget\u001b[0m\u001b[1;33m(\u001b[0m\u001b[0mtimeout\u001b[0m\u001b[1;33m=\u001b[0m\u001b[0mself\u001b[0m\u001b[1;33m.\u001b[0m\u001b[0mtimeout\u001b[0m\u001b[1;33m)\u001b[0m\u001b[1;33m)\u001b[0m\u001b[1;33m\u001b[0m\u001b[1;33m\u001b[0m\u001b[0m\n\u001b[0m\u001b[0;32m    834\u001b[0m                 \u001b[1;32melse\u001b[0m\u001b[1;33m:\u001b[0m\u001b[1;33m\u001b[0m\u001b[1;33m\u001b[0m\u001b[0m\n\u001b[0;32m    835\u001b[0m                     \u001b[0mself\u001b[0m\u001b[1;33m.\u001b[0m\u001b[0m_output\u001b[0m\u001b[1;33m.\u001b[0m\u001b[0mextend\u001b[0m\u001b[1;33m(\u001b[0m\u001b[0mjob\u001b[0m\u001b[1;33m.\u001b[0m\u001b[0mget\u001b[0m\u001b[1;33m(\u001b[0m\u001b[1;33m)\u001b[0m\u001b[1;33m)\u001b[0m\u001b[1;33m\u001b[0m\u001b[1;33m\u001b[0m\u001b[0m\n",
      "\u001b[1;32m~\\Anaconda3\\lib\\site-packages\\joblib\\_parallel_backends.py\u001b[0m in \u001b[0;36mwrap_future_result\u001b[1;34m(future, timeout)\u001b[0m\n\u001b[0;32m    519\u001b[0m         AsyncResults.get from multiprocessing.\"\"\"\n\u001b[0;32m    520\u001b[0m         \u001b[1;32mtry\u001b[0m\u001b[1;33m:\u001b[0m\u001b[1;33m\u001b[0m\u001b[1;33m\u001b[0m\u001b[0m\n\u001b[1;32m--> 521\u001b[1;33m             \u001b[1;32mreturn\u001b[0m \u001b[0mfuture\u001b[0m\u001b[1;33m.\u001b[0m\u001b[0mresult\u001b[0m\u001b[1;33m(\u001b[0m\u001b[0mtimeout\u001b[0m\u001b[1;33m=\u001b[0m\u001b[0mtimeout\u001b[0m\u001b[1;33m)\u001b[0m\u001b[1;33m\u001b[0m\u001b[1;33m\u001b[0m\u001b[0m\n\u001b[0m\u001b[0;32m    522\u001b[0m         \u001b[1;32mexcept\u001b[0m \u001b[0mLokyTimeoutError\u001b[0m\u001b[1;33m:\u001b[0m\u001b[1;33m\u001b[0m\u001b[1;33m\u001b[0m\u001b[0m\n\u001b[0;32m    523\u001b[0m             \u001b[1;32mraise\u001b[0m \u001b[0mTimeoutError\u001b[0m\u001b[1;33m(\u001b[0m\u001b[1;33m)\u001b[0m\u001b[1;33m\u001b[0m\u001b[1;33m\u001b[0m\u001b[0m\n",
      "\u001b[1;32m~\\Anaconda3\\lib\\concurrent\\futures\\_base.py\u001b[0m in \u001b[0;36mresult\u001b[1;34m(self, timeout)\u001b[0m\n\u001b[0;32m    428\u001b[0m                 \u001b[1;32mreturn\u001b[0m \u001b[0mself\u001b[0m\u001b[1;33m.\u001b[0m\u001b[0m__get_result\u001b[0m\u001b[1;33m(\u001b[0m\u001b[1;33m)\u001b[0m\u001b[1;33m\u001b[0m\u001b[1;33m\u001b[0m\u001b[0m\n\u001b[0;32m    429\u001b[0m \u001b[1;33m\u001b[0m\u001b[0m\n\u001b[1;32m--> 430\u001b[1;33m             \u001b[0mself\u001b[0m\u001b[1;33m.\u001b[0m\u001b[0m_condition\u001b[0m\u001b[1;33m.\u001b[0m\u001b[0mwait\u001b[0m\u001b[1;33m(\u001b[0m\u001b[0mtimeout\u001b[0m\u001b[1;33m)\u001b[0m\u001b[1;33m\u001b[0m\u001b[1;33m\u001b[0m\u001b[0m\n\u001b[0m\u001b[0;32m    431\u001b[0m \u001b[1;33m\u001b[0m\u001b[0m\n\u001b[0;32m    432\u001b[0m             \u001b[1;32mif\u001b[0m \u001b[0mself\u001b[0m\u001b[1;33m.\u001b[0m\u001b[0m_state\u001b[0m \u001b[1;32min\u001b[0m \u001b[1;33m[\u001b[0m\u001b[0mCANCELLED\u001b[0m\u001b[1;33m,\u001b[0m \u001b[0mCANCELLED_AND_NOTIFIED\u001b[0m\u001b[1;33m]\u001b[0m\u001b[1;33m:\u001b[0m\u001b[1;33m\u001b[0m\u001b[1;33m\u001b[0m\u001b[0m\n",
      "\u001b[1;32m~\\Anaconda3\\lib\\threading.py\u001b[0m in \u001b[0;36mwait\u001b[1;34m(self, timeout)\u001b[0m\n\u001b[0;32m    294\u001b[0m         \u001b[1;32mtry\u001b[0m\u001b[1;33m:\u001b[0m    \u001b[1;31m# restore state no matter what (e.g., KeyboardInterrupt)\u001b[0m\u001b[1;33m\u001b[0m\u001b[1;33m\u001b[0m\u001b[0m\n\u001b[0;32m    295\u001b[0m             \u001b[1;32mif\u001b[0m \u001b[0mtimeout\u001b[0m \u001b[1;32mis\u001b[0m \u001b[1;32mNone\u001b[0m\u001b[1;33m:\u001b[0m\u001b[1;33m\u001b[0m\u001b[1;33m\u001b[0m\u001b[0m\n\u001b[1;32m--> 296\u001b[1;33m                 \u001b[0mwaiter\u001b[0m\u001b[1;33m.\u001b[0m\u001b[0macquire\u001b[0m\u001b[1;33m(\u001b[0m\u001b[1;33m)\u001b[0m\u001b[1;33m\u001b[0m\u001b[1;33m\u001b[0m\u001b[0m\n\u001b[0m\u001b[0;32m    297\u001b[0m                 \u001b[0mgotit\u001b[0m \u001b[1;33m=\u001b[0m \u001b[1;32mTrue\u001b[0m\u001b[1;33m\u001b[0m\u001b[1;33m\u001b[0m\u001b[0m\n\u001b[0;32m    298\u001b[0m             \u001b[1;32melse\u001b[0m\u001b[1;33m:\u001b[0m\u001b[1;33m\u001b[0m\u001b[1;33m\u001b[0m\u001b[0m\n",
      "\u001b[1;31mKeyboardInterrupt\u001b[0m: "
     ]
    }
   ],
   "source": [
    "#early stopping : 과적합 막으려고 쓰는것\n",
    "# callback 함수안에 들어가있다.\n",
    "from keras.callbacks import EarlyStopping\n",
    "stopper = EarlyStopping(monitor='val_accuracy', patience=3, verbose=1) # val_accuracy 를 모니터하다가 멈추는것이다 patience=3 ( 3번참아라) \n",
    "#  call back 함수는 fit 안에 넣는다\n",
    "model = KerasClassifier(build_fn = create_model, epochs=100, batch_size= 64)\n",
    "activation = ['softmax', 'softplus', 'softsign','relu', 'tanh', 'sigmoid', 'hard_sigmoid' , 'linear']\n",
    "init_mode = ['uniform' , 'lecun_uniform', 'normal', 'zero','glorot_normal', 'glorot_uniform', 'he_normal', 'he_uniform']              \n",
    "dropout_rate=[0.0, 0.1, 0.2, 0.3, 0.4, 0.5, 0.6, 0.7, 0.8, 0.9] \n",
    "\n",
    "param_grid = dict(init_mode = init_mode, activation = activation, dropout_rate= dropout_rate)\n",
    "grid = GridSearchCV(estimator=model, param_grid=param_grid, n_jobs=-1) # 참여하는 cpu 개수 \n",
    "fit_params = dict(callbacks=[stopper])\n",
    "\n",
    "grid_result = grid.fit(X,Y, **fit_params)  # ** 를 하는 이유? 변동매개변수이기 때문(10개도 들어올수도있기때문, callback 등등 몇개 들어올지 모르니까\n",
    "# 변동매개변수(여러개가 전달될때 쓴다 ) list 는 * , 변동매개변수는 **\n",
    "\n",
    "print('최적스코어: {} 사용한 파라미터조합 : '.format(grid_result.best_score_, grid_result.best_params_))\n",
    "means = grid_result.cv_results_['mean_test_score']\n",
    "stds = grid_result.cv_results_['std_test_score']\n",
    "params = grid_result.cv_results_['params']\n",
    "\n",
    "for mean, stdev, param in zip(means, stds, params):\n",
    "    print('{}({}) with : {}'.format(mean, stdev, param))"
   ]
  },
  {
   "cell_type": "code",
   "execution_count": null,
   "metadata": {},
   "outputs": [],
   "source": [
    "# 아래 참고하기 (영택) "
   ]
  },
  {
   "cell_type": "code",
   "execution_count": null,
   "metadata": {},
   "outputs": [],
   "source": [
    "# Use scikit-learn to grid search the weight initialization\n",
    "import numpy\n",
    "from sklearn.model_selection import GridSearchCV\n",
    "from keras.models import Sequential\n",
    "from keras.layers import Dense, Dropout\n",
    "from keras.wrappers.scikit_learn import KerasClassifier\n",
    "from keras.callbacks import EarlyStopping\n",
    "stopper = EarlyStopping(monitor='var_accuracy', patience=3, verbose=1)\n",
    "# Function to create model, required for KerasClassifier\n",
    "def create_model(init_mode='uniform',optimizer='relu',dropout_rate=0.1):\n",
    "# create model\n",
    "    model = Sequential()\n",
    "    model.add(Dense(12, input_dim=8, kernel_initializer=init_mode, activation=optimizer))\n",
    "    model.add(Dropout(dropout_rate))\n",
    "    model.add(Dense(1))\n",
    "    # Compile model\n",
    "    model.compile(loss='binary_crossentropy', optimizer='adam', metrics=['accuracy'])\n",
    "    return model\n",
    "# fix random seed for reproducibility\n",
    "seed = 7\n",
    "numpy.random.seed(seed)\n",
    "# load dataset\n",
    "dataset = numpy.loadtxt(\"pima.csv\", delimiter=\",\")\n",
    "# split into input (X) and output (Y) variables\n",
    "X = dataset[:,0:8]\n",
    "Y = dataset[:,8]\n",
    "# create model\n",
    "# Earlystopping\n",
    "model = KerasClassifier(build_fn=create_model, epochs=100, batch_size=10, verbose=1)\n",
    "# define the grid search parameters\n",
    "dropout_rate=[0.1,0.2,0.3] # ,0.4,0.5,0.6,0.7,0.8,0.9\n",
    "init_mode = ['uniform', 'lecun_uniform']# ,'normal','zero','glorot_normal','glorot_uniform','he_normal','he_uniform'\n",
    "optimizer = ['softmax','relu'] #, 'softplus', 'softsign','tanh','sigmoid','hard_sigmoid','linear'\n",
    "param_grid = dict(init_mode=init_mode,optimizer=optimizer,dropout_rate=dropout_rate)\n",
    "fit_params = dict(callbacks=[stopper])\n",
    "grid = GridSearchCV(estimator=model, param_grid=param_grid, n_jobs=-1, cv=3)\n",
    "# 변동 매개변수\n",
    "grid_result = grid.fit(X, Y, **fit_params)\n",
    "# summarize results\n",
    "print(\"Best: %f using %s\" % (grid_result.best_score_, grid_result.best_params_))\n",
    "means = grid_result.cv_results_['mean_test_score']\n",
    "stds = grid_result.cv_results_['std_test_score']\n",
    "params = grid_result.cv_results_['params']\n",
    "for mean, stdev, param in zip(means, stds, params):\n",
    "    print(\"%f (%f) with: %r\" % (mean, stdev, param))"
   ]
  },
  {
   "cell_type": "code",
   "execution_count": null,
   "metadata": {},
   "outputs": [],
   "source": []
  },
  {
   "cell_type": "code",
   "execution_count": null,
   "metadata": {},
   "outputs": [],
   "source": []
  },
  {
   "cell_type": "code",
   "execution_count": null,
   "metadata": {},
   "outputs": [],
   "source": []
  },
  {
   "cell_type": "code",
   "execution_count": 36,
   "metadata": {},
   "outputs": [],
   "source": [
    "# 이번엔 회귀를 해보자\n",
    "from keras.wrappers.scikit_learn import KerasRegressor\n",
    "from sklearn.model_selection import cross_val_score\n",
    "from sklearn.model_selection import KFold\n",
    "from sklearn.preprocessing import StandardScaler\n",
    "from sklearn.pipeline import Pipeline\n",
    "import pandas"
   ]
  },
  {
   "cell_type": "code",
   "execution_count": 37,
   "metadata": {},
   "outputs": [],
   "source": [
    "dataframe = pandas.read_csv('housing.csv', delim_whitespace=True, header=None)\n",
    "dataset = dataframe.values\n",
    "X = dataset[:,0:13]\n",
    "Y = dataset[:,13]"
   ]
  },
  {
   "cell_type": "code",
   "execution_count": 38,
   "metadata": {},
   "outputs": [],
   "source": [
    "def baseline_model():#맨처음에 hyperparameter tuing 할때 epoch 랑batch_size 를 위에 안줬다  근데 2번째할때는 줬다(이유: model 안의 dense 의 매개변수이기때문에 줘야한다!!!!)\n",
    "    model = Sequential() # 몇바이몇으로 들어오냐?? ?? 506x13  13x13 이다.  \n",
    "    model.add(Dense(13, input_dim=13, kernel_initializer='normal', activation='relu' )) # 아까 그리드서치로 hyper parameter뭐가좋은지찾와봤음 -> 모델마다 다르다 \n",
    "    # 506x13  13x1  506x1 \n",
    "    model.add(Dense(1,kernel_initializer='normal'))\n",
    "    model.compile(loss='mean_squared_error', optimizer='adam')  #def 를 쓸때, COMPILE 하는부분까지만 정의한다 \n",
    "    return model "
   ]
  },
  {
   "cell_type": "code",
   "execution_count": 39,
   "metadata": {},
   "outputs": [],
   "source": [
    "seed = 7\n",
    "numpy.random.seed(seed)\n",
    "estimator = KerasRegressor(build_fn = baseline_model, nb_epoch=100, batch_size=5, verbose=0) # keras 매개변수의 첫변째 옵션에 위에서 만든 모델 넣어주면 된다 \n",
    "                                       # epoch 랑 batch_size 는 피팅할때 주는것이다 ! ( 컴파일일때 아니다!) \n",
    "    # 아직 모델학습을 한 것은 아니고 선언만했다 근데 아래에서 cross_val_score 을 한다!"
   ]
  },
  {
   "cell_type": "code",
   "execution_count": 40,
   "metadata": {},
   "outputs": [
    {
     "name": "stdout",
     "output_type": "stream",
     "text": [
      "Results: -114.88 (83.20) MSE\n"
     ]
    }
   ],
   "source": [
    "kfold = KFold(n_splits=10, random_state=seed) # kfold : 교차검증할때 사용 -> 10개로 나누고 10개중 하나는 validation 으로 사용된다 \n",
    "results = cross_val_score(estimator, X, Y, cv=kfold)# 모델선언만했지만 cross_val_score 이 가능하다! \n",
    "print(\"Results: %.2f (%.2f) MSE\" % (results.mean(), results.std()))"
   ]
  },
  {
   "cell_type": "code",
   "execution_count": 42,
   "metadata": {},
   "outputs": [
    {
     "name": "stdout",
     "output_type": "stream",
     "text": [
      "Standardized: -29.44 ( 27.71) MSE\n"
     ]
    }
   ],
   "source": [
    "numpy.random.seed(seed)\n",
    "estimators= []\n",
    "estimators.append(('standardize', StandardScaler()))\n",
    "estimators.append(('mlp', KerasRegressor(build_fn = baseline_model, epochs=50, batch_size=5, verbose=0))) # kerasregressor 같은것은 딕셔너리를 매개변수로 요구 \n",
    "\n",
    "# pipeline 의 매개변수가 리스트를 요구한다!!(맨위를 봐라)/  keras 의 매개변수는 무엇을 요구하나? 딕셔너리 \n",
    "pipeline = Pipeline(estimators)    \n",
    "kfold =KFold(n_splits=10, random_state=seed)\n",
    "results = cross_val_score(pipeline, X, Y, cv=kfold) # 파이프라인 집어넣고 검증을 했다 .->즉 이말은 즉슨 standardscaler 도 해줬고, kerasregressor 도 해줬다 \n",
    "print('Standardized: %.2f ( %.2f) MSE' % (results.mean(), results.std()))"
   ]
  },
  {
   "cell_type": "code",
   "execution_count": 43,
   "metadata": {},
   "outputs": [
    {
     "data": {
      "text/plain": [
       "Pipeline(memory=None,\n",
       "         steps=[('standardize',\n",
       "                 StandardScaler(copy=True, with_mean=True, with_std=True)),\n",
       "                ('mlp',\n",
       "                 <keras.wrappers.scikit_learn.KerasRegressor object at 0x0000025D4E45E688>)],\n",
       "         verbose=False)"
      ]
     },
     "execution_count": 43,
     "metadata": {},
     "output_type": "execute_result"
    }
   ],
   "source": [
    "pipeline.fit(X,Y) # 그리고 나서 피팅을 해주었다 "
   ]
  },
  {
   "cell_type": "code",
   "execution_count": 44,
   "metadata": {},
   "outputs": [
    {
     "data": {
      "text/plain": [
       "29.821865"
      ]
     },
     "execution_count": 44,
     "metadata": {},
     "output_type": "execute_result"
    }
   ],
   "source": [
    "res=pipeline.predict(X)  \n",
    "res[0]"
   ]
  },
  {
   "cell_type": "code",
   "execution_count": 46,
   "metadata": {},
   "outputs": [
    {
     "data": {
      "text/plain": [
       "array([[nan, nan],\n",
       "       [nan, nan]])"
      ]
     },
     "execution_count": 46,
     "metadata": {},
     "output_type": "execute_result"
    }
   ],
   "source": [
    "import numpy as np\n",
    "np.corrcoef(res[0], Y[0])"
   ]
  },
  {
   "cell_type": "code",
   "execution_count": null,
   "metadata": {},
   "outputs": [],
   "source": []
  },
  {
   "cell_type": "code",
   "execution_count": 47,
   "metadata": {},
   "outputs": [],
   "source": [
    "# 이번엔 다른 모델 \n",
    "def larger_model():  # 좀 더 deep 해졌다. \n",
    "    model = Sequential()\n",
    "    model.add(Dense(13, input_dim=13, kernel_initializer='normal',activation='relu' ))\n",
    "    model.add(Dense(6,kernel_initializer='normal', activation='relu'))\n",
    "    model.add(Dense(1, kernel_initializer='normal'))\n",
    "    model.compile(loss='mean_squared_error', optimizer='adam')\n",
    "    return model "
   ]
  },
  {
   "cell_type": "code",
   "execution_count": 48,
   "metadata": {},
   "outputs": [],
   "source": [
    "seed = 7\n",
    "numpy.random.seed(seed)\n",
    "estimator = KerasRegressor(build_fn = larger_model, nb_epoch=100, batch_size=5, verbose=0)"
   ]
  },
  {
   "cell_type": "code",
   "execution_count": null,
   "metadata": {},
   "outputs": [],
   "source": [
    "# 위에 baseline 했던 것 처럼 한다 "
   ]
  },
  {
   "cell_type": "code",
   "execution_count": 49,
   "metadata": {},
   "outputs": [],
   "source": [
    "# 또다른 model 3 을 만든다 ( wider_model ) \n",
    "def wider_model():\n",
    "    model = Sequential()\n",
    "    model.add(Dense(20, input_dim=13, kernel_initializer='normal', activation='relu'))\n",
    "    model.add(Dense(1,kernel_initializer='normal'))\n",
    "    model.compile(loss='mean_squared_error', optimzer='adam')\n",
    "    return model "
   ]
  },
  {
   "cell_type": "code",
   "execution_count": 51,
   "metadata": {},
   "outputs": [
    {
     "data": {
      "text/plain": [
       "30.566603"
      ]
     },
     "execution_count": 51,
     "metadata": {},
     "output_type": "execute_result"
    }
   ],
   "source": [
    "pipeline.fit(X,Y)\n",
    "res = pipeline.predict(X)\n",
    "res[0]"
   ]
  },
  {
   "cell_type": "code",
   "execution_count": null,
   "metadata": {},
   "outputs": [],
   "source": [
    "#이것도 평가한다 "
   ]
  },
  {
   "cell_type": "code",
   "execution_count": null,
   "metadata": {},
   "outputs": [],
   "source": [
    "import numpy as np\n",
    "np.corrcoef(res,Y)"
   ]
  },
  {
   "cell_type": "code",
   "execution_count": null,
   "metadata": {},
   "outputs": [],
   "source": [
    "# 이렇게 만들면서 모델중 어떤 것이 좋은지 판단하는 것은 사람의 일이다. ( 상관계수 높은 것을 찾아낸다)  "
   ]
  },
  {
   "cell_type": "code",
   "execution_count": null,
   "metadata": {},
   "outputs": [],
   "source": []
  },
  {
   "cell_type": "code",
   "execution_count": null,
   "metadata": {},
   "outputs": [],
   "source": []
  },
  {
   "cell_type": "code",
   "execution_count": null,
   "metadata": {},
   "outputs": [],
   "source": []
  },
  {
   "cell_type": "code",
   "execution_count": null,
   "metadata": {},
   "outputs": [],
   "source": [
    "# 숙제\n",
    "# - iris.csv   로딩한 다음 분류망을 구성하시오 ( house 예측한 것 처럼 망을 구성해본다 ) \n",
    "# -  parameter tuning 을 구현하시오 ( pipeline 사용도 함께 )   # 일요일저녁까지 제출"
   ]
  }
 ],
 "metadata": {
  "kernelspec": {
   "display_name": "Python 3",
   "language": "python",
   "name": "python3"
  },
  "language_info": {
   "codemirror_mode": {
    "name": "ipython",
    "version": 3
   },
   "file_extension": ".py",
   "mimetype": "text/x-python",
   "name": "python",
   "nbconvert_exporter": "python",
   "pygments_lexer": "ipython3",
   "version": "3.7.4"
  }
 },
 "nbformat": 4,
 "nbformat_minor": 2
}
