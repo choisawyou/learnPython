{
 "cells": [
  {
   "cell_type": "markdown",
   "metadata": {},
   "source": [
    "# MLE 최대 우도 추정\n",
    "#https://datascienceschool.net/view-notebook/864a2cc43df44531be32e3fa48769501/\n",
    "#https://ratsgo.github.io/statistics/2017/09/23/MLE/"
   ]
  },
  {
   "cell_type": "code",
   "execution_count": 21,
   "metadata": {},
   "outputs": [
    {
     "name": "stdout",
     "output_type": "stream",
     "text": [
      "Extracting ./mnist/data/train-images-idx3-ubyte.gz\n",
      "Extracting ./mnist/data/train-labels-idx1-ubyte.gz\n",
      "Extracting ./mnist/data/t10k-images-idx3-ubyte.gz\n",
      "Extracting ./mnist/data/t10k-labels-idx1-ubyte.gz\n"
     ]
    }
   ],
   "source": [
    "import tensorflow as tf\n",
    "import matplotlib.pyplot as plt\n",
    "import numpy as np\n",
    "from tensorflow.examples.tutorials.mnist import input_data\n",
    "mnist = input_data.read_data_sets(\"./mnist/data/\",one_hot=True)"
   ]
  },
  {
   "cell_type": "code",
   "execution_count": 30,
   "metadata": {},
   "outputs": [],
   "source": [
    "total_epoch =100\n",
    "batch_size = 100\n",
    "learning_rate = 0.0002\n",
    "n_hidden = 256\n",
    "n_input = 28*28\n",
    "n_noise = 128\n",
    "X = tf.placeholder(tf.float32,[None,n_input]) #실제값\n",
    "Z = tf.placeholder(tf.float32,[None,n_noise]) #노이즈값"
   ]
  },
  {
   "cell_type": "code",
   "execution_count": 31,
   "metadata": {},
   "outputs": [],
   "source": [
    "#128x256\n",
    "G_W1 = tf.Variable(tf.random_normal([n_noise,n_hidden],stddev=0.01))\n",
    "G_b1 = tf.Variable(tf.zeros([n_hidden]))\n",
    "G_W2 = tf.Variable(tf.random_normal([n_hidden,n_input],stddev=0.01))\n",
    "G_b2 = tf.Variable(tf.zeros([n_input]))\n",
    "\n",
    "D_W1 = tf.Variable(tf.random_normal([n_input,n_hidden],stddev=0.01))\n",
    "D_b1 = tf.Variable(tf.zeros([n_hidden]))\n",
    "D_W2 = tf.Variable(tf.random_normal([n_hidden,1],stddev=0.01))\n",
    "D_b2 = tf.Variable(tf.zeros([1]))"
   ]
  },
  {
   "cell_type": "code",
   "execution_count": 32,
   "metadata": {},
   "outputs": [],
   "source": [
    "# 생성기와 판별기\n",
    "# cost function: 확률적 함수\n",
    "#지금까지 사용한것은 MSE, ENTROPY(분류일때)\n",
    "# KL - Divergence : GAN , VAE, - 분포의 차를 확인하는 함수 \n",
    "#생성기 -> noise가 input데이터 ,cost function : KL-Divergence\n",
    "\n",
    "\n",
    "def generator(noise_z): #noise : 128  x128\n",
    "    hidden =tf.nn.relu(tf.matmul(noise_z,G_W1) + G_b1)\n",
    "    output = tf.nn.sigmoid(tf.matmul(hidden,G_W2) + G_b2)\n",
    "    return output\n",
    "\n",
    "def discriminator(inputs):\n",
    "    hidden = tf.nn.relu(tf.matmul(inputs,D_W1) + D_b1)\n",
    "    output = tf.nn.sigmoid(tf.matmul(hidden,D_W2)+D_b2)\n",
    "    return  output\n",
    "\n",
    "def get_noise(batch_size,n_noise):\n",
    "    return np.random.normal(size = ( batch_size , n_noise))"
   ]
  },
  {
   "cell_type": "code",
   "execution_count": 33,
   "metadata": {},
   "outputs": [],
   "source": [
    "G = generator(Z) #노이즈 => 이미지 생성  \n",
    "D_gene = discriminator(G) # 노이즈로 부터 생성된 이미지를 판별 _ 판별의 의미: 분포를 확인한다\n",
    "D_real = discriminator(X) #실제 이미지의  분포를 확인\n",
    "\n",
    "\n",
    "#로그가 붙어있는 이유는 : 확률값을 구하는 것인데 확률에 log를 씌어주면 정보량 이다. \n",
    "#확률이 높아지면 정보량이 작아지고\n",
    "#확률이 낮아지면 정보량이 커짐  : tfidf의 논리를 고려할것\n",
    "#가장 적합한 분포 => 높은 것 유리 \n",
    "loss_D = tf.reduce_mean(tf.log(D_real) +tf.log(1-D_gene))\n",
    "loss_G = tf.reduce_mean(tf.log(D_gene)) #최대우도 추정법() - 적합한 분포를 찾아내는 것- 확률이 가장 높은 것 \n",
    "\n",
    "D_var_list = [D_W1,D_b1,D_W2,D_b2]\n",
    "G_var_list = [G_W1,G_b1,G_W2,G_b2]\n",
    "#최대화하기위해 -   #loss 에 마이너스 붙인것은 큰것을 찾아야하기때문\n",
    "train_D = tf.train.AdamOptimizer(learning_rate).minimize(-loss_D,var_list = D_var_list) #역전파 변수를 지정 \n",
    "train_G = tf.train.AdamOptimizer(learning_rate).minimize(-loss_G,var_list = G_var_list)\n",
    "%matplotlib inline\n",
    "sess = tf.Session()\n",
    "\n",
    "sess.run(tf.global_variables_initializer())\n",
    "total_batch = int(mnist.train.num_examples/batch_size)\n",
    "loss_val_D,loss_val_G =0,0"
   ]
  },
  {
   "cell_type": "code",
   "execution_count": 34,
   "metadata": {
    "scrolled": true
   },
   "outputs": [
    {
     "name": "stdout",
     "output_type": "stream",
     "text": [
      "Epoch : 0000 D loss:-0.3639432191848755 G loss: -2.1651804447174072\n",
      "Epoch : 0001 D loss:-0.3383620083332062 G loss: -2.353578567504883\n",
      "Epoch : 0002 D loss:-0.1635240912437439 G loss: -2.9644699096679688\n",
      "Epoch : 0003 D loss:-0.36817944049835205 G loss: -1.8570829629898071\n",
      "Epoch : 0004 D loss:-0.37713128328323364 G loss: -2.0835986137390137\n",
      "Epoch : 0005 D loss:-0.32829391956329346 G loss: -2.2202770709991455\n",
      "Epoch : 0006 D loss:-0.20435276627540588 G loss: -2.4840598106384277\n",
      "Epoch : 0007 D loss:-0.22250375151634216 G loss: -2.912736177444458\n",
      "Epoch : 0008 D loss:-0.5225299596786499 G loss: -2.3292386531829834\n",
      "Epoch : 0009 D loss:-0.5562026500701904 G loss: -1.9747810363769531\n",
      "Epoch : 0010 D loss:-0.29384762048721313 G loss: -2.561185598373413\n",
      "Epoch : 0011 D loss:-0.3025922477245331 G loss: -2.3101766109466553\n",
      "Epoch : 0012 D loss:-0.27663683891296387 G loss: -2.9050564765930176\n",
      "Epoch : 0013 D loss:-0.3629705011844635 G loss: -2.6720361709594727\n",
      "Epoch : 0014 D loss:-0.3529299199581146 G loss: -2.7716729640960693\n",
      "Epoch : 0015 D loss:-0.4898909032344818 G loss: -2.1308376789093018\n",
      "Epoch : 0016 D loss:-0.31539756059646606 G loss: -2.740055561065674\n",
      "Epoch : 0017 D loss:-0.5018498301506042 G loss: -2.562504768371582\n",
      "Epoch : 0018 D loss:-0.3964214324951172 G loss: -2.6758527755737305\n",
      "Epoch : 0019 D loss:-0.4041312038898468 G loss: -2.7964043617248535\n",
      "Epoch : 0020 D loss:-0.31809085607528687 G loss: -2.667215585708618\n",
      "Epoch : 0021 D loss:-0.4761994183063507 G loss: -2.8092730045318604\n",
      "Epoch : 0022 D loss:-0.44624412059783936 G loss: -2.3614096641540527\n",
      "Epoch : 0023 D loss:-0.4853724539279938 G loss: -2.4579622745513916\n",
      "Epoch : 0024 D loss:-0.38244351744651794 G loss: -2.3944356441497803\n",
      "Epoch : 0025 D loss:-0.5522160530090332 G loss: -2.374539375305176\n",
      "Epoch : 0026 D loss:-0.43268829584121704 G loss: -2.5066919326782227\n",
      "Epoch : 0027 D loss:-0.675020694732666 G loss: -2.078329563140869\n",
      "Epoch : 0028 D loss:-0.7653711438179016 G loss: -1.988836407661438\n",
      "Epoch : 0029 D loss:-0.47266101837158203 G loss: -2.206983804702759\n",
      "Epoch : 0030 D loss:-0.5670139789581299 G loss: -2.27510929107666\n",
      "Epoch : 0031 D loss:-0.6018195152282715 G loss: -2.3757331371307373\n",
      "Epoch : 0032 D loss:-0.5697883367538452 G loss: -2.503727436065674\n",
      "Epoch : 0033 D loss:-0.6076788306236267 G loss: -2.524238109588623\n",
      "Epoch : 0034 D loss:-0.63875812292099 G loss: -2.0743765830993652\n",
      "Epoch : 0035 D loss:-0.6454623341560364 G loss: -1.815049409866333\n",
      "Epoch : 0036 D loss:-0.5916157960891724 G loss: -2.0949106216430664\n",
      "Epoch : 0037 D loss:-0.6447498798370361 G loss: -2.0521929264068604\n",
      "Epoch : 0038 D loss:-0.5553125739097595 G loss: -2.1561620235443115\n",
      "Epoch : 0039 D loss:-0.7071559429168701 G loss: -2.1862447261810303\n",
      "Epoch : 0040 D loss:-0.7092288136482239 G loss: -2.10274600982666\n",
      "Epoch : 0041 D loss:-0.7516696453094482 G loss: -1.9123398065567017\n",
      "Epoch : 0042 D loss:-0.7005226016044617 G loss: -1.90323805809021\n",
      "Epoch : 0043 D loss:-0.7604529857635498 G loss: -1.9122748374938965\n",
      "Epoch : 0044 D loss:-0.6096360087394714 G loss: -1.9922007322311401\n",
      "Epoch : 0045 D loss:-0.8487827181816101 G loss: -1.9686704874038696\n",
      "Epoch : 0046 D loss:-0.7399775981903076 G loss: -1.9182984828948975\n",
      "Epoch : 0047 D loss:-0.8862666487693787 G loss: -1.8583574295043945\n",
      "Epoch : 0048 D loss:-0.8090059757232666 G loss: -2.110732316970825\n",
      "Epoch : 0049 D loss:-0.7989377379417419 G loss: -2.029998302459717\n",
      "Epoch : 0050 D loss:-0.8438567519187927 G loss: -1.7023730278015137\n",
      "Epoch : 0051 D loss:-0.7776502966880798 G loss: -1.8149292469024658\n",
      "Epoch : 0052 D loss:-0.7986881732940674 G loss: -1.9707496166229248\n",
      "Epoch : 0053 D loss:-1.0007996559143066 G loss: -1.9638688564300537\n",
      "Epoch : 0054 D loss:-0.6918089389801025 G loss: -1.8962724208831787\n",
      "Epoch : 0055 D loss:-0.7408568859100342 G loss: -1.848912000656128\n",
      "Epoch : 0056 D loss:-0.7624090313911438 G loss: -1.8749988079071045\n",
      "Epoch : 0057 D loss:-0.7482364177703857 G loss: -1.9282217025756836\n",
      "Epoch : 0058 D loss:-0.7559394836425781 G loss: -1.7348638772964478\n",
      "Epoch : 0059 D loss:-0.663502037525177 G loss: -1.956649899482727\n",
      "Epoch : 0060 D loss:-0.9737130999565125 G loss: -1.8011589050292969\n",
      "Epoch : 0061 D loss:-0.8279173374176025 G loss: -1.6536041498184204\n",
      "Epoch : 0062 D loss:-0.7806919813156128 G loss: -1.7881660461425781\n",
      "Epoch : 0063 D loss:-0.9881709218025208 G loss: -1.5764684677124023\n",
      "Epoch : 0064 D loss:-0.8883845806121826 G loss: -1.4839168787002563\n",
      "Epoch : 0065 D loss:-0.9376891851425171 G loss: -1.4742727279663086\n",
      "Epoch : 0066 D loss:-0.8846135139465332 G loss: -1.772501826286316\n",
      "Epoch : 0067 D loss:-0.8326530456542969 G loss: -1.8207883834838867\n",
      "Epoch : 0068 D loss:-0.8189241290092468 G loss: -1.7346715927124023\n",
      "Epoch : 0069 D loss:-0.6343933343887329 G loss: -1.8525323867797852\n",
      "Epoch : 0070 D loss:-0.9776614904403687 G loss: -1.6375906467437744\n",
      "Epoch : 0071 D loss:-0.7417283058166504 G loss: -1.7821813821792603\n",
      "Epoch : 0072 D loss:-0.7837803363800049 G loss: -1.8315640687942505\n",
      "Epoch : 0073 D loss:-0.8298824429512024 G loss: -1.5812592506408691\n",
      "Epoch : 0074 D loss:-0.7910911440849304 G loss: -1.7532377243041992\n",
      "Epoch : 0075 D loss:-0.8715643882751465 G loss: -1.803499460220337\n",
      "Epoch : 0076 D loss:-0.8779101371765137 G loss: -1.5385721921920776\n",
      "Epoch : 0077 D loss:-0.8433067202568054 G loss: -1.62632155418396\n",
      "Epoch : 0078 D loss:-0.8638942241668701 G loss: -1.7116386890411377\n",
      "Epoch : 0079 D loss:-0.8373655676841736 G loss: -1.7387233972549438\n",
      "Epoch : 0080 D loss:-0.7560838460922241 G loss: -1.9961819648742676\n",
      "Epoch : 0081 D loss:-0.8205420970916748 G loss: -1.7411073446273804\n",
      "Epoch : 0082 D loss:-0.8380298018455505 G loss: -1.7447707653045654\n",
      "Epoch : 0083 D loss:-0.6552081108093262 G loss: -1.743552803993225\n",
      "Epoch : 0084 D loss:-0.8190092444419861 G loss: -1.6280354261398315\n",
      "Epoch : 0085 D loss:-0.8401846289634705 G loss: -1.621728777885437\n",
      "Epoch : 0086 D loss:-0.8661768436431885 G loss: -1.7205277681350708\n",
      "Epoch : 0087 D loss:-0.9883059859275818 G loss: -1.632867455482483\n",
      "Epoch : 0088 D loss:-0.7325518131256104 G loss: -1.7218164205551147\n",
      "Epoch : 0089 D loss:-0.8257855772972107 G loss: -1.6764628887176514\n",
      "Epoch : 0090 D loss:-0.8332255482673645 G loss: -1.7946228981018066\n",
      "Epoch : 0091 D loss:-0.8438465595245361 G loss: -1.6940340995788574\n",
      "Epoch : 0092 D loss:-0.8535821437835693 G loss: -1.7237143516540527\n",
      "Epoch : 0093 D loss:-0.7668625116348267 G loss: -1.8512612581253052\n",
      "Epoch : 0094 D loss:-0.7671175599098206 G loss: -1.6609680652618408\n",
      "Epoch : 0095 D loss:-0.7949030995368958 G loss: -1.83805513381958\n",
      "Epoch : 0096 D loss:-0.7966050505638123 G loss: -1.613059639930725\n",
      "Epoch : 0097 D loss:-0.6694378852844238 G loss: -1.8532992601394653\n",
      "Epoch : 0098 D loss:-0.7812110781669617 G loss: -1.9268882274627686\n",
      "Epoch : 0099 D loss:-0.7512330412864685 G loss: -1.7161937952041626\n",
      "최적화 완료\n"
     ]
    }
   ],
   "source": [
    "#  이미지 분포와  특징을 출출하는 망이다 \n",
    "for epoch in range(total_epoch):\n",
    "    for i in range(total_batch):\n",
    "        batch_xs,batch_ys = mnist.train.next_batch(batch_size)\n",
    "        noise = get_noise(batch_size,n_noise) #n noise 128  줬다 위에서\n",
    "        #실제 이미지 분포 \n",
    "        _,loss_val_D = sess.run([train_D,loss_D],feed_dict ={X:batch_xs, Z:noise})\n",
    "        # 이미지 생성 128x128\n",
    "        _,loss_val_G = sess.run([train_G,loss_G],feed_dict = {Z: noise})\n",
    "        \n",
    "    print('Epoch :','%04d' % epoch, \n",
    "         'D loss:{:4}'.format(loss_val_D),\n",
    "         'G loss: {:4}'.format(loss_val_G))\n",
    "    if epoch ==0 or (epoch+1)%10==0:\n",
    "        sample_size = 10 \n",
    "        #노이즈로부터 이미지 생성 : 가중치곱해서 나온 generatoir가 이미지 특징을 잡고있다가 노이즈로부터 생성\n",
    "        noise = get_noise(sample_size,n_noise) #10 x128\n",
    "        samples = sess.run(G,feed_dict={Z:noise})\n",
    "        fig,ax = plt.subplots(1,sample_size,figsize = (sample_size,1))\n",
    "        for i in range(sample_size):\n",
    "            ax[i].set_axis_off() # 128 : 784이미지 사이즈로 생성\n",
    "            ax[i].imshow(np.reshape(samples[i],(28,28))) #샘플스를 28x28로  \n",
    "        plt.savefig('samples/{}.png'.format(str(epoch).zfill(3)),\n",
    "                   bbpx_inches ='tight')\n",
    "        plt.close(fig)\n",
    "print('최적화 완료')"
   ]
  },
  {
   "cell_type": "code",
   "execution_count": null,
   "metadata": {},
   "outputs": [],
   "source": [
    "\n",
    "#  "
   ]
  },
  {
   "cell_type": "code",
   "execution_count": null,
   "metadata": {},
   "outputs": [],
   "source": []
  },
  {
   "cell_type": "code",
   "execution_count": null,
   "metadata": {},
   "outputs": [],
   "source": []
  },
  {
   "cell_type": "code",
   "execution_count": null,
   "metadata": {},
   "outputs": [],
   "source": []
  },
  {
   "cell_type": "code",
   "execution_count": null,
   "metadata": {},
   "outputs": [],
   "source": []
  },
  {
   "cell_type": "code",
   "execution_count": null,
   "metadata": {},
   "outputs": [],
   "source": []
  },
  {
   "cell_type": "code",
   "execution_count": null,
   "metadata": {},
   "outputs": [],
   "source": []
  },
  {
   "cell_type": "code",
   "execution_count": null,
   "metadata": {},
   "outputs": [],
   "source": []
  },
  {
   "cell_type": "code",
   "execution_count": null,
   "metadata": {},
   "outputs": [],
   "source": []
  },
  {
   "cell_type": "code",
   "execution_count": null,
   "metadata": {},
   "outputs": [],
   "source": []
  },
  {
   "cell_type": "code",
   "execution_count": null,
   "metadata": {},
   "outputs": [],
   "source": []
  },
  {
   "cell_type": "code",
   "execution_count": null,
   "metadata": {},
   "outputs": [],
   "source": []
  },
  {
   "cell_type": "code",
   "execution_count": null,
   "metadata": {},
   "outputs": [],
   "source": []
  },
  {
   "cell_type": "code",
   "execution_count": null,
   "metadata": {},
   "outputs": [],
   "source": []
  },
  {
   "cell_type": "code",
   "execution_count": null,
   "metadata": {},
   "outputs": [],
   "source": []
  },
  {
   "cell_type": "code",
   "execution_count": null,
   "metadata": {},
   "outputs": [],
   "source": []
  },
  {
   "cell_type": "code",
   "execution_count": null,
   "metadata": {},
   "outputs": [],
   "source": []
  },
  {
   "cell_type": "code",
   "execution_count": null,
   "metadata": {},
   "outputs": [],
   "source": []
  },
  {
   "cell_type": "code",
   "execution_count": null,
   "metadata": {},
   "outputs": [],
   "source": []
  },
  {
   "cell_type": "code",
   "execution_count": null,
   "metadata": {},
   "outputs": [],
   "source": []
  },
  {
   "cell_type": "code",
   "execution_count": null,
   "metadata": {},
   "outputs": [],
   "source": []
  },
  {
   "cell_type": "code",
   "execution_count": null,
   "metadata": {},
   "outputs": [],
   "source": []
  },
  {
   "cell_type": "code",
   "execution_count": null,
   "metadata": {},
   "outputs": [],
   "source": []
  },
  {
   "cell_type": "code",
   "execution_count": null,
   "metadata": {},
   "outputs": [],
   "source": []
  },
  {
   "cell_type": "code",
   "execution_count": null,
   "metadata": {},
   "outputs": [],
   "source": []
  },
  {
   "cell_type": "code",
   "execution_count": null,
   "metadata": {},
   "outputs": [],
   "source": []
  },
  {
   "cell_type": "code",
   "execution_count": null,
   "metadata": {},
   "outputs": [],
   "source": []
  },
  {
   "cell_type": "code",
   "execution_count": null,
   "metadata": {},
   "outputs": [],
   "source": []
  },
  {
   "cell_type": "code",
   "execution_count": null,
   "metadata": {},
   "outputs": [],
   "source": []
  },
  {
   "cell_type": "code",
   "execution_count": null,
   "metadata": {},
   "outputs": [],
   "source": []
  },
  {
   "cell_type": "code",
   "execution_count": null,
   "metadata": {},
   "outputs": [],
   "source": []
  },
  {
   "cell_type": "code",
   "execution_count": null,
   "metadata": {},
   "outputs": [],
   "source": []
  },
  {
   "cell_type": "code",
   "execution_count": null,
   "metadata": {},
   "outputs": [],
   "source": []
  },
  {
   "cell_type": "code",
   "execution_count": null,
   "metadata": {},
   "outputs": [],
   "source": []
  },
  {
   "cell_type": "code",
   "execution_count": null,
   "metadata": {},
   "outputs": [],
   "source": []
  },
  {
   "cell_type": "code",
   "execution_count": null,
   "metadata": {},
   "outputs": [],
   "source": []
  },
  {
   "cell_type": "code",
   "execution_count": null,
   "metadata": {},
   "outputs": [],
   "source": []
  },
  {
   "cell_type": "code",
   "execution_count": null,
   "metadata": {},
   "outputs": [],
   "source": []
  },
  {
   "cell_type": "code",
   "execution_count": null,
   "metadata": {},
   "outputs": [],
   "source": []
  },
  {
   "cell_type": "code",
   "execution_count": null,
   "metadata": {},
   "outputs": [],
   "source": []
  },
  {
   "cell_type": "code",
   "execution_count": null,
   "metadata": {},
   "outputs": [],
   "source": []
  },
  {
   "cell_type": "code",
   "execution_count": null,
   "metadata": {},
   "outputs": [],
   "source": []
  },
  {
   "cell_type": "code",
   "execution_count": null,
   "metadata": {},
   "outputs": [],
   "source": []
  },
  {
   "cell_type": "code",
   "execution_count": null,
   "metadata": {},
   "outputs": [],
   "source": []
  },
  {
   "cell_type": "code",
   "execution_count": null,
   "metadata": {},
   "outputs": [],
   "source": []
  },
  {
   "cell_type": "code",
   "execution_count": null,
   "metadata": {},
   "outputs": [],
   "source": []
  },
  {
   "cell_type": "code",
   "execution_count": null,
   "metadata": {},
   "outputs": [],
   "source": []
  },
  {
   "cell_type": "code",
   "execution_count": null,
   "metadata": {},
   "outputs": [],
   "source": []
  },
  {
   "cell_type": "code",
   "execution_count": null,
   "metadata": {},
   "outputs": [],
   "source": []
  },
  {
   "cell_type": "code",
   "execution_count": null,
   "metadata": {},
   "outputs": [],
   "source": []
  },
  {
   "cell_type": "code",
   "execution_count": null,
   "metadata": {},
   "outputs": [],
   "source": []
  },
  {
   "cell_type": "code",
   "execution_count": null,
   "metadata": {},
   "outputs": [],
   "source": []
  },
  {
   "cell_type": "code",
   "execution_count": null,
   "metadata": {},
   "outputs": [],
   "source": []
  },
  {
   "cell_type": "code",
   "execution_count": null,
   "metadata": {},
   "outputs": [],
   "source": []
  },
  {
   "cell_type": "code",
   "execution_count": null,
   "metadata": {},
   "outputs": [],
   "source": []
  },
  {
   "cell_type": "code",
   "execution_count": null,
   "metadata": {},
   "outputs": [],
   "source": []
  },
  {
   "cell_type": "code",
   "execution_count": null,
   "metadata": {},
   "outputs": [],
   "source": []
  },
  {
   "cell_type": "code",
   "execution_count": null,
   "metadata": {},
   "outputs": [],
   "source": []
  },
  {
   "cell_type": "code",
   "execution_count": null,
   "metadata": {},
   "outputs": [],
   "source": []
  },
  {
   "cell_type": "code",
   "execution_count": null,
   "metadata": {},
   "outputs": [],
   "source": []
  },
  {
   "cell_type": "code",
   "execution_count": null,
   "metadata": {},
   "outputs": [],
   "source": []
  },
  {
   "cell_type": "code",
   "execution_count": null,
   "metadata": {},
   "outputs": [],
   "source": []
  },
  {
   "cell_type": "code",
   "execution_count": null,
   "metadata": {},
   "outputs": [],
   "source": []
  },
  {
   "cell_type": "code",
   "execution_count": null,
   "metadata": {},
   "outputs": [],
   "source": []
  },
  {
   "cell_type": "code",
   "execution_count": null,
   "metadata": {},
   "outputs": [],
   "source": []
  },
  {
   "cell_type": "code",
   "execution_count": null,
   "metadata": {},
   "outputs": [],
   "source": []
  },
  {
   "cell_type": "code",
   "execution_count": null,
   "metadata": {},
   "outputs": [],
   "source": []
  },
  {
   "cell_type": "code",
   "execution_count": null,
   "metadata": {},
   "outputs": [],
   "source": []
  },
  {
   "cell_type": "code",
   "execution_count": null,
   "metadata": {},
   "outputs": [],
   "source": []
  },
  {
   "cell_type": "code",
   "execution_count": null,
   "metadata": {},
   "outputs": [],
   "source": []
  },
  {
   "cell_type": "code",
   "execution_count": null,
   "metadata": {},
   "outputs": [],
   "source": []
  },
  {
   "cell_type": "code",
   "execution_count": null,
   "metadata": {},
   "outputs": [],
   "source": []
  },
  {
   "cell_type": "code",
   "execution_count": null,
   "metadata": {},
   "outputs": [],
   "source": []
  },
  {
   "cell_type": "code",
   "execution_count": null,
   "metadata": {},
   "outputs": [],
   "source": []
  },
  {
   "cell_type": "code",
   "execution_count": null,
   "metadata": {},
   "outputs": [],
   "source": []
  },
  {
   "cell_type": "code",
   "execution_count": null,
   "metadata": {},
   "outputs": [],
   "source": []
  },
  {
   "cell_type": "code",
   "execution_count": null,
   "metadata": {},
   "outputs": [],
   "source": []
  },
  {
   "cell_type": "code",
   "execution_count": null,
   "metadata": {},
   "outputs": [],
   "source": []
  },
  {
   "cell_type": "code",
   "execution_count": null,
   "metadata": {},
   "outputs": [],
   "source": []
  },
  {
   "cell_type": "code",
   "execution_count": null,
   "metadata": {},
   "outputs": [],
   "source": []
  },
  {
   "cell_type": "code",
   "execution_count": null,
   "metadata": {},
   "outputs": [],
   "source": []
  },
  {
   "cell_type": "code",
   "execution_count": null,
   "metadata": {},
   "outputs": [],
   "source": []
  },
  {
   "cell_type": "code",
   "execution_count": null,
   "metadata": {},
   "outputs": [],
   "source": []
  },
  {
   "cell_type": "code",
   "execution_count": null,
   "metadata": {},
   "outputs": [],
   "source": []
  },
  {
   "cell_type": "code",
   "execution_count": null,
   "metadata": {},
   "outputs": [],
   "source": []
  },
  {
   "cell_type": "code",
   "execution_count": null,
   "metadata": {},
   "outputs": [],
   "source": []
  },
  {
   "cell_type": "code",
   "execution_count": null,
   "metadata": {},
   "outputs": [],
   "source": []
  },
  {
   "cell_type": "code",
   "execution_count": null,
   "metadata": {},
   "outputs": [],
   "source": []
  },
  {
   "cell_type": "code",
   "execution_count": null,
   "metadata": {},
   "outputs": [],
   "source": []
  },
  {
   "cell_type": "code",
   "execution_count": null,
   "metadata": {},
   "outputs": [],
   "source": []
  },
  {
   "cell_type": "code",
   "execution_count": null,
   "metadata": {},
   "outputs": [],
   "source": []
  },
  {
   "cell_type": "code",
   "execution_count": null,
   "metadata": {},
   "outputs": [],
   "source": []
  },
  {
   "cell_type": "code",
   "execution_count": null,
   "metadata": {},
   "outputs": [],
   "source": []
  },
  {
   "cell_type": "code",
   "execution_count": null,
   "metadata": {},
   "outputs": [],
   "source": []
  },
  {
   "cell_type": "code",
   "execution_count": null,
   "metadata": {},
   "outputs": [],
   "source": []
  },
  {
   "cell_type": "code",
   "execution_count": null,
   "metadata": {},
   "outputs": [],
   "source": []
  },
  {
   "cell_type": "code",
   "execution_count": null,
   "metadata": {},
   "outputs": [],
   "source": []
  },
  {
   "cell_type": "code",
   "execution_count": null,
   "metadata": {},
   "outputs": [],
   "source": []
  },
  {
   "cell_type": "code",
   "execution_count": null,
   "metadata": {},
   "outputs": [],
   "source": []
  },
  {
   "cell_type": "code",
   "execution_count": null,
   "metadata": {},
   "outputs": [],
   "source": []
  },
  {
   "cell_type": "code",
   "execution_count": null,
   "metadata": {},
   "outputs": [],
   "source": []
  },
  {
   "cell_type": "code",
   "execution_count": null,
   "metadata": {},
   "outputs": [],
   "source": []
  },
  {
   "cell_type": "code",
   "execution_count": null,
   "metadata": {},
   "outputs": [],
   "source": []
  },
  {
   "cell_type": "code",
   "execution_count": null,
   "metadata": {},
   "outputs": [],
   "source": []
  },
  {
   "cell_type": "code",
   "execution_count": null,
   "metadata": {},
   "outputs": [],
   "source": []
  },
  {
   "cell_type": "code",
   "execution_count": null,
   "metadata": {},
   "outputs": [],
   "source": []
  },
  {
   "cell_type": "code",
   "execution_count": null,
   "metadata": {},
   "outputs": [],
   "source": []
  },
  {
   "cell_type": "code",
   "execution_count": null,
   "metadata": {},
   "outputs": [],
   "source": []
  },
  {
   "cell_type": "code",
   "execution_count": null,
   "metadata": {},
   "outputs": [],
   "source": []
  },
  {
   "cell_type": "code",
   "execution_count": null,
   "metadata": {},
   "outputs": [],
   "source": []
  },
  {
   "cell_type": "code",
   "execution_count": null,
   "metadata": {},
   "outputs": [],
   "source": []
  },
  {
   "cell_type": "code",
   "execution_count": null,
   "metadata": {},
   "outputs": [],
   "source": []
  },
  {
   "cell_type": "code",
   "execution_count": null,
   "metadata": {},
   "outputs": [],
   "source": []
  },
  {
   "cell_type": "code",
   "execution_count": null,
   "metadata": {},
   "outputs": [],
   "source": []
  },
  {
   "cell_type": "code",
   "execution_count": null,
   "metadata": {},
   "outputs": [],
   "source": []
  },
  {
   "cell_type": "code",
   "execution_count": null,
   "metadata": {},
   "outputs": [],
   "source": []
  },
  {
   "cell_type": "code",
   "execution_count": null,
   "metadata": {},
   "outputs": [],
   "source": []
  },
  {
   "cell_type": "code",
   "execution_count": null,
   "metadata": {},
   "outputs": [],
   "source": []
  },
  {
   "cell_type": "code",
   "execution_count": null,
   "metadata": {},
   "outputs": [],
   "source": []
  }
 ],
 "metadata": {
  "kernelspec": {
   "display_name": "Python 3",
   "language": "python",
   "name": "python3"
  },
  "language_info": {
   "codemirror_mode": {
    "name": "ipython",
    "version": 3
   },
   "file_extension": ".py",
   "mimetype": "text/x-python",
   "name": "python",
   "nbconvert_exporter": "python",
   "pygments_lexer": "ipython3",
   "version": "3.7.6"
  }
 },
 "nbformat": 4,
 "nbformat_minor": 4
}
