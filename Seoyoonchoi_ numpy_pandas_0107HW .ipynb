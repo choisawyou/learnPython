{
 "cells": [
  {
   "cell_type": "markdown",
   "metadata": {},
   "source": [
    "# HW  1\n",
    "- 서울 소재 10개 대학의 좌표를 지도에출력해보시오"
   ]
  },
  {
   "cell_type": "code",
   "execution_count": 1,
   "metadata": {},
   "outputs": [
    {
     "data": {
      "text/html": [
       "<div style=\"width:100%;\"><div style=\"position:relative;width:100%;height:0;padding-bottom:60%;\"><iframe src=\"data:text/html;charset=utf-8;base64,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\" style=\"position:absolute;width:100%;height:100%;left:0;top:0;border:none !important;\" allowfullscreen webkitallowfullscreen mozallowfullscreen></iframe></div></div>"
      ],
      "text/plain": [
       "<folium.folium.Map at 0x1ae3b97c9c8>"
      ]
     },
     "execution_count": 1,
     "metadata": {},
     "output_type": "execute_result"
    }
   ],
   "source": [
    "import folium\n",
    "seoul=[37.460031, 126.951911]\n",
    "hanyang=[37.566461, 127.044850]\n",
    "skk=[37.588457, 126.993595]\n",
    "seogang=[37.551225, 126.941013]\n",
    "yeonse=[37.565997, 126.938175]\n",
    "korea=[37.591046, 127.027885]\n",
    "chungang=[37.505318, 126.957112]\n",
    "ehwa=[37.560003, 126.945469]\n",
    "kyunghee=[37.596391, 127.052587]\n",
    "smu=[37.546560, 126.964831]\n",
    "\n",
    "map_college =folium.Map(location =[37.565711,126.978090],zoom_start =12   )\n",
    "\n",
    "\n",
    "folium.Marker(seoul,popup='서울대학교',icon = folium.Icon(icon='flag')).add_to(map_college)\n",
    "folium.Marker(hanyang,popup='한양대학교',icon = folium.Icon(icon='flag')).add_to(map_college)\n",
    "folium.Marker(skk,popup='성균관대학교',icon = folium.Icon(icon='flag')).add_to(map_college)\n",
    "folium.Marker(seogang,popup='서강대학교',icon = folium.Icon(icon='flag')).add_to(map_college)\n",
    "folium.Marker(yeonse,popup='연세대학교',icon = folium.Icon(icon='flag')).add_to(map_college)\n",
    "folium.Marker(korea,popup='고려대학교',icon = folium.Icon(icon='flag')).add_to(map_college)\n",
    "folium.Marker(chungang,popup='중앙대학교',icon = folium.Icon(icon='flag')).add_to(map_college)\n",
    "folium.Marker(ehwa,popup='이화여자대학교',icon = folium.Icon(icon='flag')).add_to(map_college)\n",
    "folium.Marker(kyunghee,popup='경희대학교',icon = folium.Icon(icon='flag')).add_to(map_college)\n",
    "folium.Marker(smu,popup='숙명여자대학교',icon = folium.Icon(icon='flag')).add_to(map_college)\n",
    "map_college\n",
    "\n"
   ]
  },
  {
   "cell_type": "markdown",
   "metadata": {},
   "source": [
    "# HW 2\n",
    "- 문제 : '2015-2018' 증가율을 %로  변경하시오\n",
    "- 문제 : 2015 -2017의 증가율을 구해서 변수를 추가하시오\n"
   ]
  },
  {
   "cell_type": "code",
   "execution_count": 10,
   "metadata": {},
   "outputs": [],
   "source": [
    "#문제 다음 데이터를 데이터프레임에 저장하시요\n",
    "\n",
    "#         지역  \n",
    "#                  2018 2017   2016   2015   2015-2018 증가율\n",
    "# 서울 수도권  9904312 9631482 9762546 9853972    0.0283\n",
    "# 부산 경상권  3448737 3393191 3512547 3655437    0.0163\n",
    "# 인천 수도권  2890451 2632035 2517680 2466338    0.0982\n",
    "# 대구 경상권  2466052 2431774 2456016 2473990    0.0141 \n",
    "\n",
    "roc = ['지역','2018','2017','2016''2015','2015-2018 증가율']\n",
    "ind = ['서울','부산','인천','대구']\n"
   ]
  },
  {
   "cell_type": "code",
   "execution_count": 11,
   "metadata": {},
   "outputs": [],
   "source": [
    "import pandas as pd\n",
    "\n",
    "c ={'지역':['수도권','경상권','수도권','경상권'],\n",
    "   '2018':[9904312,3448737,2890451,2466052],\n",
    "   '2017':[9631482,3393191,2632035,2431774],\n",
    "   '2016':[9762546,3512547,2517680,2456016],\n",
    "    '2015':[9853972,3655437,2466338,2473990],\n",
    "    '2015-2017 증가율':[0.0283,0.0163,0.0982,0.0141]}\n",
    "\n",
    "\n",
    "df =pd.DataFrame(c,columns= ['지역','2018','2017','2016','2015','2015-2017 증가율'], index=['서울','부산','인천','대구'])"
   ]
  },
  {
   "cell_type": "code",
   "execution_count": 12,
   "metadata": {},
   "outputs": [
    {
     "data": {
      "text/html": [
       "<div>\n",
       "<style scoped>\n",
       "    .dataframe tbody tr th:only-of-type {\n",
       "        vertical-align: middle;\n",
       "    }\n",
       "\n",
       "    .dataframe tbody tr th {\n",
       "        vertical-align: top;\n",
       "    }\n",
       "\n",
       "    .dataframe thead th {\n",
       "        text-align: right;\n",
       "    }\n",
       "</style>\n",
       "<table border=\"1\" class=\"dataframe\">\n",
       "  <thead>\n",
       "    <tr style=\"text-align: right;\">\n",
       "      <th></th>\n",
       "      <th>지역</th>\n",
       "      <th>2018</th>\n",
       "      <th>2017</th>\n",
       "      <th>2016</th>\n",
       "      <th>2015</th>\n",
       "      <th>2015-2017 증가율</th>\n",
       "    </tr>\n",
       "  </thead>\n",
       "  <tbody>\n",
       "    <tr>\n",
       "      <td>서울</td>\n",
       "      <td>수도권</td>\n",
       "      <td>9904312</td>\n",
       "      <td>9631482</td>\n",
       "      <td>9762546</td>\n",
       "      <td>9853972</td>\n",
       "      <td>0.0283</td>\n",
       "    </tr>\n",
       "    <tr>\n",
       "      <td>부산</td>\n",
       "      <td>경상권</td>\n",
       "      <td>3448737</td>\n",
       "      <td>3393191</td>\n",
       "      <td>3512547</td>\n",
       "      <td>3655437</td>\n",
       "      <td>0.0163</td>\n",
       "    </tr>\n",
       "    <tr>\n",
       "      <td>인천</td>\n",
       "      <td>수도권</td>\n",
       "      <td>2890451</td>\n",
       "      <td>2632035</td>\n",
       "      <td>2517680</td>\n",
       "      <td>2466338</td>\n",
       "      <td>0.0982</td>\n",
       "    </tr>\n",
       "    <tr>\n",
       "      <td>대구</td>\n",
       "      <td>경상권</td>\n",
       "      <td>2466052</td>\n",
       "      <td>2431774</td>\n",
       "      <td>2456016</td>\n",
       "      <td>2473990</td>\n",
       "      <td>0.0141</td>\n",
       "    </tr>\n",
       "  </tbody>\n",
       "</table>\n",
       "</div>"
      ],
      "text/plain": [
       "     지역     2018     2017     2016     2015  2015-2017 증가율\n",
       "서울  수도권  9904312  9631482  9762546  9853972         0.0283\n",
       "부산  경상권  3448737  3393191  3512547  3655437         0.0163\n",
       "인천  수도권  2890451  2632035  2517680  2466338         0.0982\n",
       "대구  경상권  2466052  2431774  2456016  2473990         0.0141"
      ]
     },
     "execution_count": 12,
     "metadata": {},
     "output_type": "execute_result"
    }
   ],
   "source": [
    "df"
   ]
  },
  {
   "cell_type": "code",
   "execution_count": 13,
   "metadata": {},
   "outputs": [],
   "source": [
    "df['2015-2017 증가율'] =df['2015-2017 증가율'] * 100"
   ]
  },
  {
   "cell_type": "code",
   "execution_count": 14,
   "metadata": {},
   "outputs": [
    {
     "data": {
      "text/html": [
       "<div>\n",
       "<style scoped>\n",
       "    .dataframe tbody tr th:only-of-type {\n",
       "        vertical-align: middle;\n",
       "    }\n",
       "\n",
       "    .dataframe tbody tr th {\n",
       "        vertical-align: top;\n",
       "    }\n",
       "\n",
       "    .dataframe thead th {\n",
       "        text-align: right;\n",
       "    }\n",
       "</style>\n",
       "<table border=\"1\" class=\"dataframe\">\n",
       "  <thead>\n",
       "    <tr style=\"text-align: right;\">\n",
       "      <th></th>\n",
       "      <th>지역</th>\n",
       "      <th>2018</th>\n",
       "      <th>2017</th>\n",
       "      <th>2016</th>\n",
       "      <th>2015</th>\n",
       "      <th>2015-2017 증가율</th>\n",
       "    </tr>\n",
       "  </thead>\n",
       "  <tbody>\n",
       "    <tr>\n",
       "      <td>서울</td>\n",
       "      <td>수도권</td>\n",
       "      <td>9904312</td>\n",
       "      <td>9631482</td>\n",
       "      <td>9762546</td>\n",
       "      <td>9853972</td>\n",
       "      <td>2.83</td>\n",
       "    </tr>\n",
       "    <tr>\n",
       "      <td>부산</td>\n",
       "      <td>경상권</td>\n",
       "      <td>3448737</td>\n",
       "      <td>3393191</td>\n",
       "      <td>3512547</td>\n",
       "      <td>3655437</td>\n",
       "      <td>1.63</td>\n",
       "    </tr>\n",
       "    <tr>\n",
       "      <td>인천</td>\n",
       "      <td>수도권</td>\n",
       "      <td>2890451</td>\n",
       "      <td>2632035</td>\n",
       "      <td>2517680</td>\n",
       "      <td>2466338</td>\n",
       "      <td>9.82</td>\n",
       "    </tr>\n",
       "    <tr>\n",
       "      <td>대구</td>\n",
       "      <td>경상권</td>\n",
       "      <td>2466052</td>\n",
       "      <td>2431774</td>\n",
       "      <td>2456016</td>\n",
       "      <td>2473990</td>\n",
       "      <td>1.41</td>\n",
       "    </tr>\n",
       "  </tbody>\n",
       "</table>\n",
       "</div>"
      ],
      "text/plain": [
       "     지역     2018     2017     2016     2015  2015-2017 증가율\n",
       "서울  수도권  9904312  9631482  9762546  9853972           2.83\n",
       "부산  경상권  3448737  3393191  3512547  3655437           1.63\n",
       "인천  수도권  2890451  2632035  2517680  2466338           9.82\n",
       "대구  경상권  2466052  2431774  2456016  2473990           1.41"
      ]
     },
     "execution_count": 14,
     "metadata": {},
     "output_type": "execute_result"
    }
   ],
   "source": [
    "df"
   ]
  },
  {
   "cell_type": "code",
   "execution_count": 15,
   "metadata": {},
   "outputs": [],
   "source": [
    "df['2015-2017 증가율'] =(df['2017']-df['2015'])/df['2015']"
   ]
  },
  {
   "cell_type": "code",
   "execution_count": null,
   "metadata": {},
   "outputs": [],
   "source": [
    "df"
   ]
  }
 ],
 "metadata": {
  "kernelspec": {
   "display_name": "Python 3",
   "language": "python",
   "name": "python3"
  },
  "language_info": {
   "codemirror_mode": {
    "name": "ipython",
    "version": 3
   },
   "file_extension": ".py",
   "mimetype": "text/x-python",
   "name": "python",
   "nbconvert_exporter": "python",
   "pygments_lexer": "ipython3",
   "version": "3.7.4"
  }
 },
 "nbformat": 4,
 "nbformat_minor": 2
}
