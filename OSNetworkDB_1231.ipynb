{
 "cells": [
  {
   "cell_type": "markdown",
   "metadata": {},
   "source": [
    "# Linux"
   ]
  },
  {
   "cell_type": "markdown",
   "metadata": {},
   "source": [
    "-linux : maridb, 서버 관리자가 적다 \n",
    "\n",
    "-서비스 제공을 제어 : systemctl\n",
    "    systemctl get-default :graphic mode(GUI :Graphic User Interface)\n",
    "            :text mode() - 서버가 서비스를 제공\n",
    "            \n",
    "-보안 : firewall - cmd - firewall 방화벽\n",
    "\n",
    "-ip.port 포트번호는  막혀있음\n",
    "firewall-cmd--permanent -- zone = public --add-port = 3306/top  #이렇게하면 포트 개방\n",
    " \n",
    " HeidSQL :원격으로 mariadb 접속 작업\n",
    " \n",
    "\n",
    "#텍스트모드 : vi편집기\n",
    "-명령모드(esc키) 커서가 있는 곳에서 dd를 누르면 한줄 삭제 , yy는 한줄 복사 , p는 붙여넣기\n",
    "-입력모드 i,a,o 누르면 입력모드\n",
    "-마지막행 모드(':' +명령어)  :w 저장 , :q 저장하지않고 종료 "
   ]
  },
  {
   "cell_type": "markdown",
   "metadata": {},
   "source": [
    "# 설치 링크"
   ]
  },
  {
   "cell_type": "markdown",
   "metadata": {},
   "source": [
    "virtual box -윈도우 상에서  새로운 가상 머신을 설치할 수 있도록\n",
    "https://www.virtualbox.org/wiki/Downloads\n",
    "\n",
    "Oracle_VM_VirtualBox_Extension_Pack-6.1.0.vbox-extpack\n",
    "orcale vm virtualbox - virtual box 화면제어\n",
    "\n",
    "cent os - 서버용 리눅스\n",
    "http://isoredirect.centos.org/centos/8/isos/x86_64/CentOS-8-x86_64-1905-dvd1.iso\n",
    "\n",
    "heidisql - 리눅스에 설치되어지는 마리아 db를 원격으로 제어\n",
    "https://www.heidisql.com/download.php\n",
    "\n",
    "putty-원격으로 리눅스 제어 \n",
    "-쌤이 메일로 보내줌\n"
   ]
  }
 ],
 "metadata": {
  "kernelspec": {
   "display_name": "Python 3",
   "language": "python",
   "name": "python3"
  },
  "language_info": {
   "codemirror_mode": {
    "name": "ipython",
    "version": 3
   },
   "file_extension": ".py",
   "mimetype": "text/x-python",
   "name": "python",
   "nbconvert_exporter": "python",
   "pygments_lexer": "ipython3",
   "version": "3.7.4"
  }
 },
 "nbformat": 4,
 "nbformat_minor": 2
}
