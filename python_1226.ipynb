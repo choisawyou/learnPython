{
 "cells": [
  {
   "cell_type": "code",
   "execution_count": null,
   "metadata": {},
   "outputs": [],
   "source": [
    "#반복문\n",
    "\n",
    "num1 = 6\n",
    "num1 +=1 # num1 = num+1  # a = a+1 => a +=1\n",
    "num2 = 7\n",
    "num2 -=5\n",
    "num3 =8\n",
    "num3 /= 3\n",
    "print(num1,num2,round(num3))\n",
    "num1 = 1\n",
    "num1*=3\n",
    "num2 = 2\n",
    "num2 **=3  # 2의 3승  2^3 = 2**3\n",
    "print(num1,num2)"
   ]
  },
  {
   "cell_type": "code",
   "execution_count": null,
   "metadata": {},
   "outputs": [],
   "source": [
    "#3항 연산자\n",
    "x = 5\n",
    "ans = 'Non-negative' if x>=0 else 'Negative' # 참일 경우 if절 앞에 있는거 출력, 거짓일 경우 else 뒷부분 출력 \n",
    "print(ans)      # ans의 데이터 타입 : str _문자열"
   ]
  },
  {
   "cell_type": "code",
   "execution_count": null,
   "metadata": {},
   "outputs": [],
   "source": [
    "#문자열의 거짓 '' _ 아무것도 없으면 문자열 거짓_ 공백도 문자열 \n",
    "#숫자의 거짓 0  \n",
    "#list의 거짓 []\n",
    "#dict의 거짓 {}\n",
    "#tuple 의 거짓 ()\n",
    "\n",
    "city = ''  \n",
    "if city: #조건이 참인 경우만 실행 \n",
    "    print('empty city')"
   ]
  },
  {
   "cell_type": "code",
   "execution_count": null,
   "metadata": {},
   "outputs": [],
   "source": [
    "#날짜의 입력은 문자열\n",
    "#특수하게 해석해서 년월일로 해석\n",
    "\n",
    "import datetime\n",
    "dt = datetime.datetime.now() # 함수는 ()를 사용해야함\n",
    "print(dt)\n",
    "print()\n",
    "\n",
    "#데이터 입력\n",
    "age = input('생년월일(19940210)을 입력하시오')\n",
    "\n",
    "#데이터 처리 \n",
    "year = int(age[0:4])  #마지막은 포함되지않음 ! \n",
    "month = int(age[4:6])\n",
    "day = int(age[6:])\n",
    "#빼기 연산 \n",
    "#분산 : 상계방지(제곱)\n",
    "year_diff = dt.year - year\n",
    "month_diff = dt.month - month\n",
    "day_diff = dt.day - day\n",
    "if day_diff < 0 :  #일 내림 처리\n",
    "    month_diff -=1\n",
    "if month_diff < 0 : #월 내림 처리 \n",
    "    year_diff -=1\n",
    "print( '당신의 나이는 ', year_diff +1)\n",
    "\n",
    "#데이터 출력\n",
    "if year_diff <18:\n",
    "    print('당신은 미성년자 입니다')\n",
    "else:\n",
    "    print(\"당신은 미성년자가 아닙니다\")"
   ]
  },
  {
   "cell_type": "code",
   "execution_count": null,
   "metadata": {},
   "outputs": [],
   "source": [
    "#데이터입력 -> 처리(연산자), 제어문(판단문, 한가지 규칙을 여러 데이터에 적용 : 반복문)"
   ]
  },
  {
   "cell_type": "code",
   "execution_count": null,
   "metadata": {},
   "outputs": [],
   "source": [
    "#for문\n",
    "#기존의 for 문 : for( i = 0: i<100, i++) : '인덱스 오버플로우' 라는 문제점 발생해서 for  in 문으로 변경\n",
    "#for in 문\n"
   ]
  },
  {
   "cell_type": "code",
   "execution_count": null,
   "metadata": {},
   "outputs": [],
   "source": [
    "#for in 문 : i를 하나씩 대입\n",
    "# i 에 올 수 있는 아이들 : collections , iterator , generator , enumerate \n",
    "\n",
    "# collections : list , tuple, dict, set\n",
    "\n",
    "#iterator : range  : for( i = 0: i<100, i++)와 같은 방법으로 사용 ( start, end, step) #기존 for문을 사용하는 것을 지원하기 위해 \n",
    "\n",
    "#generators : 실시간 데이터 생성 ,  메모리를 차지하지않음\n",
    "\n",
    "#enumerate :  collections 데이터에 매핑을 해줌  \n",
    "#             eg) 0: earth  1:air  2: fire"
   ]
  },
  {
   "cell_type": "code",
   "execution_count": null,
   "metadata": {},
   "outputs": [],
   "source": [
    "#for in 문 : i를 하나씩 대입\n",
    "#data를 직접 이용하는 방법\n",
    "\n",
    "elements = [ 'earth', 'air' , 'fire' , 'water']\n",
    "for i in elements:  # i 는 'earth'\n",
    "    print(i,end = \" \")   #end = \" \"는 결과값을 가로 정렬  default는 \\n으로 세로로 값 출력"
   ]
  },
  {
   "cell_type": "code",
   "execution_count": null,
   "metadata": {},
   "outputs": [],
   "source": [
    "#for in 문 iterator : range\n",
    "for i in range(5):\n",
    "    print(i)"
   ]
  },
  {
   "cell_type": "code",
   "execution_count": null,
   "metadata": {},
   "outputs": [],
   "source": [
    "#for in 문 iterator : range\n",
    "#파이썬은 오버로딩이 없음 : default값으로 처리 \n",
    "for i in range(2,5):\n",
    "    print(i)"
   ]
  },
  {
   "cell_type": "code",
   "execution_count": null,
   "metadata": {},
   "outputs": [],
   "source": [
    "#for in 문 iterator : range\n",
    "\n",
    "for i in range(0,10,2): #start 0, end 10 , step 2\n",
    "    print(i)"
   ]
  },
  {
   "cell_type": "code",
   "execution_count": null,
   "metadata": {},
   "outputs": [],
   "source": [
    "# 인덱스를 이용하는 방법 \n",
    "\n",
    "for i in range (4):\n",
    "    print(i)\n",
    "    print(elements[i])"
   ]
  },
  {
   "cell_type": "code",
   "execution_count": null,
   "metadata": {},
   "outputs": [],
   "source": [
    "# range는 객체다  # range는 for  in 문에서 정상 작동하며 , 일반 문에서는 정상 작동 x # 원래 0123 나와야함 \n",
    "ra = range(4)\n",
    "print(ra)\n",
    "#for in 문 결과처럼 보려면 list 로 casting 해줘야함 !\n",
    "print(list(ra))\n",
    "\n",
    "#거꾸로\n",
    "rarv = reversed(range(4))\n",
    "print(rarv)\n",
    "\n",
    "print(list(range(5,-1,-1)))"
   ]
  },
  {
   "cell_type": "code",
   "execution_count": null,
   "metadata": {},
   "outputs": [],
   "source": [
    "#증가 변수 , 누적변수\n",
    "sum = 10\n",
    "for x in range(1,11):\n",
    "    #sum = sum +x\n",
    "    sum+=x\n",
    "print(sum)"
   ]
  },
  {
   "cell_type": "code",
   "execution_count": null,
   "metadata": {},
   "outputs": [],
   "source": [
    "#중첩 for 문\n",
    "#x = 2일 때 y = 2,3,4,5,6,7,8,9\n",
    "#x = 3일 때 y = 2,3,4,5,6,7,8,9\n",
    "\n",
    "for x in range(2,4):\n",
    "    print()\n",
    "    for y in range (2,10):\n",
    "        print(x,'*',y,'=',x*y, end = '   ')"
   ]
  },
  {
   "cell_type": "code",
   "execution_count": null,
   "metadata": {},
   "outputs": [],
   "source": [
    "#중첩 for 문\n",
    "#x = 2일 때 y = 2,3,4,5,6,7,8,9\n",
    "#x = 3일 때 y = 2,3,4,5,6,7,8,9\n",
    "\n",
    "for x in range(2,10):\n",
    "    print()\n",
    "    for y in range (2,10):\n",
    "        print(y,'*',x,'=',x*y,'\\t', end = ' ')"
   ]
  },
  {
   "cell_type": "code",
   "execution_count": null,
   "metadata": {},
   "outputs": [],
   "source": [
    "#내장리스트 : 동적으로 데이터 생성\n",
    "#for 문 앞에 생성\n",
    "\n",
    "[ i for i in range(10)]\n",
    "\n",
    "\n",
    "[ i**2 for i in range(10)]\n",
    "\n"
   ]
  },
  {
   "cell_type": "code",
   "execution_count": null,
   "metadata": {},
   "outputs": [],
   "source": [
    "#dictionary   _ 동적으로 데이터 생성\n",
    "{i: i**3 for i in range(10)}"
   ]
  },
  {
   "cell_type": "code",
   "execution_count": null,
   "metadata": {},
   "outputs": [],
   "source": [
    "# for / if 문 결합\n",
    "[i**2 for i in rangte(10) if i%2 ==0]"
   ]
  },
  {
   "cell_type": "code",
   "execution_count": null,
   "metadata": {},
   "outputs": [],
   "source": [
    "#for r in rows:\n",
    "# for c in cols :\n",
    "#(r.c)\n",
    "rows = range(1,5)\n",
    "cols = range(10,15)\n",
    "vectors = [( r,c) for r in rows for c in cols]\n",
    "vectors"
   ]
  },
  {
   "cell_type": "code",
   "execution_count": null,
   "metadata": {},
   "outputs": [],
   "source": [
    "#문자열 연산자 + \n",
    "#문자열 반복  * \n",
    "#앞이 참이면 뒤의 것은 계산하지않음 \n",
    "#True == 1 , False == 0\n",
    "['3의배수' * (i%3==0) + '5의배수'*(i%5==0) or i for i in range(1,21)]"
   ]
  },
  {
   "cell_type": "code",
   "execution_count": null,
   "metadata": {},
   "outputs": [],
   "source": [
    "## 문제 \n",
    "#점수를 입력받아 A,B,C,D,F 학점으로 출력하시오 ( 점수를 학점으로 mapping)\n",
    " #내 답 \n",
    "score = int(input('점수 :'))\n",
    "\n",
    "if score >= 90:\n",
    "    print('A')\n",
    "elif score>= 80:\n",
    "    print('B')\n",
    "elif score>= 70:\n",
    "      print('C')\n",
    "elif score>= 60:\n",
    "    print('D')\n",
    "else :\n",
    "    print('F')"
   ]
  },
  {
   "cell_type": "code",
   "execution_count": null,
   "metadata": {},
   "outputs": [],
   "source": [
    "## 문제 \n",
    "#점수를 입력받아 A,B,C,D,F 학점으로 출력하시오 ( 점수를 학점으로 mapping)\n",
    " #쌤 답  + 무한루프 \n",
    "    \n",
    "while True : # 무한 루프 _ 종료 조건 지정 필수    \n",
    "    \n",
    "    print('점수입력:', end = \" \")\n",
    "    score = int(input())\n",
    "    \n",
    "if score == 0:# 무한루프 _ 종료조건 \n",
    "    break #반복문 종료명령\n",
    "if score >= 90:\n",
    "    print('A')\n",
    "elif score>= 80:\n",
    "    print('B')\n",
    "elif score>= 70:\n",
    "      print('C')\n",
    "elif score>= 60:\n",
    "    print('D')\n",
    "else :\n",
    "    print('F')\n",
    "    "
   ]
  },
  {
   "cell_type": "code",
   "execution_count": null,
   "metadata": {},
   "outputs": [],
   "source": [
    "#번호 국어 영어 수학 점수를 입력하는 프로그램 작성 (3명분)\n",
    "#2차원 리스트\n",
    "\n",
    "final = []\n",
    "for i in range(3):\n",
    "    sungjuk =[]    #이를 for문 안에 넣는 이유: 각 사람마다 초기화 시키기 위하여 \n",
    "    num = input('번호 입력')\n",
    "    name = input('name')\n",
    "    kor = int(input('korean'))\n",
    "    eng = int(input('english'))\n",
    "    math = int(input('math'))\n",
    "    sungjuk.append(num)\n",
    "    sungjuk.append(name)\n",
    "    sungjuk.append(kor)\n",
    "    sungjuk.append(eng)\n",
    "    sungjuk.append(math)\n",
    "    final.append(sungjuk)\n",
    "        \n",
    "print(final)"
   ]
  },
  {
   "cell_type": "code",
   "execution_count": null,
   "metadata": {},
   "outputs": [],
   "source": [
    "#문제 합계와 평균을 구해서 추가시켜 보시오 \n",
    "# 평균은 소수점 3째자리에서 반올림하고 2째자리까지 표현하시오 \n",
    "\n",
    "final = []\n",
    "for i in range(3):\n",
    "    sungjuk =[]    #이를 for문 안에 넣는 이유: 각 사람마다 초기화 시키기 위하여 \n",
    "    num = input('번호 입력')\n",
    "    name = input('name')\n",
    "    kor = int(input('korean'))\n",
    "    eng = int(input('english'))\n",
    "    math = int(input('math'))\n",
    "    total = kor+eng+math\n",
    "    avr = round((total/3),2)\n",
    "    sungjuk.append(num)\n",
    "    sungjuk.append(name)\n",
    "    sungjuk.append(kor)\n",
    "    sungjuk.append(eng)\n",
    "    sungjuk.append(math)\n",
    "    sungjuk.append(total)\n",
    "    sungjuk.append(avr)\n",
    "    final.append(sungjuk)\n",
    "\n",
    "    # append 하는 순서에 따라 문자열? 순서도 바뀐다 \n",
    "    \n",
    "print(final)"
   ]
  },
  {
   "cell_type": "code",
   "execution_count": null,
   "metadata": {},
   "outputs": [],
   "source": [
    "#문제 합계와 평균을 구해서 추가시켜 보시오 \n",
    "# 평균은 소수점 3째자리에서 반올림하고 2째자리까지 표현하시오 \n",
    "#grade 추가 \n",
    "\n",
    "final = []\n",
    "for i in range(3):\n",
    "    sungjuk =[]    #이를 for문 안에 넣는 이유: 각 사람마다 초기화 시키기 위하여 \n",
    "    num = input('번호 입력')\n",
    "    name = input('name')\n",
    "    kor = int(input('korean'))\n",
    "    eng = int(input('english'))\n",
    "    math = int(input('math'))\n",
    "    total = kor+eng+math\n",
    "    avr = round((total/3),2)\n",
    "    \n",
    "#f avr >= 90:\n",
    "#   grade ='A'\n",
    "#lif avr >= 80:\n",
    "#    grade ='B'\n",
    "#lif avr >= 70:\n",
    "#     grade ='C'\n",
    "#elif avr >= 60:\n",
    "#    grade ='D'\n",
    "#else :\n",
    "#    grade ='F'\n",
    "\n",
    "    sungjuk.append(num)\n",
    "    sungjuk.append(name)\n",
    "    sungjuk.append(kor)\n",
    "    sungjuk.append(eng)\n",
    "    sungjuk.append(math)\n",
    "    sungjuk.append(total)\n",
    "    sungjuk.append(avr)\n",
    "#    sungjuk.append(grade)\n",
    "    \n",
    "    final.append(sungjuk)\n",
    "    # append 하는 순서에 따라 문자열? 순서도 바뀐다 \n",
    "    #프로그램은 순서적으로 실행됨  순서를 변경하는것 ~ 제어문과 함수\n",
    "    \n",
    "    \n",
    "print(final)"
   ]
  },
  {
   "cell_type": "code",
   "execution_count": null,
   "metadata": {},
   "outputs": [],
   "source": [
    "#정렬하고 싶은 경우\n",
    "#기본 데이터 타입 : str , int , float , list , set, tuple\n",
    "#파이썬은 모든것이 객체 ( 변수+함수) : 사용자 정의 데이터 타입\n",
    "\n",
    "final.sort()\n"
   ]
  },
  {
   "cell_type": "code",
   "execution_count": null,
   "metadata": {},
   "outputs": [],
   "source": [
    "#정렬하고 싶은 경우\n",
    "#함수를 키로한다.  ( 이름으로 정렬) : 1인분 데이터 전달 (번호,이름,국어,영어,수학)\n",
    "# a1은 매개변수 \n",
    "def getKey(a1):  #이름을 만들어 넣어준다\n",
    "    return a1[1]\n",
    "final.sort(key = getKey)\n",
    "\n",
    "final.sort(key = getKey , reverse = True) #내림차순\n"
   ]
  },
  {
   "cell_type": "code",
   "execution_count": null,
   "metadata": {},
   "outputs": [],
   "source": [
    "print(final)"
   ]
  },
  {
   "cell_type": "code",
   "execution_count": null,
   "metadata": {},
   "outputs": [],
   "source": [
    "#lambda 함수 : 무명함수 , 간단한 함수를 작성할 때 사용\n",
    "\n",
    "\n",
    "final.sort(key = lambda row: row[1], reverse = True) #이름을 정의하지않고 바로 "
   ]
  },
  {
   "cell_type": "code",
   "execution_count": null,
   "metadata": {},
   "outputs": [],
   "source": [
    "#등수를 입력하는 필드를 추가하시오 \n",
    "\n",
    "final.sort(key =lambda b:b[5], reverse = True)\n",
    "print(final)\n"
   ]
  },
  {
   "cell_type": "code",
   "execution_count": null,
   "metadata": {},
   "outputs": [],
   "source": [
    "rank = 0\n",
    "for i in range(len(final)):\n",
    "    rank = rank +1\n",
    "    final[i].append(rank)\n",
    "final.sort(key = lambda row:row[0])\n",
    "all_list = ['번호', '이름', '국어', '수학','영어','합계','평균','순위']\n",
    "for j in range(len(final[0])):\n",
    "    print(all_list[j], end = \" \")\n",
    "for i in range (len(final)):\n",
    "    print(end =  \"\\n\")\n",
    "    for j in range(8):\n",
    "        print(final[i][j],end = '')"
   ]
  },
  {
   "cell_type": "code",
   "execution_count": null,
   "metadata": {},
   "outputs": [],
   "source": [
    "#문제 number guess (숫자 맞추기 게임 1:1)\n",
    "#\n",
    "#1. computer은 숫자를 랜덤으로 발생시킵니다 (1-100)\n",
    "#2. 사용자는 숫자를 입력합니다.\n",
    "#3. 컴퓨터가 낸 숫자와 사용자가 입력한 숫자가 일치하는지 확인하고 일치하면 \n",
    "#   확인하고 다시 다음 게임으로 진행합니다\n",
    "#4.만약 맞추지 못하였으면 사용자가 입력한 숫자가 컴퓨터가 가지고 있는\n",
    "#  수보다 큰지 작은지를 알려줍니다.\n",
    "#5. 무한루프로 진행하던 게임은 q가 눌리면 종료합니다.\n",
    "#6. 몇회만에 맞추었는지를 확인하여 출력해 줍니다.\n",
    "#7. 총 진행 횟수 하고 guess횟수를 누적시킨다음 평균 시도 횟수를 출력하시오 "
   ]
  },
  {
   "cell_type": "code",
   "execution_count": null,
   "metadata": {},
   "outputs": [],
   "source": [
    "#필요한 변수 : 컴퓨터 선정 수 , 사용자 입력, 총횟수 , 평균 시도 횟수 \n",
    "#from random import randint\n",
    "#n = randint(1,101)\n",
    "#n = comp\n",
    "\n",
    "while True :  #무한루프\n",
    "\n",
    "user_num = int(input('숫자를 입력하시오 (1~100)'))\n",
    "\n",
    "\n",
    "if user_num == 'q':# 무한루프 _ 종료조건 \n",
    "        \n",
    "if n == user_num:\n",
    "    print('b')\n",
    "    break #반복문 종료명령"
   ]
  },
  {
   "cell_type": "code",
   "execution_count": null,
   "metadata": {},
   "outputs": [],
   "source": [
    "#쌤 답\n",
    "#경우의 수는 3가지 (정답, 작은경우 , 큰경우)\n",
    "#전체게임 횟수와 이긴횟수\n",
    "#평균 시도 횟수를 계산하기 위해서 변수를 정의하고 계산 \n",
    "\n",
    "from random import randint\n",
    "import sys\n",
    "tot_game = 0  # total game 숫자 !\n",
    "win = 0   # 이긴 횟 수 \n",
    "tot_attempt =[]\n",
    "while True:\n",
    "    n = randint(1,101) #컴퓨터는 수 하나 선택\n",
    "    tot_game+=1;\n",
    "    game = 0\n",
    "    while True: #사용자정의하고 이미 정의된 내장 명령어 구분\n",
    "        ans = input(\"상상의 수를 입력( Q to exit)\")\n",
    "        game+=1;\n",
    "    if ans.upper() == 'Q':\n",
    "        print('총게임수', tot_game-1, '이긴 게임수 ', win)\n",
    "        game_tot = sum(tot_attempt)\n",
    "        print('평균 시도 횟수', tot_attempt/(tot_game-1))\n",
    "        sys.exit(0)  #프로그램 종료 명령 \n",
    "        ians = int(ans)\n",
    "    if( n == ians): \n",
    "        print('정답');\n",
    "        win+=1;\n",
    "        tot_attempt.append(game)\n",
    "        break\n",
    "    elif(n> ians):\n",
    "        print('높은 수를 선택하시오')\n",
    "    else:\n",
    "        print(\"작은 수를 선택하시오\")"
   ]
  },
  {
   "cell_type": "code",
   "execution_count": null,
   "metadata": {},
   "outputs": [],
   "source": [
    "#문제 1\n",
    "#제곱미터로 입력되는 아파트 면적을 평형으로 계산하여 종류 판정\n",
    "#(30평을 기준으로 판정) 하는 프로그램 작성\n",
    "#소형(17평) 중소형(25평) 중형(30평)\n",
    "#평형수 = 제곱미터 / 3.305\n",
    "\n",
    "apt = int(input('아파트 평수 (m2) : '))\n",
    "\n",
    "w = apt/3.305\n",
    "    \n",
    "if w <=17:\n",
    "    print('소형')\n",
    "elif w  <= 25:\n",
    "    print('중소형')\n",
    "else:\n",
    "    print('중형')\n",
    "    \n",
    "    "
   ]
  },
  {
   "cell_type": "code",
   "execution_count": null,
   "metadata": {},
   "outputs": [],
   "source": [
    "#문제 2 \n",
    "# 날 수를 입력하면 이를 초로 변경하는 프로그램 작성\n",
    "\n",
    "days = int(input('enter num of days :'))\n",
    "seconds = days * 60 * 60 *24\n",
    "print( days,'일은', seconds, '초')\n"
   ]
  },
  {
   "cell_type": "code",
   "execution_count": null,
   "metadata": {},
   "outputs": [],
   "source": [
    "#문제 3\n",
    "#소득세 계산 : 소득 세율표를 구해보고 이를 이용하여 소득이 들어오면 세금이 \n",
    "#             얼마인지 계산해 보세요 ( 연봉, 단순히 세율만 적용)\n",
    "#1천만원 미만시 연봉의 9.5% / 1천 - 4천 : 19%  / 4천 - 8천 :  28% / 8천이상 : 37%\n",
    "\n",
    "income = int(input('연봉 (숫자만 입력)'))\n",
    "tax = 0\n",
    "             \n",
    "if income < 10000000:\n",
    " tax = income * 0.095\n",
    "elif 10000000<= income <40000000:\n",
    "  tax = income *0.19\n",
    "elif 40000000<= income <80000000:\n",
    " tax = income * 0.28\n",
    "else:\n",
    " tax = income *0.37\n",
    "             \n",
    "\n",
    "print('수입 : ', income , 'tax :', tax )\n",
    "            "
   ]
  },
  {
   "cell_type": "code",
   "execution_count": null,
   "metadata": {},
   "outputs": [],
   "source": [
    "#문제 3\n",
    "#소득세 계산 : 소득 세율표를 구해보고 이를 이용하여 소득이 들어오면 세금이 \n",
    "#             얼마인지 계산해 보세요 ( 연봉, 단순히 세율만 적용)\n",
    "#1천만원 미만시 연봉의 9.5% / 1천 - 4천 : 19%  / 4천 - 8천 :  28% / 8천이상 : 37%\n",
    "# 오천만원일 경우 천만원에는 9.5 % 적용하고 그 나머지는 19 % 적용 \n",
    "#쌤 답\n",
    "income = int(input('연봉 (숫자만 입력)'))\n",
    "tax = 0.0\n",
    "\n",
    "if income < 10000000:\n",
    "    tax = income *0.095\n",
    "elif income < 40000000:\n",
    "    tax = 10000000 * 0.095 + (income-10000000)*0.19\n",
    "elif income <80000000:\n",
    "    tax = 10000000 * 0.095 + 30000000*0.19 + (income -40000000)*0.28\n",
    "else:\n",
    "     tax = 10000000 * 0.095 + 30000000*0.19 + 40000000*0.28 + ( income - 80000000) *0.037\n",
    "        \n",
    "\n",
    "print( 'income: ', income , 'tax  :' , tax)"
   ]
  },
  {
   "cell_type": "code",
   "execution_count": null,
   "metadata": {},
   "outputs": [],
   "source": [
    "#문제4\n",
    "#놀이공원 매표소 단체 입장료 계산하기\n",
    "#조건 : 팀별 인원 구성을 입력 ( 초등, 청소년, 일반인 , 경로대상)하면 입장료 소견표에\n",
    "#정산요금 : 초등 ( 5000원) , 청소년 ( 10000원), 일반인 ( 15000원), 경로대성(3000원)\n",
    "#팀별 할인 : 카드확인\n",
    "#카드 없음 : 할인 무 , 일반카드 : 10% , VIP : 20%\n",
    "\n",
    "ele = int(input('초등학생 수 :'))\n",
    "mid = int(input('청소년 수 :'))\n",
    "adult = int(input('일반인 수'))\n",
    "old = int(input(' 경로 수 :'))\n",
    "\n",
    "\n",
    "ele_tot = 5000 * ele\n",
    "mid_tot = 10000*mid\n",
    "adult_tot =15000*adult\n",
    "old_tot = 3000*old\n",
    "\n",
    "tot = ele_tot+mid_tot+adult_tot+old_tot\n",
    "\n",
    "dis = int(input('카드없음(0), 일반카드 (1),VIP(2) 를 선택해주세요 '))\n",
    "select = [tot, tot*0.9, tot *0.8]\n",
    "print('총 요금은', select[dis],'원 입니다 ')\n",
    "                 \n"
   ]
  },
  {
   "cell_type": "code",
   "execution_count": null,
   "metadata": {},
   "outputs": [],
   "source": [
    "#이중for문\n",
    "\n",
    "numberofRows = int (input('숫자를 입력 :'))\n",
    "for i in range(numberofRows):  #줄\n",
    "    for j in range(numberofRows):  #\n",
    "        print('*', end = '')\n",
    "    print()"
   ]
  },
  {
   "cell_type": "code",
   "execution_count": 1,
   "metadata": {},
   "outputs": [
    {
     "name": "stdout",
     "output_type": "stream",
     "text": [
      "숫자를 입력 :5\n",
      "     *\n",
      "    **\n",
      "   ***\n",
      "  ****\n",
      " *****\n"
     ]
    }
   ],
   "source": [
    "numberofRows = int (input('숫자를 입력 :'))\n",
    "for i in range(numberofRows):    \n",
    "    for k in range(numberofRows-i):  #한줄씩 띄어주는 for문\n",
    "        print(' ' , end ='')\n",
    "    for j in range(i+1):          #\n",
    "        print('*', end = '')\n",
    "    print()"
   ]
  },
  {
   "cell_type": "code",
   "execution_count": 5,
   "metadata": {},
   "outputs": [
    {
     "name": "stdout",
     "output_type": "stream",
     "text": [
      " * \n",
      " *  *  * \n",
      " *  *  *  *  * \n",
      " *  *  *  *  *  *  * \n",
      " *  *  *  *  *  *  *  *  * \n",
      " *  *  *  *  *  *  *  *  *  *  * \n",
      " *  *  *  *  *  *  *  *  *  *  *  *  * \n",
      " *  *  *  *  *  *  *  *  *  *  *  *  *  *  * \n",
      " *  *  *  *  *  *  *  *  *  *  *  *  *  *  *  *  * \n",
      " *  *  *  *  *  *  *  *  *  *  *  *  *  *  *  *  *  *  * \n"
     ]
    }
   ],
   "source": [
    "#트리모양 _ 실패\n",
    "ran = 10\n",
    "\n",
    "for i in range(ran):\n",
    "    for j in range((ran-i)*2):\n",
    "        print('', end ='')\n",
    "    for k in range(i*2+1):\n",
    "        print('*', end = '')\n",
    "    print()    "
   ]
  },
  {
   "cell_type": "code",
   "execution_count": 6,
   "metadata": {},
   "outputs": [
    {
     "name": "stdout",
     "output_type": "stream",
     "text": [
      "write number :10\n",
      "          *\n",
      "         ***\n",
      "        *****\n",
      "       *******\n",
      "      *********\n",
      "     ***********\n",
      "    *************\n",
      "   ***************\n",
      "  *****************\n",
      " *******************\n"
     ]
    }
   ],
   "source": [
    "#트리모양 \n",
    "#1번 방법\n",
    "\n",
    "nr = int( input( 'write number :'))\n",
    "for  i in range(nr):\n",
    "    for k in range(nr-i):\n",
    "        print(' ',end ='')\n",
    "    for j in range(i+1):\n",
    "        print('*', end ='')\n",
    "    for j in range(i):\n",
    "        print('*',end ='')\n",
    "    print()\n",
    "    "
   ]
  },
  {
   "cell_type": "code",
   "execution_count": 7,
   "metadata": {},
   "outputs": [
    {
     "name": "stdout",
     "output_type": "stream",
     "text": [
      "\n",
      "          *\n",
      "         ***\n",
      "        *****\n",
      "       *******\n",
      "      *********\n",
      "     ***********\n",
      "    *************\n",
      "   ***************\n",
      "  *****************\n",
      " *******************\n"
     ]
    }
   ],
   "source": [
    "#트리모양 \n",
    "#2번 방법\n",
    "\n",
    "print('')\n",
    "for i in range(1,11):\n",
    "    print(' '*(10-i),'*'*(i*2-1))"
   ]
  },
  {
   "cell_type": "code",
   "execution_count": 11,
   "metadata": {
    "scrolled": false
   },
   "outputs": [
    {
     "name": "stdout",
     "output_type": "stream",
     "text": [
      "number :1\n",
      "*\n"
     ]
    }
   ],
   "source": [
    "# 눕혀진 세모 모양\n",
    "#1번 방법\n",
    "nrow = int(input('number :'))\n",
    "nrow2 = nrow -1\n",
    "for i in range(nrow):\n",
    "    for j in range(i+1):\n",
    "        print('*',end = '')\n",
    "    print()\n",
    "for i in range(nrow2):\n",
    "    for k in range(nrow2-i):\n",
    "        print('*',end ='')\n",
    "    print()"
   ]
  },
  {
   "cell_type": "code",
   "execution_count": 12,
   "metadata": {},
   "outputs": [
    {
     "name": "stdout",
     "output_type": "stream",
     "text": [
      "num:5\n",
      "*\n",
      "**\n",
      "***\n",
      "*\n",
      "\n"
     ]
    }
   ],
   "source": [
    "# 눕혀진 세모 모양\n",
    "#2번 방법\n",
    "\n",
    "nrow = int(input('num:'))\n",
    "\n",
    "for i in range(nrow):\n",
    "    if i <nrow/2:\n",
    "        for j in range(i + 1):\n",
    "            print('*', end ='')\n",
    "    else:\n",
    "        for j in range(nrow//2-1, -1, -1):\n",
    "            if( j >= i - nrow //2 ) :\n",
    "                print('*',end ='')\n",
    "    print()\n"
   ]
  },
  {
   "cell_type": "code",
   "execution_count": 13,
   "metadata": {},
   "outputs": [
    {
     "name": "stdout",
     "output_type": "stream",
     "text": [
      "\n",
      "*\n",
      "**\n",
      "***\n",
      "****\n",
      "*****\n",
      "****\n",
      "***\n",
      "**\n",
      "*\n"
     ]
    }
   ],
   "source": [
    "# 눕혀진 세모 모양\n",
    "#3번 방법\n",
    "\n",
    "print(\"\")\n",
    "for i in range(1,10):\n",
    "    print('*'*(i-int(i/6)* (i*2-10)))"
   ]
  }
 ],
 "metadata": {
  "kernelspec": {
   "display_name": "Python 3",
   "language": "python",
   "name": "python3"
  },
  "language_info": {
   "codemirror_mode": {
    "name": "ipython",
    "version": 3
   },
   "file_extension": ".py",
   "mimetype": "text/x-python",
   "name": "python",
   "nbconvert_exporter": "python",
   "pygments_lexer": "ipython3",
   "version": "3.7.4"
  }
 },
 "nbformat": 4,
 "nbformat_minor": 2
}
