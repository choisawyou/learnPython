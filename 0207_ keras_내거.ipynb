{
 "cells": [
  {
   "cell_type": "markdown",
   "metadata": {},
   "source": [
    "# keras\n",
    "\n",
    "세가지중 한가지를 백앤드로 삼는다\n",
    "#backend - Tensorflow: 우리는 얘를 백앤드로 삼는다_ 이것을 wrapper로 싸놓음\n",
    "         - CNTK: 마이크로 소프트에서 만든것\n",
    "         - THEANO: 행렬연산을 만들기위해 \n",
    "         \n",
    "[TE델만드는 방법]\n",
    " - Constant\n",
    " - VAIABLE:가중치 공간\n",
    " - PLACE HOLDER: 데이터 주입\n",
    "    - variable의 가중치는 placeholder의 데이터에 곱해짐 \n",
    "         \n",
    " for문 epoch batchsize\n",
    " \n",
    " 이 순서 \n",
    " 행렬연산  => loss function => activation => optimizer  이 것을 통해 fit(scikit)으로 \n",
    " \n",
    " \n",
    " 이과정을 compile 로 tensorflow 을 변환시켜주어야함 \n",
    " \n",
    " \n",
    "[KERAS는 layer 방식 ]\n",
    "\n",
    "- KERAS는 출력차수만 지정해주면 된다. 왜냐하면 입력차수는 앞에서 계산한것을 그대로 받아 쓴다 \n",
    "- 가중치를 지정하는 게 없다, 추가할게 있으면 ADD 함수로 추가만 해주면된다 \n",
    "    - 이전방식에서 계산된게 다음것으로 자동으로 넘어감 (RETURN 받을 필요가 없다 )\n",
    "- dense: 출력,입력차수를 넣어주면 가운데 차수를 자동으로 만들어줌_ variable을 선언할 필요가없고, initializer도 안해줘도됨\n",
    "- 행렬연산에 필요한것들을 다 LAYER로 만들어놈\n",
    "    - INPUT\n",
    "    - DENSE\n",
    "    - CNN\n",
    "    - RNN\n",
    "#순서\n",
    "- 모델만들고 COMPILE :  텐서플로우 방식으로 바꿔줌\n",
    "     - COMPILE 옵셥 \n",
    "         - LOSS\n",
    "         - ACTIVATION\n",
    "         - OPTIMIZER\n",
    "\n",
    "- ↓↓↓↓↓↓↓↓\n",
    "- EVALUATE: TEST 데이터만 넣어주면 자동으로 \n",
    "- ↓↓↓↓↓↓↓↓\n",
    "- PREDICT: 실제 사용 데이터만 넣어주면됨 \n",
    "\n",
    "## KERAS에서 모델을 만드는 3가지방법\n",
    "\n",
    "[SEQUENTIAL]\n",
    "- SINGLE INPUT , SINGLE OUTPUT\n",
    "\n",
    "[FUNCTIONAL]\n",
    "- MULTI INPUT, MULTI OUTPUT\n",
    "-\n",
    "[MODEL]\n",
    "- 상속을 받아서, 원래 있는 모델 사용 \n",
    "\n",
    "\n",
    "\n",
    "## 케라스로 작업하면 좋은점 \n",
    "#SCIKIT하고 연결시켜놓음_ it means PIPE라인을 가지고 있음 ,\n",
    "                        - GRID SEARCH CV를 이용해 하이퍼파라미터 자동튜닝\n",
    "#결국 모든 모델은 CLASSIFIER  REGRESSOR 으로 나뉨\n",
    "\n",
    "\n",
    "### transfer learning\n",
    "- 처음부터 가중치를 학습하는건 오래걸린다 그래서 대표적인(같은 domain) 분야에서 pre training되어진 것을 사용> keras에서 application 으로 되어있음\n",
    "\n",
    "- RNN\n",
    "    - 10단계이상 진행하면 (시간적 순서를 가지고 진행) 연결이 되지않음(기울기 소실)\n",
    "        - = > 그래서 나온게 LSTM \n",
    "    - GRU  회로가 3개_ lstm보다 속도가 빠르다  \n",
    "        - forget회로\n",
    "        - input회로\n",
    "        - output 회로 \n",
    "    -  sequence to sequence 는 효율이 좋지않아 나온데 attention \n",
    "        - attention은 지들끼리 들어오는 단어중 어떤것이 중요한지 학습\n",
    "        - (가중치3개를 가지고) 중요한것 학습 \n",
    "            - query\n",
    "            - key\n",
    "            - value\n",
    "        - NMT _Neural machine translation (신경망 기계 번역)\n",
    "            - attention , sequence to sequence 같이\n",
    "        \n",
    "        - VERT _bi directional \n",
    "             - transformer로 양방향으로 작동하도록?\n",
    "             \n",
    "### PRJ 할때 3가지 종류 \n",
    "- IMAGE 전처리하는거 : OPEN CV\n",
    "- SOUND 전처리 하는거 :LIBROSA\n",
    "- TEXT 전처리하는거 : NLTK => GENSIM(EMBEDDING TOOL)\n",
    "     -CORPUS :전처리는 되지않았지만 할수있도록 만들어진 FORM\n",
    "     \n",
    "     \n",
    "     \n",
    "#요새 가장 이슈되는거 : GAN(이미지처리) , VERT(텍스트 처리)\n",
    "             \n",
    "             \n",
    "### callback \n",
    "콜백 함수를 만드는 이유는 모델 훈련시 통제를 할 수 있기 때문입니다.\n",
    "콜백 함수가 없으면 좋던 싫든 훈련이 끝날때까지 아무 것도 제어 할 수가 없습니다.\n",
    "콜백 함수는 베스트 가중치 선별 저장부터 모델 부적격시 자동 중단할 수 있습니다.\n",
    "다양한 기능이 있으니 관련 자료를 찾아 보시고 원하는 세팅을 하십시요.\n",
    "\n",
    " \n",
    "콜백함수\n",
    "- TensorBoard() 를 사용합니다.\n",
    "graph , image 사용을 합니다.\n",
    "- log_dir 은 텐션보드 그래프를 저장할 디렉토리를 지정해 줍니다.\n",
    "- EarlyStopping()\n",
    "    - 학습중 평가시 모델 훈련 종료 시점을 정합니다.\n",
    "\n",
    "- monitor 는 종료 시키기 위한 관찰대상을 의미합니다.\n",
    "'val_loss', 'val_acc' 등이 있습니다\n",
    "\n",
    "- patience 는 모니터 대상의 평가가 지정한 횟수 만큼 나아지지 않으면 훈련을 종료합니다\n",
    "    - monitor = 'val_acc' , patience = 5 이라면 검증데이터 \n",
    "      정확도가 5 에포크만큼 나아지지 않으면 훈련을 종료합니다\n",
    "- ModelCheckpoint()\n",
    "- filepath 는 모델 저장 위치\n",
    "- monitor 는 모델에 저장할 가중치 , 주로 'val_loss'사용\n",
    "- save_best_only , 최상의 가중치만 기록여부 \n",
    "\n",
    "\n",
    "\n",
    "출처: https://redapply.tistory.com/entry/Keras-Cat-Dog-분류-5-딥러닝-시작하기-콜백-함수 [Bigcat]\n"
   ]
  },
  {
   "cell_type": "code",
   "execution_count": null,
   "metadata": {},
   "outputs": [],
   "source": [
    "#오늘 할거  기본이랑, 파라미터 튜닝하는 것 "
   ]
  },
  {
   "cell_type": "markdown",
   "metadata": {},
   "source": [
    "# 회귀모델"
   ]
  },
  {
   "cell_type": "code",
   "execution_count": 1,
   "metadata": {},
   "outputs": [
    {
     "name": "stderr",
     "output_type": "stream",
     "text": [
      "Using TensorFlow backend.\n",
      "C:\\Users\\ICT01_14\\.conda\\envs\\tf_test\\lib\\site-packages\\tensorflow\\python\\framework\\dtypes.py:516: FutureWarning: Passing (type, 1) or '1type' as a synonym of type is deprecated; in a future version of numpy, it will be understood as (type, (1,)) / '(1,)type'.\n",
      "  _np_qint8 = np.dtype([(\"qint8\", np.int8, 1)])\n",
      "C:\\Users\\ICT01_14\\.conda\\envs\\tf_test\\lib\\site-packages\\tensorflow\\python\\framework\\dtypes.py:517: FutureWarning: Passing (type, 1) or '1type' as a synonym of type is deprecated; in a future version of numpy, it will be understood as (type, (1,)) / '(1,)type'.\n",
      "  _np_quint8 = np.dtype([(\"quint8\", np.uint8, 1)])\n",
      "C:\\Users\\ICT01_14\\.conda\\envs\\tf_test\\lib\\site-packages\\tensorflow\\python\\framework\\dtypes.py:518: FutureWarning: Passing (type, 1) or '1type' as a synonym of type is deprecated; in a future version of numpy, it will be understood as (type, (1,)) / '(1,)type'.\n",
      "  _np_qint16 = np.dtype([(\"qint16\", np.int16, 1)])\n",
      "C:\\Users\\ICT01_14\\.conda\\envs\\tf_test\\lib\\site-packages\\tensorflow\\python\\framework\\dtypes.py:519: FutureWarning: Passing (type, 1) or '1type' as a synonym of type is deprecated; in a future version of numpy, it will be understood as (type, (1,)) / '(1,)type'.\n",
      "  _np_quint16 = np.dtype([(\"quint16\", np.uint16, 1)])\n",
      "C:\\Users\\ICT01_14\\.conda\\envs\\tf_test\\lib\\site-packages\\tensorflow\\python\\framework\\dtypes.py:520: FutureWarning: Passing (type, 1) or '1type' as a synonym of type is deprecated; in a future version of numpy, it will be understood as (type, (1,)) / '(1,)type'.\n",
      "  _np_qint32 = np.dtype([(\"qint32\", np.int32, 1)])\n",
      "C:\\Users\\ICT01_14\\.conda\\envs\\tf_test\\lib\\site-packages\\tensorflow\\python\\framework\\dtypes.py:525: FutureWarning: Passing (type, 1) or '1type' as a synonym of type is deprecated; in a future version of numpy, it will be understood as (type, (1,)) / '(1,)type'.\n",
      "  np_resource = np.dtype([(\"resource\", np.ubyte, 1)])\n",
      "C:\\Users\\ICT01_14\\.conda\\envs\\tf_test\\lib\\site-packages\\tensorboard\\compat\\tensorflow_stub\\dtypes.py:541: FutureWarning: Passing (type, 1) or '1type' as a synonym of type is deprecated; in a future version of numpy, it will be understood as (type, (1,)) / '(1,)type'.\n",
      "  _np_qint8 = np.dtype([(\"qint8\", np.int8, 1)])\n",
      "C:\\Users\\ICT01_14\\.conda\\envs\\tf_test\\lib\\site-packages\\tensorboard\\compat\\tensorflow_stub\\dtypes.py:542: FutureWarning: Passing (type, 1) or '1type' as a synonym of type is deprecated; in a future version of numpy, it will be understood as (type, (1,)) / '(1,)type'.\n",
      "  _np_quint8 = np.dtype([(\"quint8\", np.uint8, 1)])\n",
      "C:\\Users\\ICT01_14\\.conda\\envs\\tf_test\\lib\\site-packages\\tensorboard\\compat\\tensorflow_stub\\dtypes.py:543: FutureWarning: Passing (type, 1) or '1type' as a synonym of type is deprecated; in a future version of numpy, it will be understood as (type, (1,)) / '(1,)type'.\n",
      "  _np_qint16 = np.dtype([(\"qint16\", np.int16, 1)])\n",
      "C:\\Users\\ICT01_14\\.conda\\envs\\tf_test\\lib\\site-packages\\tensorboard\\compat\\tensorflow_stub\\dtypes.py:544: FutureWarning: Passing (type, 1) or '1type' as a synonym of type is deprecated; in a future version of numpy, it will be understood as (type, (1,)) / '(1,)type'.\n",
      "  _np_quint16 = np.dtype([(\"quint16\", np.uint16, 1)])\n",
      "C:\\Users\\ICT01_14\\.conda\\envs\\tf_test\\lib\\site-packages\\tensorboard\\compat\\tensorflow_stub\\dtypes.py:545: FutureWarning: Passing (type, 1) or '1type' as a synonym of type is deprecated; in a future version of numpy, it will be understood as (type, (1,)) / '(1,)type'.\n",
      "  _np_qint32 = np.dtype([(\"qint32\", np.int32, 1)])\n",
      "C:\\Users\\ICT01_14\\.conda\\envs\\tf_test\\lib\\site-packages\\tensorboard\\compat\\tensorflow_stub\\dtypes.py:550: FutureWarning: Passing (type, 1) or '1type' as a synonym of type is deprecated; in a future version of numpy, it will be understood as (type, (1,)) / '(1,)type'.\n",
      "  np_resource = np.dtype([(\"resource\", np.ubyte, 1)])\n"
     ]
    },
    {
     "name": "stdout",
     "output_type": "stream",
     "text": [
      "WARNING:tensorflow:From C:\\Users\\ICT01_14\\.conda\\envs\\tf_test\\lib\\site-packages\\keras\\backend\\tensorflow_backend.py:422: The name tf.global_variables is deprecated. Please use tf.compat.v1.global_variables instead.\n",
      "\n",
      "입력데이터=[0.29466096 0.30317302],예측결과=[0.1722131]\n",
      "입력데이터=[0.39445118 0.79390858],예측결과=[0.7463053]\n",
      "입력데이터=[0.02884127 0.6208843 ],예측결과=[0.40482876]\n"
     ]
    }
   ],
   "source": [
    "from keras.models import Sequential #models 서브 패키지 \n",
    "from keras.layers import Dense #layers에서 모델 구성\n",
    "from sklearn.datasets import make_regression\n",
    "\n",
    "#신경망에서는 정규화 하는 것이 좋다 \n",
    "from sklearn .preprocessing import MinMaxScaler\n",
    "\n",
    "#x = 100x2 y = 100개\n",
    "X,y = make_regression(n_samples = 100,n_features=2, #변수2개 \n",
    "                      noise =0.1,random_state=1)\n",
    "#minmax 2개 만듬 : 왜냐하면 데이터가 가지고있는 값의 범위가가 다르기 때문\n",
    "scalarX,scalarY = MinMaxScaler(),MinMaxScaler() \n",
    "\n",
    "\n",
    "scalarX.fit(X)\n",
    "scalarY.fit(y.reshape(100,1)) #행으로 만드는 것\n",
    "X = scalarX.transform(X)\n",
    "y = scalarY.transform(y.reshape(100,1))\n",
    "\n",
    "#keras model 만들기\n",
    "#망의 선두에 x가 들어감  (= 100x2가 들어감)\n",
    "model = Sequential()\n",
    "#layer depth\n",
    "#input : 100x2,  weight 2x4 ouput 100x4 =여기서 4를 지정한 것 \n",
    "model.add(Dense(4,input_dim=2,activation ='relu'))\n",
    "\n",
    "# input : 100x4 , weight : 4x4    ouput :100x4\n",
    "model.add(Dense(4,activation = 'relu'))\n",
    "\n",
    "#input : 100x4 weight  4x1  ouput100x1\n",
    "#최종 출력이 1이면 예측 \n",
    "model.add(Dense(1,activation = 'linear'))\n",
    "\n",
    "#컴파일 하는 이유는 백앤드가 텐서플로우기 때문 \n",
    "#그것을 wrapp해논것이 keras\n",
    "#  예측일때 mse , 분류일 때 cross entropy  gan 일 때 KL-divergence(분포를 띄게해줌)\n",
    "\n",
    "model.compile(loss = 'mse',optimizer = 'adam') #tensorflow 모델을 변환\n",
    "\n",
    "model.fit(X,y,epochs=1000,verbose=0) # tensor에서의 2개의for문(epoch와 mini batch)\n",
    "\n",
    "Xnew,a = make_regression(n_samples =3,n_features =2,noise =0.1,random_state=1)\n",
    "\n",
    "Xnew = scalarX.transform(Xnew)\n",
    "\n",
    "ynew = model.predict(Xnew)\n",
    "\n",
    "for i in range(len(Xnew)):\n",
    "    print('입력데이터=%s,예측결과=%s' %(Xnew[i],ynew[i]))\n",
    "    \n"
   ]
  },
  {
   "cell_type": "markdown",
   "metadata": {},
   "source": [
    "# 분류\n",
    "- 암인지 아닌지"
   ]
  },
  {
   "cell_type": "code",
   "execution_count": 2,
   "metadata": {},
   "outputs": [
    {
     "name": "stdout",
     "output_type": "stream",
     "text": [
      "WARNING:tensorflow:From C:\\Users\\ICT01_14\\.conda\\envs\\tf_test\\lib\\site-packages\\tensorflow\\python\\ops\\nn_impl.py:180: add_dispatch_support.<locals>.wrapper (from tensorflow.python.ops.array_ops) is deprecated and will be removed in a future version.\n",
      "Instructions for updating:\n",
      "Use tf.where in 2.0, which has the same broadcast rule as np.where\n",
      "Train on 514 samples, validate on 254 samples\n",
      "Epoch 1/150\n",
      "514/514 [==============================] - 0s 691us/step - loss: 0.6796 - accuracy: 0.6401 - val_loss: 0.6586 - val_accuracy: 0.6732\n",
      "Epoch 2/150\n",
      "514/514 [==============================] - 0s 151us/step - loss: 0.6687 - accuracy: 0.6401 - val_loss: 0.6535 - val_accuracy: 0.6732\n",
      "Epoch 3/150\n",
      "514/514 [==============================] - 0s 144us/step - loss: 0.6618 - accuracy: 0.6401 - val_loss: 0.6518 - val_accuracy: 0.6732\n",
      "Epoch 4/150\n",
      "514/514 [==============================] - 0s 130us/step - loss: 0.6545 - accuracy: 0.6323 - val_loss: 0.6459 - val_accuracy: 0.6811\n",
      "Epoch 5/150\n",
      "514/514 [==============================] - 0s 118us/step - loss: 0.6459 - accuracy: 0.6420 - val_loss: 0.6364 - val_accuracy: 0.7008\n",
      "Epoch 6/150\n",
      "514/514 [==============================] - 0s 118us/step - loss: 0.6391 - accuracy: 0.6362 - val_loss: 0.6241 - val_accuracy: 0.6772\n",
      "Epoch 7/150\n",
      "514/514 [==============================] - 0s 128us/step - loss: 0.6324 - accuracy: 0.6615 - val_loss: 0.6163 - val_accuracy: 0.6929\n",
      "Epoch 8/150\n",
      "514/514 [==============================] - 0s 124us/step - loss: 0.6222 - accuracy: 0.6673 - val_loss: 0.6057 - val_accuracy: 0.6772\n",
      "Epoch 9/150\n",
      "514/514 [==============================] - 0s 120us/step - loss: 0.6178 - accuracy: 0.6673 - val_loss: 0.6044 - val_accuracy: 0.6929\n",
      "Epoch 10/150\n",
      "514/514 [==============================] - 0s 120us/step - loss: 0.6109 - accuracy: 0.6965 - val_loss: 0.5967 - val_accuracy: 0.6811\n",
      "Epoch 11/150\n",
      "514/514 [==============================] - 0s 117us/step - loss: 0.6059 - accuracy: 0.6926 - val_loss: 0.5977 - val_accuracy: 0.6890\n",
      "Epoch 12/150\n",
      "514/514 [==============================] - 0s 116us/step - loss: 0.6062 - accuracy: 0.6887 - val_loss: 0.5807 - val_accuracy: 0.7165\n",
      "Epoch 13/150\n",
      "514/514 [==============================] - 0s 128us/step - loss: 0.6020 - accuracy: 0.7004 - val_loss: 0.5897 - val_accuracy: 0.6890\n",
      "Epoch 14/150\n",
      "514/514 [==============================] - 0s 142us/step - loss: 0.5917 - accuracy: 0.7140 - val_loss: 0.5761 - val_accuracy: 0.6969\n",
      "Epoch 15/150\n",
      "514/514 [==============================] - 0s 120us/step - loss: 0.5875 - accuracy: 0.7023 - val_loss: 0.5771 - val_accuracy: 0.6969\n",
      "Epoch 16/150\n",
      "514/514 [==============================] - 0s 122us/step - loss: 0.5939 - accuracy: 0.6984 - val_loss: 0.5695 - val_accuracy: 0.7126\n",
      "Epoch 17/150\n",
      "514/514 [==============================] - 0s 118us/step - loss: 0.5876 - accuracy: 0.7023 - val_loss: 0.5666 - val_accuracy: 0.7126\n",
      "Epoch 18/150\n",
      "514/514 [==============================] - 0s 153us/step - loss: 0.5840 - accuracy: 0.7218 - val_loss: 0.5733 - val_accuracy: 0.7047\n",
      "Epoch 19/150\n",
      "514/514 [==============================] - 0s 116us/step - loss: 0.5839 - accuracy: 0.7043 - val_loss: 0.5744 - val_accuracy: 0.7126\n",
      "Epoch 20/150\n",
      "514/514 [==============================] - 0s 114us/step - loss: 0.5802 - accuracy: 0.7023 - val_loss: 0.5686 - val_accuracy: 0.7087\n",
      "Epoch 21/150\n",
      "514/514 [==============================] - 0s 111us/step - loss: 0.5737 - accuracy: 0.7257 - val_loss: 0.5723 - val_accuracy: 0.6929\n",
      "Epoch 22/150\n",
      "514/514 [==============================] - 0s 116us/step - loss: 0.5739 - accuracy: 0.7257 - val_loss: 0.5675 - val_accuracy: 0.6850\n",
      "Epoch 23/150\n",
      "514/514 [==============================] - 0s 126us/step - loss: 0.5725 - accuracy: 0.7062 - val_loss: 0.5674 - val_accuracy: 0.7126\n",
      "Epoch 24/150\n",
      "514/514 [==============================] - 0s 118us/step - loss: 0.5580 - accuracy: 0.7315 - val_loss: 0.5587 - val_accuracy: 0.7008\n",
      "Epoch 25/150\n",
      "514/514 [==============================] - 0s 122us/step - loss: 0.5631 - accuracy: 0.7276 - val_loss: 0.5584 - val_accuracy: 0.7165\n",
      "Epoch 26/150\n",
      "514/514 [==============================] - 0s 118us/step - loss: 0.5612 - accuracy: 0.7335 - val_loss: 0.5592 - val_accuracy: 0.7244\n",
      "Epoch 27/150\n",
      "514/514 [==============================] - 0s 116us/step - loss: 0.5586 - accuracy: 0.7315 - val_loss: 0.5649 - val_accuracy: 0.6969\n",
      "Epoch 28/150\n",
      "514/514 [==============================] - 0s 136us/step - loss: 0.5549 - accuracy: 0.7296 - val_loss: 0.6435 - val_accuracy: 0.5827\n",
      "Epoch 29/150\n",
      "514/514 [==============================] - 0s 116us/step - loss: 0.5576 - accuracy: 0.7315 - val_loss: 0.5937 - val_accuracy: 0.7126\n",
      "Epoch 30/150\n",
      "514/514 [==============================] - 0s 113us/step - loss: 0.5565 - accuracy: 0.7179 - val_loss: 0.5692 - val_accuracy: 0.7165\n",
      "Epoch 31/150\n",
      "514/514 [==============================] - 0s 118us/step - loss: 0.5481 - accuracy: 0.7160 - val_loss: 0.5744 - val_accuracy: 0.7244\n",
      "Epoch 32/150\n",
      "514/514 [==============================] - 0s 116us/step - loss: 0.5596 - accuracy: 0.7257 - val_loss: 0.5940 - val_accuracy: 0.6614\n",
      "Epoch 33/150\n",
      "514/514 [==============================] - 0s 126us/step - loss: 0.5721 - accuracy: 0.7140 - val_loss: 0.5724 - val_accuracy: 0.7008\n",
      "Epoch 34/150\n",
      "514/514 [==============================] - 0s 153us/step - loss: 0.5496 - accuracy: 0.7315 - val_loss: 0.5695 - val_accuracy: 0.7165\n",
      "Epoch 35/150\n",
      "514/514 [==============================] - 0s 99us/step - loss: 0.5474 - accuracy: 0.7315 - val_loss: 0.5588 - val_accuracy: 0.7283\n",
      "Epoch 36/150\n",
      "514/514 [==============================] - 0s 109us/step - loss: 0.5536 - accuracy: 0.7296 - val_loss: 0.5701 - val_accuracy: 0.7244\n",
      "Epoch 37/150\n",
      "514/514 [==============================] - 0s 111us/step - loss: 0.5452 - accuracy: 0.7393 - val_loss: 0.5610 - val_accuracy: 0.7362\n",
      "Epoch 38/150\n",
      "514/514 [==============================] - 0s 113us/step - loss: 0.5450 - accuracy: 0.7335 - val_loss: 0.5512 - val_accuracy: 0.7362\n",
      "Epoch 39/150\n",
      "514/514 [==============================] - 0s 111us/step - loss: 0.5504 - accuracy: 0.7160 - val_loss: 0.5541 - val_accuracy: 0.7520\n",
      "Epoch 40/150\n",
      "514/514 [==============================] - 0s 120us/step - loss: 0.5470 - accuracy: 0.7393 - val_loss: 0.5595 - val_accuracy: 0.7323\n",
      "Epoch 41/150\n",
      "514/514 [==============================] - 0s 124us/step - loss: 0.5403 - accuracy: 0.7451 - val_loss: 0.5513 - val_accuracy: 0.7441\n",
      "Epoch 42/150\n",
      "514/514 [==============================] - 0s 128us/step - loss: 0.5471 - accuracy: 0.7412 - val_loss: 0.5799 - val_accuracy: 0.7126\n",
      "Epoch 43/150\n",
      "514/514 [==============================] - 0s 116us/step - loss: 0.5467 - accuracy: 0.7335 - val_loss: 0.5604 - val_accuracy: 0.7283\n",
      "Epoch 44/150\n",
      "514/514 [==============================] - 0s 122us/step - loss: 0.5449 - accuracy: 0.7335 - val_loss: 0.5565 - val_accuracy: 0.7323\n",
      "Epoch 45/150\n",
      "514/514 [==============================] - 0s 115us/step - loss: 0.5379 - accuracy: 0.7335 - val_loss: 0.5781 - val_accuracy: 0.6811\n",
      "Epoch 46/150\n",
      "514/514 [==============================] - 0s 124us/step - loss: 0.5487 - accuracy: 0.7101 - val_loss: 0.5693 - val_accuracy: 0.7283\n",
      "Epoch 47/150\n",
      "514/514 [==============================] - 0s 138us/step - loss: 0.5507 - accuracy: 0.7276 - val_loss: 0.5508 - val_accuracy: 0.7480\n",
      "Epoch 48/150\n",
      "514/514 [==============================] - 0s 142us/step - loss: 0.5412 - accuracy: 0.7237 - val_loss: 0.5544 - val_accuracy: 0.7441\n",
      "Epoch 49/150\n",
      "514/514 [==============================] - 0s 112us/step - loss: 0.5398 - accuracy: 0.7471 - val_loss: 0.5537 - val_accuracy: 0.7283\n",
      "Epoch 50/150\n",
      "514/514 [==============================] - 0s 116us/step - loss: 0.5391 - accuracy: 0.7354 - val_loss: 0.5711 - val_accuracy: 0.6969\n",
      "Epoch 51/150\n",
      "514/514 [==============================] - 0s 118us/step - loss: 0.5337 - accuracy: 0.7412 - val_loss: 0.5489 - val_accuracy: 0.7441\n",
      "Epoch 52/150\n",
      "514/514 [==============================] - 0s 111us/step - loss: 0.5384 - accuracy: 0.7451 - val_loss: 0.5593 - val_accuracy: 0.7165\n",
      "Epoch 53/150\n",
      "514/514 [==============================] - 0s 144us/step - loss: 0.5332 - accuracy: 0.7432 - val_loss: 0.5428 - val_accuracy: 0.7441\n",
      "Epoch 54/150\n"
     ]
    },
    {
     "name": "stdout",
     "output_type": "stream",
     "text": [
      "514/514 [==============================] - 0s 122us/step - loss: 0.5312 - accuracy: 0.7374 - val_loss: 0.5532 - val_accuracy: 0.7441\n",
      "Epoch 55/150\n",
      "514/514 [==============================] - 0s 114us/step - loss: 0.5310 - accuracy: 0.7432 - val_loss: 0.5570 - val_accuracy: 0.7323\n",
      "Epoch 56/150\n",
      "514/514 [==============================] - 0s 109us/step - loss: 0.5398 - accuracy: 0.7354 - val_loss: 0.5617 - val_accuracy: 0.7283\n",
      "Epoch 57/150\n",
      "514/514 [==============================] - 0s 109us/step - loss: 0.5404 - accuracy: 0.7354 - val_loss: 0.5640 - val_accuracy: 0.7362\n",
      "Epoch 58/150\n",
      "514/514 [==============================] - 0s 128us/step - loss: 0.5309 - accuracy: 0.7237 - val_loss: 0.5635 - val_accuracy: 0.7087\n",
      "Epoch 59/150\n",
      "514/514 [==============================] - 0s 107us/step - loss: 0.5424 - accuracy: 0.7237 - val_loss: 0.5482 - val_accuracy: 0.7441\n",
      "Epoch 60/150\n",
      "514/514 [==============================] - 0s 116us/step - loss: 0.5345 - accuracy: 0.7335 - val_loss: 0.5527 - val_accuracy: 0.7323\n",
      "Epoch 61/150\n",
      "514/514 [==============================] - 0s 120us/step - loss: 0.5308 - accuracy: 0.7451 - val_loss: 0.5595 - val_accuracy: 0.7480\n",
      "Epoch 62/150\n",
      "514/514 [==============================] - 0s 113us/step - loss: 0.5367 - accuracy: 0.7276 - val_loss: 0.5479 - val_accuracy: 0.7480\n",
      "Epoch 63/150\n",
      "514/514 [==============================] - 0s 111us/step - loss: 0.5305 - accuracy: 0.7432 - val_loss: 0.5463 - val_accuracy: 0.7520\n",
      "Epoch 64/150\n",
      "514/514 [==============================] - 0s 112us/step - loss: 0.5305 - accuracy: 0.7451 - val_loss: 0.5505 - val_accuracy: 0.7520\n",
      "Epoch 65/150\n",
      "514/514 [==============================] - 0s 113us/step - loss: 0.5360 - accuracy: 0.7296 - val_loss: 0.5585 - val_accuracy: 0.7323\n",
      "Epoch 66/150\n",
      "514/514 [==============================] - 0s 113us/step - loss: 0.5372 - accuracy: 0.7393 - val_loss: 0.5358 - val_accuracy: 0.7559\n",
      "Epoch 67/150\n",
      "514/514 [==============================] - 0s 109us/step - loss: 0.5240 - accuracy: 0.7490 - val_loss: 0.5590 - val_accuracy: 0.7480\n",
      "Epoch 68/150\n",
      "514/514 [==============================] - 0s 116us/step - loss: 0.5350 - accuracy: 0.7354 - val_loss: 0.5601 - val_accuracy: 0.7402\n",
      "Epoch 69/150\n",
      "514/514 [==============================] - 0s 115us/step - loss: 0.5350 - accuracy: 0.7179 - val_loss: 0.5499 - val_accuracy: 0.7520\n",
      "Epoch 70/150\n",
      "514/514 [==============================] - 0s 116us/step - loss: 0.5329 - accuracy: 0.7374 - val_loss: 0.5381 - val_accuracy: 0.7480\n",
      "Epoch 71/150\n",
      "514/514 [==============================] - 0s 118us/step - loss: 0.5275 - accuracy: 0.7510 - val_loss: 0.5499 - val_accuracy: 0.7598\n",
      "Epoch 72/150\n",
      "514/514 [==============================] - 0s 116us/step - loss: 0.5285 - accuracy: 0.7529 - val_loss: 0.5305 - val_accuracy: 0.7835\n",
      "Epoch 73/150\n",
      "514/514 [==============================] - 0s 118us/step - loss: 0.5316 - accuracy: 0.7257 - val_loss: 0.5339 - val_accuracy: 0.7520\n",
      "Epoch 74/150\n",
      "514/514 [==============================] - 0s 111us/step - loss: 0.5248 - accuracy: 0.7412 - val_loss: 0.5405 - val_accuracy: 0.7559\n",
      "Epoch 75/150\n",
      "514/514 [==============================] - 0s 111us/step - loss: 0.5287 - accuracy: 0.7412 - val_loss: 0.5408 - val_accuracy: 0.7520\n",
      "Epoch 76/150\n",
      "514/514 [==============================] - 0s 111us/step - loss: 0.5241 - accuracy: 0.7490 - val_loss: 0.5387 - val_accuracy: 0.7559\n",
      "Epoch 77/150\n",
      "514/514 [==============================] - 0s 113us/step - loss: 0.5225 - accuracy: 0.7451 - val_loss: 0.5321 - val_accuracy: 0.7480\n",
      "Epoch 78/150\n",
      "514/514 [==============================] - 0s 116us/step - loss: 0.5221 - accuracy: 0.7451 - val_loss: 0.5288 - val_accuracy: 0.7756\n",
      "Epoch 79/150\n",
      "514/514 [==============================] - 0s 118us/step - loss: 0.5310 - accuracy: 0.7354 - val_loss: 0.5446 - val_accuracy: 0.7559\n",
      "Epoch 80/150\n",
      "514/514 [==============================] - 0s 113us/step - loss: 0.5266 - accuracy: 0.7451 - val_loss: 0.5381 - val_accuracy: 0.7638\n",
      "Epoch 81/150\n",
      "514/514 [==============================] - 0s 118us/step - loss: 0.5326 - accuracy: 0.7510 - val_loss: 0.5421 - val_accuracy: 0.7598\n",
      "Epoch 82/150\n",
      "514/514 [==============================] - 0s 111us/step - loss: 0.5245 - accuracy: 0.7335 - val_loss: 0.5299 - val_accuracy: 0.7717\n",
      "Epoch 83/150\n",
      "514/514 [==============================] - 0s 114us/step - loss: 0.5181 - accuracy: 0.7315 - val_loss: 0.5400 - val_accuracy: 0.7402\n",
      "Epoch 84/150\n",
      "514/514 [==============================] - 0s 105us/step - loss: 0.5262 - accuracy: 0.7490 - val_loss: 0.5262 - val_accuracy: 0.7638\n",
      "Epoch 85/150\n",
      "514/514 [==============================] - 0s 120us/step - loss: 0.5218 - accuracy: 0.7393 - val_loss: 0.5326 - val_accuracy: 0.7480\n",
      "Epoch 86/150\n",
      "514/514 [==============================] - 0s 111us/step - loss: 0.5185 - accuracy: 0.7393 - val_loss: 0.5326 - val_accuracy: 0.7677\n",
      "Epoch 87/150\n",
      "514/514 [==============================] - 0s 109us/step - loss: 0.5192 - accuracy: 0.7412 - val_loss: 0.5276 - val_accuracy: 0.7913\n",
      "Epoch 88/150\n",
      "514/514 [==============================] - 0s 115us/step - loss: 0.5175 - accuracy: 0.7588 - val_loss: 0.5330 - val_accuracy: 0.7441\n",
      "Epoch 89/150\n",
      "514/514 [==============================] - 0s 124us/step - loss: 0.5170 - accuracy: 0.7432 - val_loss: 0.5274 - val_accuracy: 0.7717\n",
      "Epoch 90/150\n",
      "514/514 [==============================] - 0s 107us/step - loss: 0.5197 - accuracy: 0.7451 - val_loss: 0.5345 - val_accuracy: 0.7520\n",
      "Epoch 91/150\n",
      "514/514 [==============================] - 0s 113us/step - loss: 0.5185 - accuracy: 0.7412 - val_loss: 0.5331 - val_accuracy: 0.7559\n",
      "Epoch 92/150\n",
      "514/514 [==============================] - 0s 113us/step - loss: 0.5258 - accuracy: 0.7432 - val_loss: 0.5313 - val_accuracy: 0.7323\n",
      "Epoch 93/150\n",
      "514/514 [==============================] - 0s 124us/step - loss: 0.5192 - accuracy: 0.7607 - val_loss: 0.5325 - val_accuracy: 0.7638\n",
      "Epoch 94/150\n",
      "514/514 [==============================] - 0s 124us/step - loss: 0.5206 - accuracy: 0.7432 - val_loss: 0.5257 - val_accuracy: 0.7717\n",
      "Epoch 95/150\n",
      "514/514 [==============================] - 0s 107us/step - loss: 0.5216 - accuracy: 0.7529 - val_loss: 0.5439 - val_accuracy: 0.7165\n",
      "Epoch 96/150\n",
      "514/514 [==============================] - 0s 111us/step - loss: 0.5271 - accuracy: 0.7354 - val_loss: 0.5274 - val_accuracy: 0.7638\n",
      "Epoch 97/150\n",
      "514/514 [==============================] - 0s 109us/step - loss: 0.5182 - accuracy: 0.7451 - val_loss: 0.5202 - val_accuracy: 0.7795\n",
      "Epoch 98/150\n",
      "514/514 [==============================] - 0s 116us/step - loss: 0.5233 - accuracy: 0.7393 - val_loss: 0.5333 - val_accuracy: 0.7441\n",
      "Epoch 99/150\n",
      "514/514 [==============================] - 0s 118us/step - loss: 0.5272 - accuracy: 0.7374 - val_loss: 0.5248 - val_accuracy: 0.7717\n",
      "Epoch 100/150\n",
      "514/514 [==============================] - 0s 116us/step - loss: 0.5175 - accuracy: 0.7412 - val_loss: 0.5153 - val_accuracy: 0.7795\n",
      "Epoch 101/150\n",
      "514/514 [==============================] - 0s 115us/step - loss: 0.5173 - accuracy: 0.7529 - val_loss: 0.5247 - val_accuracy: 0.7756\n",
      "Epoch 102/150\n",
      "514/514 [==============================] - 0s 115us/step - loss: 0.5128 - accuracy: 0.7568 - val_loss: 0.5165 - val_accuracy: 0.7756\n",
      "Epoch 103/150\n",
      "514/514 [==============================] - 0s 115us/step - loss: 0.5231 - accuracy: 0.7451 - val_loss: 0.5271 - val_accuracy: 0.7402\n",
      "Epoch 104/150\n",
      "514/514 [==============================] - 0s 113us/step - loss: 0.5143 - accuracy: 0.7471 - val_loss: 0.5165 - val_accuracy: 0.7717\n",
      "Epoch 105/150\n",
      "514/514 [==============================] - 0s 109us/step - loss: 0.5119 - accuracy: 0.7529 - val_loss: 0.5294 - val_accuracy: 0.7559\n",
      "Epoch 106/150\n",
      "514/514 [==============================] - 0s 114us/step - loss: 0.5163 - accuracy: 0.7490 - val_loss: 0.5202 - val_accuracy: 0.7677\n",
      "Epoch 107/150\n",
      "514/514 [==============================] - 0s 111us/step - loss: 0.5181 - accuracy: 0.7529 - val_loss: 0.5284 - val_accuracy: 0.7480\n",
      "Epoch 108/150\n",
      "514/514 [==============================] - 0s 109us/step - loss: 0.5223 - accuracy: 0.7607 - val_loss: 0.5209 - val_accuracy: 0.7598\n",
      "Epoch 109/150\n",
      "514/514 [==============================] - 0s 114us/step - loss: 0.5150 - accuracy: 0.7549 - val_loss: 0.5158 - val_accuracy: 0.7717\n",
      "Epoch 110/150\n"
     ]
    },
    {
     "name": "stdout",
     "output_type": "stream",
     "text": [
      "514/514 [==============================] - 0s 114us/step - loss: 0.5051 - accuracy: 0.7568 - val_loss: 0.5609 - val_accuracy: 0.7480\n",
      "Epoch 111/150\n",
      "514/514 [==============================] - 0s 109us/step - loss: 0.5267 - accuracy: 0.7490 - val_loss: 0.5263 - val_accuracy: 0.7756\n",
      "Epoch 112/150\n",
      "514/514 [==============================] - 0s 116us/step - loss: 0.5063 - accuracy: 0.7529 - val_loss: 0.5244 - val_accuracy: 0.7441\n",
      "Epoch 113/150\n",
      "514/514 [==============================] - 0s 140us/step - loss: 0.5165 - accuracy: 0.7432 - val_loss: 0.5170 - val_accuracy: 0.7677\n",
      "Epoch 114/150\n",
      "514/514 [==============================] - 0s 124us/step - loss: 0.5080 - accuracy: 0.7393 - val_loss: 0.5158 - val_accuracy: 0.7717\n",
      "Epoch 115/150\n",
      "514/514 [==============================] - 0s 130us/step - loss: 0.5103 - accuracy: 0.7510 - val_loss: 0.5131 - val_accuracy: 0.7835\n",
      "Epoch 116/150\n",
      "514/514 [==============================] - 0s 122us/step - loss: 0.5104 - accuracy: 0.7451 - val_loss: 0.5113 - val_accuracy: 0.7874\n",
      "Epoch 117/150\n",
      "514/514 [==============================] - 0s 116us/step - loss: 0.5141 - accuracy: 0.7471 - val_loss: 0.5441 - val_accuracy: 0.7598\n",
      "Epoch 118/150\n",
      "514/514 [==============================] - 0s 111us/step - loss: 0.5085 - accuracy: 0.7490 - val_loss: 0.5149 - val_accuracy: 0.7717\n",
      "Epoch 119/150\n",
      "514/514 [==============================] - 0s 107us/step - loss: 0.5160 - accuracy: 0.7490 - val_loss: 0.5332 - val_accuracy: 0.7717\n",
      "Epoch 120/150\n",
      "514/514 [==============================] - 0s 107us/step - loss: 0.5087 - accuracy: 0.7529 - val_loss: 0.5167 - val_accuracy: 0.7795\n",
      "Epoch 121/150\n",
      "514/514 [==============================] - 0s 113us/step - loss: 0.5114 - accuracy: 0.7432 - val_loss: 0.5277 - val_accuracy: 0.7520\n",
      "Epoch 122/150\n",
      "514/514 [==============================] - 0s 111us/step - loss: 0.5102 - accuracy: 0.7568 - val_loss: 0.5122 - val_accuracy: 0.7874\n",
      "Epoch 123/150\n",
      "514/514 [==============================] - 0s 116us/step - loss: 0.5108 - accuracy: 0.7432 - val_loss: 0.5177 - val_accuracy: 0.7480\n",
      "Epoch 124/150\n",
      "514/514 [==============================] - 0s 111us/step - loss: 0.5079 - accuracy: 0.7451 - val_loss: 0.5303 - val_accuracy: 0.7441\n",
      "Epoch 125/150\n",
      "514/514 [==============================] - 0s 111us/step - loss: 0.5206 - accuracy: 0.7412 - val_loss: 0.5189 - val_accuracy: 0.7638\n",
      "Epoch 126/150\n",
      "514/514 [==============================] - 0s 107us/step - loss: 0.5062 - accuracy: 0.7296 - val_loss: 0.5264 - val_accuracy: 0.7441\n",
      "Epoch 127/150\n",
      "514/514 [==============================] - 0s 113us/step - loss: 0.5052 - accuracy: 0.7393 - val_loss: 0.5059 - val_accuracy: 0.7717\n",
      "Epoch 128/150\n",
      "514/514 [==============================] - 0s 111us/step - loss: 0.5041 - accuracy: 0.7743 - val_loss: 0.5104 - val_accuracy: 0.7835\n",
      "Epoch 129/150\n",
      "514/514 [==============================] - 0s 105us/step - loss: 0.5084 - accuracy: 0.7490 - val_loss: 0.5082 - val_accuracy: 0.7717\n",
      "Epoch 130/150\n",
      "514/514 [==============================] - 0s 114us/step - loss: 0.5051 - accuracy: 0.7471 - val_loss: 0.5060 - val_accuracy: 0.7913\n",
      "Epoch 131/150\n",
      "514/514 [==============================] - 0s 118us/step - loss: 0.5025 - accuracy: 0.7607 - val_loss: 0.5316 - val_accuracy: 0.7441\n",
      "Epoch 132/150\n",
      "514/514 [==============================] - 0s 118us/step - loss: 0.5090 - accuracy: 0.7529 - val_loss: 0.5072 - val_accuracy: 0.7874\n",
      "Epoch 133/150\n",
      "514/514 [==============================] - 0s 111us/step - loss: 0.5061 - accuracy: 0.7607 - val_loss: 0.5118 - val_accuracy: 0.7913\n",
      "Epoch 134/150\n",
      "514/514 [==============================] - 0s 128us/step - loss: 0.5017 - accuracy: 0.7549 - val_loss: 0.5154 - val_accuracy: 0.7677\n",
      "Epoch 135/150\n",
      "514/514 [==============================] - 0s 120us/step - loss: 0.5062 - accuracy: 0.7393 - val_loss: 0.5087 - val_accuracy: 0.7638\n",
      "Epoch 136/150\n",
      "514/514 [==============================] - 0s 115us/step - loss: 0.5030 - accuracy: 0.7529 - val_loss: 0.5023 - val_accuracy: 0.7795\n",
      "Epoch 137/150\n",
      "514/514 [==============================] - 0s 115us/step - loss: 0.5164 - accuracy: 0.7374 - val_loss: 0.5089 - val_accuracy: 0.7598\n",
      "Epoch 138/150\n",
      "514/514 [==============================] - 0s 118us/step - loss: 0.4998 - accuracy: 0.7529 - val_loss: 0.5055 - val_accuracy: 0.7677\n",
      "Epoch 139/150\n",
      "514/514 [==============================] - 0s 113us/step - loss: 0.5036 - accuracy: 0.7393 - val_loss: 0.5035 - val_accuracy: 0.7835\n",
      "Epoch 140/150\n",
      "514/514 [==============================] - 0s 113us/step - loss: 0.4977 - accuracy: 0.7568 - val_loss: 0.5065 - val_accuracy: 0.7835\n",
      "Epoch 141/150\n",
      "514/514 [==============================] - 0s 113us/step - loss: 0.4997 - accuracy: 0.7471 - val_loss: 0.4956 - val_accuracy: 0.8031\n",
      "Epoch 142/150\n",
      "514/514 [==============================] - 0s 118us/step - loss: 0.5044 - accuracy: 0.7549 - val_loss: 0.5037 - val_accuracy: 0.7795\n",
      "Epoch 143/150\n",
      "514/514 [==============================] - 0s 118us/step - loss: 0.5059 - accuracy: 0.7471 - val_loss: 0.5043 - val_accuracy: 0.7756\n",
      "Epoch 144/150\n",
      "514/514 [==============================] - 0s 130us/step - loss: 0.5085 - accuracy: 0.7529 - val_loss: 0.4995 - val_accuracy: 0.7992\n",
      "Epoch 145/150\n",
      "514/514 [==============================] - 0s 124us/step - loss: 0.5019 - accuracy: 0.7490 - val_loss: 0.4955 - val_accuracy: 0.8031\n",
      "Epoch 146/150\n",
      "514/514 [==============================] - 0s 120us/step - loss: 0.4964 - accuracy: 0.7471 - val_loss: 0.5137 - val_accuracy: 0.7874\n",
      "Epoch 147/150\n",
      "514/514 [==============================] - 0s 116us/step - loss: 0.4976 - accuracy: 0.7588 - val_loss: 0.4932 - val_accuracy: 0.7953\n",
      "Epoch 148/150\n",
      "514/514 [==============================] - 0s 142us/step - loss: 0.4987 - accuracy: 0.7549 - val_loss: 0.5103 - val_accuracy: 0.7638\n",
      "Epoch 149/150\n",
      "514/514 [==============================] - 0s 117us/step - loss: 0.4965 - accuracy: 0.7646 - val_loss: 0.4975 - val_accuracy: 0.8031\n",
      "Epoch 150/150\n",
      "514/514 [==============================] - 0s 114us/step - loss: 0.4978 - accuracy: 0.7588 - val_loss: 0.5020 - val_accuracy: 0.7756\n",
      "768/768 [==============================] - 0s 14us/step\n",
      "\n",
      "accuracy:77.47%\n"
     ]
    }
   ],
   "source": [
    "from keras.models import Sequential\n",
    "from keras.layers import Dense\n",
    "import numpy\n",
    "\n",
    "numpy.random.seed(7)\n",
    "dataset = numpy.loadtxt('pima.data',delimiter=',')\n",
    "X = dataset[:,0:8] #데이터 변수가 8개 (독립변수) \n",
    "Y = dataset[:,8]  #종속변수 \n",
    "\n",
    " #kerner_initializer ='uniform', :초기화 방법 지정\n",
    "model = Sequential()\n",
    "# ?x8  8x12 = ?x12\n",
    "model.add(Dense(12,input_dim = 8,kernel_initializer ='uniform',activation = 'relu'))\n",
    "#?x12 12x8  = ?x8\n",
    "model.add(Dense(8,kernel_initializer ='uniform',activation = 'relu'))\n",
    "#?x8 8x1 = ?x1  분류\n",
    "model.add(Dense(1,kernel_initializer ='uniform',activation = 'sigmoid')) #0.5\n",
    "model.compile(loss= 'binary_crossentropy',optimizer = 'adam',\n",
    "             metrics = ['accuracy']) # accuracy를 밑에서 불러오는거 \n",
    "\n",
    "#데이터 분리 입력(train, test) :과적합\n",
    "#train,validation,test\n",
    "\n",
    "history=model.fit(X,Y,validation_split=0.33,epochs = 150,batch_size = 10)\n",
    "scores = model.evaluate(X,Y)\n",
    "\n",
    "#2번째  accuracy\n",
    "\n",
    "print('\\n%s:%.2f%%' %(model.metrics_names[1],scores[1]*100))"
   ]
  },
  {
   "cell_type": "code",
   "execution_count": null,
   "metadata": {},
   "outputs": [],
   "source": [
    "#우리도 모르는 사이의 만들어지는 가중치를 초기화 kerner_initializer ='uniform',"
   ]
  },
  {
   "cell_type": "code",
   "execution_count": 75,
   "metadata": {
    "scrolled": true
   },
   "outputs": [
    {
     "name": "stdout",
     "output_type": "stream",
     "text": [
      "dict_keys(['val_loss', 'val_accuracy', 'loss', 'accuracy'])\n"
     ]
    },
    {
     "data": {
      "image/png": "[encoded data removed]",
      "text/plain": [
       "<Figure size 432x288 with 1 Axes>"
      ]
     },
     "metadata": {
      "needs_background": "light"
     },
     "output_type": "display_data"
    }
   ],
   "source": [
    "import matplotlib.pyplot as plt\n",
    "print(history.history.keys())\n",
    "#val_loss, val _accuracy loss, accuracy\n",
    "plt.plot(history.history['accuracy'])\n",
    "plt.plot(history.history['val_accuracy'])\n",
    "plt.title('accuracy')\n",
    "plt.ylabel('accuracy')\n",
    "plt.xlabel('epoch')\n",
    "plt.legend(['train','test'],loc ='upper left')\n",
    "plt.show()"
   ]
  },
  {
   "cell_type": "code",
   "execution_count": 76,
   "metadata": {},
   "outputs": [
    {
     "name": "stdout",
     "output_type": "stream",
     "text": [
      "dict_keys(['val_loss', 'val_accuracy', 'loss', 'accuracy'])\n"
     ]
    },
    {
     "data": {
      "image/png": "[encoded data removed]",
      "text/plain": [
       "<Figure size 432x288 with 1 Axes>"
      ]
     },
     "metadata": {
      "needs_background": "light"
     },
     "output_type": "display_data"
    }
   ],
   "source": [
    "import matplotlib.pyplot as plt\n",
    "print(history.history.keys())\n",
    "#val_loss, val _accuracy loss, accuracy\n",
    "plt.plot(history.history['loss'])\n",
    "plt.plot(history.history['val_loss'])\n",
    "plt.title('loss')\n",
    "plt.ylabel('loss')\n",
    "plt.xlabel('epoch')\n",
    "plt.legend(['train','test'],loc ='upper left')\n",
    "plt.show()"
   ]
  },
  {
   "cell_type": "code",
   "execution_count": 77,
   "metadata": {},
   "outputs": [],
   "source": [
    "from sklearn.preprocessing import scale\n",
    "from sklearn.model_selection import train_test_split\n",
    "from sklearn.datasets import make_moons\n",
    "\n",
    "X,Y = make_moons(noise =0.2,random_state = 0,n_samples =1000)  # x = 1000 x2\n",
    "X=scale(X)\n",
    "X_train,X_test,Y_train,Y_test  = train_test_split(X,Y,test_size =.5)"
   ]
  },
  {
   "cell_type": "code",
   "execution_count": 78,
   "metadata": {
    "scrolled": true
   },
   "outputs": [
    {
     "name": "stdout",
     "output_type": "stream",
     "text": [
      "(1000, 2)\n",
      "(1000,)\n"
     ]
    }
   ],
   "source": [
    "print(X.shape)\n",
    "print(Y.shape)"
   ]
  },
  {
   "cell_type": "code",
   "execution_count": 79,
   "metadata": {},
   "outputs": [
    {
     "data": {
      "text/plain": [
       "[Text(0, 0.5, 'Y'), Text(0.5, 0, 'X'), Text(0.5, 1.0, 'binary classification')]"
      ]
     },
     "execution_count": 79,
     "metadata": {},
     "output_type": "execute_result"
    },
    {
     "data": {
      "image/png": "[encoded data removed]",
      "text/plain": [
       "<Figure size 432x288 with 1 Axes>"
      ]
     },
     "metadata": {
      "needs_background": "light"
     },
     "output_type": "display_data"
    }
   ],
   "source": [
    "fig,ax = plt.subplots()\n",
    "ax.scatter(X[Y==0,0],X[Y==0,1],label = 'Class 0')\n",
    "ax.scatter(X[Y==1,0],X[Y==1,1],color ='r',label = 'Class 1')\n",
    "ax.legend()\n",
    "ax.set(xlabel ='X',ylabel ='Y',title = 'binary classification')"
   ]
  },
  {
   "cell_type": "code",
   "execution_count": 80,
   "metadata": {},
   "outputs": [],
   "source": [
    "import keras"
   ]
  },
  {
   "cell_type": "markdown",
   "metadata": {},
   "source": [
    "# 비선형 모델 "
   ]
  },
  {
   "cell_type": "code",
   "execution_count": 83,
   "metadata": {
    "scrolled": true
   },
   "outputs": [],
   "source": [
    "#비선형 모델 - 신경망 _ 분류 \n",
    "model = Sequential()\n",
    "\n",
    "#행렬 연산 => 설명을 확대 ( 변수가 32개로 늘어남  => 설명력이 늘어남)\n",
    "#100x2  2x32 =64(가중치갯수)  1000 x 32\n",
    "model.add(Dense(32,input_dim =2, activation = 'relu'))\n",
    "\n",
    "#1000x32 32x1 = 1000x1\n",
    "model.add(Dense(1,activation = 'sigmoid'))\n",
    "model.compile(optimizer = 'AdaDelta',loss = 'binary_crossentropy',\n",
    "             metrics =['accuracy'])\n",
    "\n",
    "\n",
    "#callback 함수는 window에서 마우스를 찍거나 하는 행위에서 자동으로 호출되는 함수이다\n",
    "# tensorflow에서 callback은 이미지 직을 준비를 해라 라는 의미 \n",
    "tb_callback = keras.callbacks.TensorBoard(log_dir ='./Graph/model_1/', #저장 루트\n",
    "                                         histogram_freq = 100, write_graph = True, #\n",
    "                                         write_images = False)\n",
    "tb_callback.set_model(model)#콜백을 모델에 등록\n"
   ]
  },
  {
   "cell_type": "code",
   "execution_count": 84,
   "metadata": {},
   "outputs": [
    {
     "ename": "InvalidArgumentError",
     "evalue": "You must feed a value for placeholder tensor 'dense_20_input' with dtype float and shape [?,2]\n\t [[node dense_20_input (defined at C:\\Users\\ICT01_14\\.conda\\envs\\tf_test\\lib\\site-packages\\keras\\backend\\tensorflow_backend.py:736) ]]\n\nOriginal stack trace for 'dense_20_input':\n  File \"C:\\Users\\ICT01_14\\.conda\\envs\\tf_test\\lib\\runpy.py\", line 193, in _run_module_as_main\n    \"__main__\", mod_spec)\n  File \"C:\\Users\\ICT01_14\\.conda\\envs\\tf_test\\lib\\runpy.py\", line 85, in _run_code\n    exec(code, run_globals)\n  File \"C:\\Users\\ICT01_14\\.conda\\envs\\tf_test\\lib\\site-packages\\ipykernel_launcher.py\", line 16, in <module>\n    app.launch_new_instance()\n  File \"C:\\Users\\ICT01_14\\.conda\\envs\\tf_test\\lib\\site-packages\\traitlets\\config\\application.py\", line 664, in launch_instance\n    app.start()\n  File \"C:\\Users\\ICT01_14\\.conda\\envs\\tf_test\\lib\\site-packages\\ipykernel\\kernelapp.py\", line 583, in start\n    self.io_loop.start()\n  File \"C:\\Users\\ICT01_14\\.conda\\envs\\tf_test\\lib\\site-packages\\tornado\\platform\\asyncio.py\", line 148, in start\n    self.asyncio_loop.run_forever()\n  File \"C:\\Users\\ICT01_14\\.conda\\envs\\tf_test\\lib\\asyncio\\base_events.py\", line 538, in run_forever\n    self._run_once()\n  File \"C:\\Users\\ICT01_14\\.conda\\envs\\tf_test\\lib\\asyncio\\base_events.py\", line 1782, in _run_once\n    handle._run()\n  File \"C:\\Users\\ICT01_14\\.conda\\envs\\tf_test\\lib\\asyncio\\events.py\", line 88, in _run\n    self._context.run(self._callback, *self._args)\n  File \"C:\\Users\\ICT01_14\\.conda\\envs\\tf_test\\lib\\site-packages\\tornado\\ioloop.py\", line 690, in <lambda>\n    lambda f: self._run_callback(functools.partial(callback, future))\n  File \"C:\\Users\\ICT01_14\\.conda\\envs\\tf_test\\lib\\site-packages\\tornado\\ioloop.py\", line 743, in _run_callback\n    ret = callback()\n  File \"C:\\Users\\ICT01_14\\.conda\\envs\\tf_test\\lib\\site-packages\\tornado\\gen.py\", line 787, in inner\n    self.run()\n  File \"C:\\Users\\ICT01_14\\.conda\\envs\\tf_test\\lib\\site-packages\\tornado\\gen.py\", line 748, in run\n    yielded = self.gen.send(value)\n  File \"C:\\Users\\ICT01_14\\.conda\\envs\\tf_test\\lib\\site-packages\\ipykernel\\kernelbase.py\", line 361, in process_one\n    yield gen.maybe_future(dispatch(*args))\n  File \"C:\\Users\\ICT01_14\\.conda\\envs\\tf_test\\lib\\site-packages\\tornado\\gen.py\", line 209, in wrapper\n    yielded = next(result)\n  File \"C:\\Users\\ICT01_14\\.conda\\envs\\tf_test\\lib\\site-packages\\ipykernel\\kernelbase.py\", line 268, in dispatch_shell\n    yield gen.maybe_future(handler(stream, idents, msg))\n  File \"C:\\Users\\ICT01_14\\.conda\\envs\\tf_test\\lib\\site-packages\\tornado\\gen.py\", line 209, in wrapper\n    yielded = next(result)\n  File \"C:\\Users\\ICT01_14\\.conda\\envs\\tf_test\\lib\\site-packages\\ipykernel\\kernelbase.py\", line 541, in execute_request\n    user_expressions, allow_stdin,\n  File \"C:\\Users\\ICT01_14\\.conda\\envs\\tf_test\\lib\\site-packages\\tornado\\gen.py\", line 209, in wrapper\n    yielded = next(result)\n  File \"C:\\Users\\ICT01_14\\.conda\\envs\\tf_test\\lib\\site-packages\\ipykernel\\ipkernel.py\", line 300, in do_execute\n    res = shell.run_cell(code, store_history=store_history, silent=silent)\n  File \"C:\\Users\\ICT01_14\\.conda\\envs\\tf_test\\lib\\site-packages\\ipykernel\\zmqshell.py\", line 536, in run_cell\n    return super(ZMQInteractiveShell, self).run_cell(*args, **kwargs)\n  File \"C:\\Users\\ICT01_14\\.conda\\envs\\tf_test\\lib\\site-packages\\IPython\\core\\interactiveshell.py\", line 2848, in run_cell\n    raw_cell, store_history, silent, shell_futures)\n  File \"C:\\Users\\ICT01_14\\.conda\\envs\\tf_test\\lib\\site-packages\\IPython\\core\\interactiveshell.py\", line 2874, in _run_cell\n    return runner(coro)\n  File \"C:\\Users\\ICT01_14\\.conda\\envs\\tf_test\\lib\\site-packages\\IPython\\core\\async_helpers.py\", line 68, in _pseudo_sync_runner\n    coro.send(None)\n  File \"C:\\Users\\ICT01_14\\.conda\\envs\\tf_test\\lib\\site-packages\\IPython\\core\\interactiveshell.py\", line 3051, in run_cell_async\n    interactivity=interactivity, compiler=compiler, result=result)\n  File \"C:\\Users\\ICT01_14\\.conda\\envs\\tf_test\\lib\\site-packages\\IPython\\core\\interactiveshell.py\", line 3242, in run_ast_nodes\n    if (await self.run_code(code, result,  async_=asy)):\n  File \"C:\\Users\\ICT01_14\\.conda\\envs\\tf_test\\lib\\site-packages\\IPython\\core\\interactiveshell.py\", line 3319, in run_code\n    exec(code_obj, self.user_global_ns, self.user_ns)\n  File \"<ipython-input-81-3b419e109eee>\", line 6, in <module>\n    model.add(Dense(32,input_dim =2, activation = 'relu'))\n  File \"C:\\Users\\ICT01_14\\.conda\\envs\\tf_test\\lib\\site-packages\\keras\\engine\\sequential.py\", line 162, in add\n    name=layer.name + '_input')\n  File \"C:\\Users\\ICT01_14\\.conda\\envs\\tf_test\\lib\\site-packages\\keras\\engine\\input_layer.py\", line 178, in Input\n    input_tensor=tensor)\n  File \"C:\\Users\\ICT01_14\\.conda\\envs\\tf_test\\lib\\site-packages\\keras\\legacy\\interfaces.py\", line 91, in wrapper\n    return func(*args, **kwargs)\n  File \"C:\\Users\\ICT01_14\\.conda\\envs\\tf_test\\lib\\site-packages\\keras\\engine\\input_layer.py\", line 87, in __init__\n    name=self.name)\n  File \"C:\\Users\\ICT01_14\\.conda\\envs\\tf_test\\lib\\site-packages\\keras\\backend\\tensorflow_backend.py\", line 736, in placeholder\n    shape=shape, ndim=ndim, dtype=dtype, sparse=sparse, name=name)\n  File \"C:\\Users\\ICT01_14\\.conda\\envs\\tf_test\\lib\\site-packages\\tensorflow\\python\\keras\\backend.py\", line 998, in placeholder\n    x = array_ops.placeholder(dtype, shape=shape, name=name)\n  File \"C:\\Users\\ICT01_14\\.conda\\envs\\tf_test\\lib\\site-packages\\tensorflow\\python\\ops\\array_ops.py\", line 2143, in placeholder\n    return gen_array_ops.placeholder(dtype=dtype, shape=shape, name=name)\n  File \"C:\\Users\\ICT01_14\\.conda\\envs\\tf_test\\lib\\site-packages\\tensorflow\\python\\ops\\gen_array_ops.py\", line 6261, in placeholder\n    \"Placeholder\", dtype=dtype, shape=shape, name=name)\n  File \"C:\\Users\\ICT01_14\\.conda\\envs\\tf_test\\lib\\site-packages\\tensorflow\\python\\framework\\op_def_library.py\", line 788, in _apply_op_helper\n    op_def=op_def)\n  File \"C:\\Users\\ICT01_14\\.conda\\envs\\tf_test\\lib\\site-packages\\tensorflow\\python\\util\\deprecation.py\", line 507, in new_func\n    return func(*args, **kwargs)\n  File \"C:\\Users\\ICT01_14\\.conda\\envs\\tf_test\\lib\\site-packages\\tensorflow\\python\\framework\\ops.py\", line 3616, in create_op\n    op_def=op_def)\n  File \"C:\\Users\\ICT01_14\\.conda\\envs\\tf_test\\lib\\site-packages\\tensorflow\\python\\framework\\ops.py\", line 2005, in __init__\n    self._traceback = tf_stack.extract_stack()\n",
     "output_type": "error",
     "traceback": [
      "\u001b[1;31m---------------------------------------------------------------------------\u001b[0m",
      "\u001b[1;31mInvalidArgumentError\u001b[0m                      Traceback (most recent call last)",
      "\u001b[1;32m~\\.conda\\envs\\tf_test\\lib\\site-packages\\tensorflow\\python\\client\\session.py\u001b[0m in \u001b[0;36m_do_call\u001b[1;34m(self, fn, *args)\u001b[0m\n\u001b[0;32m   1355\u001b[0m     \u001b[1;32mtry\u001b[0m\u001b[1;33m:\u001b[0m\u001b[1;33m\u001b[0m\u001b[1;33m\u001b[0m\u001b[0m\n\u001b[1;32m-> 1356\u001b[1;33m       \u001b[1;32mreturn\u001b[0m \u001b[0mfn\u001b[0m\u001b[1;33m(\u001b[0m\u001b[1;33m*\u001b[0m\u001b[0margs\u001b[0m\u001b[1;33m)\u001b[0m\u001b[1;33m\u001b[0m\u001b[1;33m\u001b[0m\u001b[0m\n\u001b[0m\u001b[0;32m   1357\u001b[0m     \u001b[1;32mexcept\u001b[0m \u001b[0merrors\u001b[0m\u001b[1;33m.\u001b[0m\u001b[0mOpError\u001b[0m \u001b[1;32mas\u001b[0m \u001b[0me\u001b[0m\u001b[1;33m:\u001b[0m\u001b[1;33m\u001b[0m\u001b[1;33m\u001b[0m\u001b[0m\n",
      "\u001b[1;32m~\\.conda\\envs\\tf_test\\lib\\site-packages\\tensorflow\\python\\client\\session.py\u001b[0m in \u001b[0;36m_run_fn\u001b[1;34m(feed_dict, fetch_list, target_list, options, run_metadata)\u001b[0m\n\u001b[0;32m   1340\u001b[0m       return self._call_tf_sessionrun(\n\u001b[1;32m-> 1341\u001b[1;33m           options, feed_dict, fetch_list, target_list, run_metadata)\n\u001b[0m\u001b[0;32m   1342\u001b[0m \u001b[1;33m\u001b[0m\u001b[0m\n",
      "\u001b[1;32m~\\.conda\\envs\\tf_test\\lib\\site-packages\\tensorflow\\python\\client\\session.py\u001b[0m in \u001b[0;36m_call_tf_sessionrun\u001b[1;34m(self, options, feed_dict, fetch_list, target_list, run_metadata)\u001b[0m\n\u001b[0;32m   1428\u001b[0m         \u001b[0mself\u001b[0m\u001b[1;33m.\u001b[0m\u001b[0m_session\u001b[0m\u001b[1;33m,\u001b[0m \u001b[0moptions\u001b[0m\u001b[1;33m,\u001b[0m \u001b[0mfeed_dict\u001b[0m\u001b[1;33m,\u001b[0m \u001b[0mfetch_list\u001b[0m\u001b[1;33m,\u001b[0m \u001b[0mtarget_list\u001b[0m\u001b[1;33m,\u001b[0m\u001b[1;33m\u001b[0m\u001b[1;33m\u001b[0m\u001b[0m\n\u001b[1;32m-> 1429\u001b[1;33m         run_metadata)\n\u001b[0m\u001b[0;32m   1430\u001b[0m \u001b[1;33m\u001b[0m\u001b[0m\n",
      "\u001b[1;31mInvalidArgumentError\u001b[0m: You must feed a value for placeholder tensor 'dense_20_input' with dtype float and shape [?,2]\n\t [[{{node dense_20_input}}]]",
      "\nDuring handling of the above exception, another exception occurred:\n",
      "\u001b[1;31mInvalidArgumentError\u001b[0m                      Traceback (most recent call last)",
      "\u001b[1;32m<ipython-input-84-ba1cfd97e55f>\u001b[0m in \u001b[0;36m<module>\u001b[1;34m\u001b[0m\n\u001b[1;32m----> 1\u001b[1;33m \u001b[0mhist\u001b[0m \u001b[1;33m=\u001b[0m \u001b[0mmodel\u001b[0m\u001b[1;33m.\u001b[0m\u001b[0mfit\u001b[0m\u001b[1;33m(\u001b[0m\u001b[0mX_train\u001b[0m\u001b[1;33m,\u001b[0m \u001b[0mY_train\u001b[0m\u001b[1;33m,\u001b[0m \u001b[0mbatch_size\u001b[0m\u001b[1;33m=\u001b[0m\u001b[1;36m32\u001b[0m\u001b[1;33m,\u001b[0m \u001b[0mepochs\u001b[0m\u001b[1;33m=\u001b[0m\u001b[1;36m200\u001b[0m\u001b[1;33m,\u001b[0m \u001b[0mverbose\u001b[0m\u001b[1;33m=\u001b[0m \u001b[1;36m0\u001b[0m\u001b[1;33m,\u001b[0m \u001b[0mvalidation_data\u001b[0m \u001b[1;33m=\u001b[0m \u001b[1;33m(\u001b[0m\u001b[0mX_test\u001b[0m\u001b[1;33m,\u001b[0m \u001b[0mY_test\u001b[0m\u001b[1;33m)\u001b[0m\u001b[1;33m,\u001b[0m \u001b[0mcallbacks\u001b[0m\u001b[1;33m=\u001b[0m\u001b[1;33m[\u001b[0m\u001b[0mtb_callback\u001b[0m\u001b[1;33m]\u001b[0m\u001b[1;33m)\u001b[0m\u001b[1;33m\u001b[0m\u001b[1;33m\u001b[0m\u001b[0m\n\u001b[0m",
      "\u001b[1;32m~\\.conda\\envs\\tf_test\\lib\\site-packages\\keras\\engine\\training.py\u001b[0m in \u001b[0;36mfit\u001b[1;34m(self, x, y, batch_size, epochs, verbose, callbacks, validation_split, validation_data, shuffle, class_weight, sample_weight, initial_epoch, steps_per_epoch, validation_steps, validation_freq, max_queue_size, workers, use_multiprocessing, **kwargs)\u001b[0m\n\u001b[0;32m   1237\u001b[0m                                         \u001b[0msteps_per_epoch\u001b[0m\u001b[1;33m=\u001b[0m\u001b[0msteps_per_epoch\u001b[0m\u001b[1;33m,\u001b[0m\u001b[1;33m\u001b[0m\u001b[1;33m\u001b[0m\u001b[0m\n\u001b[0;32m   1238\u001b[0m                                         \u001b[0mvalidation_steps\u001b[0m\u001b[1;33m=\u001b[0m\u001b[0mvalidation_steps\u001b[0m\u001b[1;33m,\u001b[0m\u001b[1;33m\u001b[0m\u001b[1;33m\u001b[0m\u001b[0m\n\u001b[1;32m-> 1239\u001b[1;33m                                         validation_freq=validation_freq)\n\u001b[0m\u001b[0;32m   1240\u001b[0m \u001b[1;33m\u001b[0m\u001b[0m\n\u001b[0;32m   1241\u001b[0m     def evaluate(self,\n",
      "\u001b[1;32m~\\.conda\\envs\\tf_test\\lib\\site-packages\\keras\\engine\\training_arrays.py\u001b[0m in \u001b[0;36mfit_loop\u001b[1;34m(model, fit_function, fit_inputs, out_labels, batch_size, epochs, verbose, callbacks, val_function, val_inputs, shuffle, initial_epoch, steps_per_epoch, validation_steps, validation_freq)\u001b[0m\n\u001b[0;32m    214\u001b[0m                         \u001b[0mepoch_logs\u001b[0m\u001b[1;33m[\u001b[0m\u001b[1;34m'val_'\u001b[0m \u001b[1;33m+\u001b[0m \u001b[0ml\u001b[0m\u001b[1;33m]\u001b[0m \u001b[1;33m=\u001b[0m \u001b[0mo\u001b[0m\u001b[1;33m\u001b[0m\u001b[1;33m\u001b[0m\u001b[0m\n\u001b[0;32m    215\u001b[0m \u001b[1;33m\u001b[0m\u001b[0m\n\u001b[1;32m--> 216\u001b[1;33m         \u001b[0mcallbacks\u001b[0m\u001b[1;33m.\u001b[0m\u001b[0mon_epoch_end\u001b[0m\u001b[1;33m(\u001b[0m\u001b[0mepoch\u001b[0m\u001b[1;33m,\u001b[0m \u001b[0mepoch_logs\u001b[0m\u001b[1;33m)\u001b[0m\u001b[1;33m\u001b[0m\u001b[1;33m\u001b[0m\u001b[0m\n\u001b[0m\u001b[0;32m    217\u001b[0m         \u001b[1;32mif\u001b[0m \u001b[0mcallbacks\u001b[0m\u001b[1;33m.\u001b[0m\u001b[0mmodel\u001b[0m\u001b[1;33m.\u001b[0m\u001b[0mstop_training\u001b[0m\u001b[1;33m:\u001b[0m\u001b[1;33m\u001b[0m\u001b[1;33m\u001b[0m\u001b[0m\n\u001b[0;32m    218\u001b[0m             \u001b[1;32mbreak\u001b[0m\u001b[1;33m\u001b[0m\u001b[1;33m\u001b[0m\u001b[0m\n",
      "\u001b[1;32m~\\.conda\\envs\\tf_test\\lib\\site-packages\\keras\\callbacks\\callbacks.py\u001b[0m in \u001b[0;36mon_epoch_end\u001b[1;34m(self, epoch, logs)\u001b[0m\n\u001b[0;32m    150\u001b[0m         \u001b[0mlogs\u001b[0m \u001b[1;33m=\u001b[0m \u001b[0mlogs\u001b[0m \u001b[1;32mor\u001b[0m \u001b[1;33m{\u001b[0m\u001b[1;33m}\u001b[0m\u001b[1;33m\u001b[0m\u001b[1;33m\u001b[0m\u001b[0m\n\u001b[0;32m    151\u001b[0m         \u001b[1;32mfor\u001b[0m \u001b[0mcallback\u001b[0m \u001b[1;32min\u001b[0m \u001b[0mself\u001b[0m\u001b[1;33m.\u001b[0m\u001b[0mcallbacks\u001b[0m\u001b[1;33m:\u001b[0m\u001b[1;33m\u001b[0m\u001b[1;33m\u001b[0m\u001b[0m\n\u001b[1;32m--> 152\u001b[1;33m             \u001b[0mcallback\u001b[0m\u001b[1;33m.\u001b[0m\u001b[0mon_epoch_end\u001b[0m\u001b[1;33m(\u001b[0m\u001b[0mepoch\u001b[0m\u001b[1;33m,\u001b[0m \u001b[0mlogs\u001b[0m\u001b[1;33m)\u001b[0m\u001b[1;33m\u001b[0m\u001b[1;33m\u001b[0m\u001b[0m\n\u001b[0m\u001b[0;32m    153\u001b[0m \u001b[1;33m\u001b[0m\u001b[0m\n\u001b[0;32m    154\u001b[0m     \u001b[1;32mdef\u001b[0m \u001b[0mon_train_batch_begin\u001b[0m\u001b[1;33m(\u001b[0m\u001b[0mself\u001b[0m\u001b[1;33m,\u001b[0m \u001b[0mbatch\u001b[0m\u001b[1;33m,\u001b[0m \u001b[0mlogs\u001b[0m\u001b[1;33m=\u001b[0m\u001b[1;32mNone\u001b[0m\u001b[1;33m)\u001b[0m\u001b[1;33m:\u001b[0m\u001b[1;33m\u001b[0m\u001b[1;33m\u001b[0m\u001b[0m\n",
      "\u001b[1;32m~\\.conda\\envs\\tf_test\\lib\\site-packages\\keras\\callbacks\\tensorboard_v1.py\u001b[0m in \u001b[0;36mon_epoch_end\u001b[1;34m(self, epoch, logs)\u001b[0m\n\u001b[0;32m    287\u001b[0m                     \u001b[1;32massert\u001b[0m \u001b[0mlen\u001b[0m\u001b[1;33m(\u001b[0m\u001b[0mbatch_val\u001b[0m\u001b[1;33m)\u001b[0m \u001b[1;33m==\u001b[0m \u001b[0mlen\u001b[0m\u001b[1;33m(\u001b[0m\u001b[0mtensors\u001b[0m\u001b[1;33m)\u001b[0m\u001b[1;33m\u001b[0m\u001b[1;33m\u001b[0m\u001b[0m\n\u001b[0;32m    288\u001b[0m                     \u001b[0mfeed_dict\u001b[0m \u001b[1;33m=\u001b[0m \u001b[0mdict\u001b[0m\u001b[1;33m(\u001b[0m\u001b[0mzip\u001b[0m\u001b[1;33m(\u001b[0m\u001b[0mtensors\u001b[0m\u001b[1;33m,\u001b[0m \u001b[0mbatch_val\u001b[0m\u001b[1;33m)\u001b[0m\u001b[1;33m)\u001b[0m\u001b[1;33m\u001b[0m\u001b[1;33m\u001b[0m\u001b[0m\n\u001b[1;32m--> 289\u001b[1;33m                     \u001b[0mresult\u001b[0m \u001b[1;33m=\u001b[0m \u001b[0mself\u001b[0m\u001b[1;33m.\u001b[0m\u001b[0msess\u001b[0m\u001b[1;33m.\u001b[0m\u001b[0mrun\u001b[0m\u001b[1;33m(\u001b[0m\u001b[1;33m[\u001b[0m\u001b[0mself\u001b[0m\u001b[1;33m.\u001b[0m\u001b[0mmerged\u001b[0m\u001b[1;33m]\u001b[0m\u001b[1;33m,\u001b[0m \u001b[0mfeed_dict\u001b[0m\u001b[1;33m=\u001b[0m\u001b[0mfeed_dict\u001b[0m\u001b[1;33m)\u001b[0m\u001b[1;33m\u001b[0m\u001b[1;33m\u001b[0m\u001b[0m\n\u001b[0m\u001b[0;32m    290\u001b[0m                     \u001b[0msummary_str\u001b[0m \u001b[1;33m=\u001b[0m \u001b[0mresult\u001b[0m\u001b[1;33m[\u001b[0m\u001b[1;36m0\u001b[0m\u001b[1;33m]\u001b[0m\u001b[1;33m\u001b[0m\u001b[1;33m\u001b[0m\u001b[0m\n\u001b[0;32m    291\u001b[0m                     \u001b[0mself\u001b[0m\u001b[1;33m.\u001b[0m\u001b[0mwriter\u001b[0m\u001b[1;33m.\u001b[0m\u001b[0madd_summary\u001b[0m\u001b[1;33m(\u001b[0m\u001b[0msummary_str\u001b[0m\u001b[1;33m,\u001b[0m \u001b[0mepoch\u001b[0m\u001b[1;33m)\u001b[0m\u001b[1;33m\u001b[0m\u001b[1;33m\u001b[0m\u001b[0m\n",
      "\u001b[1;32m~\\.conda\\envs\\tf_test\\lib\\site-packages\\tensorflow\\python\\client\\session.py\u001b[0m in \u001b[0;36mrun\u001b[1;34m(self, fetches, feed_dict, options, run_metadata)\u001b[0m\n\u001b[0;32m    948\u001b[0m     \u001b[1;32mtry\u001b[0m\u001b[1;33m:\u001b[0m\u001b[1;33m\u001b[0m\u001b[1;33m\u001b[0m\u001b[0m\n\u001b[0;32m    949\u001b[0m       result = self._run(None, fetches, feed_dict, options_ptr,\n\u001b[1;32m--> 950\u001b[1;33m                          run_metadata_ptr)\n\u001b[0m\u001b[0;32m    951\u001b[0m       \u001b[1;32mif\u001b[0m \u001b[0mrun_metadata\u001b[0m\u001b[1;33m:\u001b[0m\u001b[1;33m\u001b[0m\u001b[1;33m\u001b[0m\u001b[0m\n\u001b[0;32m    952\u001b[0m         \u001b[0mproto_data\u001b[0m \u001b[1;33m=\u001b[0m \u001b[0mtf_session\u001b[0m\u001b[1;33m.\u001b[0m\u001b[0mTF_GetBuffer\u001b[0m\u001b[1;33m(\u001b[0m\u001b[0mrun_metadata_ptr\u001b[0m\u001b[1;33m)\u001b[0m\u001b[1;33m\u001b[0m\u001b[1;33m\u001b[0m\u001b[0m\n",
      "\u001b[1;32m~\\.conda\\envs\\tf_test\\lib\\site-packages\\tensorflow\\python\\client\\session.py\u001b[0m in \u001b[0;36m_run\u001b[1;34m(self, handle, fetches, feed_dict, options, run_metadata)\u001b[0m\n\u001b[0;32m   1171\u001b[0m     \u001b[1;32mif\u001b[0m \u001b[0mfinal_fetches\u001b[0m \u001b[1;32mor\u001b[0m \u001b[0mfinal_targets\u001b[0m \u001b[1;32mor\u001b[0m \u001b[1;33m(\u001b[0m\u001b[0mhandle\u001b[0m \u001b[1;32mand\u001b[0m \u001b[0mfeed_dict_tensor\u001b[0m\u001b[1;33m)\u001b[0m\u001b[1;33m:\u001b[0m\u001b[1;33m\u001b[0m\u001b[1;33m\u001b[0m\u001b[0m\n\u001b[0;32m   1172\u001b[0m       results = self._do_run(handle, final_targets, final_fetches,\n\u001b[1;32m-> 1173\u001b[1;33m                              feed_dict_tensor, options, run_metadata)\n\u001b[0m\u001b[0;32m   1174\u001b[0m     \u001b[1;32melse\u001b[0m\u001b[1;33m:\u001b[0m\u001b[1;33m\u001b[0m\u001b[1;33m\u001b[0m\u001b[0m\n\u001b[0;32m   1175\u001b[0m       \u001b[0mresults\u001b[0m \u001b[1;33m=\u001b[0m \u001b[1;33m[\u001b[0m\u001b[1;33m]\u001b[0m\u001b[1;33m\u001b[0m\u001b[1;33m\u001b[0m\u001b[0m\n",
      "\u001b[1;32m~\\.conda\\envs\\tf_test\\lib\\site-packages\\tensorflow\\python\\client\\session.py\u001b[0m in \u001b[0;36m_do_run\u001b[1;34m(self, handle, target_list, fetch_list, feed_dict, options, run_metadata)\u001b[0m\n\u001b[0;32m   1348\u001b[0m     \u001b[1;32mif\u001b[0m \u001b[0mhandle\u001b[0m \u001b[1;32mis\u001b[0m \u001b[1;32mNone\u001b[0m\u001b[1;33m:\u001b[0m\u001b[1;33m\u001b[0m\u001b[1;33m\u001b[0m\u001b[0m\n\u001b[0;32m   1349\u001b[0m       return self._do_call(_run_fn, feeds, fetches, targets, options,\n\u001b[1;32m-> 1350\u001b[1;33m                            run_metadata)\n\u001b[0m\u001b[0;32m   1351\u001b[0m     \u001b[1;32melse\u001b[0m\u001b[1;33m:\u001b[0m\u001b[1;33m\u001b[0m\u001b[1;33m\u001b[0m\u001b[0m\n\u001b[0;32m   1352\u001b[0m       \u001b[1;32mreturn\u001b[0m \u001b[0mself\u001b[0m\u001b[1;33m.\u001b[0m\u001b[0m_do_call\u001b[0m\u001b[1;33m(\u001b[0m\u001b[0m_prun_fn\u001b[0m\u001b[1;33m,\u001b[0m \u001b[0mhandle\u001b[0m\u001b[1;33m,\u001b[0m \u001b[0mfeeds\u001b[0m\u001b[1;33m,\u001b[0m \u001b[0mfetches\u001b[0m\u001b[1;33m)\u001b[0m\u001b[1;33m\u001b[0m\u001b[1;33m\u001b[0m\u001b[0m\n",
      "\u001b[1;32m~\\.conda\\envs\\tf_test\\lib\\site-packages\\tensorflow\\python\\client\\session.py\u001b[0m in \u001b[0;36m_do_call\u001b[1;34m(self, fn, *args)\u001b[0m\n\u001b[0;32m   1368\u001b[0m           \u001b[1;32mpass\u001b[0m\u001b[1;33m\u001b[0m\u001b[1;33m\u001b[0m\u001b[0m\n\u001b[0;32m   1369\u001b[0m       \u001b[0mmessage\u001b[0m \u001b[1;33m=\u001b[0m \u001b[0merror_interpolation\u001b[0m\u001b[1;33m.\u001b[0m\u001b[0minterpolate\u001b[0m\u001b[1;33m(\u001b[0m\u001b[0mmessage\u001b[0m\u001b[1;33m,\u001b[0m \u001b[0mself\u001b[0m\u001b[1;33m.\u001b[0m\u001b[0m_graph\u001b[0m\u001b[1;33m)\u001b[0m\u001b[1;33m\u001b[0m\u001b[1;33m\u001b[0m\u001b[0m\n\u001b[1;32m-> 1370\u001b[1;33m       \u001b[1;32mraise\u001b[0m \u001b[0mtype\u001b[0m\u001b[1;33m(\u001b[0m\u001b[0me\u001b[0m\u001b[1;33m)\u001b[0m\u001b[1;33m(\u001b[0m\u001b[0mnode_def\u001b[0m\u001b[1;33m,\u001b[0m \u001b[0mop\u001b[0m\u001b[1;33m,\u001b[0m \u001b[0mmessage\u001b[0m\u001b[1;33m)\u001b[0m\u001b[1;33m\u001b[0m\u001b[1;33m\u001b[0m\u001b[0m\n\u001b[0m\u001b[0;32m   1371\u001b[0m \u001b[1;33m\u001b[0m\u001b[0m\n\u001b[0;32m   1372\u001b[0m   \u001b[1;32mdef\u001b[0m \u001b[0m_extend_graph\u001b[0m\u001b[1;33m(\u001b[0m\u001b[0mself\u001b[0m\u001b[1;33m)\u001b[0m\u001b[1;33m:\u001b[0m\u001b[1;33m\u001b[0m\u001b[1;33m\u001b[0m\u001b[0m\n",
      "\u001b[1;31mInvalidArgumentError\u001b[0m: You must feed a value for placeholder tensor 'dense_20_input' with dtype float and shape [?,2]\n\t [[node dense_20_input (defined at C:\\Users\\ICT01_14\\.conda\\envs\\tf_test\\lib\\site-packages\\keras\\backend\\tensorflow_backend.py:736) ]]\n\nOriginal stack trace for 'dense_20_input':\n  File \"C:\\Users\\ICT01_14\\.conda\\envs\\tf_test\\lib\\runpy.py\", line 193, in _run_module_as_main\n    \"__main__\", mod_spec)\n  File \"C:\\Users\\ICT01_14\\.conda\\envs\\tf_test\\lib\\runpy.py\", line 85, in _run_code\n    exec(code, run_globals)\n  File \"C:\\Users\\ICT01_14\\.conda\\envs\\tf_test\\lib\\site-packages\\ipykernel_launcher.py\", line 16, in <module>\n    app.launch_new_instance()\n  File \"C:\\Users\\ICT01_14\\.conda\\envs\\tf_test\\lib\\site-packages\\traitlets\\config\\application.py\", line 664, in launch_instance\n    app.start()\n  File \"C:\\Users\\ICT01_14\\.conda\\envs\\tf_test\\lib\\site-packages\\ipykernel\\kernelapp.py\", line 583, in start\n    self.io_loop.start()\n  File \"C:\\Users\\ICT01_14\\.conda\\envs\\tf_test\\lib\\site-packages\\tornado\\platform\\asyncio.py\", line 148, in start\n    self.asyncio_loop.run_forever()\n  File \"C:\\Users\\ICT01_14\\.conda\\envs\\tf_test\\lib\\asyncio\\base_events.py\", line 538, in run_forever\n    self._run_once()\n  File \"C:\\Users\\ICT01_14\\.conda\\envs\\tf_test\\lib\\asyncio\\base_events.py\", line 1782, in _run_once\n    handle._run()\n  File \"C:\\Users\\ICT01_14\\.conda\\envs\\tf_test\\lib\\asyncio\\events.py\", line 88, in _run\n    self._context.run(self._callback, *self._args)\n  File \"C:\\Users\\ICT01_14\\.conda\\envs\\tf_test\\lib\\site-packages\\tornado\\ioloop.py\", line 690, in <lambda>\n    lambda f: self._run_callback(functools.partial(callback, future))\n  File \"C:\\Users\\ICT01_14\\.conda\\envs\\tf_test\\lib\\site-packages\\tornado\\ioloop.py\", line 743, in _run_callback\n    ret = callback()\n  File \"C:\\Users\\ICT01_14\\.conda\\envs\\tf_test\\lib\\site-packages\\tornado\\gen.py\", line 787, in inner\n    self.run()\n  File \"C:\\Users\\ICT01_14\\.conda\\envs\\tf_test\\lib\\site-packages\\tornado\\gen.py\", line 748, in run\n    yielded = self.gen.send(value)\n  File \"C:\\Users\\ICT01_14\\.conda\\envs\\tf_test\\lib\\site-packages\\ipykernel\\kernelbase.py\", line 361, in process_one\n    yield gen.maybe_future(dispatch(*args))\n  File \"C:\\Users\\ICT01_14\\.conda\\envs\\tf_test\\lib\\site-packages\\tornado\\gen.py\", line 209, in wrapper\n    yielded = next(result)\n  File \"C:\\Users\\ICT01_14\\.conda\\envs\\tf_test\\lib\\site-packages\\ipykernel\\kernelbase.py\", line 268, in dispatch_shell\n    yield gen.maybe_future(handler(stream, idents, msg))\n  File \"C:\\Users\\ICT01_14\\.conda\\envs\\tf_test\\lib\\site-packages\\tornado\\gen.py\", line 209, in wrapper\n    yielded = next(result)\n  File \"C:\\Users\\ICT01_14\\.conda\\envs\\tf_test\\lib\\site-packages\\ipykernel\\kernelbase.py\", line 541, in execute_request\n    user_expressions, allow_stdin,\n  File \"C:\\Users\\ICT01_14\\.conda\\envs\\tf_test\\lib\\site-packages\\tornado\\gen.py\", line 209, in wrapper\n    yielded = next(result)\n  File \"C:\\Users\\ICT01_14\\.conda\\envs\\tf_test\\lib\\site-packages\\ipykernel\\ipkernel.py\", line 300, in do_execute\n    res = shell.run_cell(code, store_history=store_history, silent=silent)\n  File \"C:\\Users\\ICT01_14\\.conda\\envs\\tf_test\\lib\\site-packages\\ipykernel\\zmqshell.py\", line 536, in run_cell\n    return super(ZMQInteractiveShell, self).run_cell(*args, **kwargs)\n  File \"C:\\Users\\ICT01_14\\.conda\\envs\\tf_test\\lib\\site-packages\\IPython\\core\\interactiveshell.py\", line 2848, in run_cell\n    raw_cell, store_history, silent, shell_futures)\n  File \"C:\\Users\\ICT01_14\\.conda\\envs\\tf_test\\lib\\site-packages\\IPython\\core\\interactiveshell.py\", line 2874, in _run_cell\n    return runner(coro)\n  File \"C:\\Users\\ICT01_14\\.conda\\envs\\tf_test\\lib\\site-packages\\IPython\\core\\async_helpers.py\", line 68, in _pseudo_sync_runner\n    coro.send(None)\n  File \"C:\\Users\\ICT01_14\\.conda\\envs\\tf_test\\lib\\site-packages\\IPython\\core\\interactiveshell.py\", line 3051, in run_cell_async\n    interactivity=interactivity, compiler=compiler, result=result)\n  File \"C:\\Users\\ICT01_14\\.conda\\envs\\tf_test\\lib\\site-packages\\IPython\\core\\interactiveshell.py\", line 3242, in run_ast_nodes\n    if (await self.run_code(code, result,  async_=asy)):\n  File \"C:\\Users\\ICT01_14\\.conda\\envs\\tf_test\\lib\\site-packages\\IPython\\core\\interactiveshell.py\", line 3319, in run_code\n    exec(code_obj, self.user_global_ns, self.user_ns)\n  File \"<ipython-input-81-3b419e109eee>\", line 6, in <module>\n    model.add(Dense(32,input_dim =2, activation = 'relu'))\n  File \"C:\\Users\\ICT01_14\\.conda\\envs\\tf_test\\lib\\site-packages\\keras\\engine\\sequential.py\", line 162, in add\n    name=layer.name + '_input')\n  File \"C:\\Users\\ICT01_14\\.conda\\envs\\tf_test\\lib\\site-packages\\keras\\engine\\input_layer.py\", line 178, in Input\n    input_tensor=tensor)\n  File \"C:\\Users\\ICT01_14\\.conda\\envs\\tf_test\\lib\\site-packages\\keras\\legacy\\interfaces.py\", line 91, in wrapper\n    return func(*args, **kwargs)\n  File \"C:\\Users\\ICT01_14\\.conda\\envs\\tf_test\\lib\\site-packages\\keras\\engine\\input_layer.py\", line 87, in __init__\n    name=self.name)\n  File \"C:\\Users\\ICT01_14\\.conda\\envs\\tf_test\\lib\\site-packages\\keras\\backend\\tensorflow_backend.py\", line 736, in placeholder\n    shape=shape, ndim=ndim, dtype=dtype, sparse=sparse, name=name)\n  File \"C:\\Users\\ICT01_14\\.conda\\envs\\tf_test\\lib\\site-packages\\tensorflow\\python\\keras\\backend.py\", line 998, in placeholder\n    x = array_ops.placeholder(dtype, shape=shape, name=name)\n  File \"C:\\Users\\ICT01_14\\.conda\\envs\\tf_test\\lib\\site-packages\\tensorflow\\python\\ops\\array_ops.py\", line 2143, in placeholder\n    return gen_array_ops.placeholder(dtype=dtype, shape=shape, name=name)\n  File \"C:\\Users\\ICT01_14\\.conda\\envs\\tf_test\\lib\\site-packages\\tensorflow\\python\\ops\\gen_array_ops.py\", line 6261, in placeholder\n    \"Placeholder\", dtype=dtype, shape=shape, name=name)\n  File \"C:\\Users\\ICT01_14\\.conda\\envs\\tf_test\\lib\\site-packages\\tensorflow\\python\\framework\\op_def_library.py\", line 788, in _apply_op_helper\n    op_def=op_def)\n  File \"C:\\Users\\ICT01_14\\.conda\\envs\\tf_test\\lib\\site-packages\\tensorflow\\python\\util\\deprecation.py\", line 507, in new_func\n    return func(*args, **kwargs)\n  File \"C:\\Users\\ICT01_14\\.conda\\envs\\tf_test\\lib\\site-packages\\tensorflow\\python\\framework\\ops.py\", line 3616, in create_op\n    op_def=op_def)\n  File \"C:\\Users\\ICT01_14\\.conda\\envs\\tf_test\\lib\\site-packages\\tensorflow\\python\\framework\\ops.py\", line 2005, in __init__\n    self._traceback = tf_stack.extract_stack()\n"
     ]
    }
   ],
   "source": [
    "hist = model.fit(X_train, Y_train, batch_size=32, epochs=200, verbose= 0, validation_data = (X_test, Y_test), callbacks=[tb_callback])"
   ]
  },
  {
   "cell_type": "code",
   "execution_count": 85,
   "metadata": {
    "scrolled": true
   },
   "outputs": [
    {
     "name": "stdout",
     "output_type": "stream",
     "text": [
      "Test loss: 0.6845313115119934\n",
      "Test accuracy: 0.5879999995231628\n"
     ]
    }
   ],
   "source": [
    "score = model.evaluate(X_test, Y_test, verbose=0)\n",
    "print('Test loss:', score[0])\n",
    "print('Test accuracy:', score[1])"
   ]
  },
  {
   "cell_type": "code",
   "execution_count": 86,
   "metadata": {},
   "outputs": [
    {
     "name": "stdout",
     "output_type": "stream",
     "text": [
      "Model: \"sequential_12\"\n",
      "_________________________________________________________________\n",
      "Layer (type)                 Output Shape              Param #   \n",
      "=================================================================\n",
      "dense_22 (Dense)             (None, 32)                96        \n",
      "_________________________________________________________________\n",
      "dense_23 (Dense)             (None, 1)                 33        \n",
      "=================================================================\n",
      "Total params: 129\n",
      "Trainable params: 129\n",
      "Non-trainable params: 0\n",
      "_________________________________________________________________\n"
     ]
    }
   ],
   "source": [
    "keras.utils.print_summary(model)"
   ]
  },
  {
   "cell_type": "code",
   "execution_count": 87,
   "metadata": {},
   "outputs": [
    {
     "ename": "OSError",
     "evalue": "`pydot` failed to call GraphViz.Please install GraphViz (https://www.graphviz.org/) and ensure that its executables are in the $PATH.",
     "output_type": "error",
     "traceback": [
      "\u001b[1;31m---------------------------------------------------------------------------\u001b[0m",
      "\u001b[1;31mFileNotFoundError\u001b[0m                         Traceback (most recent call last)",
      "\u001b[1;32m~\\.conda\\envs\\tf_test\\lib\\site-packages\\pydot.py\u001b[0m in \u001b[0;36mcreate\u001b[1;34m(self, prog, format, encoding)\u001b[0m\n\u001b[0;32m   1914\u001b[0m                 \u001b[0marguments\u001b[0m\u001b[1;33m=\u001b[0m\u001b[0marguments\u001b[0m\u001b[1;33m,\u001b[0m\u001b[1;33m\u001b[0m\u001b[1;33m\u001b[0m\u001b[0m\n\u001b[1;32m-> 1915\u001b[1;33m                 \u001b[0mworking_dir\u001b[0m\u001b[1;33m=\u001b[0m\u001b[0mtmp_dir\u001b[0m\u001b[1;33m,\u001b[0m\u001b[1;33m\u001b[0m\u001b[1;33m\u001b[0m\u001b[0m\n\u001b[0m\u001b[0;32m   1916\u001b[0m             )\n",
      "\u001b[1;32m~\\.conda\\envs\\tf_test\\lib\\site-packages\\pydot.py\u001b[0m in \u001b[0;36mcall_graphviz\u001b[1;34m(program, arguments, working_dir, **kwargs)\u001b[0m\n\u001b[0;32m    135\u001b[0m         \u001b[0mstdout\u001b[0m\u001b[1;33m=\u001b[0m\u001b[0msubprocess\u001b[0m\u001b[1;33m.\u001b[0m\u001b[0mPIPE\u001b[0m\u001b[1;33m,\u001b[0m\u001b[1;33m\u001b[0m\u001b[1;33m\u001b[0m\u001b[0m\n\u001b[1;32m--> 136\u001b[1;33m         \u001b[1;33m**\u001b[0m\u001b[0mkwargs\u001b[0m\u001b[1;33m\u001b[0m\u001b[1;33m\u001b[0m\u001b[0m\n\u001b[0m\u001b[0;32m    137\u001b[0m     )\n",
      "\u001b[1;32m~\\.conda\\envs\\tf_test\\lib\\subprocess.py\u001b[0m in \u001b[0;36m__init__\u001b[1;34m(self, args, bufsize, executable, stdin, stdout, stderr, preexec_fn, close_fds, shell, cwd, env, universal_newlines, startupinfo, creationflags, restore_signals, start_new_session, pass_fds, encoding, errors, text)\u001b[0m\n\u001b[0;32m    799\u001b[0m                                 \u001b[0merrread\u001b[0m\u001b[1;33m,\u001b[0m \u001b[0merrwrite\u001b[0m\u001b[1;33m,\u001b[0m\u001b[1;33m\u001b[0m\u001b[1;33m\u001b[0m\u001b[0m\n\u001b[1;32m--> 800\u001b[1;33m                                 restore_signals, start_new_session)\n\u001b[0m\u001b[0;32m    801\u001b[0m         \u001b[1;32mexcept\u001b[0m\u001b[1;33m:\u001b[0m\u001b[1;33m\u001b[0m\u001b[1;33m\u001b[0m\u001b[0m\n",
      "\u001b[1;32m~\\.conda\\envs\\tf_test\\lib\\subprocess.py\u001b[0m in \u001b[0;36m_execute_child\u001b[1;34m(self, args, executable, preexec_fn, close_fds, pass_fds, cwd, env, startupinfo, creationflags, shell, p2cread, p2cwrite, c2pread, c2pwrite, errread, errwrite, unused_restore_signals, unused_start_new_session)\u001b[0m\n\u001b[0;32m   1206\u001b[0m                                          \u001b[0mos\u001b[0m\u001b[1;33m.\u001b[0m\u001b[0mfspath\u001b[0m\u001b[1;33m(\u001b[0m\u001b[0mcwd\u001b[0m\u001b[1;33m)\u001b[0m \u001b[1;32mif\u001b[0m \u001b[0mcwd\u001b[0m \u001b[1;32mis\u001b[0m \u001b[1;32mnot\u001b[0m \u001b[1;32mNone\u001b[0m \u001b[1;32melse\u001b[0m \u001b[1;32mNone\u001b[0m\u001b[1;33m,\u001b[0m\u001b[1;33m\u001b[0m\u001b[1;33m\u001b[0m\u001b[0m\n\u001b[1;32m-> 1207\u001b[1;33m                                          startupinfo)\n\u001b[0m\u001b[0;32m   1208\u001b[0m             \u001b[1;32mfinally\u001b[0m\u001b[1;33m:\u001b[0m\u001b[1;33m\u001b[0m\u001b[1;33m\u001b[0m\u001b[0m\n",
      "\u001b[1;31mFileNotFoundError\u001b[0m: [WinError 2] 지정된 파일을 찾을 수 없습니다",
      "\nDuring handling of the above exception, another exception occurred:\n",
      "\u001b[1;31mFileNotFoundError\u001b[0m                         Traceback (most recent call last)",
      "\u001b[1;32m~\\.conda\\envs\\tf_test\\lib\\site-packages\\keras\\utils\\vis_utils.py\u001b[0m in \u001b[0;36m_check_pydot\u001b[1;34m()\u001b[0m\n\u001b[0;32m     27\u001b[0m         \u001b[1;31m# to check the pydot/graphviz installation.\u001b[0m\u001b[1;33m\u001b[0m\u001b[1;33m\u001b[0m\u001b[1;33m\u001b[0m\u001b[0m\n\u001b[1;32m---> 28\u001b[1;33m         \u001b[0mpydot\u001b[0m\u001b[1;33m.\u001b[0m\u001b[0mDot\u001b[0m\u001b[1;33m.\u001b[0m\u001b[0mcreate\u001b[0m\u001b[1;33m(\u001b[0m\u001b[0mpydot\u001b[0m\u001b[1;33m.\u001b[0m\u001b[0mDot\u001b[0m\u001b[1;33m(\u001b[0m\u001b[1;33m)\u001b[0m\u001b[1;33m)\u001b[0m\u001b[1;33m\u001b[0m\u001b[1;33m\u001b[0m\u001b[0m\n\u001b[0m\u001b[0;32m     29\u001b[0m     \u001b[1;32mexcept\u001b[0m \u001b[0mOSError\u001b[0m\u001b[1;33m:\u001b[0m\u001b[1;33m\u001b[0m\u001b[1;33m\u001b[0m\u001b[0m\n",
      "\u001b[1;32m~\\.conda\\envs\\tf_test\\lib\\site-packages\\pydot.py\u001b[0m in \u001b[0;36mcreate\u001b[1;34m(self, prog, format, encoding)\u001b[0m\n\u001b[0;32m   1921\u001b[0m                     prog=prog)\n\u001b[1;32m-> 1922\u001b[1;33m                 \u001b[1;32mraise\u001b[0m \u001b[0mOSError\u001b[0m\u001b[1;33m(\u001b[0m\u001b[1;33m*\u001b[0m\u001b[0margs\u001b[0m\u001b[1;33m)\u001b[0m\u001b[1;33m\u001b[0m\u001b[1;33m\u001b[0m\u001b[0m\n\u001b[0m\u001b[0;32m   1923\u001b[0m             \u001b[1;32melse\u001b[0m\u001b[1;33m:\u001b[0m\u001b[1;33m\u001b[0m\u001b[1;33m\u001b[0m\u001b[0m\n",
      "\u001b[1;31mFileNotFoundError\u001b[0m: [WinError 2] \"dot\" not found in path.",
      "\nDuring handling of the above exception, another exception occurred:\n",
      "\u001b[1;31mOSError\u001b[0m                                   Traceback (most recent call last)",
      "\u001b[1;32m<ipython-input-87-755d3a0115e8>\u001b[0m in \u001b[0;36m<module>\u001b[1;34m\u001b[0m\n\u001b[0;32m      1\u001b[0m \u001b[1;31m#model의 그래프 구조\u001b[0m\u001b[1;33m\u001b[0m\u001b[1;33m\u001b[0m\u001b[1;33m\u001b[0m\u001b[0m\n\u001b[0;32m      2\u001b[0m \u001b[1;33m\u001b[0m\u001b[0m\n\u001b[1;32m----> 3\u001b[1;33m \u001b[0mkeras\u001b[0m\u001b[1;33m.\u001b[0m\u001b[0mutils\u001b[0m\u001b[1;33m.\u001b[0m\u001b[0mplot_model\u001b[0m\u001b[1;33m(\u001b[0m\u001b[0mmodel\u001b[0m\u001b[1;33m)\u001b[0m\u001b[1;33m\u001b[0m\u001b[1;33m\u001b[0m\u001b[0m\n\u001b[0m",
      "\u001b[1;32m~\\.conda\\envs\\tf_test\\lib\\site-packages\\keras\\utils\\vis_utils.py\u001b[0m in \u001b[0;36mplot_model\u001b[1;34m(model, to_file, show_shapes, show_layer_names, rankdir, expand_nested, dpi)\u001b[0m\n\u001b[0;32m    238\u001b[0m     \"\"\"\n\u001b[0;32m    239\u001b[0m     dot = model_to_dot(model, show_shapes, show_layer_names, rankdir,\n\u001b[1;32m--> 240\u001b[1;33m                        expand_nested, dpi)\n\u001b[0m\u001b[0;32m    241\u001b[0m     \u001b[0m_\u001b[0m\u001b[1;33m,\u001b[0m \u001b[0mextension\u001b[0m \u001b[1;33m=\u001b[0m \u001b[0mos\u001b[0m\u001b[1;33m.\u001b[0m\u001b[0mpath\u001b[0m\u001b[1;33m.\u001b[0m\u001b[0msplitext\u001b[0m\u001b[1;33m(\u001b[0m\u001b[0mto_file\u001b[0m\u001b[1;33m)\u001b[0m\u001b[1;33m\u001b[0m\u001b[1;33m\u001b[0m\u001b[0m\n\u001b[0;32m    242\u001b[0m     \u001b[1;32mif\u001b[0m \u001b[1;32mnot\u001b[0m \u001b[0mextension\u001b[0m\u001b[1;33m:\u001b[0m\u001b[1;33m\u001b[0m\u001b[1;33m\u001b[0m\u001b[0m\n",
      "\u001b[1;32m~\\.conda\\envs\\tf_test\\lib\\site-packages\\keras\\utils\\vis_utils.py\u001b[0m in \u001b[0;36mmodel_to_dot\u001b[1;34m(model, show_shapes, show_layer_names, rankdir, expand_nested, dpi, subgraph)\u001b[0m\n\u001b[0;32m     77\u001b[0m     \u001b[1;32mfrom\u001b[0m \u001b[1;33m.\u001b[0m\u001b[1;33m.\u001b[0m\u001b[0mmodels\u001b[0m \u001b[1;32mimport\u001b[0m \u001b[0mSequential\u001b[0m\u001b[1;33m\u001b[0m\u001b[1;33m\u001b[0m\u001b[0m\n\u001b[0;32m     78\u001b[0m \u001b[1;33m\u001b[0m\u001b[0m\n\u001b[1;32m---> 79\u001b[1;33m     \u001b[0m_check_pydot\u001b[0m\u001b[1;33m(\u001b[0m\u001b[1;33m)\u001b[0m\u001b[1;33m\u001b[0m\u001b[1;33m\u001b[0m\u001b[0m\n\u001b[0m\u001b[0;32m     80\u001b[0m     \u001b[1;32mif\u001b[0m \u001b[0msubgraph\u001b[0m\u001b[1;33m:\u001b[0m\u001b[1;33m\u001b[0m\u001b[1;33m\u001b[0m\u001b[0m\n\u001b[0;32m     81\u001b[0m         \u001b[0mdot\u001b[0m \u001b[1;33m=\u001b[0m \u001b[0mpydot\u001b[0m\u001b[1;33m.\u001b[0m\u001b[0mCluster\u001b[0m\u001b[1;33m(\u001b[0m\u001b[0mstyle\u001b[0m\u001b[1;33m=\u001b[0m\u001b[1;34m'dashed'\u001b[0m\u001b[1;33m,\u001b[0m \u001b[0mgraph_name\u001b[0m\u001b[1;33m=\u001b[0m\u001b[0mmodel\u001b[0m\u001b[1;33m.\u001b[0m\u001b[0mname\u001b[0m\u001b[1;33m)\u001b[0m\u001b[1;33m\u001b[0m\u001b[1;33m\u001b[0m\u001b[0m\n",
      "\u001b[1;32m~\\.conda\\envs\\tf_test\\lib\\site-packages\\keras\\utils\\vis_utils.py\u001b[0m in \u001b[0;36m_check_pydot\u001b[1;34m()\u001b[0m\n\u001b[0;32m     29\u001b[0m     \u001b[1;32mexcept\u001b[0m \u001b[0mOSError\u001b[0m\u001b[1;33m:\u001b[0m\u001b[1;33m\u001b[0m\u001b[1;33m\u001b[0m\u001b[0m\n\u001b[0;32m     30\u001b[0m         raise OSError(\n\u001b[1;32m---> 31\u001b[1;33m             \u001b[1;34m'`pydot` failed to call GraphViz.'\u001b[0m\u001b[1;33m\u001b[0m\u001b[1;33m\u001b[0m\u001b[0m\n\u001b[0m\u001b[0;32m     32\u001b[0m             \u001b[1;34m'Please install GraphViz (https://www.graphviz.org/) '\u001b[0m\u001b[1;33m\u001b[0m\u001b[1;33m\u001b[0m\u001b[0m\n\u001b[0;32m     33\u001b[0m             'and ensure that its executables are in the $PATH.')\n",
      "\u001b[1;31mOSError\u001b[0m: `pydot` failed to call GraphViz.Please install GraphViz (https://www.graphviz.org/) and ensure that its executables are in the $PATH."
     ]
    }
   ],
   "source": [
    "#model의 그래프 구조\n",
    "\n",
    "keras.utils.plot_model(model)"
   ]
  },
  {
   "cell_type": "code",
   "execution_count": 88,
   "metadata": {},
   "outputs": [
    {
     "ename": "OSError",
     "evalue": "`pydot` failed to call GraphViz.Please install GraphViz (https://www.graphviz.org/) and ensure that its executables are in the $PATH.",
     "output_type": "error",
     "traceback": [
      "\u001b[1;31m---------------------------------------------------------------------------\u001b[0m",
      "\u001b[1;31mFileNotFoundError\u001b[0m                         Traceback (most recent call last)",
      "\u001b[1;32m~\\.conda\\envs\\tf_test\\lib\\site-packages\\pydot.py\u001b[0m in \u001b[0;36mcreate\u001b[1;34m(self, prog, format, encoding)\u001b[0m\n\u001b[0;32m   1914\u001b[0m                 \u001b[0marguments\u001b[0m\u001b[1;33m=\u001b[0m\u001b[0marguments\u001b[0m\u001b[1;33m,\u001b[0m\u001b[1;33m\u001b[0m\u001b[1;33m\u001b[0m\u001b[0m\n\u001b[1;32m-> 1915\u001b[1;33m                 \u001b[0mworking_dir\u001b[0m\u001b[1;33m=\u001b[0m\u001b[0mtmp_dir\u001b[0m\u001b[1;33m,\u001b[0m\u001b[1;33m\u001b[0m\u001b[1;33m\u001b[0m\u001b[0m\n\u001b[0m\u001b[0;32m   1916\u001b[0m             )\n",
      "\u001b[1;32m~\\.conda\\envs\\tf_test\\lib\\site-packages\\pydot.py\u001b[0m in \u001b[0;36mcall_graphviz\u001b[1;34m(program, arguments, working_dir, **kwargs)\u001b[0m\n\u001b[0;32m    135\u001b[0m         \u001b[0mstdout\u001b[0m\u001b[1;33m=\u001b[0m\u001b[0msubprocess\u001b[0m\u001b[1;33m.\u001b[0m\u001b[0mPIPE\u001b[0m\u001b[1;33m,\u001b[0m\u001b[1;33m\u001b[0m\u001b[1;33m\u001b[0m\u001b[0m\n\u001b[1;32m--> 136\u001b[1;33m         \u001b[1;33m**\u001b[0m\u001b[0mkwargs\u001b[0m\u001b[1;33m\u001b[0m\u001b[1;33m\u001b[0m\u001b[0m\n\u001b[0m\u001b[0;32m    137\u001b[0m     )\n",
      "\u001b[1;32m~\\.conda\\envs\\tf_test\\lib\\subprocess.py\u001b[0m in \u001b[0;36m__init__\u001b[1;34m(self, args, bufsize, executable, stdin, stdout, stderr, preexec_fn, close_fds, shell, cwd, env, universal_newlines, startupinfo, creationflags, restore_signals, start_new_session, pass_fds, encoding, errors, text)\u001b[0m\n\u001b[0;32m    799\u001b[0m                                 \u001b[0merrread\u001b[0m\u001b[1;33m,\u001b[0m \u001b[0merrwrite\u001b[0m\u001b[1;33m,\u001b[0m\u001b[1;33m\u001b[0m\u001b[1;33m\u001b[0m\u001b[0m\n\u001b[1;32m--> 800\u001b[1;33m                                 restore_signals, start_new_session)\n\u001b[0m\u001b[0;32m    801\u001b[0m         \u001b[1;32mexcept\u001b[0m\u001b[1;33m:\u001b[0m\u001b[1;33m\u001b[0m\u001b[1;33m\u001b[0m\u001b[0m\n",
      "\u001b[1;32m~\\.conda\\envs\\tf_test\\lib\\subprocess.py\u001b[0m in \u001b[0;36m_execute_child\u001b[1;34m(self, args, executable, preexec_fn, close_fds, pass_fds, cwd, env, startupinfo, creationflags, shell, p2cread, p2cwrite, c2pread, c2pwrite, errread, errwrite, unused_restore_signals, unused_start_new_session)\u001b[0m\n\u001b[0;32m   1206\u001b[0m                                          \u001b[0mos\u001b[0m\u001b[1;33m.\u001b[0m\u001b[0mfspath\u001b[0m\u001b[1;33m(\u001b[0m\u001b[0mcwd\u001b[0m\u001b[1;33m)\u001b[0m \u001b[1;32mif\u001b[0m \u001b[0mcwd\u001b[0m \u001b[1;32mis\u001b[0m \u001b[1;32mnot\u001b[0m \u001b[1;32mNone\u001b[0m \u001b[1;32melse\u001b[0m \u001b[1;32mNone\u001b[0m\u001b[1;33m,\u001b[0m\u001b[1;33m\u001b[0m\u001b[1;33m\u001b[0m\u001b[0m\n\u001b[1;32m-> 1207\u001b[1;33m                                          startupinfo)\n\u001b[0m\u001b[0;32m   1208\u001b[0m             \u001b[1;32mfinally\u001b[0m\u001b[1;33m:\u001b[0m\u001b[1;33m\u001b[0m\u001b[1;33m\u001b[0m\u001b[0m\n",
      "\u001b[1;31mFileNotFoundError\u001b[0m: [WinError 2] 지정된 파일을 찾을 수 없습니다",
      "\nDuring handling of the above exception, another exception occurred:\n",
      "\u001b[1;31mFileNotFoundError\u001b[0m                         Traceback (most recent call last)",
      "\u001b[1;32m~\\.conda\\envs\\tf_test\\lib\\site-packages\\keras\\utils\\vis_utils.py\u001b[0m in \u001b[0;36m_check_pydot\u001b[1;34m()\u001b[0m\n\u001b[0;32m     27\u001b[0m         \u001b[1;31m# to check the pydot/graphviz installation.\u001b[0m\u001b[1;33m\u001b[0m\u001b[1;33m\u001b[0m\u001b[1;33m\u001b[0m\u001b[0m\n\u001b[1;32m---> 28\u001b[1;33m         \u001b[0mpydot\u001b[0m\u001b[1;33m.\u001b[0m\u001b[0mDot\u001b[0m\u001b[1;33m.\u001b[0m\u001b[0mcreate\u001b[0m\u001b[1;33m(\u001b[0m\u001b[0mpydot\u001b[0m\u001b[1;33m.\u001b[0m\u001b[0mDot\u001b[0m\u001b[1;33m(\u001b[0m\u001b[1;33m)\u001b[0m\u001b[1;33m)\u001b[0m\u001b[1;33m\u001b[0m\u001b[1;33m\u001b[0m\u001b[0m\n\u001b[0m\u001b[0;32m     29\u001b[0m     \u001b[1;32mexcept\u001b[0m \u001b[0mOSError\u001b[0m\u001b[1;33m:\u001b[0m\u001b[1;33m\u001b[0m\u001b[1;33m\u001b[0m\u001b[0m\n",
      "\u001b[1;32m~\\.conda\\envs\\tf_test\\lib\\site-packages\\pydot.py\u001b[0m in \u001b[0;36mcreate\u001b[1;34m(self, prog, format, encoding)\u001b[0m\n\u001b[0;32m   1921\u001b[0m                     prog=prog)\n\u001b[1;32m-> 1922\u001b[1;33m                 \u001b[1;32mraise\u001b[0m \u001b[0mOSError\u001b[0m\u001b[1;33m(\u001b[0m\u001b[1;33m*\u001b[0m\u001b[0margs\u001b[0m\u001b[1;33m)\u001b[0m\u001b[1;33m\u001b[0m\u001b[1;33m\u001b[0m\u001b[0m\n\u001b[0m\u001b[0;32m   1923\u001b[0m             \u001b[1;32melse\u001b[0m\u001b[1;33m:\u001b[0m\u001b[1;33m\u001b[0m\u001b[1;33m\u001b[0m\u001b[0m\n",
      "\u001b[1;31mFileNotFoundError\u001b[0m: [WinError 2] \"dot\" not found in path.",
      "\nDuring handling of the above exception, another exception occurred:\n",
      "\u001b[1;31mOSError\u001b[0m                                   Traceback (most recent call last)",
      "\u001b[1;32m<ipython-input-88-31a1d6f0f304>\u001b[0m in \u001b[0;36m<module>\u001b[1;34m\u001b[0m\n\u001b[0;32m      1\u001b[0m \u001b[0mget_ipython\u001b[0m\u001b[1;33m(\u001b[0m\u001b[1;33m)\u001b[0m\u001b[1;33m.\u001b[0m\u001b[0mrun_line_magic\u001b[0m\u001b[1;33m(\u001b[0m\u001b[1;34m'matplotlib'\u001b[0m\u001b[1;33m,\u001b[0m \u001b[1;34m'inline'\u001b[0m\u001b[1;33m)\u001b[0m\u001b[1;33m\u001b[0m\u001b[1;33m\u001b[0m\u001b[0m\n\u001b[0;32m      2\u001b[0m \u001b[1;32mfrom\u001b[0m \u001b[0mkeras\u001b[0m\u001b[1;33m.\u001b[0m\u001b[0mutils\u001b[0m\u001b[1;33m.\u001b[0m\u001b[0mvis_utils\u001b[0m \u001b[1;32mimport\u001b[0m \u001b[0mmodel_to_dot\u001b[0m\u001b[1;33m\u001b[0m\u001b[1;33m\u001b[0m\u001b[0m\n\u001b[1;32m----> 3\u001b[1;33m \u001b[0mmodel_to_dot\u001b[0m\u001b[1;33m(\u001b[0m\u001b[0mmodel\u001b[0m\u001b[1;33m)\u001b[0m\u001b[1;33m\u001b[0m\u001b[1;33m\u001b[0m\u001b[0m\n\u001b[0m",
      "\u001b[1;32m~\\.conda\\envs\\tf_test\\lib\\site-packages\\keras\\utils\\vis_utils.py\u001b[0m in \u001b[0;36mmodel_to_dot\u001b[1;34m(model, show_shapes, show_layer_names, rankdir, expand_nested, dpi, subgraph)\u001b[0m\n\u001b[0;32m     77\u001b[0m     \u001b[1;32mfrom\u001b[0m \u001b[1;33m.\u001b[0m\u001b[1;33m.\u001b[0m\u001b[0mmodels\u001b[0m \u001b[1;32mimport\u001b[0m \u001b[0mSequential\u001b[0m\u001b[1;33m\u001b[0m\u001b[1;33m\u001b[0m\u001b[0m\n\u001b[0;32m     78\u001b[0m \u001b[1;33m\u001b[0m\u001b[0m\n\u001b[1;32m---> 79\u001b[1;33m     \u001b[0m_check_pydot\u001b[0m\u001b[1;33m(\u001b[0m\u001b[1;33m)\u001b[0m\u001b[1;33m\u001b[0m\u001b[1;33m\u001b[0m\u001b[0m\n\u001b[0m\u001b[0;32m     80\u001b[0m     \u001b[1;32mif\u001b[0m \u001b[0msubgraph\u001b[0m\u001b[1;33m:\u001b[0m\u001b[1;33m\u001b[0m\u001b[1;33m\u001b[0m\u001b[0m\n\u001b[0;32m     81\u001b[0m         \u001b[0mdot\u001b[0m \u001b[1;33m=\u001b[0m \u001b[0mpydot\u001b[0m\u001b[1;33m.\u001b[0m\u001b[0mCluster\u001b[0m\u001b[1;33m(\u001b[0m\u001b[0mstyle\u001b[0m\u001b[1;33m=\u001b[0m\u001b[1;34m'dashed'\u001b[0m\u001b[1;33m,\u001b[0m \u001b[0mgraph_name\u001b[0m\u001b[1;33m=\u001b[0m\u001b[0mmodel\u001b[0m\u001b[1;33m.\u001b[0m\u001b[0mname\u001b[0m\u001b[1;33m)\u001b[0m\u001b[1;33m\u001b[0m\u001b[1;33m\u001b[0m\u001b[0m\n",
      "\u001b[1;32m~\\.conda\\envs\\tf_test\\lib\\site-packages\\keras\\utils\\vis_utils.py\u001b[0m in \u001b[0;36m_check_pydot\u001b[1;34m()\u001b[0m\n\u001b[0;32m     29\u001b[0m     \u001b[1;32mexcept\u001b[0m \u001b[0mOSError\u001b[0m\u001b[1;33m:\u001b[0m\u001b[1;33m\u001b[0m\u001b[1;33m\u001b[0m\u001b[0m\n\u001b[0;32m     30\u001b[0m         raise OSError(\n\u001b[1;32m---> 31\u001b[1;33m             \u001b[1;34m'`pydot` failed to call GraphViz.'\u001b[0m\u001b[1;33m\u001b[0m\u001b[1;33m\u001b[0m\u001b[0m\n\u001b[0m\u001b[0;32m     32\u001b[0m             \u001b[1;34m'Please install GraphViz (https://www.graphviz.org/) '\u001b[0m\u001b[1;33m\u001b[0m\u001b[1;33m\u001b[0m\u001b[0m\n\u001b[0;32m     33\u001b[0m             'and ensure that its executables are in the $PATH.')\n",
      "\u001b[1;31mOSError\u001b[0m: `pydot` failed to call GraphViz.Please install GraphViz (https://www.graphviz.org/) and ensure that its executables are in the $PATH."
     ]
    }
   ],
   "source": [
    "%matplotlib inline\n",
    "from keras.utils.vis_utils import model_to_dot\n",
    "model_to_dot(model)"
   ]
  },
  {
   "cell_type": "code",
   "execution_count": 89,
   "metadata": {},
   "outputs": [
    {
     "ename": "OSError",
     "evalue": "`pydot` failed to call GraphViz.Please install GraphViz (https://www.graphviz.org/) and ensure that its executables are in the $PATH.",
     "output_type": "error",
     "traceback": [
      "\u001b[1;31m---------------------------------------------------------------------------\u001b[0m",
      "\u001b[1;31mFileNotFoundError\u001b[0m                         Traceback (most recent call last)",
      "\u001b[1;32m~\\.conda\\envs\\tf_test\\lib\\site-packages\\pydot.py\u001b[0m in \u001b[0;36mcreate\u001b[1;34m(self, prog, format, encoding)\u001b[0m\n\u001b[0;32m   1914\u001b[0m                 \u001b[0marguments\u001b[0m\u001b[1;33m=\u001b[0m\u001b[0marguments\u001b[0m\u001b[1;33m,\u001b[0m\u001b[1;33m\u001b[0m\u001b[1;33m\u001b[0m\u001b[0m\n\u001b[1;32m-> 1915\u001b[1;33m                 \u001b[0mworking_dir\u001b[0m\u001b[1;33m=\u001b[0m\u001b[0mtmp_dir\u001b[0m\u001b[1;33m,\u001b[0m\u001b[1;33m\u001b[0m\u001b[1;33m\u001b[0m\u001b[0m\n\u001b[0m\u001b[0;32m   1916\u001b[0m             )\n",
      "\u001b[1;32m~\\.conda\\envs\\tf_test\\lib\\site-packages\\pydot.py\u001b[0m in \u001b[0;36mcall_graphviz\u001b[1;34m(program, arguments, working_dir, **kwargs)\u001b[0m\n\u001b[0;32m    135\u001b[0m         \u001b[0mstdout\u001b[0m\u001b[1;33m=\u001b[0m\u001b[0msubprocess\u001b[0m\u001b[1;33m.\u001b[0m\u001b[0mPIPE\u001b[0m\u001b[1;33m,\u001b[0m\u001b[1;33m\u001b[0m\u001b[1;33m\u001b[0m\u001b[0m\n\u001b[1;32m--> 136\u001b[1;33m         \u001b[1;33m**\u001b[0m\u001b[0mkwargs\u001b[0m\u001b[1;33m\u001b[0m\u001b[1;33m\u001b[0m\u001b[0m\n\u001b[0m\u001b[0;32m    137\u001b[0m     )\n",
      "\u001b[1;32m~\\.conda\\envs\\tf_test\\lib\\subprocess.py\u001b[0m in \u001b[0;36m__init__\u001b[1;34m(self, args, bufsize, executable, stdin, stdout, stderr, preexec_fn, close_fds, shell, cwd, env, universal_newlines, startupinfo, creationflags, restore_signals, start_new_session, pass_fds, encoding, errors, text)\u001b[0m\n\u001b[0;32m    799\u001b[0m                                 \u001b[0merrread\u001b[0m\u001b[1;33m,\u001b[0m \u001b[0merrwrite\u001b[0m\u001b[1;33m,\u001b[0m\u001b[1;33m\u001b[0m\u001b[1;33m\u001b[0m\u001b[0m\n\u001b[1;32m--> 800\u001b[1;33m                                 restore_signals, start_new_session)\n\u001b[0m\u001b[0;32m    801\u001b[0m         \u001b[1;32mexcept\u001b[0m\u001b[1;33m:\u001b[0m\u001b[1;33m\u001b[0m\u001b[1;33m\u001b[0m\u001b[0m\n",
      "\u001b[1;32m~\\.conda\\envs\\tf_test\\lib\\subprocess.py\u001b[0m in \u001b[0;36m_execute_child\u001b[1;34m(self, args, executable, preexec_fn, close_fds, pass_fds, cwd, env, startupinfo, creationflags, shell, p2cread, p2cwrite, c2pread, c2pwrite, errread, errwrite, unused_restore_signals, unused_start_new_session)\u001b[0m\n\u001b[0;32m   1206\u001b[0m                                          \u001b[0mos\u001b[0m\u001b[1;33m.\u001b[0m\u001b[0mfspath\u001b[0m\u001b[1;33m(\u001b[0m\u001b[0mcwd\u001b[0m\u001b[1;33m)\u001b[0m \u001b[1;32mif\u001b[0m \u001b[0mcwd\u001b[0m \u001b[1;32mis\u001b[0m \u001b[1;32mnot\u001b[0m \u001b[1;32mNone\u001b[0m \u001b[1;32melse\u001b[0m \u001b[1;32mNone\u001b[0m\u001b[1;33m,\u001b[0m\u001b[1;33m\u001b[0m\u001b[1;33m\u001b[0m\u001b[0m\n\u001b[1;32m-> 1207\u001b[1;33m                                          startupinfo)\n\u001b[0m\u001b[0;32m   1208\u001b[0m             \u001b[1;32mfinally\u001b[0m\u001b[1;33m:\u001b[0m\u001b[1;33m\u001b[0m\u001b[1;33m\u001b[0m\u001b[0m\n",
      "\u001b[1;31mFileNotFoundError\u001b[0m: [WinError 2] 지정된 파일을 찾을 수 없습니다",
      "\nDuring handling of the above exception, another exception occurred:\n",
      "\u001b[1;31mFileNotFoundError\u001b[0m                         Traceback (most recent call last)",
      "\u001b[1;32m~\\.conda\\envs\\tf_test\\lib\\site-packages\\keras\\utils\\vis_utils.py\u001b[0m in \u001b[0;36m_check_pydot\u001b[1;34m()\u001b[0m\n\u001b[0;32m     27\u001b[0m         \u001b[1;31m# to check the pydot/graphviz installation.\u001b[0m\u001b[1;33m\u001b[0m\u001b[1;33m\u001b[0m\u001b[1;33m\u001b[0m\u001b[0m\n\u001b[1;32m---> 28\u001b[1;33m         \u001b[0mpydot\u001b[0m\u001b[1;33m.\u001b[0m\u001b[0mDot\u001b[0m\u001b[1;33m.\u001b[0m\u001b[0mcreate\u001b[0m\u001b[1;33m(\u001b[0m\u001b[0mpydot\u001b[0m\u001b[1;33m.\u001b[0m\u001b[0mDot\u001b[0m\u001b[1;33m(\u001b[0m\u001b[1;33m)\u001b[0m\u001b[1;33m)\u001b[0m\u001b[1;33m\u001b[0m\u001b[1;33m\u001b[0m\u001b[0m\n\u001b[0m\u001b[0;32m     29\u001b[0m     \u001b[1;32mexcept\u001b[0m \u001b[0mOSError\u001b[0m\u001b[1;33m:\u001b[0m\u001b[1;33m\u001b[0m\u001b[1;33m\u001b[0m\u001b[0m\n",
      "\u001b[1;32m~\\.conda\\envs\\tf_test\\lib\\site-packages\\pydot.py\u001b[0m in \u001b[0;36mcreate\u001b[1;34m(self, prog, format, encoding)\u001b[0m\n\u001b[0;32m   1921\u001b[0m                     prog=prog)\n\u001b[1;32m-> 1922\u001b[1;33m                 \u001b[1;32mraise\u001b[0m \u001b[0mOSError\u001b[0m\u001b[1;33m(\u001b[0m\u001b[1;33m*\u001b[0m\u001b[0margs\u001b[0m\u001b[1;33m)\u001b[0m\u001b[1;33m\u001b[0m\u001b[1;33m\u001b[0m\u001b[0m\n\u001b[0m\u001b[0;32m   1923\u001b[0m             \u001b[1;32melse\u001b[0m\u001b[1;33m:\u001b[0m\u001b[1;33m\u001b[0m\u001b[1;33m\u001b[0m\u001b[0m\n",
      "\u001b[1;31mFileNotFoundError\u001b[0m: [WinError 2] \"dot\" not found in path.",
      "\nDuring handling of the above exception, another exception occurred:\n",
      "\u001b[1;31mOSError\u001b[0m                                   Traceback (most recent call last)",
      "\u001b[1;32m<ipython-input-89-c16e447a6535>\u001b[0m in \u001b[0;36m<module>\u001b[1;34m\u001b[0m\n\u001b[0;32m      1\u001b[0m \u001b[1;32mfrom\u001b[0m \u001b[0mIPython\u001b[0m\u001b[1;33m.\u001b[0m\u001b[0mdisplay\u001b[0m \u001b[1;32mimport\u001b[0m \u001b[0mImage\u001b[0m\u001b[1;33m,\u001b[0m\u001b[0mSVG\u001b[0m\u001b[1;33m\u001b[0m\u001b[1;33m\u001b[0m\u001b[0m\n\u001b[1;32m----> 2\u001b[1;33m \u001b[0mSVG\u001b[0m\u001b[1;33m(\u001b[0m\u001b[0mmodel_to_dot\u001b[0m\u001b[1;33m(\u001b[0m\u001b[0mmodel\u001b[0m\u001b[1;33m)\u001b[0m\u001b[1;33m.\u001b[0m\u001b[0mcreate\u001b[0m\u001b[1;33m(\u001b[0m\u001b[0mprog\u001b[0m\u001b[1;33m=\u001b[0m\u001b[1;34m'dpt'\u001b[0m\u001b[1;33m,\u001b[0m\u001b[0mformat\u001b[0m\u001b[1;33m=\u001b[0m\u001b[1;34m'svg'\u001b[0m\u001b[1;33m)\u001b[0m\u001b[1;33m)\u001b[0m\u001b[1;33m\u001b[0m\u001b[1;33m\u001b[0m\u001b[0m\n\u001b[0m",
      "\u001b[1;32m~\\.conda\\envs\\tf_test\\lib\\site-packages\\keras\\utils\\vis_utils.py\u001b[0m in \u001b[0;36mmodel_to_dot\u001b[1;34m(model, show_shapes, show_layer_names, rankdir, expand_nested, dpi, subgraph)\u001b[0m\n\u001b[0;32m     77\u001b[0m     \u001b[1;32mfrom\u001b[0m \u001b[1;33m.\u001b[0m\u001b[1;33m.\u001b[0m\u001b[0mmodels\u001b[0m \u001b[1;32mimport\u001b[0m \u001b[0mSequential\u001b[0m\u001b[1;33m\u001b[0m\u001b[1;33m\u001b[0m\u001b[0m\n\u001b[0;32m     78\u001b[0m \u001b[1;33m\u001b[0m\u001b[0m\n\u001b[1;32m---> 79\u001b[1;33m     \u001b[0m_check_pydot\u001b[0m\u001b[1;33m(\u001b[0m\u001b[1;33m)\u001b[0m\u001b[1;33m\u001b[0m\u001b[1;33m\u001b[0m\u001b[0m\n\u001b[0m\u001b[0;32m     80\u001b[0m     \u001b[1;32mif\u001b[0m \u001b[0msubgraph\u001b[0m\u001b[1;33m:\u001b[0m\u001b[1;33m\u001b[0m\u001b[1;33m\u001b[0m\u001b[0m\n\u001b[0;32m     81\u001b[0m         \u001b[0mdot\u001b[0m \u001b[1;33m=\u001b[0m \u001b[0mpydot\u001b[0m\u001b[1;33m.\u001b[0m\u001b[0mCluster\u001b[0m\u001b[1;33m(\u001b[0m\u001b[0mstyle\u001b[0m\u001b[1;33m=\u001b[0m\u001b[1;34m'dashed'\u001b[0m\u001b[1;33m,\u001b[0m \u001b[0mgraph_name\u001b[0m\u001b[1;33m=\u001b[0m\u001b[0mmodel\u001b[0m\u001b[1;33m.\u001b[0m\u001b[0mname\u001b[0m\u001b[1;33m)\u001b[0m\u001b[1;33m\u001b[0m\u001b[1;33m\u001b[0m\u001b[0m\n",
      "\u001b[1;32m~\\.conda\\envs\\tf_test\\lib\\site-packages\\keras\\utils\\vis_utils.py\u001b[0m in \u001b[0;36m_check_pydot\u001b[1;34m()\u001b[0m\n\u001b[0;32m     29\u001b[0m     \u001b[1;32mexcept\u001b[0m \u001b[0mOSError\u001b[0m\u001b[1;33m:\u001b[0m\u001b[1;33m\u001b[0m\u001b[1;33m\u001b[0m\u001b[0m\n\u001b[0;32m     30\u001b[0m         raise OSError(\n\u001b[1;32m---> 31\u001b[1;33m             \u001b[1;34m'`pydot` failed to call GraphViz.'\u001b[0m\u001b[1;33m\u001b[0m\u001b[1;33m\u001b[0m\u001b[0m\n\u001b[0m\u001b[0;32m     32\u001b[0m             \u001b[1;34m'Please install GraphViz (https://www.graphviz.org/) '\u001b[0m\u001b[1;33m\u001b[0m\u001b[1;33m\u001b[0m\u001b[0m\n\u001b[0;32m     33\u001b[0m             'and ensure that its executables are in the $PATH.')\n",
      "\u001b[1;31mOSError\u001b[0m: `pydot` failed to call GraphViz.Please install GraphViz (https://www.graphviz.org/) and ensure that its executables are in the $PATH."
     ]
    }
   ],
   "source": [
    "from IPython.display import Image,SVG\n",
    "SVG(model_to_dot(model).create(prog='dpt',format='svg'))"
   ]
  },
  {
   "cell_type": "code",
   "execution_count": 90,
   "metadata": {},
   "outputs": [
    {
     "name": "stdout",
     "output_type": "stream",
     "text": [
      "Model: \"sequential_12\"\n",
      "_________________________________________________________________\n",
      "Layer (type)                 Output Shape              Param #   \n",
      "=================================================================\n",
      "dense_22 (Dense)             (None, 32)                96        \n",
      "_________________________________________________________________\n",
      "dense_23 (Dense)             (None, 1)                 33        \n",
      "=================================================================\n",
      "Total params: 129\n",
      "Trainable params: 129\n",
      "Non-trainable params: 0\n",
      "_________________________________________________________________\n"
     ]
    }
   ],
   "source": [
    "model.summary()\n",
    "#입력차수  \n",
    "#변수개수 96 ( 가중치(2x32 + 32(bias) )"
   ]
  },
  {
   "cell_type": "markdown",
   "metadata": {},
   "source": [
    "# mnist - callback"
   ]
  },
  {
   "cell_type": "code",
   "execution_count": 65,
   "metadata": {},
   "outputs": [],
   "source": [
    "import keras\n",
    "# Callback class\n",
    "# Custum callback 함수 제작\n",
    "# 함수에 의해서 호출되는 객체\n",
    "class CustomHistory(keras.callbacks.Callback): # 상속\n",
    "    def init(self):\n",
    "        self.train_loss = []\n",
    "        self.val_loss = []\n",
    "        self.train_acc = []\n",
    "        self.val_acc = []\n",
    "    def on_epoch_end(self,batch, logs={}): # 오버라이딩\n",
    "        self.train_loss.append(logs.get('loss'))\n",
    "        self.val_loss.append(logs.get('val_loss'))\n",
    "        self.train_acc.append(logs.get('accuracy'))\n",
    "        self.val_acc.append(logs.get('val_accuracy'))"
   ]
  },
  {
   "cell_type": "code",
   "execution_count": 66,
   "metadata": {},
   "outputs": [
    {
     "name": "stdout",
     "output_type": "stream",
     "text": [
      "(60000, 28, 28) uint8\n",
      "(60000,) uint8\n",
      "(10000, 28, 28) uint8\n",
      "(10000,) uint8\n"
     ]
    }
   ],
   "source": [
    "from keras.datasets import mnist\n",
    "import matplotlib.pylab as plt\n",
    "from keras.models import Sequential\n",
    "from keras.layers import Dense\n",
    "(X_train0, y_train0), (X_test0, y_test0) = mnist.load_data()\n",
    "print(X_train0.shape, X_train0.dtype)\n",
    "print(y_train0.shape, y_train0.dtype)\n",
    "print(X_test0.shape, X_test0.dtype)\n",
    "print(y_test0.shape, y_test0.dtype)"
   ]
  },
  {
   "cell_type": "code",
   "execution_count": 67,
   "metadata": {},
   "outputs": [
    {
     "data": {
      "text/plain": [
       "<function matplotlib.pyplot.show(*args, **kw)>"
      ]
     },
     "execution_count": 67,
     "metadata": {},
     "output_type": "execute_result"
    },
    {
     "data": {
      "image/png": "[encoded data removed]",
      "text/plain": [
       "<Figure size 432x288 with 1 Axes>"
      ]
     },
     "metadata": {
      "needs_background": "light"
     },
     "output_type": "display_data"
    }
   ],
   "source": [
    "plt.imshow(X_train0[0])\n",
    "plt.grid(False)\n",
    "plt.show"
   ]
  },
  {
   "cell_type": "code",
   "execution_count": 68,
   "metadata": {},
   "outputs": [
    {
     "name": "stdout",
     "output_type": "stream",
     "text": [
      "(60000, 784) float32\n"
     ]
    }
   ],
   "source": [
    "X_train = X_train0.reshape(60000,784).astype('float32')/255.0\n",
    "X_test = X_test0.reshape(10000,784).astype('float32')/255.0\n",
    "print(X_train.shape, X_train.dtype) # 60000 * 784"
   ]
  },
  {
   "cell_type": "code",
   "execution_count": 69,
   "metadata": {},
   "outputs": [
    {
     "data": {
      "text/plain": [
       "array([5, 0, 4, 1, 9], dtype=uint8)"
      ]
     },
     "execution_count": 69,
     "metadata": {},
     "output_type": "execute_result"
    }
   ],
   "source": [
    "y_train0[:5]\n",
    "# one hot encoding 여부 : multi - label-> softmax\n",
    "# 경우에 수에 대한 확률값"
   ]
  },
  {
   "cell_type": "code",
   "execution_count": 70,
   "metadata": {},
   "outputs": [
    {
     "data": {
      "text/plain": [
       "array([[0., 0., 0., 0., 0., 1., 0., 0., 0., 0.],\n",
       "       [1., 0., 0., 0., 0., 0., 0., 0., 0., 0.],\n",
       "       [0., 0., 0., 0., 1., 0., 0., 0., 0., 0.],\n",
       "       [0., 1., 0., 0., 0., 0., 0., 0., 0., 0.],\n",
       "       [0., 0., 0., 0., 0., 0., 0., 0., 0., 1.]], dtype=float32)"
      ]
     },
     "execution_count": 70,
     "metadata": {},
     "output_type": "execute_result"
    }
   ],
   "source": [
    "from keras.utils import np_utils\n",
    "Y_train = np_utils.to_categorical(y_train0,10)\n",
    "Y_test = np_utils.to_categorical(y_test0,10)\n",
    "Y_train[:5]"
   ]
  },
  {
   "cell_type": "code",
   "execution_count": 71,
   "metadata": {},
   "outputs": [],
   "source": [
    "from keras.optimizers import SGD\n",
    "import numpy as np\n",
    "np.random.seed(0)\n",
    "model = Sequential()\n",
    "# 60000 * 784\n",
    "model.add(Dense(512, input_dim=784, activation='sigmoid'))\n",
    "# 60000 * 15 / 15 *10 -> 60000*10\n",
    "model.add(Dense(15))\n",
    "model.add(Dense(10, activation='sigmoid'))\n",
    "# lr : learning rate\n",
    "# stochastic gradient descent\n",
    "model.compile(optimizer=SGD(lr=0.2), loss='mse', metrics=['accuracy'])"
   ]
  },
  {
   "cell_type": "code",
   "execution_count": 72,
   "metadata": {},
   "outputs": [
    {
     "data": {
      "text/plain": [
       "[<keras.layers.core.Dense at 0x1bc6878fb88>,\n",
       " <keras.layers.core.Dense at 0x1bc65448948>,\n",
       " <keras.layers.core.Dense at 0x1bc68791f88>]"
      ]
     },
     "execution_count": 72,
     "metadata": {},
     "output_type": "execute_result"
    }
   ],
   "source": [
    "model.layers"
   ]
  },
  {
   "cell_type": "code",
   "execution_count": 73,
   "metadata": {},
   "outputs": [
    {
     "data": {
      "text/plain": [
       "<function keras.activations.sigmoid(x)>"
      ]
     },
     "execution_count": 73,
     "metadata": {},
     "output_type": "execute_result"
    }
   ],
   "source": [
    "l1 = model.layers[0]\n",
    "l2 = model.layers[1]\n",
    "# 레이어 속성으로 정보확인\n",
    "l1.name\n",
    "l1.input_shape\n",
    "l1.output_shape\n",
    "l1.activation"
   ]
  },
  {
   "cell_type": "code",
   "execution_count": 74,
   "metadata": {},
   "outputs": [
    {
     "name": "stderr",
     "output_type": "stream",
     "text": [
      "C:\\Users\\ICT01_14\\.conda\\envs\\tf_test\\lib\\site-packages\\ipykernel_launcher.py:3: UserWarning: The `nb_epoch` argument in `fit` has been renamed `epochs`.\n",
      "  This is separate from the ipykernel package so we can avoid doing imports until\n"
     ]
    },
    {
     "name": "stdout",
     "output_type": "stream",
     "text": [
      "Train on 60000 samples, validate on 10000 samples\n",
      "Epoch 1/30\n",
      " - 2s - loss: 0.0860 - accuracy: 0.3521 - val_loss: 0.0768 - val_accuracy: 0.5219\n",
      "Epoch 2/30\n",
      " - 2s - loss: 0.0679 - accuracy: 0.6147 - val_loss: 0.0583 - val_accuracy: 0.7312\n",
      "Epoch 3/30\n",
      " - 2s - loss: 0.0512 - accuracy: 0.7517 - val_loss: 0.0434 - val_accuracy: 0.7966\n",
      "Epoch 4/30\n",
      " - 2s - loss: 0.0400 - accuracy: 0.8070 - val_loss: 0.0354 - val_accuracy: 0.8313\n",
      "Epoch 5/30\n",
      " - 2s - loss: 0.0339 - accuracy: 0.8359 - val_loss: 0.0306 - val_accuracy: 0.8585\n",
      "Epoch 6/30\n",
      " - 2s - loss: 0.0302 - accuracy: 0.8540 - val_loss: 0.0276 - val_accuracy: 0.8690\n",
      "Epoch 7/30\n",
      " - 2s - loss: 0.0276 - accuracy: 0.8640 - val_loss: 0.0257 - val_accuracy: 0.8801\n",
      "Epoch 8/30\n",
      " - 2s - loss: 0.0259 - accuracy: 0.8712 - val_loss: 0.0241 - val_accuracy: 0.8829\n",
      "Epoch 9/30\n",
      " - 2s - loss: 0.0245 - accuracy: 0.8766 - val_loss: 0.0229 - val_accuracy: 0.8876\n",
      "Epoch 10/30\n",
      " - 2s - loss: 0.0235 - accuracy: 0.8802 - val_loss: 0.0220 - val_accuracy: 0.8893\n",
      "Epoch 11/30\n",
      " - 2s - loss: 0.0227 - accuracy: 0.8839 - val_loss: 0.0214 - val_accuracy: 0.8931\n",
      "Epoch 12/30\n",
      " - 2s - loss: 0.0220 - accuracy: 0.8860 - val_loss: 0.0207 - val_accuracy: 0.8941\n",
      "Epoch 13/30\n",
      " - 2s - loss: 0.0215 - accuracy: 0.8882 - val_loss: 0.0203 - val_accuracy: 0.8954\n",
      "Epoch 14/30\n",
      " - 2s - loss: 0.0210 - accuracy: 0.8907 - val_loss: 0.0198 - val_accuracy: 0.8977\n",
      "Epoch 15/30\n",
      " - 2s - loss: 0.0206 - accuracy: 0.8922 - val_loss: 0.0194 - val_accuracy: 0.8994\n",
      "Epoch 16/30\n",
      " - 2s - loss: 0.0203 - accuracy: 0.8936 - val_loss: 0.0190 - val_accuracy: 0.8999\n",
      "Epoch 17/30\n",
      " - 2s - loss: 0.0199 - accuracy: 0.8956 - val_loss: 0.0188 - val_accuracy: 0.9021\n",
      "Epoch 18/30\n",
      " - 2s - loss: 0.0196 - accuracy: 0.8960 - val_loss: 0.0186 - val_accuracy: 0.9010\n",
      "Epoch 19/30\n",
      " - 2s - loss: 0.0194 - accuracy: 0.8972 - val_loss: 0.0183 - val_accuracy: 0.9026\n",
      "Epoch 20/30\n",
      " - 2s - loss: 0.0191 - accuracy: 0.8985 - val_loss: 0.0180 - val_accuracy: 0.9053\n",
      "Epoch 21/30\n",
      " - 2s - loss: 0.0189 - accuracy: 0.8994 - val_loss: 0.0178 - val_accuracy: 0.9069\n",
      "Epoch 22/30\n",
      " - 2s - loss: 0.0187 - accuracy: 0.8999 - val_loss: 0.0177 - val_accuracy: 0.9049\n",
      "Epoch 23/30\n",
      " - 2s - loss: 0.0186 - accuracy: 0.9009 - val_loss: 0.0175 - val_accuracy: 0.9058\n",
      "Epoch 24/30\n",
      " - 2s - loss: 0.0184 - accuracy: 0.9021 - val_loss: 0.0174 - val_accuracy: 0.9054\n",
      "Epoch 25/30\n",
      " - 2s - loss: 0.0182 - accuracy: 0.9028 - val_loss: 0.0172 - val_accuracy: 0.9076\n",
      "Epoch 26/30\n",
      " - 2s - loss: 0.0181 - accuracy: 0.9035 - val_loss: 0.0170 - val_accuracy: 0.9086\n",
      "Epoch 27/30\n",
      " - 2s - loss: 0.0179 - accuracy: 0.9043 - val_loss: 0.0169 - val_accuracy: 0.9105\n",
      "Epoch 28/30\n",
      " - 2s - loss: 0.0178 - accuracy: 0.9049 - val_loss: 0.0168 - val_accuracy: 0.9100\n",
      "Epoch 29/30\n",
      " - 2s - loss: 0.0177 - accuracy: 0.9052 - val_loss: 0.0167 - val_accuracy: 0.9124\n",
      "Epoch 30/30\n",
      " - 2s - loss: 0.0176 - accuracy: 0.9062 - val_loss: 0.0166 - val_accuracy: 0.9109\n"
     ]
    }
   ],
   "source": [
    "custom_hist = CustomHistory()\n",
    "custom_hist.init()\n",
    "hist = model.fit(X_train,Y_train, nb_epoch=30, batch_size=100,validation_data=(X_test, Y_test),callbacks = [custom_hist], verbose=2)\n"
   ]
  },
  {
   "cell_type": "code",
   "execution_count": null,
   "metadata": {},
   "outputs": [],
   "source": [
    "plt.plot(hist.history['loss'])\n",
    "plt.show()\n",
    "hist.history"
   ]
  },
  {
   "cell_type": "code",
   "execution_count": null,
   "metadata": {},
   "outputs": [],
   "source": [
    "plt.plot(hist.history['accuracy'], 'b-', label='Training')\n",
    "plt.plot(hist.history['val_accuracy'], 'r:', label='test')\n",
    "plt.legend()\n",
    "plt.show()\n",
    "\n",
    "print(hist.model)\n",
    "print(hist.params)\n",
    "print(hist.history['accuracy'])\n",
    "print(hist.history['val_accuracy'][29])\n",
    "plt.show()\n",
    "plt.plot(custom_hist.train_loss, 'y', label='train loss')\n",
    "plt.show()"
   ]
  },
  {
   "cell_type": "code",
   "execution_count": null,
   "metadata": {},
   "outputs": [],
   "source": [
    "model.predict(X_test[:1,:])\n"
   ]
  },
  {
   "cell_type": "code",
   "execution_count": null,
   "metadata": {},
   "outputs": [],
   "source": [
    "# 문제 X_test의 이미지 한장의 label을 예측해보시오\n",
    "model.predict(X_test[:1,:])"
   ]
  },
  {
   "cell_type": "code",
   "execution_count": null,
   "metadata": {},
   "outputs": [],
   "source": [
    "model.predict_classes(X_test[:1,:], verbose=0)"
   ]
  },
  {
   "cell_type": "markdown",
   "metadata": {},
   "source": [
    "# 보스턴집값예측"
   ]
  },
  {
   "cell_type": "code",
   "execution_count": null,
   "metadata": {},
   "outputs": [],
   "source": [
    "# 보스턴집값예측\n",
    "from keras.datasets import boston_housing\n",
    "(x_train, y_train), (x_test, y_test) = boston_housing.load_data()"
   ]
  },
  {
   "cell_type": "code",
   "execution_count": null,
   "metadata": {},
   "outputs": [],
   "source": [
    "num_faetures=13\n",
    "model = Sequential()\n",
    "model.add(Dense(1, input_dim=num_faetures, activation='linear'))"
   ]
  },
  {
   "cell_type": "code",
   "execution_count": null,
   "metadata": {},
   "outputs": [],
   "source": [
    "model.summary()\n",
    "model.compile(optimizer='rmsprop', loss='mse', metrics=['mae'])\n",
    "model.fit(x_train, y_train, batch_size=1, epochs=10, verbose=1)"
   ]
  },
  {
   "cell_type": "code",
   "execution_count": null,
   "metadata": {},
   "outputs": [],
   "source": [
    "# mae\n",
    "mse, mae = model.evaluate(x_test,y_test,verbose=False)\n",
    "rmse= np.sqrt(mse)\n",
    "mse,rmse,mae"
   ]
  },
  {
   "cell_type": "code",
   "execution_count": null,
   "metadata": {},
   "outputs": [],
   "source": []
  },
  {
   "cell_type": "code",
   "execution_count": null,
   "metadata": {},
   "outputs": [],
   "source": [
    "# 문제 : x_test의 3집을 예상하시오.\n",
    "model.evaluate(x_test,y_test,verbose=False)"
   ]
  },
  {
   "cell_type": "code",
   "execution_count": null,
   "metadata": {},
   "outputs": [],
   "source": [
    "pred = model.predict(x_test[:3,:])\n",
    "real = y_test[:3]\n",
    "print(model.predict(x_test[:3,:]))\n",
    "print('실제집값 :', y_test[:3])"
   ]
  },
  {
   "cell_type": "code",
   "execution_count": null,
   "metadata": {},
   "outputs": [],
   "source": [
    "pred =pred.reshape(3)"
   ]
  },
  {
   "cell_type": "code",
   "execution_count": null,
   "metadata": {},
   "outputs": [],
   "source": [
    "import numpy as np\n",
    "np.corrcoef(pred,real)"
   ]
  },
  {
   "cell_type": "code",
   "execution_count": null,
   "metadata": {},
   "outputs": [],
   "source": []
  },
  {
   "cell_type": "code",
   "execution_count": null,
   "metadata": {},
   "outputs": [],
   "source": []
  }
 ],
 "metadata": {
  "kernelspec": {
   "display_name": "Python 3",
   "language": "python",
   "name": "python3"
  },
  "language_info": {
   "codemirror_mode": {
    "name": "ipython",
    "version": 3
   },
   "file_extension": ".py",
   "mimetype": "text/x-python",
   "name": "python",
   "nbconvert_exporter": "python",
   "pygments_lexer": "ipython3",
   "version": "3.7.6"
  },
  "toc": {
   "base_numbering": 1,
   "nav_menu": {},
   "number_sections": true,
   "sideBar": true,
   "skip_h1_title": false,
   "title_cell": "Table of Contents",
   "title_sidebar": "Contents",
   "toc_cell": false,
   "toc_position": {
    "height": "710px",
    "left": "34px",
    "top": "110px",
    "width": "165px"
   },
   "toc_section_display": true,
   "toc_window_display": true
  }
 },
 "nbformat": 4,
 "nbformat_minor": 4
}
