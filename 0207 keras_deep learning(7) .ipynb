{
 "cells": [
  {
   "cell_type": "markdown",
   "metadata": {},
   "source": [
    "# keras\n",
    "\n",
    "세가지중 한가지를 백앤드로 삼는다\n",
    "#backend - Tensorflow: 우리는 얘를 백앤드로 삼는다_ 이것을 wrapper로 싸놓음\n",
    "         - CNTK: 마이크로 소프트에서 만든것\n",
    "         - THEANO: 행렬연산을 만들기위해 \n",
    "         \n",
    "[TE델만드는 방법]\n",
    " - Constant\n",
    " - VAIABLE:가중치 공간\n",
    " - PLACE HOLDER: 데이터 주입\n",
    "    - variable의 가중치는 placeholder의 데이터에 곱해짐 \n",
    "         \n",
    " for문 epoch batchsize\n",
    " \n",
    " 이 순서 \n",
    " 행렬연산  => loss function => activation => optimizer  이 것을 통해 fit(scikit)으로 \n",
    " \n",
    " \n",
    " 이과정을 compile 로 tensorflow 을 변환시켜주어야함 \n",
    " \n",
    " \n",
    "[KERAS는 layer 방식 ]\n",
    "\n",
    "- KERAS는 출력차수만 지정해주면 된다. 왜냐하면 입력차수는 앞에서 계산한것을 그대로 받아 쓴다 \n",
    "- 가중치를 지정하는 게 없다, 추가할게 있으면 ADD 함수로 추가만 해주면된다 \n",
    "    - 이전방식에서 계산된게 다음것으로 자동으로 넘어감 (RETURN 받을 필요가 없다 )\n",
    "- dense: 출력,입력차수를 넣어주면 가운데 차수를 자동으로 만들어줌_ variable을 선언할 필요가없고, initializer도 안해줘도됨\n",
    "- 행렬연산에 필요한것들을 다 LAYER로 만들어놈\n",
    "    - INPUT\n",
    "    - DENSE\n",
    "    - CNN\n",
    "    - RNN\n",
    "#순서\n",
    "- 모델만들고 COMPILE :  텐서플로우 방식으로 바꿔줌\n",
    "     - COMPILE 옵셥 \n",
    "         - LOSS\n",
    "         - ACTIVATION\n",
    "         - OPTIMIZER\n",
    "\n",
    "- ↓↓↓↓↓↓↓↓\n",
    "- EVALUATE: TEST 데이터만 넣어주면 자동으로 \n",
    "- ↓↓↓↓↓↓↓↓\n",
    "- PREDICT: 실제 사용 데이터만 넣어주면됨 \n",
    "\n",
    "## KERAS에서 모델을 만드는 3가지방법\n",
    "\n",
    "[SEQUENTIAL]\n",
    "- SINGLE INPUT , SINGLE OUTPUT\n",
    "\n",
    "[FUNCTIONAL]\n",
    "- MULTI INPUT, MULTI OUTPUT\n",
    "-\n",
    "[MODEL]\n",
    "- 상속을 받아서, 원래 있는 모델 사용 \n",
    "\n",
    "\n",
    "\n",
    "## 케라스로 작업하면 좋은점 \n",
    "#SCIKIT하고 연결시켜놓음_ it means PIPE라인을 가지고 있음 ,\n",
    "                        - GRID SEARCH CV를 이용해 하이퍼파라미터 자동튜닝\n",
    "#결국 모든 모델은 CLASSIFIER  REGRESSOR 으로 나뉨\n",
    "\n",
    "\n",
    "### transfer learning\n",
    "- 처음부터 가중치를 학습하는건 오래걸린다 그래서 대표적인(같은 domain) 분야에서 pre training되어진 것을 사용> keras에서 application 으로 되어있음\n",
    "\n",
    "- RNN\n",
    "    - 10단계이상 진행하면 (시간적 순서를 가지고 진행) 연결이 되지않음(기울기 소실)\n",
    "        - = > 그래서 나온게 LSTM \n",
    "    - GRU  회로가 3개_ lstm보다 속도가 빠르다  \n",
    "        - forget회로\n",
    "        - input회로\n",
    "        - output 회로 \n",
    "    -  sequence to sequence 는 효율이 좋지않아 나온데 attention \n",
    "        - attention은 지들끼리 들어오는 단어중 어떤것이 중요한지 학습\n",
    "        - (가중치3개를 가지고) 중요한것 학습 \n",
    "            - query\n",
    "            - key\n",
    "            - value\n",
    "        - NMT _Neural machine translation (신경망 기계 번역)\n",
    "            - attention , sequence to sequence 같이\n",
    "        \n",
    "        - VERT _bi directional \n",
    "             - transformer로 양방향으로 작동하도록?\n",
    "             \n",
    "### PRJ 할때 3가지 종류 \n",
    "- IMAGE 전처리하는거 : OPEN CV\n",
    "- SOUND 전처리 하는거 :LIBROSA\n",
    "- TEXT 전처리하는거 : NLTK => GENSIM(EMBEDDING TOOL)\n",
    "     -CORPUS :전처리는 되지않았지만 할수있도록 만들어진 FORM\n",
    "     \n",
    "     \n",
    "     \n",
    "#요새 가장 이슈되는거 : GAN(이미지처리) , VERT(텍스트 처리)\n",
    "             \n",
    "             \n",
    "### callback \n",
    "콜백 함수를 만드는 이유는 모델 훈련시 통제를 할 수 있기 때문입니다.\n",
    "콜백 함수가 없으면 좋던 싫든 훈련이 끝날때까지 아무 것도 제어 할 수가 없습니다.\n",
    "콜백 함수는 베스트 가중치 선별 저장부터 모델 부적격시 자동 중단할 수 있습니다.\n",
    "다양한 기능이 있으니 관련 자료를 찾아 보시고 원하는 세팅을 하십시요.\n",
    "\n",
    " \n",
    "콜백함수\n",
    "- TensorBoard() 를 사용합니다.\n",
    "graph , image 사용을 합니다.\n",
    "- log_dir 은 텐션보드 그래프를 저장할 디렉토리를 지정해 줍니다.\n",
    "- EarlyStopping()\n",
    "    - 학습중 평가시 모델 훈련 종료 시점을 정합니다.\n",
    "\n",
    "- monitor 는 종료 시키기 위한 관찰대상을 의미합니다.\n",
    "'val_loss', 'val_acc' 등이 있습니다\n",
    "\n",
    "- patience 는 모니터 대상의 평가가 지정한 횟수 만큼 나아지지 않으면 훈련을 종료합니다\n",
    "    - monitor = 'val_acc' , patience = 5 이라면 검증데이터 \n",
    "      정확도가 5 에포크만큼 나아지지 않으면 훈련을 종료합니다\n",
    "- ModelCheckpoint()\n",
    "- filepath 는 모델 저장 위치\n",
    "- monitor 는 모델에 저장할 가중치 , 주로 'val_loss'사용\n",
    "- save_best_only , 최상의 가중치만 기록여부 \n",
    "\n",
    "\n",
    "\n",
    "출처: https://redapply.tistory.com/entry/Keras-Cat-Dog-분류-5-딥러닝-시작하기-콜백-함수 [Bigcat]\n"
   ]
  },
  {
   "cell_type": "code",
   "execution_count": null,
   "metadata": {},
   "outputs": [],
   "source": [
    "# 지금까지 \n",
    "# constant , variables( 가중치 저장되는 공간 ) , placeholder( 데이터 주입)\n",
    "# 가중치가 들어오는 데이터와 행렬연산을 통해 오차기반 학습을 했다 \n",
    "# for 문을 이용해서 epoch 와 batchsize 를 돌렸다  ---> keras 에서는 for문 안쓰고, fit 함수를 이용해서 한번에 가능하다 (tensorflow 는 그 fit 내용을 이해하기 위해 배웠음)\n"
   ]
  },
  {
   "cell_type": "code",
   "execution_count": null,
   "metadata": {},
   "outputs": [],
   "source": [
    "# keras \n",
    "#keras 의 backend :  tensorflow, CNTK, Theano ( 즉 이런것등을 추가해서 묶은것이다 =  keras 는 왼쪽것들을 wrapper 시킨것이다. )\n",
    "# keras 의 compile  (compile 은 loss, activation, optimizer 이런것을 말함. compile 아래에 저런것들이 있음 )\n",
    "# keras 는 model 을 layer 방식으로 만들었다(=가중치 선언할필요가 없다), keras에서는 return 받는 과정이 생략된다 ( 점찍고 함수 호출하고 )\n",
    "# layer 로 만들어졌기때문에 다른것들도 layer 로 구성되어있는데 Input, Dense, CNN, RNN 모두 layer 로 만들었다 (input dense 통과하면 회귀망)\n",
    "# 즉 keras 는 출력 차수 값만 지정하면 된다 \n",
    "\n",
    "# keras 에서 model 을 만드는 방법\n",
    "# 1. sequential  ( 간단한 망, simple input, simple output) \n",
    "# 2. functional ( multi input, multi output ( ex. 한쪽은 이미지 한쪽은 텍스트를 받아서 RNN 망 학습시키면 이미지를 텍스트로 번역할수있다))\n",
    "# 3. model  ( 상속을 받아서 하는 것으로 class base 로 프로그램을 하게 만들어줬다 )\n",
    "\n",
    "\n",
    "# evaluate 하고 predict  ( evaluate 에는 test 데이터 넣어주고 predict 에는 실제 사용할 데이터 넣어주면 된다 ) \n",
    "\n",
    "#  keras 는 scikit 과 연결되어있는데 그래서 classifier 와 regressor 을 이용해서 ? \n",
    "# scikit 의 장점은 pipeline, gridsearchcv  \n",
    "# 사이킷에 있는 gridsearchcv 를 이용해서 최적의 하이퍼파라미터를 정해질수 있게끔 해준다 (즉 keras 는 하이퍼파라미터 튜닝 기능 사용할 수 있다 )"
   ]
  },
  {
   "cell_type": "code",
   "execution_count": null,
   "metadata": {},
   "outputs": [],
   "source": [
    "# application  transform learning(처음부터 가중치를 학습시키는 것은 오래걸림)\n",
    "# 즉 대표적인 분야에서 pre training 을 해둔다 ( pretrainging 하면 어느정도 가중치가 학습되어있다 ) \n",
    "# 가중치를 처음부터 학습하지 않고, -> 그니까 빨리 적합할수있다 "
   ]
  },
  {
   "cell_type": "code",
   "execution_count": null,
   "metadata": {},
   "outputs": [],
   "source": [
    "# GRU  ( LSTM 보다 속도 빠름 ) \n",
    "# GRU 에서 sequence2sequence 했음 "
   ]
  },
  {
   "cell_type": "code",
   "execution_count": null,
   "metadata": {},
   "outputs": [],
   "source": [
    "# NMT -> transformer -> BERT (transform 이용해서 양방향으로 작동하게 하는 망) "
   ]
  },
  {
   "cell_type": "code",
   "execution_count": null,
   "metadata": {},
   "outputs": [],
   "source": [
    "# image , movie -> opencv\n",
    "# sound  -> librosa\n",
    "# text -> mltk, corpus"
   ]
  },
  {
   "cell_type": "code",
   "execution_count": null,
   "metadata": {},
   "outputs": [],
   "source": []
  },
  {
   "cell_type": "code",
   "execution_count": null,
   "metadata": {},
   "outputs": [],
   "source": []
  },
  {
   "cell_type": "code",
   "execution_count": null,
   "metadata": {},
   "outputs": [],
   "source": []
  },
  {
   "cell_type": "code",
   "execution_count": null,
   "metadata": {},
   "outputs": [],
   "source": []
  },
  {
   "cell_type": "code",
   "execution_count": null,
   "metadata": {},
   "outputs": [],
   "source": [
    "# 오늘 : 파라미터 튜닝, 기본구조"
   ]
  },
  {
   "cell_type": "markdown",
   "metadata": {},
   "source": [
    "# 회귀모델"
   ]
  },
  {
   "cell_type": "code",
   "execution_count": 15,
   "metadata": {},
   "outputs": [
    {
     "name": "stdout",
     "output_type": "stream",
     "text": [
      "WARNING:tensorflow:From C:\\Users\\ICT01_14\\.conda\\envs\\tf_test\\lib\\site-packages\\keras\\backend\\tensorflow_backend.py:422: The name tf.global_variables is deprecated. Please use tf.compat.v1.global_variables instead.\n",
      "\n",
      "입력데이터=[0.29466096 0.30317302], 예측결과=[0.5035815]\n",
      "입력데이터=[0.39445118 0.79390858], 예측결과=[0.63238555]\n",
      "입력데이터=[0.02884127 0.6208843 ], 예측결과=[0.555351]\n"
     ]
    }
   ],
   "source": [
    "# 회귀 \n",
    "from keras.models import Sequential  # sequential -> models 서브패키지 \n",
    "from keras.layers import Dense       # layers 에서 모델 구성을 한다 ( Dense 등 ) \n",
    "from sklearn.datasets import make_regression\n",
    "\n",
    "# 신경망에서는 정규화를 해야한다 \n",
    "from sklearn.preprocessing import MinMaxScaler\n",
    "\n",
    "X, y= make_regression(n_samples=100, n_features=2, noise=0.1, random_state=1) # 샘플100개, feature2니까 100x2 ( -> y는 100개가 만들어짐 )\n",
    "\n",
    "scalarX, scalarY = MinMaxScaler(), MinMaxScaler() # 민맥스 2개를 만든 이유는? 데이터 사이즈가 다르기 때문이다 .(값의 범위가 다르니까)\n",
    "scalarX.fit(X)\n",
    "scalarY.fit(y.reshape(100,1)) # 행으로\n",
    "model = Sequential()\n",
    "y = scalarY.transform(y.reshape(100,1))\n",
    "# 여기서부터 keras model 시작 \n",
    "model = Sequential() # sequential 모델 사용했다 \n",
    "model.add(Dense(4, input_dim=2, activation='relu')) \n",
    "##>>  dense 가 출력차수만 지정하면 가중치를 알아서 만들어준다 ( 100x2 가 들어왔고 dense 가 출력 2x4 를 만들어준다 )\n",
    "model.add(Dense(4,activation='relu')) # 두번째층의 입력망은 100x4 이다. 가중치는 4x4 이다. 출력차수는 100x4 가 됨 \n",
    "model.add(Dense(1,activation='linear')) # 입력은 100x4, 가중치는 4x1  출력은 100x1 이다.(즉 100x1 로 예측이된다)  \n",
    "\n",
    "\n",
    "# 모델을 만들어두고, compile 하는 것은 ? backend 가 tensorflow 이기 때문이다 (즉 tesnorflow 로 바꿔주는 것이 compile 이다 )\n",
    "model.compile(loss='mse', optimizer='adam') # compile 은 tensorflow 로 모델을 변형하는 역할을 한다 \n",
    "# >>> compile 쓰니까 간단하게 loss, optimizer 동시 사용 가능\n",
    "#loss 함수 :  회귀일땐 mse, 분류일때는 enthropy, gan 에서는 KL-divergence(이건 분포를 비교해준다) \n",
    "\n",
    "# tesnorflow 에서는 이중 for 문을 썼었다 ( 위에 for 문은 epoch, 밑에 for문은 minibatch 였음) 근데 keras 에서는 아래처럼 간단\n",
    "model.fit(X, y ,epochs=1000, verbose=0) # X 는 100x2,  출력차수는 2x4 이다.  \n",
    "# verbose 모델링 진행할때 막대기 출력 방식인가봐요~\n",
    "\n",
    "# 테스트 해보려고 새로운 샘플을 만들었다 \n",
    "Xnew, a = make_regression(n_samples=3, n_features=2, noise=0.1, random_state=1)\n",
    "Xnew = scalarX.transform(Xnew)\n",
    "ynew = model.predict(Xnew)\n",
    "for i in range(len(Xnew)):\n",
    "    print('입력데이터=%s, 예측결과=%s' % (Xnew[i], ynew[i]))\n",
    "    \n",
    "                          "
   ]
  },
  {
   "cell_type": "code",
   "execution_count": 16,
   "metadata": {},
   "outputs": [],
   "source": [
    "# keras \n",
    "# model에 add 해서 layer 를 추가하면 된다 (keras 가 알아서 layer 를 많이 만들어뒀음. 그 중에 많이 쓰는 것이 dense망 이다)\n",
    "# dense 망은 FFNN 망을만들때 쓴다 "
   ]
  },
  {
   "cell_type": "code",
   "execution_count": null,
   "metadata": {},
   "outputs": [],
   "source": []
  },
  {
   "cell_type": "markdown",
   "metadata": {},
   "source": [
    "# 분류"
   ]
  },
  {
   "cell_type": "code",
   "execution_count": 2,
   "metadata": {},
   "outputs": [
    {
     "name": "stdout",
     "output_type": "stream",
     "text": [
      "WARNING:tensorflow:From C:\\Users\\ICT01_09\\Anaconda3\\lib\\site-packages\\tensorflow\\python\\ops\\nn_impl.py:180: add_dispatch_support.<locals>.wrapper (from tensorflow.python.ops.array_ops) is deprecated and will be removed in a future version.\n",
      "Instructions for updating:\n",
      "Use tf.where in 2.0, which has the same broadcast rule as np.where\n",
      "Epoch 1/150\n",
      "768/768 [==============================] - 0s 418us/step - loss: 3.1753 - accuracy: 0.5820\n",
      "Epoch 2/150\n",
      "768/768 [==============================] - 0s 111us/step - loss: 0.9556 - accuracy: 0.5716\n",
      "Epoch 3/150\n",
      "768/768 [==============================] - 0s 112us/step - loss: 0.7622 - accuracy: 0.6302\n",
      "Epoch 4/150\n",
      "768/768 [==============================] - 0s 84us/step - loss: 0.7211 - accuracy: 0.6471\n",
      "Epoch 5/150\n",
      "768/768 [==============================] - 0s 85us/step - loss: 0.6940 - accuracy: 0.6745\n",
      "Epoch 6/150\n",
      "768/768 [==============================] - 0s 87us/step - loss: 0.6683 - accuracy: 0.6862\n",
      "Epoch 7/150\n",
      "768/768 [==============================] - 0s 86us/step - loss: 0.6626 - accuracy: 0.6745\n",
      "Epoch 8/150\n",
      "768/768 [==============================] - 0s 81us/step - loss: 0.6480 - accuracy: 0.6875\n",
      "Epoch 9/150\n",
      "768/768 [==============================] - 0s 85us/step - loss: 0.6347 - accuracy: 0.6979\n",
      "Epoch 10/150\n",
      "768/768 [==============================] - 0s 76us/step - loss: 0.6432 - accuracy: 0.6810\n",
      "Epoch 11/150\n",
      "768/768 [==============================] - 0s 87us/step - loss: 0.6573 - accuracy: 0.6706\n",
      "Epoch 12/150\n",
      "768/768 [==============================] - 0s 100us/step - loss: 0.6491 - accuracy: 0.6706\n",
      "Epoch 13/150\n",
      "768/768 [==============================] - 0s 109us/step - loss: 0.6332 - accuracy: 0.6810\n",
      "Epoch 14/150\n",
      "768/768 [==============================] - 0s 104us/step - loss: 0.6238 - accuracy: 0.6992\n",
      "Epoch 15/150\n",
      "768/768 [==============================] - 0s 109us/step - loss: 0.6050 - accuracy: 0.7057\n",
      "Epoch 16/150\n",
      "768/768 [==============================] - 0s 86us/step - loss: 0.5893 - accuracy: 0.7044\n",
      "Epoch 17/150\n",
      "768/768 [==============================] - 0s 84us/step - loss: 0.5852 - accuracy: 0.7031\n",
      "Epoch 18/150\n",
      "768/768 [==============================] - 0s 94us/step - loss: 0.5934 - accuracy: 0.6914\n",
      "Epoch 19/150\n",
      "768/768 [==============================] - 0s 94us/step - loss: 0.5775 - accuracy: 0.7122\n",
      "Epoch 20/150\n",
      "768/768 [==============================] - 0s 83us/step - loss: 0.5774 - accuracy: 0.7279\n",
      "Epoch 21/150\n",
      "768/768 [==============================] - 0s 78us/step - loss: 0.5674 - accuracy: 0.7122\n",
      "Epoch 22/150\n",
      "768/768 [==============================] - 0s 83us/step - loss: 0.5798 - accuracy: 0.6979\n",
      "Epoch 23/150\n",
      "768/768 [==============================] - 0s 102us/step - loss: 0.5743 - accuracy: 0.7083\n",
      "Epoch 24/150\n",
      "768/768 [==============================] - 0s 65us/step - loss: 0.5682 - accuracy: 0.7318\n",
      "Epoch 25/150\n",
      "768/768 [==============================] - 0s 104us/step - loss: 0.5558 - accuracy: 0.7461\n",
      "Epoch 26/150\n",
      "768/768 [==============================] - 0s 95us/step - loss: 0.5728 - accuracy: 0.7188\n",
      "Epoch 27/150\n",
      "768/768 [==============================] - 0s 105us/step - loss: 0.5568 - accuracy: 0.7214\n",
      "Epoch 28/150\n",
      "768/768 [==============================] - 0s 89us/step - loss: 0.5573 - accuracy: 0.7227\n",
      "Epoch 29/150\n",
      "768/768 [==============================] - 0s 85us/step - loss: 0.5789 - accuracy: 0.7161\n",
      "Epoch 30/150\n",
      "768/768 [==============================] - 0s 61us/step - loss: 0.5622 - accuracy: 0.7201\n",
      "Epoch 31/150\n",
      "768/768 [==============================] - 0s 94us/step - loss: 0.5713 - accuracy: 0.7109\n",
      "Epoch 32/150\n",
      "768/768 [==============================] - 0s 80us/step - loss: 0.5671 - accuracy: 0.7201\n",
      "Epoch 33/150\n",
      "768/768 [==============================] - 0s 71us/step - loss: 0.5551 - accuracy: 0.7135\n",
      "Epoch 34/150\n",
      "768/768 [==============================] - 0s 83us/step - loss: 0.5541 - accuracy: 0.7279\n",
      "Epoch 35/150\n",
      "768/768 [==============================] - 0s 93us/step - loss: 0.5556 - accuracy: 0.7188\n",
      "Epoch 36/150\n",
      "768/768 [==============================] - 0s 94us/step - loss: 0.5654 - accuracy: 0.7135\n",
      "Epoch 37/150\n",
      "768/768 [==============================] - 0s 84us/step - loss: 0.5359 - accuracy: 0.7331\n",
      "Epoch 38/150\n",
      "768/768 [==============================] - 0s 63us/step - loss: 0.5461 - accuracy: 0.7148\n",
      "Epoch 39/150\n",
      "768/768 [==============================] - 0s 83us/step - loss: 0.5520 - accuracy: 0.7240\n",
      "Epoch 40/150\n",
      "768/768 [==============================] - 0s 91us/step - loss: 0.5504 - accuracy: 0.7109\n",
      "Epoch 41/150\n",
      "768/768 [==============================] - 0s 61us/step - loss: 0.5495 - accuracy: 0.7266\n",
      "Epoch 42/150\n",
      "768/768 [==============================] - 0s 100us/step - loss: 0.5407 - accuracy: 0.7279\n",
      "Epoch 43/150\n",
      "768/768 [==============================] - 0s 116us/step - loss: 0.5361 - accuracy: 0.7357\n",
      "Epoch 44/150\n",
      "768/768 [==============================] - 0s 76us/step - loss: 0.5402 - accuracy: 0.7396\n",
      "Epoch 45/150\n",
      "768/768 [==============================] - 0s 79us/step - loss: 0.5374 - accuracy: 0.7565\n",
      "Epoch 46/150\n",
      "768/768 [==============================] - 0s 101us/step - loss: 0.5313 - accuracy: 0.7448\n",
      "Epoch 47/150\n",
      "768/768 [==============================] - 0s 87us/step - loss: 0.5396 - accuracy: 0.7318\n",
      "Epoch 48/150\n",
      "768/768 [==============================] - 0s 86us/step - loss: 0.5409 - accuracy: 0.7344\n",
      "Epoch 49/150\n",
      "768/768 [==============================] - 0s 86us/step - loss: 0.5405 - accuracy: 0.7396\n",
      "Epoch 50/150\n",
      "768/768 [==============================] - 0s 97us/step - loss: 0.5327 - accuracy: 0.7331\n",
      "Epoch 51/150\n",
      "768/768 [==============================] - 0s 87us/step - loss: 0.5343 - accuracy: 0.7435\n",
      "Epoch 52/150\n",
      "768/768 [==============================] - 0s 86us/step - loss: 0.5372 - accuracy: 0.7318\n",
      "Epoch 53/150\n",
      "768/768 [==============================] - 0s 85us/step - loss: 0.5442 - accuracy: 0.7344\n",
      "Epoch 54/150\n",
      "768/768 [==============================] - 0s 90us/step - loss: 0.5456 - accuracy: 0.7279\n",
      "Epoch 55/150\n",
      "768/768 [==============================] - 0s 81us/step - loss: 0.5269 - accuracy: 0.7396\n",
      "Epoch 56/150\n",
      "768/768 [==============================] - 0s 90us/step - loss: 0.5356 - accuracy: 0.7422\n",
      "Epoch 57/150\n",
      "768/768 [==============================] - 0s 96us/step - loss: 0.5388 - accuracy: 0.7383\n",
      "Epoch 58/150\n",
      "768/768 [==============================] - 0s 111us/step - loss: 0.5301 - accuracy: 0.7474\n",
      "Epoch 59/150\n",
      "768/768 [==============================] - 0s 90us/step - loss: 0.5191 - accuracy: 0.7526\n",
      "Epoch 60/150\n",
      "768/768 [==============================] - 0s 81us/step - loss: 0.5429 - accuracy: 0.7318\n",
      "Epoch 61/150\n",
      "768/768 [==============================] - 0s 80us/step - loss: 0.5349 - accuracy: 0.7253\n",
      "Epoch 62/150\n",
      "768/768 [==============================] - 0s 77us/step - loss: 0.5221 - accuracy: 0.7461\n",
      "Epoch 63/150\n",
      "768/768 [==============================] - 0s 79us/step - loss: 0.5524 - accuracy: 0.7227\n",
      "Epoch 64/150\n",
      "768/768 [==============================] - 0s 86us/step - loss: 0.5425 - accuracy: 0.7305\n",
      "Epoch 65/150\n",
      "768/768 [==============================] - 0s 82us/step - loss: 0.5265 - accuracy: 0.7422\n",
      "Epoch 66/150\n",
      "768/768 [==============================] - 0s 63us/step - loss: 0.5135 - accuracy: 0.7448\n",
      "Epoch 67/150\n",
      "768/768 [==============================] - 0s 80us/step - loss: 0.5223 - accuracy: 0.7318\n",
      "Epoch 68/150\n",
      "768/768 [==============================] - 0s 82us/step - loss: 0.5222 - accuracy: 0.7422\n",
      "Epoch 69/150\n",
      "768/768 [==============================] - 0s 89us/step - loss: 0.5251 - accuracy: 0.7409\n",
      "Epoch 70/150\n",
      "768/768 [==============================] - 0s 84us/step - loss: 0.5401 - accuracy: 0.7279\n",
      "Epoch 71/150\n",
      "768/768 [==============================] - 0s 95us/step - loss: 0.5265 - accuracy: 0.7487\n",
      "Epoch 72/150\n",
      "768/768 [==============================] - 0s 99us/step - loss: 0.5237 - accuracy: 0.7461\n",
      "Epoch 73/150\n",
      "768/768 [==============================] - 0s 92us/step - loss: 0.5238 - accuracy: 0.7461\n",
      "Epoch 74/150\n",
      "768/768 [==============================] - 0s 94us/step - loss: 0.5192 - accuracy: 0.7539\n",
      "Epoch 75/150\n",
      "768/768 [==============================] - 0s 94us/step - loss: 0.5175 - accuracy: 0.7461\n",
      "Epoch 76/150\n",
      "768/768 [==============================] - 0s 81us/step - loss: 0.5212 - accuracy: 0.7487\n",
      "Epoch 77/150\n",
      "768/768 [==============================] - 0s 78us/step - loss: 0.5247 - accuracy: 0.7565\n",
      "Epoch 78/150\n",
      "768/768 [==============================] - 0s 78us/step - loss: 0.5185 - accuracy: 0.7500\n",
      "Epoch 79/150\n",
      "768/768 [==============================] - 0s 78us/step - loss: 0.5186 - accuracy: 0.7474\n",
      "Epoch 80/150\n",
      "768/768 [==============================] - 0s 83us/step - loss: 0.5144 - accuracy: 0.7695\n",
      "Epoch 81/150\n",
      "768/768 [==============================] - 0s 81us/step - loss: 0.5105 - accuracy: 0.7526\n",
      "Epoch 82/150\n",
      "768/768 [==============================] - 0s 79us/step - loss: 0.5003 - accuracy: 0.7539\n",
      "Epoch 83/150\n",
      "768/768 [==============================] - 0s 106us/step - loss: 0.5043 - accuracy: 0.7565\n",
      "Epoch 84/150\n",
      "768/768 [==============================] - 0s 97us/step - loss: 0.4999 - accuracy: 0.7565\n",
      "Epoch 85/150\n",
      "768/768 [==============================] - 0s 84us/step - loss: 0.5097 - accuracy: 0.7474\n",
      "Epoch 86/150\n",
      "768/768 [==============================] - 0s 83us/step - loss: 0.5099 - accuracy: 0.7435\n",
      "Epoch 87/150\n",
      "768/768 [==============================] - 0s 93us/step - loss: 0.4997 - accuracy: 0.7669\n",
      "Epoch 88/150\n",
      "768/768 [==============================] - 0s 87us/step - loss: 0.5052 - accuracy: 0.7630\n",
      "Epoch 89/150\n",
      "768/768 [==============================] - 0s 80us/step - loss: 0.5095 - accuracy: 0.7747\n",
      "Epoch 90/150\n",
      "768/768 [==============================] - 0s 99us/step - loss: 0.5104 - accuracy: 0.7474\n",
      "Epoch 91/150\n",
      "768/768 [==============================] - 0s 80us/step - loss: 0.5033 - accuracy: 0.7539\n",
      "Epoch 92/150\n",
      "768/768 [==============================] - 0s 65us/step - loss: 0.5090 - accuracy: 0.7474\n",
      "Epoch 93/150\n",
      "768/768 [==============================] - 0s 80us/step - loss: 0.4985 - accuracy: 0.7669\n",
      "Epoch 94/150\n",
      "768/768 [==============================] - 0s 89us/step - loss: 0.4990 - accuracy: 0.7630\n",
      "Epoch 95/150\n",
      "768/768 [==============================] - 0s 86us/step - loss: 0.5070 - accuracy: 0.7487\n",
      "Epoch 96/150\n",
      "768/768 [==============================] - 0s 101us/step - loss: 0.4939 - accuracy: 0.7591\n",
      "Epoch 97/150\n",
      "768/768 [==============================] - 0s 94us/step - loss: 0.4985 - accuracy: 0.7721\n",
      "Epoch 98/150\n",
      "768/768 [==============================] - 0s 91us/step - loss: 0.4913 - accuracy: 0.7617\n",
      "Epoch 99/150\n",
      "768/768 [==============================] - 0s 86us/step - loss: 0.4918 - accuracy: 0.7695\n",
      "Epoch 100/150\n",
      "768/768 [==============================] - 0s 85us/step - loss: 0.4878 - accuracy: 0.7812\n",
      "Epoch 101/150\n",
      "768/768 [==============================] - 0s 90us/step - loss: 0.4926 - accuracy: 0.7721\n",
      "Epoch 102/150\n",
      "768/768 [==============================] - 0s 97us/step - loss: 0.5028 - accuracy: 0.7500\n",
      "Epoch 103/150\n",
      "768/768 [==============================] - 0s 100us/step - loss: 0.4993 - accuracy: 0.7591\n",
      "Epoch 104/150\n",
      "768/768 [==============================] - 0s 108us/step - loss: 0.4933 - accuracy: 0.7865\n",
      "Epoch 105/150\n",
      "768/768 [==============================] - 0s 69us/step - loss: 0.5318 - accuracy: 0.7422\n",
      "Epoch 106/150\n",
      "768/768 [==============================] - 0s 77us/step - loss: 0.4954 - accuracy: 0.7643\n",
      "Epoch 107/150\n",
      "768/768 [==============================] - 0s 78us/step - loss: 0.4924 - accuracy: 0.7786\n",
      "Epoch 108/150\n",
      "768/768 [==============================] - 0s 62us/step - loss: 0.5047 - accuracy: 0.7617\n",
      "Epoch 109/150\n",
      "768/768 [==============================] - 0s 73us/step - loss: 0.4891 - accuracy: 0.7552\n",
      "Epoch 110/150\n",
      "768/768 [==============================] - 0s 61us/step - loss: 0.4892 - accuracy: 0.7617\n",
      "Epoch 111/150\n",
      "768/768 [==============================] - 0s 100us/step - loss: 0.4858 - accuracy: 0.7773\n",
      "Epoch 112/150\n",
      "768/768 [==============================] - 0s 82us/step - loss: 0.4919 - accuracy: 0.7695\n",
      "Epoch 113/150\n",
      "768/768 [==============================] - 0s 85us/step - loss: 0.5022 - accuracy: 0.7526\n",
      "Epoch 114/150\n",
      "768/768 [==============================] - 0s 89us/step - loss: 0.4940 - accuracy: 0.7461\n",
      "Epoch 115/150\n",
      "768/768 [==============================] - 0s 100us/step - loss: 0.4944 - accuracy: 0.7669\n",
      "Epoch 116/150\n",
      "768/768 [==============================] - 0s 92us/step - loss: 0.4910 - accuracy: 0.7669\n",
      "Epoch 117/150\n",
      "768/768 [==============================] - 0s 90us/step - loss: 0.4943 - accuracy: 0.7539\n",
      "Epoch 118/150\n",
      "768/768 [==============================] - 0s 89us/step - loss: 0.4907 - accuracy: 0.7786\n",
      "Epoch 119/150\n",
      "768/768 [==============================] - 0s 87us/step - loss: 0.4874 - accuracy: 0.7643\n",
      "Epoch 120/150\n",
      "768/768 [==============================] - 0s 84us/step - loss: 0.5009 - accuracy: 0.7604\n",
      "Epoch 121/150\n",
      "768/768 [==============================] - 0s 83us/step - loss: 0.4960 - accuracy: 0.7734\n",
      "Epoch 122/150\n",
      "768/768 [==============================] - 0s 59us/step - loss: 0.4841 - accuracy: 0.7786\n",
      "Epoch 123/150\n",
      "768/768 [==============================] - 0s 97us/step - loss: 0.4845 - accuracy: 0.7643\n",
      "Epoch 124/150\n",
      "768/768 [==============================] - 0s 83us/step - loss: 0.4859 - accuracy: 0.7760\n",
      "Epoch 125/150\n",
      "768/768 [==============================] - 0s 84us/step - loss: 0.4892 - accuracy: 0.7786\n",
      "Epoch 126/150\n",
      "768/768 [==============================] - 0s 87us/step - loss: 0.4824 - accuracy: 0.7669\n",
      "Epoch 127/150\n",
      "768/768 [==============================] - 0s 88us/step - loss: 0.4893 - accuracy: 0.7682\n",
      "Epoch 128/150\n",
      "768/768 [==============================] - 0s 84us/step - loss: 0.4733 - accuracy: 0.7786\n",
      "Epoch 129/150\n",
      "768/768 [==============================] - 0s 80us/step - loss: 0.4840 - accuracy: 0.7734\n",
      "Epoch 130/150\n",
      "768/768 [==============================] - 0s 86us/step - loss: 0.4727 - accuracy: 0.7799\n",
      "Epoch 131/150\n",
      "768/768 [==============================] - 0s 90us/step - loss: 0.4832 - accuracy: 0.7630\n",
      "Epoch 132/150\n",
      "768/768 [==============================] - 0s 90us/step - loss: 0.4836 - accuracy: 0.7799\n",
      "Epoch 133/150\n",
      "768/768 [==============================] - 0s 84us/step - loss: 0.4859 - accuracy: 0.7669\n",
      "Epoch 134/150\n",
      "768/768 [==============================] - 0s 82us/step - loss: 0.4869 - accuracy: 0.7760\n",
      "Epoch 135/150\n",
      "768/768 [==============================] - 0s 63us/step - loss: 0.4760 - accuracy: 0.7656\n",
      "Epoch 136/150\n",
      "768/768 [==============================] - 0s 97us/step - loss: 0.4746 - accuracy: 0.7760\n",
      "Epoch 137/150\n",
      "768/768 [==============================] - 0s 95us/step - loss: 0.4705 - accuracy: 0.7812\n",
      "Epoch 138/150\n",
      "768/768 [==============================] - 0s 86us/step - loss: 0.4804 - accuracy: 0.7760\n",
      "Epoch 139/150\n",
      "768/768 [==============================] - 0s 80us/step - loss: 0.4686 - accuracy: 0.7734\n",
      "Epoch 140/150\n",
      "768/768 [==============================] - 0s 90us/step - loss: 0.4819 - accuracy: 0.7747\n",
      "Epoch 141/150\n",
      "768/768 [==============================] - 0s 75us/step - loss: 0.4736 - accuracy: 0.7812\n",
      "Epoch 142/150\n",
      "768/768 [==============================] - 0s 79us/step - loss: 0.4838 - accuracy: 0.7643\n",
      "Epoch 143/150\n",
      "768/768 [==============================] - 0s 82us/step - loss: 0.4761 - accuracy: 0.7669\n",
      "Epoch 144/150\n",
      "768/768 [==============================] - 0s 128us/step - loss: 0.4739 - accuracy: 0.7799\n",
      "Epoch 145/150\n",
      "768/768 [==============================] - 0s 115us/step - loss: 0.4901 - accuracy: 0.7565\n",
      "Epoch 146/150\n",
      "768/768 [==============================] - 0s 101us/step - loss: 0.4941 - accuracy: 0.7630\n",
      "Epoch 147/150\n",
      "768/768 [==============================] - 0s 69us/step - loss: 0.4855 - accuracy: 0.7812\n",
      "Epoch 148/150\n",
      "768/768 [==============================] - 0s 96us/step - loss: 0.4738 - accuracy: 0.7826\n",
      "Epoch 149/150\n",
      "768/768 [==============================] - 0s 79us/step - loss: 0.4754 - accuracy: 0.7643\n",
      "Epoch 150/150\n",
      "768/768 [==============================] - 0s 88us/step - loss: 0.4790 - accuracy: 0.7760\n",
      "768/768 [==============================] - 0s 70us/step\n",
      "\n",
      "accuracy: 77.47%\n"
     ]
    }
   ],
   "source": [
    "from keras.models import Sequential  # sequentialo : 입력도 1개, output 도 1개이다 \n",
    "from keras.layers import Dense\n",
    "import numpy\n",
    "numpy.random.seed(7)\n",
    "dataset = numpy.loadtxt('pima.data', delimiter=',') # 데이터 로드\n",
    "X = dataset[:,0:8] # 독립변수 8개 \n",
    "Y = dataset[:,8]  # 9번째있는 것이 종속변수이다 \n",
    "\n",
    "model = Sequential()\n",
    "# ? x8  8x12 -> ? x12 \n",
    "model.add(Dense(12, input_dim=8, activation='relu'))\n",
    "#?x12   12x8 -> ?x8\n",
    "model.add(Dense(8, activation='relu'))  \n",
    "# ?x8  8x1 --> ?x1  이 된다 \n",
    "\n",
    "model.add(Dense(1, activation='sigmoid')) # 앞에서는 linear 가 왔다 (에측이 되는것 ) 여기선 sigmoid 가 왔다 ( 0.5 보다 크면 1 아니면 0이된다 0)\n",
    "model.compile(loss='binary_crossentropy', optimizer = 'adam', metrics=['accuracy']) # compile 할때 주로, loss optimizer, metrics 쓴다 \n",
    "model.fit(X,Y, epochs=150, batch_size=10) # epochs 와 batch_size 가 들어옴 \n",
    "\n",
    "scores = model.evaluate(X,Y)\n",
    "# print(model.metrics_names)\n",
    "#->  2번째 accuracy \n",
    "print('\\n%s: %.2f%%' %(model.metrics_names[1], scores[1]*100))"
   ]
  },
  {
   "cell_type": "code",
   "execution_count": 3,
   "metadata": {},
   "outputs": [
    {
     "name": "stdout",
     "output_type": "stream",
     "text": [
      "Train on 514 samples, validate on 254 samples\n",
      "Epoch 1/150\n",
      "514/514 [==============================] - 0s 665us/step - loss: 0.6906 - accuracy: 0.6576 - val_loss: 0.6552 - val_accuracy: 0.6693\n",
      "Epoch 2/150\n",
      "514/514 [==============================] - 0s 135us/step - loss: 0.6566 - accuracy: 0.6304 - val_loss: 0.6302 - val_accuracy: 0.6614\n",
      "Epoch 3/150\n",
      "514/514 [==============================] - 0s 127us/step - loss: 0.6428 - accuracy: 0.6304 - val_loss: 0.6350 - val_accuracy: 0.6614\n",
      "Epoch 4/150\n",
      "514/514 [==============================] - 0s 129us/step - loss: 0.6343 - accuracy: 0.6381 - val_loss: 0.6300 - val_accuracy: 0.6693\n",
      "Epoch 5/150\n",
      "514/514 [==============================] - 0s 150us/step - loss: 0.6235 - accuracy: 0.6576 - val_loss: 0.6270 - val_accuracy: 0.6693\n",
      "Epoch 6/150\n",
      "514/514 [==============================] - 0s 110us/step - loss: 0.6237 - accuracy: 0.6673 - val_loss: 0.6190 - val_accuracy: 0.6575\n",
      "Epoch 7/150\n",
      "514/514 [==============================] - 0s 120us/step - loss: 0.6178 - accuracy: 0.6712 - val_loss: 0.6146 - val_accuracy: 0.6693\n",
      "Epoch 8/150\n",
      "514/514 [==============================] - 0s 116us/step - loss: 0.6127 - accuracy: 0.6673 - val_loss: 0.6122 - val_accuracy: 0.6732\n",
      "Epoch 9/150\n",
      "514/514 [==============================] - 0s 127us/step - loss: 0.6056 - accuracy: 0.6790 - val_loss: 0.6022 - val_accuracy: 0.7047\n",
      "Epoch 10/150\n",
      "514/514 [==============================] - 0s 99us/step - loss: 0.6098 - accuracy: 0.6770 - val_loss: 0.5998 - val_accuracy: 0.6811\n",
      "Epoch 11/150\n",
      "514/514 [==============================] - 0s 125us/step - loss: 0.5964 - accuracy: 0.6887 - val_loss: 0.6173 - val_accuracy: 0.6732\n",
      "Epoch 12/150\n",
      "514/514 [==============================] - 0s 92us/step - loss: 0.5977 - accuracy: 0.6770 - val_loss: 0.5953 - val_accuracy: 0.6850\n",
      "Epoch 13/150\n",
      "514/514 [==============================] - 0s 118us/step - loss: 0.5999 - accuracy: 0.6868 - val_loss: 0.5915 - val_accuracy: 0.6969\n",
      "Epoch 14/150\n",
      "514/514 [==============================] - 0s 135us/step - loss: 0.5892 - accuracy: 0.6926 - val_loss: 0.5919 - val_accuracy: 0.6890\n",
      "Epoch 15/150\n",
      "514/514 [==============================] - 0s 147us/step - loss: 0.5883 - accuracy: 0.6965 - val_loss: 0.5863 - val_accuracy: 0.7205\n",
      "Epoch 16/150\n",
      "514/514 [==============================] - 0s 131us/step - loss: 0.5920 - accuracy: 0.6946 - val_loss: 0.5843 - val_accuracy: 0.7008\n",
      "Epoch 17/150\n",
      "514/514 [==============================] - 0s 104us/step - loss: 0.5833 - accuracy: 0.6907 - val_loss: 0.5945 - val_accuracy: 0.6890\n",
      "Epoch 18/150\n",
      "514/514 [==============================] - 0s 113us/step - loss: 0.5912 - accuracy: 0.6848 - val_loss: 0.5980 - val_accuracy: 0.6811\n",
      "Epoch 19/150\n",
      "514/514 [==============================] - 0s 159us/step - loss: 0.5925 - accuracy: 0.6868 - val_loss: 0.5906 - val_accuracy: 0.6890\n",
      "Epoch 20/150\n",
      "514/514 [==============================] - 0s 122us/step - loss: 0.5866 - accuracy: 0.6887 - val_loss: 0.5780 - val_accuracy: 0.7047\n",
      "Epoch 21/150\n",
      "514/514 [==============================] - 0s 128us/step - loss: 0.5773 - accuracy: 0.6926 - val_loss: 0.5833 - val_accuracy: 0.7047\n",
      "Epoch 22/150\n",
      "514/514 [==============================] - 0s 114us/step - loss: 0.5773 - accuracy: 0.6984 - val_loss: 0.5852 - val_accuracy: 0.6890\n",
      "Epoch 23/150\n",
      "514/514 [==============================] - 0s 121us/step - loss: 0.5818 - accuracy: 0.6868 - val_loss: 0.5857 - val_accuracy: 0.6850\n",
      "Epoch 24/150\n",
      "514/514 [==============================] - 0s 119us/step - loss: 0.5683 - accuracy: 0.7023 - val_loss: 0.5718 - val_accuracy: 0.6929\n",
      "Epoch 25/150\n",
      "514/514 [==============================] - 0s 106us/step - loss: 0.5791 - accuracy: 0.6984 - val_loss: 0.5716 - val_accuracy: 0.7087\n",
      "Epoch 26/150\n",
      "514/514 [==============================] - 0s 127us/step - loss: 0.5753 - accuracy: 0.7004 - val_loss: 0.5775 - val_accuracy: 0.7087\n",
      "Epoch 27/150\n",
      "514/514 [==============================] - 0s 118us/step - loss: 0.5703 - accuracy: 0.7023 - val_loss: 0.5710 - val_accuracy: 0.6929\n",
      "Epoch 28/150\n",
      "514/514 [==============================] - 0s 114us/step - loss: 0.5689 - accuracy: 0.6984 - val_loss: 0.6375 - val_accuracy: 0.6102\n",
      "Epoch 29/150\n",
      "514/514 [==============================] - 0s 118us/step - loss: 0.5731 - accuracy: 0.7179 - val_loss: 0.5784 - val_accuracy: 0.7126\n",
      "Epoch 30/150\n",
      "514/514 [==============================] - 0s 107us/step - loss: 0.5698 - accuracy: 0.7082 - val_loss: 0.5726 - val_accuracy: 0.7087\n",
      "Epoch 31/150\n",
      "514/514 [==============================] - 0s 123us/step - loss: 0.5608 - accuracy: 0.7004 - val_loss: 0.5753 - val_accuracy: 0.7087\n",
      "Epoch 32/150\n",
      "514/514 [==============================] - 0s 136us/step - loss: 0.5698 - accuracy: 0.6946 - val_loss: 0.6087 - val_accuracy: 0.6535\n",
      "Epoch 33/150\n",
      "514/514 [==============================] - 0s 93us/step - loss: 0.5959 - accuracy: 0.6926 - val_loss: 0.5912 - val_accuracy: 0.7126\n",
      "Epoch 34/150\n",
      "514/514 [==============================] - 0s 128us/step - loss: 0.5618 - accuracy: 0.7062 - val_loss: 0.5822 - val_accuracy: 0.7126\n",
      "Epoch 35/150\n",
      "514/514 [==============================] - 0s 127us/step - loss: 0.5573 - accuracy: 0.7140 - val_loss: 0.5594 - val_accuracy: 0.7244\n",
      "Epoch 36/150\n",
      "514/514 [==============================] - 0s 181us/step - loss: 0.5649 - accuracy: 0.7101 - val_loss: 0.5826 - val_accuracy: 0.7205\n",
      "Epoch 37/150\n",
      "514/514 [==============================] - 0s 327us/step - loss: 0.5625 - accuracy: 0.6965 - val_loss: 0.5661 - val_accuracy: 0.7244\n",
      "Epoch 38/150\n",
      "514/514 [==============================] - 0s 117us/step - loss: 0.5562 - accuracy: 0.7218 - val_loss: 0.5636 - val_accuracy: 0.7283\n",
      "Epoch 39/150\n",
      "514/514 [==============================] - 0s 109us/step - loss: 0.5563 - accuracy: 0.7043 - val_loss: 0.5845 - val_accuracy: 0.7165\n",
      "Epoch 40/150\n",
      "514/514 [==============================] - 0s 109us/step - loss: 0.5669 - accuracy: 0.7004 - val_loss: 0.5619 - val_accuracy: 0.7205\n",
      "Epoch 41/150\n",
      "514/514 [==============================] - 0s 91us/step - loss: 0.5498 - accuracy: 0.7140 - val_loss: 0.5564 - val_accuracy: 0.7087\n",
      "Epoch 42/150\n",
      "514/514 [==============================] - 0s 104us/step - loss: 0.5652 - accuracy: 0.7237 - val_loss: 0.5894 - val_accuracy: 0.7205\n",
      "Epoch 43/150\n",
      "514/514 [==============================] - 0s 110us/step - loss: 0.5568 - accuracy: 0.7179 - val_loss: 0.5712 - val_accuracy: 0.7205\n",
      "Epoch 44/150\n",
      "514/514 [==============================] - 0s 139us/step - loss: 0.5555 - accuracy: 0.7121 - val_loss: 0.5622 - val_accuracy: 0.7283\n",
      "Epoch 45/150\n",
      "514/514 [==============================] - 0s 119us/step - loss: 0.5445 - accuracy: 0.7218 - val_loss: 0.5777 - val_accuracy: 0.6969\n",
      "Epoch 46/150\n",
      "514/514 [==============================] - 0s 131us/step - loss: 0.5620 - accuracy: 0.7023 - val_loss: 0.5764 - val_accuracy: 0.7205\n",
      "Epoch 47/150\n",
      "514/514 [==============================] - 0s 110us/step - loss: 0.5608 - accuracy: 0.7023 - val_loss: 0.5528 - val_accuracy: 0.7323\n",
      "Epoch 48/150\n",
      "514/514 [==============================] - 0s 133us/step - loss: 0.5523 - accuracy: 0.7101 - val_loss: 0.5749 - val_accuracy: 0.7087\n",
      "Epoch 49/150\n",
      "514/514 [==============================] - 0s 122us/step - loss: 0.5471 - accuracy: 0.7121 - val_loss: 0.5659 - val_accuracy: 0.7205\n",
      "Epoch 50/150\n",
      "514/514 [==============================] - 0s 134us/step - loss: 0.5537 - accuracy: 0.7140 - val_loss: 0.5906 - val_accuracy: 0.6378\n",
      "Epoch 51/150\n",
      "514/514 [==============================] - 0s 139us/step - loss: 0.5370 - accuracy: 0.7412 - val_loss: 0.5517 - val_accuracy: 0.7205\n",
      "Epoch 52/150\n",
      "514/514 [==============================] - 0s 117us/step - loss: 0.5472 - accuracy: 0.7082 - val_loss: 0.5742 - val_accuracy: 0.6929\n",
      "Epoch 53/150\n",
      "514/514 [==============================] - 0s 101us/step - loss: 0.5377 - accuracy: 0.7374 - val_loss: 0.5657 - val_accuracy: 0.7008\n",
      "Epoch 54/150\n",
      "514/514 [==============================] - 0s 145us/step - loss: 0.5404 - accuracy: 0.7354 - val_loss: 0.5545 - val_accuracy: 0.7283\n",
      "Epoch 55/150\n",
      "514/514 [==============================] - 0s 135us/step - loss: 0.5354 - accuracy: 0.7471 - val_loss: 0.5638 - val_accuracy: 0.7244\n",
      "Epoch 56/150\n",
      "514/514 [==============================] - 0s 100us/step - loss: 0.5440 - accuracy: 0.7276 - val_loss: 0.5757 - val_accuracy: 0.7087\n"
     ]
    },
    {
     "name": "stdout",
     "output_type": "stream",
     "text": [
      "Epoch 57/150\n",
      "514/514 [==============================] - 0s 103us/step - loss: 0.5427 - accuracy: 0.7276 - val_loss: 0.5627 - val_accuracy: 0.7165\n",
      "Epoch 58/150\n",
      "514/514 [==============================] - 0s 103us/step - loss: 0.5376 - accuracy: 0.7335 - val_loss: 0.6006 - val_accuracy: 0.6614\n",
      "Epoch 59/150\n",
      "514/514 [==============================] - 0s 111us/step - loss: 0.5485 - accuracy: 0.7198 - val_loss: 0.5522 - val_accuracy: 0.7402\n",
      "Epoch 60/150\n",
      "514/514 [==============================] - 0s 144us/step - loss: 0.5390 - accuracy: 0.7237 - val_loss: 0.5699 - val_accuracy: 0.7323\n",
      "Epoch 61/150\n",
      "514/514 [==============================] - 0s 105us/step - loss: 0.5377 - accuracy: 0.7335 - val_loss: 0.5694 - val_accuracy: 0.7008\n",
      "Epoch 62/150\n",
      "514/514 [==============================] - 0s 96us/step - loss: 0.5430 - accuracy: 0.7315 - val_loss: 0.5557 - val_accuracy: 0.7362\n",
      "Epoch 63/150\n",
      "514/514 [==============================] - 0s 134us/step - loss: 0.5352 - accuracy: 0.7412 - val_loss: 0.5497 - val_accuracy: 0.7480\n",
      "Epoch 64/150\n",
      "514/514 [==============================] - 0s 102us/step - loss: 0.5340 - accuracy: 0.7412 - val_loss: 0.5610 - val_accuracy: 0.7126\n",
      "Epoch 65/150\n",
      "514/514 [==============================] - 0s 93us/step - loss: 0.5438 - accuracy: 0.7198 - val_loss: 0.5858 - val_accuracy: 0.6850\n",
      "Epoch 66/150\n",
      "514/514 [==============================] - 0s 122us/step - loss: 0.5350 - accuracy: 0.7140 - val_loss: 0.5454 - val_accuracy: 0.7441\n",
      "Epoch 67/150\n",
      "514/514 [==============================] - 0s 140us/step - loss: 0.5347 - accuracy: 0.7374 - val_loss: 0.5728 - val_accuracy: 0.7165\n",
      "Epoch 68/150\n",
      "514/514 [==============================] - 0s 97us/step - loss: 0.5368 - accuracy: 0.7354 - val_loss: 0.5822 - val_accuracy: 0.7205\n",
      "Epoch 69/150\n",
      "514/514 [==============================] - 0s 128us/step - loss: 0.5431 - accuracy: 0.7160 - val_loss: 0.5736 - val_accuracy: 0.7244\n",
      "Epoch 70/150\n",
      "514/514 [==============================] - 0s 98us/step - loss: 0.5397 - accuracy: 0.7257 - val_loss: 0.5597 - val_accuracy: 0.7244\n",
      "Epoch 71/150\n",
      "514/514 [==============================] - 0s 125us/step - loss: 0.5266 - accuracy: 0.7471 - val_loss: 0.5611 - val_accuracy: 0.7559\n",
      "Epoch 72/150\n",
      "514/514 [==============================] - 0s 153us/step - loss: 0.5329 - accuracy: 0.7432 - val_loss: 0.5506 - val_accuracy: 0.7598\n",
      "Epoch 73/150\n",
      "514/514 [==============================] - 0s 111us/step - loss: 0.5321 - accuracy: 0.7296 - val_loss: 0.5492 - val_accuracy: 0.7402\n",
      "Epoch 74/150\n",
      "514/514 [==============================] - 0s 127us/step - loss: 0.5236 - accuracy: 0.7257 - val_loss: 0.5521 - val_accuracy: 0.7559\n",
      "Epoch 75/150\n",
      "514/514 [==============================] - 0s 98us/step - loss: 0.5259 - accuracy: 0.7393 - val_loss: 0.5604 - val_accuracy: 0.7205\n",
      "Epoch 76/150\n",
      "514/514 [==============================] - 0s 104us/step - loss: 0.5231 - accuracy: 0.7354 - val_loss: 0.5512 - val_accuracy: 0.7283\n",
      "Epoch 77/150\n",
      "514/514 [==============================] - 0s 122us/step - loss: 0.5238 - accuracy: 0.7374 - val_loss: 0.5478 - val_accuracy: 0.7480\n",
      "Epoch 78/150\n",
      "514/514 [==============================] - 0s 149us/step - loss: 0.5277 - accuracy: 0.7510 - val_loss: 0.5470 - val_accuracy: 0.7520\n",
      "Epoch 79/150\n",
      "514/514 [==============================] - 0s 118us/step - loss: 0.5323 - accuracy: 0.7354 - val_loss: 0.5569 - val_accuracy: 0.7362\n",
      "Epoch 80/150\n",
      "514/514 [==============================] - 0s 118us/step - loss: 0.5228 - accuracy: 0.7432 - val_loss: 0.5702 - val_accuracy: 0.7126\n",
      "Epoch 81/150\n",
      "514/514 [==============================] - 0s 135us/step - loss: 0.5273 - accuracy: 0.7393 - val_loss: 0.5562 - val_accuracy: 0.7402\n",
      "Epoch 82/150\n",
      "514/514 [==============================] - 0s 137us/step - loss: 0.5231 - accuracy: 0.7354 - val_loss: 0.5479 - val_accuracy: 0.7283\n",
      "Epoch 83/150\n",
      "514/514 [==============================] - 0s 117us/step - loss: 0.5147 - accuracy: 0.7315 - val_loss: 0.5522 - val_accuracy: 0.7323\n",
      "Epoch 84/150\n",
      "514/514 [==============================] - 0s 108us/step - loss: 0.5231 - accuracy: 0.7276 - val_loss: 0.5506 - val_accuracy: 0.7520\n",
      "Epoch 85/150\n",
      "514/514 [==============================] - 0s 127us/step - loss: 0.5214 - accuracy: 0.7412 - val_loss: 0.5476 - val_accuracy: 0.7362\n",
      "Epoch 86/150\n",
      "514/514 [==============================] - 0s 83us/step - loss: 0.5148 - accuracy: 0.7549 - val_loss: 0.5448 - val_accuracy: 0.7441\n",
      "Epoch 87/150\n",
      "514/514 [==============================] - 0s 134us/step - loss: 0.5177 - accuracy: 0.7529 - val_loss: 0.5512 - val_accuracy: 0.7402\n",
      "Epoch 88/150\n",
      "514/514 [==============================] - 0s 116us/step - loss: 0.5159 - accuracy: 0.7529 - val_loss: 0.5584 - val_accuracy: 0.7402\n",
      "Epoch 89/150\n",
      "514/514 [==============================] - 0s 110us/step - loss: 0.5179 - accuracy: 0.7432 - val_loss: 0.5470 - val_accuracy: 0.7402\n",
      "Epoch 90/150\n",
      "514/514 [==============================] - 0s 123us/step - loss: 0.5200 - accuracy: 0.7510 - val_loss: 0.5564 - val_accuracy: 0.7677\n",
      "Epoch 91/150\n",
      "514/514 [==============================] - 0s 102us/step - loss: 0.5191 - accuracy: 0.7412 - val_loss: 0.5606 - val_accuracy: 0.7441\n",
      "Epoch 92/150\n",
      "514/514 [==============================] - 0s 134us/step - loss: 0.5177 - accuracy: 0.7568 - val_loss: 0.5477 - val_accuracy: 0.7441\n",
      "Epoch 93/150\n",
      "514/514 [==============================] - 0s 112us/step - loss: 0.5148 - accuracy: 0.7510 - val_loss: 0.5553 - val_accuracy: 0.7520\n",
      "Epoch 94/150\n",
      "514/514 [==============================] - 0s 136us/step - loss: 0.5241 - accuracy: 0.7374 - val_loss: 0.5510 - val_accuracy: 0.7520\n",
      "Epoch 95/150\n",
      "514/514 [==============================] - 0s 115us/step - loss: 0.5163 - accuracy: 0.7529 - val_loss: 0.5701 - val_accuracy: 0.6929\n",
      "Epoch 96/150\n",
      "514/514 [==============================] - 0s 117us/step - loss: 0.5250 - accuracy: 0.7315 - val_loss: 0.5519 - val_accuracy: 0.7402\n",
      "Epoch 97/150\n",
      "514/514 [==============================] - 0s 103us/step - loss: 0.5091 - accuracy: 0.7451 - val_loss: 0.5467 - val_accuracy: 0.7402\n",
      "Epoch 98/150\n",
      "514/514 [==============================] - 0s 121us/step - loss: 0.5250 - accuracy: 0.7393 - val_loss: 0.5557 - val_accuracy: 0.7362\n",
      "Epoch 99/150\n",
      "514/514 [==============================] - 0s 104us/step - loss: 0.5270 - accuracy: 0.7354 - val_loss: 0.5642 - val_accuracy: 0.7323\n",
      "Epoch 100/150\n",
      "514/514 [==============================] - 0s 127us/step - loss: 0.5188 - accuracy: 0.7549 - val_loss: 0.5378 - val_accuracy: 0.7638\n",
      "Epoch 101/150\n",
      "514/514 [==============================] - 0s 105us/step - loss: 0.5079 - accuracy: 0.7374 - val_loss: 0.5485 - val_accuracy: 0.7362\n",
      "Epoch 102/150\n",
      "514/514 [==============================] - 0s 143us/step - loss: 0.5095 - accuracy: 0.7510 - val_loss: 0.5327 - val_accuracy: 0.7677\n",
      "Epoch 103/150\n",
      "514/514 [==============================] - 0s 111us/step - loss: 0.5227 - accuracy: 0.7471 - val_loss: 0.5507 - val_accuracy: 0.7205\n",
      "Epoch 104/150\n",
      "514/514 [==============================] - 0s 128us/step - loss: 0.5165 - accuracy: 0.7393 - val_loss: 0.5425 - val_accuracy: 0.7441\n",
      "Epoch 105/150\n",
      "514/514 [==============================] - 0s 121us/step - loss: 0.5094 - accuracy: 0.7510 - val_loss: 0.5485 - val_accuracy: 0.7598\n",
      "Epoch 106/150\n",
      "514/514 [==============================] - 0s 113us/step - loss: 0.5134 - accuracy: 0.7471 - val_loss: 0.5653 - val_accuracy: 0.7283\n",
      "Epoch 107/150\n",
      "514/514 [==============================] - 0s 134us/step - loss: 0.5093 - accuracy: 0.7588 - val_loss: 0.5615 - val_accuracy: 0.7520\n",
      "Epoch 108/150\n",
      "514/514 [==============================] - 0s 122us/step - loss: 0.5180 - accuracy: 0.7626 - val_loss: 0.5704 - val_accuracy: 0.7244\n",
      "Epoch 109/150\n",
      "514/514 [==============================] - 0s 103us/step - loss: 0.5057 - accuracy: 0.7529 - val_loss: 0.5487 - val_accuracy: 0.7520\n",
      "Epoch 110/150\n",
      "514/514 [==============================] - 0s 134us/step - loss: 0.5094 - accuracy: 0.7315 - val_loss: 0.5953 - val_accuracy: 0.7283\n",
      "Epoch 111/150\n",
      "514/514 [==============================] - 0s 111us/step - loss: 0.5172 - accuracy: 0.7568 - val_loss: 0.5810 - val_accuracy: 0.7126\n",
      "Epoch 112/150\n",
      "514/514 [==============================] - 0s 114us/step - loss: 0.5011 - accuracy: 0.7451 - val_loss: 0.5689 - val_accuracy: 0.7362\n",
      "Epoch 113/150\n"
     ]
    },
    {
     "name": "stdout",
     "output_type": "stream",
     "text": [
      "514/514 [==============================] - 0s 117us/step - loss: 0.5123 - accuracy: 0.7549 - val_loss: 0.5550 - val_accuracy: 0.7283\n",
      "Epoch 114/150\n",
      "514/514 [==============================] - 0s 109us/step - loss: 0.5068 - accuracy: 0.7374 - val_loss: 0.5461 - val_accuracy: 0.7520\n",
      "Epoch 115/150\n",
      "514/514 [==============================] - 0s 120us/step - loss: 0.5057 - accuracy: 0.7529 - val_loss: 0.5339 - val_accuracy: 0.7598\n",
      "Epoch 116/150\n",
      "514/514 [==============================] - 0s 107us/step - loss: 0.5027 - accuracy: 0.7471 - val_loss: 0.5366 - val_accuracy: 0.7520\n",
      "Epoch 117/150\n",
      "514/514 [==============================] - 0s 102us/step - loss: 0.5043 - accuracy: 0.7607 - val_loss: 0.5864 - val_accuracy: 0.7244\n",
      "Epoch 118/150\n",
      "514/514 [==============================] - 0s 126us/step - loss: 0.5027 - accuracy: 0.7412 - val_loss: 0.5499 - val_accuracy: 0.7677\n",
      "Epoch 119/150\n",
      "514/514 [==============================] - 0s 130us/step - loss: 0.5142 - accuracy: 0.7432 - val_loss: 0.5691 - val_accuracy: 0.7362\n",
      "Epoch 120/150\n",
      "514/514 [==============================] - 0s 113us/step - loss: 0.5017 - accuracy: 0.7549 - val_loss: 0.5262 - val_accuracy: 0.7598\n",
      "Epoch 121/150\n",
      "514/514 [==============================] - 0s 123us/step - loss: 0.5031 - accuracy: 0.7549 - val_loss: 0.6003 - val_accuracy: 0.7165\n",
      "Epoch 122/150\n",
      "514/514 [==============================] - 0s 123us/step - loss: 0.5064 - accuracy: 0.7432 - val_loss: 0.5544 - val_accuracy: 0.7362\n",
      "Epoch 123/150\n",
      "514/514 [==============================] - 0s 125us/step - loss: 0.5008 - accuracy: 0.7685 - val_loss: 0.5591 - val_accuracy: 0.7165\n",
      "Epoch 124/150\n",
      "514/514 [==============================] - 0s 100us/step - loss: 0.5054 - accuracy: 0.7510 - val_loss: 0.5594 - val_accuracy: 0.7520\n",
      "Epoch 125/150\n",
      "514/514 [==============================] - 0s 104us/step - loss: 0.5061 - accuracy: 0.7549 - val_loss: 0.5733 - val_accuracy: 0.7283\n",
      "Epoch 126/150\n",
      "514/514 [==============================] - 0s 105us/step - loss: 0.4954 - accuracy: 0.7549 - val_loss: 0.5719 - val_accuracy: 0.7323\n",
      "Epoch 127/150\n",
      "514/514 [==============================] - 0s 90us/step - loss: 0.4989 - accuracy: 0.7471 - val_loss: 0.5526 - val_accuracy: 0.7677\n",
      "Epoch 128/150\n",
      "514/514 [==============================] - 0s 128us/step - loss: 0.4961 - accuracy: 0.7588 - val_loss: 0.5466 - val_accuracy: 0.7717\n",
      "Epoch 129/150\n",
      "514/514 [==============================] - 0s 98us/step - loss: 0.5011 - accuracy: 0.7471 - val_loss: 0.5654 - val_accuracy: 0.7441\n",
      "Epoch 130/150\n",
      "514/514 [==============================] - 0s 104us/step - loss: 0.4999 - accuracy: 0.7607 - val_loss: 0.5401 - val_accuracy: 0.7677\n",
      "Epoch 131/150\n",
      "514/514 [==============================] - 0s 123us/step - loss: 0.4970 - accuracy: 0.7374 - val_loss: 0.5771 - val_accuracy: 0.7362\n",
      "Epoch 132/150\n",
      "514/514 [==============================] - 0s 102us/step - loss: 0.5030 - accuracy: 0.7626 - val_loss: 0.5460 - val_accuracy: 0.7717\n",
      "Epoch 133/150\n",
      "514/514 [==============================] - 0s 132us/step - loss: 0.4958 - accuracy: 0.7588 - val_loss: 0.5397 - val_accuracy: 0.7520\n",
      "Epoch 134/150\n",
      "514/514 [==============================] - 0s 124us/step - loss: 0.4952 - accuracy: 0.7490 - val_loss: 0.5590 - val_accuracy: 0.7402\n",
      "Epoch 135/150\n",
      "514/514 [==============================] - 0s 108us/step - loss: 0.4914 - accuracy: 0.7568 - val_loss: 0.5443 - val_accuracy: 0.7362\n",
      "Epoch 136/150\n",
      "514/514 [==============================] - 0s 121us/step - loss: 0.4908 - accuracy: 0.7588 - val_loss: 0.5378 - val_accuracy: 0.7559\n",
      "Epoch 137/150\n",
      "514/514 [==============================] - 0s 102us/step - loss: 0.5040 - accuracy: 0.7471 - val_loss: 0.5242 - val_accuracy: 0.7559\n",
      "Epoch 138/150\n",
      "514/514 [==============================] - 0s 108us/step - loss: 0.4941 - accuracy: 0.7607 - val_loss: 0.5389 - val_accuracy: 0.7520\n",
      "Epoch 139/150\n",
      "514/514 [==============================] - 0s 118us/step - loss: 0.4896 - accuracy: 0.7568 - val_loss: 0.5566 - val_accuracy: 0.7520\n",
      "Epoch 140/150\n",
      "514/514 [==============================] - 0s 128us/step - loss: 0.4898 - accuracy: 0.7471 - val_loss: 0.5502 - val_accuracy: 0.7441\n",
      "Epoch 141/150\n",
      "514/514 [==============================] - 0s 98us/step - loss: 0.4919 - accuracy: 0.7588 - val_loss: 0.5378 - val_accuracy: 0.7677\n",
      "Epoch 142/150\n",
      "514/514 [==============================] - 0s 144us/step - loss: 0.4919 - accuracy: 0.7549 - val_loss: 0.5584 - val_accuracy: 0.7323\n",
      "Epoch 143/150\n",
      "514/514 [==============================] - 0s 106us/step - loss: 0.4972 - accuracy: 0.7588 - val_loss: 0.5660 - val_accuracy: 0.7323\n",
      "Epoch 144/150\n",
      "514/514 [==============================] - 0s 109us/step - loss: 0.5006 - accuracy: 0.7568 - val_loss: 0.5532 - val_accuracy: 0.7638\n",
      "Epoch 145/150\n",
      "514/514 [==============================] - 0s 130us/step - loss: 0.4943 - accuracy: 0.7471 - val_loss: 0.5240 - val_accuracy: 0.7913\n",
      "Epoch 146/150\n",
      "514/514 [==============================] - 0s 113us/step - loss: 0.4880 - accuracy: 0.7510 - val_loss: 0.5519 - val_accuracy: 0.7559\n",
      "Epoch 147/150\n",
      "514/514 [==============================] - 0s 117us/step - loss: 0.4896 - accuracy: 0.7549 - val_loss: 0.5380 - val_accuracy: 0.7362\n",
      "Epoch 148/150\n",
      "514/514 [==============================] - 0s 125us/step - loss: 0.4952 - accuracy: 0.7704 - val_loss: 0.5396 - val_accuracy: 0.7717\n",
      "Epoch 149/150\n",
      "514/514 [==============================] - 0s 130us/step - loss: 0.4878 - accuracy: 0.7665 - val_loss: 0.5679 - val_accuracy: 0.7323\n",
      "Epoch 150/150\n",
      "514/514 [==============================] - 0s 94us/step - loss: 0.4849 - accuracy: 0.7704 - val_loss: 0.5520 - val_accuracy: 0.7480\n",
      "768/768 [==============================] - 0s 33us/step\n",
      "\n",
      "accuracy: 76.30%\n"
     ]
    }
   ],
   "source": [
    "# kernel_initalizer 사용 , return 을 사용했을때? \n",
    "from keras.models import Sequential \n",
    "from keras.layers import Dense\n",
    "import numpy\n",
    "numpy.random.seed(7)\n",
    "dataset = numpy.loadtxt('pima.data', delimiter=',') \n",
    "X = dataset[:,0:8] \n",
    "Y = dataset[:,8] \n",
    "\n",
    "model = Sequential()\n",
    "model.add(Dense(12, input_dim=8, activation='relu', kernel_initializer='uniform')) \n",
    "# kernel_initializr 를 통해서 초기화방법 지정해줄수있다 >> 우리도 모르게 만들어지는 가중치를 균등분포로 초기화해주었다 \n",
    "model.add(Dense(8, activation='relu'))  \n",
    "\n",
    "\n",
    "model.add(Dense(1, activation='sigmoid'))\n",
    "model.compile(loss='binary_crossentropy', optimizer = 'adam', metrics=['accuracy'])  \n",
    "\n",
    "history = model.fit(X,Y, epochs=150,validation_split=0.33,  batch_size=10) # history 로 리턴받았다 --> 아래 참고 \n",
    "     # 데이터를 분리할때  train 와 test 로 분리되는데 과적합 되는 현상이 벌어짐) \n",
    "     # -> train, validation, test 로 나눈다 ( 검증용 데이터인 validation 을 만드는 것 )\n",
    "scores = model.evaluate(X,Y)\n",
    "\n",
    "print('\\n%s: %.2f%%' %(model.metrics_names[1], scores[1]*100))"
   ]
  },
  {
   "cell_type": "code",
   "execution_count": 4,
   "metadata": {},
   "outputs": [
    {
     "name": "stdout",
     "output_type": "stream",
     "text": [
      "dict_keys(['val_loss', 'val_accuracy', 'loss', 'accuracy'])\n"
     ]
    }
   ],
   "source": [
    "print(history.history.keys()) # history 로 리턴받으면 -->> loss, accuracy 가 둘다 나온다. "
   ]
  },
  {
   "cell_type": "code",
   "execution_count": 5,
   "metadata": {},
   "outputs": [
    {
     "data": {
      "image/png": "[encoded data removed]",
      "text/plain": [
       "<Figure size 432x288 with 1 Axes>"
      ]
     },
     "metadata": {
      "needs_background": "light"
     },
     "output_type": "display_data"
    }
   ],
   "source": [
    "%matplotlib inline\n",
    "import matplotlib.pyplot as plt\n",
    "plt.plot(history.history['accuracy'])\n",
    "plt.show()"
   ]
  },
  {
   "cell_type": "code",
   "execution_count": 6,
   "metadata": {},
   "outputs": [
    {
     "name": "stdout",
     "output_type": "stream",
     "text": [
      "dict_keys(['val_loss', 'val_accuracy', 'loss', 'accuracy'])\n"
     ]
    },
    {
     "data": {
      "image/png": "[encoded data removed]",
      "text/plain": [
       "<Figure size 432x288 with 1 Axes>"
      ]
     },
     "metadata": {
      "needs_background": "light"
     },
     "output_type": "display_data"
    }
   ],
   "source": [
    "print(history.history.keys())\n",
    "# val_loss, val_accuracy , loss, accuracy\n",
    "\n",
    "plt.plot(history.history['accuracy'])\n",
    "plt.plot(history.history['val_accuracy'])\n",
    "plt.title('accuracy')\n",
    "plt.ylabel('accuracy')\n",
    "plt.xlabel('epoch')\n",
    "plt.legend(['train', 'test'], loc='upper left')\n",
    "plt.show()"
   ]
  },
  {
   "cell_type": "code",
   "execution_count": 7,
   "metadata": {},
   "outputs": [
    {
     "data": {
      "image/png": "[encoded data removed]",
      "text/plain": [
       "<Figure size 432x288 with 1 Axes>"
      ]
     },
     "metadata": {
      "needs_background": "light"
     },
     "output_type": "display_data"
    }
   ],
   "source": [
    "plt.plot(history.history['loss'])\n",
    "plt.plot(history.history['val_loss'])\n",
    "plt.title('loss')\n",
    "plt.ylabel('loss')\n",
    "plt.xlabel('epoch')\n",
    "plt.legend(['train', 'test'], loc='upper left')\n",
    "plt.show()"
   ]
  },
  {
   "cell_type": "code",
   "execution_count": 8,
   "metadata": {},
   "outputs": [
    {
     "name": "stdout",
     "output_type": "stream",
     "text": [
      "(1000, 2)\n",
      "(1000,)\n"
     ]
    }
   ],
   "source": [
    "from sklearn.preprocessing import scale\n",
    "from sklearn.model_selection import train_test_split\n",
    "from sklearn.datasets import make_moons\n",
    "X, Y =make_moons(noise=0.2, random_state=0, n_samples=1000)  # X 는 1000x2\n",
    "X = scale(X)\n",
    "X_train, X_test, Y_train, Y_test = train_test_split(X, Y, test_size=.5)\n",
    "\n",
    "print(X.shape)  # X 는 1000x2 \n",
    "print(Y.shape)"
   ]
  },
  {
   "cell_type": "code",
   "execution_count": 9,
   "metadata": {
    "collapsed": true
   },
   "outputs": [
    {
     "data": {
      "text/plain": [
       "[Text(0, 0.5, 'Y'),\n",
       " Text(0.5, 0, 'X'),\n",
       " Text(0.5, 1.0, 'binary classification ')]"
      ]
     },
     "execution_count": 9,
     "metadata": {},
     "output_type": "execute_result"
    },
    {
     "data": {
      "image/png": "[encoded data removed]",
      "text/plain": [
       "<Figure size 432x288 with 1 Axes>"
      ]
     },
     "metadata": {
      "needs_background": "light"
     },
     "output_type": "display_data"
    }
   ],
   "source": [
    "fig, ax = plt.subplots()\n",
    "ax.scatter(X[Y==0,0], X[Y==0,1], label='Class 0 ')\n",
    "ax.scatter(X[Y==1, 0], X[Y==1, 1], color='r', label='Class 1')\n",
    "ax.legend()\n",
    "ax.set(xlabel='X', ylabel='Y', title='binary classification ')"
   ]
  },
  {
   "cell_type": "markdown",
   "metadata": {},
   "source": [
    "# 비선형모델"
   ]
  },
  {
   "cell_type": "code",
   "execution_count": 11,
   "metadata": {},
   "outputs": [],
   "source": [
    "import keras"
   ]
  },
  {
   "cell_type": "code",
   "execution_count": 14,
   "metadata": {},
   "outputs": [],
   "source": [
    "# 비선형모델일때 -> 신경망쓴다 \n",
    "model = Sequential()\n",
    "# 행렬연산 -> 설명을 확대 (변수32 - 설명) \n",
    "# 1000x2  2x32=64  + 32 = 96 ---> 1000x32 \n",
    "\n",
    "\n",
    "model.add(Dense(32, input_dim=2, activation='relu')) # 여기에는 1000x32 가 들어오고 가중치는 32x1이 되고 결과는 1000x1 이 된다 (분류라는것)\n",
    "                                                                                         # 32x1 = 33+bias1 =34 (즉 가중치가 있으면 bias 가 있다) \n",
    "model.add(Dense(1, activation='sigmoid')) \n",
    "\n",
    "model.compile(optimizer='AdaDelta', loss='binary_crossentropy', metrics=['accuracy'])\n",
    "# callback 함수는 언제쓰냐?\n",
    "# callback 함수는 window 에서 자동으로 호출되는 함수이다 \n",
    "tb_callback = keras.callbacks.TensorBoard(log_dir = './Graph/model_1/',   # graph 이미지 출력 \n",
    "                                         histogram_freq = 100, write_graph=True,\n",
    "                                         write_images = False)\n",
    "\n",
    "tb_callback.set_model(model) # 콜백을 모델에 등록해준다 (이미지를 간단하게 불러오는것을 콜백함수가 쓴것이라고 생각하자)\n",
    "# 콜백함수를 모델에 등록하면 --> 모델이 훈련되면서 자동으로 위에 3문장을 호출해준다 (tb_callback = keras.callbacks.TensorBoard(log_dir = './Graph/model_1/',   # graph 이미지 출력 \n",
    "                                                                               # histogram_freq = 100, write_graph=True,\n",
    "                                                                               #  write_images = False)  --> 이걸 자동으로 호출해준다 \n",
    "        \n"
   ]
  },
  {
   "cell_type": "code",
   "execution_count": 17,
   "metadata": {},
   "outputs": [
    {
     "ename": "NameError",
     "evalue": "name 'X_train' is not defined",
     "output_type": "error",
     "traceback": [
      "\u001b[1;31m---------------------------------------------------------------------------\u001b[0m",
      "\u001b[1;31mNameError\u001b[0m                                 Traceback (most recent call last)",
      "\u001b[1;32m<ipython-input-17-f67c5455eff2>\u001b[0m in \u001b[0;36m<module>\u001b[1;34m\u001b[0m\n\u001b[0;32m      1\u001b[0m \u001b[1;31m# 위에서 등록을 했고 fit 할때 호출을 한다\u001b[0m\u001b[1;33m\u001b[0m\u001b[1;33m\u001b[0m\u001b[1;33m\u001b[0m\u001b[0m\n\u001b[1;32m----> 2\u001b[1;33m \u001b[0mhist\u001b[0m \u001b[1;33m=\u001b[0m \u001b[0mmodel\u001b[0m\u001b[1;33m.\u001b[0m\u001b[0mfit\u001b[0m\u001b[1;33m(\u001b[0m\u001b[0mX_train\u001b[0m\u001b[1;33m,\u001b[0m \u001b[0mY_train\u001b[0m\u001b[1;33m,\u001b[0m \u001b[0mbatch_size\u001b[0m\u001b[1;33m=\u001b[0m\u001b[1;36m32\u001b[0m\u001b[1;33m,\u001b[0m \u001b[0mepochs\u001b[0m\u001b[1;33m=\u001b[0m\u001b[1;36m200\u001b[0m\u001b[1;33m,\u001b[0m \u001b[0mverbose\u001b[0m\u001b[1;33m=\u001b[0m \u001b[1;36m0\u001b[0m\u001b[1;33m,\u001b[0m \u001b[0mvalidation_data\u001b[0m \u001b[1;33m=\u001b[0m \u001b[1;33m(\u001b[0m\u001b[0mX_test\u001b[0m\u001b[1;33m,\u001b[0m \u001b[0mY_test\u001b[0m\u001b[1;33m)\u001b[0m\u001b[1;33m,\u001b[0m \u001b[0mcallbacks\u001b[0m\u001b[1;33m=\u001b[0m\u001b[1;33m[\u001b[0m\u001b[0mtb_callback\u001b[0m\u001b[1;33m]\u001b[0m\u001b[1;33m)\u001b[0m\u001b[1;33m\u001b[0m\u001b[1;33m\u001b[0m\u001b[0m\n\u001b[0m",
      "\u001b[1;31mNameError\u001b[0m: name 'X_train' is not defined"
     ]
    }
   ],
   "source": [
    "# 위에서 등록을 했고 fit 할때 호출을 한다 \n",
    "hist = model.fit(X_train, Y_train, batch_size=32, epochs=200, verbose= 0, validation_data = (X_test, Y_test), callbacks=[tb_callback])"
   ]
  },
  {
   "cell_type": "code",
   "execution_count": 16,
   "metadata": {},
   "outputs": [
    {
     "name": "stdout",
     "output_type": "stream",
     "text": [
      "Test Loss:  0.6688429870605469\n",
      "Test accuracy: 0.46000000834465027\n"
     ]
    }
   ],
   "source": [
    "score = model.evaluate(X_test, Y_test, verbose=0)\n",
    "print(\"Test Loss: \" , score[0])\n",
    "print(\"Test accuracy:\", score[1]) "
   ]
  },
  {
   "cell_type": "code",
   "execution_count": 17,
   "metadata": {},
   "outputs": [
    {
     "name": "stdout",
     "output_type": "stream",
     "text": [
      "Model: \"sequential_7\"\n",
      "_________________________________________________________________\n",
      "Layer (type)                 Output Shape              Param #   \n",
      "=================================================================\n",
      "dense_14 (Dense)             (None, 32)                96        \n",
      "_________________________________________________________________\n",
      "dense_15 (Dense)             (None, 1)                 33        \n",
      "=================================================================\n",
      "Total params: 129\n",
      "Trainable params: 129\n",
      "Non-trainable params: 0\n",
      "_________________________________________________________________\n"
     ]
    }
   ],
   "source": [
    "keras.utils.print_summary(model) # #print 하고 summary 하면 모델의 구성을 출력하낟 "
   ]
  },
  {
   "cell_type": "code",
   "execution_count": 18,
   "metadata": {},
   "outputs": [
    {
     "data": {
      "image/png": "[encoded data removed]",
      "text/plain": [
       "<IPython.core.display.Image object>"
      ]
     },
     "execution_count": 18,
     "metadata": {},
     "output_type": "execute_result"
    }
   ],
   "source": [
    "keras.utils.plot_model(model)  # 이건 모델의 구성!"
   ]
  },
  {
   "cell_type": "code",
   "execution_count": 18,
   "metadata": {},
   "outputs": [
    {
     "ename": "OSError",
     "evalue": "`pydot` failed to call GraphViz.Please install GraphViz (https://www.graphviz.org/) and ensure that its executables are in the $PATH.",
     "output_type": "error",
     "traceback": [
      "\u001b[1;31m---------------------------------------------------------------------------\u001b[0m",
      "\u001b[1;31mFileNotFoundError\u001b[0m                         Traceback (most recent call last)",
      "\u001b[1;32m~\\.conda\\envs\\tf_test\\lib\\site-packages\\pydot.py\u001b[0m in \u001b[0;36mcreate\u001b[1;34m(self, prog, format, encoding)\u001b[0m\n\u001b[0;32m   1914\u001b[0m                 \u001b[0marguments\u001b[0m\u001b[1;33m=\u001b[0m\u001b[0marguments\u001b[0m\u001b[1;33m,\u001b[0m\u001b[1;33m\u001b[0m\u001b[1;33m\u001b[0m\u001b[0m\n\u001b[1;32m-> 1915\u001b[1;33m                 \u001b[0mworking_dir\u001b[0m\u001b[1;33m=\u001b[0m\u001b[0mtmp_dir\u001b[0m\u001b[1;33m,\u001b[0m\u001b[1;33m\u001b[0m\u001b[1;33m\u001b[0m\u001b[0m\n\u001b[0m\u001b[0;32m   1916\u001b[0m             )\n",
      "\u001b[1;32m~\\.conda\\envs\\tf_test\\lib\\site-packages\\pydot.py\u001b[0m in \u001b[0;36mcall_graphviz\u001b[1;34m(program, arguments, working_dir, **kwargs)\u001b[0m\n\u001b[0;32m    135\u001b[0m         \u001b[0mstdout\u001b[0m\u001b[1;33m=\u001b[0m\u001b[0msubprocess\u001b[0m\u001b[1;33m.\u001b[0m\u001b[0mPIPE\u001b[0m\u001b[1;33m,\u001b[0m\u001b[1;33m\u001b[0m\u001b[1;33m\u001b[0m\u001b[0m\n\u001b[1;32m--> 136\u001b[1;33m         \u001b[1;33m**\u001b[0m\u001b[0mkwargs\u001b[0m\u001b[1;33m\u001b[0m\u001b[1;33m\u001b[0m\u001b[0m\n\u001b[0m\u001b[0;32m    137\u001b[0m     )\n",
      "\u001b[1;32m~\\.conda\\envs\\tf_test\\lib\\subprocess.py\u001b[0m in \u001b[0;36m__init__\u001b[1;34m(self, args, bufsize, executable, stdin, stdout, stderr, preexec_fn, close_fds, shell, cwd, env, universal_newlines, startupinfo, creationflags, restore_signals, start_new_session, pass_fds, encoding, errors, text)\u001b[0m\n\u001b[0;32m    799\u001b[0m                                 \u001b[0merrread\u001b[0m\u001b[1;33m,\u001b[0m \u001b[0merrwrite\u001b[0m\u001b[1;33m,\u001b[0m\u001b[1;33m\u001b[0m\u001b[1;33m\u001b[0m\u001b[0m\n\u001b[1;32m--> 800\u001b[1;33m                                 restore_signals, start_new_session)\n\u001b[0m\u001b[0;32m    801\u001b[0m         \u001b[1;32mexcept\u001b[0m\u001b[1;33m:\u001b[0m\u001b[1;33m\u001b[0m\u001b[1;33m\u001b[0m\u001b[0m\n",
      "\u001b[1;32m~\\.conda\\envs\\tf_test\\lib\\subprocess.py\u001b[0m in \u001b[0;36m_execute_child\u001b[1;34m(self, args, executable, preexec_fn, close_fds, pass_fds, cwd, env, startupinfo, creationflags, shell, p2cread, p2cwrite, c2pread, c2pwrite, errread, errwrite, unused_restore_signals, unused_start_new_session)\u001b[0m\n\u001b[0;32m   1206\u001b[0m                                          \u001b[0mos\u001b[0m\u001b[1;33m.\u001b[0m\u001b[0mfspath\u001b[0m\u001b[1;33m(\u001b[0m\u001b[0mcwd\u001b[0m\u001b[1;33m)\u001b[0m \u001b[1;32mif\u001b[0m \u001b[0mcwd\u001b[0m \u001b[1;32mis\u001b[0m \u001b[1;32mnot\u001b[0m \u001b[1;32mNone\u001b[0m \u001b[1;32melse\u001b[0m \u001b[1;32mNone\u001b[0m\u001b[1;33m,\u001b[0m\u001b[1;33m\u001b[0m\u001b[1;33m\u001b[0m\u001b[0m\n\u001b[1;32m-> 1207\u001b[1;33m                                          startupinfo)\n\u001b[0m\u001b[0;32m   1208\u001b[0m             \u001b[1;32mfinally\u001b[0m\u001b[1;33m:\u001b[0m\u001b[1;33m\u001b[0m\u001b[1;33m\u001b[0m\u001b[0m\n",
      "\u001b[1;31mFileNotFoundError\u001b[0m: [WinError 2] 지정된 파일을 찾을 수 없습니다",
      "\nDuring handling of the above exception, another exception occurred:\n",
      "\u001b[1;31mFileNotFoundError\u001b[0m                         Traceback (most recent call last)",
      "\u001b[1;32m~\\.conda\\envs\\tf_test\\lib\\site-packages\\keras\\utils\\vis_utils.py\u001b[0m in \u001b[0;36m_check_pydot\u001b[1;34m()\u001b[0m\n\u001b[0;32m     27\u001b[0m         \u001b[1;31m# to check the pydot/graphviz installation.\u001b[0m\u001b[1;33m\u001b[0m\u001b[1;33m\u001b[0m\u001b[1;33m\u001b[0m\u001b[0m\n\u001b[1;32m---> 28\u001b[1;33m         \u001b[0mpydot\u001b[0m\u001b[1;33m.\u001b[0m\u001b[0mDot\u001b[0m\u001b[1;33m.\u001b[0m\u001b[0mcreate\u001b[0m\u001b[1;33m(\u001b[0m\u001b[0mpydot\u001b[0m\u001b[1;33m.\u001b[0m\u001b[0mDot\u001b[0m\u001b[1;33m(\u001b[0m\u001b[1;33m)\u001b[0m\u001b[1;33m)\u001b[0m\u001b[1;33m\u001b[0m\u001b[1;33m\u001b[0m\u001b[0m\n\u001b[0m\u001b[0;32m     29\u001b[0m     \u001b[1;32mexcept\u001b[0m \u001b[0mOSError\u001b[0m\u001b[1;33m:\u001b[0m\u001b[1;33m\u001b[0m\u001b[1;33m\u001b[0m\u001b[0m\n",
      "\u001b[1;32m~\\.conda\\envs\\tf_test\\lib\\site-packages\\pydot.py\u001b[0m in \u001b[0;36mcreate\u001b[1;34m(self, prog, format, encoding)\u001b[0m\n\u001b[0;32m   1921\u001b[0m                     prog=prog)\n\u001b[1;32m-> 1922\u001b[1;33m                 \u001b[1;32mraise\u001b[0m \u001b[0mOSError\u001b[0m\u001b[1;33m(\u001b[0m\u001b[1;33m*\u001b[0m\u001b[0margs\u001b[0m\u001b[1;33m)\u001b[0m\u001b[1;33m\u001b[0m\u001b[1;33m\u001b[0m\u001b[0m\n\u001b[0m\u001b[0;32m   1923\u001b[0m             \u001b[1;32melse\u001b[0m\u001b[1;33m:\u001b[0m\u001b[1;33m\u001b[0m\u001b[1;33m\u001b[0m\u001b[0m\n",
      "\u001b[1;31mFileNotFoundError\u001b[0m: [WinError 2] \"dot\" not found in path.",
      "\nDuring handling of the above exception, another exception occurred:\n",
      "\u001b[1;31mOSError\u001b[0m                                   Traceback (most recent call last)",
      "\u001b[1;32m<ipython-input-18-31a1d6f0f304>\u001b[0m in \u001b[0;36m<module>\u001b[1;34m\u001b[0m\n\u001b[0;32m      1\u001b[0m \u001b[0mget_ipython\u001b[0m\u001b[1;33m(\u001b[0m\u001b[1;33m)\u001b[0m\u001b[1;33m.\u001b[0m\u001b[0mrun_line_magic\u001b[0m\u001b[1;33m(\u001b[0m\u001b[1;34m'matplotlib'\u001b[0m\u001b[1;33m,\u001b[0m \u001b[1;34m'inline'\u001b[0m\u001b[1;33m)\u001b[0m\u001b[1;33m\u001b[0m\u001b[1;33m\u001b[0m\u001b[0m\n\u001b[0;32m      2\u001b[0m \u001b[1;32mfrom\u001b[0m \u001b[0mkeras\u001b[0m\u001b[1;33m.\u001b[0m\u001b[0mutils\u001b[0m\u001b[1;33m.\u001b[0m\u001b[0mvis_utils\u001b[0m \u001b[1;32mimport\u001b[0m \u001b[0mmodel_to_dot\u001b[0m\u001b[1;33m\u001b[0m\u001b[1;33m\u001b[0m\u001b[0m\n\u001b[1;32m----> 3\u001b[1;33m \u001b[0mmodel_to_dot\u001b[0m\u001b[1;33m(\u001b[0m\u001b[0mmodel\u001b[0m\u001b[1;33m)\u001b[0m\u001b[1;33m\u001b[0m\u001b[1;33m\u001b[0m\u001b[0m\n\u001b[0m",
      "\u001b[1;32m~\\.conda\\envs\\tf_test\\lib\\site-packages\\keras\\utils\\vis_utils.py\u001b[0m in \u001b[0;36mmodel_to_dot\u001b[1;34m(model, show_shapes, show_layer_names, rankdir, expand_nested, dpi, subgraph)\u001b[0m\n\u001b[0;32m     77\u001b[0m     \u001b[1;32mfrom\u001b[0m \u001b[1;33m.\u001b[0m\u001b[1;33m.\u001b[0m\u001b[0mmodels\u001b[0m \u001b[1;32mimport\u001b[0m \u001b[0mSequential\u001b[0m\u001b[1;33m\u001b[0m\u001b[1;33m\u001b[0m\u001b[0m\n\u001b[0;32m     78\u001b[0m \u001b[1;33m\u001b[0m\u001b[0m\n\u001b[1;32m---> 79\u001b[1;33m     \u001b[0m_check_pydot\u001b[0m\u001b[1;33m(\u001b[0m\u001b[1;33m)\u001b[0m\u001b[1;33m\u001b[0m\u001b[1;33m\u001b[0m\u001b[0m\n\u001b[0m\u001b[0;32m     80\u001b[0m     \u001b[1;32mif\u001b[0m \u001b[0msubgraph\u001b[0m\u001b[1;33m:\u001b[0m\u001b[1;33m\u001b[0m\u001b[1;33m\u001b[0m\u001b[0m\n\u001b[0;32m     81\u001b[0m         \u001b[0mdot\u001b[0m \u001b[1;33m=\u001b[0m \u001b[0mpydot\u001b[0m\u001b[1;33m.\u001b[0m\u001b[0mCluster\u001b[0m\u001b[1;33m(\u001b[0m\u001b[0mstyle\u001b[0m\u001b[1;33m=\u001b[0m\u001b[1;34m'dashed'\u001b[0m\u001b[1;33m,\u001b[0m \u001b[0mgraph_name\u001b[0m\u001b[1;33m=\u001b[0m\u001b[0mmodel\u001b[0m\u001b[1;33m.\u001b[0m\u001b[0mname\u001b[0m\u001b[1;33m)\u001b[0m\u001b[1;33m\u001b[0m\u001b[1;33m\u001b[0m\u001b[0m\n",
      "\u001b[1;32m~\\.conda\\envs\\tf_test\\lib\\site-packages\\keras\\utils\\vis_utils.py\u001b[0m in \u001b[0;36m_check_pydot\u001b[1;34m()\u001b[0m\n\u001b[0;32m     29\u001b[0m     \u001b[1;32mexcept\u001b[0m \u001b[0mOSError\u001b[0m\u001b[1;33m:\u001b[0m\u001b[1;33m\u001b[0m\u001b[1;33m\u001b[0m\u001b[0m\n\u001b[0;32m     30\u001b[0m         raise OSError(\n\u001b[1;32m---> 31\u001b[1;33m             \u001b[1;34m'`pydot` failed to call GraphViz.'\u001b[0m\u001b[1;33m\u001b[0m\u001b[1;33m\u001b[0m\u001b[0m\n\u001b[0m\u001b[0;32m     32\u001b[0m             \u001b[1;34m'Please install GraphViz (https://www.graphviz.org/) '\u001b[0m\u001b[1;33m\u001b[0m\u001b[1;33m\u001b[0m\u001b[0m\n\u001b[0;32m     33\u001b[0m             'and ensure that its executables are in the $PATH.')\n",
      "\u001b[1;31mOSError\u001b[0m: `pydot` failed to call GraphViz.Please install GraphViz (https://www.graphviz.org/) and ensure that its executables are in the $PATH."
     ]
    }
   ],
   "source": [
    "%matplotlib inline\n",
    "from keras.utils.vis_utils import model_to_dot\n",
    "model_to_dot(model)"
   ]
  },
  {
   "cell_type": "code",
   "execution_count": 20,
   "metadata": {},
   "outputs": [
    {
     "data": {
      "image/svg+xml": [
       "<svg height=\"255pt\" viewBox=\"0.00 0.00 181.00 191.00\" width=\"241pt\" xmlns=\"http://www.w3.org/2000/svg\" xmlns:xlink=\"http://www.w3.org/1999/xlink\">\n",
       "<g class=\"graph\" id=\"graph0\" transform=\"scale(1.33333 1.33333) rotate(0) translate(4 187)\">\n",
       "<title>G</title>\n",
       "<polygon fill=\"white\" points=\"-4,4 -4,-187 177,-187 177,4 -4,4\" stroke=\"none\"/>\n",
       "<!-- 2494564303496 -->\n",
       "<g class=\"node\" id=\"node1\"><title>2494564303496</title>\n",
       "<polygon fill=\"none\" points=\"0,-146.5 0,-182.5 173,-182.5 173,-146.5 0,-146.5\" stroke=\"black\"/>\n",
       "<text font-family=\"Times New Roman,serif\" font-size=\"14.00\" text-anchor=\"middle\" x=\"86.5\" y=\"-160.8\">dense_14_input: InputLayer</text>\n",
       "</g>\n",
       "<!-- 2494564280968 -->\n",
       "<g class=\"node\" id=\"node2\"><title>2494564280968</title>\n",
       "<polygon fill=\"none\" points=\"31,-73.5 31,-109.5 142,-109.5 142,-73.5 31,-73.5\" stroke=\"black\"/>\n",
       "<text font-family=\"Times New Roman,serif\" font-size=\"14.00\" text-anchor=\"middle\" x=\"86.5\" y=\"-87.8\">dense_14: Dense</text>\n",
       "</g>\n",
       "<!-- 2494564303496&#45;&gt;2494564280968 -->\n",
       "<g class=\"edge\" id=\"edge1\"><title>2494564303496-&gt;2494564280968</title>\n",
       "<path d=\"M86.5,-146.313C86.5,-138.289 86.5,-128.547 86.5,-119.569\" fill=\"none\" stroke=\"black\"/>\n",
       "<polygon fill=\"black\" points=\"90.0001,-119.529 86.5,-109.529 83.0001,-119.529 90.0001,-119.529\" stroke=\"black\"/>\n",
       "</g>\n",
       "<!-- 2494564281992 -->\n",
       "<g class=\"node\" id=\"node3\"><title>2494564281992</title>\n",
       "<polygon fill=\"none\" points=\"31,-0.5 31,-36.5 142,-36.5 142,-0.5 31,-0.5\" stroke=\"black\"/>\n",
       "<text font-family=\"Times New Roman,serif\" font-size=\"14.00\" text-anchor=\"middle\" x=\"86.5\" y=\"-14.8\">dense_15: Dense</text>\n",
       "</g>\n",
       "<!-- 2494564280968&#45;&gt;2494564281992 -->\n",
       "<g class=\"edge\" id=\"edge2\"><title>2494564280968-&gt;2494564281992</title>\n",
       "<path d=\"M86.5,-73.3129C86.5,-65.2895 86.5,-55.5475 86.5,-46.5691\" fill=\"none\" stroke=\"black\"/>\n",
       "<polygon fill=\"black\" points=\"90.0001,-46.5288 86.5,-36.5288 83.0001,-46.5289 90.0001,-46.5288\" stroke=\"black\"/>\n",
       "</g>\n",
       "</g>\n",
       "</svg>"
      ],
      "text/plain": [
       "<IPython.core.display.SVG object>"
      ]
     },
     "execution_count": 20,
     "metadata": {},
     "output_type": "execute_result"
    }
   ],
   "source": [
    "from IPython.display import Image, SVG\n",
    "SVG(model_to_dot(model).create(prog='dot', format='svg'))"
   ]
  },
  {
   "cell_type": "code",
   "execution_count": 21,
   "metadata": {},
   "outputs": [
    {
     "name": "stdout",
     "output_type": "stream",
     "text": [
      "(60000, 28, 28) uint8\n",
      "(60000,) uint8\n",
      "(10000, 28, 28) uint8\n",
      "(10000,) uint8\n"
     ]
    }
   ],
   "source": [
    "from keras.datasets import mnist\n",
    "import matplotlib.pylab as plt\n",
    "(X_train0, y_train0), (X_test0, y_test0) = mnist.load_data()\n",
    "print(X_train0.shape, X_train0.dtype)  # 60000,  28x28 이 나온다   -> 28x28이라고 안해도 된다 (내맘대로 조정한다)\n",
    "print(y_train0.shape, y_train0.dtype)  # 60000\n",
    "print(X_test0.shape, X_test0.dtype)   # 10000, 28x28\n",
    "print(y_test0.shape, y_test0.dtype) # "
   ]
  },
  {
   "cell_type": "code",
   "execution_count": null,
   "metadata": {},
   "outputs": [],
   "source": [
    "plt.imshow(X_train0[0])\n",
    "plt.grid(False)\n",
    "plt.show()\n"
   ]
  },
  {
   "cell_type": "code",
   "execution_count": 22,
   "metadata": {},
   "outputs": [
    {
     "name": "stdout",
     "output_type": "stream",
     "text": [
      "(60000, 784) float32\n"
     ]
    }
   ],
   "source": [
    "# fully-connected : flatten : FFNN 은 \n",
    "\n",
    "X_train = X_train0.reshape(60000,784).astype('float32')/255.0  # 255  로 나누는 이유 -> 이미지 정규화 (이미지는 원래 0~255사이의 값이므로 255로 나누니까 0~1 로 바뀐다=정규화) / 나누려면 float 형으로 바꾸어야한다. \n",
    "X_test = X_test0.reshape(10000,784).astype('float32')/255.0\n",
    "print(X_train.shape, X_train.dtype)"
   ]
  },
  {
   "cell_type": "code",
   "execution_count": 23,
   "metadata": {},
   "outputs": [
    {
     "data": {
      "text/plain": [
       "array([5, 0, 4, 1, 9], dtype=uint8)"
      ]
     },
     "execution_count": 23,
     "metadata": {},
     "output_type": "execute_result"
    }
   ],
   "source": [
    "\n",
    "y_train0[:5] # 이걸확인해보면 one_hot_encoding 여부 확인가능  \n",
    "# 5,0,4,1,9   로 나온다 -> onehotencoding 되어있지 않다   -> 해주어야한다 .\n",
    "\n",
    "#( a만약 강아지고양이 이렇게 말고 3개가 넘어가면 softmax 해준다 )\n"
   ]
  },
  {
   "cell_type": "code",
   "execution_count": 25,
   "metadata": {},
   "outputs": [
    {
     "data": {
      "text/plain": [
       "array([[0., 0., 0., 0., 0., 1., 0., 0., 0., 0.],\n",
       "       [1., 0., 0., 0., 0., 0., 0., 0., 0., 0.],\n",
       "       [0., 0., 0., 0., 1., 0., 0., 0., 0., 0.],\n",
       "       [0., 1., 0., 0., 0., 0., 0., 0., 0., 0.],\n",
       "       [0., 0., 0., 0., 0., 0., 0., 0., 0., 1.]], dtype=float32)"
      ]
     },
     "execution_count": 25,
     "metadata": {},
     "output_type": "execute_result"
    }
   ],
   "source": [
    "# categorical 함수를 이용해서 원핫인코딩한다\n",
    "from keras.utils import np_utils\n",
    "Y_train = np_utils.to_categorical(y_train0, 10)\n",
    "Y_test = np_utils.to_categorical(y_test0, 10)\n",
    "Y_train[:5]"
   ]
  },
  {
   "cell_type": "code",
   "execution_count": 32,
   "metadata": {},
   "outputs": [],
   "source": [
    "import numpy as np\n",
    "from keras.optimizers import SGD\n",
    "import numpy as np\n",
    "np.random.seed(0)\n",
    "model = Sequential()\n",
    "# 60000x784 ,  784x 15  ---> 60000x15\n",
    "model.add(Dense(15, input_dim=784, activation='sigmoid'))\n",
    "# 60000x15   15x10   ->  60000x10 \n",
    "model.add(Dense(10, activation='sigmoid'))\n",
    "model.compile(optimizer=SGD(lr=0.2), loss='mean_squared_error', metrics=['accuracy']) \n",
    "# learning rate(lr)\n",
    "# stockhastic gradient descent : SGD : 확률적 경사하강법"
   ]
  },
  {
   "cell_type": "code",
   "execution_count": null,
   "metadata": {},
   "outputs": [],
   "source": [
    "# model.add(Dense(15, input_dim=784, activation='sigmoid')) 이것을 \n",
    "# 출력차수가 512 인 레이어를 추가하고 싶을땐 \n",
    "# model.add(Dense(512, input_dim=784, activation='sigmoid')) ; model.add(Dense(15)) 로 바꿔보자 "
   ]
  },
  {
   "cell_type": "code",
   "execution_count": 33,
   "metadata": {},
   "outputs": [
    {
     "data": {
      "text/plain": [
       "[<keras.layers.core.Dense at 0x244cef00988>,\n",
       " <keras.layers.core.Dense at 0x244d0a0b088>]"
      ]
     },
     "execution_count": 33,
     "metadata": {},
     "output_type": "execute_result"
    }
   ],
   "source": [
    "model.layers\n"
   ]
  },
  {
   "cell_type": "code",
   "execution_count": 31,
   "metadata": {},
   "outputs": [
    {
     "data": {
      "text/plain": [
       "<function keras.activations.sigmoid(x)>"
      ]
     },
     "execution_count": 31,
     "metadata": {},
     "output_type": "execute_result"
    }
   ],
   "source": [
    "l1 = model.layers[0]\n",
    "l2 = model.layers[1]\n",
    "# 레이어 속성으로 정보확인\n",
    "l1.name\n",
    "l1.input_shape\n",
    "l1.output_shape\n",
    "l1.activation"
   ]
  },
  {
   "cell_type": "code",
   "execution_count": 35,
   "metadata": {},
   "outputs": [
    {
     "name": "stderr",
     "output_type": "stream",
     "text": [
      "C:\\Users\\ICT01_09\\Anaconda3\\lib\\site-packages\\ipykernel_launcher.py:2: UserWarning: The `nb_epoch` argument in `fit` has been renamed `epochs`.\n",
      "  \n"
     ]
    },
    {
     "name": "stdout",
     "output_type": "stream",
     "text": [
      "Train on 60000 samples, validate on 10000 samples\n",
      "Epoch 1/30\n",
      " - 1s - loss: 0.0251 - accuracy: 0.8863 - val_loss: 0.0241 - val_accuracy: 0.8911\n",
      "Epoch 2/30\n",
      " - 1s - loss: 0.0246 - accuracy: 0.8873 - val_loss: 0.0236 - val_accuracy: 0.8929\n",
      "Epoch 3/30\n",
      " - 1s - loss: 0.0242 - accuracy: 0.8886 - val_loss: 0.0232 - val_accuracy: 0.8946\n",
      "Epoch 4/30\n",
      " - 1s - loss: 0.0238 - accuracy: 0.8897 - val_loss: 0.0229 - val_accuracy: 0.8956\n",
      "Epoch 5/30\n",
      " - 1s - loss: 0.0234 - accuracy: 0.8910 - val_loss: 0.0225 - val_accuracy: 0.8963\n",
      "Epoch 6/30\n",
      " - 1s - loss: 0.0231 - accuracy: 0.8920 - val_loss: 0.0222 - val_accuracy: 0.8976\n",
      "Epoch 7/30\n",
      " - 1s - loss: 0.0228 - accuracy: 0.8928 - val_loss: 0.0219 - val_accuracy: 0.8985\n",
      "Epoch 8/30\n",
      " - 1s - loss: 0.0225 - accuracy: 0.8935 - val_loss: 0.0216 - val_accuracy: 0.8997\n",
      "Epoch 9/30\n",
      " - 1s - loss: 0.0222 - accuracy: 0.8945 - val_loss: 0.0213 - val_accuracy: 0.9002\n",
      "Epoch 10/30\n",
      " - 1s - loss: 0.0219 - accuracy: 0.8956 - val_loss: 0.0210 - val_accuracy: 0.9012\n",
      "Epoch 11/30\n",
      " - 1s - loss: 0.0216 - accuracy: 0.8962 - val_loss: 0.0208 - val_accuracy: 0.9019\n",
      "Epoch 12/30\n",
      " - 1s - loss: 0.0214 - accuracy: 0.8967 - val_loss: 0.0205 - val_accuracy: 0.9022\n",
      "Epoch 13/30\n",
      " - 1s - loss: 0.0211 - accuracy: 0.8980 - val_loss: 0.0203 - val_accuracy: 0.9027\n",
      "Epoch 14/30\n",
      " - 1s - loss: 0.0209 - accuracy: 0.8986 - val_loss: 0.0201 - val_accuracy: 0.9026\n",
      "Epoch 15/30\n",
      " - 1s - loss: 0.0207 - accuracy: 0.8992 - val_loss: 0.0199 - val_accuracy: 0.9031\n",
      "Epoch 16/30\n",
      " - 1s - loss: 0.0205 - accuracy: 0.9000 - val_loss: 0.0197 - val_accuracy: 0.9033\n",
      "Epoch 17/30\n",
      " - 1s - loss: 0.0203 - accuracy: 0.9007 - val_loss: 0.0195 - val_accuracy: 0.9038\n",
      "Epoch 18/30\n",
      " - 1s - loss: 0.0201 - accuracy: 0.9015 - val_loss: 0.0193 - val_accuracy: 0.9043\n",
      "Epoch 19/30\n",
      " - 1s - loss: 0.0199 - accuracy: 0.9018 - val_loss: 0.0191 - val_accuracy: 0.9050\n",
      "Epoch 20/30\n",
      " - 1s - loss: 0.0197 - accuracy: 0.9025 - val_loss: 0.0190 - val_accuracy: 0.9049\n",
      "Epoch 21/30\n",
      " - 1s - loss: 0.0195 - accuracy: 0.9031 - val_loss: 0.0188 - val_accuracy: 0.9058\n",
      "Epoch 22/30\n",
      " - 1s - loss: 0.0194 - accuracy: 0.9034 - val_loss: 0.0187 - val_accuracy: 0.9063\n",
      "Epoch 23/30\n",
      " - 1s - loss: 0.0192 - accuracy: 0.9037 - val_loss: 0.0185 - val_accuracy: 0.9069\n",
      "Epoch 24/30\n",
      " - 1s - loss: 0.0191 - accuracy: 0.9043 - val_loss: 0.0184 - val_accuracy: 0.9070\n",
      "Epoch 25/30\n",
      " - 1s - loss: 0.0189 - accuracy: 0.9046 - val_loss: 0.0182 - val_accuracy: 0.9072\n",
      "Epoch 26/30\n",
      " - 1s - loss: 0.0188 - accuracy: 0.9053 - val_loss: 0.0181 - val_accuracy: 0.9076\n",
      "Epoch 27/30\n",
      " - 1s - loss: 0.0186 - accuracy: 0.9055 - val_loss: 0.0180 - val_accuracy: 0.9082\n",
      "Epoch 28/30\n",
      " - 1s - loss: 0.0185 - accuracy: 0.9060 - val_loss: 0.0179 - val_accuracy: 0.9089\n",
      "Epoch 29/30\n",
      " - 1s - loss: 0.0184 - accuracy: 0.9062 - val_loss: 0.0177 - val_accuracy: 0.9088\n",
      "Epoch 30/30\n",
      " - 1s - loss: 0.0183 - accuracy: 0.9069 - val_loss: 0.0176 - val_accuracy: 0.9095\n"
     ]
    },
    {
     "data": {
      "image/png": "[encoded data removed]",
      "text/plain": [
       "<Figure size 432x288 with 1 Axes>"
      ]
     },
     "metadata": {
      "needs_background": "light"
     },
     "output_type": "display_data"
    }
   ],
   "source": [
    "hist = model.fit(X_train, Y_train, nb_epoch=30, batch_size=100,\n",
    "                validation_data = (X_test, Y_test), verbose=2) # validation data 를 저렇게 별도로 주어도된다 \n",
    "plt.plot(hist.history['loss']) # 작업했던 내용을 확인할수있다. \n",
    "plt.show()"
   ]
  },
  {
   "cell_type": "code",
   "execution_count": 38,
   "metadata": {},
   "outputs": [
    {
     "data": {
      "image/png": "[encoded data removed]",
      "text/plain": [
       "<Figure size 432x288 with 1 Axes>"
      ]
     },
     "metadata": {
      "needs_background": "light"
     },
     "output_type": "display_data"
    },
    {
     "name": "stdout",
     "output_type": "stream",
     "text": [
      "<keras.engine.sequential.Sequential object at 0x00000244CEF009C8>\n",
      "{'batch_size': 100, 'epochs': 30, 'steps': None, 'samples': 60000, 'verbose': 2, 'do_validation': True, 'metrics': ['loss', 'accuracy', 'val_loss', 'val_accuracy']}\n",
      "[0.88628334, 0.88731664, 0.8886333, 0.8896833, 0.89103335, 0.89198333, 0.89278334, 0.89351666, 0.8944833, 0.89555, 0.8961667, 0.89673334, 0.898, 0.89863336, 0.89916664, 0.90003335, 0.90075, 0.9015167, 0.90183336, 0.90253335, 0.90305, 0.9033833, 0.9037333, 0.90426666, 0.90456665, 0.90525, 0.9055, 0.90603334, 0.9062, 0.9069]\n",
      "0.909500002861023\n"
     ]
    }
   ],
   "source": [
    "plt.plot(hist.history['accuracy'],'b-', label='training')\n",
    "plt.plot(hist.history['val_accuracy'],'r:', label='test')\n",
    "plt.legend()\n",
    "plt.show()\n",
    "\n",
    "print(hist.model)\n",
    "print(hist.params)\n",
    "print(hist.history['accuracy'])\n",
    "print(hist.history['val_accuracy'][29])"
   ]
  },
  {
   "cell_type": "markdown",
   "metadata": {},
   "source": [
    "# mnist "
   ]
  },
  {
   "cell_type": "code",
   "execution_count": 39,
   "metadata": {},
   "outputs": [],
   "source": [
    "# callback class\n",
    "# callback 함수를 상속받으면 custom callback 함수를 제작할 수 있다\n",
    "# >> keras 가 가지고있는 call back 기능은 함수에 의해서 호출되는 객체이다 \n",
    "\n",
    "class CustomHistory(keras.callbacks.Callback): # () 안에 보이는것처럼 상속을 받는다. \n",
    "    def init(self):   #__init 랑 다른가??? (이해안됨)  \n",
    "        self.train_loss = []\n",
    "        self.val_loss = []\n",
    "        self.train_acc = []\n",
    "        self.val_acc = []\n",
    "    def on_epoch_end(self, batch,logs={}):  # 오버라이딩하고있다 (배치와 로고가 매개변수로 들어온다) \n",
    "        self.train_loss.append(logs.get('loss'))\n",
    "        self.val_loss.append(logs.get('val_loss'))\n",
    "        self.train_acc.append(logs.get('acc'))\n",
    "        self.val_acc.append(logs.get('val_acc'))"
   ]
  },
  {
   "cell_type": "code",
   "execution_count": 47,
   "metadata": {},
   "outputs": [
    {
     "name": "stderr",
     "output_type": "stream",
     "text": [
      "C:\\Users\\ICT01_09\\Anaconda3\\lib\\site-packages\\ipykernel_launcher.py:4: UserWarning: The `nb_epoch` argument in `fit` has been renamed `epochs`.\n",
      "  after removing the cwd from sys.path.\n"
     ]
    },
    {
     "name": "stdout",
     "output_type": "stream",
     "text": [
      "Train on 60000 samples, validate on 10000 samples\n",
      "Epoch 1/30\n",
      " - 1s - loss: 0.0157 - accuracy: 0.9147 - val_loss: 0.0153 - val_accuracy: 0.9167\n",
      "Epoch 2/30\n",
      " - 1s - loss: 0.0156 - accuracy: 0.9150 - val_loss: 0.0152 - val_accuracy: 0.9171\n",
      "Epoch 3/30\n",
      " - 1s - loss: 0.0156 - accuracy: 0.9151 - val_loss: 0.0152 - val_accuracy: 0.9170\n",
      "Epoch 4/30\n",
      " - 1s - loss: 0.0155 - accuracy: 0.9155 - val_loss: 0.0151 - val_accuracy: 0.9174\n",
      "Epoch 5/30\n",
      " - 1s - loss: 0.0155 - accuracy: 0.9154 - val_loss: 0.0151 - val_accuracy: 0.9175\n",
      "Epoch 6/30\n",
      " - 1s - loss: 0.0154 - accuracy: 0.9156 - val_loss: 0.0150 - val_accuracy: 0.9177\n",
      "Epoch 7/30\n",
      " - 1s - loss: 0.0154 - accuracy: 0.9160 - val_loss: 0.0150 - val_accuracy: 0.9179\n",
      "Epoch 8/30\n",
      " - 1s - loss: 0.0153 - accuracy: 0.9161 - val_loss: 0.0149 - val_accuracy: 0.9181\n",
      "Epoch 9/30\n",
      " - 1s - loss: 0.0153 - accuracy: 0.9163 - val_loss: 0.0149 - val_accuracy: 0.9178\n",
      "Epoch 10/30\n",
      " - 1s - loss: 0.0152 - accuracy: 0.9166 - val_loss: 0.0148 - val_accuracy: 0.9184\n",
      "Epoch 11/30\n",
      " - 1s - loss: 0.0152 - accuracy: 0.9167 - val_loss: 0.0148 - val_accuracy: 0.9190\n",
      "Epoch 12/30\n",
      " - 1s - loss: 0.0151 - accuracy: 0.9169 - val_loss: 0.0148 - val_accuracy: 0.9191\n",
      "Epoch 13/30\n",
      " - 1s - loss: 0.0151 - accuracy: 0.9173 - val_loss: 0.0147 - val_accuracy: 0.9193\n",
      "Epoch 14/30\n",
      " - 1s - loss: 0.0150 - accuracy: 0.9172 - val_loss: 0.0147 - val_accuracy: 0.9197\n",
      "Epoch 15/30\n",
      " - 1s - loss: 0.0150 - accuracy: 0.9177 - val_loss: 0.0146 - val_accuracy: 0.9186\n",
      "Epoch 16/30\n",
      " - 1s - loss: 0.0149 - accuracy: 0.9178 - val_loss: 0.0146 - val_accuracy: 0.9193\n",
      "Epoch 17/30\n",
      " - 1s - loss: 0.0149 - accuracy: 0.9178 - val_loss: 0.0146 - val_accuracy: 0.9191\n",
      "Epoch 18/30\n",
      " - 1s - loss: 0.0149 - accuracy: 0.9178 - val_loss: 0.0145 - val_accuracy: 0.9193\n",
      "Epoch 19/30\n",
      " - 1s - loss: 0.0148 - accuracy: 0.9182 - val_loss: 0.0145 - val_accuracy: 0.9194\n",
      "Epoch 20/30\n",
      " - 1s - loss: 0.0148 - accuracy: 0.9183 - val_loss: 0.0144 - val_accuracy: 0.9200\n",
      "Epoch 21/30\n",
      " - 1s - loss: 0.0147 - accuracy: 0.9184 - val_loss: 0.0144 - val_accuracy: 0.9197\n",
      "Epoch 22/30\n",
      " - 1s - loss: 0.0147 - accuracy: 0.9185 - val_loss: 0.0144 - val_accuracy: 0.9195\n",
      "Epoch 23/30\n",
      " - 1s - loss: 0.0147 - accuracy: 0.9188 - val_loss: 0.0143 - val_accuracy: 0.9198\n",
      "Epoch 24/30\n",
      " - 1s - loss: 0.0146 - accuracy: 0.9188 - val_loss: 0.0143 - val_accuracy: 0.9200\n",
      "Epoch 25/30\n",
      " - 1s - loss: 0.0146 - accuracy: 0.9189 - val_loss: 0.0143 - val_accuracy: 0.9204\n",
      "Epoch 26/30\n",
      " - 1s - loss: 0.0145 - accuracy: 0.9192 - val_loss: 0.0142 - val_accuracy: 0.9203\n",
      "Epoch 27/30\n",
      " - 1s - loss: 0.0145 - accuracy: 0.9195 - val_loss: 0.0142 - val_accuracy: 0.9205\n",
      "Epoch 28/30\n",
      " - 1s - loss: 0.0145 - accuracy: 0.9195 - val_loss: 0.0142 - val_accuracy: 0.9210\n",
      "Epoch 29/30\n",
      " - 1s - loss: 0.0144 - accuracy: 0.9197 - val_loss: 0.0141 - val_accuracy: 0.9209\n",
      "Epoch 30/30\n",
      " - 1s - loss: 0.0144 - accuracy: 0.9199 - val_loss: 0.0141 - val_accuracy: 0.9208\n"
     ]
    },
    {
     "ename": "TypeError",
     "evalue": "'dict' object is not callable",
     "output_type": "error",
     "traceback": [
      "\u001b[1;31m---------------------------------------------------------------------------\u001b[0m",
      "\u001b[1;31mTypeError\u001b[0m                                 Traceback (most recent call last)",
      "\u001b[1;32m<ipython-input-47-a0357c651ec5>\u001b[0m in \u001b[0;36m<module>\u001b[1;34m\u001b[0m\n\u001b[0;32m      4\u001b[0m                  callbacks=[custom_hist], verbose=2)\n\u001b[0;32m      5\u001b[0m \u001b[1;33m\u001b[0m\u001b[0m\n\u001b[1;32m----> 6\u001b[1;33m \u001b[0mplt\u001b[0m\u001b[1;33m.\u001b[0m\u001b[0mplot\u001b[0m\u001b[1;33m(\u001b[0m\u001b[0mhist\u001b[0m\u001b[1;33m.\u001b[0m\u001b[0mhistory\u001b[0m\u001b[1;33m(\u001b[0m\u001b[1;33m)\u001b[0m\u001b[1;33m)\u001b[0m\u001b[1;33m\u001b[0m\u001b[1;33m\u001b[0m\u001b[0m\n\u001b[0m",
      "\u001b[1;31mTypeError\u001b[0m: 'dict' object is not callable"
     ]
    }
   ],
   "source": [
    "custom_hist = CustomHistory()\n",
    "custom_hist.init()  # init 를 호출하면 안되는데 어떻게 호출했나? \n",
    "hist = model.fit(X_train, Y_train, nb_epoch=30, batch_size=100, validation_data = (X_test,Y_test),\n",
    "                 callbacks=[custom_hist], verbose=2)\n",
    "                 \n",
    "plt.plot(hist.history())"
   ]
  },
  {
   "cell_type": "code",
   "execution_count": 46,
   "metadata": {},
   "outputs": [
    {
     "data": {
      "image/png": "[encoded data removed]",
      "text/plain": [
       "<Figure size 432x288 with 1 Axes>"
      ]
     },
     "metadata": {
      "needs_background": "light"
     },
     "output_type": "display_data"
    },
    {
     "name": "stdout",
     "output_type": "stream",
     "text": [
      "<keras.engine.sequential.Sequential object at 0x00000244CEF009C8>\n",
      "{'batch_size': 100, 'epochs': 30, 'steps': None, 'samples': 60000, 'verbose': 2, 'do_validation': True, 'metrics': ['loss', 'accuracy', 'val_loss', 'val_accuracy']}\n",
      "[0.90718335, 0.90743333, 0.90776664, 0.9080667, 0.90828335, 0.9087833, 0.90901667, 0.90921664, 0.90958333, 0.90961665, 0.91005, 0.91033334, 0.91035, 0.91065, 0.91111666, 0.9113333, 0.9115833, 0.9119167, 0.9120833, 0.91258335, 0.91258335, 0.91298336, 0.91298336, 0.91323334, 0.91335, 0.91366667, 0.91368335, 0.91443336, 0.9141333, 0.9145833]\n",
      "0.9168999791145325\n"
     ]
    },
    {
     "ename": "NameError",
     "evalue": "name 'plot' is not defined",
     "output_type": "error",
     "traceback": [
      "\u001b[1;31m---------------------------------------------------------------------------\u001b[0m",
      "\u001b[1;31mNameError\u001b[0m                                 Traceback (most recent call last)",
      "\u001b[1;32m<ipython-input-46-9d5ab7ec0c5d>\u001b[0m in \u001b[0;36m<module>\u001b[1;34m\u001b[0m\n\u001b[0;32m      9\u001b[0m \u001b[0mprint\u001b[0m\u001b[1;33m(\u001b[0m\u001b[0mhist\u001b[0m\u001b[1;33m.\u001b[0m\u001b[0mhistory\u001b[0m\u001b[1;33m[\u001b[0m\u001b[1;34m'val_accuracy'\u001b[0m\u001b[1;33m]\u001b[0m\u001b[1;33m[\u001b[0m\u001b[1;36m29\u001b[0m\u001b[1;33m]\u001b[0m\u001b[1;33m)\u001b[0m\u001b[1;33m\u001b[0m\u001b[1;33m\u001b[0m\u001b[0m\n\u001b[0;32m     10\u001b[0m \u001b[0mplt\u001b[0m\u001b[1;33m.\u001b[0m\u001b[0mshow\u001b[0m\u001b[1;33m(\u001b[0m\u001b[1;33m)\u001b[0m\u001b[1;33m\u001b[0m\u001b[1;33m\u001b[0m\u001b[0m\n\u001b[1;32m---> 11\u001b[1;33m \u001b[0mplot\u001b[0m\u001b[1;33m(\u001b[0m\u001b[0mcustom_hist\u001b[0m\u001b[1;33m.\u001b[0m\u001b[0mtrain_loss\u001b[0m\u001b[1;33m,\u001b[0m \u001b[1;34m'y'\u001b[0m\u001b[1;33m,\u001b[0m \u001b[0mlabel\u001b[0m\u001b[1;33m=\u001b[0m\u001b[1;34m'train loss'\u001b[0m\u001b[1;33m)\u001b[0m\u001b[1;33m\u001b[0m\u001b[1;33m\u001b[0m\u001b[0m\n\u001b[0m\u001b[0;32m     12\u001b[0m \u001b[0mplt\u001b[0m\u001b[1;33m.\u001b[0m\u001b[0mshow\u001b[0m\u001b[1;33m(\u001b[0m\u001b[1;33m)\u001b[0m\u001b[1;33m\u001b[0m\u001b[1;33m\u001b[0m\u001b[0m\n",
      "\u001b[1;31mNameError\u001b[0m: name 'plot' is not defined"
     ]
    }
   ],
   "source": [
    "plt.plot(hist.history['accuracy'],'-b', label='training')\n",
    "plt.plot(hist.history['val_accuracy'], 'r:', label='test')\n",
    "plt.legend()\n",
    "plt.show()\n",
    "\n",
    "print(hist.model)\n",
    "print(hist.params)\n",
    "print(hist.history['accuracy'])\n",
    "print(hist.history['val_accuracy'][29])\n",
    "plt.show()\n",
    "plot(custom_hist.train_loss, 'y', label='train loss')\n",
    "plt.show()"
   ]
  },
  {
   "cell_type": "code",
   "execution_count": 48,
   "metadata": {},
   "outputs": [
    {
     "data": {
      "text/plain": [
       "array([[0.00192252, 0.00132561, 0.00445807, 0.01590091, 0.00158313,\n",
       "        0.01023629, 0.0014587 , 0.9756162 , 0.00113331, 0.00532728]],\n",
       "      dtype=float32)"
      ]
     },
     "execution_count": 48,
     "metadata": {},
     "output_type": "execute_result"
    }
   ],
   "source": [
    "# 문제 : X_test 의 이미지 한장의 label 을 예측하라\n",
    "model.predict(X_test[:1,:])"
   ]
  },
  {
   "cell_type": "code",
   "execution_count": 49,
   "metadata": {},
   "outputs": [
    {
     "data": {
      "text/plain": [
       "array([7], dtype=int64)"
      ]
     },
     "execution_count": 49,
     "metadata": {},
     "output_type": "execute_result"
    }
   ],
   "source": [
    "model.predict_classes(X_test[:1,:],verbose=0)"
   ]
  },
  {
   "cell_type": "code",
   "execution_count": null,
   "metadata": {},
   "outputs": [],
   "source": []
  },
  {
   "cell_type": "code",
   "execution_count": null,
   "metadata": {},
   "outputs": [],
   "source": []
  },
  {
   "cell_type": "markdown",
   "metadata": {},
   "source": [
    "# 보스턴 집값"
   ]
  },
  {
   "cell_type": "code",
   "execution_count": 50,
   "metadata": {},
   "outputs": [
    {
     "name": "stdout",
     "output_type": "stream",
     "text": [
      "Downloading data from https://s3.amazonaws.com/keras-datasets/boston_housing.npz\n",
      "57344/57026 [==============================] - 0s 7us/step\n"
     ]
    }
   ],
   "source": [
    "from keras.datasets import boston_housing\n",
    "(x_train, y_train), (x_test, y_test) = boston_housing.load_data()"
   ]
  },
  {
   "cell_type": "code",
   "execution_count": 51,
   "metadata": {},
   "outputs": [
    {
     "name": "stdout",
     "output_type": "stream",
     "text": [
      "(404, 13)\n"
     ]
    }
   ],
   "source": [
    "print(x_train.shape) # e다른것도 확인하기"
   ]
  },
  {
   "cell_type": "code",
   "execution_count": 54,
   "metadata": {},
   "outputs": [],
   "source": [
    "model = Sequential()\n",
    "num_features=13\n",
    "# 회귀만들기 -=> dense만 하나 쓰면된다.\n",
    "model.add(Dense(1, input_dim=num_features, activation='linear'))"
   ]
  },
  {
   "cell_type": "code",
   "execution_count": 55,
   "metadata": {},
   "outputs": [
    {
     "name": "stdout",
     "output_type": "stream",
     "text": [
      "Model: \"sequential_13\"\n",
      "_________________________________________________________________\n",
      "Layer (type)                 Output Shape              Param #   \n",
      "=================================================================\n",
      "dense_24 (Dense)             (None, 1)                 14        \n",
      "=================================================================\n",
      "Total params: 14\n",
      "Trainable params: 14\n",
      "Non-trainable params: 0\n",
      "_________________________________________________________________\n",
      "Epoch 1/10\n",
      "404/404 [==============================] - 0s 872us/step - loss: 6839.8919 - mae: 59.9834\n",
      "Epoch 2/10\n",
      "404/404 [==============================] - 0s 629us/step - loss: 1416.9088 - mae: 30.1622\n",
      "Epoch 3/10\n",
      "404/404 [==============================] - 0s 584us/step - loss: 655.7233 - mae: 21.0631\n",
      "Epoch 4/10\n",
      "404/404 [==============================] - 0s 608us/step - loss: 374.0600 - mae: 15.7307\n",
      "Epoch 5/10\n",
      "404/404 [==============================] - 0s 610us/step - loss: 244.9993 - mae: 12.6810\n",
      "Epoch 6/10\n",
      "404/404 [==============================] - 0s 596us/step - loss: 175.6357 - mae: 10.7579\n",
      "Epoch 7/10\n",
      "404/404 [==============================] - 0s 564us/step - loss: 134.7622 - mae: 9.3555\n",
      "Epoch 8/10\n",
      "404/404 [==============================] - 0s 591us/step - loss: 107.0781 - mae: 8.3155\n",
      "Epoch 9/10\n",
      "404/404 [==============================] - 0s 629us/step - loss: 88.7300 - mae: 7.5821\n",
      "Epoch 10/10\n",
      "404/404 [==============================] - 0s 589us/step - loss: 77.3199 - mae: 7.0207\n"
     ]
    },
    {
     "data": {
      "text/plain": [
       "<keras.callbacks.callbacks.History at 0x244cf4c99c8>"
      ]
     },
     "execution_count": 55,
     "metadata": {},
     "output_type": "execute_result"
    }
   ],
   "source": [
    "model.summary()\n",
    "model.compile(optimizer='rmsprop', loss='mse', metrics=['mae'])\n",
    "model.fit(x_train, y_train, batch_size=1, epochs=10, verbose=1) # 회귀가 간단하게 된다"
   ]
  },
  {
   "cell_type": "code",
   "execution_count": 56,
   "metadata": {},
   "outputs": [
    {
     "data": {
      "text/plain": [
       "(83.4702948775946, 9.136207904683134, 7.047948360443115)"
      ]
     },
     "execution_count": 56,
     "metadata": {},
     "output_type": "execute_result"
    }
   ],
   "source": [
    "# 아까는 accuracy 였는데 지금은 mae ??  (metrics 에 mae 지정했기때문)\n",
    "mse, mae = model.evaluate(x_test, y_test, verbose=False)  \n",
    "rmse = np.sqrt(mse)\n",
    "mse, rmse,mae"
   ]
  },
  {
   "cell_type": "code",
   "execution_count": null,
   "metadata": {},
   "outputs": [],
   "source": [
    "# quiz : x_test 의 앞의 3집을 예측해보시오 "
   ]
  },
  {
   "cell_type": "code",
   "execution_count": 59,
   "metadata": {},
   "outputs": [],
   "source": [
    "pred=model.predict(x_test[:3,:])\n",
    "real = y_test[:3]"
   ]
  },
  {
   "cell_type": "code",
   "execution_count": 1,
   "metadata": {},
   "outputs": [
    {
     "ename": "NameError",
     "evalue": "name 'pred' is not defined",
     "output_type": "error",
     "traceback": [
      "\u001b[1;31m---------------------------------------------------------------------------\u001b[0m",
      "\u001b[1;31mNameError\u001b[0m                                 Traceback (most recent call last)",
      "\u001b[1;32m<ipython-input-1-4c4c6703c7ba>\u001b[0m in \u001b[0;36m<module>\u001b[1;34m\u001b[0m\n\u001b[0;32m      1\u001b[0m \u001b[1;31m# 상관계수를 확인하라\u001b[0m\u001b[1;33m\u001b[0m\u001b[1;33m\u001b[0m\u001b[1;33m\u001b[0m\u001b[0m\n\u001b[0;32m      2\u001b[0m \u001b[1;32mimport\u001b[0m \u001b[0mnumpy\u001b[0m \u001b[1;32mas\u001b[0m \u001b[0mnp\u001b[0m\u001b[1;33m\u001b[0m\u001b[1;33m\u001b[0m\u001b[0m\n\u001b[1;32m----> 3\u001b[1;33m \u001b[0mnp\u001b[0m\u001b[1;33m.\u001b[0m\u001b[0mcorrcoef\u001b[0m\u001b[1;33m(\u001b[0m\u001b[0mpred\u001b[0m\u001b[1;33m,\u001b[0m\u001b[0mreal\u001b[0m\u001b[1;33m)\u001b[0m\u001b[1;33m\u001b[0m\u001b[1;33m\u001b[0m\u001b[0m\n\u001b[0m",
      "\u001b[1;31mNameError\u001b[0m: name 'pred' is not defined"
     ]
    }
   ],
   "source": [
    "# 상관계수를 확인하라\n",
    "import numpy as np\n",
    "np.corrcoef(pred,real)"
   ]
  },
  {
   "cell_type": "markdown",
   "metadata": {},
   "source": [
    "# scikit - keras연결"
   ]
  },
  {
   "cell_type": "code",
   "execution_count": 19,
   "metadata": {},
   "outputs": [
    {
     "name": "stderr",
     "output_type": "stream",
     "text": [
      "C:\\Users\\ICT01_14\\.conda\\envs\\tf_test\\lib\\site-packages\\joblib\\externals\\loky\\process_executor.py:706: UserWarning: A worker stopped while some jobs were given to the executor. This can be caused by a too short worker timeout or by a memory leak.\n",
      "  \"timeout or by a memory leak.\", UserWarning\n"
     ]
    },
    {
     "name": "stdout",
     "output_type": "stream",
     "text": [
      "WARNING:tensorflow:From C:\\Users\\ICT01_14\\.conda\\envs\\tf_test\\lib\\site-packages\\tensorflow\\python\\ops\\nn_impl.py:180: add_dispatch_support.<locals>.wrapper (from tensorflow.python.ops.array_ops) is deprecated and will be removed in a future version.\n",
      "Instructions for updating:\n",
      "Use tf.where in 2.0, which has the same broadcast rule as np.where\n",
      "최적스코어: 0.699287   사용한 파라미터조합 : {'batch_size': 80, 'epochs': 100}\n",
      "0.581920 (0.050976) with: {'batch_size': 10, 'epochs': 10}\n",
      "0.636559 (0.060420) with: {'batch_size': 10, 'epochs': 50}\n",
      "0.673296 (0.040763) with: {'batch_size': 10, 'epochs': 100}\n",
      "0.548060 (0.064960) with: {'batch_size': 20, 'epochs': 10}\n",
      "0.652305 (0.042829) with: {'batch_size': 20, 'epochs': 50}\n",
      "0.687420 (0.043677) with: {'batch_size': 20, 'epochs': 100}\n",
      "0.541677 (0.062563) with: {'batch_size': 40, 'epochs': 10}\n",
      "0.642034 (0.065057) with: {'batch_size': 40, 'epochs': 50}\n",
      "0.683609 (0.028903) with: {'batch_size': 40, 'epochs': 100}\n",
      "0.600441 (0.065770) with: {'batch_size': 60, 'epochs': 10}\n",
      "0.658883 (0.037270) with: {'batch_size': 60, 'epochs': 50}\n",
      "0.664086 (0.054407) with: {'batch_size': 60, 'epochs': 100}\n",
      "0.529921 (0.078627) with: {'batch_size': 80, 'epochs': 10}\n",
      "0.675834 (0.039274) with: {'batch_size': 80, 'epochs': 50}\n",
      "0.699287 (0.022922) with: {'batch_size': 80, 'epochs': 100}\n",
      "0.493515 (0.086462) with: {'batch_size': 100, 'epochs': 10}\n",
      "0.644444 (0.036855) with: {'batch_size': 100, 'epochs': 50}\n",
      "0.665393 (0.031465) with: {'batch_size': 100, 'epochs': 100}\n"
     ]
    }
   ],
   "source": [
    "#768x 9 => 768,8 독립변수 , 768,1 종속변수\n",
    "import numpy\n",
    "from sklearn.model_selection import GridSearchCV\n",
    "from keras.models import Sequential\n",
    "from keras.layers import Dense\n",
    "from keras.wrappers.scikit_learn import KerasClassifier\n",
    "\n",
    "def create_model():\n",
    "    model = Sequential()\n",
    "    # 가중치 8x12 => 768x12\n",
    "    model.add(Dense(12, input_dim=8, activation='relu'))\n",
    "    # 768x12 => 768x1\n",
    "    model.add(Dense(1, activation='sigmoid'))# 시그모이드 0~1\n",
    "    model.compile(loss='binary_crossentropy', optimizer='adam',\n",
    "                 metrics=['accuracy'])\n",
    "    return model\n",
    "\n",
    "seed = 7\n",
    "numpy.random.seed(seed)\n",
    "dataset = numpy.loadtxt(\"pima.data\", delimiter=\",\") #원랜 csv인데 없당\n",
    "X = dataset[:, 0:8]  #\n",
    "Y = dataset[:, 8]\n",
    "model = KerasClassifier(build_fn=create_model, verbose=0)\n",
    "\n",
    "\n",
    "#파라미터 조합\n",
    "batch_size = [10, 20, 40, 60, 80, 100]\n",
    "epochs = [10, 50, 100]\n",
    "#매개변수 입력형태 dictionary가 대세임\n",
    "param_grid = dict(batch_size=batch_size, epochs=epochs)\n",
    "grid = GridSearchCV(estimator=model, param_grid=param_grid,\n",
    "                   n_jobs=-1)\n",
    "grid_result = grid.fit(X, Y)\n",
    "print(\"최적스코어: %f   사용한 파라미터조합 : %s\" % (grid_result.best_score_,\n",
    "                                      grid_result.best_params_))\n",
    "means = grid_result.cv_results_['mean_test_score']\n",
    "stds = grid_result.cv_results_['std_test_score']\n",
    "params = grid_result.cv_results_['params']\n",
    "for mean, stdev, param in zip(means, stds, params):\n",
    "    print(\"%f (%f) with: %r\" % (mean, stdev, param))\n"
   ]
  },
  {
   "cell_type": "markdown",
   "metadata": {},
   "source": [
    "## 문제 \n",
    "- 가중치 초기화 변수를 넣으시오 \n",
    "    - 가중치 초기화 옵셥 \n",
    "        - uniform , lecun_uniform , formal , zero, glorot_normal, \n",
    "            glorot_uniform   he_normal   he_uniform\n",
    "            \n",
    "- dense 1에는 activation 함수 달기 , \n",
    "    - activation 함수\n",
    "        - softmax , softplus, softsign , relu , tanh \n",
    "          sigmoid , hard_sigmoid , linear\n",
    "          \n",
    "          \n",
    " - 가장 좋은 조합을 골라라 \n",
    " \n",
    " \n",
    " \n",
    " - batch size, epoch 대신 먽저 옵션을 담아두고 param grid에  dict로 넣는다\n",
    "- 그담에 위에 변수를 넣어주고 함수 생성하는거에 넣어줌 def create_model(init_mode,activation):"
   ]
  },
  {
   "cell_type": "code",
   "execution_count": 32,
   "metadata": {
    "scrolled": true
   },
   "outputs": [
    {
     "name": "stdout",
     "output_type": "stream",
     "text": [
      "{'init_mode': ['uniform ', 'lecun_uniform', 'normal', 'zero', ' glorot_normal', 'glorot_uniform', 'he_normal', 'he_uniform'], 'activation': ['softmax', 'softplus', 'softsign', 'relu', 'tanhsigmoid', 'hard_sigmoid', 'linear']}\n",
      "최적스코어: 0.675825   사용한 파라미터조합 : {'activation': 'linear', 'init_mode': 'zero'}\n",
      "nan (nan) with: {'activation': 'softmax', 'init_mode': 'uniform '}\n",
      "0.528724 (0.088507) with: {'activation': 'softmax', 'init_mode': 'lecun_uniform'}\n",
      "0.653782 (0.048759) with: {'activation': 'softmax', 'init_mode': 'normal'}\n",
      "0.651159 (0.052445) with: {'activation': 'softmax', 'init_mode': 'zero'}\n",
      "nan (nan) with: {'activation': 'softmax', 'init_mode': ' glorot_normal'}\n",
      "0.560971 (0.146053) with: {'activation': 'softmax', 'init_mode': 'glorot_uniform'}\n",
      "0.459392 (0.113672) with: {'activation': 'softmax', 'init_mode': 'he_normal'}\n",
      "0.457058 (0.097869) with: {'activation': 'softmax', 'init_mode': 'he_uniform'}\n",
      "nan (nan) with: {'activation': 'softplus', 'init_mode': 'uniform '}\n",
      "0.498990 (0.134184) with: {'activation': 'softplus', 'init_mode': 'lecun_uniform'}\n",
      "0.593778 (0.070269) with: {'activation': 'softplus', 'init_mode': 'normal'}\n",
      "0.647237 (0.045555) with: {'activation': 'softplus', 'init_mode': 'zero'}\n",
      "nan (nan) with: {'activation': 'softplus', 'init_mode': ' glorot_normal'}\n",
      "0.505305 (0.111771) with: {'activation': 'softplus', 'init_mode': 'glorot_uniform'}\n",
      "0.441406 (0.147727) with: {'activation': 'softplus', 'init_mode': 'he_normal'}\n",
      "0.485714 (0.097158) with: {'activation': 'softplus', 'init_mode': 'he_uniform'}\n",
      "nan (nan) with: {'activation': 'softsign', 'init_mode': 'uniform '}\n",
      "0.490875 (0.099503) with: {'activation': 'softsign', 'init_mode': 'lecun_uniform'}\n",
      "0.636771 (0.044874) with: {'activation': 'softsign', 'init_mode': 'normal'}\n",
      "0.640667 (0.062824) with: {'activation': 'softsign', 'init_mode': 'zero'}\n",
      "nan (nan) with: {'activation': 'softsign', 'init_mode': ' glorot_normal'}\n",
      "0.520890 (0.118130) with: {'activation': 'softsign', 'init_mode': 'glorot_uniform'}\n",
      "0.588566 (0.097772) with: {'activation': 'softsign', 'init_mode': 'he_normal'}\n",
      "0.584806 (0.060836) with: {'activation': 'softsign', 'init_mode': 'he_uniform'}\n",
      "nan (nan) with: {'activation': 'relu', 'init_mode': 'uniform '}\n",
      "0.494933 (0.154090) with: {'activation': 'relu', 'init_mode': 'lecun_uniform'}\n",
      "0.539139 (0.040525) with: {'activation': 'relu', 'init_mode': 'normal'}\n",
      "0.651159 (0.052445) with: {'activation': 'relu', 'init_mode': 'zero'}\n",
      "nan (nan) with: {'activation': 'relu', 'init_mode': ' glorot_normal'}\n",
      "0.578185 (0.112081) with: {'activation': 'relu', 'init_mode': 'glorot_uniform'}\n",
      "0.465979 (0.066835) with: {'activation': 'relu', 'init_mode': 'he_normal'}\n",
      "0.481564 (0.113902) with: {'activation': 'relu', 'init_mode': 'he_uniform'}\n",
      "nan (nan) with: {'activation': 'tanhsigmoid', 'init_mode': 'uniform '}\n",
      "nan (nan) with: {'activation': 'tanhsigmoid', 'init_mode': 'lecun_uniform'}\n",
      "nan (nan) with: {'activation': 'tanhsigmoid', 'init_mode': 'normal'}\n",
      "nan (nan) with: {'activation': 'tanhsigmoid', 'init_mode': 'zero'}\n",
      "nan (nan) with: {'activation': 'tanhsigmoid', 'init_mode': ' glorot_normal'}\n",
      "nan (nan) with: {'activation': 'tanhsigmoid', 'init_mode': 'glorot_uniform'}\n",
      "nan (nan) with: {'activation': 'tanhsigmoid', 'init_mode': 'he_normal'}\n",
      "nan (nan) with: {'activation': 'tanhsigmoid', 'init_mode': 'he_uniform'}\n",
      "nan (nan) with: {'activation': 'hard_sigmoid', 'init_mode': 'uniform '}\n",
      "0.488278 (0.122048) with: {'activation': 'hard_sigmoid', 'init_mode': 'lecun_uniform'}\n",
      "0.576810 (0.110942) with: {'activation': 'hard_sigmoid', 'init_mode': 'normal'}\n",
      "0.656336 (0.046955) with: {'activation': 'hard_sigmoid', 'init_mode': 'zero'}\n",
      "nan (nan) with: {'activation': 'hard_sigmoid', 'init_mode': ' glorot_normal'}\n",
      "0.532943 (0.141388) with: {'activation': 'hard_sigmoid', 'init_mode': 'glorot_uniform'}\n",
      "0.515483 (0.094632) with: {'activation': 'hard_sigmoid', 'init_mode': 'he_normal'}\n",
      "0.500373 (0.137057) with: {'activation': 'hard_sigmoid', 'init_mode': 'he_uniform'}\n",
      "nan (nan) with: {'activation': 'linear', 'init_mode': 'uniform '}\n",
      "0.595077 (0.076850) with: {'activation': 'linear', 'init_mode': 'lecun_uniform'}\n",
      "0.511705 (0.111632) with: {'activation': 'linear', 'init_mode': 'normal'}\n",
      "0.675825 (0.033164) with: {'activation': 'linear', 'init_mode': 'zero'}\n",
      "nan (nan) with: {'activation': 'linear', 'init_mode': ' glorot_normal'}\n",
      "0.584798 (0.118872) with: {'activation': 'linear', 'init_mode': 'glorot_uniform'}\n",
      "0.537722 (0.102653) with: {'activation': 'linear', 'init_mode': 'he_normal'}\n",
      "0.507665 (0.148462) with: {'activation': 'linear', 'init_mode': 'he_uniform'}\n"
     ]
    }
   ],
   "source": [
    "\n",
    "\n",
    "\n",
    "#768x 9 => 768,8 독립변수 , 768,1 종속변수\n",
    "import numpy\n",
    "from sklearn.model_selection import GridSearchCV\n",
    "from keras.models import Sequential\n",
    "from keras.layers import Densea\n",
    "from keras.wrappers.scikit_learn import KerasClassifier\n",
    "\n",
    "def create_model(init_mode,activation):\n",
    "    model = Sequential()\n",
    "    # 가중치 8x12 => 768x12\n",
    "    model.add(Dense(12, input_dim=8,kernel_initializer = init_mode,activation=activation))\n",
    "     # 768x12 => 768x1\n",
    "    model.add(Dense(1,activation='sigmoid'))# 시그모이드 0~1\n",
    "    model.compile(loss='binary_crossentropy', optimizer='adam',\n",
    "                 metrics=['accuracy'])\n",
    "    return model\n",
    "\n",
    "seed = 7\n",
    "numpy.random.seed(seed)\n",
    "dataset = numpy.loadtxt(\"pima.data\", delimiter=\",\") #원랜 csv인데 없당\n",
    "X = dataset[:, 0:8]  #\n",
    "Y = dataset[:, 8]\n",
    "model = KerasClassifier(build_fn=create_model, verbose=0)\n",
    "\n",
    "\n",
    "#파라미터 조합\n",
    "batch_size = [10, 20, 40, 60, 80, 100]\n",
    "epochs = [10, 50, 100]\n",
    "#매개변수 입력형태 dictionary가 대세임\n",
    "#param_grid = dict(batch_size=batch_size, epochs=epochs)\n",
    "#kernel = dict(kernel_initializer = ini)\n",
    "#activation = dict(activation = act)\n",
    "\n",
    "init_mode = ['uniform ' ,'lecun_uniform', \n",
    "      'normal', 'zero',' glorot_normal', 'glorot_uniform', \n",
    "     'he_normal', 'he_uniform']\n",
    "\n",
    "activation = ['softmax' , 'softplus', 'softsign' , 'relu' , 'tanh' \n",
    "          'sigmoid' , 'hard_sigmoid', 'linear']\n",
    "\n",
    "param_grid = dict(init_mode =init_mode , activation=activation)\n",
    "\n",
    "#print(param_grid)\n",
    "grid = GridSearchCV(estimator=model, param_grid=param_grid,\n",
    "                   n_jobs=-1)\n",
    "\n",
    "\n",
    "grid_result = grid.fit(X, Y)\n",
    "print(\"최적스코어: %f   사용한 파라미터조합 : %s\" % (grid_result.best_score_,\n",
    "                                      grid_result.best_params_))\n",
    "means = grid_result.cv_results_['mean_test_score']\n",
    "stds = grid_result.cv_results_['std_test_score']\n",
    "params = grid_result.cv_results_['params']\n",
    "for mean, stdev, param in zip(means, stds, params):\n",
    "    print(\"%f (%f) with: %r\" % (mean, stdev, param))\n"
   ]
  },
  {
   "cell_type": "markdown",
   "metadata": {},
   "source": [
    "# drop out / early stopping"
   ]
  },
  {
   "cell_type": "code",
   "execution_count": 34,
   "metadata": {},
   "outputs": [
    {
     "name": "stdout",
     "output_type": "stream",
     "text": [
      "Epoch 1/100\n",
      "768/768 [==============================] - 0s 425us/step - loss: 5.3827 - accuracy: 0.6510\n",
      "Epoch 2/100\n",
      "768/768 [==============================] - 0s 14us/step - loss: 5.3827 - accuracy: 0.6510\n",
      "Epoch 3/100\n",
      "768/768 [==============================] - 0s 16us/step - loss: 5.3827 - accuracy: 0.6510\n",
      "Epoch 4/100\n",
      "768/768 [==============================] - 0s 21us/step - loss: 5.3827 - accuracy: 0.6510\n",
      "Epoch 5/100\n",
      "768/768 [==============================] - 0s 14us/step - loss: 5.3827 - accuracy: 0.6510\n",
      "Epoch 6/100\n",
      "768/768 [==============================] - 0s 16us/step - loss: 5.3827 - accuracy: 0.6510\n",
      "Epoch 7/100\n",
      "768/768 [==============================] - 0s 14us/step - loss: 5.3827 - accuracy: 0.6510\n",
      "Epoch 8/100\n",
      "768/768 [==============================] - 0s 16us/step - loss: 5.3827 - accuracy: 0.6510\n",
      "Epoch 9/100\n",
      "768/768 [==============================] - 0s 14us/step - loss: 5.3827 - accuracy: 0.6510\n",
      "Epoch 10/100\n",
      "768/768 [==============================] - 0s 19us/step - loss: 5.3827 - accuracy: 0.6510\n",
      "Epoch 11/100\n",
      "768/768 [==============================] - 0s 16us/step - loss: 5.3827 - accuracy: 0.6510\n",
      "Epoch 12/100\n",
      "768/768 [==============================] - 0s 18us/step - loss: 5.3827 - accuracy: 0.6510\n",
      "Epoch 13/100\n",
      "768/768 [==============================] - 0s 13us/step - loss: 5.3827 - accuracy: 0.6510\n"
     ]
    },
    {
     "name": "stderr",
     "output_type": "stream",
     "text": [
      "C:\\Users\\ICT01_14\\.conda\\envs\\tf_test\\lib\\site-packages\\keras\\callbacks\\callbacks.py:846: RuntimeWarning: Early stopping conditioned on metric `var_accuracy` which is not available. Available metrics are: loss,accuracy\n",
      "  (self.monitor, ','.join(list(logs.keys()))), RuntimeWarning\n"
     ]
    },
    {
     "name": "stdout",
     "output_type": "stream",
     "text": [
      "Epoch 14/100\n",
      "768/768 [==============================] - 0s 21us/step - loss: 5.3827 - accuracy: 0.6510\n",
      "Epoch 15/100\n",
      "768/768 [==============================] - 0s 17us/step - loss: 5.3827 - accuracy: 0.6510\n",
      "Epoch 16/100\n",
      "768/768 [==============================] - 0s 14us/step - loss: 5.3827 - accuracy: 0.6510\n",
      "Epoch 17/100\n",
      "768/768 [==============================] - 0s 16us/step - loss: 5.3827 - accuracy: 0.6510\n",
      "Epoch 18/100\n",
      "768/768 [==============================] - 0s 16us/step - loss: 5.3827 - accuracy: 0.6510\n",
      "Epoch 19/100\n",
      "768/768 [==============================] - 0s 14us/step - loss: 5.3827 - accuracy: 0.6510\n",
      "Epoch 20/100\n",
      "768/768 [==============================] - 0s 17us/step - loss: 5.3827 - accuracy: 0.6510\n",
      "Epoch 21/100\n",
      "768/768 [==============================] - 0s 16us/step - loss: 5.3827 - accuracy: 0.6510\n",
      "Epoch 22/100\n",
      "768/768 [==============================] - 0s 13us/step - loss: 5.3827 - accuracy: 0.6510\n",
      "Epoch 23/100\n",
      "768/768 [==============================] - 0s 13us/step - loss: 5.3827 - accuracy: 0.6510\n",
      "Epoch 24/100\n",
      "768/768 [==============================] - 0s 14us/step - loss: 5.3827 - accuracy: 0.6510\n",
      "Epoch 25/100\n",
      "768/768 [==============================] - 0s 13us/step - loss: 5.3827 - accuracy: 0.6510\n",
      "Epoch 26/100\n",
      "768/768 [==============================] - 0s 14us/step - loss: 5.3827 - accuracy: 0.6510\n",
      "Epoch 27/100\n",
      "768/768 [==============================] - 0s 14us/step - loss: 5.3827 - accuracy: 0.6510\n",
      "Epoch 28/100\n",
      "768/768 [==============================] - 0s 13us/step - loss: 5.3827 - accuracy: 0.6510\n",
      "Epoch 29/100\n",
      "768/768 [==============================] - 0s 14us/step - loss: 5.3827 - accuracy: 0.6510\n",
      "Epoch 30/100\n",
      "768/768 [==============================] - 0s 17us/step - loss: 5.3827 - accuracy: 0.6510\n",
      "Epoch 31/100\n",
      "768/768 [==============================] - 0s 14us/step - loss: 5.3827 - accuracy: 0.6510\n",
      "Epoch 32/100\n",
      "768/768 [==============================] - 0s 14us/step - loss: 5.3827 - accuracy: 0.6510\n",
      "Epoch 33/100\n",
      "768/768 [==============================] - 0s 14us/step - loss: 5.3827 - accuracy: 0.6510\n",
      "Epoch 34/100\n",
      "768/768 [==============================] - 0s 14us/step - loss: 5.3827 - accuracy: 0.6510\n",
      "Epoch 35/100\n",
      "768/768 [==============================] - 0s 14us/step - loss: 5.3827 - accuracy: 0.6510\n",
      "Epoch 36/100\n",
      "768/768 [==============================] - 0s 14us/step - loss: 5.3827 - accuracy: 0.6510\n",
      "Epoch 37/100\n",
      "768/768 [==============================] - 0s 12us/step - loss: 5.3827 - accuracy: 0.6510\n",
      "Epoch 38/100\n",
      "768/768 [==============================] - 0s 14us/step - loss: 5.3827 - accuracy: 0.6510\n",
      "Epoch 39/100\n",
      "768/768 [==============================] - 0s 16us/step - loss: 5.3827 - accuracy: 0.6510\n",
      "Epoch 40/100\n",
      "768/768 [==============================] - 0s 17us/step - loss: 5.3827 - accuracy: 0.6510\n",
      "Epoch 41/100\n",
      "768/768 [==============================] - 0s 14us/step - loss: 5.3827 - accuracy: 0.6510\n",
      "Epoch 42/100\n",
      "768/768 [==============================] - 0s 14us/step - loss: 5.3827 - accuracy: 0.6510\n",
      "Epoch 43/100\n",
      "768/768 [==============================] - 0s 16us/step - loss: 5.3827 - accuracy: 0.6510\n",
      "Epoch 44/100\n",
      "768/768 [==============================] - 0s 14us/step - loss: 5.3827 - accuracy: 0.6510\n",
      "Epoch 45/100\n",
      "768/768 [==============================] - 0s 17us/step - loss: 5.3827 - accuracy: 0.6510\n",
      "Epoch 46/100\n",
      "768/768 [==============================] - 0s 16us/step - loss: 5.3827 - accuracy: 0.6510\n",
      "Epoch 47/100\n",
      "768/768 [==============================] - 0s 13us/step - loss: 5.3827 - accuracy: 0.6510\n",
      "Epoch 48/100\n",
      "768/768 [==============================] - 0s 16us/step - loss: 5.3827 - accuracy: 0.6510\n",
      "Epoch 49/100\n",
      "768/768 [==============================] - 0s 18us/step - loss: 5.3827 - accuracy: 0.6510\n",
      "Epoch 50/100\n",
      "768/768 [==============================] - 0s 16us/step - loss: 5.3827 - accuracy: 0.6510\n",
      "Epoch 51/100\n",
      "768/768 [==============================] - 0s 16us/step - loss: 5.3827 - accuracy: 0.6510\n",
      "Epoch 52/100\n",
      "768/768 [==============================] - 0s 14us/step - loss: 5.3827 - accuracy: 0.6510\n",
      "Epoch 53/100\n",
      "768/768 [==============================] - 0s 12us/step - loss: 5.3827 - accuracy: 0.6510\n",
      "Epoch 54/100\n",
      "768/768 [==============================] - 0s 16us/step - loss: 5.3827 - accuracy: 0.6510\n",
      "Epoch 55/100\n",
      "768/768 [==============================] - 0s 14us/step - loss: 5.3827 - accuracy: 0.6510\n",
      "Epoch 56/100\n",
      "768/768 [==============================] - 0s 16us/step - loss: 5.3827 - accuracy: 0.6510\n",
      "Epoch 57/100\n",
      "768/768 [==============================] - 0s 14us/step - loss: 5.3827 - accuracy: 0.6510\n",
      "Epoch 58/100\n",
      "768/768 [==============================] - 0s 13us/step - loss: 5.3827 - accuracy: 0.6510\n",
      "Epoch 59/100\n",
      "768/768 [==============================] - 0s 14us/step - loss: 5.3827 - accuracy: 0.6510\n",
      "Epoch 60/100\n",
      "768/768 [==============================] - 0s 22us/step - loss: 5.3827 - accuracy: 0.6510\n",
      "Epoch 61/100\n",
      "768/768 [==============================] - 0s 16us/step - loss: 5.3827 - accuracy: 0.6510\n",
      "Epoch 62/100\n",
      "768/768 [==============================] - 0s 13us/step - loss: 5.3827 - accuracy: 0.6510\n",
      "Epoch 63/100\n",
      "768/768 [==============================] - 0s 13us/step - loss: 5.3827 - accuracy: 0.6510\n",
      "Epoch 64/100\n",
      "768/768 [==============================] - 0s 16us/step - loss: 5.3827 - accuracy: 0.6510\n",
      "Epoch 65/100\n",
      "768/768 [==============================] - 0s 16us/step - loss: 5.3827 - accuracy: 0.6510\n",
      "Epoch 66/100\n",
      "768/768 [==============================] - 0s 21us/step - loss: 5.3827 - accuracy: 0.6510\n",
      "Epoch 67/100\n",
      "768/768 [==============================] - 0s 14us/step - loss: 5.3827 - accuracy: 0.6510\n",
      "Epoch 68/100\n",
      "768/768 [==============================] - 0s 14us/step - loss: 5.3827 - accuracy: 0.6510\n",
      "Epoch 69/100\n",
      "768/768 [==============================] - 0s 13us/step - loss: 5.3827 - accuracy: 0.6510\n",
      "Epoch 70/100\n",
      "768/768 [==============================] - 0s 13us/step - loss: 5.3827 - accuracy: 0.6510\n",
      "Epoch 71/100\n",
      "768/768 [==============================] - 0s 19us/step - loss: 5.3827 - accuracy: 0.6510\n",
      "Epoch 72/100\n",
      "768/768 [==============================] - 0s 14us/step - loss: 5.3827 - accuracy: 0.6510\n",
      "Epoch 73/100\n",
      "768/768 [==============================] - 0s 13us/step - loss: 5.3827 - accuracy: 0.6510\n",
      "Epoch 74/100\n",
      "768/768 [==============================] - 0s 14us/step - loss: 5.3827 - accuracy: 0.6510\n",
      "Epoch 75/100\n",
      "768/768 [==============================] - 0s 16us/step - loss: 5.3827 - accuracy: 0.6510\n",
      "Epoch 76/100\n",
      "768/768 [==============================] - 0s 14us/step - loss: 5.3827 - accuracy: 0.6510\n",
      "Epoch 77/100\n",
      "768/768 [==============================] - 0s 14us/step - loss: 5.3827 - accuracy: 0.6510\n",
      "Epoch 78/100\n",
      "768/768 [==============================] - 0s 19us/step - loss: 5.3827 - accuracy: 0.6510\n",
      "Epoch 79/100\n",
      "768/768 [==============================] - 0s 13us/step - loss: 5.3827 - accuracy: 0.6510\n",
      "Epoch 80/100\n",
      "768/768 [==============================] - 0s 14us/step - loss: 5.3827 - accuracy: 0.6510\n",
      "Epoch 81/100\n",
      "768/768 [==============================] - 0s 14us/step - loss: 5.3827 - accuracy: 0.6510\n",
      "Epoch 82/100\n",
      "768/768 [==============================] - 0s 17us/step - loss: 5.3827 - accuracy: 0.6510\n",
      "Epoch 83/100\n",
      "768/768 [==============================] - 0s 13us/step - loss: 5.3827 - accuracy: 0.6510\n",
      "Epoch 84/100\n",
      "768/768 [==============================] - 0s 22us/step - loss: 5.3827 - accuracy: 0.6510\n",
      "Epoch 85/100\n",
      "768/768 [==============================] - 0s 14us/step - loss: 5.3827 - accuracy: 0.6510\n",
      "Epoch 86/100\n",
      "768/768 [==============================] - 0s 13us/step - loss: 5.3827 - accuracy: 0.6510\n",
      "Epoch 87/100\n",
      "768/768 [==============================] - 0s 14us/step - loss: 5.3827 - accuracy: 0.6510\n",
      "Epoch 88/100\n",
      "768/768 [==============================] - 0s 14us/step - loss: 5.3827 - accuracy: 0.6510\n",
      "Epoch 89/100\n",
      "768/768 [==============================] - 0s 14us/step - loss: 5.3827 - accuracy: 0.6510\n",
      "Epoch 90/100\n",
      "768/768 [==============================] - 0s 13us/step - loss: 5.3827 - accuracy: 0.6510\n",
      "Epoch 91/100\n",
      "768/768 [==============================] - 0s 13us/step - loss: 5.3827 - accuracy: 0.6510\n",
      "Epoch 92/100\n",
      "768/768 [==============================] - 0s 14us/step - loss: 5.3827 - accuracy: 0.6510\n",
      "Epoch 93/100\n"
     ]
    },
    {
     "name": "stdout",
     "output_type": "stream",
     "text": [
      "768/768 [==============================] - 0s 13us/step - loss: 5.3827 - accuracy: 0.6510\n",
      "Epoch 94/100\n",
      "768/768 [==============================] - 0s 13us/step - loss: 5.3827 - accuracy: 0.6510\n",
      "Epoch 95/100\n",
      "768/768 [==============================] - 0s 13us/step - loss: 5.3827 - accuracy: 0.6510\n",
      "Epoch 96/100\n",
      "768/768 [==============================] - 0s 13us/step - loss: 5.3827 - accuracy: 0.6510\n",
      "Epoch 97/100\n",
      "768/768 [==============================] - 0s 13us/step - loss: 5.3827 - accuracy: 0.6510\n",
      "Epoch 98/100\n",
      "768/768 [==============================] - 0s 13us/step - loss: 5.3827 - accuracy: 0.6510\n",
      "Epoch 99/100\n",
      "768/768 [==============================] - 0s 14us/step - loss: 5.3827 - accuracy: 0.6510\n",
      "Epoch 100/100\n",
      "768/768 [==============================] - 0s 14us/step - loss: 5.3827 - accuracy: 0.6510\n",
      "Best: 0.651042 using {'dropout_rate': 0.1, 'init_mode': 'zero', 'optimizer': 'linear'}\n",
      "0.651042 (0.024774) with: {'dropout_rate': 0.1, 'init_mode': 'zero', 'optimizer': 'linear'}\n",
      "0.651042 (0.024774) with: {'dropout_rate': 0.2, 'init_mode': 'zero', 'optimizer': 'linear'}\n",
      "0.651042 (0.024774) with: {'dropout_rate': 0.3, 'init_mode': 'zero', 'optimizer': 'linear'}\n"
     ]
    }
   ],
   "source": [
    "# Use scikit-learn to grid search the weight initialization\n",
    "import numpy\n",
    "from sklearn.model_selection import GridSearchCV\n",
    "from keras.models import Sequential\n",
    "from keras.layers import Dense, Dropout\n",
    "from keras.wrappers.scikit_learn import KerasClassifier\n",
    "from keras.callbacks import EarlyStopping\n",
    "stopper = EarlyStopping(monitor='var_accuracy', patience=3, verbose=1)\n",
    "# Function to create model, required for KerasClassifier\n",
    "def create_model(init_mode='uniform',optimizer='relu',dropout_rate=0.1):\n",
    "# create model\n",
    "    model = Sequential()\n",
    "    model.add(Dense(12, input_dim=8, kernel_initializer=init_mode, activation=optimizer))\n",
    "    model.add(Dropout(dropout_rate))\n",
    "    model.add(Dense(1))\n",
    "    # Compile model\n",
    "    model.compile(loss='binary_crossentropy', optimizer='adam', metrics=['accuracy'])\n",
    "    return model\n",
    "# fix random seed for reproducibility\n",
    "seed = 7\n",
    "numpy.random.seed(seed)\n",
    "# load dataset\n",
    "dataset = numpy.loadtxt(\"pima.csv\", delimiter=\",\")\n",
    "# split into input (X) and output (Y) variables\n",
    "X = dataset[:,0:8]\n",
    "Y = dataset[:,8]\n",
    "# create model\n",
    "# Earlystopping\n",
    "model = KerasClassifier(build_fn=create_model, epochs=100, batch_size=80, verbose=1)\n",
    "# define the grid search parameters\n",
    "dropout_rate=[0.1,0.2,0.3] # ,0.4,0.5,0.6,0.7,0.8,0.9\n",
    "init_mode = ['zero']# ,'normal','zero','glorot_normal','glorot_uniform','he_normal','he_uniform'\n",
    "optimizer = ['linear'] #, 'softplus', 'softsign','tanh','sigmoid','hard_sigmoid','linear'\n",
    "param_grid = dict(init_mode=init_mode,optimizer=optimizer,dropout_rate=dropout_rate)\n",
    "fit_params = dict(callbacks=[stopper])\n",
    "grid = GridSearchCV(estimator=model, param_grid=param_grid, n_jobs=-1, cv=3)\n",
    "# 변동 매개변수\n",
    "grid_result = grid.fit(X, Y, **fit_params)\n",
    "# summarize results\n",
    "print(\"Best: %f using %s\" % (grid_result.best_score_, grid_result.best_params_))\n",
    "means = grid_result.cv_results_['mean_test_score']\n",
    "stds = grid_result.cv_results_['std_test_score']\n",
    "params = grid_result.cv_results_['params']\n",
    "for mean, stdev, param in zip(means, stds, params):\n",
    "    print(\"%f (%f) with: %r\" % (mean, stdev, param))"
   ]
  },
  {
   "cell_type": "markdown",
   "metadata": {},
   "source": [
    "activation': 'linear', 'init_mode': 'zero'}\n",
    "nan (nan) with: {'activation': 'softmax', 'init_mode': 'uniform '}"
   ]
  },
  {
   "cell_type": "markdown",
   "metadata": {},
   "source": [
    "# housing  / kfold ,pipeline\n",
    "\n",
    "- kfold : k겹 교차검증"
   ]
  },
  {
   "cell_type": "code",
   "execution_count": 38,
   "metadata": {},
   "outputs": [],
   "source": [
    "from keras.wrappers.scikit_learn import KerasRegressor\n",
    "from sklearn.model_selection import cross_val_score\n",
    "from sklearn.model_selection import KFold\n",
    "from sklearn.preprocessing import StandardScaler\n",
    "from sklearn.pipeline import Pipeline\n"
   ]
  },
  {
   "cell_type": "code",
   "execution_count": 37,
   "metadata": {},
   "outputs": [],
   "source": [
    "import pandas\n",
    "dataframe = pandas.read_csv('housing.csv',delim_whitespace =True,header = None)\n",
    "\n",
    "dataset = dataframe.values\n",
    "X = dataset[:,0:13]\n",
    "Y = dataset[:,13]  #RESHAPE"
   ]
  },
  {
   "cell_type": "code",
   "execution_count": 40,
   "metadata": {},
   "outputs": [
    {
     "name": "stdout",
     "output_type": "stream",
     "text": [
      "          0     1      2   3      4      5     6       7   8      9     10  \\\n",
      "0    0.00632  18.0   2.31   0  0.538  6.575  65.2  4.0900   1  296.0  15.3   \n",
      "1    0.02731   0.0   7.07   0  0.469  6.421  78.9  4.9671   2  242.0  17.8   \n",
      "2    0.02729   0.0   7.07   0  0.469  7.185  61.1  4.9671   2  242.0  17.8   \n",
      "3    0.03237   0.0   2.18   0  0.458  6.998  45.8  6.0622   3  222.0  18.7   \n",
      "4    0.06905   0.0   2.18   0  0.458  7.147  54.2  6.0622   3  222.0  18.7   \n",
      "..       ...   ...    ...  ..    ...    ...   ...     ...  ..    ...   ...   \n",
      "501  0.06263   0.0  11.93   0  0.573  6.593  69.1  2.4786   1  273.0  21.0   \n",
      "502  0.04527   0.0  11.93   0  0.573  6.120  76.7  2.2875   1  273.0  21.0   \n",
      "503  0.06076   0.0  11.93   0  0.573  6.976  91.0  2.1675   1  273.0  21.0   \n",
      "504  0.10959   0.0  11.93   0  0.573  6.794  89.3  2.3889   1  273.0  21.0   \n",
      "505  0.04741   0.0  11.93   0  0.573  6.030  80.8  2.5050   1  273.0  21.0   \n",
      "\n",
      "         11    12    13  \n",
      "0    396.90  4.98  24.0  \n",
      "1    396.90  9.14  21.6  \n",
      "2    392.83  4.03  34.7  \n",
      "3    394.63  2.94  33.4  \n",
      "4    396.90  5.33  36.2  \n",
      "..      ...   ...   ...  \n",
      "501  391.99  9.67  22.4  \n",
      "502  396.90  9.08  20.6  \n",
      "503  396.90  5.64  23.9  \n",
      "504  393.45  6.48  22.0  \n",
      "505  396.90  7.88  11.9  \n",
      "\n",
      "[506 rows x 14 columns]\n"
     ]
    }
   ],
   "source": [
    "print(dataframe)"
   ]
  },
  {
   "cell_type": "code",
   "execution_count": 39,
   "metadata": {},
   "outputs": [],
   "source": [
    "def baseline_model():  #모델은 컴파일하는 부분까지만 정의??\n",
    "    model = Sequential()\n",
    "    #506x13 13x13  = 506 x 13                  #glorot_uniform  , normal 자주씀 \n",
    "    model.add(Dense(13,input_dim =13,kernel_initializer = 'normal',activation = 'relu'))\n",
    "    model.add(Dense(1,kernel_initializer ='normal'))\n",
    "    model.compile(loss = 'mean_squared_error',optimizer ='adam')\n",
    "    return model\n",
    "    "
   ]
  },
  {
   "cell_type": "code",
   "execution_count": 41,
   "metadata": {},
   "outputs": [],
   "source": [
    "seed = 7\n",
    "numpy.random.seed(seed)             #위에서 만든 함수 전달  #epcoh 와 batch는  fitting할 떄 설정해줌\n",
    "estimator = KerasRegressor(build_fn = baseline_model, nb_epoch = 100, batch_size =5   , verbose =0)"
   ]
  },
  {
   "cell_type": "code",
   "execution_count": 43,
   "metadata": {},
   "outputs": [
    {
     "name": "stderr",
     "output_type": "stream",
     "text": [
      "C:\\Users\\ICT01_14\\.conda\\envs\\tf_test\\lib\\site-packages\\sklearn\\model_selection\\_split.py:296: FutureWarning: Setting a random_state has no effect since shuffle is False. This will raise an error in 0.24. You should leave random_state to its default (None), or set shuffle=True.\n",
      "  FutureWarning\n"
     ]
    },
    {
     "name": "stdout",
     "output_type": "stream",
     "text": [
      "results:-29.31 (27.75) MSE\n"
     ]
    }
   ],
   "source": [
    "#10개중 1개는 검증\n",
    "kfold  = KFold(n_splits =10, random_state = seed)\n",
    "result = cross_val_score(estimator,X,Y,cv =kfold)\n",
    "print('results:%.2f (%.2f) MSE' % (results.mean(),results.std()))"
   ]
  },
  {
   "cell_type": "code",
   "execution_count": 42,
   "metadata": {},
   "outputs": [
    {
     "name": "stderr",
     "output_type": "stream",
     "text": [
      "C:\\Users\\ICT01_14\\.conda\\envs\\tf_test\\lib\\site-packages\\sklearn\\model_selection\\_split.py:296: FutureWarning: Setting a random_state has no effect since shuffle is False. This will raise an error in 0.24. You should leave random_state to its default (None), or set shuffle=True.\n",
      "  FutureWarning\n"
     ]
    },
    {
     "name": "stdout",
     "output_type": "stream",
     "text": [
      "standardized : -29.31(27.75)mse\n"
     ]
    }
   ],
   "source": [
    "numpy.random.seed(seed)\n",
    "estimators = []\n",
    "estimators.append(('standardize',StandardScaler()))\n",
    "estimators.append(('mlp',KerasRegressor(build_fn = baseline_model,epochs = 50,batch_size =5,verbose =0)))\n",
    "\n",
    "pipeline =Pipeline(estimators)\n",
    "\n",
    "kfold = KFold(n_splits = 10, random_state = seed)\n",
    "\n",
    "results = cross_val_score(pipeline,X,Y,cv = kfold)\n",
    "print('standardized : %.2f(%.2F)mse' %(results.mean(),results.std()))"
   ]
  },
  {
   "cell_type": "code",
   "execution_count": 44,
   "metadata": {},
   "outputs": [
    {
     "data": {
      "text/plain": [
       "Pipeline(memory=None,\n",
       "         steps=[('standardize',\n",
       "                 StandardScaler(copy=True, with_mean=True, with_std=True)),\n",
       "                ('mlp',\n",
       "                 <keras.wrappers.scikit_learn.KerasRegressor object at 0x000001CCEE493E88>)],\n",
       "         verbose=False)"
      ]
     },
     "execution_count": 44,
     "metadata": {},
     "output_type": "execute_result"
    }
   ],
   "source": [
    "pipeline.fit(X,Y)"
   ]
  },
  {
   "cell_type": "code",
   "execution_count": 47,
   "metadata": {},
   "outputs": [
    {
     "data": {
      "text/plain": [
       "30.0347"
      ]
     },
     "execution_count": 47,
     "metadata": {},
     "output_type": "execute_result"
    }
   ],
   "source": [
    "res = pipeline.predict(X)\n",
    "res[0]"
   ]
  },
  {
   "cell_type": "code",
   "execution_count": 49,
   "metadata": {},
   "outputs": [
    {
     "data": {
      "text/plain": [
       "array([[nan, nan],\n",
       "       [nan, nan]])"
      ]
     },
     "execution_count": 49,
     "metadata": {},
     "output_type": "execute_result"
    }
   ],
   "source": [
    "import numpy as np\n",
    "np.corrcoef(res[0],Y[0]) # 수정하기 "
   ]
  },
  {
   "cell_type": "code",
   "execution_count": 46,
   "metadata": {},
   "outputs": [],
   "source": [
    "def larger_model():\n",
    "    model = Sequential()\n",
    "    model.add(Dense(13,input_dim =13, kernel_initializer ='normal',activation ='relu' ))\n",
    "    model.add(Dense(6,kernel_initializer = 'normal',activation ='relu'))\n",
    "    model.add(Dense(1,kernel_initializer= 'normal'))\n",
    "    model.compile(loss = 'mean_squared_error',optimizer = 'adam')\n",
    "    return model"
   ]
  },
  {
   "cell_type": "code",
   "execution_count": null,
   "metadata": {},
   "outputs": [],
   "source": [
    "seed = 7 \n",
    "numpy.random.seed(seed)\n",
    "estimator = KerasRegressor(build_fn=larger_model,nb_epoch =)"
   ]
  },
  {
   "cell_type": "markdown",
   "metadata": {},
   "source": [
    "larger과  baseline 차이는 라거가 더 deep함"
   ]
  },
  {
   "cell_type": "code",
   "execution_count": null,
   "metadata": {},
   "outputs": [],
   "source": [
    "def wider_model():\n",
    "    model = Sequential()\n",
    "    model.add(Dense(20,input_dim =13, kernel_initializer ='normal',activation ='relu' ))\n",
    "    model.add(Dense(1,kernel_initializer= 'normal'))\n",
    "    model.compile(loss = 'mean_squared_error',optimizer = 'adam')\n",
    "    return model"
   ]
  },
  {
   "cell_type": "code",
   "execution_count": null,
   "metadata": {},
   "outputs": [],
   "source": []
  },
  {
   "cell_type": "markdown",
   "metadata": {},
   "source": [
    "# 숙제\n",
    "\n",
    "- air.csv데이터를 로딩한 다음 회귀망을 구성하시오 \n",
    "\n",
    "- parameter tuning 을 구현하시오 (pipeline 사용도 함께)"
   ]
  },
  {
   "cell_type": "code",
   "execution_count": null,
   "metadata": {},
   "outputs": [],
   "source": []
  },
  {
   "cell_type": "code",
   "execution_count": null,
   "metadata": {},
   "outputs": [],
   "source": []
  },
  {
   "cell_type": "code",
   "execution_count": null,
   "metadata": {},
   "outputs": [],
   "source": []
  },
  {
   "cell_type": "code",
   "execution_count": null,
   "metadata": {},
   "outputs": [],
   "source": []
  },
  {
   "cell_type": "code",
   "execution_count": null,
   "metadata": {},
   "outputs": [],
   "source": []
  },
  {
   "cell_type": "code",
   "execution_count": null,
   "metadata": {},
   "outputs": [],
   "source": []
  },
  {
   "cell_type": "code",
   "execution_count": null,
   "metadata": {},
   "outputs": [],
   "source": []
  },
  {
   "cell_type": "code",
   "execution_count": null,
   "metadata": {},
   "outputs": [],
   "source": []
  },
  {
   "cell_type": "code",
   "execution_count": null,
   "metadata": {},
   "outputs": [],
   "source": []
  },
  {
   "cell_type": "code",
   "execution_count": null,
   "metadata": {},
   "outputs": [],
   "source": []
  },
  {
   "cell_type": "code",
   "execution_count": null,
   "metadata": {},
   "outputs": [],
   "source": []
  },
  {
   "cell_type": "code",
   "execution_count": null,
   "metadata": {},
   "outputs": [],
   "source": []
  }
 ],
 "metadata": {
  "kernelspec": {
   "display_name": "Python 3",
   "language": "python",
   "name": "python3"
  },
  "language_info": {
   "codemirror_mode": {
    "name": "ipython",
    "version": 3
   },
   "file_extension": ".py",
   "mimetype": "text/x-python",
   "name": "python",
   "nbconvert_exporter": "python",
   "pygments_lexer": "ipython3",
   "version": "3.7.6"
  },
  "toc": {
   "base_numbering": 1,
   "nav_menu": {},
   "number_sections": true,
   "sideBar": true,
   "skip_h1_title": false,
   "title_cell": "Table of Contents",
   "title_sidebar": "Contents",
   "toc_cell": false,
   "toc_position": {
    "height": "710px",
    "left": "25px",
    "top": "110px",
    "width": "165px"
   },
   "toc_section_display": true,
   "toc_window_display": true
  }
 },
 "nbformat": 4,
 "nbformat_minor": 2
}
