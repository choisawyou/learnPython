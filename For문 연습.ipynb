{
 "cells": [
  {
   "cell_type": "code",
   "execution_count": 14,
   "metadata": {
    "collapsed": true
   },
   "outputs": [
    {
     "name": "stdout",
     "output_type": "stream",
     "text": [
      "v1 is : 0\n",
      "v1 is : 1\n",
      "v1 is : 2\n",
      "v1 is : 3\n",
      "v1 is : 4\n",
      "v1 is : 5\n",
      "v1 is : 6\n",
      "v1 is : 7\n",
      "v1 is : 8\n",
      "v1 is : 9\n",
      "\n",
      "v2 :  1\n",
      "v2 :  2\n",
      "v2 :  3\n",
      "v2 :  4\n",
      "v2 :  5\n",
      "v2 :  6\n",
      "v2 :  7\n",
      "v2 :  8\n",
      "v2 :  9\n",
      "v2 :  10\n",
      "\n",
      "v3 : 1\n",
      "v3 : 3\n",
      "v3 : 5\n",
      "v3 : 7\n",
      "v3 : 9\n"
     ]
    }
   ],
   "source": [
    "#for in <collection>  #어떤 집합의 모음 :collection\n",
    "#   <Loop body>\n",
    "\n",
    "for v1 in range(10): #0~9까지 n-1\n",
    "     print('v1 is :', v1)\n",
    "        \n",
    "print()\n",
    "    \n",
    "for v2 in range(1,11):  # 1~10까지 \n",
    "    print('v2 : ', v2)\n",
    "    \n",
    "print()    \n",
    "\n",
    "for v3 in range(1,11,2):  #짝수나 홀수의 집합을 만들 떄 등 사용 \n",
    "    print('v3 :', v3)\n",
    "     "
   ]
  },
  {
   "cell_type": "code",
   "execution_count": 25,
   "metadata": {},
   "outputs": [
    {
     "name": "stdout",
     "output_type": "stream",
     "text": [
      "1-1000 sum : 500500\n",
      "1 -1000 sum : 500500\n",
      "1-1000 4 의 배수 : 125500\n",
      "1-1000 4^ : 125500\n"
     ]
    }
   ],
   "source": [
    "# 1 - 1000 까지의 합\n",
    "\n",
    "sum1 = 0\n",
    "\n",
    "for v in range(1,1001):\n",
    "    sum1+=v   # 0+1  =1 \n",
    "             # 그다음에 1 +2 = 3\n",
    "             # 3+ 4 = 7 . . . . .\n",
    "            \n",
    "print('1-1000 sum :',  sum1)\n",
    "\n",
    "#same as\n",
    "\n",
    "print('1 -1000 sum :', sum(range(1,1001)))\n"
   ]
  },
  {
   "cell_type": "code",
   "execution_count": null,
   "metadata": {},
   "outputs": [],
   "source": [
    "#print문 으로 구하기 _ for 문과 비교\n",
    "# 1-1000 4의 배수\n",
    "\n",
    "print('1-1000 4 의 배수 :', sum(range(4,1001,4)))\n",
    "\n",
    "#same as\n",
    "\n",
    "sum2 = 0\n",
    "\n",
    "for i in range(4,1001,4):\n",
    "    sum2 += i\n",
    "print('1-1000 4^ :', sum2)\n",
    "\n",
    "    "
   ]
  },
  {
   "cell_type": "code",
   "execution_count": 36,
   "metadata": {},
   "outputs": [
    {
     "name": "stdout",
     "output_type": "stream",
     "text": [
      "You are : Kim\n",
      "You are : Park\n",
      "You are : Cho\n",
      "You are : Lee\n",
      "You are : Choi\n",
      "You are : Yoo\n",
      "\n",
      "current num : 11\n",
      "current num : 34\n",
      "current num : 14\n",
      "current num : 23\n",
      "current num : 41\n",
      "current num : 7\n",
      "word : b\n",
      "word : e\n",
      "word : a\n",
      "word : u\n",
      "word : t\n",
      "word : i\n",
      "word : f\n",
      "word : u\n",
      "word : l\n",
      "\n",
      "key : name\n",
      "key : age\n",
      "key : city\n",
      "info : lee\n",
      "info : 33\n",
      "info : seoul\n",
      "values : lee\n",
      "values : 33\n",
      "values : seoul\n"
     ]
    }
   ],
   "source": [
    "#Iterables 자로형 반복 \n",
    "#문자열, 리스트,튜플,집합,사전(dict)\n",
    "#Iiterable 리턴 함수 : range , reversed,  enumerate , filter, map , zip\n",
    "# 모두 for문에서 사용가능    ↑↑↑↑↑↑↑↑↑↑↑↑↑↑\n",
    "\n",
    "#list 형 사용 예시\n",
    "names =['Kim','Park','Cho','Lee','Choi','Yoo']\n",
    "\n",
    "for n in names:\n",
    "    print('You are :', n)\n",
    "    \n",
    "print()\n",
    "\n",
    "#예시 2 \n",
    "\n",
    "lotto_num =[11,34,14,23,41,7]\n",
    "\n",
    "for i in lotto_num:\n",
    "     print('current num :' , i)\n",
    "        \n",
    "#문자열 예제 3\n",
    "word = 'beautiful'\n",
    "\n",
    "for s in word:\n",
    "    print('word :', s)\n",
    "\n",
    "print()\n",
    "\n",
    "#예제 4 /key: value\n",
    "\n",
    "info={\n",
    "    'name':'lee',  \n",
    "    'age':33,\n",
    "    'city':'seoul'\n",
    "}\n",
    "\n",
    "for k in info:\n",
    "     print('key :', k) #반복할때 value는 가져오지않음\n",
    "        \n",
    "#key / value 가져오기 \n",
    "\n",
    "info={\n",
    "    'name':'lee',  \n",
    "    'age':33,\n",
    "    'city':'seoul'\n",
    "}\n",
    "#방법 1\n",
    "for k in info:\n",
    "     print('info :', info[k]) #반복할때 value는 가져오지않음\n",
    "\n",
    "#방법 2\n",
    "# for k in info:\n",
    "# print('information :' , info.get(k))\n",
    "\n",
    "\n",
    "#value 만 꺼내오기 \n",
    "for v in info.values():\n",
    "    print('values :',v)  \n",
    "    \n"
   ]
  },
  {
   "cell_type": "code",
   "execution_count": 41,
   "metadata": {},
   "outputs": [
    {
     "name": "stdout",
     "output_type": "stream",
     "text": [
      "P\n",
      "I\n",
      "N\n",
      "E\n",
      "A\n",
      "P\n",
      "P\n",
      "L\n",
      "E\n",
      "capital : E "
     ]
    }
   ],
   "source": [
    "#if문과 for 문\n",
    "#name을 대문자로 (모두)\n",
    "\n",
    "name = 'pineAppLE'\n",
    "\n",
    "for n in name:\n",
    "    if n.isupper():\n",
    "        print(n)\n",
    "    else:\n",
    "        print(n.upper()) \n",
    "    \n"
   ]
  },
  {
   "cell_type": "code",
   "execution_count": 46,
   "metadata": {},
   "outputs": [
    {
     "name": "stdout",
     "output_type": "stream",
     "text": [
      "Not 14\n",
      "Not 3\n",
      "Not 45\n",
      "Not 6\n",
      "Not 3\n",
      "Not 63\n",
      "Not 85\n",
      "Not 86\n",
      "Found  : 34 \n",
      "Not 2\n",
      "Not 37\n",
      "Not 15\n",
      "Not 21\n",
      "\n",
      "Not 14\n",
      "Not 3\n",
      "Not 45\n",
      "Not 6\n",
      "Not 3\n",
      "Not 63\n",
      "Not 85\n",
      "Not 86\n",
      "Found  : 34 \n"
     ]
    }
   ],
   "source": [
    "#break _ For 문 탈출 \n",
    "#첫번째 34 찾기_ 찾은후 탈출\n",
    "\n",
    "\n",
    "numbers = [14,3,45,6,3,63,85,86,34,2,37,15,21]\n",
    "\n",
    "for num in numbers:\n",
    "    if num ==34:\n",
    "        print('Found  : 34 ')\n",
    "    else:\n",
    "        print(\"Not\",num)\n",
    "        \n",
    "print()   #위아래 차이 비교해보기 \n",
    "        \n",
    "for num in numbers:\n",
    "    if num ==34:\n",
    "        print('Found  : 34 ')\n",
    "        break\n",
    "    else:\n",
    "        print(\"Not\",num)\n",
    "        \n",
    "        \n",
    "        "
   ]
  },
  {
   "cell_type": "code",
   "execution_count": 5,
   "metadata": {},
   "outputs": [
    {
     "name": "stdout",
     "output_type": "stream",
     "text": [
      "current type 1 <class 'str'>\n",
      " * 2 : 111\n",
      "current type 2 <class 'int'>\n",
      " * 2 : 6\n",
      "current type 5 <class 'int'>\n",
      " * 2 : 15\n",
      "current type 4.3 <class 'float'>\n",
      " * 2 : 12.899999999999999\n",
      "current type (4+0j) <class 'complex'>\n",
      " * 2 : (12+0j)\n"
     ]
    }
   ],
   "source": [
    "#continue  _ 다시 조건을 검사하는 부분으로 이동 _ skip이라고 생각 \n",
    "\n",
    "#숫자만 보여주기\n",
    "lt = ['1',2,5,True,4.3,complex(4)]\n",
    "\n",
    "for v in lt:\n",
    "    if type(v) is bool:\n",
    "         continue        #boolean을 만나면 이 밑에는 실행x\n",
    "    print('current type', v ,type(v))  #boolean형은 안나옴 \n",
    "    print(' * 2 :', v *3) #boolean 형을 계산하고싶지않을 때 사용 가능"
   ]
  },
  {
   "cell_type": "code",
   "execution_count": 10,
   "metadata": {},
   "outputs": [
    {
     "name": "stdout",
     "output_type": "stream",
     "text": [
      "not found : 2\n",
      "not found : 49\n"
     ]
    }
   ],
   "source": [
    "#for else\n",
    "#모든 원소를 모두 반복했을 때 마지막으로 else문 수행\n",
    "#break문  등으로 중지되었을 때에는 else문 실행 x\n",
    "numbers = [14,3,45,6,3,63,85,86,34,2,37,15,21]\n",
    "\n",
    "for n in numbers:\n",
    "    if n == 2:\n",
    "        print('found : 2')\n",
    "        break            # break가 있으면 else문 실행 x\n",
    "else:\n",
    "    print('not found : 2')\n",
    "    \n",
    "    \n",
    "#for else_ 끝까지 뒤졌지만 49는 없었다 (else구문)\n",
    "\n",
    "numbers = [14,3,45,6,3,63,85,86,34,2,37,15,21]\n",
    "\n",
    "for n in numbers:\n",
    "    if n ==  49:\n",
    "        print('found : 49')\n",
    "        break\n",
    "else:\n",
    "    print('not found : 49')"
   ]
  },
  {
   "cell_type": "code",
   "execution_count": 21,
   "metadata": {
    "scrolled": true
   },
   "outputs": [
    {
     "name": "stdout",
     "output_type": "stream",
     "text": [
      "2 * 1 = 2  2 * 2 = 4  2 * 3 = 6  2 * 4 = 8  2 * 5 = 10  2 * 6 = 12  2 * 7 = 14  2 * 8 = 16  2 * 9 = 18  3 * 1 = 3  3 * 2 = 6  3 * 3 = 9  3 * 4 = 12  3 * 5 = 15  3 * 6 = 18  3 * 7 = 21  3 * 8 = 24  3 * 9 = 27  4 * 1 = 4  4 * 2 = 8  4 * 3 = 12  4 * 4 = 16  4 * 5 = 20  4 * 6 = 24  4 * 7 = 28  4 * 8 = 32  4 * 9 = 36  5 * 1 = 5  5 * 2 = 10  5 * 3 = 15  5 * 4 = 20  5 * 5 = 25  5 * 6 = 30  5 * 7 = 35  5 * 8 = 40  5 * 9 = 45  6 * 1 = 6  6 * 2 = 12  6 * 3 = 18  6 * 4 = 24  6 * 5 = 30  6 * 6 = 36  6 * 7 = 42  6 * 8 = 48  6 * 9 = 54  7 * 1 = 7  7 * 2 = 14  7 * 3 = 21  7 * 4 = 28  7 * 5 = 35  7 * 6 = 42  7 * 7 = 49  7 * 8 = 56  7 * 9 = 63  8 * 1 = 8  8 * 2 = 16  8 * 3 = 24  8 * 4 = 32  8 * 5 = 40  8 * 6 = 48  8 * 7 = 56  8 * 8 = 64  8 * 9 = 72  9 * 1 = 9  9 * 2 = 18  9 * 3 = 27  9 * 4 = 36  9 * 5 = 45  9 * 6 = 54  9 * 7 = 63  9 * 8 = 72  9 * 9 = 81  "
     ]
    }
   ],
   "source": [
    "#구구단 출력\n",
    "\n",
    "\n",
    "for x in range(2,10):\n",
    "    for y in range(1,10):\n",
    "        #print('{:4d}'.format(x * y), end =' ')\n",
    "        print(x,'*',y,'=',x*y,end = \"  \")"
   ]
  },
  {
   "cell_type": "code",
   "execution_count": 26,
   "metadata": {},
   "outputs": [
    {
     "ename": "ModuleNotFoundError",
     "evalue": "No module named 'reverse'",
     "output_type": "error",
     "traceback": [
      "\u001b[1;31m---------------------------------------------------------------------------\u001b[0m",
      "\u001b[1;31mModuleNotFoundError\u001b[0m                       Traceback (most recent call last)",
      "\u001b[1;32m<ipython-input-26-0827f9aed865>\u001b[0m in \u001b[0;36m<module>\u001b[1;34m\u001b[0m\n\u001b[0;32m      1\u001b[0m \u001b[1;31m#변환예제\u001b[0m\u001b[1;33m\u001b[0m\u001b[1;33m\u001b[0m\u001b[1;33m\u001b[0m\u001b[0m\n\u001b[0;32m      2\u001b[0m \u001b[1;33m\u001b[0m\u001b[0m\n\u001b[1;32m----> 3\u001b[1;33m \u001b[1;32mimport\u001b[0m \u001b[0mreverse\u001b[0m\u001b[1;33m\u001b[0m\u001b[1;33m\u001b[0m\u001b[0m\n\u001b[0m\u001b[0;32m      4\u001b[0m \u001b[0mname2\u001b[0m \u001b[1;33m=\u001b[0m\u001b[1;34m'Aceman'\u001b[0m\u001b[1;33m\u001b[0m\u001b[1;33m\u001b[0m\u001b[0m\n\u001b[0;32m      5\u001b[0m \u001b[1;33m\u001b[0m\u001b[0m\n",
      "\u001b[1;31mModuleNotFoundError\u001b[0m: No module named 'reverse'"
     ]
    }
   ],
   "source": [
    "#변환예제\n",
    "\n",
    "import reverse\n",
    "name2 ='Aceman'\n",
    "\n",
    "print('Reversed :',resversed(name2)) #error\n",
    "\n",
    "print('List :', list(reversed(name2))) #거꾸로 \n",
    "\n",
    "print('Tuple', tuple(reversed(name2)))  #리스트를 튜플 형으로 바꾸기 \n",
    "\n",
    "print('set (집합)', set(reversed(names2))) #순서가 x "
   ]
  }
 ],
 "metadata": {
  "kernelspec": {
   "display_name": "Python 3",
   "language": "python",
   "name": "python3"
  },
  "language_info": {
   "codemirror_mode": {
    "name": "ipython",
    "version": 3
   },
   "file_extension": ".py",
   "mimetype": "text/x-python",
   "name": "python",
   "nbconvert_exporter": "python",
   "pygments_lexer": "ipython3",
   "version": "3.7.4"
  }
 },
 "nbformat": 4,
 "nbformat_minor": 2
}
