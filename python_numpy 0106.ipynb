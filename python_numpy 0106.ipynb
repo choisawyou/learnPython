{
 "cells": [
  {
   "cell_type": "markdown",
   "metadata": {},
   "source": [
    "# 20190106  Numpy"
   ]
  },
  {
   "cell_type": "markdown",
   "metadata": {},
   "source": [
    "20190106 NUMPY\n",
    "\n",
    "수업 진행 순서 : \n",
    "numpy  -> pandas -> scipy,statsmodel -> scikits(machine learning) -> tensorflow(deep learning) -> keras(deep learning)\n",
    "\n",
    "\n",
    "python \n",
    "list_연속적 메모리 공간자료 구조 앞뒤 데이터 주소 저장\n",
    "\n",
    "###NUMPY###\n",
    "*행 중심_ 이름별 점수 평균\n",
    "\n",
    "numpy 배열(array) \n",
    "1차원 vector [1,2,3]_ 크기와 방향을 알아야한다\n",
    "2차원 matrix  행열구조\n",
    "3차원 tensor\n",
    "=>배열을 선형대수 처리하기 위하여 \n",
    "\n",
    "vector의 거리 : 두 벡터의 차에 루트 _ 피타고라스\n",
    "vector의 방향 :내적\n",
    "matrix : 여러개의 vector를 모아둔 것 _vector의 변환 \n",
    "matrix @ matrix : 1)변환의 합 _ MRS(Move rocate scale)\n",
    "                  2) 의사 결정시 ***특징 추출 *** eg) 4x5 @ 5x2 = 4x2\n",
    "                 3) 시각화 할 시 : ***차원축소***  \n",
    "\n",
    "#선형대수 : 선형으로 해결하자 -> 비선형도 잘게 나누면 선형\n",
    "\n",
    "선형 변환\n",
    "↓↓↓↓\n",
    "scaling_ 대각선의 값이 크기를 결정\n",
    "unequal scaling _\n",
    "rotation_ 역/정방향 회전_ 2차원\n",
    "horizontal shear\n",
    "hyperbolic rotation\n",
    "\n",
    "\n",
    "python 의  numpy 는 [자료구조 연산자 제어문 함수] 모두 가지고 있다\n",
    "-> 언어라고 생각하면 됨 \n",
    "\n",
    "numpy의 제어문에서 for 문 제거 _ 함수만 사용하면 처리할 수 있도록 (벡터의 연산)\n",
    "=> 이러한 방법이 for문보다 100배 빠르다 ]\n",
    "\n",
    "numpy -> 행중심 _ 검색할 때에는 이 방법이 ok\n",
    "\n",
    "numpy는 동질적인 데이터만( 숫자면 숫자 , 문자면 문자 )\n",
    "\n",
    "\n",
    "*numpy는 datatype(dtype)도 가지고 있다._ 대량의 데이터를 저장한다는 전제조건 *\n",
    "INT8형 , INT 16 , INT 64형 (작은데이터를 저장할때에는 작은 데이터형 사용 )\n",
    "shape\n",
    "dimension\n",
    "\n",
    "\n",
    "*numpy 는 연산자(universal function) 많이 보유 *\n",
    "\n",
    "*행x열 곱에서는 앞뒤를 바꿀 수 없다 \n",
    "eg) 4행 3열 * 3행 4열 = 4행 4열\n",
    "\n",
    "\n",
    "###PANDAS(Panel+Analasis)###\n",
    "\n",
    "열중심 처리 _ 과목 별로 평균\n",
    "\n",
    "1차원 _ Series(동질 데이터)\n",
    "2차원 _ Dataframe(이질 데이터)\n",
    "3차원_Panel\n",
    "*열 내 동질적,열간 이질적\n",
    "\n",
    "###scipy,statsmodel ###\n",
    "회귀분석과 상관분석으로 검증\n",
    "\n",
    " scipy,statsmodel -> Optimization(최적화), Interpolation(보관), Intergrate(적분) , Differential(미분)\n",
    "\n",
    "*추정과 검정 *\n",
    "↓↓↓↓↓↓\n",
    "1.카이제곱\n",
    "2.anorba(2개이상의 데이터)\n",
    "3.marnoba(2개이상의 종속변수)\n",
    "4.ankoba\n",
    "5.mankoba\n",
    "\n",
    "\n",
    "###sciktits(machine learning)####\n",
    "model을 만드는 방법\n",
    "↓↓↓↓↓↓\n",
    "1.정보기반 학습 . Dicision Tree\n",
    "random forest\n",
    "adar boost\n",
    "grand boost\n",
    "xg boost\n",
    "\n",
    "2.확률 기반 학습. Naive bayes\n",
    "표준정규분포\n",
    "\n",
    "3.유사도 기반 학습\n",
    "vector가 표현하는 거리값, 방향 \n",
    "가까운거리에 있는 것들은 같은 것으로 취급 \n",
    "-피타고라스\n",
    "유사도 기반  모델: Kmeans, KNN ,추천(데이터 기반 제품 추천 등+) 등\n",
    "\n",
    "4.오차 기반 학습\n",
    "\n",
    "선형회귀 ,상관분석\n",
    "정규성 독립성 등\n",
    "\n",
    "\n",
    "etc) \n",
    "*내적 사이각. 내적 유사도 *\n",
    "***내적이 의미하는 바 알기 _ 두벡터의 사이각\n",
    "코사인 유사도 \n",
    "\n",
    "\n",
    "###cos / sin###\n",
    "이세상의 모든 소리는 cos sin 그래프로 분리시켜 표현 가능\n",
    "sin cos 합성하면 소리를 만들어 낼 수 있다\n",
    "\n",
    "-각도 문제( radiant _호의 길이로 각도 표현-> 사람이 이름 이해하기위해 degree로 변경해준다(도) \n",
    "-주기 문제\n",
    "\n",
    "\n",
    "#연립 방정식의 해 \n",
    "계수들만 다 뽑는다 -> 행렬로 변환 -> 역행렬 해서 ~~\n",
    "고유값 분해(정방행렬{행수와 열수가 같은것},대칭행렬에만적용),특이행렬 분해 \n",
    "상관분석 , 공분산 , 상관계수\n",
    "\n",
    "\n",
    "#고유값 분해(Principal component  analysis ,주성분 분석)\n",
    "eg) 소리로 고장날 시기를 추측한다고 했을 때  들려오는 잡음을 제거하는 것이 주성분 분석 \n",
    "고유vector 은 직교하는 축을 만들고 기존 데이터 재분석??????????\n",
    "\n",
    "#svd는 희소행렬에 대하여 특징 추출 \n",
    "\n",
    "#행열연산을 하는 이유는 특징추출"
   ]
  },
  {
   "cell_type": "code",
   "execution_count": 17,
   "metadata": {},
   "outputs": [],
   "source": [
    "# flask\n",
    "import flask #package _ 웹서버 기능 _ 5000번 포트로 서비스 "
   ]
  },
  {
   "cell_type": "code",
   "execution_count": 23,
   "metadata": {},
   "outputs": [
    {
     "name": "stdout",
     "output_type": "stream",
     "text": [
      "1.16.5\n",
      "type:<class 'numpy.ndarray'>\n",
      "shape:(3,),dimension:1,dtype:int32\n",
      "Array's Data:Wn [1 2 3]\n"
     ]
    }
   ],
   "source": [
    "import matplotlib # 시각화 패키지 \n",
    "import numpy as np  #별칭 class  \n",
    "print(np.__version__) #넘파이가 가지고 있는 함수 호출 #__ __ 상위 오브젝트가 가진 속성\n",
    "def pprint(arr):   #ndarray: numpy의 기본 데이터 타입\n",
    "    print(\"type:{}\".format(type(arr)))\n",
    "    print(\"shape:{},dimension:{},dtype:{}\".format(arr.shape,arr.ndim,arr.dtype))\n",
    "    print(\"Array's Data:Wn\",arr)\n",
    "    \n",
    "    #숫자의 default는 int 32형\n",
    "arr = [1.0,2.0,3.0]#리스트\n",
    "a = np.array([1,2,3]) #nd array 생성함수(매개변수:리스트) #초기화  #\n",
    "pprint(a)\n",
    "\n",
    "    "
   ]
  },
  {
   "cell_type": "code",
   "execution_count": 19,
   "metadata": {
    "collapsed": true
   },
   "outputs": [
    {
     "name": "stdout",
     "output_type": "stream",
     "text": [
      "1577804334224\n",
      "10\n",
      "[0. 1. 2. 3. 4. 5. 6. 7. 8. 9.]\n",
      "40\n"
     ]
    },
    {
     "data": {
      "text/plain": [
       "array([  0,   1,   2,   3,   4,   5,   6,   7,   8,   9,  10,  11,  12,\n",
       "        13,  14,  15,  16,  17,  18,  19,  20,  21,  22,  23,  24,  25,\n",
       "        26,  27,  28,  29,  30,  31,  32,  33,  34,  35,  36,  37,  38,\n",
       "        39,  40,  41,  42,  43,  44,  45,  46,  47,  48,  49,  50,  51,\n",
       "        52,  53,  54,  55,  56,  57,  58,  59,  60,  61,  62,  63,  64,\n",
       "        65,  66,  67,  68,  69,  70,  71,  72,  73,  74,  75,  76,  77,\n",
       "        78,  79,  80,  81,  82,  83,  84,  85,  86,  87,  88,  89,  90,\n",
       "        91,  92,  93,  94,  95,  96,  97,  98,  99, 100, 101, 102, 103,\n",
       "       104, 105, 106, 107, 108, 109, 110, 111, 112, 113, 114, 115, 116,\n",
       "       117, 118, 119, 120, 121, 122, 123, 124, 125, 126, 127, 128, 129,\n",
       "       130, 131, 132, 133, 134, 135, 136, 137, 138, 139, 140, 141, 142,\n",
       "       143, 144, 145, 146, 147, 148, 149, 150, 151, 152, 153, 154, 155,\n",
       "       156, 157, 158, 159, 160, 161, 162, 163, 164, 165, 166, 167, 168,\n",
       "       169, 170, 171, 172, 173, 174, 175, 176, 177, 178, 179, 180, 181,\n",
       "       182, 183, 184, 185, 186, 187, 188, 189, 190, 191, 192, 193, 194,\n",
       "       195, 196, 197, 198, 199, 200, 201, 202, 203, 204, 205, 206, 207,\n",
       "       208, 209, 210, 211, 212, 213, 214, 215, 216, 217, 218, 219, 220,\n",
       "       221, 222, 223, 224, 225, 226, 227, 228, 229, 230, 231, 232, 233,\n",
       "       234, 235, 236, 237, 238, 239, 240, 241, 242, 243, 244, 245, 246,\n",
       "       247, 248, 249, 250, 251, 252, 253, 254, 255, 256, 257, 258, 259,\n",
       "       260, 261, 262, 263, 264, 265, 266, 267, 268, 269, 270, 271, 272,\n",
       "       273, 274, 275, 276, 277, 278, 279, 280, 281, 282, 283, 284, 285,\n",
       "       286, 287, 288, 289, 290, 291, 292, 293, 294, 295, 296, 297, 298,\n",
       "       299, 300, 301, 302, 303, 304, 305, 306, 307, 308, 309, 310, 311,\n",
       "       312, 313, 314, 315, 316, 317, 318, 319, 320, 321, 322, 323, 324,\n",
       "       325, 326, 327, 328, 329, 330, 331, 332, 333, 334, 335, 336, 337,\n",
       "       338, 339, 340, 341, 342, 343, 344, 345, 346, 347, 348, 349, 350,\n",
       "       351, 352, 353, 354, 355, 356, 357, 358, 359, 360, 361, 362, 363,\n",
       "       364, 365, 366, 367, 368, 369, 370, 371, 372, 373, 374, 375, 376,\n",
       "       377, 378, 379, 380, 381, 382, 383, 384, 385, 386, 387, 388, 389,\n",
       "       390, 391, 392, 393, 394, 395, 396, 397, 398, 399, 400, 401, 402,\n",
       "       403, 404, 405, 406, 407, 408, 409, 410, 411, 412, 413, 414, 415,\n",
       "       416, 417, 418, 419, 420, 421, 422, 423, 424, 425, 426, 427, 428,\n",
       "       429, 430, 431, 432, 433, 434, 435, 436, 437, 438, 439, 440, 441,\n",
       "       442, 443, 444, 445, 446, 447, 448, 449, 450, 451, 452, 453, 454,\n",
       "       455, 456, 457, 458, 459, 460, 461, 462, 463, 464, 465, 466, 467,\n",
       "       468, 469, 470, 471, 472, 473, 474, 475, 476, 477, 478, 479, 480,\n",
       "       481, 482, 483, 484, 485, 486, 487, 488, 489, 490, 491, 492, 493,\n",
       "       494, 495, 496, 497, 498, 499, 500, 501, 502, 503, 504, 505, 506,\n",
       "       507, 508, 509, 510, 511, 512, 513, 514, 515, 516, 517, 518, 519,\n",
       "       520, 521, 522, 523, 524, 525, 526, 527, 528, 529, 530, 531, 532,\n",
       "       533, 534, 535, 536, 537, 538, 539, 540, 541, 542, 543, 544, 545,\n",
       "       546, 547, 548, 549, 550, 551, 552, 553, 554, 555, 556, 557, 558,\n",
       "       559, 560, 561, 562, 563, 564, 565, 566, 567, 568, 569, 570, 571,\n",
       "       572, 573, 574, 575, 576, 577, 578, 579, 580, 581, 582, 583, 584,\n",
       "       585, 586, 587, 588, 589, 590, 591, 592, 593, 594, 595, 596, 597,\n",
       "       598, 599, 600, 601, 602, 603, 604, 605, 606, 607, 608, 609, 610,\n",
       "       611, 612, 613, 614, 615, 616, 617, 618, 619, 620, 621, 622, 623,\n",
       "       624, 625, 626, 627, 628, 629, 630, 631, 632, 633, 634, 635, 636,\n",
       "       637, 638, 639, 640, 641, 642, 643, 644, 645, 646, 647, 648, 649,\n",
       "       650, 651, 652, 653, 654, 655, 656, 657, 658, 659, 660, 661, 662,\n",
       "       663, 664, 665, 666, 667, 668, 669, 670, 671, 672, 673, 674, 675,\n",
       "       676, 677, 678, 679, 680, 681, 682, 683, 684, 685, 686, 687, 688,\n",
       "       689, 690, 691, 692, 693, 694, 695, 696, 697, 698, 699, 700, 701,\n",
       "       702, 703, 704, 705, 706, 707, 708, 709, 710, 711, 712, 713, 714,\n",
       "       715, 716, 717, 718, 719, 720, 721, 722, 723, 724, 725, 726, 727,\n",
       "       728, 729, 730, 731, 732, 733, 734, 735, 736, 737, 738, 739, 740,\n",
       "       741, 742, 743, 744, 745, 746, 747, 748, 749, 750, 751, 752, 753,\n",
       "       754, 755, 756, 757, 758, 759, 760, 761, 762, 763, 764, 765, 766,\n",
       "       767, 768, 769, 770, 771, 772, 773, 774, 775, 776, 777, 778, 779,\n",
       "       780, 781, 782, 783, 784, 785, 786, 787, 788, 789, 790, 791, 792,\n",
       "       793, 794, 795, 796, 797, 798, 799, 800, 801, 802, 803, 804, 805,\n",
       "       806, 807, 808, 809, 810, 811, 812, 813, 814, 815, 816, 817, 818,\n",
       "       819, 820, 821, 822, 823, 824, 825, 826, 827, 828, 829, 830, 831,\n",
       "       832, 833, 834, 835, 836, 837, 838, 839, 840, 841, 842, 843, 844,\n",
       "       845, 846, 847, 848, 849, 850, 851, 852, 853, 854, 855, 856, 857,\n",
       "       858, 859, 860, 861, 862, 863, 864, 865, 866, 867, 868, 869, 870,\n",
       "       871, 872, 873, 874, 875, 876, 877, 878, 879, 880, 881, 882, 883,\n",
       "       884, 885, 886, 887, 888, 889, 890, 891, 892, 893, 894, 895, 896,\n",
       "       897, 898, 899, 900, 901, 902, 903, 904, 905, 906, 907, 908, 909,\n",
       "       910, 911, 912, 913, 914, 915, 916, 917, 918, 919, 920, 921, 922,\n",
       "       923, 924, 925, 926, 927, 928, 929, 930, 931, 932, 933, 934, 935,\n",
       "       936, 937, 938, 939, 940, 941, 942, 943, 944, 945, 946, 947, 948,\n",
       "       949, 950, 951, 952, 953, 954, 955, 956, 957, 958, 959, 960, 961,\n",
       "       962, 963, 964, 965, 966, 967, 968, 969, 970, 971, 972, 973, 974,\n",
       "       975, 976, 977, 978, 979, 980, 981, 982, 983, 984, 985, 986, 987,\n",
       "       988, 989, 990, 991, 992, 993, 994, 995, 996, 997, 998, 999])"
      ]
     },
     "execution_count": 19,
     "metadata": {},
     "output_type": "execute_result"
    }
   ],
   "source": [
    "#인스턴스 상태 \n",
    "\n",
    "a = np.array([0,1,2,3,4,5,6,7,8,9]) #ndarray  #ndarray와 np가 가진 명령 거의 동일 \n",
    "print(id(a)) #python core 주소값 확인\n",
    "print(a.size)#데이터 개수\n",
    "print(a.astype(np.float32))#데이터 타입 변경, numpy 행중심, 동질적\n",
    "print(a.dtype.itemsize*a.size) #전체 메모리 사이즈 (바이트)\n",
    "\n",
    "#iterator  python 에서는 for in range 사용: list 생성\n",
    "a= np.arange(1000)  #arange 는 ndarray 생성\n",
    "a"
   ]
  },
  {
   "cell_type": "markdown",
   "metadata": {},
   "source": [
    "# ndarray "
   ]
  },
  {
   "cell_type": "code",
   "execution_count": 22,
   "metadata": {},
   "outputs": [
    {
     "name": "stdout",
     "output_type": "stream",
     "text": [
      "[[0. 0. 0. 0.]\n",
      " [0. 0. 0. 0.]\n",
      " [0. 0. 0. 0.]]\n",
      "[[[1 1 1 1]\n",
      "  [1 1 1 1]\n",
      "  [1 1 1 1]]\n",
      "\n",
      " [[1 1 1 1]\n",
      "  [1 1 1 1]\n",
      "  [1 1 1 1]]]\n",
      "[[7 7]\n",
      " [7 7]]\n",
      "[[1. 0. 0. 0.]\n",
      " [0. 1. 0. 0.]\n",
      " [0. 0. 1. 0.]\n",
      " [0. 0. 0. 1.]]\n",
      "[[0.00000000e+000 0.00000000e+000]\n",
      " [0.00000000e+000 0.00000000e+000]\n",
      " [0.00000000e+000 6.87739379e-321]\n",
      " [1.10343781e-312 8.70018274e-313]]\n"
     ]
    }
   ],
   "source": [
    "#ndarray 초기화 함수\n",
    "print(np.zeros((3,4))) #0\n",
    "print(np.ones((2,3,4),dtype=np.int16)) #1,3차원 면,행,열\n",
    "print(np.full((2,2),7))  #2x2를 7로 채워라 \n",
    "print(np.eye(4))  #대각행렬 identity _대각으로 전부 1   #행렬연산에서 항등원 \n",
    "print(np.empty((4,2)))  #쓰레기 값 "
   ]
  },
  {
   "cell_type": "code",
   "execution_count": 24,
   "metadata": {},
   "outputs": [
    {
     "name": "stdout",
     "output_type": "stream",
     "text": [
      "[1, 5, -1]\n",
      "[ 0 10 20 30 40 50 60 70 80 90]\n",
      "[10 50 90]\n"
     ]
    }
   ],
   "source": [
    "a= np.arange(0,100,10)  #ndarray  (처음값,끝값,중간값)\n",
    "indices = [1,5,-1]  #list\n",
    "print(indices)\n",
    "b = a[indices] #리스트를 첨자로 사용\n",
    "print(a)\n",
    "print(b)"
   ]
  },
  {
   "cell_type": "code",
   "execution_count": null,
   "metadata": {},
   "outputs": [],
   "source": []
  },
  {
   "cell_type": "code",
   "execution_count": 31,
   "metadata": {},
   "outputs": [
    {
     "name": "stdout",
     "output_type": "stream",
     "text": [
      "[11 12 13 14 15 16 17 18 19 20 21 22 23 24 25 26 27 28 29 30 31 32 33 34\n",
      " 35]\n",
      "[[11 12 13 14 15]\n",
      " [16 17 18 19 20]\n",
      " [21 22 23 24 25]\n",
      " [26 27 28 29 30]\n",
      " [31 32 33 34 35]]\n",
      "<class 'numpy.ndarray'>\n",
      "int32\n",
      "(5, 5)\n",
      "2\n",
      "100\n",
      "(20, 4)\n"
     ]
    }
   ],
   "source": [
    "a = np.arange(11,36)\n",
    "print(a) #1차원\n",
    "a.shape=(5,5)  #5x5로 바꿔라  #갯수가 안맞으면 오류남 ( 5x5 = 25개)\n",
    "print(a)\n",
    "print(type(a)) \n",
    "print(a.dtype) #ndarray의 속성\n",
    "print(a.shape) #차수 (5,5)\n",
    "print(a.ndim)  #2차원\n",
    "print(a.nbytes) #100바이트 = 25개*4바이트\n",
    "print(a.strides) # (20,4) => 다음 행과 다음 열의 데이터는 몇바이트를 건너 뛰어야하는가 \n",
    "                 #컴퓨터에는 데이터가 일렬로 쭉  되어있기 때문에"
   ]
  },
  {
   "cell_type": "code",
   "execution_count": 32,
   "metadata": {},
   "outputs": [
    {
     "name": "stdout",
     "output_type": "stream",
     "text": [
      "<class 'numpy.ndarray'>\n",
      "[0 1 2 3 4 5 6 7 8 9]\n",
      "5\n",
      "[5 6 7]\n",
      "[ 1  2  3  4 12]\n"
     ]
    }
   ],
   "source": [
    "arr=np.arange(10) # 0~9\n",
    "print(type(arr))\n",
    "print(arr)\n",
    "print(arr[5])  #indexing \n",
    "print(arr[5:8]) #마지막 불보험\n",
    "arr[5:8]=12  #5에서 8까지 데이터 업데이트 \n",
    "print(arr[1:6])"
   ]
  },
  {
   "cell_type": "code",
   "execution_count": 36,
   "metadata": {},
   "outputs": [
    {
     "name": "stdout",
     "output_type": "stream",
     "text": [
      "[1 2 3]\n",
      "3\n",
      "3\n",
      "[[1 2 3]\n",
      " [4 5 6]]\n",
      "[[2 3]\n",
      " [5 6]]\n",
      "[[2 3]\n",
      " [5 6]\n",
      " [8 9]]\n",
      "[4 5]\n",
      "[7]\n",
      "[[0 2 3]\n",
      " [0 5 6]\n",
      " [7 8 9]]\n"
     ]
    }
   ],
   "source": [
    "#numpy 첨자 생략 불가  eg) R에서 [,4]\n",
    "arr2d = np.array([[1,2,3],[4,5,6],[7,8,9]])\n",
    "print(arr2d[0])  #행우선 \n",
    "print(arr2d[0][2]) #0행 2열\n",
    "print(arr2d[0,2])  #0행 2열\n",
    "print(arr2d[:2]) #0,1행  #  : 앞에오면 처음부터 : 뒤에오면 끝까지 \n",
    "print(arr2d[:2,1:])\n",
    "print(arr2d[:,1:])  #모든행\n",
    "print(arr2d[1,:2])\n",
    "print(arr2d[2,:1])\n",
    "arr2d[:2,:1]=0\n",
    "arr2d[:2,:1]=0\n",
    "print(arr2d)"
   ]
  },
  {
   "cell_type": "code",
   "execution_count": 39,
   "metadata": {},
   "outputs": [
    {
     "name": "stdout",
     "output_type": "stream",
     "text": [
      "스트라이드의 값 : (160, 40, 8)\n"
     ]
    },
    {
     "data": {
      "text/plain": [
       "(160, 40, 8)"
      ]
     },
     "execution_count": 39,
     "metadata": {},
     "output_type": "execute_result"
    }
   ],
   "source": [
    "#사람이 데이터를 다루는 것은 입체로 하지만 실제 저장은 일렬로 한다\n",
    "#행렬 연산에서 앞의 행렬열수와 뒤의 행렬의 행수를  일치 시켜야 행렬 곱이 가능\n",
    "#행렬 곱에서 행렬 앞뒤로 바꾸면 안된다 \n",
    "\n",
    "print(\"스트라이드의 값 :\",np.ones((3,4,5),dtype=np.float64).strides)\n",
    "(160,40,8) #단일 데이터 float 64 : 8바이트\n"
   ]
  },
  {
   "cell_type": "code",
   "execution_count": 55,
   "metadata": {},
   "outputs": [
    {
     "name": "stdout",
     "output_type": "stream",
     "text": [
      "[[[ 1  2  3]\n",
      "  [ 4  5  6]]\n",
      "\n",
      " [[ 7  8  9]\n",
      "  [10 11 12]]]\n",
      "\n",
      "첫면은 [[1 2 3]\n",
      " [4 5 6]]\n",
      "\n",
      "첫면 첫행은 = [1 2 3]\n",
      "\n",
      "첫 요소는 =  1\n",
      "\n"
     ]
    },
    {
     "data": {
      "text/plain": [
       "12"
      ]
     },
     "execution_count": 55,
     "metadata": {},
     "output_type": "execute_result"
    }
   ],
   "source": [
    "#문제\n",
    "\n",
    "arr3d = np.array([[[1,2,3],[4,5,6]],[[7,8,9],[10,11,12]]])  #2면,2행,3열 \n",
    "print(arr3d)\n",
    "print()\n",
    "print('첫면은', arr3d[0])  #0번면\n",
    "print()\n",
    "print('첫면 첫행은 =',arr3d[0][0])\n",
    "print()\n",
    "print('첫 요소는 = ',arr3d[0][0][0])\n",
    "print()\n",
    "\n",
    "#8을 출력하시오\n",
    "\n",
    "arr3d[1][0][1]\n",
    "\n",
    "#12를 출력하시오 \n",
    "arr3d[1][1][2]\n",
    "\n"
   ]
  },
  {
   "cell_type": "markdown",
   "metadata": {},
   "source": [
    "# numpy 백업"
   ]
  },
  {
   "cell_type": "code",
   "execution_count": 54,
   "metadata": {},
   "outputs": [
    {
     "name": "stdout",
     "output_type": "stream",
     "text": [
      "값의 변경 후 \n",
      "[[[42 42 42]\n",
      "  [42 42 42]]\n",
      "\n",
      " [[ 7  8  9]\n",
      "  [10 11 12]]]\n",
      "이전 값으로 복구\n",
      "[[[42 42 42]\n",
      "  [42 42 42]]\n",
      "\n",
      " [[ 7  8  9]\n",
      "  [10 11 12]]]\n"
     ]
    }
   ],
   "source": [
    "old_values=arr3d  #파이썬에서의 대입 :  주소를 복사 \n",
    "arr3d[0]=42\n",
    "print(\"값의 변경 후 \")\n",
    "print(arr3d)\n",
    "print('이전 값으로 복구')\n",
    "arr3d= old_values   #원본이 사라짐 _ 바꿔도 백업이 불가능함 _ 대입하면 주소가 복사되기 때문 \n",
    "print(arr3d)\n"
   ]
  },
  {
   "cell_type": "code",
   "execution_count": 56,
   "metadata": {},
   "outputs": [
    {
     "name": "stdout",
     "output_type": "stream",
     "text": [
      "값의 변경 후 \n",
      "[[[42 42 42]\n",
      "  [42 42 42]]\n",
      "\n",
      " [[ 7  8  9]\n",
      "  [10 11 12]]]\n",
      "이전 값으로 복구\n",
      "[[[ 1  2  3]\n",
      "  [ 4  5  6]]\n",
      "\n",
      " [[ 7  8  9]\n",
      "  [10 11 12]]]\n"
     ]
    }
   ],
   "source": [
    "#복구\n",
    "old_values=arr3d.copy()  #복구가능한 함수 \n",
    "arr3d[0]=42\n",
    "print(\"값의 변경 후 \")\n",
    "print(arr3d)\n",
    "print('이전 값으로 복구')\n",
    "arr3d= old_values   #복구가능 \n",
    "print(arr3d)"
   ]
  },
  {
   "cell_type": "code",
   "execution_count": 60,
   "metadata": {},
   "outputs": [
    {
     "name": "stdout",
     "output_type": "stream",
     "text": [
      "[[ 0  1  2  3  4  5]\n",
      " [ 6  7  8  9 10 11]\n",
      " [12 13 14 15 16 17]\n",
      " [18 19 20 21 22 23]\n",
      " [24 25 26 27 28 29]\n",
      " [30 31 32 33 34 35]]\n",
      "\n",
      "[[[ 0  1  2  3  4  5]\n",
      "  [ 6  7  8  9 10 11]\n",
      "  [12 13 14 15 16 17]]\n",
      "\n",
      " [[18 19 20 21 22 23]\n",
      "  [24 25 26 27 28 29]\n",
      "  [30 31 32 33 34 35]]]\n"
     ]
    }
   ],
   "source": [
    "Z=np.arange(36)\n",
    "Z=Z.reshape((6,6))  #6x6\n",
    "print(Z)\n",
    "print()\n",
    "reshape2= Z.reshape((2,3,6))  #2면 3행 6열\n",
    "print(reshape2)"
   ]
  },
  {
   "cell_type": "code",
   "execution_count": 65,
   "metadata": {
    "collapsed": true
   },
   "outputs": [
    {
     "name": "stdout",
     "output_type": "stream",
     "text": [
      "[[ 0  1  2  3]\n",
      " [ 4  5  6  7]\n",
      " [ 8  9 10 11]\n",
      " [12 13 14 15]\n",
      " [16 17 18 19]\n",
      " [20 21 22 23]\n",
      " [24 25 26 27]\n",
      " [28 29 30 31]]\n",
      "\n",
      "[[ 4  5  6  7]\n",
      " [20 21 22 23]\n",
      " [28 29 30 31]\n",
      " [ 8  9 10 11]]\n",
      "\n",
      "[[28 29 30 31]\n",
      " [12 13 14 15]\n",
      " [ 4  5  6  7]\n",
      " [24 25 26 27]]\n",
      "\n",
      "[ 4 23 29 10]\n",
      "[[ 4  5  6  7]\n",
      " [ 8  9 10 11]\n",
      " [20 21 22 23]\n",
      " [28 29 30 31]]\n",
      "\n",
      "[[ 4  7  5  6]\n",
      " [20 23 21 22]\n",
      " [28 31 29 30]\n",
      " [ 8 11  9 10]]\n",
      "\n"
     ]
    }
   ],
   "source": [
    "arr=np.arange(32).reshape((8,4))\n",
    "print(arr)\n",
    "print()\n",
    "print(arr[[1,5,7,2]]) #행중심 인덱싱 _행 뽑기\n",
    "print()\n",
    "print(arr[[-1,-5,-7,-2]]) #뒤에서부터 인덱싱\n",
    "print()\n",
    "print(arr[[1,5,7,2],[0,3,1,2]])  #앞괄호 와 뒷괄호 하나씩 매칭 _ 1행0열  5행3열\n",
    "#fancy 인덱싱 \n",
    "print(arr[[1,2,5,7]][:,[0,1,2,3]])  #먼저 1,2,5,7행을 뽑고/  그것에 대하여 행렬 인덱싱\n",
    "print()\n",
    "print(arr[[1,5,7,2]][:,[0,3,1,2]])\n",
    "print()\n"
   ]
  },
  {
   "cell_type": "code",
   "execution_count": 66,
   "metadata": {},
   "outputs": [
    {
     "name": "stdout",
     "output_type": "stream",
     "text": [
      "[[0, 1, 2, 3, 4, 5], [10, 11, 12, 13, 14, 15], [20, 21, 22, 23, 24, 25], [30, 31, 32, 33, 34, 35], [40, 41, 42, 43, 44, 45], [50, 51, 52, 53, 54, 55]]\n"
     ]
    }
   ],
   "source": [
    "arr=[]\n",
    "for i in range(6):\n",
    "    ad=[]\n",
    "    for j in range(6):\n",
    "        ad.append(i*10+j)  #i*10+j가 위치를 찾을 때 쓰는 식\n",
    "    arr.append(ad)\n",
    "print(arr)\n",
    "arr=np.array(arr)"
   ]
  },
  {
   "cell_type": "markdown",
   "metadata": {},
   "source": [
    "# 해당블락 추출"
   ]
  },
  {
   "cell_type": "code",
   "execution_count": 77,
   "metadata": {},
   "outputs": [
    {
     "name": "stdout",
     "output_type": "stream",
     "text": [
      "[[ 0  1  2  3  4  5]\n",
      " [10 11 12 13 14 15]\n",
      " [20 21 22 23 24 25]\n",
      " [30 31 32 33 34 35]\n",
      " [40 41 42 43 44 45]\n",
      " [50 51 52 53 54 55]]\n",
      " orange : [[ 0  1  2  3  4  5]\n",
      " [10 11 12 13 14 15]\n",
      " [20 21 22 23 24 25]\n",
      " [30 31 32 33 34 35]\n",
      " [40 41 42 43 44 45]\n",
      " [50 51 52 53 54 55]]\n",
      "red : [ 2 22 52]\n"
     ]
    }
   ],
   "source": [
    "\n",
    "arr=np.array(arr).reshape((6,6))\n",
    "print(arr)\n",
    "#orange\n",
    "print(' orange :', arr[[0,1,2,3,4],[1,2,3,4,5]])\n",
    "\n",
    "#red\n",
    "arr[[0,2,5],[2,2,2]]\n",
    "arr[[0,1,2,3,4],[1,2,3,4,5]]\n",
    "\n",
    "\n",
    "#blue\n",
    "arr[3:6][:,[0,2,5]]"
   ]
  },
  {
   "cell_type": "code",
   "execution_count": 88,
   "metadata": {},
   "outputs": [
    {
     "name": "stdout",
     "output_type": "stream",
     "text": [
      "[ 2 22 32 42 52]\n",
      "[ 2 12 22 32 42 52]\n",
      "[3 4]\n",
      "[[20 22 24]\n",
      " [40 42 44]]\n",
      "[[44 45]\n",
      " [54 55]]\n"
     ]
    }
   ],
   "source": [
    "#빨간색\n",
    "print(arr[[0,2,3,4,5],2])\n",
    "print(arr[:,2])\n",
    "\n",
    "#주황색\n",
    "print(arr[0,[3,4]])\n",
    "\n",
    "\n",
    "#연두색  #2,4행 뽑고 거기에 인덱싱\n",
    "print(arr[[2,4]][:,[0,2,4]])\n",
    "\n",
    "#청록\n",
    "print(arr[4:][:,[4,5]])"
   ]
  },
  {
   "cell_type": "code",
   "execution_count": 95,
   "metadata": {},
   "outputs": [
    {
     "name": "stdout",
     "output_type": "stream",
     "text": [
      "[[ 1  2  3]\n",
      " [ 4  5  6]\n",
      " [ 7  8  9]\n",
      " [10 11 12]]\n",
      "\n",
      "[1 0 1]\n",
      "\n",
      "타일출력\n",
      "[[1 0 1]\n",
      " [1 0 1]\n",
      " [1 0 1]\n",
      " [1 0 1]]\n",
      "\n",
      "[[ 2  2  4]\n",
      " [ 5  5  7]\n",
      " [ 8  8 10]\n",
      " [11 11 13]]\n",
      "\n",
      "[[ 2  2  4]\n",
      " [ 5  5  7]\n",
      " [ 8  8 10]\n",
      " [11 11 13]]\n"
     ]
    },
    {
     "data": {
      "text/plain": [
       "array([[ 4,  5,  6],\n",
       "       [ 7,  8,  9],\n",
       "       [10, 11, 12],\n",
       "       [13, 14, 15]])"
      ]
     },
     "execution_count": 95,
     "metadata": {},
     "output_type": "execute_result"
    }
   ],
   "source": [
    "x = np.array([[1,2,3],[4,5,6],[7,8,9],[10,11,12]])\n",
    "print(x)\n",
    "print()\n",
    "v = np.array([1,0,1])\n",
    "print(v)\n",
    "print()\n",
    "print('타일출력')\n",
    "vv = np.tile(v,(4,1))  #v를 행으로 4번 열로 1번 _  타일처럼 !\n",
    "print(vv) # 4x3\n",
    "print()\n",
    "y = x+vv  #배열연산 ( 요소별로 연산)\n",
    "print(y)\n",
    "print()\n",
    "#배열연산 : 양쪽 차원이 일치해야함 \n",
    "print(x+v)   #4x3 , 1x3 broadcasting :  찻수가 안맞지만  1x3을 4번 반복하여 이를 맞춰줌\n",
    "x+3"
   ]
  },
  {
   "cell_type": "code",
   "execution_count": 132,
   "metadata": {},
   "outputs": [
    {
     "name": "stdout",
     "output_type": "stream",
     "text": [
      "1 [[0 1]\n",
      " [2 3]\n",
      " [4 5]]\n",
      "[[0 2 4]\n",
      " [1 3 5]]\n",
      "결과 [[ 1  3  5]\n",
      " [ 3 13 23]\n",
      " [ 5 23 41]]\n",
      "[[0 2 4]\n",
      " [1 3 5]]\n"
     ]
    }
   ],
   "source": [
    "x = np.arange(6).reshape((3,2))\n",
    "print('1',x)\n",
    "\n",
    "print(x.T)\n",
    "#거듭제곱(행열 곱)\n",
    "#x@x #앞의 행열 열수와 뒤의 행열의 행수가 일치\n",
    "#(3x2)@(2x3) 이라서 오류   \n",
    "#(3x2)@(3x2) 로 뒷 행열 형태 바꿔주기 _ 전치행렬\n",
    "\n",
    "print('결과',x@x.T)\n",
    "\n",
    "print(np.transpose(x))"
   ]
  },
  {
   "cell_type": "code",
   "execution_count": 110,
   "metadata": {},
   "outputs": [
    {
     "name": "stdout",
     "output_type": "stream",
     "text": [
      "[[[ 0  1  2  3]\n",
      "  [ 4  5  6  7]\n",
      "  [ 8  9 10 11]]\n",
      "\n",
      " [[12 13 14 15]\n",
      "  [16 17 18 19]\n",
      "  [20 21 22 23]]]\n",
      "ㅇㅅㅇ\n",
      "[[[ 0  1  2  3]\n",
      "  [12 13 14 15]]\n",
      "\n",
      " [[ 4  5  6  7]\n",
      "  [16 17 18 19]]\n",
      "\n",
      " [[ 8  9 10 11]\n",
      "  [20 21 22 23]]]\n",
      "[[[ 0  4  8]\n",
      "  [ 1  5  9]\n",
      "  [ 2  6 10]\n",
      "  [ 3  7 11]]\n",
      "\n",
      " [[12 16 20]\n",
      "  [13 17 21]\n",
      "  [14 18 22]\n",
      "  [15 19 23]]]\n"
     ]
    }
   ],
   "source": [
    "arr = np.arange(24).reshape((2,3,4))  #2면 3행 4열  #index(0,1,2)\n",
    "print(arr)\n",
    "print(\"ㅇㅅㅇ\")\n",
    "print(arr.transpose((1,0,2)))  #index번호 /  면과 행을 바꿔라 -> # 3면 2행 4열\n",
    "print(arr.transpose(0,2,1))   #2면 4행 3열"
   ]
  },
  {
   "cell_type": "markdown",
   "metadata": {},
   "source": [
    "# Boolean Indexing I ( True/False) _ 자주 쓰임\n",
    "\n"
   ]
  },
  {
   "cell_type": "code",
   "execution_count": 133,
   "metadata": {},
   "outputs": [
    {
     "name": "stdout",
     "output_type": "stream",
     "text": [
      "[[-0.05327024  0.62128188  1.44504328  0.51089608]\n",
      " [-0.33415885 -2.06582844 -1.06211133  0.40326423]\n",
      " [-0.13473302  0.63476107  0.53870167 -0.94065908]\n",
      " [-0.3470325  -1.19315181 -1.35554542 -0.4441783 ]\n",
      " [-0.44544675 -1.33008419  0.6282063  -0.05220443]\n",
      " [-1.25626306 -0.53035894  1.13031821 -0.6784283 ]\n",
      " [ 0.69014083  1.20264523  1.14386642 -1.17951828]]\n",
      "서울이냐 [ True False False False False False False]\n",
      "[[-0.05327024  0.62128188  1.44504328  0.51089608]]\n",
      "[[1.44504328 0.51089608]]\n",
      "[0.51089608]\n",
      "[False  True  True  True  True  True  True]\n",
      "[False  True  True  True  True  True  True]\n",
      "[ True False  True False  True False False]\n",
      "[[-0.05327024  0.62128188  1.44504328  0.51089608]\n",
      " [-0.13473302  0.63476107  0.53870167 -0.94065908]\n",
      " [-0.44544675 -1.33008419  0.6282063  -0.05220443]]\n"
     ]
    }
   ],
   "source": [
    "names = np.array(['Seoul','Daejeon','chungju','seoul','chungju','daejeon','daejeon'])\n",
    "data = np.random.randn(7,4)\n",
    "print(data)\n",
    "print('서울이냐',names=='Seoul') #1,0,0,0,0,0,0\n",
    "print(data[names == 'Seoul']) #0번행 \n",
    "print(data[names == 'Seoul',2:]) #첫번째 행중에서 2번째 열부터 끝까지\n",
    "print(data[names == 'Seoul',3])  #첫번째행 3열\n",
    "print(names != 'Seoul') #서울이 아닌것 #0,1,1,1,1,1,1\n",
    "print(~(names=='Seoul')) #전체의 부정\n",
    "mask=(names =='Seoul')|(names=='chungju')\n",
    "print(mask)\n",
    "print(data[mask])"
   ]
  },
  {
   "cell_type": "code",
   "execution_count": 126,
   "metadata": {},
   "outputs": [
    {
     "name": "stdout",
     "output_type": "stream",
     "text": [
      "<zip object at 0x0000016F5C7FECC8>\n",
      "[(1.1, 2.1, True), (1.2, 2.2, False), (1.3, 2.3, True), (1.4, 2.4, True), (1.5, 2.5, False)]\n",
      "result = [1.1, 2.2, 1.3, 1.4, 2.5]\n",
      "[1.1 2.2 1.3 1.4 2.5]\n",
      "[[-1.24661291  0.16305043  0.74820164  1.88582977]\n",
      " [-1.00582857  0.68483968 -0.03481266 -1.31011227]\n",
      " [-2.51600604  1.00860683 -0.10181619 -0.97829697]\n",
      " [ 0.05264737 -2.32042525 -0.84085195 -0.4917549 ]]\n",
      "[[-2  2  2  2]\n",
      " [-2  2 -2 -2]\n",
      " [-2  2 -2 -2]\n",
      " [ 2 -2 -2 -2]]\n"
     ]
    }
   ],
   "source": [
    "xarr = np.array([1.1,1.2,1.3,1.4,1.5])\n",
    "yarr = np.array([2.1,2.2,2.3,2.4,2.5])\n",
    "cond = np.array([True,False,True,True,False])\n",
    "print(zip(xarr,yarr,cond)) # zip : 요소별 데이터를 묶는 것 _ zip은 출력 불가 \n",
    "print(list(zip(xarr,yarr,cond)))   #list로 바꿔서 !\n",
    "result = [( x if c else y)for x,y,c in zip (xarr,yarr,cond)]  #3항 연산자 \n",
    "\n",
    "print('result =',result)\n",
    "\n",
    "\n",
    "#numpy 제공 where 문\n",
    "\n",
    "result = np.where(cond,xarr,yarr)  #참이면 x값 거짓이면 y값\n",
    "print(result)\n",
    "\n",
    "arr= np.random.randn(4,4)\n",
    "print(arr)\n",
    "print(np.where(arr>0,2,-2))"
   ]
  },
  {
   "cell_type": "code",
   "execution_count": null,
   "metadata": {},
   "outputs": [],
   "source": [
    "#문제 ) \n",
    "#다음 데이터를 이용하여 두개다 참일때는0,cond1이 참일 때는 1. cond2가 참일 때는 2\n",
    "#그 외일 때는 3으로 처리하여 출력하시오 "
   ]
  },
  {
   "cell_type": "code",
   "execution_count": 143,
   "metadata": {},
   "outputs": [
    {
     "name": "stdout",
     "output_type": "stream",
     "text": [
      "조건문 [1, 2, 0, 0, 3, 2, 0]\n",
      "3항 연산자 [1 2 0 0 3 2 0]\n",
      "수식을 이용한 [1 2 0 0 3 2 0]\n"
     ]
    }
   ],
   "source": [
    "result=[]\n",
    "cond1 = np.array([1,0,1,1,0,0,1],dtype = bool)\n",
    "\n",
    "cond2 = np.array([0,1,1,1,0,1,1],dtype = bool)\n",
    "\n",
    "\n",
    "\n",
    "for i in range(len(cond1)):\n",
    "    if (cond1[i] and cond2[i]):\n",
    "        result.append(0)    \n",
    "    elif cond1[i]:\n",
    "        result.append(1)\n",
    "    elif cond2[i]:\n",
    "        result.append(2)\n",
    "    else:\n",
    "        result.append(3)\n",
    "print('조건문',result)        \n",
    "\n",
    "result1 = np.where(cond1&cond2,0,np.where(cond1,1,np.where(cond2,2,3))) \n",
    "\n",
    "print('3항 연산자',result1)\n",
    "\n",
    "\n",
    "result2 = 1*(cond1&~cond2) +2*(cond2 & ~cond1) + 3* ~(cond1|cond2)\n",
    "print('수식을 이용한',result2)"
   ]
  },
  {
   "cell_type": "code",
   "execution_count": 146,
   "metadata": {},
   "outputs": [
    {
     "name": "stdout",
     "output_type": "stream",
     "text": [
      "[10001 10002 10003 ... 19998 19999 20000]\n"
     ]
    }
   ],
   "source": [
    "x = np.arange(1,10001)\n",
    "y = np.arange(10001,20001)\n",
    "\n",
    "print(y)\n",
    "\n",
    "z= np.zeros_like(x)  #다른 행렬과 같은 사이즈로 초기화\n",
    "for i in range(10000):\n",
    "    z[i]=x[i]+y[i]"
   ]
  },
  {
   "cell_type": "code",
   "execution_count": 147,
   "metadata": {},
   "outputs": [
    {
     "name": "stdout",
     "output_type": "stream",
     "text": [
      "False\n",
      "[ 2.71828183  7.3890561  20.08553692 54.59815003]\n"
     ]
    }
   ],
   "source": [
    "a = np.array([1,2,3,4])\n",
    "b = np.array([4,2,2,4]) \n",
    "print(np.all(a==b))  #전체가 참일 때 참\n",
    "print(np.exp(a)) #하나라도 참이면 참\n",
    "print(np.exp(a)) #지수함수(자연대수 : 2.718) _ y값을 모를 때 스는 explonent"
   ]
  },
  {
   "cell_type": "code",
   "execution_count": null,
   "metadata": {},
   "outputs": [],
   "source": [
    "#선형대수 : 선형으로 해결하자 -> 비선형도 잘게 나누면 선형"
   ]
  },
  {
   "cell_type": "markdown",
   "metadata": {},
   "source": [
    "# 행렬의 종류\n"
   ]
  },
  {
   "cell_type": "code",
   "execution_count": null,
   "metadata": {},
   "outputs": [],
   "source": [
    "# 정방행렬 : 정사각형 (행과 열의 수가 같은 행렬)\n",
    "# 대칭행렬 : 우상단과 좌하단이 같은 행렬 _ 거리값행렬,공분행렬,상관행렬 모두 대칭\n",
    "# 대각행렬 : 대각은 scale 을 변화시키는 요소이다\n",
    "# 단위행렬(identity) : 행렬 곱의 항등원  # 행렬과 역행렬을 곱하면 단위행렬( 기존 행렬 x 기존의 행렬의 분수 )\n",
    "# 역행렬 : 행렬의 나눗셈을 위해, 구해서 곱해지는 행렬  ( 역행렬은 정방행렬만 가능하다.)\n",
    "# 특이행렬 : 역행렬이 없는 행렬\n",
    "# 직교행렬 : 축의 정직교 , 각 축간의 내적이 0인 행렬 \n",
    "# 정방행렬이면서 대칭행렬 : 공분산행렬, 상관게수행렬, 거리행렬\n",
    "# 공분산 : 두수간의 관계 . ((숫자:A-평균) * (숫자:B -평균))/ (n-1)\n",
    "# 상관계수(표준화 : -1 ~ +1 사이의 수) : 공분산 / 표준편차의 곱 "
   ]
  },
  {
   "cell_type": "code",
   "execution_count": 153,
   "metadata": {},
   "outputs": [
    {
     "name": "stdout",
     "output_type": "stream",
     "text": [
      "[[1 2]\n",
      " [3 4]]\n",
      "\n",
      "[[2 2]\n",
      " [2 2]]\n",
      "\n",
      "[[3 4]\n",
      " [5 6]]\n",
      "\n",
      "[[2 4]\n",
      " [6 8]]\n",
      "\n",
      "[[ 6  6]\n",
      " [14 14]]\n"
     ]
    }
   ],
   "source": [
    "import  numpy as np\n",
    "F1 = np.array([[1,2],[3,4]])\n",
    "F2 = np.array([[2,2],[2,2]])\n",
    "\n",
    "print(F1)\n",
    "print()\n",
    "print(F2)\n",
    "print()\n",
    "\n",
    "print(F1 + F2) #요소끼리\n",
    "print()\n",
    "print(F1 * F2)\n",
    "print()\n",
    "print(F1 @ F2) #행열곱도 내적 _ 곱해서 더함 _ 두벡터의 사이각을 구해 차원 확장\n",
    "\n",
    "\n",
    "#차원 축소나 확장은 순차적으로 이루어져야한다 _ 한꺼번에 이루어질 경우 데이터 손실 가능성 有"
   ]
  },
  {
   "cell_type": "markdown",
   "metadata": {},
   "source": [
    "# 방정식"
   ]
  },
  {
   "cell_type": "markdown",
   "metadata": {},
   "source": [
    "#방정식의 해\n",
    "\n",
    "2 X1 + X2 -2 X3 = -3\n",
    "3 X1 +       X3 = 5 \n",
    "X1  + X2 - X3   =-2"
   ]
  },
  {
   "cell_type": "code",
   "execution_count": 155,
   "metadata": {},
   "outputs": [
    {
     "name": "stdout",
     "output_type": "stream",
     "text": [
      "[[ 2  1 -2]\n",
      " [ 3  0  1]\n",
      " [ 1  1 -1]]\n",
      "[[-3]\n",
      " [ 5]\n",
      " [-2]]\n",
      "[[ 1.]\n",
      " [-1.]\n",
      " [ 2.]]\n"
     ]
    }
   ],
   "source": [
    "# X1 X2 X3 게수를 뽑아 온 것이 A\n",
    "\n",
    "A= np.array([[2,1,-2],[3,0,1],[1,1,-1]])\n",
    "print(A)\n",
    "b = np.transpose(np.array([[-3,5,-2]])) #열로 전치\n",
    "print(b\n",
    "      \n",
    "#solve 방법1     \n",
    "x= np.linalg.solve(A,b) #A의 역행렬을 구해서 b와 곱해줌\n",
    "#print(x)"
   ]
  },
  {
   "cell_type": "code",
   "execution_count": 156,
   "metadata": {},
   "outputs": [
    {
     "data": {
      "text/plain": [
       "array([[ 1.],\n",
       "       [-1.],\n",
       "       [ 2.]])"
      ]
     },
     "execution_count": 156,
     "metadata": {},
     "output_type": "execute_result"
    }
   ],
   "source": [
    "#dot 방법2\n",
    "\n",
    "np.dot(np.linalg.inv(A),b)  #행렬곱  #inv 는  역행렬 구해주는 함수 "
   ]
  },
  {
   "cell_type": "code",
   "execution_count": 157,
   "metadata": {},
   "outputs": [
    {
     "data": {
      "text/plain": [
       "array([[ 1.],\n",
       "       [-1.],\n",
       "       [ 2.]])"
      ]
     },
     "execution_count": 157,
     "metadata": {},
     "output_type": "execute_result"
    }
   ],
   "source": [
    "#방법3\n",
    "\n",
    "np.linalg.inv(A)@b   #왜역행렬을 구해야하는가 ? 행렬은 나눗셈이 없어서 역행렬 곱해서 처리 "
   ]
  },
  {
   "cell_type": "code",
   "execution_count": 159,
   "metadata": {},
   "outputs": [
    {
     "data": {
      "text/plain": [
       "-3"
      ]
     },
     "execution_count": 159,
     "metadata": {},
     "output_type": "execute_result"
    }
   ],
   "source": [
    "#검산 \n",
    "\n",
    "2*1 + (-1) -2*2"
   ]
  },
  {
   "cell_type": "code",
   "execution_count": 160,
   "metadata": {},
   "outputs": [
    {
     "name": "stdout",
     "output_type": "stream",
     "text": [
      "0\n"
     ]
    }
   ],
   "source": [
    "a = np.array([0,1,0]) #y 축\n",
    "b = np.array([1,0,0]) #x 축\n",
    "res = np.dot(a,b)  #내적 사이각  0 도 나옴 => 직각\n",
    "print(res)"
   ]
  },
  {
   "cell_type": "code",
   "execution_count": 163,
   "metadata": {},
   "outputs": [
    {
     "name": "stdout",
     "output_type": "stream",
     "text": [
      "1.0\n",
      "1.0\n",
      "1.0\n",
      "cos theta 0.0\n",
      "1.5707963267948966\n",
      "90.0\n"
     ]
    }
   ],
   "source": [
    "print(np.linalg.norm(a)) # norm :벡터의 크기 \n",
    "print(np.linalg.norm(b))\n",
    "print(np.linalg.norm(a) * np.linalg.norm(b))\n",
    "rad = res / (np.linalg.norm(a) * np.linalg.norm(b)) #cos(theta)\n",
    "print('cos theta', rad)\n",
    "print(np.arccos(rad)) #theta 값을 구함\n",
    "print(np.degrees(np.arccos(rad))) #사람이 알아보는 각도로 표현 "
   ]
  },
  {
   "cell_type": "code",
   "execution_count": 165,
   "metadata": {},
   "outputs": [
    {
     "name": "stdout",
     "output_type": "stream",
     "text": [
      "[[1 2]\n",
      " [3 4]]\n",
      "[[-2.   1. ]\n",
      " [ 1.5 -0.5]]\n",
      "[[1.00000000e+00 1.11022302e-16]\n",
      " [0.00000000e+00 1.00000000e+00]]\n"
     ]
    }
   ],
   "source": [
    "x = np.array([[1,2],[3,4]])\n",
    "y = np.linalg.inv(x)\n",
    "print(x)\n",
    "print(y)\n",
    "print(np.dot(x,y))"
   ]
  },
  {
   "cell_type": "markdown",
   "metadata": {},
   "source": [
    "#다음 방정식의 해를 구하고 검산하시오\n",
    "\n",
    "x + y + z = 6\n",
    "2y +5z = -4\n",
    "2x  + 5y -z = 27"
   ]
  },
  {
   "cell_type": "code",
   "execution_count": 180,
   "metadata": {},
   "outputs": [
    {
     "name": "stdout",
     "output_type": "stream",
     "text": [
      "[[ 1  1  1]\n",
      " [ 0  2  5]\n",
      " [ 2  5 -1]]\n",
      "[[ 6]\n",
      " [-4]\n",
      " [27]]\n",
      "[[ 5.]\n",
      " [ 3.]\n",
      " [-2.]]\n",
      "[[ 5.]\n",
      " [ 3.]\n",
      " [-2.]]\n",
      "[[ 5.]\n",
      " [ 3.]\n",
      " [-2.]]\n"
     ]
    }
   ],
   "source": [
    "t = np.array([[1,1,1],[0,2,5],[2,5,-1]])\n",
    "print(t)\n",
    "i = np.transpose(np.array([[6,-4,27]]))\n",
    "print(i)\n",
    "\n",
    "#방법 1 \n",
    "\n",
    "x = np.linalg.solve(t,i)\n",
    "print(x)\n",
    "\n",
    "#방법 2\n",
    "x1 = np.dot(np.linalg.inv(t),i) \n",
    "print(x1)\n",
    "#방법 3\n",
    "x3 =np.linalg.inv(t)@i \n",
    "print(x3)"
   ]
  },
  {
   "cell_type": "code",
   "execution_count": 178,
   "metadata": {},
   "outputs": [
    {
     "data": {
      "text/plain": [
       "6"
      ]
     },
     "execution_count": 178,
     "metadata": {},
     "output_type": "execute_result"
    }
   ],
   "source": [
    "#검산 \n",
    "\n",
    "5+3+(-2)"
   ]
  },
  {
   "cell_type": "code",
   "execution_count": null,
   "metadata": {},
   "outputs": [],
   "source": []
  },
  {
   "cell_type": "code",
   "execution_count": null,
   "metadata": {},
   "outputs": [],
   "source": []
  },
  {
   "cell_type": "code",
   "execution_count": null,
   "metadata": {},
   "outputs": [],
   "source": []
  }
 ],
 "metadata": {
  "kernelspec": {
   "display_name": "Python 3",
   "language": "python",
   "name": "python3"
  },
  "language_info": {
   "codemirror_mode": {
    "name": "ipython",
    "version": 3
   },
   "file_extension": ".py",
   "mimetype": "text/x-python",
   "name": "python",
   "nbconvert_exporter": "python",
   "pygments_lexer": "ipython3",
   "version": "3.7.4"
  }
 },
 "nbformat": 4,
 "nbformat_minor": 2
}
