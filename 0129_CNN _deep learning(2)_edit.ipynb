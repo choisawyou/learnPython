{
 "cells": [
  {
   "cell_type": "markdown",
   "metadata": {},
   "source": [
    "# CNN ( Convolution Neural Network)_ 적분\n",
    "    _ cnn은 주변값을 고려하여 특징추출 _ 이것에 filter가 필요함 \n",
    "- 모델이 직접 이미지, 비디오, 텍스트 또는 사운드를 분류하는 머신 러닝의 한 유형인 딥러닝에 가장 많이 사용되는 알고리즘\\\n",
    "- CNN은 이미지에서 객체, 얼굴, 장면을 인식하기 위해 패턴을 찾는 데 특히 유용합니다. CNN은 데이터에서 직접 학습하며, 패턴을 사용하여 이미지를 분류하고 특징을 수동으로 추출할 필요가 없습니다.\n",
    "\n",
    "- 신경망의 기본은 ffnn이고 cnn은 앞단에서 특징추출 \n",
    "- cnn으로 특징추출하고 ffnn 실행\n",
    "\n",
    "**특징**\n",
    "- flattern 으로 일렬로 만들어줘야함\n",
    "- 이미지의 경우 일렬로 만들면 특징추출이 어려워진다 eg) 얼굴의 경우 눈 옆에 코 코옆에 입 이런식으로 \n",
    "    - 그래서 1 .이미지 원본에 filter적용_ 필터 사이즈가 크면 큰특징, 작으면 작은 특징 # 갯수 구하는 식은  -n+1 (n은 필터크기)\n",
    "    - 2. 이를 통해 필터의 주변이미지 특징값을 고려하여 곱합_ 중복되는 값이 생기기도함 \n",
    "    - 3. 이를 다 더해줌 : 적분과 비슷   \n",
    "    - 필터를 여러개 쌓아서 여러개의 특징을 뽑아냄\n",
    "    - random으로 초기화시키고 어떤필터를 적용시키면 될지 학습함 \n",
    "    - 특징을 필터로 뽑아내면 끝에 테두리 값은 없어진다 . 이것을 padding으로 값을 채움 100x100 => filter 98x98 => padding 100x100\n",
    "    -  pooling으로 강제로 줄여줌 _ max / average 등의 방법으로 pooling\n",
    "        - (필터를 통해 값을 추출하면 중복값이 생기기 때문에 줄여도 특징추출 문제 x)\n",
    "    - 이미지는 기본적으로 3차원 ( 가로 세로 RGB )\n",
    "        - 색상이 중요하지않은 이미지(형태가 중요한것)는 흑백으로 줄여서해야 사이즈 준다\n",
    "    - 필터를 증가시키는 이유는 여러 필터를 이용해서 특징 추출 / 이미 2차원을 적용하기위해서 3차원 값 도출\n",
    "         -  가중치를 부과하는 것과 비슷한 맥락?\n",
    "    - DEEP(레이어가 증가할수록)해질수록 정확해짐 \n",
    "    \n",
    "[중요개념 ]\n",
    "\n",
    "- stride : 연산자:건너뛰기 _특징을 추출할떄 이미 주변을 고려했기 때문에 한칸이 아닌 두칸세칸씩 건너뛰면서 특징추출 _ 적분연산\n",
    "- filter : 특징을 어떻게 추출할것인지  _ 필터 사이즈 때문에 주변값 손실해서\n",
    "- padding:으로 주변값으로  채워줌\n",
    "- pooling 주변값을 고려해서 특징추출해서 중복값 발생_ 그래서 값을 줄여줌"
   ]
  },
  {
   "cell_type": "markdown",
   "metadata": {},
   "source": [
    "# FFNN\n",
    "\n",
    "- 이미지의 숫자 예측\n",
    "- 0~ 9까지의 숫자를 이미지화_ 인식 eg 자동차 번호판"
   ]
  },
  {
   "cell_type": "markdown",
   "metadata": {},
   "source": [
    "## MNIST `모델만들기"
   ]
  },
  {
   "cell_type": "code",
   "execution_count": 50,
   "metadata": {},
   "outputs": [],
   "source": [
    "import warnings\n",
    "warnings.filterwarnings(action='ignore')"
   ]
  },
  {
   "cell_type": "code",
   "execution_count": 51,
   "metadata": {},
   "outputs": [
    {
     "name": "stdout",
     "output_type": "stream",
     "text": [
      "Extracting /tmp/data/train-images-idx3-ubyte.gz\n",
      "Extracting /tmp/data/train-labels-idx1-ubyte.gz\n",
      "Extracting /tmp/data/t10k-images-idx3-ubyte.gz\n",
      "Extracting /tmp/data/t10k-labels-idx1-ubyte.gz\n"
     ]
    }
   ],
   "source": [
    "from tensorflow.examples.tutorials.mnist import input_data\n",
    "# target : 열자리중 하나로 표현 eg) 1000000000 \n",
    "mnist =input_data.read_data_sets('/tmp/data/',one_hot=True)  # 다운로드 위치와 원핫인코딩\n",
    "import tensorflow as tf"
   ]
  },
  {
   "cell_type": "markdown",
   "metadata": {},
   "source": [
    "### Q : BATCH SIZE  128이 전체이미지를 다가져오는거?\n",
    "            DISPLAY STEP ?"
   ]
  },
  {
   "cell_type": "code",
   "execution_count": 52,
   "metadata": {},
   "outputs": [
    {
     "name": "stdout",
     "output_type": "stream",
     "text": [
      "(128, 784)\n"
     ]
    }
   ],
   "source": [
    "# 128장의 이미지를 랜덤하게 공급\n",
    "batch_x,batch_y = mnist.train.next_batch(128)  #배치엑스는 이미지 와이는 타겟 \n",
    "print(batch_x.shape) # 128장 * 784(28x28) => 이미지가 flattern 되었다는 의미  _ flattern이 이미 되어서 나옴\n",
    "learning_rate =0.1 # 하이퍼파라미터 \n",
    "num_steps =500 #epoch 세대\n",
    "batch_size = 128 # mini batch  사이즈  : 속도를 고속, local해 때문에 미니배치\n",
    "display_step = 100 #시각화"
   ]
  },
  {
   "cell_type": "markdown",
   "metadata": {},
   "source": [
    "### Q hidden layer 개수?"
   ]
  },
  {
   "cell_type": "code",
   "execution_count": 53,
   "metadata": {},
   "outputs": [],
   "source": [
    "#히든레이어가 2개 \n",
    "# 784( 픽셀하나를 변수로 봄) => 784(입력) x 256 => 256x256 => 256 x10\n",
    "n_hidden_1 = 256\n",
    "n_hidden_2 = 256\n",
    "num_input = 784\n",
    "num_classes =10  #target 이 0 ~ 9 \n",
    "X = tf.placeholder('float',[None,num_input]) #128장 x 784픽셀 #none 은 크기 미지정\n",
    "Y = tf.placeholder('float',[None,num_classes]) #128장 x 10개 (원핫인코딩)"
   ]
  },
  {
   "cell_type": "markdown",
   "metadata": {},
   "source": [
    "### Q 가중치 부여가 OUT 단계에서도?\n",
    "\n",
    " TF.RANDOM_NORMAL로 주는 이유?"
   ]
  },
  {
   "cell_type": "code",
   "execution_count": 54,
   "metadata": {},
   "outputs": [],
   "source": [
    "#가중치 = 설명력 = 계수 \n",
    "# \n",
    "weights ={  # 784x256 , 256x256 , 256x10  :가중치 덩어리 세개  # 이게 학습되어야 모델이 완성\n",
    "    'h1':tf.Variable(tf.random_normal([num_input,n_hidden_1])), # 인풋에다가 히든레이어 통과 시켜주기 (가중치 부여)\n",
    "    'h2':tf.Variable(tf.random_normal([n_hidden_1,n_hidden_2])), # H1 을 레이어 2번쨰거에 통과\n",
    "    'out':tf.Variable(tf.random_normal([n_hidden_2,num_classes])) #H2를  아웃풋\n",
    "}\n",
    "#bias = activation \n",
    "biases = {  #가중치 한덩어리당 bias 하나 반드시 존재 \n",
    "    'b1':tf.Variable(tf.random_normal([n_hidden_1])), #가중치가 존재하는 변수만큼 존재 \n",
    "    'b2':tf.Variable(tf.random_normal([n_hidden_2])),\n",
    "    'out':tf.Variable(tf.random_normal([num_classes]))\n",
    "}"
   ]
  },
  {
   "cell_type": "code",
   "execution_count": 55,
   "metadata": {},
   "outputs": [],
   "source": [
    "# 뉴럴네트워크 망 생성 \n",
    "def neural_net(x):  # x는 128x784  #layer_1은 가중치를 계산하고 나온 놈   # Y = AX + B \n",
    "    layer_1 = tf.add(tf.matmul(x,weights['h1']),biases['b1']) # x와 곱해줌 / h1 : 784x256 , layer_1 : 128x256\n",
    "    layer_2 = tf.add(tf.matmul(layer_1,weights['h2']), biases['b2']) # 128 x 256 * 256x256 => 128x256\n",
    "                   \n",
    "    # 128x256  가중치 : 256x10 => 128 x 10 :타겟사이즈와 동일\n",
    "    out_layer = tf.matmul(layer_2,weights['out'])+biases['out']\n",
    "    return out_layer  # 128 x 10"
   ]
  },
  {
   "cell_type": "markdown",
   "metadata": {},
   "source": [
    "adagrad : learning -rate 처음에는 크다가 점점작게  0으로 \n",
    "\n",
    "이걸 쓰다가  momentum + propgrad() : 로 넘어옴  adaptive 적응적\n",
    "\n",
    "\n",
    "↓↓↓↓↓↓↓↓↓↓↓↓↓↓↓↓↓"
   ]
  },
  {
   "cell_type": "markdown",
   "metadata": {},
   "source": [
    "### Q 코드 모르겠음"
   ]
  },
  {
   "cell_type": "code",
   "execution_count": 56,
   "metadata": {},
   "outputs": [],
   "source": [
    "\n",
    "logits = neural_net(X)  # 128 x 10\n",
    "#경사하강법 => 미분가능 => 분류 \n",
    "loss_op = tf.reduce_mean( #원핫인코드된값* log(확률값)       # softmax 확률값으로 계산            \n",
    "    tf.nn.softmax_cross_entropy_with_logits_v2(logits=logits, labels=Y)) #Adam 최적화기 : momentum + propgrad() 합친것\n",
    "optimizer = tf.train.AdamOptimizer(learning_rate=learning_rate) #최적화기 : 기울기 , 학습율\n",
    "train_op = optimizer.minimize(loss_op)\n",
    "correct_pred = tf.equal(tf.argmax(logits,1), tf.argmax(Y,1)) #가장 큰값의 인덱스를 구함(원핫인코딩) => target\n",
    "accuracy = tf.reduce_mean(tf.cast(correct_pred, tf.float32)) #cast :데이터 형변환 \n",
    "init = tf.global_variables_initializer()\n",
    "\n",
    "#######init = tf.global_variables_initializer() ####← 이거 나올떄까지가 모델 만들기"
   ]
  },
  {
   "cell_type": "markdown",
   "metadata": {},
   "source": [
    "## 실행부"
   ]
  },
  {
   "cell_type": "markdown",
   "metadata": {},
   "source": [
    "### Q : 코드,,"
   ]
  },
  {
   "cell_type": "code",
   "execution_count": 58,
   "metadata": {},
   "outputs": [
    {
     "name": "stdout",
     "output_type": "stream",
     "text": [
      "Step1Minibatch Loss  : 11025.7832, Training Accuracy : 0.289\n",
      "Step100Minibatch Loss  : 494.5671, Training Accuracy : 0.875\n",
      "Step200Minibatch Loss  : 105.2701, Training Accuracy : 0.852\n",
      "Step300Minibatch Loss  : 111.3374, Training Accuracy : 0.852\n",
      "Step400Minibatch Loss  : 58.4010, Training Accuracy : 0.852\n",
      "Step500Minibatch Loss  : 55.1440, Training Accuracy : 0.891\n",
      "테스트 정확도 : \n",
      " 0.8476\n"
     ]
    }
   ],
   "source": [
    "with tf.Session() as sess: # GPU 네트워크 연결 => 일반화\n",
    "    sess.run(init)\n",
    "    for step in range(1, num_steps+1): # epoch\n",
    "        # #batch_x :128x784  batch_y : 128x10\n",
    "        batch_x, batch_y = mnist.train.next_batch(batch_size)\n",
    "        sess.run(train_op, feed_dict={X:batch_x, Y:batch_y})\n",
    "        if step % display_step ==0 or step == 1:\n",
    "            loss, acc = sess.run([loss_op, accuracy], feed_dict={X:batch_x, Y:batch_y})\n",
    "            print('Step'+str(step)+'Minibatch Loss  : {:.4f}'.format(loss)+', Training Accuracy : {:.3f}'.format(acc))\n",
    "    print('테스트 정확도 : \\n',sess.run(accuracy, feed_dict={X:mnist.test.images, Y:mnist.test.labels}))"
   ]
  },
  {
   "cell_type": "markdown",
   "metadata": {},
   "source": [
    "# boston 집값 예측 _회귀 \n",
    "boston 집값 예측"
   ]
  },
  {
   "cell_type": "markdown",
   "metadata": {},
   "source": [
    "### Q : CONST 왜 0"
   ]
  },
  {
   "cell_type": "code",
   "execution_count": 60,
   "metadata": {},
   "outputs": [
    {
     "data": {
      "text/html": [
       "<div>\n",
       "<style scoped>\n",
       "    .dataframe tbody tr th:only-of-type {\n",
       "        vertical-align: middle;\n",
       "    }\n",
       "\n",
       "    .dataframe tbody tr th {\n",
       "        vertical-align: top;\n",
       "    }\n",
       "\n",
       "    .dataframe thead th {\n",
       "        text-align: right;\n",
       "    }\n",
       "</style>\n",
       "<table border=\"1\" class=\"dataframe\">\n",
       "  <thead>\n",
       "    <tr style=\"text-align: right;\">\n",
       "      <th></th>\n",
       "      <th>CRIM</th>\n",
       "      <th>ZN</th>\n",
       "      <th>INDUS</th>\n",
       "      <th>CHAS</th>\n",
       "      <th>NOX</th>\n",
       "      <th>RM</th>\n",
       "      <th>AGE</th>\n",
       "      <th>DIS</th>\n",
       "      <th>RAD</th>\n",
       "      <th>TAX</th>\n",
       "      <th>PTRATIO</th>\n",
       "      <th>B</th>\n",
       "      <th>LSTAT</th>\n",
       "      <th>const</th>\n",
       "    </tr>\n",
       "  </thead>\n",
       "  <tbody>\n",
       "    <tr>\n",
       "      <td>501</td>\n",
       "      <td>0.06263</td>\n",
       "      <td>0.0</td>\n",
       "      <td>11.93</td>\n",
       "      <td>0.0</td>\n",
       "      <td>0.573</td>\n",
       "      <td>6.593</td>\n",
       "      <td>69.1</td>\n",
       "      <td>2.4786</td>\n",
       "      <td>1.0</td>\n",
       "      <td>273.0</td>\n",
       "      <td>21.0</td>\n",
       "      <td>391.99</td>\n",
       "      <td>9.67</td>\n",
       "      <td>1.0</td>\n",
       "    </tr>\n",
       "    <tr>\n",
       "      <td>502</td>\n",
       "      <td>0.04527</td>\n",
       "      <td>0.0</td>\n",
       "      <td>11.93</td>\n",
       "      <td>0.0</td>\n",
       "      <td>0.573</td>\n",
       "      <td>6.120</td>\n",
       "      <td>76.7</td>\n",
       "      <td>2.2875</td>\n",
       "      <td>1.0</td>\n",
       "      <td>273.0</td>\n",
       "      <td>21.0</td>\n",
       "      <td>396.90</td>\n",
       "      <td>9.08</td>\n",
       "      <td>1.0</td>\n",
       "    </tr>\n",
       "    <tr>\n",
       "      <td>503</td>\n",
       "      <td>0.06076</td>\n",
       "      <td>0.0</td>\n",
       "      <td>11.93</td>\n",
       "      <td>0.0</td>\n",
       "      <td>0.573</td>\n",
       "      <td>6.976</td>\n",
       "      <td>91.0</td>\n",
       "      <td>2.1675</td>\n",
       "      <td>1.0</td>\n",
       "      <td>273.0</td>\n",
       "      <td>21.0</td>\n",
       "      <td>396.90</td>\n",
       "      <td>5.64</td>\n",
       "      <td>1.0</td>\n",
       "    </tr>\n",
       "    <tr>\n",
       "      <td>504</td>\n",
       "      <td>0.10959</td>\n",
       "      <td>0.0</td>\n",
       "      <td>11.93</td>\n",
       "      <td>0.0</td>\n",
       "      <td>0.573</td>\n",
       "      <td>6.794</td>\n",
       "      <td>89.3</td>\n",
       "      <td>2.3889</td>\n",
       "      <td>1.0</td>\n",
       "      <td>273.0</td>\n",
       "      <td>21.0</td>\n",
       "      <td>393.45</td>\n",
       "      <td>6.48</td>\n",
       "      <td>1.0</td>\n",
       "    </tr>\n",
       "    <tr>\n",
       "      <td>505</td>\n",
       "      <td>0.04741</td>\n",
       "      <td>0.0</td>\n",
       "      <td>11.93</td>\n",
       "      <td>0.0</td>\n",
       "      <td>0.573</td>\n",
       "      <td>6.030</td>\n",
       "      <td>80.8</td>\n",
       "      <td>2.5050</td>\n",
       "      <td>1.0</td>\n",
       "      <td>273.0</td>\n",
       "      <td>21.0</td>\n",
       "      <td>396.90</td>\n",
       "      <td>7.88</td>\n",
       "      <td>1.0</td>\n",
       "    </tr>\n",
       "  </tbody>\n",
       "</table>\n",
       "</div>"
      ],
      "text/plain": [
       "        CRIM   ZN  INDUS  CHAS    NOX     RM   AGE     DIS  RAD    TAX  \\\n",
       "501  0.06263  0.0  11.93   0.0  0.573  6.593  69.1  2.4786  1.0  273.0   \n",
       "502  0.04527  0.0  11.93   0.0  0.573  6.120  76.7  2.2875  1.0  273.0   \n",
       "503  0.06076  0.0  11.93   0.0  0.573  6.976  91.0  2.1675  1.0  273.0   \n",
       "504  0.10959  0.0  11.93   0.0  0.573  6.794  89.3  2.3889  1.0  273.0   \n",
       "505  0.04741  0.0  11.93   0.0  0.573  6.030  80.8  2.5050  1.0  273.0   \n",
       "\n",
       "     PTRATIO       B  LSTAT  const  \n",
       "501     21.0  391.99   9.67    1.0  \n",
       "502     21.0  396.90   9.08    1.0  \n",
       "503     21.0  396.90   5.64    1.0  \n",
       "504     21.0  393.45   6.48    1.0  \n",
       "505     21.0  396.90   7.88    1.0  "
      ]
     },
     "execution_count": 60,
     "metadata": {},
     "output_type": "execute_result"
    }
   ],
   "source": [
    "from sklearn.datasets import load_boston\n",
    "import pandas as pd\n",
    "import numpy as np\n",
    "import tensorflow as tf\n",
    "boston = load_boston()\n",
    "df = pd.DataFrame(boston.data,columns=boston.feature_names)\n",
    "df['const'] =np.ones(df.shape[0])\n",
    "df.tail()"
   ]
  },
  {
   "cell_type": "code",
   "execution_count": 64,
   "metadata": {},
   "outputs": [
    {
     "name": "stdout",
     "output_type": "stream",
     "text": [
      "506 14\n"
     ]
    }
   ],
   "source": [
    "n,m =df.shape\n",
    "print(n,m) #506개 data point x 14개 변수 \n",
    "X = tf.placeholder(tf.float64 , shape =(n,m)) # 506x14\n",
    "y = tf.placeholder(tf.float64, shape =(n,1)) #14x506\n",
    "XT = tf.transpose(X)\n"
   ]
  },
  {
   "cell_type": "markdown",
   "metadata": {},
   "source": [
    "### Q 전치로 가중치 구하는 과정?"
   ]
  },
  {
   "cell_type": "code",
   "execution_count": 65,
   "metadata": {},
   "outputs": [
    {
     "name": "stdout",
     "output_type": "stream",
     "text": [
      "예측한 집값: [18.40613603] 실제 집값: 18.2\n"
     ]
    }
   ],
   "source": [
    "# 가중치 학습하는게 없다\n",
    "# 행렬식으로 구함  # XT는 X의 전치 \n",
    "# 행렬의 거듭제곱하면 상관계수가 만들어짐  #14x506 * 506x14 => 14x14 상관행렬 (두변수간의 관계가 만들어짐 ) => 역행렬 14x14 \n",
    "# 14x14 , 14x506 => 14x506\n",
    "# 14x506 ,506x1 +> 14x1 \n",
    "\n",
    "#역행렬 이용해서 가중치 결정\n",
    "\n",
    "# y = ax -> a = y/x # 변수간의 관계 => 역행렬 \n",
    "w = tf.matmul(tf.matmul(tf.matrix_inverse(tf.matmul(XT,X)),XT),y)\n",
    "y_pred =tf.matmul(X,w) #506x14, 14x1 => 506x1 회귀식\n",
    "with tf.Session() as sess:\n",
    "    y_pred_ = sess.run(y_pred, feed_dict={X:df.values,y:boston.target.reshape(-1,1)})\n",
    "\n",
    "print('예측한 집값:',y_pred_[19],'실제 집값:',boston.target[19])"
   ]
  },
  {
   "cell_type": "markdown",
   "metadata": {},
   "source": [
    "# Kmeans\n",
    "\n",
    "- k가 결정되어야함 . k 개의 중심 생성\n",
    "- 각 데이터의 중심값을 빼서 거리값을 계산\n",
    "- 중심이 계속 변한다 "
   ]
  },
  {
   "cell_type": "markdown",
   "metadata": {},
   "source": [
    "## tile\n",
    "\n",
    "- 타일은 차수를 확대하지만 차원을 확대하진않는다 "
   ]
  },
  {
   "cell_type": "code",
   "execution_count": 66,
   "metadata": {},
   "outputs": [
    {
     "name": "stdout",
     "output_type": "stream",
     "text": [
      "홑일 때 [0 2 3 0 2 3 0 2 3 0 2 3 0 2 3]\n"
     ]
    }
   ],
   "source": [
    "# tile 1\n",
    "\n",
    "import tensorflow as tf\n",
    "sess =tf.Session()\n",
    "\n",
    "val=[0,2,3]\n",
    "val=tf.tile(val,[5]) #tile :옆으로 반복\n",
    "print('홑일 때',sess.run(val)) \n"
   ]
  },
  {
   "cell_type": "code",
   "execution_count": 68,
   "metadata": {},
   "outputs": [
    {
     "name": "stdout",
     "output_type": "stream",
     "text": [
      "2차원일 때 [[1 1 1 1 1 1]\n",
      " [2 2 2 2 2 2]\n",
      " [3 3 3 3 3 3]\n",
      " [1 1 1 1 1 1]\n",
      " [2 2 2 2 2 2]\n",
      " [3 3 3 3 3 3]\n",
      " [1 1 1 1 1 1]\n",
      " [2 2 2 2 2 2]\n",
      " [3 3 3 3 3 3]\n",
      " [1 1 1 1 1 1]\n",
      " [2 2 2 2 2 2]\n",
      " [3 3 3 3 3 3]\n",
      " [1 1 1 1 1 1]\n",
      " [2 2 2 2 2 2]\n",
      " [3 3 3 3 3 3]]\n"
     ]
    }
   ],
   "source": [
    "val =[[1,1,1,],[2,2,2],[3,3,3]] #3x3\n",
    "val = tf.tile(val,[5,2]) #5x2를  tile => 15x6\n",
    "print('2차원일 때',sess.run(val))"
   ]
  },
  {
   "cell_type": "code",
   "execution_count": 70,
   "metadata": {},
   "outputs": [
    {
     "name": "stdout",
     "output_type": "stream",
     "text": [
      "[[ 1.  2.  1.  2.  1.  2.]\n",
      " [ 2.  1.  2.  1.  2.  1.]\n",
      " [-2. -1. -2. -1. -2. -1.]]\n",
      "[[ 1.  2.  1.  2.  1.  2.]\n",
      " [ 2.  1.  2.  1.  2.  1.]\n",
      " [-2. -1. -2. -1. -2. -1.]\n",
      " [ 1.  2.  1.  2.  1.  2.]\n",
      " [ 2.  1.  2.  1.  2.  1.]\n",
      " [-2. -1. -2. -1. -2. -1.]]\n"
     ]
    }
   ],
   "source": [
    "# tile 2\n",
    "\n",
    "input_vecs=[[1.,2.],[2.,1.],[-2.,-1.]]\n",
    "tiled_vecs=tf.tile(input_vecs,[1,3])\n",
    "print(sess.run(tiled_vecs))\n",
    "tiled_vecs =tf.tile(input_vecs,[2,3])\n",
    "print(sess.run(tiled_vecs))"
   ]
  },
  {
   "cell_type": "markdown",
   "metadata": {},
   "source": [
    "## iris"
   ]
  },
  {
   "cell_type": "markdown",
   "metadata": {},
   "source": [
    "### Q IRIS 코드 전체값...\n",
    "\n",
    "- RESHAPE 하는 이유 \n",
    "- EPOCH 결과값 ?"
   ]
  },
  {
   "cell_type": "code",
   "execution_count": 8,
   "metadata": {},
   "outputs": [],
   "source": [
    "import numpy as np\n",
    "import  matplotlib.pyplot as plt\n",
    "import tensorflow as tf\n",
    "from sklearn import datasets\n",
    "from sklearn.preprocessing import scale\n",
    "from tensorflow.python.framework import ops\n",
    "ops.reset_default_graph() #그래프 초기화 \n",
    "sess =tf.Session()\n",
    "iris = datasets.load_iris() #iris : 4개의 변수와 타겟 "
   ]
  },
  {
   "cell_type": "code",
   "execution_count": 9,
   "metadata": {},
   "outputs": [
    {
     "data": {
      "text/plain": [
       "array([5.1, 3.5, 1.4, 0.2])"
      ]
     },
     "execution_count": 9,
     "metadata": {},
     "output_type": "execute_result"
    }
   ],
   "source": [
    "iris.data[0]"
   ]
  },
  {
   "cell_type": "code",
   "execution_count": 10,
   "metadata": {},
   "outputs": [],
   "source": [
    "num_pts = len(iris.data) # 행수\n",
    "num_feats = len(iris.data[0]) #columns 수 : 변수\n",
    "k=3 #군집수\n",
    "generations =25 # epoch가 25번 돌아감 \n",
    "data_points = tf.Variable(iris.data) #iris 데이터 한꺼번에 받겠다\n",
    "\n",
    "#tf.Variable(tf.zeros([num_pts] : 행수만큼 0으로 초기화하여 레이블변수 만들어줌 \n",
    "cluster_labels = tf.Variable(tf.zeros([num_pts],dtype =tf.int64))\n",
    "\n",
    "#중심데이터를 랜덤으로 취해라 # 중심하나의 요소는 4개  ( 열변수개수 )\n",
    "rand_starts = np.array([iris.data[np.random.choice(len(iris.data))] for _ in range(k)]) \n",
    "centroids = tf.Variable(rand_starts) # 중심을 저장\n",
    "\n",
    "# 3개의 중심을  150개(pts) 이걸 reshape (150,3,4)\n",
    "centroid_matrix = tf.reshape(tf.tile(centroids,[num_pts,1]),[num_pts,k,num_feats]) #num_feats 행수 150개, k 3개 , 각 변수 4개 \n",
    "\n",
    "#데이터를 통째로 옆으로 k번(3번) 옮긴다  \n",
    "point_matrix = tf.reshape(tf.tile(data_points,[1,k]),[num_pts,k,num_feats]) \n",
    "\n",
    "# 세번 반복된 데이터에서 중심값을 빼준다 \n",
    "distances = tf.reduce_sum(tf.square(point_matrix - centroid_matrix), axis =2)\n",
    "\n",
    "# 2개전제 (인덱스,실제값 비교 )\n",
    "centroid_group = tf.argmin(distances,1) #중심거리 1, 중심거리2, 중심거리3"
   ]
  },
  {
   "cell_type": "code",
   "execution_count": 11,
   "metadata": {},
   "outputs": [],
   "source": [
    "# unsorted_segment_sum :라벨번호로 값의 합계 ; 라벨(group_ids)과 값이 잇을 때 라벨을 기준으로 값을 합함\n",
    "# 그룹별로 거리으ㅣ평균\n",
    "#중심거리를 재계산해서 중심값을 재할당 \n",
    "\n",
    "def data_group_avg(group_ids,data): #group(3개)별로 평균을 낸다 \n",
    "    sum_total =tf.unsorted_segment_sum(data,group_ids,3)\n",
    "            \n",
    "    num_total = tf.unsorted_segment_sum(tf.ones_like(data),group_ids,3) #ones_like(data ): data와 사이즈는 같지만 값을 1로바꿔라\n",
    "                                                                        # 1로된것을 다 더하면 그룹의 전체 요소개수가 나옴\n",
    "    avg_by_group = sum_total/ num_total #합계 / 갯수 : 그룹의 평균거리\n",
    "    return(avg_by_group)\n",
    "means = data_group_avg(centroid_group,data_points)\n",
    "\n",
    "# 업데이트 노드를 결정\n",
    "update = tf.group(centroids.assign(means),cluster_labels.assign(centroid_group))\n",
    "init = tf.global_variables_initializer()\n",
    "sess.run(init)"
   ]
  },
  {
   "cell_type": "code",
   "execution_count": 12,
   "metadata": {
    "scrolled": true
   },
   "outputs": [
    {
     "name": "stdout",
     "output_type": "stream",
     "text": [
      "Calculatinf gen 0,out of 25.\n",
      "Group counts :[35]\n",
      "Group counts :[35, 19]\n",
      "Group counts :[35, 19, 96]\n",
      "Calculatinf gen 1,out of 25.\n",
      "Group counts :[30]\n",
      "Group counts :[30, 23]\n",
      "Group counts :[30, 23, 97]\n",
      "Calculatinf gen 2,out of 25.\n",
      "Group counts :[28]\n",
      "Group counts :[28, 25]\n",
      "Group counts :[28, 25, 97]\n",
      "Calculatinf gen 3,out of 25.\n",
      "Group counts :[26]\n",
      "Group counts :[26, 27]\n",
      "Group counts :[26, 27, 97]\n",
      "Calculatinf gen 4,out of 25.\n",
      "Group counts :[26]\n",
      "Group counts :[26, 28]\n",
      "Group counts :[26, 28, 96]\n",
      "Calculatinf gen 5,out of 25.\n",
      "Group counts :[24]\n",
      "Group counts :[24, 30]\n",
      "Group counts :[24, 30, 96]\n",
      "Calculatinf gen 6,out of 25.\n",
      "Group counts :[23]\n",
      "Group counts :[23, 31]\n",
      "Group counts :[23, 31, 96]\n",
      "Calculatinf gen 7,out of 25.\n",
      "Group counts :[22]\n",
      "Group counts :[22, 32]\n",
      "Group counts :[22, 32, 96]\n",
      "Calculatinf gen 8,out of 25.\n",
      "Group counts :[22]\n",
      "Group counts :[22, 32]\n",
      "Group counts :[22, 32, 96]\n",
      "Calculatinf gen 9,out of 25.\n",
      "Group counts :[22]\n",
      "Group counts :[22, 32]\n",
      "Group counts :[22, 32, 96]\n",
      "Calculatinf gen 10,out of 25.\n",
      "Group counts :[22]\n",
      "Group counts :[22, 32]\n",
      "Group counts :[22, 32, 96]\n",
      "Calculatinf gen 11,out of 25.\n",
      "Group counts :[22]\n",
      "Group counts :[22, 32]\n",
      "Group counts :[22, 32, 96]\n",
      "Calculatinf gen 12,out of 25.\n",
      "Group counts :[22]\n",
      "Group counts :[22, 32]\n",
      "Group counts :[22, 32, 96]\n",
      "Calculatinf gen 13,out of 25.\n",
      "Group counts :[22]\n",
      "Group counts :[22, 32]\n",
      "Group counts :[22, 32, 96]\n",
      "Calculatinf gen 14,out of 25.\n",
      "Group counts :[22]\n",
      "Group counts :[22, 32]\n",
      "Group counts :[22, 32, 96]\n",
      "Calculatinf gen 15,out of 25.\n",
      "Group counts :[22]\n",
      "Group counts :[22, 32]\n",
      "Group counts :[22, 32, 96]\n",
      "Calculatinf gen 16,out of 25.\n",
      "Group counts :[22]\n",
      "Group counts :[22, 32]\n",
      "Group counts :[22, 32, 96]\n",
      "Calculatinf gen 17,out of 25.\n",
      "Group counts :[22]\n",
      "Group counts :[22, 32]\n",
      "Group counts :[22, 32, 96]\n",
      "Calculatinf gen 18,out of 25.\n",
      "Group counts :[22]\n",
      "Group counts :[22, 32]\n",
      "Group counts :[22, 32, 96]\n",
      "Calculatinf gen 19,out of 25.\n",
      "Group counts :[22]\n",
      "Group counts :[22, 32]\n",
      "Group counts :[22, 32, 96]\n",
      "Calculatinf gen 20,out of 25.\n",
      "Group counts :[22]\n",
      "Group counts :[22, 32]\n",
      "Group counts :[22, 32, 96]\n",
      "Calculatinf gen 21,out of 25.\n",
      "Group counts :[22]\n",
      "Group counts :[22, 32]\n",
      "Group counts :[22, 32, 96]\n",
      "Calculatinf gen 22,out of 25.\n",
      "Group counts :[22]\n",
      "Group counts :[22, 32]\n",
      "Group counts :[22, 32, 96]\n",
      "Calculatinf gen 23,out of 25.\n",
      "Group counts :[22]\n",
      "Group counts :[22, 32]\n",
      "Group counts :[22, 32, 96]\n",
      "Calculatinf gen 24,out of 25.\n",
      "Group counts :[22]\n",
      "Group counts :[22, 32]\n",
      "Group counts :[22, 32, 96]\n"
     ]
    }
   ],
   "source": [
    "for i in range(generations): #25번 : epoch 위에서 설정\n",
    "    print('Calculatinf gen {},out of {}.'.format(i,generations))\n",
    "    # update: 군집의 중심값 재계산 및 그룹 변경 # centroid_group 호출 : 그룹번호 결정\n",
    "    _,centroid_group_count = sess.run([update,centroid_group]) \n",
    "    group_count = []\n",
    "    for ix in range(k):  #군집번호  #군집별 카운트 \n",
    "        group_count.append(np.sum(centroid_group_count == ix))\n",
    "        print('Group counts :{}'.format(group_count))\n",
    " # for문이 종료된 후 결정된 중심값, 할당된 군집번호 받기        \n",
    "[centers,assignments] = sess.run([centroids,cluster_labels])"
   ]
  },
  {
   "cell_type": "code",
   "execution_count": 81,
   "metadata": {},
   "outputs": [
    {
     "name": "stdout",
     "output_type": "stream",
     "text": [
      "ACccuracy:0.89\n"
     ]
    }
   ],
   "source": [
    "#제대로 군집화되었는지 확인\n",
    "\n",
    "def most_common(my_list): #대표성을 띈 라벨을 결정 \n",
    "    return(max(set(my_list),key =my_list.count)) #set은 key의 중복을 불허 \n",
    "# 0 1 2 label 결정\n",
    "label0 =most_common(list(assignments[0:50]))\n",
    "label1 =most_common(list(assignments[50:100]))\n",
    "label2 =most_common(list(assignments[100:150]))\n",
    "#라벨과 일치여부 확인 \n",
    "group0_count = np.sum(assignments[0:50]==label0)\n",
    "group1_count = np.sum(assignments[50:100]==label1)\n",
    "group2_count = np.sum(assignments[100:150]==label2)\n",
    "\n",
    "accuracy = (group0_count + group1_count + group2_count)/150.\n",
    "print('Acccuracy:{:.2}'.format(accuracy))"
   ]
  },
  {
   "cell_type": "markdown",
   "metadata": {},
   "source": [
    "# Tic tac toe\n",
    "\n",
    "https://github.com/nfmcclure/tensorflow_cookbook/blob/master/06_Neural_Networks/08_Learning_Tic_Tac_Toe/tic_tac_toe_moves.py"
   ]
  },
  {
   "cell_type": "code",
   "execution_count": null,
   "metadata": {},
   "outputs": [],
   "source": [
    "import csv\n",
    "import random\n",
    "import numpy as np\n",
    "from tensorflow.python.framework import ops\n",
    "ops.reset_default_graph()"
   ]
  },
  {
   "cell_type": "code",
   "execution_count": null,
   "metadata": {},
   "outputs": [],
   "source": [
    "\n",
    "response=6\n",
    "batch_size=50\n",
    "symmetry = ['rotate180', 'rotate90', 'rotate270', 'flip_v', 'flip_h']"
   ]
  },
  {
   "cell_type": "code",
   "execution_count": null,
   "metadata": {},
   "outputs": [],
   "source": [
    "# 말판 만들기 \n",
    "def print_board(board):     # 말판찍는다 \n",
    "    symbols = ['O',' ','X']  # 유저, 컴퓨터 \n",
    "    board_plus1 = [int(x) + 1 for x in board]\n",
    "    print(' ' + symbols[board_plus1[0]] + ' l '\n",
    "          + symbols[board_plus1[1]]\n",
    "          + ' l ' + symbols[board_plus1[2]])\n",
    "    print('__________')\n",
    "    print(' ' + symbols[board_plus1[3]] + ' l ' \n",
    "         +symbols[board_plus1[4]]\n",
    "          + ' l ' + symbols[board_plus1[5]])\n",
    "    print('__________')\n",
    "    print(' ' + symbols[board_plus1[6]] + ' l ' \n",
    "         +symbols[board_plus1[7]]\n",
    "          + ' l ' + symbols[board_plus1[8]])"
   ]
  },
  {
   "cell_type": "code",
   "execution_count": null,
   "metadata": {},
   "outputs": [],
   "source": [
    "# 같은 상황을 해결하고 다양한 경우를 충족하기 위해 변화\n",
    "def get_symmetry(board, play_response, transformation):\n",
    "    \"\"\"\n",
    "    :param board: list of integers 9 long:\n",
    "     opposing mark = -1\n",
    "     friendly mark = 1\n",
    "     empty space = 0\n",
    "    :param play_response: integer of where response is (0-8)\n",
    "    :param transformation: one of five transformations on a board:\n",
    "     'rotate180', 'rotate90', 'rotate270', 'flip_v', 'flip_h'\n",
    "    :return: tuple: (new_board, new_response)\n",
    "    \"\"\"\n",
    "    if transformation == 'rotate180':      # 180도만 보면 1번이 말을 놓을자리이다. 이걸 180도 돌리면 1번위치가, 7번으로 간다 . >> 그래서 8에서 빼주면된다 \n",
    "        new_response = 8 - play_response           # 3번이면 180도 돌리면 5번으로 간다 \n",
    "        return board[::-1], new_response\n",
    "    elif transformation == 'rotate90':             \n",
    "        new_response = [6, 3, 0, 7, 4, 1, 8, 5, 2].index(play_response)\n",
    "        tuple_board = list(zip(*[board[6:9], board[3:6], board[0:3]]))\n",
    "        return [value for item in tuple_board for value in item], new_response\n",
    "    elif transformation == 'rotate270':\n",
    "        new_response = [2, 5, 8, 1, 4, 7, 0, 3, 6].index(play_response)\n",
    "        tuple_board = list(zip(*[board[0:3], board[3:6], board[6:9]]))[::-1]\n",
    "        return [value for item in tuple_board for value in item], new_response\n",
    "    elif transformation == 'flip_v':\n",
    "        new_response = [6, 7, 8, 3, 4, 5, 0, 1, 2].index(play_response)\n",
    "        return board[6:9] + board[3:6] + board[0:3], new_response\n",
    "    elif transformation == 'flip_h':  # flip_h = rotate180, then flip_v\n",
    "        new_response = [2, 1, 0, 5, 4, 3, 8, 7, 6].index(play_response)\n",
    "        new_board = board[::-1]\n",
    "        return new_board[6:9] + new_board[3:6] + new_board[0:3], new_response\n",
    "    else:\n",
    "        raise ValueError('Method not implemented.')"
   ]
  },
  {
   "cell_type": "code",
   "execution_count": null,
   "metadata": {},
   "outputs": [],
   "source": [
    "# 화일로부터 말 규칙 로딩\n",
    "def get_moves_from_csv(csv_file):\n",
    "    moves = []\n",
    "    with open(csv_file, 'rt') as csvfile:\n",
    "        reader= csv.reader(csvfile, delimiter=',')\n",
    "        for row in reader:\n",
    "            #0 0 0 -1 1 0 0 0 0 말위치 \n",
    "            moves.append(([int(x) for x in row[0:9]], int(row[9])))\n",
    "    return(moves)"
   ]
  },
  {
   "cell_type": "code",
   "execution_count": null,
   "metadata": {},
   "outputs": [],
   "source": [
    "\n",
    "# 정해진 말규칙을 다양하게 변화하게 훈련용 데이터 확장\n",
    "def get_rand_move(moves, n =1, rand_transforms=2):\n",
    "    (board, response) = random.choice(moves)\n",
    "    possible_transforms=['rotate90', 'rotate180', 'rotate270', 'flip_v', 'flip_h']\n",
    "    for i in range(rand_transforms):\n",
    "        random_transform = random.choice(possible_transforms)\n",
    "        (board, response) = get_symmetry(board, response, random_transform)\n",
    "    return(board,response)"
   ]
  },
  {
   "cell_type": "code",
   "execution_count": null,
   "metadata": {},
   "outputs": [],
   "source": [
    "moves = get_moves_from_csv(\"tictactoe_moves.csv\")\n",
    "train_length = 500\n",
    "train_set = []\n",
    "for t in range(train_length):\n",
    "    train_set.append(get_rand_move(moves))"
   ]
  },
  {
   "cell_type": "code",
   "execution_count": null,
   "metadata": {},
   "outputs": [],
   "source": [
    "def init_weights(shape):\n",
    "    return(tf.Variable(tf.random_normal(shape)))"
   ]
  },
  {
   "cell_type": "code",
   "execution_count": null,
   "metadata": {},
   "outputs": [],
   "source": [
    "def model(X, A1,A2, bias1, bias2):\n",
    "    layer1= tf.nn.sigmoid(tf.add(tf.matmul(X, A1), bias1))\n",
    "    layer2= tf.add(tf.matmul(layer1, A2), bias2)\n",
    "    return(layer2)\n"
   ]
  },
  {
   "cell_type": "code",
   "execution_count": null,
   "metadata": {},
   "outputs": [],
   "source": [
    "import tensorflow as tf"
   ]
  },
  {
   "cell_type": "code",
   "execution_count": null,
   "metadata": {},
   "outputs": [],
   "source": [
    "X = tf.placeholder(dtype=tf.float32, shape=[None,9])\n",
    "Y = tf.placeholder(dtype=tf.int32, shape=[None])  # 50x1 \n",
    "A1 = init_weights([9,81]) # 50x81 \n",
    "bias1 = init_weights([81])\n",
    "A2 = init_weights([81,9]) # 확률값 출력 # 50x9  # 확률값\n",
    "bias2 = init_weights([9])\n",
    "model_output=model(X,A1,A2, bias1, bias2)\n",
    "\n",
    "loss = tf.reduce_mean(   # 분류: 1~0 사이의 확률값\n",
    "    tf.nn.sparse_softmax_cross_entropy_with_logits( # 확률\n",
    "    logits=model_output, labels=Y))\n",
    "train_step = tf.train.GradientDescentOptimizer(0.025).minimize(loss)\n",
    "prediction = tf.argmax(model_output,1)\n",
    "sess = tf.Session()\n",
    "init = tf.global_variables_initializer()\n",
    "sess.run(init)"
   ]
  },
  {
   "cell_type": "code",
   "execution_count": null,
   "metadata": {},
   "outputs": [],
   "source": [
    "\n",
    "import numpy as np\n",
    "loss_vec = []\n",
    "for i in range(10000):\n",
    "    rand_indices = np.random.choice(range(len(train_set)), batch_size, replace=False)\n",
    "    batch_data = [train_set[i] for i in rand_indices]\n",
    "    x_input = [x[0] for x in batch_data]\n",
    "    y_target = np.array([y[1] for y in batch_data])\n",
    "    sess.run(train_step, feed_dict={X: x_input, Y:y_target})\n",
    "    temp_loss = sess.run(loss, feed_dict = {X: x_input, Y: y_target})\n",
    "    loss_vec.append(temp_loss)\n",
    "    if i%500==0:\n",
    "        print('iteration ' + str(i) + ' Loss: ' + str(temp_loss))"
   ]
  },
  {
   "cell_type": "code",
   "execution_count": null,
   "metadata": {},
   "outputs": [],
   "source": [
    "\n",
    "test_board=[-1,0,0,1,-1,-1,0,0,1]\n",
    "train_set = [x for x in train_set if x[0] != test_board]"
   ]
  },
  {
   "cell_type": "code",
   "execution_count": null,
   "metadata": {},
   "outputs": [],
   "source": [
    " #게임 승패 결정\n",
    "def check(board):\n",
    "    wins = [[0,1,2], [3,4,5], [6,7,8], [0,3,6], [1,4,7], [2,5,8],\n",
    "           [0,4,8],[2,4,6]]\n",
    "    for i in range(len(wins)):\n",
    "        if board[wins[i][0]]==board[wins[i][1]]==board[wins[i][2]]==1.:\n",
    "            return(1)\n",
    "        elif board[wins[i][0]]==board[wins[i][1]]==board[wins[i][2]]==-1.:\n",
    "            return(-1)\n",
    "    return(0)"
   ]
  },
  {
   "cell_type": "code",
   "execution_count": null,
   "metadata": {},
   "outputs": [],
   "source": [
    "game_tracker= [0., 0., 0., 0., 0., 0.,0., 0., 0.]  # 맨처음에는 전부 0 \n",
    "win_logical= False\n",
    "num_moves = 0\n",
    "while not win_logical:  \n",
    "    player_index = input('이동하고 싶은 인덱스를 입력하시오(0-8):')\n",
    "    num_moves += 1\n",
    "    game_tracker[int(player_index)]=1.\n",
    "    [potential_moves] = sess.run(model_output, feed_dict = {X: [game_tracker]})\n",
    "    # 말여부를 확인해서 가능한 값ㅇ르 선택\n",
    "    allowed_moves = [ix for ix,x in enumerate(game_tracker) if x==0.0]\n",
    "    # 허락위치에 있는 것인지 확인 \n",
    "    # 큰확률값 선택 \n",
    "    model_move = np.argmax([x if ix in allowed_moves else -999.0 \n",
    "                           for ix,x in enumerate(\n",
    "                           potential_moves)])\n",
    "    # 컴퓨터가 선택 \n",
    "    game_tracker[int(model_move)] = -1.\n",
    "    print('모델이 이동하였습니다.')\n",
    "    print_board(game_tracker) # GUI 방식 \n",
    "    if check(game_tracker) ==1 or num_moves>=20:\n",
    "        print('게임 종료! 승리하셨습니다. ')\n",
    "        win_logical = True\n",
    "    elif check(game_tracker)==-1:\n",
    "        print('게임 종료! 게임에 지셨습니다. !')\n",
    "        win_logical = True"
   ]
  },
  {
   "cell_type": "markdown",
   "metadata": {},
   "source": [
    "# CNN"
   ]
  },
  {
   "cell_type": "code",
   "execution_count": 13,
   "metadata": {},
   "outputs": [],
   "source": [
    "\n",
    "# save_fig : 그림을 저장하는 함수이다 ( fig_id 라는 이름으로 저장된다 )\n",
    "\n",
    "def save_fig(fig_id, tight_layout=True):\n",
    "    path = os.path.join(\"./images/\", fig_id + '.png') # /images/ 는 경로이다! ( 실제 images 라는 폴더가 문서안에 있어야한다)  'png' 스타일로 저장한다 \n",
    "    print(\"Saving figure\", fig_id)\n",
    "    if tight_layout:  # tight_layout 이  true 라면?\n",
    "        plt.tight_layout() # 기존디폴트값으로 쓰인다\n",
    "    plt.savefig(path, format='png', dpi=300)  # savefig : 저장하라\n",
    "                                              # dpi : dot per inch >>  인치당 300개의 점을 찍을 수 있을만큼의 해상도로 만들라"
   ]
  },
  {
   "cell_type": "code",
   "execution_count": 14,
   "metadata": {},
   "outputs": [],
   "source": [
    "# tight_layout() : https://kongdols-room.tistory.com/98 참고"
   ]
  },
  {
   "cell_type": "code",
   "execution_count": 15,
   "metadata": {},
   "outputs": [],
   "source": [
    "# 초기화 하는 함수\n",
    "def reset_graph(seed=42): \n",
    "    tf.reset_default_graph()  #>> 초기화\n",
    "    tf.set_random_seed(seed)\n",
    "    np.random.seed(seed)"
   ]
  },
  {
   "cell_type": "code",
   "execution_count": 16,
   "metadata": {},
   "outputs": [],
   "source": [
    "from sklearn.datasets import load_sample_image\n",
    "china = load_sample_image('china.jpg')\n",
    "image = china[150:220, 130:250]  # 이미지의 부분을 clipping 하는 중 (배열의 일부만 뽑아내고 있다) \n",
    "                                 # clipping = 이미지 전체 중 부분을 뽑아옴\n",
    "                                 # 220-150=70,  250-130=120  >>  70(높이=행) x 120(가로=열)  \n",
    "        \n",
    "height, width, channels= image.shape  #  칼라면 채널이 3개이다\n",
    "\n",
    "image_grayscale = image.mean(axis=2).astype(np.float32) # axis=2 니까 channels 이다 . 0~255 값이 나온다 >> 즉 흑백이미지로 바꿔라는뜻\n",
    "images = image_grayscale.reshape(1, height, width, 1)   # 차수를 맞추려고 reshape 를 해준 ( 이미지 확장 )"
   ]
  },
  {
   "cell_type": "markdown",
   "metadata": {},
   "source": [
    "### Q RESHAPE 하는 이유 , 확장 이유 "
   ]
  },
  {
   "cell_type": "code",
   "execution_count": 17,
   "metadata": {},
   "outputs": [],
   "source": [
    "\n",
    "def plot_image(image):       # 흑백으로 찍어라  \n",
    "    plt.imshow(image, cmap='gray', interpolation='nearest') # imshow : 이미지를 보여라\n",
    "                                                            #interpolation='nearest' >> 데이터가 없는자리는 가까운 값으로 줘라 (보강법)\n",
    "    plt.axis('off')  # 이미지니까 축은 생략\n",
    "\n",
    "def plot_color_image(image):  # 컬러로 찍어라\n",
    "    plt.imshow(image.astype(np.uint8), interpolation='nearest')\n",
    "    plt.axis('off')"
   ]
  },
  {
   "cell_type": "markdown",
   "metadata": {},
   "source": [
    "## Filter\n",
    "\n",
    "- 필터의 높이\n",
    "- 필터의 가로\n",
    "- 입력채널(컬러?)\n",
    "- 출력채널(필터개수)\n",
    "-순으로 데이터를 만들어야함\n",
    "\n",
    "\n",
    "- 채널: 종이가 몇장인지로 이해하면 된다 "
   ]
  },
  {
   "cell_type": "code",
   "execution_count": 25,
   "metadata": {},
   "outputs": [],
   "source": [
    "# filter 를 만드는 과정(필터) \n",
    "\n",
    "\n",
    "import numpy as np\n",
    "fmap = np.zeros(shape=(7,7,1,2), dtype=np.float32) # 필터사이즈 7x7 (높이7,가로7),입력채널은 1개, 출력채널 2개 \n",
    "                                                  # 즉 데이터1개가 들어와서 2개로 나간다 (그럼 필터가 2개가 필요하다는것!!)\n",
    "                                                  \n",
    "# 값을 대입해보자!!\n",
    "# 인덱스 값으로 생각해야 쉬움 \n",
    "fmap[:,3,0,0]=1  # 첫번째 장의( 맨마지막숫자가0이니까) 세로값의 3번째를 1로 넣겠다는 뜻 \n",
    "                 # ( 7개중 3번이니까 중앙이다 ) 0,1,2,3,4,5,6중 3번에 1값을 주라!!!      # 0이면 검은색 1이면 흰색이다!!!!! \n",
    "fmap[:,:,0,0]  #>> 첫번째 장 확인하는 것\n",
    "\n",
    "#  아래거랑 비교\n",
    "\n",
    "fmap[3,:,0,1] = 1  # 두번째 장의(맨마지막숫자가1이니까) 의 가로값의 3번째를 1로 넣겠다는 것 \n",
    "#fmap[:,:,0,1]   # >> 2번째 장 확인  ( 7,7,1,2 였고 출력장수는 2개니까 )"
   ]
  },
  {
   "cell_type": "code",
   "execution_count": 26,
   "metadata": {},
   "outputs": [
    {
     "data": {
      "image/png": "[encoded data removed]",
      "text/plain": [
       "<Figure size 432x288 with 1 Axes>"
      ]
     },
     "metadata": {
      "needs_background": "light"
     },
     "output_type": "display_data"
    },
    {
     "name": "stdout",
     "output_type": "stream",
     "text": [
      "[[0. 0. 0. 1. 0. 0. 0.]\n",
      " [0. 0. 0. 1. 0. 0. 0.]\n",
      " [0. 0. 0. 1. 0. 0. 0.]\n",
      " [0. 0. 0. 1. 0. 0. 0.]\n",
      " [0. 0. 0. 1. 0. 0. 0.]\n",
      " [0. 0. 0. 1. 0. 0. 0.]\n",
      " [0. 0. 0. 1. 0. 0. 0.]]\n"
     ]
    },
    {
     "data": {
      "image/png": "[encoded data removed]",
      "text/plain": [
       "<Figure size 432x288 with 1 Axes>"
      ]
     },
     "metadata": {
      "needs_background": "light"
     },
     "output_type": "display_data"
    }
   ],
   "source": [
    "\n",
    "# array 를 그림으로 찍어보자\n",
    "import matplotlib.pyplot as plt\n",
    "\n",
    "plot_image(fmap[:,:,0,0])  # 세로가 흰색이 된다 ( 1이면 흰색이니까) \n",
    "plt.show()\n",
    "\n",
    "print(fmap[:,:,0,0])  #그림을 좌표로 찍은 것  >>  검은색은 0 + 흰색은 1이다 \n",
    "\n",
    "plot_image(fmap[:,:,0,1]) # 가로가 흰색 \n",
    "plt.show()"
   ]
  },
  {
   "cell_type": "code",
   "execution_count": 31,
   "metadata": {},
   "outputs": [
    {
     "data": {
      "text/plain": [
       "['',\n",
       " '## output',\n",
       " '### Q hidden layer 개수?',\n",
       " '### Q 가중치 부여가 OUT 단계에서도?',\n",
       " 'iris.data[0]',\n",
       " 'import numpy as np\\nimport  matplotlib.pyplot as plt\\nimport tensorflow as tf\\nfrom sklearn import datasets\\nfrom sklearn.preprocessing import scale\\nfrom tensorflow.python.framework import ops\\nops.reset_default_graph() #그래프 초기화 \\nsess =tf.Session()\\niris = datasets.load_iris() #iris : 4개의 변수와 타겟 ',\n",
       " 'iris.data[0]',\n",
       " \"for i in range(generations): #25번 : epoch 위에서 설정\\n    print('Calculatinf gen {},out of {}.'.format(i,generations))\\n    # update: 군집의 중심값 재계산 및 그룹 변경 # centroid_group 호출 : 그룹번호 결정\\n    _,centroid_group_count = sess.run([update,centroid_group]) \\n    group_count = []\\n    for ix in range(k):  #군집번호  #군집별 카운트 \\n        group_count.append(np.sum(centroid_group_count == ix))\\n        print('Group counts :{}'.format(group_count))\\n # for문이 종료된 후 결정된 중심값, 할당된 군집번호 받기        \\n[centers,assignments] = sess.run([centroids,cluster_labels])\",\n",
       " 'import numpy as np\\nimport  matplotlib.pyplot as plt\\nimport tensorflow as tf\\nfrom sklearn import datasets\\nfrom sklearn.preprocessing import scale\\nfrom tensorflow.python.framework import ops\\nops.reset_default_graph() #그래프 초기화 \\nsess =tf.Session()\\niris = datasets.load_iris() #iris : 4개의 변수와 타겟 ',\n",
       " 'iris.data[0]',\n",
       " 'num_pts = len(iris.data) # 행수\\nnum_feats = len(iris.data[0]) #columns 수 : 변수\\nk=3 #군집수\\ngenerations =25 # epoch가 25번 돌아감 \\ndata_points = tf.Variable(iris.data) #iris 데이터 한꺼번에 받겠다\\n\\n#tf.Variable(tf.zeros([num_pts] : 행수만큼 0으로 초기화하여 레이블변수 만들어줌 \\ncluster_labels = tf.Variable(tf.zeros([num_pts],dtype =tf.int64))\\n\\n#중심데이터를 랜덤으로 취해라 # 중심하나의 요소는 4개  ( 열변수개수 )\\nrand_starts = np.array([iris.data[np.random.choice(len(iris.data))] for _ in range(k)]) \\ncentroids = tf.Variable(rand_starts) # 중심을 저장\\n\\n# 3개의 중심을  150개(pts) 이걸 reshape (150,3,4)\\ncentroid_matrix = tf.reshape(tf.tile(centroids,[num_pts,1]),[num_pts,k,num_feats]) #num_feats 행수 150개, k 3개 , 각 변수 4개 \\n\\n#데이터를 통째로 옆으로 k번(3번) 옮긴다  \\npoint_matrix = tf.reshape(tf.tile(data_points,[1,k]),[num_pts,k,num_feats]) \\n\\n# 세번 반복된 데이터에서 중심값을 빼준다 \\ndistances = tf.reduce_sum(tf.square(point_matrix - centroid_matrix), axis =2)\\n\\n# 2개전제 (인덱스,실제값 비교 )\\ncentroid_group = tf.argmin(distances,1) #중심거리 1, 중심거리2, 중심거리3',\n",
       " '# unsorted_segment_sum :라벨번호로 값의 합계 ; 라벨(group_ids)과 값이 잇을 때 라벨을 기준으로 값을 합함\\n# 그룹별로 거리으ㅣ평균\\n#중심거리를 재계산해서 중심값을 재할당 \\n\\ndef data_group_avg(group_ids,data): #group(3개)별로 평균을 낸다 \\n    sum_total =tf.unsorted_segment_sum(data,group_ids,3)\\n            \\n    num_total = tf.unsorted_segment_sum(tf.ones_like(data),group_ids,3) #ones_like(data ): data와 사이즈는 같지만 값을 1로바꿔라\\n                                                                        # 1로된것을 다 더하면 그룹의 전체 요소개수가 나옴\\n    avg_by_group = sum_total/ num_total #합계 / 갯수 : 그룹의 평균거리\\n    return(avg_by_group)\\nmeans = data_group_avg(centroid_group,data_points)\\n\\n# 업데이트 노드를 결정\\nupdate = tf.group(centroids.assign(means),cluster_labels.assign(centroid_group))\\ninit = tf.global_variables_initializer()\\nsess.run(init)',\n",
       " \"for i in range(generations): #25번 : epoch 위에서 설정\\n    print('Calculatinf gen {},out of {}.'.format(i,generations))\\n    # update: 군집의 중심값 재계산 및 그룹 변경 # centroid_group 호출 : 그룹번호 결정\\n    _,centroid_group_count = sess.run([update,centroid_group]) \\n    group_count = []\\n    for ix in range(k):  #군집번호  #군집별 카운트 \\n        group_count.append(np.sum(centroid_group_count == ix))\\n        print('Group counts :{}'.format(group_count))\\n # for문이 종료된 후 결정된 중심값, 할당된 군집번호 받기        \\n[centers,assignments] = sess.run([centroids,cluster_labels])\",\n",
       " '# save_fig : 그림을 저장하는 함수이다 ( fig_id 라는 이름으로 저장된다 )\\n\\ndef save_fig(fig_id, tight_layout=True):\\n    path = os.path.join(\"./images/\", fig_id + \\'.png\\') # /images/ 는 경로이다! ( 실제 images 라는 폴더가 문서안에 있어야한다)  \\'png\\' 스타일로 저장한다 \\n    print(\"Saving figure\", fig_id)\\n    if tight_layout:  # tight_layout 이  true 라면?\\n        plt.tight_layout() # 기존디폴트값으로 쓰인다\\n    plt.savefig(path, format=\\'png\\', dpi=300)  # savefig : 저장하라\\n                                              # dpi : dot per inch >>  인치당 300개의 점을 찍을 수 있을만큼의 해상도로 만들라',\n",
       " '# tight_layout() : https://kongdols-room.tistory.com/98 참고',\n",
       " '# 초기화 하는 함수\\ndef reset_graph(seed=42): \\n    tf.reset_default_graph()  #>> 초기화\\n    tf.set_random_seed(seed)\\n    np.random.seed(seed)',\n",
       " \"from sklearn.datasets import load_sample_image\\nchina = load_sample_image('china.jpg')\\nimage = china[150:220, 130:250]  # 이미지의 부분을 clipping 하는 중 (배열의 일부만 뽑아내고 있다) \\n                                 # clipping = 이미지 전체 중 부분을 뽑아옴\\n                                 # 220-150=70,  250-130=120  >>  70(높이=행) x 120(가로=열)  \\n        \\nheight, width, channels= image.shape  #  칼라면 채널이 3개이다\\n\\nimage_grayscale = image.mean(axis=2).astype(np.float32) # axis=2 니까 channels 이다 . 0~255 값이 나온다 >> 즉 흑백이미지로 바꿔라는뜻\\nimages = image_grayscale.reshape(1, height, width, 1)   # 차수를 맞추려고 reshape 를 해준 ( 이미지 확장 )\",\n",
       " \"def plot_image(image):       # 흑백으로 찍어라  \\n    plt.imshow(image, cmap='gray', interpolation='nearest') # imshow : 이미지를 보여라\\n                                                            #interpolation='nearest' >> 데이터가 없는자리는 가까운 값으로 줘라 (보강법)\\n    plt.axis('off')  # 이미지니까 축은 생략\\n\\ndef plot_color_image(image):  # 컬러로 찍어라\\n    plt.imshow(image.astype(np.uint8), interpolation='nearest')\\n    plt.axis('off')\",\n",
       " '## Filter\\n\\n- 필터의 높이\\n- 필터의 가로\\n- 입력채널,\\n- 출력채널\\n순으로 데이터를 만들어야함\\n\\n\\n# 채널: 종이가 몇장인지로 이해하면 된다 ',\n",
       " '# filter 를 만드는 과정(필터) \\n\\n\\nimport numpy as np\\nfmap = np.zeros(shape=(7,7,1,2), dtype=np.float32) # 필터사이즈 7x7 (높이7,가로7),입력채널은 1개, 출력채널 2개 \\n                                                  # 즉 데이터1개가 들어와서 2개로 나간다 (그럼 필터가 2개가 필요하다는것!!)\\n                                                  \\n# 값을 대입해보자!!\\n\\nfmap[:,3,0,0]=1  # 첫번째 장의( 맨마지막숫자가0이니까) 세로값의 3번째를 1로 넣겠다는 뜻 \\n                 # ( 7개중 3번이니까 중앙이다 ) 0,1,2,3,4,5,중 3번에 1값을 주라!!!      # 0이면 검은색 1이면 흰색이다!!!!! \\nfmap[:,:,0,0]  #>> 첫번째 장 확인하는 것\\n\\nfmap[3,:,0,1] = 1  # 두번째 장의(맨마지막숫자가1이니까) 의 가로값의 3번째를 1로 넣겠다는 것 \\nfmap[:,:,0,1]   # >> 2번째 장 확인  ( 7,7,1,2 였고 출력장수는 2개니까 )',\n",
       " '# filter 를 만드는 과정(필터) \\n\\n\\nimport numpy as np\\nfmap = np.zeros(shape=(7,7,1,2), dtype=np.float32) # 필터사이즈 7x7 (높이7,가로7),입력채널은 1개, 출력채널 2개 \\n                                                  # 즉 데이터1개가 들어와서 2개로 나간다 (그럼 필터가 2개가 필요하다는것!!)\\n                                                  \\n# 값을 대입해보자!!\\n# 인덱스 값으로 생각해야 쉬움 \\nfmap[:,3,0,0]=1  # 첫번째 장의( 맨마지막숫자가0이니까) 세로값의 3번째를 1로 넣겠다는 뜻 \\n                 # ( 7개중 3번이니까 중앙이다 ) 0,1,2,3,4,5,중 3번에 1값을 주라!!!      # 0이면 검은색 1이면 흰색이다!!!!! \\nfmap[:,:,0,0]  #>> 첫번째 장 확인하는 것\\n\\nfmap[3,:,0,1] = 1  # 두번째 장의(맨마지막숫자가1이니까) 의 가로값의 3번째를 1로 넣겠다는 것 \\nfmap[:,:,0,1]   # >> 2번째 장 확인  ( 7,7,1,2 였고 출력장수는 2개니까 )',\n",
       " '# filter 를 만드는 과정(필터) \\n\\n\\nimport numpy as np\\nfmap = np.zeros(shape=(7,7,1,2), dtype=np.float32) # 필터사이즈 7x7 (높이7,가로7),입력채널은 1개, 출력채널 2개 \\n                                                  # 즉 데이터1개가 들어와서 2개로 나간다 (그럼 필터가 2개가 필요하다는것!!)\\n                                                  \\n# 값을 대입해보자!!\\n# 인덱스 값으로 생각해야 쉬움 \\nfmap[:,3,0,0]=1  # 첫번째 장의( 맨마지막숫자가0이니까) 세로값의 3번째를 1로 넣겠다는 뜻 \\n                 # ( 7개중 3번이니까 중앙이다 ) 0,1,2,3,4,5,6중 3번에 1값을 주라!!!      # 0이면 검은색 1이면 흰색이다!!!!! \\nfmap[:,:,0,0]  #>> 첫번째 장 확인하는 것\\n\\n#fmap[3,:,0,1] = 1  # 두번째 장의(맨마지막숫자가1이니까) 의 가로값의 3번째를 1로 넣겠다는 것 \\n#fmap[:,:,0,1]   # >> 2번째 장 확인  ( 7,7,1,2 였고 출력장수는 2개니까 )',\n",
       " '# filter 를 만드는 과정(필터) \\n\\n\\nimport numpy as np\\nfmap = np.zeros(shape=(7,7,1,2), dtype=np.float32) # 필터사이즈 7x7 (높이7,가로7),입력채널은 1개, 출력채널 2개 \\n                                                  # 즉 데이터1개가 들어와서 2개로 나간다 (그럼 필터가 2개가 필요하다는것!!)\\n                                                  \\n# 값을 대입해보자!!\\n# 인덱스 값으로 생각해야 쉬움 \\nfmap[:,3,0,0]=1  # 첫번째 장의( 맨마지막숫자가0이니까) 세로값의 3번째를 1로 넣겠다는 뜻 \\n                 # ( 7개중 3번이니까 중앙이다 ) 0,1,2,3,4,5,6중 3번에 1값을 주라!!!      # 0이면 검은색 1이면 흰색이다!!!!! \\nfmap[:,:,0,0]  #>> 첫번째 장 확인하는 것\\n\\n#  아래거랑 비교\\n\\n#fmap[3,:,0,1] = 1  # 두번째 장의(맨마지막숫자가1이니까) 의 가로값의 3번째를 1로 넣겠다는 것 \\n#fmap[:,:,0,1]   # >> 2번째 장 확인  ( 7,7,1,2 였고 출력장수는 2개니까 )',\n",
       " '# array 를 그림으로 찍어보자\\nimport matplotlib.pyplot as plt\\n\\nplot_image(fmap[:,:,0,0])  # 세로가 흰색이 된다 ( 1이면 흰색이니까) \\nplt.show()\\n\\nprint(fmap[:,:,0,0])  #그림을 좌표로 찍은 것  >>  검은색은 0 + 흰색은 1이다 \\n\\nplot_image(fmap[:,:,0,1]) # 가로가 흰색 \\nplt.show()',\n",
       " '# filter 를 만드는 과정(필터) \\n\\n\\nimport numpy as np\\nfmap = np.zeros(shape=(7,7,1,2), dtype=np.float32) # 필터사이즈 7x7 (높이7,가로7),입력채널은 1개, 출력채널 2개 \\n                                                  # 즉 데이터1개가 들어와서 2개로 나간다 (그럼 필터가 2개가 필요하다는것!!)\\n                                                  \\n# 값을 대입해보자!!\\n# 인덱스 값으로 생각해야 쉬움 \\nfmap[:,3,0,0]=1  # 첫번째 장의( 맨마지막숫자가0이니까) 세로값의 3번째를 1로 넣겠다는 뜻 \\n                 # ( 7개중 3번이니까 중앙이다 ) 0,1,2,3,4,5,6중 3번에 1값을 주라!!!      # 0이면 검은색 1이면 흰색이다!!!!! \\nfmap[:,:,0,0]  #>> 첫번째 장 확인하는 것\\n\\n#  아래거랑 비교\\n\\nfmap[3,:,0,1] = 1  # 두번째 장의(맨마지막숫자가1이니까) 의 가로값의 3번째를 1로 넣겠다는 것 \\n#fmap[:,:,0,1]   # >> 2번째 장 확인  ( 7,7,1,2 였고 출력장수는 2개니까 )',\n",
       " '# filter 를 만드는 과정(필터) \\n\\n\\nimport numpy as np\\nfmap = np.zeros(shape=(7,7,1,2), dtype=np.float32) # 필터사이즈 7x7 (높이7,가로7),입력채널은 1개, 출력채널 2개 \\n                                                  # 즉 데이터1개가 들어와서 2개로 나간다 (그럼 필터가 2개가 필요하다는것!!)\\n                                                  \\n# 값을 대입해보자!!\\n# 인덱스 값으로 생각해야 쉬움 \\nfmap[:,3,0,0]=1  # 첫번째 장의( 맨마지막숫자가0이니까) 세로값의 3번째를 1로 넣겠다는 뜻 \\n                 # ( 7개중 3번이니까 중앙이다 ) 0,1,2,3,4,5,6중 3번에 1값을 주라!!!      # 0이면 검은색 1이면 흰색이다!!!!! \\nfmap[:,:,0,0]  #>> 첫번째 장 확인하는 것\\n\\n#  아래거랑 비교\\n\\nfmap[3,:,0,1] = 1  # 두번째 장의(맨마지막숫자가1이니까) 의 가로값의 3번째를 1로 넣겠다는 것 \\n#fmap[:,:,0,1]   # >> 2번째 장 확인  ( 7,7,1,2 였고 출력장수는 2개니까 )',\n",
       " '# array 를 그림으로 찍어보자\\nimport matplotlib.pyplot as plt\\n\\nplot_image(fmap[:,:,0,0])  # 세로가 흰색이 된다 ( 1이면 흰색이니까) \\nplt.show()\\n\\nprint(fmap[:,:,0,0])  #그림을 좌표로 찍은 것  >>  검은색은 0 + 흰색은 1이다 \\n\\nplot_image(fmap[:,:,0,1]) # 가로가 흰색 \\nplt.show()',\n",
       " 'with tf.Session() as sess:\\n    output= convolution.eval(feed_dict={X: images})',\n",
       " 'plot_image(images[0,:,:,0]) \\n\\nsave_fig(\"china_original\", tight_layout=False)\\n\\nplt.show()   # 짜른 이미지가 나온다',\n",
       " \"# output 은 2장이 나올것(2장의 이미지)\\nplot_image(output[0,:,:,0])   \\n## >> 0번 필터가 적용되었다 ( 0번 필터는 하얀것이 세로 였다 ) >> 0번필터는 세로줄 >> 상하의 특징만 고려되고 자우의 특징은 고려되지 않음\\n\\nsave_fig('china_vertical', tight_layout=False)\",\n",
       " \"plot_image(output[0,:,:,1])      # 1번 필터가 적용되었다 >>  가로의 특징을 잡아냄 \\nsave_fig('china_vertical', tight_layout=False)\\nplt.show()\",\n",
       " \"reset_graph()\\nX=tf.placeholder(tf.float32, shape=(None, height, width, 1))  # placeholder 를 이용해서 주입변수를 만들고 있다\\n                                                              # shape : 장 수 (몇장인지), 높이, 가로, 채널 수 (이러한 형태로 데이터들어옴)\\n                                                             # 흑백이미지니까 채널은 1개 \\n                                                             # 아까 위에서 reshape 으로 확장했었음 \\n            \\n            \\nfeature_maps = tf.constant(fmap)     # 필터를 상수로!!\\n\\nconvolution = tf.nn.conv2d(X,feature_maps, strides=[1,1,1,1],padding='SAME', use_cudnn_on_gpu=False)\\n\\n\\n# convolution 은 1d(text) , 2d(image) , 3d(동영상) 가 있다.  2d는 이미지를 처리한다\\n\\n# 1. X 는 (None, height, width, 1 ) 순서로 데이터가 들어온다\\n# 2.strides 는 몇 칸을 건너뛸지.\\n# 3. padding 은 same 이니까 입력차수와 출력차수가 같아야한다 \\n   #(image 가 70 x 120 이였다 --> 절차를 진행하고 나면 70x120 그대로 나온다 ( padding=Same 이기 때문에 ) )\\n   # same 이 아니였다면?  필터사이즈가 7x7 이므로  절차를 진행하고 나면 64x114 가 나온다 ( 70-7+1, 120-7+1 )    \\n\\n# 4. use_cudnn_on_gpu=False >>> gpu 쓸지말지 인데 지금은 필요없음 \\n\\n# 5. pooling 은 별도로 진행함!!\\nIn \"]"
      ]
     },
     "execution_count": 31,
     "metadata": {},
     "output_type": "execute_result"
    }
   ],
   "source": [
    "reset_graph()\n",
    "X=tf.placeholder(tf.float32, shape=(None, height, width, 1))  # placeholder 를 이용해서 주입변수를 만들고 있다\n",
    "                                                              # shape : 장 수 (몇장인지), 높이, 가로, 채널 수 (이러한 형태로 데이터들어옴)\n",
    "                                                             # 흑백이미지니까 채널은 1개 \n",
    "                                                             # 아까 위에서 reshape 으로 확장했었음 \n",
    "            \n",
    "            \n",
    "feature_maps = tf.constant(fmap)     # 필터를 상수로!!\n",
    "\n",
    "convolution = tf.nn.conv2d(X,feature_maps, strides=[1,1,1,1],padding='SAME', use_cudnn_on_gpu=False)\n",
    "\n",
    "\n",
    "# convolution 은 1d(text) , 2d(image) , 3d(동영상) 가 있다.  2d는 이미지를 처리한다\n",
    "\n",
    "# 1. X 는 (None, height, width, 1 ) 순서로 데이터가 들어온다\n",
    "# 2.strides 는 몇 칸을 건너뛸지.\n",
    "# 3. padding 은 same 이니까 입력차수와 출력차수가 같아야한다 \n",
    "   #(image 가 70 x 120 이였다 --> 절차를 진행하고 나면 70x120 그대로 나온다 ( padding=Same 이기 때문에 ) )\n",
    "   # same 이 아니였다면?  필터사이즈가 7x7 이므로  절차를 진행하고 나면 64x114 가 나온다 ( 70-7+1, 120-7+1 )    \n",
    "\n",
    "# 4. use_cudnn_on_gpu=False >>> gpu 쓸지말지 인데 지금은 필요없음 \n",
    "\n",
    "# 5. pooling 은 별도로 진행함!!\n",
    "In "
   ]
  },
  {
   "cell_type": "code",
   "execution_count": 32,
   "metadata": {},
   "outputs": [],
   "source": [
    "with tf.Session() as sess:\n",
    "    output= convolution.eval(feed_dict={X: images})"
   ]
  },
  {
   "cell_type": "markdown",
   "metadata": {},
   "source": [
    "\n",
    "## output"
   ]
  },
  {
   "cell_type": "code",
   "execution_count": 33,
   "metadata": {},
   "outputs": [],
   "source": [
    "# images :image_grayscale.reshape(1, height,width,1)"
   ]
  },
  {
   "cell_type": "code",
   "execution_count": 34,
   "metadata": {},
   "outputs": [
    {
     "ename": "NameError",
     "evalue": "name 'os' is not defined",
     "output_type": "error",
     "traceback": [
      "\u001b[1;31m---------------------------------------------------------------------------\u001b[0m",
      "\u001b[1;31mNameError\u001b[0m                                 Traceback (most recent call last)",
      "\u001b[1;32m<ipython-input-34-fd75b516c6af>\u001b[0m in \u001b[0;36m<module>\u001b[1;34m\u001b[0m\n\u001b[0;32m      1\u001b[0m \u001b[0mplot_image\u001b[0m\u001b[1;33m(\u001b[0m\u001b[0mimages\u001b[0m\u001b[1;33m[\u001b[0m\u001b[1;36m0\u001b[0m\u001b[1;33m,\u001b[0m\u001b[1;33m:\u001b[0m\u001b[1;33m,\u001b[0m\u001b[1;33m:\u001b[0m\u001b[1;33m,\u001b[0m\u001b[1;36m0\u001b[0m\u001b[1;33m]\u001b[0m\u001b[1;33m)\u001b[0m\u001b[1;33m\u001b[0m\u001b[1;33m\u001b[0m\u001b[0m\n\u001b[0;32m      2\u001b[0m \u001b[1;33m\u001b[0m\u001b[0m\n\u001b[1;32m----> 3\u001b[1;33m \u001b[0msave_fig\u001b[0m\u001b[1;33m(\u001b[0m\u001b[1;34m\"china_original\"\u001b[0m\u001b[1;33m,\u001b[0m \u001b[0mtight_layout\u001b[0m\u001b[1;33m=\u001b[0m\u001b[1;32mFalse\u001b[0m\u001b[1;33m)\u001b[0m\u001b[1;33m\u001b[0m\u001b[1;33m\u001b[0m\u001b[0m\n\u001b[0m\u001b[0;32m      4\u001b[0m \u001b[1;33m\u001b[0m\u001b[0m\n\u001b[0;32m      5\u001b[0m \u001b[0mplt\u001b[0m\u001b[1;33m.\u001b[0m\u001b[0mshow\u001b[0m\u001b[1;33m(\u001b[0m\u001b[1;33m)\u001b[0m   \u001b[1;31m# 짜른 이미지가 나온다\u001b[0m\u001b[1;33m\u001b[0m\u001b[1;33m\u001b[0m\u001b[0m\n",
      "\u001b[1;32m<ipython-input-13-dbe9b0595b06>\u001b[0m in \u001b[0;36msave_fig\u001b[1;34m(fig_id, tight_layout)\u001b[0m\n\u001b[0;32m      2\u001b[0m \u001b[1;33m\u001b[0m\u001b[0m\n\u001b[0;32m      3\u001b[0m \u001b[1;32mdef\u001b[0m \u001b[0msave_fig\u001b[0m\u001b[1;33m(\u001b[0m\u001b[0mfig_id\u001b[0m\u001b[1;33m,\u001b[0m \u001b[0mtight_layout\u001b[0m\u001b[1;33m=\u001b[0m\u001b[1;32mTrue\u001b[0m\u001b[1;33m)\u001b[0m\u001b[1;33m:\u001b[0m\u001b[1;33m\u001b[0m\u001b[1;33m\u001b[0m\u001b[0m\n\u001b[1;32m----> 4\u001b[1;33m     \u001b[0mpath\u001b[0m \u001b[1;33m=\u001b[0m \u001b[0mos\u001b[0m\u001b[1;33m.\u001b[0m\u001b[0mpath\u001b[0m\u001b[1;33m.\u001b[0m\u001b[0mjoin\u001b[0m\u001b[1;33m(\u001b[0m\u001b[1;34m\"./images/\"\u001b[0m\u001b[1;33m,\u001b[0m \u001b[0mfig_id\u001b[0m \u001b[1;33m+\u001b[0m \u001b[1;34m'.png'\u001b[0m\u001b[1;33m)\u001b[0m \u001b[1;31m# /images/ 는 경로이다! ( 실제 images 라는 폴더가 문서안에 있어야한다)  'png' 스타일로 저장한다\u001b[0m\u001b[1;33m\u001b[0m\u001b[1;33m\u001b[0m\u001b[0m\n\u001b[0m\u001b[0;32m      5\u001b[0m     \u001b[0mprint\u001b[0m\u001b[1;33m(\u001b[0m\u001b[1;34m\"Saving figure\"\u001b[0m\u001b[1;33m,\u001b[0m \u001b[0mfig_id\u001b[0m\u001b[1;33m)\u001b[0m\u001b[1;33m\u001b[0m\u001b[1;33m\u001b[0m\u001b[0m\n\u001b[0;32m      6\u001b[0m     \u001b[1;32mif\u001b[0m \u001b[0mtight_layout\u001b[0m\u001b[1;33m:\u001b[0m  \u001b[1;31m# tight_layout 이  true 라면?\u001b[0m\u001b[1;33m\u001b[0m\u001b[1;33m\u001b[0m\u001b[0m\n",
      "\u001b[1;31mNameError\u001b[0m: name 'os' is not defined"
     ]
    },
    {
     "data": {
      "image/png": "[encoded data removed]",
      "text/plain": [
       "<Figure size 432x288 with 1 Axes>"
      ]
     },
     "metadata": {
      "needs_background": "light"
     },
     "output_type": "display_data"
    }
   ],
   "source": [
    "plot_image(images[0,:,:,0]) \n",
    "\n",
    "save_fig(\"china_original\", tight_layout=False)\n",
    "\n",
    "plt.show()   # 짜른 이미지가 나온다"
   ]
  },
  {
   "cell_type": "code",
   "execution_count": 29,
   "metadata": {},
   "outputs": [
    {
     "ename": "NameError",
     "evalue": "name 'output' is not defined",
     "output_type": "error",
     "traceback": [
      "\u001b[1;31m---------------------------------------------------------------------------\u001b[0m",
      "\u001b[1;31mNameError\u001b[0m                                 Traceback (most recent call last)",
      "\u001b[1;32m<ipython-input-29-31e8f5c6d160>\u001b[0m in \u001b[0;36m<module>\u001b[1;34m\u001b[0m\n\u001b[0;32m      1\u001b[0m \u001b[1;31m# output 은 2장이 나올것(2장의 이미지)\u001b[0m\u001b[1;33m\u001b[0m\u001b[1;33m\u001b[0m\u001b[1;33m\u001b[0m\u001b[0m\n\u001b[1;32m----> 2\u001b[1;33m \u001b[0mplot_image\u001b[0m\u001b[1;33m(\u001b[0m\u001b[0moutput\u001b[0m\u001b[1;33m[\u001b[0m\u001b[1;36m0\u001b[0m\u001b[1;33m,\u001b[0m\u001b[1;33m:\u001b[0m\u001b[1;33m,\u001b[0m\u001b[1;33m:\u001b[0m\u001b[1;33m,\u001b[0m\u001b[1;36m0\u001b[0m\u001b[1;33m]\u001b[0m\u001b[1;33m)\u001b[0m\u001b[1;33m\u001b[0m\u001b[1;33m\u001b[0m\u001b[0m\n\u001b[0m\u001b[0;32m      3\u001b[0m \u001b[1;31m## >> 0번 필터가 적용되었다 ( 0번 필터는 하얀것이 세로 였다 ) >> 0번필터는 세로줄 >> 상하의 특징만 고려되고 자우의 특징은 고려되지 않음\u001b[0m\u001b[1;33m\u001b[0m\u001b[1;33m\u001b[0m\u001b[1;33m\u001b[0m\u001b[0m\n\u001b[0;32m      4\u001b[0m \u001b[1;33m\u001b[0m\u001b[0m\n\u001b[0;32m      5\u001b[0m \u001b[0msave_fig\u001b[0m\u001b[1;33m(\u001b[0m\u001b[1;34m'china_vertical'\u001b[0m\u001b[1;33m,\u001b[0m \u001b[0mtight_layout\u001b[0m\u001b[1;33m=\u001b[0m\u001b[1;32mFalse\u001b[0m\u001b[1;33m)\u001b[0m\u001b[1;33m\u001b[0m\u001b[1;33m\u001b[0m\u001b[0m\n",
      "\u001b[1;31mNameError\u001b[0m: name 'output' is not defined"
     ]
    }
   ],
   "source": [
    "# output 은 2장이 나올것(2장의 이미지)\n",
    "plot_image(output[0,:,:,0])   \n",
    "## >> 0번 필터가 적용되었다 ( 0번 필터는 하얀것이 세로 였다 ) >> 0번필터는 세로줄 >> 상하의 특징만 고려되고 자우의 특징은 고려되지 않음\n",
    "\n",
    "save_fig('china_vertical', tight_layout=False)"
   ]
  },
  {
   "cell_type": "code",
   "execution_count": 30,
   "metadata": {},
   "outputs": [
    {
     "ename": "NameError",
     "evalue": "name 'output' is not defined",
     "output_type": "error",
     "traceback": [
      "\u001b[1;31m---------------------------------------------------------------------------\u001b[0m",
      "\u001b[1;31mNameError\u001b[0m                                 Traceback (most recent call last)",
      "\u001b[1;32m<ipython-input-30-94bb35ade146>\u001b[0m in \u001b[0;36m<module>\u001b[1;34m\u001b[0m\n\u001b[1;32m----> 1\u001b[1;33m \u001b[0mplot_image\u001b[0m\u001b[1;33m(\u001b[0m\u001b[0moutput\u001b[0m\u001b[1;33m[\u001b[0m\u001b[1;36m0\u001b[0m\u001b[1;33m,\u001b[0m\u001b[1;33m:\u001b[0m\u001b[1;33m,\u001b[0m\u001b[1;33m:\u001b[0m\u001b[1;33m,\u001b[0m\u001b[1;36m1\u001b[0m\u001b[1;33m]\u001b[0m\u001b[1;33m)\u001b[0m      \u001b[1;31m# 1번 필터가 적용되었다 >>  가로의 특징을 잡아냄\u001b[0m\u001b[1;33m\u001b[0m\u001b[1;33m\u001b[0m\u001b[0m\n\u001b[0m\u001b[0;32m      2\u001b[0m \u001b[0msave_fig\u001b[0m\u001b[1;33m(\u001b[0m\u001b[1;34m'china_vertical'\u001b[0m\u001b[1;33m,\u001b[0m \u001b[0mtight_layout\u001b[0m\u001b[1;33m=\u001b[0m\u001b[1;32mFalse\u001b[0m\u001b[1;33m)\u001b[0m\u001b[1;33m\u001b[0m\u001b[1;33m\u001b[0m\u001b[0m\n\u001b[0;32m      3\u001b[0m \u001b[0mplt\u001b[0m\u001b[1;33m.\u001b[0m\u001b[0mshow\u001b[0m\u001b[1;33m(\u001b[0m\u001b[1;33m)\u001b[0m\u001b[1;33m\u001b[0m\u001b[1;33m\u001b[0m\u001b[0m\n",
      "\u001b[1;31mNameError\u001b[0m: name 'output' is not defined"
     ]
    }
   ],
   "source": [
    "plot_image(output[0,:,:,1])      # 1번 필터가 적용되었다 >>  가로의 특징을 잡아냄 \n",
    "save_fig('china_vertical', tight_layout=False)\n",
    "plt.show()"
   ]
  },
  {
   "cell_type": "code",
   "execution_count": null,
   "metadata": {},
   "outputs": [],
   "source": [
    "# 확실히 가로의 특징 ,세로의 특징을 잡아낸 그림은 다르다 >>>> 필터가 다르면 특징도 다르게 잡힌다."
   ]
  },
  {
   "cell_type": "code",
   "execution_count": null,
   "metadata": {},
   "outputs": [],
   "source": []
  },
  {
   "cell_type": "code",
   "execution_count": null,
   "metadata": {},
   "outputs": [],
   "source": []
  },
  {
   "cell_type": "code",
   "execution_count": null,
   "metadata": {},
   "outputs": [],
   "source": []
  },
  {
   "cell_type": "code",
   "execution_count": null,
   "metadata": {},
   "outputs": [],
   "source": []
  },
  {
   "cell_type": "code",
   "execution_count": null,
   "metadata": {},
   "outputs": [],
   "source": []
  },
  {
   "cell_type": "code",
   "execution_count": null,
   "metadata": {},
   "outputs": [],
   "source": []
  },
  {
   "cell_type": "code",
   "execution_count": null,
   "metadata": {},
   "outputs": [],
   "source": []
  },
  {
   "cell_type": "code",
   "execution_count": null,
   "metadata": {},
   "outputs": [],
   "source": []
  },
  {
   "cell_type": "code",
   "execution_count": null,
   "metadata": {},
   "outputs": [],
   "source": []
  },
  {
   "cell_type": "code",
   "execution_count": null,
   "metadata": {},
   "outputs": [],
   "source": []
  }
 ],
 "metadata": {
  "kernelspec": {
   "display_name": "Python 3",
   "language": "python",
   "name": "python3"
  },
  "language_info": {
   "codemirror_mode": {
    "name": "ipython",
    "version": 3
   },
   "file_extension": ".py",
   "mimetype": "text/x-python",
   "name": "python",
   "nbconvert_exporter": "python",
   "pygments_lexer": "ipython3",
   "version": "3.7.4"
  },
  "toc": {
   "base_numbering": 1,
   "nav_menu": {},
   "number_sections": true,
   "sideBar": true,
   "skip_h1_title": false,
   "title_cell": "Table of Contents",
   "title_sidebar": "Contents",
   "toc_cell": false,
   "toc_position": {
    "height": "calc(100% - 180px)",
    "left": "10px",
    "top": "150px",
    "width": "165px"
   },
   "toc_section_display": true,
   "toc_window_display": true
  }
 },
 "nbformat": 4,
 "nbformat_minor": 2
}
