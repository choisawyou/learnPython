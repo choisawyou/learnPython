{
 "cells": [
  {
   "cell_type": "code",
   "execution_count": null,
   "metadata": {},
   "outputs": [],
   "source": [
    "#자료구조를 타입화 \n",
    "\n",
    "#list[] : 데이터의 앞뒤에 다음이나 이전 데이터의 주소가 저장\n",
    "#       : 메모리를 효율적으로 사용하고 *삽입,삭제를 용이하게* 하기위해서 사용하는 자료구조\n",
    "#      : 검색에서는 속도가 느림\n",
    "\n",
    "#dict {}: key 값이 데이터가 저장되어지는 주소 값으로 계산되는  hash 함수를 이용해\n",
    "#      : 데이터 저장하고, *검색속도가 빠르다*\n",
    "\n",
    "\n",
    "#set  : 데이터 주소 값으로 변환되어지는 key : 데이터 형식으로 저장됨\n",
    "#     :key만 저장 ( 중복 불허) : 범주형 데이터의 종류를 확인할 때 사용\n",
    "\n",
    "#tuple (): list와 동일하지만 변경이 불가능함 (함수가 작음) , 함수의 매개변수로 \n",
    "#        : 값을 전달하거나 여러개의 값을 리턴하고 싶을 때 사용\n",
    "#       : => 속도가 빠르기 때문에 tuple을 이용 \n"
   ]
  },
  {
   "cell_type": "code",
   "execution_count": null,
   "metadata": {},
   "outputs": [],
   "source": [
    "a = 10   #주소 #=>  값저장 (맵핑)\n",
    "b = a    #10이 대입되는 것이 아니고 , a가 가르키는 주소가 대입 \n",
    "print(a)\n",
    "print(b)"
   ]
  },
  {
   "cell_type": "code",
   "execution_count": null,
   "metadata": {},
   "outputs": [],
   "source": [
    "#주소값 일치 \n",
    "print(\"주소값 대입\" , id(a)),print(id(b))\n"
   ]
  },
  {
   "cell_type": "code",
   "execution_count": null,
   "metadata": {},
   "outputs": [],
   "source": [
    "a = 20   #주소 #=>  값저장 (맵핑)\n",
    "print(a)\n",
    "print(b)\n",
    "print(\"주소값 대입\" , id(a)),print(id(b))"
   ]
  },
  {
   "cell_type": "code",
   "execution_count": null,
   "metadata": {},
   "outputs": [],
   "source": [
    "type(a)"
   ]
  },
  {
   "cell_type": "code",
   "execution_count": null,
   "metadata": {},
   "outputs": [],
   "source": [
    "#파이썬은 대소문자를 구분한다 "
   ]
  },
  {
   "cell_type": "code",
   "execution_count": null,
   "metadata": {},
   "outputs": [],
   "source": [
    "a = 10\n",
    "A = 20\n",
    "print(a)"
   ]
  },
  {
   "cell_type": "code",
   "execution_count": null,
   "metadata": {},
   "outputs": [],
   "source": [
    "#데이터 입력 : 프롬프트 텍스트 \n",
    "#수식을 입력하시오 에 값을 반드시 입력 그렇지않으면  에러남 \n",
    "#에러나면 kernal - restart\n",
    "problem = input(\"수식을 입력하시요\") #데이터 입출력은 문자열로 입출력됨\n",
    "#연산을 위해 데이터 타입을 숫자로 변경\n",
    "\n",
    "print(problem)\n",
    "print(int(problem)) #데이터   casting : 데이터 형변환  _int 는 값이 숫자 !\n",
    "print(eval(problem)) #평가 _ + - 가 같은 문자열이 있어도 casting이 가능하다 "
   ]
  },
  {
   "cell_type": "code",
   "execution_count": null,
   "metadata": {},
   "outputs": [],
   "source": [
    "a3 = 4.24e-3  #exponent 지수형\n",
    "a4 = 0o177    #octal 8진수로 표현 \n",
    "print(a3)\n",
    "print(a4)"
   ]
  },
  {
   "cell_type": "code",
   "execution_count": null,
   "metadata": {},
   "outputs": [],
   "source": [
    "#fullName 문자열 : 기본이 1차원 배열 , 숫자 int : 4바이트, float 4바이트 \n",
    "\n",
    "fullName = input(\"이름을 입력하세요\")\n",
    "n = fullName.rfind(\" \")\n",
    "\n",
    "print(fullName[0]) #배열과 리스트의 인덱싱은 동일하다\n",
    "print(fullName[1])\n",
    "print(fullName[2])\n",
    "print(n)\n",
    "print(\"이름:\", fullName[n+1:])# : 은 끝까지 \n",
    "print(\"성 (s)\", fullName[:n])\n"
   ]
  },
  {
   "cell_type": "code",
   "execution_count": null,
   "metadata": {},
   "outputs": [],
   "source": [
    "#문자열은 ''\n",
    "\n",
    "s = 'korea'\n",
    "print(s+s)  #koreakorea\n",
    "print(s *3 ) #koreakoreakorea #횟수지정\n",
    "print(s[0:])  #korea\n",
    "print(s[4])   #a\n",
    "print(s[-1])   #- 는  뒤에서 부터라는 의미\n",
    "print(s[1:3])\n",
    "print(s[-2:])\n",
    "print(s[-2:5])\n",
    "print(s[3:-1]) #e\n",
    "print(len(s)) #5\n",
    "s.split('r')  #['ko', 'ea']   r을 기준으로 분할\n"
   ]
  },
  {
   "cell_type": "code",
   "execution_count": null,
   "metadata": {},
   "outputs": [],
   "source": [
    "# csv데이터 : comma로 분리된데이터\n",
    "t = 'Seoul, Incheon , won'.split(',')\n",
    "print(t) #리스트로 분할 "
   ]
  },
  {
   "cell_type": "code",
   "execution_count": null,
   "metadata": {},
   "outputs": [],
   "source": [
    "#파이썬은 객체지향 프로그래밍으로 설계된 언어임 : 모든 것이 객체임 , 함수 또한 객체이다 \n",
    "# c , java는 객체지향을 별도로 학습\n",
    "#pyrthon 은 자체가 객체지향언어 \n",
    "# 데이터셋.함수 \n",
    "\n",
    "s = 'korea'\n",
    "print(s.capitalize())\n",
    "print(s.find('r'))\n",
    "print(s.count('re'))\n",
    "print(s.isalpha())\n",
    "print(s.isdigit())\n",
    "print('0123'.isdigit())\n",
    "print(s.replace('r','R'))\n",
    "print(s.startswith('K'))\n",
    "print(s.endswith('a'))"
   ]
  },
  {
   "cell_type": "code",
   "execution_count": null,
   "metadata": {},
   "outputs": [],
   "source": [
    "#산술연산\n",
    "a = 3\n",
    "b = 4\n",
    "\n",
    "print( a+b, a-b, a*b, a/b)\n",
    "print(a / b)\n",
    "print(a%b) #나머지 연산자 : 경우의 수를 생성할 때 : 변수가 가질 수 있는 경우의 수를 확인 \n",
    "print(1%2)\n",
    "print(2%2)\n",
    "print(3%2)\n",
    "print(4%2)\n",
    "\n",
    "print(7 /4)\n",
    "print(7 //4) #몫연산자 # 4가 1번만 들어가니 결과 값은 1"
   ]
  },
  {
   "cell_type": "code",
   "execution_count": null,
   "metadata": {},
   "outputs": [],
   "source": [
    "#내장함수 :\n",
    "#괄호 [] : list\n",
    "#    {}  : dict\n",
    "#    () : tuple , 함수에서 사용 \n",
    "\n",
    "print(\"sum([1,2,3]) : \" , sum([1,2,3]))\n",
    "print(\"min([1,2,3]) : \" , min([1,2,3]))\n",
    "print(\"abs(-11)': \" , abs(-11)) #abs 절대값\n",
    "print(\"pow(2,10):\", pow(2,10)) # 2의 10승\n",
    "print(\"round(3.141592):\" , round(3.141592)) #반올림 # 디폴트 값으로 0이 숨어있음 = > round(3.141592,0)\n",
    "print(\"round(3.141592): \" , round(3.141592,2)) #둘째자리까지 표현해라 ! \n",
    "\n",
    "#객체 지향에서 함수의 형태가 다르면 : 오버로딩\n",
    "#파이썬 오버로딩이 없음 => 디폴트 매개변수 "
   ]
  },
  {
   "cell_type": "code",
   "execution_count": null,
   "metadata": {},
   "outputs": [],
   "source": [
    "#문제 : 숫자 4,7,8 을 리스트로 초기화하고 합계를 출력하시오 \n",
    "\n",
    "\n",
    "# 샘 답\n",
    "\n",
    "i = [4,7,8]\n",
    "print(sum(i))"
   ]
  },
  {
   "cell_type": "code",
   "execution_count": null,
   "metadata": {},
   "outputs": [],
   "source": [
    "#문제 : 숫자 4,7,8 을 리스트로 초기화하고 합계를 출력하시오 \n",
    "\n",
    "print(\"sum:\",sum([4,7,8]))"
   ]
  },
  {
   "cell_type": "code",
   "execution_count": null,
   "metadata": {},
   "outputs": [],
   "source": [
    "#문제  : 두 수를 입력받아 몫과 나머지를 출력하시오\n",
    "\n",
    "#  쌤 답 \n",
    "\n",
    "num1 = input(\"정수를 입력하시오\")\n",
    "\n",
    "num2 = input(\"정수를 입력하시오\")\n",
    "hab = int(num1) + int(num2)  #casting 하는 과정\n",
    "quotient = hab //2\n",
    "remainder = hab %2\n",
    "print( \"입력수를 2로 나눈 결과 몫 = :\" , quotient, \"나머지 = \" ,remainder)\n",
    "\n",
    "#파이썬의 블록은 들여쓰기임 : 블록 : 여러일을 묶는 역할\n",
    "#조건문, 반복문,함수\n",
    "\n",
    "if remainder == 0:\n",
    "    print(\"짝수입니다.\")\n",
    "    print(\"짝수입니다.\")\n",
    "    print(\"짝수입니다.\")\n",
    "else:\n",
    "    print(\"홀수입니다.\")"
   ]
  },
  {
   "cell_type": "code",
   "execution_count": null,
   "metadata": {},
   "outputs": [],
   "source": [
    "x = 300          #전역변수 \n",
    "def myfunc():    #함수도 return  type 지정하지않는다 #def = define \n",
    "    x = 200     #지역변수 : 함수와 생사를 같이함\n",
    "    print(x)\n",
    "myfunc()\n",
    "print(x)"
   ]
  },
  {
   "cell_type": "code",
   "execution_count": null,
   "metadata": {},
   "outputs": [],
   "source": [
    "##HW\n",
    "##어떤 수가 입력되더라도 나머지가 0 : 가위 1:바위 2:보 로 출력하시오\n",
    "\n"
   ]
  },
  {
   "cell_type": "code",
   "execution_count": null,
   "metadata": {},
   "outputs": [],
   "source": [
    "#어떤 수가 입력되더라도 나머지가 0 : 가위 1:바위 2:보 로 출력하시오\n",
    "#쌤 답\n",
    "\n",
    "select = int(input(\"정수를 입력하시오\"))%3\n",
    "if select ==0:\n",
    "    print(\"가위\")\n",
    "elif select ==1:\n",
    "    print(\"바위\")\n",
    "elif select ==2:\n",
    "    print(\"보\")\n",
    "\n"
   ]
  },
  {
   "cell_type": "code",
   "execution_count": null,
   "metadata": {},
   "outputs": [],
   "source": [
    "#random : 프로그램에서 난수는 의사난수임\n",
    "\n",
    "import random  #내장함수가 아닌경우 import\n",
    "random.seed(1000)  #random 값이긴하지만 값의 변동 x\n",
    "print(random.randint(1,5))\n",
    "elements = [\"earth\",1,\"air\",\"fire\",\"water\"]\n",
    "elements[0]= \"earths\"\n",
    "print(random.choice(elements))\n",
    "print(random.sample(elements,2))\n",
    "random.shuffle(elements)\n",
    "print(elements)\n",
    "\n"
   ]
  },
  {
   "cell_type": "code",
   "execution_count": null,
   "metadata": {},
   "outputs": [],
   "source": [
    "#비교연산자( >=, <=), ==, <, >)와 논리 연산자( and, or , not)\n",
    "a = 20\n",
    "b = 10\n",
    "c = a>10 and b <50  #다른언어에서 이렇게 표현해줘야하지만\n",
    "print(c)\n",
    "\n",
    "c = 10<a<50  #파이썬에서는 이렇게 써도 ok\n",
    "print(c)"
   ]
  },
  {
   "cell_type": "code",
   "execution_count": null,
   "metadata": {},
   "outputs": [],
   "source": [
    "#swap\n",
    "x = 5\n",
    "y = 6\n",
    "x,y=y,x  #리턴값이 2개 이상도 가능 \n",
    "print(x,y)"
   ]
  },
  {
   "cell_type": "code",
   "execution_count": null,
   "metadata": {},
   "outputs": [],
   "source": [
    "#list 안의 list\n",
    "# a 에 저장된 것은 list 주소값 , \n",
    "#list는  주소를 담아논 항아리 \n",
    "\n",
    "a = [1,2,3,['a','b','c'],4,5]\n",
    "print(a[2:5]) #2번쨰부터 5번째까지\n",
    "print(a[3][:2]) #세번째에서 두개********************\n",
    "\n",
    "#2차원리스트\n",
    "#= [['a1',80,100],['a1',85,70],['a3',94,89]]\n",
    "\n",
    "\n",
    "#3차리스트\n",
    "a=[1,2,['a','b',['Life','is']]]\n",
    "print(a[0])\n",
    "print(a[2][2][0])"
   ]
  },
  {
   "cell_type": "code",
   "execution_count": null,
   "metadata": {},
   "outputs": [],
   "source": [
    "#리스트를 이용한 스택(stack) : 복귀 주소 저장 ( 함수의 운용)\n",
    "a = [10,20,30,40,50]\n",
    "a.append(60) #데이터 추가시  append 함수 사용\n",
    "print(a.pop()) #뒤에서 데이터를 가지고 오면서 삭제 (default 값이 맨 끝 값, 뺴고싶은 값의 인덱스를 넣으면 걔도 뺄 수 있음)\n",
    "print(a)\n",
    "a.append(60)\n",
    "print(a.pop())\n",
    "a.append(70)\n",
    "print(a)\n",
    "print(a.pop())\n",
    "a.append(80)\n",
    "print(a)\n",
    "print(a.pop())"
   ]
  },
  {
   "cell_type": "code",
   "execution_count": null,
   "metadata": {},
   "outputs": [],
   "source": [
    "#파이썬 함수 - 리턴값의 지정은 없음\n",
    "#define\n",
    "def caic(a,b): # # 함수의 역할 : 작업, 매개변수 : 작을 할 때 필요한 데이터 \n",
    "    return a+b, a*b  #2개이상 리턴 가능 \n",
    "x,y = caic(3,4)\n",
    "print(x,y)\n",
    "print(x) #x만 출력\n",
    "x,y\n",
    "args=(4,5) #tuple  \n",
    "caic(*args) #   * 을 붙여주면 합쳐진 함수도 찢어져서 따로 들어감 \n"
   ]
  },
  {
   "cell_type": "code",
   "execution_count": null,
   "metadata": {},
   "outputs": [],
   "source": [
    "#dictionary \n",
    "\n",
    "d = {'one':1,'two':2}  #key(one) : data(1) => 저장될 주소값으로 계산됨 _ 검색에서 가장 속도가 빠름\n",
    "d.items() # tuple 로 묶은게 list로 출력\n",
    "\n",
    "#mongodb =>NOSQL"
   ]
  },
  {
   "cell_type": "code",
   "execution_count": null,
   "metadata": {},
   "outputs": [],
   "source": [
    "cities = ['seoul','incheon','suwon']\n",
    "print(cities.index('suwon')) #2\n",
    "print('incheon'in cities) # 포함연산자\n",
    "print(cities.count('seoul'))\n",
    "sorted(cities)  #오름차순  # sorted : 정렬시켜논 결과만 출력 _  원래 데이터를 정렬하는 것이 아님 ! \n",
    "sorted(cities,reverse = True) #내림차순\n",
    "      "
   ]
  },
  {
   "cell_type": "code",
   "execution_count": null,
   "metadata": {},
   "outputs": [],
   "source": [
    "print(cities)\n",
    "cities.append('busan')\n",
    "print(cities)\n",
    "cities.insert(0,'daegu')\n",
    "print(cities)\n",
    "other_cities = ['jeju','kwangju']\n",
    "print('결합',cities + other_cities) #리스트 + 연산자\n",
    "cities.append(['daejun', 'ulsan']) #모양이 유지가 됨\n",
    "cities.extend(['jeju','kwangju'])\n",
    "print(cities)"
   ]
  },
  {
   "cell_type": "code",
   "execution_count": null,
   "metadata": {},
   "outputs": [],
   "source": [
    "print(cities[5])\n",
    "print(cities[5][1])\n",
    "cities[5][1]='jeju'\n",
    "print(cities)\n",
    "cities[5].remove(cities[5][1])\n",
    "print(cities)"
   ]
  },
  {
   "cell_type": "code",
   "execution_count": null,
   "metadata": {},
   "outputs": [],
   "source": [
    "print(\"정수입력:\", end = \" \")\n",
    "jumsu = int(input())\n",
    "if jumsu >= 90:print('A')\n",
    "elif jumsu >= 80: print('B')\n",
    "elif jumsu >= 70: print('C')\n",
    "elif jumsu >= 60: print('D')\n",
    "else: print('F')\n",
    "    "
   ]
  },
  {
   "cell_type": "code",
   "execution_count": 2,
   "metadata": {},
   "outputs": [],
   "source": [
    "#문제 \n",
    "# 다음 표 (color와 mode에 따른 날씨)를 if문을 이용하여 출력하시오\n",
    "# (반응에 따른 날씨 예측 프로그램)\n",
    "\n",
    "#              BLUE         RED\n",
    "#   STEADY     화창     비오는날\n",
    "#  FLASHING   구름      눈오는날\n",
    "\n",
    "\n",
    "#color = input( 'enter color')\n",
    "#mode = input ( 'enter mode')\n",
    "#print(color)\n",
    "#print(mode)\n",
    "\n",
    "#if  color == 'BLUE':\n",
    "#if mode == 'STEADY'\n",
    "# print(\"화창\")\n",
    "#    if color == 'RED'\n",
    "#    if mode == 'FLASHING'\n",
    "    \n",
    "      \n",
    "\n"
   ]
  },
  {
   "cell_type": "code",
   "execution_count": 6,
   "metadata": {},
   "outputs": [
    {
     "name": "stdout",
     "output_type": "stream",
     "text": [
      "색입력(BLUE or RED)red\n",
      "mode 입력 ( STEADY or FLASHING)steadu\n",
      "예측된 날씨는 눈오는 날\n"
     ]
    }
   ],
   "source": [
    "#문제 \n",
    "# 다음 표 (color와 mode에 따른 날씨)를 if문을 이용하여 출력하시오\n",
    "# (반응에 따른 날씨 예측 프로그램)\n",
    "\n",
    "#              BLUE         RED\n",
    "#   STEADY     화창     비오는날\n",
    "#  FLASHING   구름      눈오는날\n",
    "\n",
    "#썜 답\n",
    "\n",
    "\n",
    "color = input(\"색입력(BLUE or RED)\")\n",
    "mode = input(\"mode 입력 ( STEADY or FLASHING)\")\n",
    "color = color.upper()\n",
    "mode = mode.upper()\n",
    "result = ''\n",
    "\n",
    "if color == \"BLUE\":\n",
    "    if mode == \"STEADY\":\n",
    "        result = \"화창한 날\"\n",
    "    else:\n",
    "        result = \"구름낀 날\"\n",
    "else:\n",
    "    if mode == \"STEADY\":\n",
    "        result = \"비오는 날\"\n",
    "    else:\n",
    "        result = \"눈오는 날\"\n",
    "\n",
    "    \n",
    "print(\"예측된 날씨는\", result)\n",
    "\n"
   ]
  },
  {
   "cell_type": "code",
   "execution_count": 11,
   "metadata": {},
   "outputs": [],
   "source": [
    "#수입(revenue)과 지출(costs)을 입력받아 순수입을 출력하는 프로그램을 작성하시오\n",
    "#    제약조건 : 소수점 이하 2자리 까지 출력 (round)\n",
    "#    :수입과 지출이 동일한 경우를 고려하시오 (손익분기점)\n",
    "#    :결과 출력시 경우에 따라 순수익, 순손실도 같이 출력하도록 하시오 \n",
    "\n",
    "#나의 답\n",
    "\n",
    "#revenue = int(input(\"수입\"))\n",
    "#cost = int(input(\"지출\"))\n",
    "#result = \" \"\n",
    "\n",
    "#if revenue == cost:\n",
    "#    print(\"수입과 지출이 동일\")\n",
    "    \n",
    "#elif revenue > cost:\n",
    "#     print(\"순이익 :\" , revenue - cost , \"원\")\n",
    "#else \n",
    "#    print(\"순손실 :\",  cost - revenue , \"원\")\n",
    "\n"
   ]
  },
  {
   "cell_type": "code",
   "execution_count": 14,
   "metadata": {},
   "outputs": [
    {
     "name": "stdout",
     "output_type": "stream",
     "text": [
      "총비용105\n",
      "총수익4\n",
      "순손실 = 101.00.\n"
     ]
    }
   ],
   "source": [
    "#수입(revenue)과 지출(costs)을 입력받아 순수입을 출력하는 프로그램을 작성하시오\n",
    "#    제약조건 : 소수점 이하 2자리 까지 출력 (round)\n",
    "#    :수입과 지출이 동일한 경우를 고려하시오 (손익분기점)\n",
    "#    :결과 출력시 경우에 따라 순수익, 순손실도 같이 출력하도록 하시오 \n",
    "\n",
    "# 쌤 답\n",
    "\n",
    "costs = eval(input(\"총비용\"))\n",
    "revenue = eval(input(\"총수익\"))\n",
    "if costs == revenue :\n",
    "    result = \"손익분기점입니다\"\n",
    "else:\n",
    "    if costs < revenue:\n",
    "        profit = revenue - costs   #format에 \n",
    "        result = \"순수익 = {0:,.2f}.\".format(round(profit,2)) #포멧문자열  #{0:,.2f} => 첫번째 인수를 출력하고 그것을 소숫점 2번째까지?\n",
    "    else:\n",
    "        loss = costs - revenue\n",
    "        result = \"순손실 = {0:,.2f}.\".format(round(loss,2))\n",
    "        \n",
    "\n",
    "print(result)\n"
   ]
  },
  {
   "cell_type": "code",
   "execution_count": null,
   "metadata": {},
   "outputs": [],
   "source": [
    "#평균 , 분산, 표준편차, 표준편차, 변동계수 : 데이터 개수의 root값으로 나누어서 \n",
    "\n",
    " #분산 : 관측치 - 평균\n",
    "# for 문 : \n",
    "\n"
   ]
  }
 ],
 "metadata": {
  "kernelspec": {
   "display_name": "Python 3",
   "language": "python",
   "name": "python3"
  },
  "language_info": {
   "codemirror_mode": {
    "name": "ipython",
    "version": 3
   },
   "file_extension": ".py",
   "mimetype": "text/x-python",
   "name": "python",
   "nbconvert_exporter": "python",
   "pygments_lexer": "ipython3",
   "version": "3.7.4"
  }
 },
 "nbformat": 4,
 "nbformat_minor": 2
}
