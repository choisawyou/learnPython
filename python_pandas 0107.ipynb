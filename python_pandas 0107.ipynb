{
 "cells": [
  {
   "cell_type": "markdown",
   "metadata": {},
   "source": [
    "# Pandas "
   ]
  },
  {
   "cell_type": "markdown",
   "metadata": {},
   "source": [
    "##\n",
    "1차원 series _ 동질적 데이터 \n",
    "2차원 dataframe _ 여러개의 series 가 모여 df 생성 \n",
    "3차원 panel \n",
    "\n",
    "# pandas # \n",
    "=> ndarray(배열) + dict(검색)\n",
    "dict - data고속 처리가능 but 중복 불가\n",
    "\n",
    "단점 보완한 것이 pandas_ 고속처리가능\n",
    "numpy 식 indexing 가능\n",
    "\n",
    "\n",
    "# 판다스 기능 3가지 #\n",
    "\n",
    "## 1.index## \n",
    "key에 의한 indexing 가능 ( 숫자가 아니여도 된다 !)\n",
    "=> loc_ key , lioc_숫자 key,숫자 종류에따라 사용 함수가 상이\n",
    "\n",
    "행 인덱스 : index\n",
    "열 인덱스  : columns\n",
    "값 : values\n",
    "\n",
    "## 2.전처리 ##\n",
    "1.결측치처리 isna\n",
    "2.이상치처리 box\n",
    "-3사분위 - 1사분위 = IQR\n",
    "-1.5 X IQR = 상한치 하한치 결정\n",
    "3.범주화 categorical _ 정성적데이터를 범주화\n",
    "-정량적,정성적\n",
    "scikit에서 제공하는게 더 유리 \n",
    "4.정규화 방법 hyper parameter 사람이 결정해야할 변수 not computer\n",
    "1)min max 정규화 : data- min / max-min -> 모든 데이터가 0-1사이로 정규화 \n",
    "2)Z점수 정규화 : DATA - 평균 / 표준편차 -> 표준정규분포의 확률값을 구할 수 있다.\n",
    "  표준정규분포(평균기준) \n",
    "  표준편차의 1배한 범위에 68%\n",
    "  표준편차의 2배한 범위에 95%\n",
    "  표준편차의 3배한 범위에 99%\n",
    "  평균 (+-) 2X표준오차(95%)\n",
    "-Z점수 문제점 : 수의 범위가 넓게나와 X축과 만나지않는다 . 이상치가 나올 수 있음\n",
    "3)ROBUST 정규화 : DATA - 평균이 아닌 다른값/ 표준편차 \n",
    "4)NORMALIZATION :숫자를 정규화할 때 방향값을 중시하는 정규화 방법 \n",
    "-데이터 크기를 구한 후 모든 요소를 나눠주면 1 = 이것이 의미하는 것이 방향값\n",
    "5)시각화 \n",
    "-scikit에서 제공하는게 더 유리 \n",
    "\n",
    "## 3.데이터 요약기능#\n",
    "\n",
    "1)요약기능\n",
    "group by \n",
    "pivot\n",
    "pivot table\n",
    "cross tab\n",
    "\n",
    "2)file 관리\n",
    "데이터 타입변환"
   ]
  },
  {
   "cell_type": "code",
   "execution_count": 1,
   "metadata": {},
   "outputs": [
    {
     "name": "stdout",
     "output_type": "stream",
     "text": [
      "0.0\n",
      "0.0\n",
      "nan\n"
     ]
    },
    {
     "data": {
      "text/plain": [
       "[1.0, 2.0, nan, 0.0]"
      ]
     },
     "execution_count": 1,
     "metadata": {},
     "output_type": "execute_result"
    }
   ],
   "source": [
    "import pandas as pd\n",
    "data = {'a':0., 'b':1.,'c':2.} #dict 초기화\n",
    "s = pd.Series(data) #1차원 \n",
    "print(s['a'])\n",
    "s = pd.Series(data,index=['b','c','d','a']) #행이름\n",
    "print(s['a'])\n",
    "print(s['d'])\n",
    "list(s)"
   ]
  },
  {
   "cell_type": "code",
   "execution_count": 132,
   "metadata": {},
   "outputs": [
    {
     "name": "stdout",
     "output_type": "stream",
     "text": [
      "인덱스에 의한 출력 1\n",
      "1\n",
      "a    1\n",
      "b    2\n",
      "c    3\n",
      "dtype: int64\n",
      "음수 c    3\n",
      "d    4\n",
      "e    5\n",
      "dtype: int64\n",
      "100\n",
      "10\n",
      "filtering에 의한 출력 a    100\n",
      "e      5\n",
      "f     10\n",
      "dtype: int64\n",
      "a    100\n",
      "b      2\n",
      "c      3\n",
      "d      4\n",
      "e      5\n",
      "f     10\n",
      "dtype: int64\n",
      "a    200\n",
      "b      4\n",
      "c      6\n",
      "d      8\n",
      "e     10\n",
      "f     20\n",
      "dtype: int64\n"
     ]
    }
   ],
   "source": [
    "s = pd.Series([1,2,3,4,5],index = ['a','b','c','d','e'])  #리스트로 놓고  인덱스 주기  _ 순서보장 => 1은 a 2는 b\n",
    "print('인덱스에 의한 출력',s[0])  #순서에의한 인덱스 \n",
    "print(s['a'])\n",
    "print(s[:3]) #numpy 방식 \n",
    "print('음수',s[-3:])\n",
    "s['a'] = 100  #인덱스에 값을 넣어주면  값 업데이트 가능\n",
    "print(s['a'])\n",
    "s['f']=10\n",
    "print(s['f'])\n",
    "print(\"filtering에 의한 출력\", s[s>4]) #인덱스가 boolean 으로 바뀐다 \n",
    "print(s)\n",
    "print(s*2)"
   ]
  },
  {
   "cell_type": "code",
   "execution_count": 133,
   "metadata": {},
   "outputs": [
    {
     "name": "stdout",
     "output_type": "stream",
     "text": [
      "a    100\n",
      "b      2\n",
      "c      3\n",
      "d      4\n",
      "e      5\n",
      "f     10\n",
      "dtype: int64\n"
     ]
    }
   ],
   "source": [
    "print(s)"
   ]
  },
  {
   "cell_type": "code",
   "execution_count": 10,
   "metadata": {
    "collapsed": true
   },
   "outputs": [
    {
     "name": "stdout",
     "output_type": "stream",
     "text": [
      "시리즈 데이터 ['a' 'b' 'c' 'd']\n",
      "시리즈 인덱스 RangeIndex(start=0, stop=4, step=1)\n",
      "시리즈 초기화 0    a\n",
      "1    b\n",
      "2    c\n",
      "3    d\n",
      "dtype: object\n",
      "시리즈 인덱스의 값 [0 1 2 3]\n",
      "a\n",
      "0    a\n",
      "1    b\n",
      "2    c\n",
      "3    d\n",
      "dtype: object\n",
      "d    1\n",
      "b    1\n",
      "c    1\n",
      "a    1\n",
      "dtype: int64\n",
      "d    0.25\n",
      "b    0.25\n",
      "c    0.25\n",
      "a    0.25\n",
      "dtype: float64\n",
      "count     4\n",
      "unique    4\n",
      "top       d\n",
      "freq      1\n",
      "dtype: object\n",
      "차원 1\n",
      "차수 (4,)\n"
     ]
    }
   ],
   "source": [
    "import numpy as np\n",
    "data = np.array(['a','b','c','d'])  #ndarray\n",
    "#range => list 출력\n",
    "#arange => ndarray 출력\n",
    "#Rangeindex 객체는 index로 출력\n",
    "\n",
    "#인덱스 설정안하면 names 인덱스 객체 자동 생성\n",
    "s = pd.Series(data) #ndarray를 이용해 시리즈 초기화 \n",
    "print('시리즈 데이터',s.values) #값만\n",
    "\n",
    "print('시리즈 인덱스',s.index)  #RangeIndex(start=0, stop=4, step=1)\n",
    "\n",
    "print('시리즈 초기화',s)\n",
    "\n",
    "print('시리즈 인덱스의 값',s.index.values)\n",
    "\n",
    "print(s[0])\n",
    "print(s.head())  #tail() _뒤에서 부터 \n",
    "print(s.value_counts()) #도수분포표 _ 종류별 개수 세기 \n",
    "print(s.value_counts(normalize = True))  #notmalize 는 전체를 1로 만들어라  => 상대도수분포표\n",
    "print(s.describe()) #숫자변수 \n",
    "#↓↓↓↓↓↓\n",
    "#count     4 전체 갯수\n",
    "#unique    4 범주\n",
    "#top  d? ???\n",
    "#freq      1 도수가 1개씩\n",
    "#dtype : object _> 객체이면서 문자인경우 \n",
    "\n",
    "print('차원', s.ndim)\n",
    "print('차수', s.shape)"
   ]
  },
  {
   "cell_type": "code",
   "execution_count": 11,
   "metadata": {
    "scrolled": true
   },
   "outputs": [
    {
     "name": "stdout",
     "output_type": "stream",
     "text": [
      "Ohio      35000\n",
      "Texas     71000\n",
      "Oregon    16000\n",
      "Utah       5000\n",
      "dtype: int64\n",
      "(4,)\n",
      "California        NaN\n",
      "Ohio          35000.0\n",
      "Oregon        16000.0\n",
      "Texas         71000.0\n",
      "dtype: float64\n",
      "시리즈인덱스 Index(['Ohio', 'Texas', 'Oregon', 'Utah'], dtype='object')\n",
      "시리즈인덱스 Index(['California', 'Ohio', 'Oregon', 'Texas'], dtype='object')\n",
      "null 이 있는가 California     True\n",
      "Ohio          False\n",
      "Oregon        False\n",
      "Texas         False\n",
      "dtype: bool\n",
      "결측치가 있는가 California    False\n",
      "Ohio           True\n",
      "Oregon         True\n",
      "Texas          True\n",
      "dtype: bool\n",
      "객체출력\n",
      "obj3출력 Ohio      35000\n",
      "Texas     71000\n",
      "Oregon    16000\n",
      "Utah       5000\n",
      "dtype: int64\n",
      "obj4출력 California        NaN\n",
      "Ohio          35000.0\n",
      "Oregon        16000.0\n",
      "Texas         71000.0\n",
      "dtype: float64\n",
      "연산결과 출력 California         NaN\n",
      "Ohio           70000.0\n",
      "Oregon         32000.0\n",
      "Texas         142000.0\n",
      "Utah               NaN\n",
      "dtype: float64\n"
     ]
    }
   ],
   "source": [
    "#dict\n",
    "sdata = {'Ohio':35000,'Texas':71000 , 'Oregon': 16000, 'Utah':5000} #dict 초기화 \n",
    "obj3 = pd.Series(sdata)\n",
    "print(obj3)\n",
    "print(obj3.shape) #4개 \n",
    "\n",
    "states= ['California','Ohio','Oregon','Texas'] #캘리포니아는 ;NaN _위에 데이터가 없음\n",
    "obj4 = pd.Series(sdata, index = states) \n",
    "print(obj4)\n",
    "print('시리즈인덱스', obj3.index) #Index \n",
    "print('시리즈인덱스', obj4.index)#Index\n",
    "print('null 이 있는가', pd.isnull(obj4)) #데이터가 null 인가  : null 일 때 True\n",
    "print('결측치가 있는가',pd.notnull(obj4)) #Null 이 아닐 때 , 값이 있을 때  True\n",
    "print('객체출력')\n",
    "print('obj3출력', obj3)\n",
    "print('obj4출력', obj4)\n",
    "#연산 : 짝이 맞지않기 때문에\n",
    "#pandas에서는 짝이 없어도 연산은 가능 -> Nan으로 출력\n",
    "print('연산결과 출력', obj3+obj4)"
   ]
  },
  {
   "cell_type": "code",
   "execution_count": 13,
   "metadata": {},
   "outputs": [
    {
     "data": {
      "text/plain": [
       "0    0.0\n",
       "1    0.0\n",
       "2    2.0\n",
       "3    2.0\n",
       "4    NaN\n",
       "5    0.0\n",
       "6    1.0\n",
       "dtype: float64"
      ]
     },
     "execution_count": 13,
     "metadata": {},
     "output_type": "execute_result"
    }
   ],
   "source": [
    "s = pd.Series(['A','B','Aaba','Baca',np.nan,'CABA','cat'])#시리즈는 문자열지원\n",
    "s.str.count('a') #'a갯수세기'"
   ]
  },
  {
   "cell_type": "code",
   "execution_count": 17,
   "metadata": {},
   "outputs": [
    {
     "data": {
      "image/png": "[encoded data removed]",
      "text/plain": [
       "<Figure size 640x480 with 1 Axes>"
      ]
     },
     "metadata": {},
     "output_type": "display_data"
    }
   ],
   "source": [
    "# 시리즈 float 함수 지원\n",
    "import matplotlib.pyplot as plt\n",
    "plt.style.use(['classic'])\n",
    "\n",
    "s = pd.Series([1,2,2.5,3,3.5,4,5])\n",
    "s.plot.kde() #kernel density estimate -곡선으로 출력  #데이터가 없는 부분은 kernel로 에측 _ kernel default : 가우시안 분포 \n",
    "plt.show()"
   ]
  },
  {
   "cell_type": "code",
   "execution_count": 20,
   "metadata": {},
   "outputs": [
    {
     "data": {
      "image/png": "[encoded data removed]",
      "text/plain": [
       "<Figure size 640x480 with 1 Axes>"
      ]
     },
     "metadata": {},
     "output_type": "display_data"
    }
   ],
   "source": [
    "s.plot.kde(bw_method=0.3) #과적합 bin width\n",
    "\n",
    "plt.show()"
   ]
  },
  {
   "cell_type": "code",
   "execution_count": 62,
   "metadata": {},
   "outputs": [
    {
     "data": {
      "text/html": [
       "<div>\n",
       "<style scoped>\n",
       "    .dataframe tbody tr th:only-of-type {\n",
       "        vertical-align: middle;\n",
       "    }\n",
       "\n",
       "    .dataframe tbody tr th {\n",
       "        vertical-align: top;\n",
       "    }\n",
       "\n",
       "    .dataframe thead th {\n",
       "        text-align: right;\n",
       "    }\n",
       "</style>\n",
       "<table border=\"1\" class=\"dataframe\">\n",
       "  <thead>\n",
       "    <tr style=\"text-align: right;\">\n",
       "      <th></th>\n",
       "      <th>area</th>\n",
       "      <th>pop</th>\n",
       "    </tr>\n",
       "  </thead>\n",
       "  <tbody>\n",
       "    <tr>\n",
       "      <td>California</td>\n",
       "      <td>423967</td>\n",
       "      <td>38332521</td>\n",
       "    </tr>\n",
       "    <tr>\n",
       "      <td>Texas</td>\n",
       "      <td>695662</td>\n",
       "      <td>26448193</td>\n",
       "    </tr>\n",
       "    <tr>\n",
       "      <td>New York</td>\n",
       "      <td>141297</td>\n",
       "      <td>19651127</td>\n",
       "    </tr>\n",
       "    <tr>\n",
       "      <td>Florida</td>\n",
       "      <td>170312</td>\n",
       "      <td>19552860</td>\n",
       "    </tr>\n",
       "    <tr>\n",
       "      <td>Illinois</td>\n",
       "      <td>149995</td>\n",
       "      <td>12882135</td>\n",
       "    </tr>\n",
       "  </tbody>\n",
       "</table>\n",
       "</div>"
      ],
      "text/plain": [
       "              area       pop\n",
       "California  423967  38332521\n",
       "Texas       695662  26448193\n",
       "New York    141297  19651127\n",
       "Florida     170312  19552860\n",
       "Illinois    149995  12882135"
      ]
     },
     "execution_count": 62,
     "metadata": {},
     "output_type": "execute_result"
    }
   ],
   "source": [
    "import pandas as pd\n",
    "\n",
    "area = pd.Series({'California': 423967, 'Texas': 695662,\n",
    "                  'New York': 141297, 'Florida': 170312,\n",
    "                  'Illinois': 149995})\n",
    "pop = pd.Series({'California': 38332521, 'Texas': 26448193,\n",
    "                 'New York': 19651127, 'Florida': 19552860,\n",
    "                 'Illinois': 12882135})\n",
    "data = pd.DataFrame({'area':area, 'pop':pop}) #key가  열 index로 사용됨 / 개별 'key'가 행 index\n",
    "data \n",
    "\n",
    "\n",
    "#시리즈는 행인덱스르 줘야하지만  데이터 프레임은  key값 이용\n",
    "\n"
   ]
  },
  {
   "cell_type": "code",
   "execution_count": 63,
   "metadata": {},
   "outputs": [
    {
     "data": {
      "text/plain": [
       "True"
      ]
     },
     "execution_count": 63,
     "metadata": {},
     "output_type": "execute_result"
    }
   ],
   "source": [
    "data['area']  #같은거 위아래 ! \n",
    "data.area\n",
    "\n",
    "# 객체 비교  isNone\n",
    "data.area is data['area']\n"
   ]
  },
  {
   "cell_type": "code",
   "execution_count": 64,
   "metadata": {},
   "outputs": [
    {
     "data": {
      "text/html": [
       "<div>\n",
       "<style scoped>\n",
       "    .dataframe tbody tr th:only-of-type {\n",
       "        vertical-align: middle;\n",
       "    }\n",
       "\n",
       "    .dataframe tbody tr th {\n",
       "        vertical-align: top;\n",
       "    }\n",
       "\n",
       "    .dataframe thead th {\n",
       "        text-align: right;\n",
       "    }\n",
       "</style>\n",
       "<table border=\"1\" class=\"dataframe\">\n",
       "  <thead>\n",
       "    <tr style=\"text-align: right;\">\n",
       "      <th></th>\n",
       "      <th>area</th>\n",
       "      <th>pop</th>\n",
       "      <th>density</th>\n",
       "    </tr>\n",
       "  </thead>\n",
       "  <tbody>\n",
       "    <tr>\n",
       "      <td>California</td>\n",
       "      <td>423967</td>\n",
       "      <td>38332521</td>\n",
       "      <td>90.413926</td>\n",
       "    </tr>\n",
       "    <tr>\n",
       "      <td>Texas</td>\n",
       "      <td>695662</td>\n",
       "      <td>26448193</td>\n",
       "      <td>38.018740</td>\n",
       "    </tr>\n",
       "    <tr>\n",
       "      <td>New York</td>\n",
       "      <td>141297</td>\n",
       "      <td>19651127</td>\n",
       "      <td>139.076746</td>\n",
       "    </tr>\n",
       "    <tr>\n",
       "      <td>Florida</td>\n",
       "      <td>170312</td>\n",
       "      <td>19552860</td>\n",
       "      <td>114.806121</td>\n",
       "    </tr>\n",
       "    <tr>\n",
       "      <td>Illinois</td>\n",
       "      <td>149995</td>\n",
       "      <td>12882135</td>\n",
       "      <td>85.883763</td>\n",
       "    </tr>\n",
       "  </tbody>\n",
       "</table>\n",
       "</div>"
      ],
      "text/plain": [
       "              area       pop     density\n",
       "California  423967  38332521   90.413926\n",
       "Texas       695662  26448193   38.018740\n",
       "New York    141297  19651127  139.076746\n",
       "Florida     170312  19552860  114.806121\n",
       "Illinois    149995  12882135   85.883763"
      ]
     },
     "execution_count": 64,
     "metadata": {},
     "output_type": "execute_result"
    }
   ],
   "source": [
    "#객체에서 변수를 실시간 추가하는 것이 가능\n",
    "#append\n",
    "\n",
    "data['density'] = data['pop'] / data['area']  #인구밀도를 추가했음 \n",
    "data"
   ]
  },
  {
   "cell_type": "code",
   "execution_count": 65,
   "metadata": {},
   "outputs": [
    {
     "data": {
      "text/html": [
       "<div>\n",
       "<style scoped>\n",
       "    .dataframe tbody tr th:only-of-type {\n",
       "        vertical-align: middle;\n",
       "    }\n",
       "\n",
       "    .dataframe tbody tr th {\n",
       "        vertical-align: top;\n",
       "    }\n",
       "\n",
       "    .dataframe thead th {\n",
       "        text-align: right;\n",
       "    }\n",
       "</style>\n",
       "<table border=\"1\" class=\"dataframe\">\n",
       "  <thead>\n",
       "    <tr style=\"text-align: right;\">\n",
       "      <th></th>\n",
       "      <th>area</th>\n",
       "      <th>pop</th>\n",
       "      <th>density</th>\n",
       "    </tr>\n",
       "  </thead>\n",
       "  <tbody>\n",
       "    <tr>\n",
       "      <td>California</td>\n",
       "      <td>423967</td>\n",
       "      <td>38332521</td>\n",
       "      <td>90.413926</td>\n",
       "    </tr>\n",
       "    <tr>\n",
       "      <td>Texas</td>\n",
       "      <td>695662</td>\n",
       "      <td>26448193</td>\n",
       "      <td>38.018740</td>\n",
       "    </tr>\n",
       "    <tr>\n",
       "      <td>New York</td>\n",
       "      <td>141297</td>\n",
       "      <td>19651127</td>\n",
       "      <td>139.076746</td>\n",
       "    </tr>\n",
       "    <tr>\n",
       "      <td>Florida</td>\n",
       "      <td>170312</td>\n",
       "      <td>19552860</td>\n",
       "      <td>114.806121</td>\n",
       "    </tr>\n",
       "    <tr>\n",
       "      <td>Illinois</td>\n",
       "      <td>149995</td>\n",
       "      <td>12882135</td>\n",
       "      <td>85.883763</td>\n",
       "    </tr>\n",
       "  </tbody>\n",
       "</table>\n",
       "</div>"
      ],
      "text/plain": [
       "              area       pop     density\n",
       "California  423967  38332521   90.413926\n",
       "Texas       695662  26448193   38.018740\n",
       "New York    141297  19651127  139.076746\n",
       "Florida     170312  19552860  114.806121\n",
       "Illinois    149995  12882135   85.883763"
      ]
     },
     "execution_count": 65,
     "metadata": {},
     "output_type": "execute_result"
    }
   ],
   "source": [
    "#인덱스 없이 값만 가져오기\n",
    "\n",
    "data.values #ndarray => 얘네들은 넘파이의 함수들로 처리가능\n",
    "data"
   ]
  },
  {
   "cell_type": "code",
   "execution_count": 66,
   "metadata": {},
   "outputs": [
    {
     "data": {
      "text/plain": [
       "array([4.23967000e+05, 3.83325210e+07, 9.04139261e+01])"
      ]
     },
     "execution_count": 66,
     "metadata": {},
     "output_type": "execute_result"
    }
   ],
   "source": [
    "data.T  #데이터 전치 \n",
    "\n",
    "data.values[0] #행값  왜냐하면 values"
   ]
  },
  {
   "cell_type": "markdown",
   "metadata": {},
   "source": [
    "# iloc  loc"
   ]
  },
  {
   "cell_type": "code",
   "execution_count": 67,
   "metadata": {},
   "outputs": [
    {
     "data": {
      "text/html": [
       "<div>\n",
       "<style scoped>\n",
       "    .dataframe tbody tr th:only-of-type {\n",
       "        vertical-align: middle;\n",
       "    }\n",
       "\n",
       "    .dataframe tbody tr th {\n",
       "        vertical-align: top;\n",
       "    }\n",
       "\n",
       "    .dataframe thead th {\n",
       "        text-align: right;\n",
       "    }\n",
       "</style>\n",
       "<table border=\"1\" class=\"dataframe\">\n",
       "  <thead>\n",
       "    <tr style=\"text-align: right;\">\n",
       "      <th></th>\n",
       "      <th>area</th>\n",
       "      <th>pop</th>\n",
       "    </tr>\n",
       "  </thead>\n",
       "  <tbody>\n",
       "    <tr>\n",
       "      <td>California</td>\n",
       "      <td>423967</td>\n",
       "      <td>38332521</td>\n",
       "    </tr>\n",
       "    <tr>\n",
       "      <td>Texas</td>\n",
       "      <td>695662</td>\n",
       "      <td>26448193</td>\n",
       "    </tr>\n",
       "    <tr>\n",
       "      <td>New York</td>\n",
       "      <td>141297</td>\n",
       "      <td>19651127</td>\n",
       "    </tr>\n",
       "  </tbody>\n",
       "</table>\n",
       "</div>"
      ],
      "text/plain": [
       "              area       pop\n",
       "California  423967  38332521\n",
       "Texas       695662  26448193\n",
       "New York    141297  19651127"
      ]
     },
     "execution_count": 67,
     "metadata": {},
     "output_type": "execute_result"
    }
   ],
   "source": [
    "#숫자 인덱스로 할 때 iloc\n",
    "data.iloc[:3,:2]  #행과열로 입력 integer location \n"
   ]
  },
  {
   "cell_type": "code",
   "execution_count": 68,
   "metadata": {
    "scrolled": true
   },
   "outputs": [
    {
     "data": {
      "text/html": [
       "<div>\n",
       "<style scoped>\n",
       "    .dataframe tbody tr th:only-of-type {\n",
       "        vertical-align: middle;\n",
       "    }\n",
       "\n",
       "    .dataframe tbody tr th {\n",
       "        vertical-align: top;\n",
       "    }\n",
       "\n",
       "    .dataframe thead th {\n",
       "        text-align: right;\n",
       "    }\n",
       "</style>\n",
       "<table border=\"1\" class=\"dataframe\">\n",
       "  <thead>\n",
       "    <tr style=\"text-align: right;\">\n",
       "      <th></th>\n",
       "      <th>area</th>\n",
       "      <th>pop</th>\n",
       "    </tr>\n",
       "  </thead>\n",
       "  <tbody>\n",
       "    <tr>\n",
       "      <td>California</td>\n",
       "      <td>423967</td>\n",
       "      <td>38332521</td>\n",
       "    </tr>\n",
       "    <tr>\n",
       "      <td>Texas</td>\n",
       "      <td>695662</td>\n",
       "      <td>26448193</td>\n",
       "    </tr>\n",
       "    <tr>\n",
       "      <td>New York</td>\n",
       "      <td>141297</td>\n",
       "      <td>19651127</td>\n",
       "    </tr>\n",
       "    <tr>\n",
       "      <td>Florida</td>\n",
       "      <td>170312</td>\n",
       "      <td>19552860</td>\n",
       "    </tr>\n",
       "    <tr>\n",
       "      <td>Illinois</td>\n",
       "      <td>149995</td>\n",
       "      <td>12882135</td>\n",
       "    </tr>\n",
       "  </tbody>\n",
       "</table>\n",
       "</div>"
      ],
      "text/plain": [
       "              area       pop\n",
       "California  423967  38332521\n",
       "Texas       695662  26448193\n",
       "New York    141297  19651127\n",
       "Florida     170312  19552860\n",
       "Illinois    149995  12882135"
      ]
     },
     "execution_count": 68,
     "metadata": {},
     "output_type": "execute_result"
    }
   ],
   "source": [
    "#key로 할 때에는 loc\n",
    "\n",
    "data.loc[:'Illinois',:'pop']"
   ]
  },
  {
   "cell_type": "code",
   "execution_count": 71,
   "metadata": {},
   "outputs": [
    {
     "data": {
      "text/plain": [
       "array([[4.23967000e+05, 3.83325210e+07, 9.00000000e+01],\n",
       "       [6.95662000e+05, 2.64481930e+07, 3.80187404e+01],\n",
       "       [1.41297000e+05, 1.96511270e+07, 1.39076746e+02],\n",
       "       [1.70312000e+05, 1.95528600e+07, 1.14806121e+02],\n",
       "       [1.49995000e+05, 1.28821350e+07, 8.58837628e+01]])"
      ]
     },
     "execution_count": 71,
     "metadata": {},
     "output_type": "execute_result"
    }
   ],
   "source": [
    "data.values"
   ]
  },
  {
   "cell_type": "code",
   "execution_count": 69,
   "metadata": {},
   "outputs": [],
   "source": [
    "data.iloc[0,2] =90"
   ]
  },
  {
   "cell_type": "code",
   "execution_count": 70,
   "metadata": {},
   "outputs": [
    {
     "data": {
      "text/html": [
       "<div>\n",
       "<style scoped>\n",
       "    .dataframe tbody tr th:only-of-type {\n",
       "        vertical-align: middle;\n",
       "    }\n",
       "\n",
       "    .dataframe tbody tr th {\n",
       "        vertical-align: top;\n",
       "    }\n",
       "\n",
       "    .dataframe thead th {\n",
       "        text-align: right;\n",
       "    }\n",
       "</style>\n",
       "<table border=\"1\" class=\"dataframe\">\n",
       "  <thead>\n",
       "    <tr style=\"text-align: right;\">\n",
       "      <th></th>\n",
       "      <th>area</th>\n",
       "      <th>pop</th>\n",
       "      <th>density</th>\n",
       "    </tr>\n",
       "  </thead>\n",
       "  <tbody>\n",
       "    <tr>\n",
       "      <td>Florida</td>\n",
       "      <td>170312</td>\n",
       "      <td>19552860</td>\n",
       "      <td>114.806121</td>\n",
       "    </tr>\n",
       "    <tr>\n",
       "      <td>Illinois</td>\n",
       "      <td>149995</td>\n",
       "      <td>12882135</td>\n",
       "      <td>85.883763</td>\n",
       "    </tr>\n",
       "  </tbody>\n",
       "</table>\n",
       "</div>"
      ],
      "text/plain": [
       "            area       pop     density\n",
       "Florida   170312  19552860  114.806121\n",
       "Illinois  149995  12882135   85.883763"
      ]
     },
     "execution_count": 70,
     "metadata": {},
     "output_type": "execute_result"
    }
   ],
   "source": [
    "data['Florida' : 'Illinois']"
   ]
  },
  {
   "cell_type": "code",
   "execution_count": 47,
   "metadata": {
    "scrolled": true
   },
   "outputs": [
    {
     "name": "stdout",
     "output_type": "stream",
     "text": [
      "  Name   Age  Rating\n",
      "0  김하나  25.0    4.23\n",
      "1  이하나  26.0    3.24\n",
      "2  삼하나  25.0    3.98\n",
      "3  사하나  23.0    2.56\n",
      "4  오하나  30.0    3.20\n",
      "5  육하나  29.0    4.60\n",
      "6  칠하나  23.0    3.80\n",
      "7  팔하나   NaN     NaN\n",
      "축 [RangeIndex(start=0, stop=8, step=1), Index(['Name', 'Age', 'Rating'], dtype='object')]\n",
      "\n",
      "데이터 타입 Name       object\n",
      "Age       float64\n",
      "Rating    float64\n",
      "dtype: object\n",
      "\n",
      "데이터 타입 <bound method NDFrame.get_dtype_counts of   Name   Age  Rating\n",
      "0  김하나  25.0    4.23\n",
      "1  이하나  26.0    3.24\n",
      "2  삼하나  25.0    3.98\n",
      "3  사하나  23.0    2.56\n",
      "4  오하나  30.0    3.20\n",
      "5  육하나  29.0    4.60\n",
      "6  칠하나  23.0    3.80\n",
      "7  팔하나   NaN     NaN>\n",
      "\n",
      "비었나 False\n",
      "\n",
      "차원 2\n",
      "\n",
      "차수 (8, 3)\n",
      "\n",
      "사이즈 24\n",
      "\n",
      "값 [['김하나' 25.0 4.23]\n",
      " ['이하나' 26.0 3.24]\n",
      " ['삼하나' 25.0 3.98]\n",
      " ['사하나' 23.0 2.56]\n",
      " ['오하나' 30.0 3.2]\n",
      " ['육하나' 29.0 4.6]\n",
      " ['칠하나' 23.0 3.8]\n",
      " ['팔하나' nan nan]]\n",
      "\n",
      "  Name   Age  Rating\n",
      "0  김하나  25.0    4.23\n",
      "1  이하나  26.0    3.24\n",
      "\n",
      "  Name   Age  Rating\n",
      "6  칠하나  23.0     3.8\n",
      "7  팔하나   NaN     NaN\n"
     ]
    }
   ],
   "source": [
    "import pandas as pd\n",
    "import numpy as np\n",
    "\n",
    "d = {'Name':pd.Series(['김하나','이하나','삼하나','사하나','오하나','육하나','칠하나', '팔하나']),\n",
    "   'Age':pd.Series([25,26,25,23,30,29,23]),\n",
    "   'Rating':pd.Series([4.23,3.24,3.98,2.56,3.20,4.6,3.8])}\n",
    "\n",
    "df = pd.DataFrame(d)\n",
    "print(df)\n",
    "print('축',df.axes)\n",
    "print('')\n",
    "print('데이터 타입',df.dtypes)\n",
    "print('')\n",
    "print('데이터 타입',df.get_dtype_counts)\n",
    "print('')\n",
    "print('비었나', df.empty) #데이터가 비었나?\n",
    "print('')\n",
    "print('차원',df.ndim)\n",
    "print('')\n",
    "print(\"차수\",df.shape)\n",
    "print('')\n",
    "print('사이즈',df.size) #총 데이터 갯수  8 x 3\n",
    "print('')\n",
    "print('값',df.values)\n",
    "print('')\n",
    "print(df.head(2))\n",
    "print('')\n",
    "print(df.tail(2))"
   ]
  },
  {
   "cell_type": "code",
   "execution_count": 49,
   "metadata": {},
   "outputs": [
    {
     "data": {
      "text/html": [
       "<div>\n",
       "<style scoped>\n",
       "    .dataframe tbody tr th:only-of-type {\n",
       "        vertical-align: middle;\n",
       "    }\n",
       "\n",
       "    .dataframe tbody tr th {\n",
       "        vertical-align: top;\n",
       "    }\n",
       "\n",
       "    .dataframe thead th {\n",
       "        text-align: right;\n",
       "    }\n",
       "</style>\n",
       "<table border=\"1\" class=\"dataframe\">\n",
       "  <thead>\n",
       "    <tr style=\"text-align: right;\">\n",
       "      <th></th>\n",
       "      <th>Name</th>\n",
       "      <th>Age</th>\n",
       "      <th>Rating</th>\n",
       "    </tr>\n",
       "  </thead>\n",
       "  <tbody>\n",
       "    <tr>\n",
       "      <td>0</td>\n",
       "      <td>김하나</td>\n",
       "      <td>25.0</td>\n",
       "      <td>4.23</td>\n",
       "    </tr>\n",
       "    <tr>\n",
       "      <td>1</td>\n",
       "      <td>이하나</td>\n",
       "      <td>26.0</td>\n",
       "      <td>3.24</td>\n",
       "    </tr>\n",
       "    <tr>\n",
       "      <td>2</td>\n",
       "      <td>삼하나</td>\n",
       "      <td>25.0</td>\n",
       "      <td>3.98</td>\n",
       "    </tr>\n",
       "    <tr>\n",
       "      <td>3</td>\n",
       "      <td>사하나</td>\n",
       "      <td>23.0</td>\n",
       "      <td>2.56</td>\n",
       "    </tr>\n",
       "    <tr>\n",
       "      <td>4</td>\n",
       "      <td>오하나</td>\n",
       "      <td>30.0</td>\n",
       "      <td>3.20</td>\n",
       "    </tr>\n",
       "    <tr>\n",
       "      <td>5</td>\n",
       "      <td>육하나</td>\n",
       "      <td>29.0</td>\n",
       "      <td>4.60</td>\n",
       "    </tr>\n",
       "    <tr>\n",
       "      <td>6</td>\n",
       "      <td>칠하나</td>\n",
       "      <td>23.0</td>\n",
       "      <td>3.80</td>\n",
       "    </tr>\n",
       "    <tr>\n",
       "      <td>7</td>\n",
       "      <td>팔하나</td>\n",
       "      <td>NaN</td>\n",
       "      <td>NaN</td>\n",
       "    </tr>\n",
       "  </tbody>\n",
       "</table>\n",
       "</div>"
      ],
      "text/plain": [
       "  Name   Age  Rating\n",
       "0  김하나  25.0    4.23\n",
       "1  이하나  26.0    3.24\n",
       "2  삼하나  25.0    3.98\n",
       "3  사하나  23.0    2.56\n",
       "4  오하나  30.0    3.20\n",
       "5  육하나  29.0    4.60\n",
       "6  칠하나  23.0    3.80\n",
       "7  팔하나   NaN     NaN"
      ]
     },
     "execution_count": 49,
     "metadata": {},
     "output_type": "execute_result"
    }
   ],
   "source": [
    "pd.DataFrame(d)"
   ]
  },
  {
   "cell_type": "code",
   "execution_count": 50,
   "metadata": {},
   "outputs": [
    {
     "name": "stdout",
     "output_type": "stream",
     "text": [
      "합계 Name      김하나이하나삼하나사하나오하나육하나칠하나팔하나\n",
      "Age                            181\n",
      "Rating                       25.61\n",
      "dtype: object\n",
      "Age       25.857143\n",
      "Rating     3.658571\n",
      "dtype: float64\n",
      "Age       2.734262\n",
      "Rating    0.698628\n",
      "dtype: float64\n"
     ]
    }
   ],
   "source": [
    "print('합계',df.sum())\n",
    "print(df.mean())\n",
    "print(df.std())  #standard deviation 표준편차 "
   ]
  },
  {
   "cell_type": "code",
   "execution_count": 52,
   "metadata": {
    "collapsed": true
   },
   "outputs": [
    {
     "name": "stdout",
     "output_type": "stream",
     "text": [
      "합계  Name      김하나이하나삼하나사하나오하나육하나칠하나팔하나\n",
      "Age                            181\n",
      "Rating                       25.61\n",
      "dtype: object\n",
      "Age       25.857143\n",
      "Rating     3.658571\n",
      "dtype: float64\n",
      "Age       2.734262\n",
      "Rating    0.698628\n",
      "dtype: float64\n",
      "             Age    Rating\n",
      "count   7.000000  7.000000\n",
      "mean   25.857143  3.658571\n",
      "std     2.734262  0.698628\n",
      "min    23.000000  2.560000\n",
      "25%    24.000000  3.220000\n",
      "50%    25.000000  3.800000\n",
      "75%    27.500000  4.105000\n",
      "max    30.000000  4.600000\n",
      "오브젝트        Name\n",
      "count     8\n",
      "unique    8\n",
      "top     팔하나\n",
      "freq      1\n",
      "       Name        Age    Rating\n",
      "count     8   7.000000  7.000000\n",
      "unique    8        NaN       NaN\n",
      "top     팔하나        NaN       NaN\n",
      "freq      1        NaN       NaN\n",
      "mean    NaN  25.857143  3.658571\n",
      "std     NaN   2.734262  0.698628\n",
      "min     NaN  23.000000  2.560000\n",
      "25%     NaN  24.000000  3.220000\n",
      "50%     NaN  25.000000  3.800000\n",
      "75%     NaN  27.500000  4.105000\n",
      "max     NaN  30.000000  4.600000\n"
     ]
    }
   ],
   "source": [
    "print('합계 ', df.sum())  # 전체 데이터합 \n",
    "print(df.mean()) #숫자에 대해서만 계산 적용\n",
    "print(df.std())  #숫자에 대해서만 계산 적용\n",
    "print(df.describe()) #숫자에 대해서만 계산 적용\n",
    "print('오브젝트',df.describe(include=['object']))  #include : 기본 숫자적용에대하여 문자도 포함\n",
    "print(df.describe(include= 'all')) #unique "
   ]
  },
  {
   "cell_type": "code",
   "execution_count": 77,
   "metadata": {},
   "outputs": [
    {
     "name": "stdout",
     "output_type": "stream",
     "text": [
      "       year state  pop debt\n",
      "one    2000    경기  1.5  NaN\n",
      "two    2001    강원  1.7  NaN\n",
      "three  2002    서울  3.6  NaN\n",
      "four   2001    충북  2.4  NaN\n",
      "five   2002    인천  2.9  NaN\n"
     ]
    }
   ],
   "source": [
    "\n",
    "data={'state': ['경기', '강원', '서울', '충북', '인천'],\n",
    "      'year':[2000,2001,2002,2001,2002],\n",
    "      'pop':[1.5,1.7,3.6,2.4,2.9]}\n",
    "\n",
    "frame2=pd.DataFrame(data, columns=['year', 'state', 'pop', 'debt'],\n",
    "                 index=['one', 'two', 'three', 'four', 'five']) \n",
    "\n",
    "\n"
   ]
  },
  {
   "cell_type": "code",
   "execution_count": 92,
   "metadata": {},
   "outputs": [
    {
     "data": {
      "text/html": [
       "<div>\n",
       "<style scoped>\n",
       "    .dataframe tbody tr th:only-of-type {\n",
       "        vertical-align: middle;\n",
       "    }\n",
       "\n",
       "    .dataframe tbody tr th {\n",
       "        vertical-align: top;\n",
       "    }\n",
       "\n",
       "    .dataframe thead th {\n",
       "        text-align: right;\n",
       "    }\n",
       "</style>\n",
       "<table border=\"1\" class=\"dataframe\">\n",
       "  <thead>\n",
       "    <tr style=\"text-align: right;\">\n",
       "      <th></th>\n",
       "      <th>year</th>\n",
       "      <th>state</th>\n",
       "      <th>pop</th>\n",
       "      <th>debt</th>\n",
       "    </tr>\n",
       "  </thead>\n",
       "  <tbody>\n",
       "    <tr>\n",
       "      <td>one</td>\n",
       "      <td>2000</td>\n",
       "      <td>경기</td>\n",
       "      <td>1.5</td>\n",
       "      <td>NaN</td>\n",
       "    </tr>\n",
       "    <tr>\n",
       "      <td>two</td>\n",
       "      <td>2001</td>\n",
       "      <td>강원</td>\n",
       "      <td>1.7</td>\n",
       "      <td>NaN</td>\n",
       "    </tr>\n",
       "    <tr>\n",
       "      <td>three</td>\n",
       "      <td>2002</td>\n",
       "      <td>서울</td>\n",
       "      <td>3.6</td>\n",
       "      <td>NaN</td>\n",
       "    </tr>\n",
       "    <tr>\n",
       "      <td>four</td>\n",
       "      <td>2001</td>\n",
       "      <td>충북</td>\n",
       "      <td>2.4</td>\n",
       "      <td>NaN</td>\n",
       "    </tr>\n",
       "    <tr>\n",
       "      <td>five</td>\n",
       "      <td>2002</td>\n",
       "      <td>인천</td>\n",
       "      <td>2.9</td>\n",
       "      <td>NaN</td>\n",
       "    </tr>\n",
       "  </tbody>\n",
       "</table>\n",
       "</div>"
      ],
      "text/plain": [
       "       year state  pop  debt\n",
       "one    2000    경기  1.5   NaN\n",
       "two    2001    강원  1.7   NaN\n",
       "three  2002    서울  3.6   NaN\n",
       "four   2001    충북  2.4   NaN\n",
       "five   2002    인천  2.9   NaN"
      ]
     },
     "execution_count": 92,
     "metadata": {},
     "output_type": "execute_result"
    }
   ],
   "source": [
    "frame2"
   ]
  },
  {
   "cell_type": "markdown",
   "metadata": {},
   "source": [
    "# 문제 1"
   ]
  },
  {
   "cell_type": "code",
   "execution_count": null,
   "metadata": {},
   "outputs": [],
   "source": [
    "\n",
    "1.state만 출력하시오\n",
    "2.debt열을 추가하고 모든값을 16.5로 입력하시오\n",
    "3.debt 를 pd.series([-1.2,-1.5,-1.7], index=['two','four','five']) 로수정하시오\n",
    "4.파생변수 'estern'에 주소가 서울인가를 따져 서울은 True 아니면 false가 되도록"
   ]
  },
  {
   "cell_type": "code",
   "execution_count": 93,
   "metadata": {},
   "outputs": [
    {
     "name": "stdout",
     "output_type": "stream",
     "text": [
      "one      경기\n",
      "two      강원\n",
      "three    서울\n",
      "four     충북\n",
      "five     인천\n",
      "Name: state, dtype: object\n"
     ]
    }
   ],
   "source": [
    "# 내 답\n",
    "\n",
    "#1\n",
    "print(frame2.state)\n",
    "\n",
    "#2\n",
    "frame2['debt'] = 16.5\n",
    "\n",
    "#3 \n",
    "\n"
   ]
  },
  {
   "cell_type": "markdown",
   "metadata": {},
   "source": [
    "# 정답1"
   ]
  },
  {
   "cell_type": "code",
   "execution_count": 96,
   "metadata": {},
   "outputs": [
    {
     "name": "stdout",
     "output_type": "stream",
     "text": [
      "one      서울\n",
      "two      서울\n",
      "three    서울\n",
      "four     서울\n",
      "five     서울\n",
      "Name: state, dtype: object\n",
      "one      서울\n",
      "two      서울\n",
      "three    서울\n",
      "four     서울\n",
      "five     서울\n",
      "Name: state, dtype: object\n",
      "적용 후         year state  pop  debt estern\n",
      "one    2000    서울  1.5  16.5     서울\n",
      "two    2001    서울  1.7  16.5     서울\n",
      "three  2002    서울  3.6  16.5     서울\n",
      "four   2001    서울  2.4  16.5     서울\n",
      "five   2002    서울  2.9  16.5     서울\n",
      "적용후         year state  pop  debt estern\n",
      "one    2000    서울  1.5   NaN     서울\n",
      "two    2001    서울  1.7  -1.2     서울\n",
      "three  2002    서울  3.6   NaN     서울\n",
      "four   2001    서울  2.4  -1.5     서울\n",
      "five   2002    서울  2.9  -1.7     서울\n",
      "Index(['year', 'state', 'pop', 'debt', 'estern'], dtype='object')\n",
      "2000\n",
      "2000\n"
     ]
    }
   ],
   "source": [
    "# 쌤 답\n",
    "\n",
    "\n",
    "#1 \n",
    "\n",
    "print(frame2['state'])\n",
    "print(frame2.state)\n",
    "\n",
    "#2\n",
    "frame2['debt'] = 16.5\n",
    "\n",
    "print(\"적용 후 \",frame2)\n",
    "\n",
    "#3 \n",
    "\n",
    "val = pd.Series([-1.2,-1.5,-1.7], index=['two','four','five'])\n",
    "frame2['debt'] = val\n",
    "print(\"적용후 \", frame2)\n",
    "\n",
    "#4\n",
    "\n",
    "frame2['estern']= frame2.state='서울'\n",
    "print(frame2.columns)\n",
    "del frame2['estern'] # 삭제\n",
    "print(frame2['year']['one'])  # 열이 먼저옴\n",
    "print(frame2.loc['one','year'])"
   ]
  },
  {
   "cell_type": "markdown",
   "metadata": {},
   "source": [
    "# 시간함수"
   ]
  },
  {
   "cell_type": "markdown",
   "metadata": {},
   "source": [
    "#시간함수\n",
    "#리눅스 :timestamp 1970.1.1 이후로 경과된 mili초로 표현  \n",
    "#판다스 내부적으로 데이터를 저장할떄에는 time stamp 로 저장\n",
    "#pandas 에서는 nano 초까지 표현\n",
    "#시간인덱스 : 시계열 분석 : DateTimeIndex , PeriodIndex 주기값 지원 \n",
    "\n",
    "#python : time.time() : 2000.1.1부터 경과된 mili초로 표현 \n",
    "#datetime(날짜와 시간 함께 표현)"
   ]
  },
  {
   "cell_type": "code",
   "execution_count": 98,
   "metadata": {},
   "outputs": [
    {
     "name": "stdout",
     "output_type": "stream",
     "text": [
      "1578383537.3504612\n",
      "time.struct_time(tm_year=2020, tm_mon=1, tm_mday=7, tm_hour=16, tm_min=52, tm_sec=17, tm_wday=1, tm_yday=7, tm_isdst=0)\n",
      "time.struct_time(tm_year=2020, tm_mon=1, tm_mday=6, tm_hour=16, tm_min=52, tm_sec=17, tm_wday=0, tm_yday=6, tm_isdst=0)\n"
     ]
    },
    {
     "data": {
      "text/plain": [
       "'2020 01 07'"
      ]
     },
     "execution_count": 98,
     "metadata": {},
     "output_type": "execute_result"
    }
   ],
   "source": [
    "import time\n",
    "print(time.time())   #밀리초로 표현 \n",
    "print(time.localtime()) #년월일 시분초로  변경 \n",
    "yesterday = time.localtime(time.time()-60*60*24) #24시간 분초를 빼주면 하루 전   #시간 연산 가능 \n",
    "yesterday \n",
    "print(yesterday)\n",
    "time.strftime('%Y %m %d') #시간을 문자열로 변경해서 출력 "
   ]
  },
  {
   "cell_type": "code",
   "execution_count": 99,
   "metadata": {},
   "outputs": [
    {
     "name": "stdout",
     "output_type": "stream",
     "text": [
      "2020-01-07 16:55:20.702940\n"
     ]
    },
    {
     "data": {
      "text/plain": [
       "1578383720.70294"
      ]
     },
     "execution_count": 99,
     "metadata": {},
     "output_type": "execute_result"
    }
   ],
   "source": [
    "from datetime import date,time,datetime,timedelta   #delta는 시간차\n",
    "now = datetime.now()  #년월일 시분초 출력\n",
    "print(now)\n",
    "now.year,now.month,now.day\n",
    "now.timestamp() #밀리초로 표현 "
   ]
  },
  {
   "cell_type": "code",
   "execution_count": 105,
   "metadata": {},
   "outputs": [
    {
     "name": "stdout",
     "output_type": "stream",
     "text": [
      "2020-01-07  16:55:20\n"
     ]
    }
   ],
   "source": [
    "#now(년월일시분초)를 문자열로\n",
    "now_str=now.strftime('%Y-%m-%d  %H:%M:%S')\n",
    "\n",
    "print(now_str)"
   ]
  },
  {
   "cell_type": "code",
   "execution_count": 110,
   "metadata": {},
   "outputs": [
    {
     "data": {
      "text/plain": [
       "datetime.datetime(2020, 1, 7, 16, 55, 20)"
      ]
     },
     "execution_count": 110,
     "metadata": {},
     "output_type": "execute_result"
    }
   ],
   "source": [
    "datetime.strptime(now_str,'%Y-%m-%d  %H:%M:%S')   #시간을 문자열로 바꿔줌 "
   ]
  },
  {
   "cell_type": "code",
   "execution_count": 102,
   "metadata": {},
   "outputs": [
    {
     "name": "stdout",
     "output_type": "stream",
     "text": [
      "시간차는= 1657 days, 15:45:00 1657 56700\n"
     ]
    }
   ],
   "source": [
    "delta = datetime(2015,1,7)- datetime(2010,6,24,8,15)\n",
    "print('시간차는=',delta,delta.days,delta.seconds)"
   ]
  },
  {
   "cell_type": "code",
   "execution_count": 112,
   "metadata": {},
   "outputs": [
    {
     "name": "stdout",
     "output_type": "stream",
     "text": [
      "시간차는= -9463 days, 6:55:00 -9463 24900\n"
     ]
    }
   ],
   "source": [
    "delta = datetime(1994,2,10)- datetime(2020,1,7,17,5)\n",
    "print('시간차는=',delta,delta.days,delta.seconds)"
   ]
  },
  {
   "cell_type": "code",
   "execution_count": 116,
   "metadata": {},
   "outputs": [
    {
     "name": "stdout",
     "output_type": "stream",
     "text": [
      "2020-01-19 17:05:00\n"
     ]
    },
    {
     "data": {
      "text/plain": [
       "datetime.datetime(2020, 1, 7, 12, 5)"
      ]
     },
     "execution_count": 116,
     "metadata": {},
     "output_type": "execute_result"
    }
   ],
   "source": [
    "start = datetime(2020,1,7,17,5)  #년월일시분\n",
    "print(start+timedelta(12)) #기본이 날짜 \n",
    "\n",
    "#다섯시간전으로\n",
    "start + timedelta(hours =-5)"
   ]
  },
  {
   "cell_type": "code",
   "execution_count": 118,
   "metadata": {},
   "outputs": [
    {
     "name": "stdout",
     "output_type": "stream",
     "text": [
      "2020-01-07 17:07:14.711254\n",
      "2017-03-01 00:00:00\n",
      "2020-04-24 00:14:15\n"
     ]
    }
   ],
   "source": [
    "import pandas as pd\n",
    "print(pd.datetime.now())\n",
    "print(pd.Timestamp('2017-03-01'))\n",
    "print(pd.Timestamp(1587687255,unit='s'))"
   ]
  },
  {
   "cell_type": "code",
   "execution_count": 119,
   "metadata": {},
   "outputs": [
    {
     "name": "stdout",
     "output_type": "stream",
     "text": [
      "DatetimeIndex(['2020-01-07 11:00:00', '2020-01-07 11:30:00',\n",
      "               '2020-01-07 12:00:00', '2020-01-07 12:30:00',\n",
      "               '2020-01-07 13:00:00', '2020-01-07 13:30:00'],\n",
      "              dtype='datetime64[ns]', freq='30T')\n",
      "시간으로 [datetime.time(11, 0) datetime.time(11, 30) datetime.time(12, 0)\n",
      " datetime.time(12, 30) datetime.time(13, 0) datetime.time(13, 30)]\n",
      "DatetimeIndex(['2020-01-07 11:00:00', '2020-01-07 12:00:00',\n",
      "               '2020-01-07 13:00:00'],\n",
      "              dtype='datetime64[ns]', freq='H')\n"
     ]
    }
   ],
   "source": [
    "#Date Time Index 생성 : 행 :Index  열 : columns\n",
    "print(pd.date_range(\"11:00\",\"13:30\",freq = \"30min\")) #11시부터 1330까지 30분 단위로 : 6개 생성\n",
    "print(\"시간으로\",pd.date_range(\"11:00\",\"13:30\",freq =\"30min\").time)  #위결과에서 시간만 추출\n",
    "\n",
    "print(pd.date_range(\"11:00\",\"13:00\",freq=\"H\") ##11시부터 1330까지 1시간 단위로"
   ]
  },
  {
   "cell_type": "code",
   "execution_count": 120,
   "metadata": {},
   "outputs": [
    {
     "name": "stdout",
     "output_type": "stream",
     "text": [
      "0   2009-07-31\n",
      "1   2010-01-10\n",
      "2          NaT\n",
      "dtype: datetime64[ns]\n",
      "0   2005-11-23\n",
      "1   2010-12-31\n",
      "2          NaT\n",
      "dtype: datetime64[ns]\n"
     ]
    }
   ],
   "source": [
    "#Date Time Index _ 지정된 시간을 INDEX로 만듬 #todatetime\n",
    "\n",
    "\n",
    "print(pd.to_datetime(pd.Series(['Jul 31 ,2009','2010-01-10',None])))\n",
    "\n",
    "print(pd.to_datetime(pd.Series(['2005/11/23','2010.12.31',None])))\n",
    "\n"
   ]
  },
  {
   "cell_type": "code",
   "execution_count": 121,
   "metadata": {},
   "outputs": [
    {
     "name": "stdout",
     "output_type": "stream",
     "text": [
      "DatetimeIndex(['2017-01-01', '2017-01-02', '2017-01-03', '2017-01-04',\n",
      "               '2017-01-05'],\n",
      "              dtype='datetime64[ns]', freq='D')\n"
     ]
    }
   ],
   "source": [
    "\n",
    "print(pd.date_range('1/1/2017',periods=5)) #period 5 : 5개를 만들어 내라  # default 주기 : 일 간격"
   ]
  },
  {
   "cell_type": "code",
   "execution_count": 123,
   "metadata": {},
   "outputs": [
    {
     "name": "stdout",
     "output_type": "stream",
     "text": [
      "DatetimeIndex(['2017-01-31', '2017-02-28', '2017-03-31', '2017-04-30',\n",
      "               '2017-05-31'],\n",
      "              dtype='datetime64[ns]', freq='M')\n"
     ]
    }
   ],
   "source": [
    "print(pd.date_range('1/1/2017',periods=5,freq ='M'))  #Month 단위로 5개"
   ]
  },
  {
   "cell_type": "code",
   "execution_count": 128,
   "metadata": {
    "scrolled": true
   },
   "outputs": [
    {
     "data": {
      "image/png": "[encoded data removed]",
      "text/plain": [
       "<Figure size 640x480 with 1 Axes>"
      ]
     },
     "metadata": {},
     "output_type": "display_data"
    },
    {
     "data": {
      "image/png": "[encoded data removed]",
      "text/plain": [
       "<Figure size 640x480 with 1 Axes>"
      ]
     },
     "metadata": {},
     "output_type": "display_data"
    },
    {
     "data": {
      "image/png": "[encoded data removed]",
      "text/plain": [
       "<Figure size 640x480 with 1 Axes>"
      ]
     },
     "metadata": {},
     "output_type": "display_data"
    }
   ],
   "source": [
    "ts = pd.Series(np.random.randn(1000),#랜덤데이터 1000개\n",
    "               index =pd.date_range('1/1/2000',periods=1000))   #periods=1000 ;1000일에 대하여 \n",
    "ts = ts.cumsum()\n",
    "ts.plot()\n",
    "\n",
    "df=pd.DataFrame(np.random.randn(1000,4), index =ts.index, columns=list('ABCD'))\n",
    "\n",
    "df=df.cumsum()\n",
    "df.plot()\n",
    "df.plot.bar();\n"
   ]
  },
  {
   "cell_type": "markdown",
   "metadata": {},
   "source": [
    "# 문제 2"
   ]
  },
  {
   "cell_type": "code",
   "execution_count": null,
   "metadata": {},
   "outputs": [],
   "source": [
    "#문제 다음 데이터를 데이터프레임에 저장하시요\n",
    "\n",
    "#         지역  2018     2017   2016   2015   2015-2018 증가율\n",
    "# 서울 수도권  9904312 9631482 9762546 9853972    0.0283\n",
    "# 부산 경상권  3448737 3393191 3512547 3655437    0.0163\n",
    "# 인천 수도권  2890451 2632035 2517680 2466338    0.0982\n",
    "# 대구 경상권  2466052 2431774 2456016 2473990    0.0141 \n",
    "\n",
    "\n",
    "#문제 : '2015-2018' 증가율을 %로  변경하시오\n",
    "#문제 : 2015 -2017의 증가율을 구해서 변수를 추가하시오\n",
    "(열이름 : '2005-2015 '증가율)"
   ]
  },
  {
   "cell_type": "code",
   "execution_count": 139,
   "metadata": {},
   "outputs": [],
   "source": [
    "roc = ['지역','2018','2017','2016''2015','2015-2018 증가율']\n",
    "ind = ['서울','부산','인천','대구']\n"
   ]
  },
  {
   "cell_type": "code",
   "execution_count": 160,
   "metadata": {},
   "outputs": [],
   "source": [
    "c ={'지역':['수도권','경상권','수도권','경상권'],\n",
    "   '2018':[9904312,3448737,2890451,2466052],\n",
    "   '2017':[9631482,3393191,2632035,2431774],\n",
    "   '2016':[9762546,3512547,2517680,2456016],\n",
    "    '2015':[9853972,3655437,2466338,2473990],\n",
    "    '2015-2018 증가율':[0.0283,0.0163,0.0982,0.0141]}\n",
    "\n",
    "\n",
    "df =pd.DataFrame(c,columns= ['지역','2018','2017','2016','2015','2015-2018 증가율'], index=['서울','부산','인천','대구'])"
   ]
  },
  {
   "cell_type": "code",
   "execution_count": 161,
   "metadata": {},
   "outputs": [
    {
     "data": {
      "text/html": [
       "<div>\n",
       "<style scoped>\n",
       "    .dataframe tbody tr th:only-of-type {\n",
       "        vertical-align: middle;\n",
       "    }\n",
       "\n",
       "    .dataframe tbody tr th {\n",
       "        vertical-align: top;\n",
       "    }\n",
       "\n",
       "    .dataframe thead th {\n",
       "        text-align: right;\n",
       "    }\n",
       "</style>\n",
       "<table border=\"1\" class=\"dataframe\">\n",
       "  <thead>\n",
       "    <tr style=\"text-align: right;\">\n",
       "      <th></th>\n",
       "      <th>지역</th>\n",
       "      <th>2018</th>\n",
       "      <th>2017</th>\n",
       "      <th>2016</th>\n",
       "      <th>2015</th>\n",
       "      <th>2015-2018 증가율</th>\n",
       "    </tr>\n",
       "  </thead>\n",
       "  <tbody>\n",
       "    <tr>\n",
       "      <td>서울</td>\n",
       "      <td>수도권</td>\n",
       "      <td>9904312</td>\n",
       "      <td>9631482</td>\n",
       "      <td>9762546</td>\n",
       "      <td>9853972</td>\n",
       "      <td>0.0283</td>\n",
       "    </tr>\n",
       "    <tr>\n",
       "      <td>부산</td>\n",
       "      <td>경상권</td>\n",
       "      <td>3448737</td>\n",
       "      <td>3393191</td>\n",
       "      <td>3512547</td>\n",
       "      <td>3655437</td>\n",
       "      <td>0.0163</td>\n",
       "    </tr>\n",
       "    <tr>\n",
       "      <td>인천</td>\n",
       "      <td>수도권</td>\n",
       "      <td>2890451</td>\n",
       "      <td>2632035</td>\n",
       "      <td>2517680</td>\n",
       "      <td>2466338</td>\n",
       "      <td>0.0982</td>\n",
       "    </tr>\n",
       "    <tr>\n",
       "      <td>대구</td>\n",
       "      <td>경상권</td>\n",
       "      <td>2466052</td>\n",
       "      <td>2431774</td>\n",
       "      <td>2456016</td>\n",
       "      <td>2473990</td>\n",
       "      <td>0.0141</td>\n",
       "    </tr>\n",
       "  </tbody>\n",
       "</table>\n",
       "</div>"
      ],
      "text/plain": [
       "     지역     2018     2017     2016     2015  2015-2018 증가율\n",
       "서울  수도권  9904312  9631482  9762546  9853972         0.0283\n",
       "부산  경상권  3448737  3393191  3512547  3655437         0.0163\n",
       "인천  수도권  2890451  2632035  2517680  2466338         0.0982\n",
       "대구  경상권  2466052  2431774  2456016  2473990         0.0141"
      ]
     },
     "execution_count": 161,
     "metadata": {},
     "output_type": "execute_result"
    }
   ],
   "source": [
    "df"
   ]
  },
  {
   "cell_type": "code",
   "execution_count": 162,
   "metadata": {},
   "outputs": [],
   "source": [
    "df['2015-2018 증가율'] =df['2015-2018 증가율'] * 100"
   ]
  },
  {
   "cell_type": "code",
   "execution_count": 163,
   "metadata": {},
   "outputs": [
    {
     "data": {
      "text/html": [
       "<div>\n",
       "<style scoped>\n",
       "    .dataframe tbody tr th:only-of-type {\n",
       "        vertical-align: middle;\n",
       "    }\n",
       "\n",
       "    .dataframe tbody tr th {\n",
       "        vertical-align: top;\n",
       "    }\n",
       "\n",
       "    .dataframe thead th {\n",
       "        text-align: right;\n",
       "    }\n",
       "</style>\n",
       "<table border=\"1\" class=\"dataframe\">\n",
       "  <thead>\n",
       "    <tr style=\"text-align: right;\">\n",
       "      <th></th>\n",
       "      <th>지역</th>\n",
       "      <th>2018</th>\n",
       "      <th>2017</th>\n",
       "      <th>2016</th>\n",
       "      <th>2015</th>\n",
       "      <th>2015-2018 증가율</th>\n",
       "    </tr>\n",
       "  </thead>\n",
       "  <tbody>\n",
       "    <tr>\n",
       "      <td>서울</td>\n",
       "      <td>수도권</td>\n",
       "      <td>9904312</td>\n",
       "      <td>9631482</td>\n",
       "      <td>9762546</td>\n",
       "      <td>9853972</td>\n",
       "      <td>2.83</td>\n",
       "    </tr>\n",
       "    <tr>\n",
       "      <td>부산</td>\n",
       "      <td>경상권</td>\n",
       "      <td>3448737</td>\n",
       "      <td>3393191</td>\n",
       "      <td>3512547</td>\n",
       "      <td>3655437</td>\n",
       "      <td>1.63</td>\n",
       "    </tr>\n",
       "    <tr>\n",
       "      <td>인천</td>\n",
       "      <td>수도권</td>\n",
       "      <td>2890451</td>\n",
       "      <td>2632035</td>\n",
       "      <td>2517680</td>\n",
       "      <td>2466338</td>\n",
       "      <td>9.82</td>\n",
       "    </tr>\n",
       "    <tr>\n",
       "      <td>대구</td>\n",
       "      <td>경상권</td>\n",
       "      <td>2466052</td>\n",
       "      <td>2431774</td>\n",
       "      <td>2456016</td>\n",
       "      <td>2473990</td>\n",
       "      <td>1.41</td>\n",
       "    </tr>\n",
       "  </tbody>\n",
       "</table>\n",
       "</div>"
      ],
      "text/plain": [
       "     지역     2018     2017     2016     2015  2015-2018 증가율\n",
       "서울  수도권  9904312  9631482  9762546  9853972           2.83\n",
       "부산  경상권  3448737  3393191  3512547  3655437           1.63\n",
       "인천  수도권  2890451  2632035  2517680  2466338           9.82\n",
       "대구  경상권  2466052  2431774  2456016  2473990           1.41"
      ]
     },
     "execution_count": 163,
     "metadata": {},
     "output_type": "execute_result"
    }
   ],
   "source": [
    "df"
   ]
  },
  {
   "cell_type": "code",
   "execution_count": 164,
   "metadata": {},
   "outputs": [],
   "source": [
    "df['2015-2017 증가율'] =(df['2017']-df['2015'])/df['2015']"
   ]
  },
  {
   "cell_type": "code",
   "execution_count": 165,
   "metadata": {},
   "outputs": [
    {
     "data": {
      "text/html": [
       "<div>\n",
       "<style scoped>\n",
       "    .dataframe tbody tr th:only-of-type {\n",
       "        vertical-align: middle;\n",
       "    }\n",
       "\n",
       "    .dataframe tbody tr th {\n",
       "        vertical-align: top;\n",
       "    }\n",
       "\n",
       "    .dataframe thead th {\n",
       "        text-align: right;\n",
       "    }\n",
       "</style>\n",
       "<table border=\"1\" class=\"dataframe\">\n",
       "  <thead>\n",
       "    <tr style=\"text-align: right;\">\n",
       "      <th></th>\n",
       "      <th>지역</th>\n",
       "      <th>2018</th>\n",
       "      <th>2017</th>\n",
       "      <th>2016</th>\n",
       "      <th>2015</th>\n",
       "      <th>2015-2018 증가율</th>\n",
       "      <th>2015-2017 증가율</th>\n",
       "    </tr>\n",
       "  </thead>\n",
       "  <tbody>\n",
       "    <tr>\n",
       "      <td>서울</td>\n",
       "      <td>수도권</td>\n",
       "      <td>9904312</td>\n",
       "      <td>9631482</td>\n",
       "      <td>9762546</td>\n",
       "      <td>9853972</td>\n",
       "      <td>2.83</td>\n",
       "      <td>-0.022579</td>\n",
       "    </tr>\n",
       "    <tr>\n",
       "      <td>부산</td>\n",
       "      <td>경상권</td>\n",
       "      <td>3448737</td>\n",
       "      <td>3393191</td>\n",
       "      <td>3512547</td>\n",
       "      <td>3655437</td>\n",
       "      <td>1.63</td>\n",
       "      <td>-0.071741</td>\n",
       "    </tr>\n",
       "    <tr>\n",
       "      <td>인천</td>\n",
       "      <td>수도권</td>\n",
       "      <td>2890451</td>\n",
       "      <td>2632035</td>\n",
       "      <td>2517680</td>\n",
       "      <td>2466338</td>\n",
       "      <td>9.82</td>\n",
       "      <td>0.067183</td>\n",
       "    </tr>\n",
       "    <tr>\n",
       "      <td>대구</td>\n",
       "      <td>경상권</td>\n",
       "      <td>2466052</td>\n",
       "      <td>2431774</td>\n",
       "      <td>2456016</td>\n",
       "      <td>2473990</td>\n",
       "      <td>1.41</td>\n",
       "      <td>-0.017064</td>\n",
       "    </tr>\n",
       "  </tbody>\n",
       "</table>\n",
       "</div>"
      ],
      "text/plain": [
       "     지역     2018     2017     2016     2015  2015-2018 증가율  2015-2017 증가율\n",
       "서울  수도권  9904312  9631482  9762546  9853972           2.83      -0.022579\n",
       "부산  경상권  3448737  3393191  3512547  3655437           1.63      -0.071741\n",
       "인천  수도권  2890451  2632035  2517680  2466338           9.82       0.067183\n",
       "대구  경상권  2466052  2431774  2456016  2473990           1.41      -0.017064"
      ]
     },
     "execution_count": 165,
     "metadata": {},
     "output_type": "execute_result"
    }
   ],
   "source": [
    "df"
   ]
  }
 ],
 "metadata": {
  "kernelspec": {
   "display_name": "Python 3",
   "language": "python",
   "name": "python3"
  },
  "language_info": {
   "codemirror_mode": {
    "name": "ipython",
    "version": 3
   },
   "file_extension": ".py",
   "mimetype": "text/x-python",
   "name": "python",
   "nbconvert_exporter": "python",
   "pygments_lexer": "ipython3",
   "version": "3.7.4"
  }
 },
 "nbformat": 4,
 "nbformat_minor": 2
}
