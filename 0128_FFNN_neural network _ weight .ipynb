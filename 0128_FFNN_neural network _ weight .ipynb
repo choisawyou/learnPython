{
 "cells": [
  {
   "cell_type": "markdown",
   "metadata": {},
   "source": [
    "# 신경망_ \n",
    "\n",
    "- 신경망학습은 가중치를 학습한다 \n",
    "- 가중치는 행렬로 되어있음\n",
    "- 하나의 행은 data point(관측치)를 나타낸다\n",
    "- 하나의 열은 변수를 나타낸다 \n",
    "- 파이썬은 열중심 \n",
    "- 행렬의 곱은 내적을 낸다는 의미 \n",
    "- 내적: 데이터를 어떻게 설명할지 _ 설명력 \n",
    "- x축 1,0,0 , y축 0,1,0  선a의 좌표가  2,4,5면 x축과의 거리는 2 / \n",
    "- 5개의 변수가 들어오는 값을 하나로=> 그래서 이걸 표현하려고 가중치 필요 : 회귀\n",
    "    - 2,5 * 5,1 곱하면 5개의 변수가 1개로 \n",
    "    \n",
    "[ Activation function ]\n",
    "- 예측은 MSE로 측정,분류는 Enthrophy로신\n",
    "- 선형문제를 비선형문제로 풀기위해서 활성화 함수 사용 \n",
    "- 현실의 대부분은 모두 비선형으로 나옴 \n",
    "    - sigmoid 0~1\n",
    "    - tanh -1 ~ 1\n",
    "    - softmax :분류기\n",
    "- DEEP 해지면 정확도가 올라가고 속도도 빨라짐\n",
    "\n",
    "- ACCURACY 대신 COST FUNCTION 사용 \n",
    "    - COST를 통해 방향갑을 학습한다\n",
    "    - ACCURACY 는 맞으면 값이 변화가 없다 \n",
    "    - 가중치 학습 및 조절하는게 역전파\n",
    "- 면적: 적분 , 기울기:미분       \n",
    "- 미니배치 : 데이터를 자른다\n",
    "    - 잘라서평균값으로 한다\n",
    "    - 지역해문제 해결 \n",
    "    - 속도가 빨라짐\n",
    "    - Queue : 데이터가 너무 많을 경우 메모리에 큐를 만듬 , 순차적으로 빼내감 \n",
    "    \n",
    "[ optimizer ]\n",
    " - optimizer은  learning rate와 기울기 컨트롤\n",
    " - learning rate 너무크면 발산 너무 작으면 시간이 오래걸린다 : 이걸 조절하는게 optimizer\n",
    "     - 가기전에 결정: momentom\n",
    "     - 가면서 하는게: NOV\n",
    " - Momentom 과 NOV 모두 고려한것이 ADAM : But adam이 가장 좋은 방법은 아니다\n",
    " \n",
    "[cf]\n",
    "\n",
    "- 지도학습\n",
    "     - [CNN]: convolution으로 특성을 뽑는다\n",
    "     - [RNN]: 순서가 있는 데이터\n",
    "-  비지도학습\n",
    " GAN"
   ]
  },
  {
   "cell_type": "markdown",
   "metadata": {},
   "source": [
    "## Tensorflow\n",
    "- 기본적인 자료구조는 그래프 \n",
    "- node간 edge로 \n",
    "- tensor 은  다차원배열\n",
    "- node 간 계산하려면 tensor가 도착해야함\n",
    "\n",
    "\n",
    "- 분산처리 : 여러대가 합쳐서 일 처리 : 가장 중요한 문제는 동기화 \n",
    "    - 병렬처리\n",
    "    - pc분산\n",
    "- CPU\n",
    "    - 부동소수점 연산기 4-8개: 속도가 느림 \n",
    "    ↓\n",
    "    ↓  데이터를 GPU에 옮기고 처리하고 다시 가져오자!\n",
    "    ↓    이를 위해서는 CUDA cudnn 설치해야함 \n",
    "    \n",
    "- GPU\n",
    "    - 부동소수점 연산기 1024개\n",
    "    \n",
    "    - memory : cpu와 연결해야함 : 'session 연결'  #session 이란 말이 나오면 gpu에 명령하는구나 ~\n",
    "        - 데이터 저장영역\n",
    "        - 프로그램 영역\n",
    "    - **변수 세개 **\n",
    "        - constant: 상수지정\n",
    "        - variables : 가중치 선언\n",
    "        - place holder : 외부에서 주입된 변수 "
   ]
  },
  {
   "cell_type": "markdown",
   "metadata": {},
   "source": [
    "### 설치"
   ]
  },
  {
   "cell_type": "code",
   "execution_count": null,
   "metadata": {},
   "outputs": [],
   "source": [
    "#현재 텐서플로우는 버전 2.0넘어감\n",
    "#하지만 사용하는건 1.~ 버전을 많이 사용하고있음 \n",
    "# conda install tesorflow \n",
    "import tensorflow as tf\n",
    "print(tf.__version__)"
   ]
  },
  {
   "cell_type": "markdown",
   "metadata": {},
   "source": [
    "### 가상환경 설치 \n"
   ]
  },
  {
   "cell_type": "code",
   "execution_count": null,
   "metadata": {},
   "outputs": [],
   "source": [
    "# 앞에서 안되서\n",
    "#가상환경 설치\n",
    "# tf_test는 가상환경 이름 \n",
    "\n",
    "#conda create --name tf_test python anaconda\n",
    "\n",
    "#activate tf_test  #가상환경 활성화\n",
    "\n",
    "#conda update conda\n",
    "\n",
    "#conda update pip\n",
    "\n",
    "#conda install numpy\n",
    "#conda install pandas\n",
    "#conda install jupyter\n",
    "#conda install scipy\n",
    "#conda install seaborn\n",
    "\n",
    "#conda install tensorflow=1.14.0\n",
    "#jupyter kernel install\n",
    "\n",
    "\n",
    "# tf test notebook 실행 "
   ]
  },
  {
   "cell_type": "markdown",
   "metadata": {},
   "source": [
    "# 데이터 타입"
   ]
  },
  {
   "cell_type": "code",
   "execution_count": null,
   "metadata": {},
   "outputs": [],
   "source": [
    "# 데이터 타입\n",
    "import tensorflow as tf\n",
    "hello = tf.constant('Hello, TensorFlow!') \n",
    "sess=tf.Session() #세션 연결\n",
    "print(hello) #연결하기전에 출력하면 데이터 직접 확인 불가 \n",
    "\n",
    "print(sess.run(hello)) #세션에 연결하고 출력하면 numpy데이터로 변경\n",
    "\n",
    "\n",
    "\n",
    "# tensorflow 에는 변수 3개\n",
    "# constant,variables, place holder\n"
   ]
  },
  {
   "cell_type": "code",
   "execution_count": null,
   "metadata": {},
   "outputs": [],
   "source": [
    "# 모델의 그래프 구조확인\n",
    "# 모델을 그대로 저장(가중치)할 때 메모리 위치를 확인하기 위해서 \n",
    "\n",
    "x= tf.constant(35,name='x') # 이름 지정한 것으로 위치확인  # 이름 지정안하면 찾을 수 없음 \n",
    "\n",
    "y=tf.Variable(x+5,name='y') #변수가 있는 경우 반드시 초기화하기\n",
    "\n",
    "print(y)"
   ]
  },
  {
   "cell_type": "markdown",
   "metadata": {},
   "source": [
    "# 초기화"
   ]
  },
  {
   "cell_type": "code",
   "execution_count": null,
   "metadata": {},
   "outputs": [],
   "source": [
    "# variable(뼌수) 초기화 하는법 \n",
    "\n",
    "model = tf.global_variables_initializer()\n",
    "##################### 여기까지 모델을 만드는 과정\n",
    "\n",
    "\n",
    "with tf.Session() as session:\n",
    "    session.run(model)\n",
    "    print(session.run(y))\n",
    "    "
   ]
  },
  {
   "cell_type": "code",
   "execution_count": null,
   "metadata": {},
   "outputs": [],
   "source": [
    "# 판다스에서 데이터 초기화(list,dict)한것과 동일하게 초기화\n",
    "\n",
    "a = tf.constant([1,2,3],name='a')  # TF.CONSTANT:GPU에공간을 만드는 것\n",
    "b = tf.constant([4,5,6],name='b')\n",
    "add_op = a+b  #배열연산 #요소끼리 계산 \n",
    "\n",
    "with tf.Session() as session:\n",
    "    print(session.run(add_op))\n"
   ]
  },
  {
   "cell_type": "markdown",
   "metadata": {},
   "source": [
    "# Place holder"
   ]
  },
  {
   "cell_type": "code",
   "execution_count": null,
   "metadata": {},
   "outputs": [],
   "source": [
    "# 주입변수\n",
    "\n",
    "# a b 가 있어야 add mul 가능/ add mul 이있어야 total 가능 _ 순차적 _ 주렁주렁 다 엮여있음 \n",
    "# 밑에 연산을 하면 자료구조 : Graph가 구성 (골격구조 형성)\n",
    "\n",
    "\n",
    "a = tf.placeholder(tf.int16) #데이터 없이 공간만 확보 \n",
    "b= tf.placeholder(tf.int16)\n",
    "add = tf.add(a,b) #두개를 더하는 연산\n",
    "mul = tf.multiply(a,b) #곱하는 연산\n",
    "total = tf.multiply(add,mul)  #두결과 곱하는 것"
   ]
  },
  {
   "cell_type": "code",
   "execution_count": null,
   "metadata": {},
   "outputs": [],
   "source": [
    "with tf.Session() as sess:   #with 안에서 초기화하면 with 가 끝나면 자동 소멸  sess 로 인스턴스 됨\n",
    "    print('feed 변수 합: %i'%sess.run(add,feed_dict={a:2,b:3}))  #데이터 주입 호출\n",
    "    \n",
    "    print('feed 변수 곱: %i'%sess.run(mul,feed_dict={a:2,b:3}))\n",
    "    \n",
    "    print('feed 변수 곱: %i'%sess.run(total,feed_dict={a:2,b:3}))"
   ]
  },
  {
   "cell_type": "code",
   "execution_count": null,
   "metadata": {},
   "outputs": [],
   "source": [
    "with tf.Session() as sess:   #with 안에서 초기화하면 with 가 끝나면 자동 소멸  sess 로 인스턴스 됨\n",
    "  \n",
    "    print('feed 변수 곱: %i'%sess.run(total,feed_dict={a:2,b:3}))\n",
    "    \n",
    "    \n",
    "    #위에 두 과정이 없어도 결과값이 나옴  _ 골격을 만들고 run 으로 호출\n",
    "    # 그래프 구조로 연결되어있어서 앞에 값없어도 나오는것"
   ]
  },
  {
   "cell_type": "code",
   "execution_count": null,
   "metadata": {},
   "outputs": [],
   "source": [
    "# constant 상수 : 값을 바꿀 수 없다 \n",
    "\n",
    "matrix1 = tf.constant([[3.,3.]])  # 1x2\n",
    "matrix2 = tf.constant([[2.],[2.]])# 2x1    #두개곱하면 1x1\n",
    "product = tf.matmul(matrix1,matrix2)# matrix multiply\n",
    "with tf.Session() as sess: #실행부 \n",
    "    result = sess.run(product)\n",
    "    print(result)"
   ]
  },
  {
   "cell_type": "code",
   "execution_count": null,
   "metadata": {},
   "outputs": [],
   "source": [
    "zeros = tf.zeros([2,2]) #zeros 는 모든 변수를 0으로  2x2 행렬을 모두 0으로\n",
    "ones = tf.ones([6]) # 1으로\n",
    "#uniform  : 균등분포\n",
    "uniform = tf.random_uniform([3,3,3],minval=0.0,maxval=10)\n",
    "# normal : 정규분포\n",
    "normal = tf.random_normal([3,3,3],mean=0.0,stddev=2.0)\n",
    "#trucated normal : 표준편차 2배내의 것으로 초기화 \n",
    "trunc = tf.truncated_normal([2,2],mean=5.0,stddev=1.0)\n",
    "random_var = tf.Variable(tf.truncated_normal([2,2]))"
   ]
  },
  {
   "cell_type": "code",
   "execution_count": null,
   "metadata": {},
   "outputs": [],
   "source": [
    "init = tf.global_variables_initializer()\n",
    "sess = tf.Session()\n",
    "sess.run(init)\n",
    "print(sess.run(trunc))\n",
    "print('변수초기화',sess.run(random_var))"
   ]
  },
  {
   "cell_type": "code",
   "execution_count": null,
   "metadata": {},
   "outputs": [],
   "source": [
    "import tensorflow as tf\n",
    "my_tensor = tf.constant(0,shape=[6,2]) #constant 를 0 으로 초기화하고 6x2\n",
    "\n",
    "my_static_shape = my_tensor.get_shape()\n",
    "print(type(my_static_shape)) #class\n",
    "print(my_static_shape) #내용을 확인하는것은 run으로  차수는 get_shape 함수 \n",
    "\n",
    "# 전치하기\n",
    "my_tensor_transposed = tf.transpose(my_tensor)\n",
    "print(my_tensor_transposed.get_shape())"
   ]
  },
  {
   "cell_type": "code",
   "execution_count": null,
   "metadata": {},
   "outputs": [],
   "source": [
    "import tensorflow as tf\n",
    "tf.InteractiveSession() #대화형 세션 \n",
    "tf.zeros(2)\n",
    "a = tf.zeros(2)\n",
    "print(a.eval()) #값이 바로보임 (run을 안했는데도 보여짐)"
   ]
  },
  {
   "cell_type": "code",
   "execution_count": null,
   "metadata": {},
   "outputs": [],
   "source": [
    "#값을 보여주는 함수를 만들었다 \n",
    "def showvalue(t):\n",
    "    sess = tf.InteractiveSession()\n",
    "    tf.global_variables_initializer().run() #chaining\n",
    "    print(t.eval())\n",
    "    sess.close()"
   ]
  },
  {
   "cell_type": "code",
   "execution_count": null,
   "metadata": {},
   "outputs": [],
   "source": [
    "#함수사용\n",
    "c2,c3 = tf.constant([1.2,5.6]),tf.constant([-4,-1,7])\n",
    "v2,v3 = tf.Variable([2.3,4.5]),tf.Variable([-2,3,5])\n",
    "showvalue(tf.add_n([c2,v2]))\n",
    "showvalue(tf.add_n([c3,v3,v3])) #여러개를 add 할수 있도록 add_n으로 "
   ]
  },
  {
   "cell_type": "markdown",
   "metadata": {},
   "source": [
    "# 방정식 해 구하기 "
   ]
  },
  {
   "cell_type": "markdown",
   "metadata": {},
   "source": [
    "#1계수 행렬과  결과값 행렬 총 2개로 만들면된다\n",
    "#2앞에행렬을 역행렬로 구한다 그리고 두번째 행렬에 곱해주면\n",
    "#3해를 구할수있다\n",
    "\n",
    "2x + y + z =1\n",
    "4x + 3y + 4z = 2\n",
    "-4x + 2y + 2z = -6\n",
    "\n",
    "\n",
    "#A dot x = [1,2,-6]  #행렬 나누기 = > 역행렬 곱해주기 \n",
    "       y\n",
    "       z\n",
    "       \n",
    "       \n",
    "#3x3  * 3x1 =>3x1"
   ]
  },
  {
   "cell_type": "code",
   "execution_count": null,
   "metadata": {},
   "outputs": [],
   "source": [
    "sess = tf.Session()\n",
    "x = tf.constant([2.0,1.0,1.0,4,3,4,-4,2,2],shape=[3,3])\n",
    "print(sess.run(x))\n",
    "y = tf.constant([1.0,2,-6],shape = [3,1])\n",
    "print(sess.run(y))"
   ]
  },
  {
   "cell_type": "code",
   "execution_count": null,
   "metadata": {},
   "outputs": [],
   "source": [
    "z =tf.matrix_solve(x,y)  #matrix _ solve :앞에오는 행렬의 역행렬을 구하고  곱해주기 ( 나누기 )\n",
    "result = sess.run(z)\n",
    "print('계수 :',result)\n",
    "print(sess.run(z))"
   ]
  },
  {
   "cell_type": "markdown",
   "metadata": {},
   "source": [
    "## 검산하기"
   ]
  },
  {
   "cell_type": "code",
   "execution_count": null,
   "metadata": {},
   "outputs": [],
   "source": [
    "# 직접 넎어주기\n",
    "print(2.0 * result[0] + 1.0 * result[1] + 1.0 * result[2])"
   ]
  },
  {
   "cell_type": "code",
   "execution_count": null,
   "metadata": {},
   "outputs": [],
   "source": [
    "# 통째로 A 에 넣어주기\n",
    "\n",
    "print(sess.run(tf.matmul(x,z)))"
   ]
  },
  {
   "cell_type": "markdown",
   "metadata": {},
   "source": [
    "# matrix solver"
   ]
  },
  {
   "cell_type": "code",
   "execution_count": null,
   "metadata": {},
   "outputs": [],
   "source": [
    " # matrix solver 과정 보기 \n",
    "x_1 =tf.matrix_inverse(x)\n",
    "z = tf.matmul(x_1,y) #행렬 곱 \n",
    "print('해:',sess.run(z))"
   ]
  },
  {
   "cell_type": "markdown",
   "metadata": {},
   "source": [
    "# Singular Value Decomposition  특이행렬분해 \n",
    "\n",
    "     행과열의 갯수가 다를 행렬에대하여 분해하는것 "
   ]
  },
  {
   "cell_type": "code",
   "execution_count": null,
   "metadata": {},
   "outputs": [],
   "source": [
    "# pca 할 때 _ 고유값분해 eigen value  + eigenvector : 정방행렬 (행과열의수가 같은 것 )\n",
    "a = tf.constant([1,2,3,4,5,6],shape =[2,3]) # 행과열의 갯수가 다른 행렬에 분해하는게 svd\n",
    "a = tf.to_float(a)\n",
    "#행과 열의 특징을 별도로 뽑음 \n",
    "# 정방행렬이 되어야하는데  왜 v가 3x2인가/....\n",
    "#\n",
    "s,u,v = tf.svd(a)  #singular value  찻수가 큰것이 앞에옴  u(2x2) s(1x2) v(3x2)\n",
    "print(sess.run(s),'\\n') # 1x2\n",
    "print(sess.run(u),'\\n') # 2x2      #u와 v를 곱해주기위해 s로 u의 모양을 맞춰준것 \n",
    "print(sess.run(v),'\\n') # 3x2"
   ]
  },
  {
   "cell_type": "markdown",
   "metadata": {},
   "source": [
    "# Diagonal 대각행렬"
   ]
  },
  {
   "cell_type": "code",
   "execution_count": null,
   "metadata": {},
   "outputs": [],
   "source": [
    "diagonal = [1,2,3,4]\n",
    "dia = tf.diag(diagonal) # 원핫인코딩할 때 대각 행렬을 자주 사용\n",
    "print(sess.run(dia))"
   ]
  },
  {
   "cell_type": "code",
   "execution_count": null,
   "metadata": {},
   "outputs": [],
   "source": [
    "print(sess.run(tf.diag_part(dia)))  # diag_part : 대각선 요소를 다 뽑아줌\n",
    "print(sess.run(tf.trace(dia))) # trace : 대각선 요소를 다 더해줌"
   ]
  },
  {
   "cell_type": "code",
   "execution_count": null,
   "metadata": {},
   "outputs": [],
   "source": [
    "import numpy as np\n",
    "a = tf.constant([1,2,3,4,5,6],shape=[2,3])\n",
    "\n",
    "b = tf.constant([7,8,9,10,11,12],shape=[3,2])\n",
    "c = tf.matmul(a,b)\n",
    "sess.run(c) # 2x2"
   ]
  },
  {
   "cell_type": "markdown",
   "metadata": {},
   "source": [
    "# 행렬의 곱"
   ]
  },
  {
   "cell_type": "code",
   "execution_count": null,
   "metadata": {},
   "outputs": [],
   "source": [
    "# 행열이 나타나면 뒤에 2개 (행렬) 보기 \n",
    "#앞에것은 개수.. 어떻게 층을 이루고 있는지 ! \n",
    "#행렬중심으로 데이터 표현 \n",
    "a = tf.constant(np.arange(1,13,dtype = np.int32), shape=[2,2,3])  #곱셈을 진행할 때  # shape의 뒤에 2개만 보기  \n",
    "print(sess.run(a))                                    # 2x3 이 2개있음 \n",
    "\n",
    "b = tf.constant(np.arange(13,25,dtype = np.int32),shape=[2,3,2])                      #shape 의 뒤에 2개만 보기 \n",
    "                                                    # 3x2 가 2개있음 \n",
    "print(sess.run(b))\n",
    "c = tf.matmul(a,b)\n",
    "sess.run(c)  #2x2x2"
   ]
  },
  {
   "cell_type": "markdown",
   "metadata": {},
   "source": [
    "## 문제  \n",
    " 위에거를 4차원으로 바꿔서 해봐라 "
   ]
  },
  {
   "cell_type": "code",
   "execution_count": null,
   "metadata": {},
   "outputs": [],
   "source": [
    "\n",
    "a = tf.constant(np.arange(1,25,dtype = np.int32), shape=[2,2,2,3])    #숫자를 바꿔서 초기화 해주기 \n",
    "print(sess.run(a))                                    \n",
    "\n",
    "b = tf.constant(np.arange(25,49,dtype = np.int32),shape=[2,2,3,2])   #숫자를 바꿔서 초기화 해주기         \n",
    "print(sess.run(b))\n",
    "c = tf.matmul(a,b)\n",
    "sess.run(c)  #2x2x2"
   ]
  },
  {
   "cell_type": "markdown",
   "metadata": {},
   "source": [
    "## 행렬변환( 전치, 제곱, 축소 , 확대)"
   ]
  },
  {
   "cell_type": "code",
   "execution_count": null,
   "metadata": {},
   "outputs": [],
   "source": [
    "# 자기 자신을 제곱하려면 전치시켜야한다 \n",
    "# shape=[2,2,2,3] 에서 뒤에 2개만 전치시키면 된다 \n",
    "\n",
    "#sess.run(a**2)\n",
    "\n",
    "# 제곱 방법 1 \n",
    "d = tf.matmul(a,tf.transpose(a,perm=[0,1,3,2]))\n",
    "print(sess.run(d))"
   ]
  },
  {
   "cell_type": "code",
   "execution_count": null,
   "metadata": {},
   "outputs": [],
   "source": [
    "# 제곱방법 2 \n",
    "tf.matmul(a,a,transpose_b=True) #전치해서 자기제곱"
   ]
  },
  {
   "cell_type": "code",
   "execution_count": null,
   "metadata": {},
   "outputs": [],
   "source": [
    "# 전치 \n",
    "x = tf.constant([[[1,2,3],     # 0 1 2\n",
    "                   [4,5,6]],   # 2x2x3  => 제곱이 되려면  2x3x2 ( 0,2,1)\n",
    "                 [[7,8,8],\n",
    "                 [10,11,12]]])\n",
    "print(sess.run(tf.shape(x)))\n",
    "sess.run(tf.transpose(x)) #3x2x2 : 2 1 0 열 행 면 으로 바뀜 "
   ]
  },
  {
   "cell_type": "code",
   "execution_count": null,
   "metadata": {},
   "outputs": [],
   "source": [
    "# 전치 \n",
    "\n",
    "y = tf.transpose(x,perm=[0,2,1])\n",
    "sess.run(y)"
   ]
  },
  {
   "cell_type": "code",
   "execution_count": null,
   "metadata": {},
   "outputs": [],
   "source": [
    "#제곱 \n",
    "sess.run(tf.matmul(x, tf.transpose(x,perm=[0,2,1])))"
   ]
  },
  {
   "cell_type": "code",
   "execution_count": null,
   "metadata": {},
   "outputs": [],
   "source": [
    "t=[1,2,3,4,5,6] #데이터 6개 \n",
    "t = tf.reshape(t,[1,2,1,3,1,1]) #6차원으로 만들어준다  총 곱이 6이되도록 \n",
    "sess.run(t)"
   ]
  },
  {
   "cell_type": "code",
   "execution_count": null,
   "metadata": {},
   "outputs": [],
   "source": [
    "print('t의 차원은',sess.run(tf.shape(t)))\n"
   ]
  },
  {
   "cell_type": "code",
   "execution_count": null,
   "metadata": {},
   "outputs": [],
   "source": [
    "#squeeze : 요소 수가 한개인 것을 모두 없앰 \n",
    "print('차원수 축소할 때',sess.run(tf.shape(tf.squeeze(t))))"
   ]
  },
  {
   "cell_type": "code",
   "execution_count": null,
   "metadata": {},
   "outputs": [],
   "source": [
    "tensor = [1,2,3,4,5,6,7,8,9,10,11,12]\n",
    "print(sess.run(tf.reshape(tensor,[2,-1]))) # -1 : 계산으로 채워라 \n",
    "tf.reshape(tensor,[-1,6])\n",
    "print(sess.run(tf.reshape(tensor,[2,-1,3])))"
   ]
  },
  {
   "cell_type": "code",
   "execution_count": null,
   "metadata": {},
   "outputs": [],
   "source": [
    " #차원확대\n",
    "print(tf.expand_dims(t,0))"
   ]
  },
  {
   "cell_type": "code",
   "execution_count": null,
   "metadata": {},
   "outputs": [],
   "source": [
    "# 수를 ㅊㅐ우는 방법 1\n",
    "# padding 충전재 \n",
    "t = [[1,2,3],[4,5,6]]  # 2 x 3  => 4x7\n",
    "paddings = [[1,1],[2,2]] #행을 위 아래 하나씩 왼쪽 오른쪽 2개씩 \n",
    "print(sess.run(tf.pad(t,paddings,'CONSTANT')))"
   ]
  },
  {
   "cell_type": "code",
   "execution_count": null,
   "metadata": {},
   "outputs": [],
   "source": [
    "# 수를 ㅊㅐ우는 방법 2\n",
    "#reflect\n",
    "\n",
    "paddings = [[1,1],[1,1]] #4x5\n",
    "print(sess.run(tf.pad(t,paddings,\"REFLECT\")))"
   ]
  },
  {
   "cell_type": "code",
   "execution_count": null,
   "metadata": {},
   "outputs": [],
   "source": [
    "# 수를 ㅊㅐ우는 방법 3\n",
    "# SYMMETRIC :확장\n",
    "\n",
    "print(sess.run(tf.pad(t,paddings,'SYMMETRIC')))\n"
   ]
  },
  {
   "cell_type": "markdown",
   "metadata": {},
   "source": [
    "# 다차 방정식의해 \n",
    "\n",
    "- 무작위 대입법\n",
    "- 역행렬 구함\n",
    "- 입출력 데이터만 : 계수결정(가중치 학습을 통해서 학습  )\n",
    "\n",
    "\n",
    " - 데이터로부터 규칙을 찾아냄 => 분류와 예측을 하기 위해서 "
   ]
  },
  {
   "cell_type": "markdown",
   "metadata": {},
   "source": [
    "## 데이터 바로쓰기 "
   ]
  },
  {
   "cell_type": "code",
   "execution_count": 1,
   "metadata": {},
   "outputs": [
    {
     "data": {
      "text/plain": [
       "100"
      ]
     },
     "execution_count": 1,
     "metadata": {},
     "output_type": "execute_result"
    }
   ],
   "source": [
    "\n",
    "\n",
    "import numpy as np\n",
    "import tensorflow as tf\n",
    "\n",
    "# 데이터 생성 => minibatch => feeding (반복문)\n",
    "x_data = np.random.rand(100).astype(np.float32) #랜덤으로 100개 뽑기 \n",
    "y_data = x_data * 0.1 +0.3  #그 데이터를 여기에 대입  # 선형 방정식 \n",
    "len(y_data)"
   ]
  },
  {
   "cell_type": "code",
   "execution_count": 2,
   "metadata": {},
   "outputs": [],
   "source": [
    "# 가중치와 바이어스 \n",
    "# 설명력 _ 가중치\n",
    "# bias 는 activation(활성화시키는 계수) => 1  / 모든 가중치에는 꼭 바이어스가 한개씩 결합 \n",
    "\n",
    "W = tf.Variable(tf.random_uniform([1],-1.0,1.0)) # 가중치 # uniform 균등분포 -1에서 1까지 \n",
    "b = tf.Variable(tf.zeros([1]))   #bias \n",
    "sess = tf.Session()\n",
    "y = W * x_data +b"
   ]
  },
  {
   "cell_type": "code",
   "execution_count": 3,
   "metadata": {
    "scrolled": true
   },
   "outputs": [],
   "source": [
    "# loss function : MSE ; # 2차원인 경우 포물선 / 최적점은 1개 \n",
    "loss = tf.reduce_mean(tf.square(y - y_data)) # [예측치 - 실제값 의 제곱 ] 을 합해라 (REDUCE)\n",
    "# 기울기 : 미분을 이용해서 => 마이너스(-) 면 가중치에 차를 더해주고 , \n",
    "#                            기울기가 플러스(+)면 가중치에 감하는 연산\n",
    "optimizer = tf.train.GradientDescentOptimizer(0.5) #경사하강법의 OPTIMIZER  # 학습율 \n",
    "train = optimizer.minimize(loss)"
   ]
  },
  {
   "cell_type": "code",
   "execution_count": 4,
   "metadata": {},
   "outputs": [],
   "source": [
    "init = tf.global_variables_initializer() # 모든 변수 다 만들고 session 실행하기 전에  초기화해주면됨\n",
    "sess.run(init)"
   ]
  },
  {
   "cell_type": "code",
   "execution_count": 5,
   "metadata": {},
   "outputs": [
    {
     "name": "stdout",
     "output_type": "stream",
     "text": [
      "0 [0.29666716] [0.2618175]\n",
      "20 [0.13139881] [0.28375226]\n",
      "40 [0.10577509] [0.2970116]\n",
      "60 [0.10106221] [0.29945037]\n",
      "80 [0.10019537] [0.29989892]\n",
      "100 [0.10003593] [0.29998142]\n",
      "120 [0.10000662] [0.29999658]\n",
      "140 [0.10000122] [0.2999994]\n",
      "160 [0.10000023] [0.2999999]\n",
      "180 [0.1000001] [0.29999995]\n",
      "200 [0.1000001] [0.29999995]\n"
     ]
    }
   ],
   "source": [
    "for step in range(201): #200번회전\n",
    "    sess.run(train)\n",
    "    if step%20 ==0: #20번  마다 \n",
    "        print(step,sess.run(W),sess.run(b)) #0.1 +0.3  # 미세한 차이는 이해해줘야함"
   ]
  },
  {
   "cell_type": "markdown",
   "metadata": {},
   "source": [
    "## 주입\n",
    "데이터를 외부에서 가져옴"
   ]
  },
  {
   "cell_type": "code",
   "execution_count": 6,
   "metadata": {},
   "outputs": [],
   "source": [
    "x = tf.placeholder(tf.float32,name='x')\n",
    "y = tf.placeholder(tf.float32)\n",
    "\n",
    "W = tf.Variable(tf.random_uniform([1],-1.0,1.0))\n",
    "b = tf.Variable(tf.zeros([1]))\n",
    "sess = tf.Session()\n",
    "y_model = W * x + b"
   ]
  },
  {
   "cell_type": "code",
   "execution_count": 7,
   "metadata": {},
   "outputs": [],
   "source": [
    "loss = tf.reduce_mean(tf.square(y_model - y))\n",
    "\n",
    "optimizer = tf.train.GradientDescentOptimizer(0.5) #경사하강법의 OPTIMIZER  # 학습율 \n",
    "train = optimizer.minimize(loss)"
   ]
  },
  {
   "cell_type": "code",
   "execution_count": 8,
   "metadata": {},
   "outputs": [],
   "source": [
    "init = tf.global_variables_initializer() # 모든 변수 다 만들고 session 실행하기 전에  초기화해주면됨\n",
    "sess.run(init)"
   ]
  },
  {
   "cell_type": "code",
   "execution_count": 9,
   "metadata": {},
   "outputs": [
    {
     "name": "stdout",
     "output_type": "stream",
     "text": [
      "0 [0.07468143] [0.41869384]\n",
      "20 [0.08741607] [0.30651176]\n",
      "40 [0.09768548] [0.3011977]\n",
      "60 [0.09957429] [0.3002203]\n",
      "80 [0.09992173] [0.3000405]\n",
      "100 [0.09998561] [0.30000746]\n",
      "120 [0.09999736] [0.30000138]\n",
      "140 [0.09999952] [0.30000025]\n",
      "160 [0.0999999] [0.30000007]\n",
      "180 [0.0999999] [0.30000007]\n",
      "200 [0.0999999] [0.30000007]\n"
     ]
    }
   ],
   "source": [
    "for step in range(201): #200번회전\n",
    "    sess.run(train,{x:x_data,y:y_data})\n",
    "    if step%20 ==0: #20번  마다 \n",
    "        print(step,sess.run(W),sess.run(b)) #0.1 +0.3  # 미세한 차이는 이해해줘야함"
   ]
  },
  {
   "cell_type": "markdown",
   "metadata": {},
   "source": [
    "### 예측모델"
   ]
  },
  {
   "cell_type": "code",
   "execution_count": 10,
   "metadata": {},
   "outputs": [],
   "source": [
    "predicted = sess.run(y_model ,{x:[i for i in range(100)]})"
   ]
  },
  {
   "cell_type": "code",
   "execution_count": 11,
   "metadata": {},
   "outputs": [
    {
     "data": {
      "image/png": "[encoded data removed]",
      "text/plain": [
       "<Figure size 432x288 with 1 Axes>"
      ]
     },
     "metadata": {
      "needs_background": "light"
     },
     "output_type": "display_data"
    }
   ],
   "source": [
    "%matplotlib inline\n",
    "import matplotlib.pyplot as plt\n",
    "\n",
    "plt.plot(x_data,y_data,'o',markersize=5)\n",
    "plt.plot(predicted,'r')\n",
    "plt.show()"
   ]
  },
  {
   "cell_type": "code",
   "execution_count": 12,
   "metadata": {},
   "outputs": [],
   "source": [
    "# 텐서플로우는 훈련광 ㅖ측이 하나로 되어있다 "
   ]
  },
  {
   "cell_type": "code",
   "execution_count": 13,
   "metadata": {},
   "outputs": [],
   "source": [
    "from tensorflow.python.framework import ops\n",
    "import os\n",
    "ops.reset_default_graph()"
   ]
  },
  {
   "cell_type": "code",
   "execution_count": 14,
   "metadata": {},
   "outputs": [],
   "source": [
    "sess = tf.Session()\n",
    "x_vals = np.array([1.,3.,5.,7.,9.])\n",
    "y_vals = np.array([1.,3.,5.,7.,9.])\n",
    "x_data = tf.placeholder(tf.float32)\n",
    "y_data = tf.placeholder(tf.float32)\n",
    "m = tf.constant(3.)\n",
    "prod = tf.multiply(x_data,y_data)"
   ]
  },
  {
   "cell_type": "code",
   "execution_count": 15,
   "metadata": {},
   "outputs": [],
   "source": [
    "\n",
    "\n",
    "merged = tf.summary.merge_all()\n",
    "if not os.path.exists('c://tmp/tensorboard_logs/'):\n",
    "    os.makedirs('c://tmp/tensorboard_logs/')\n",
    "\n",
    "my_writer = tf.summary.FileWriter('c://tmp/tensorboard_logs/',sess.graph)\n",
    "\n",
    "# tensorboard --logdir=/tmp\n",
    "# https://localhost:6006/"
   ]
  },
  {
   "cell_type": "markdown",
   "metadata": {},
   "source": [
    "## 문제 \n",
    " x y의 규칙을 찾아라 "
   ]
  },
  {
   "cell_type": "code",
   "execution_count": 19,
   "metadata": {},
   "outputs": [],
   "source": [
    "import numpy \n",
    "rng = numpy.random\n",
    "\n",
    "\n",
    "#상수화할 때 좋은 점 : 대입으로해놓으면 나중에 값을 바꿀때 하나만 바꾸면되서 편하다 \n",
    "learning_rate = 0.01\n",
    "training_epochs = 4000\n",
    "display_step = 50\n",
    "\n",
    "\n",
    "train_X = numpy.asarray([3.3,4.4,5.5,6.71,6.93,4.168,9.779,6.182,7.59,2.167,7.042,10.791,5.313,7.997,5.654,9.27,3.1])\n",
    "train_Y = numpy.asarray([1.7,2.76,2.09,3.19,1.694,1.573,3.366,2.596,2.53,1.221,2.827,3.465,1.65,2.904,2.42,2.94,1.3]) "
   ]
  },
  {
   "cell_type": "code",
   "execution_count": 25,
   "metadata": {},
   "outputs": [
    {
     "name": "stdout",
     "output_type": "stream",
     "text": [
      "ERROR:tensorflow:==================================\n",
      "Object was never used (type <class 'tensorflow.python.framework.ops.Operation'>):\n",
      "<tf.Operation 'init_1' type=NoOp>\n",
      "If you want to mark it as used call its \"mark_used()\" method.\n",
      "It was originally created here:\n",
      "  File \"C:\\Users\\ICT01_06\\Anaconda3\\lib\\site-packages\\IPython\\core\\interactiveshell.py\", line 3346, in run_code\n",
      "    return outflag  File \"<ipython-input-24-ade72032846d>\", line 13, in <module>\n",
      "    init = tf.initialize_all_variables()  File \"C:\\Users\\ICT01_06\\Anaconda3\\lib\\site-packages\\tensorflow\\python\\util\\tf_should_use.py\", line 193, in wrapped\n",
      "    return _add_should_use_warning(fn(*args, **kwargs))\n",
      "==================================\n"
     ]
    }
   ],
   "source": [
    "# data point : 관측치 \n",
    "n_samples = train_X.shape[0]  #차수가 0이면 행\n",
    "X = tf.placeholder('float')\n",
    "Y = tf.placeholder('float')\n",
    "W = tf.Variable(rng.randn(),name='weight') #가중치는 설명한다\n",
    "b = tf.Variable(rng.randn(),name ='bias')  #bias는 활성화 정도 \n",
    "activation = tf.add(tf.multiply(X,W),b)  # X와 W를 곱하고  b를 더합  # y = ax + b \n",
    "# activation 예측값\n",
    "cost = tf.reduce_sum(tf.pow(activation-Y,2))/(2*n_samples) #minibatch size 고려. zip으로 묶은 2개\n",
    "#pow ^와 같다 . 2일때는 제곱 => 그이상은 3 4 5 6 승 \n",
    "\n",
    "# 역전파 자동 수행 : optimizer 자체가 하이퍼파라미터가 됨 \n",
    "optimizer = tf.train.GradientDescentOptimizer(learning_rate).minimize(cost) #경사하강법\n",
    "# optimizer 는 기울기와 학습률 고려   #momentum : 고려\n",
    "    \n",
    "    \n",
    "    \n",
    "init = tf.initialize_all_variables()\n",
    "\n",
    "\n",
    "\n",
    "####여기까지 그래프를 정의하는 과정 _ node (연산)와 edge(데이터 전달 : tensor(배열적요소+행렬적요소 ))"
   ]
  },
  {
   "cell_type": "code",
   "execution_count": 23,
   "metadata": {
    "collapsed": true
   },
   "outputs": [
    {
     "name": "stdout",
     "output_type": "stream",
     "text": [
      "Epoch: 0001 cost= 8.157048225 W= 0.9040846 b= 0.45312053\n",
      "Epoch: 0051 cost= 0.087184116 W= 0.30620977 b= 0.3941735\n",
      "Epoch: 0101 cost= 0.086002953 W= 0.30284268 b= 0.41839695\n",
      "Epoch: 0151 cost= 0.084958404 W= 0.2996756 b= 0.44117975\n",
      "Epoch: 0201 cost= 0.084034652 W= 0.296697 b= 0.46260792\n",
      "Epoch: 0251 cost= 0.083217740 W= 0.29389548 b= 0.4827621\n",
      "Epoch: 0301 cost= 0.082495399 W= 0.29126063 b= 0.5017166\n",
      "Epoch: 0351 cost= 0.081856608 W= 0.28878257 b= 0.51954377\n",
      "Epoch: 0401 cost= 0.081291758 W= 0.28645188 b= 0.536311\n",
      "Epoch: 0451 cost= 0.080792293 W= 0.28425962 b= 0.5520815\n",
      "Epoch: 0501 cost= 0.080350623 W= 0.28219783 b= 0.5669144\n",
      "Epoch: 0551 cost= 0.079960123 W= 0.28025857 b= 0.5808651\n",
      "Epoch: 0601 cost= 0.079614840 W= 0.27843466 b= 0.593986\n",
      "Epoch: 0651 cost= 0.079309523 W= 0.27671912 b= 0.6063279\n",
      "Epoch: 0701 cost= 0.079039678 W= 0.27510574 b= 0.6179335\n",
      "Epoch: 0751 cost= 0.078801103 W= 0.2735886 b= 0.6288477\n",
      "Epoch: 0801 cost= 0.078590170 W= 0.27216172 b= 0.639113\n",
      "Epoch: 0851 cost= 0.078403711 W= 0.27081951 b= 0.64876866\n",
      "Epoch: 0901 cost= 0.078238867 W= 0.2695571 b= 0.65785044\n",
      "Epoch: 0951 cost= 0.078093149 W= 0.26836973 b= 0.6663917\n",
      "Epoch: 1001 cost= 0.077964358 W= 0.2672531 b= 0.67442495\n",
      "Epoch: 1051 cost= 0.077850528 W= 0.2662029 b= 0.68198025\n",
      "Epoch: 1101 cost= 0.077749915 W= 0.2652151 b= 0.68908656\n",
      "Epoch: 1151 cost= 0.077661000 W= 0.26428595 b= 0.69577014\n",
      "Epoch: 1201 cost= 0.077582434 W= 0.26341218 b= 0.7020561\n",
      "Epoch: 1251 cost= 0.077512994 W= 0.2625903 b= 0.7079688\n",
      "Epoch: 1301 cost= 0.077451624 W= 0.26181725 b= 0.7135303\n",
      "Epoch: 1351 cost= 0.077397406 W= 0.26109022 b= 0.71876043\n",
      "Epoch: 1401 cost= 0.077349521 W= 0.26040637 b= 0.72367966\n",
      "Epoch: 1451 cost= 0.077307202 W= 0.2597633 b= 0.72830635\n",
      "Epoch: 1501 cost= 0.077269830 W= 0.25915825 b= 0.73265845\n",
      "Epoch: 1551 cost= 0.077236846 W= 0.25858942 b= 0.73675084\n",
      "Epoch: 1601 cost= 0.077207655 W= 0.25805432 b= 0.7406008\n",
      "Epoch: 1651 cost= 0.077181928 W= 0.257551 b= 0.7442213\n",
      "Epoch: 1701 cost= 0.077159196 W= 0.25707766 b= 0.74762666\n",
      "Epoch: 1751 cost= 0.077139124 W= 0.25663242 b= 0.7508297\n",
      "Epoch: 1801 cost= 0.077121414 W= 0.25621367 b= 0.75384206\n",
      "Epoch: 1851 cost= 0.077105775 W= 0.25581965 b= 0.7566756\n",
      "Epoch: 1901 cost= 0.077091992 W= 0.2554492 b= 0.7593412\n",
      "Epoch: 1951 cost= 0.077079788 W= 0.255101 b= 0.7618469\n",
      "Epoch: 2001 cost= 0.077069066 W= 0.2547733 b= 0.76420426\n",
      "Epoch: 2051 cost= 0.077059589 W= 0.25446507 b= 0.76642144\n",
      "Epoch: 2101 cost= 0.077051230 W= 0.2541752 b= 0.76850635\n",
      "Epoch: 2151 cost= 0.077043876 W= 0.2539026 b= 0.7704677\n",
      "Epoch: 2201 cost= 0.077037379 W= 0.25364605 b= 0.7723134\n",
      "Epoch: 2251 cost= 0.077031665 W= 0.253405 b= 0.7740478\n",
      "Epoch: 2301 cost= 0.077026613 W= 0.2531781 b= 0.7756801\n",
      "Epoch: 2351 cost= 0.077022173 W= 0.2529646 b= 0.77721566\n",
      "Epoch: 2401 cost= 0.077018239 W= 0.25276387 b= 0.77866006\n",
      "Epoch: 2451 cost= 0.077014826 W= 0.2525752 b= 0.780017\n",
      "Epoch: 2501 cost= 0.077011772 W= 0.25239778 b= 0.7812934\n",
      "Epoch: 2551 cost= 0.077009141 W= 0.2522307 b= 0.7824952\n",
      "Epoch: 2601 cost= 0.077006787 W= 0.25207368 b= 0.7836252\n",
      "Epoch: 2651 cost= 0.077004723 W= 0.25192586 b= 0.7846884\n",
      "Epoch: 2701 cost= 0.077002928 W= 0.251787 b= 0.7856874\n",
      "Epoch: 2751 cost= 0.077001326 W= 0.2516569 b= 0.78662336\n",
      "Epoch: 2801 cost= 0.076999955 W= 0.25153446 b= 0.7875042\n",
      "Epoch: 2851 cost= 0.076998718 W= 0.25141916 b= 0.78833383\n",
      "Epoch: 2901 cost= 0.076997660 W= 0.25131088 b= 0.7891123\n",
      "Epoch: 2951 cost= 0.076996721 W= 0.25120878 b= 0.7898474\n",
      "Epoch: 3001 cost= 0.076995894 W= 0.25111276 b= 0.7905378\n",
      "Epoch: 3051 cost= 0.076995164 W= 0.25102252 b= 0.7911873\n",
      "Epoch: 3101 cost= 0.076994546 W= 0.25093764 b= 0.7917978\n",
      "Epoch: 3151 cost= 0.076994009 W= 0.25085774 b= 0.7923719\n",
      "Epoch: 3201 cost= 0.076993532 W= 0.250783 b= 0.79290956\n",
      "Epoch: 3251 cost= 0.076993123 W= 0.2507126 b= 0.79341567\n",
      "Epoch: 3301 cost= 0.076992750 W= 0.25064617 b= 0.7938936\n",
      "Epoch: 3351 cost= 0.076992430 W= 0.2505837 b= 0.79434323\n",
      "Epoch: 3401 cost= 0.076992154 W= 0.2505251 b= 0.7947652\n",
      "Epoch: 3451 cost= 0.076991931 W= 0.25046983 b= 0.79516244\n",
      "Epoch: 3501 cost= 0.076991715 W= 0.25041798 b= 0.7955358\n",
      "Epoch: 3551 cost= 0.076991521 W= 0.25036913 b= 0.7958872\n",
      "Epoch: 3601 cost= 0.076991387 W= 0.25032315 b= 0.7962179\n",
      "Epoch: 3651 cost= 0.076991245 W= 0.25027928 b= 0.7965337\n",
      "Epoch: 3701 cost= 0.076991148 W= 0.25023875 b= 0.7968251\n",
      "Epoch: 3751 cost= 0.076991051 W= 0.2502006 b= 0.7970993\n",
      "Epoch: 3801 cost= 0.076990955 W= 0.2501647 b= 0.79735774\n",
      "Epoch: 3851 cost= 0.076990888 W= 0.25013068 b= 0.79760236\n",
      "Epoch: 3901 cost= 0.076990828 W= 0.25009876 b= 0.7978327\n",
      "Epoch: 3951 cost= 0.076990776 W= 0.25006858 b= 0.79804957\n",
      "최적화 종료\n",
      "cost= 0.07699074 W= 0.2500408 b= 0.79824954\n"
     ]
    },
    {
     "data": {
      "image/png": "[encoded data removed]",
      "text/plain": [
       "<Figure size 432x288 with 1 Axes>"
      ]
     },
     "metadata": {
      "needs_background": "light"
     },
     "output_type": "display_data"
    }
   ],
   "source": [
    "#세션을 연결한다 \n",
    "#전제조건 :GPU가 존재한다 => 네트워크로 CPU GPU 연결하는 과정 ! \n",
    "\n",
    "with tf.Session() as sess:\n",
    "    sess.run(init)\n",
    "    for epoch in range(training_epochs): # 동일 데이터를 4000번 반복한다 _ 데이터가 부족하기때문에\n",
    "        for(x,y) in zip(train_X, train_Y):  #미니배치의 개념\n",
    "            sess.run(optimizer, feed_dict={X: x, Y: y})\n",
    "        if epoch % display_step ==0: # 50번마다 출력 \n",
    "            print(\"Epoch:\", '%04d' % (epoch+1),'cost=', '{:.9f}'.format(sess.run(cost,feed_dict={ \n",
    "                X:train_X, Y:train_Y})),  #출력될 때마다 비용 함수 출력( 감소함수) # ACCURAY는 증가함수 \n",
    "                 \"W=\", sess.run(W), 'b=', sess.run(b))   #어느값으로 수렴하는지 \n",
    "    print(\"최적화 종료\")\n",
    "    print('cost=', sess.run(cost, feed_dict={X:train_X, Y: train_Y}), 'W=', sess.run(W), 'b=', sess.run(b))\n",
    "    plt.plot(train_X, train_Y, 'ro', label='Original data')\n",
    "    # PREDICT한 값 출력 \n",
    "    plt.plot(train_X, sess.run(W) * train_X + sess.run(b),\n",
    "            label='Fitted line')\n",
    "    plt.legend()\n",
    "    plt.show()"
   ]
  },
  {
   "cell_type": "code",
   "execution_count": 27,
   "metadata": {},
   "outputs": [],
   "source": [
    "# tensor => 직접 시각화 하는 것이 불가능\n",
    "# sess 를 통해 numpy 포맷으로 바꿔주기 \n",
    "import tensorflow as tf\n",
    "def run_variable(variable):\n",
    "    tf.global_variables_initializer()\n",
    "    with tf.Session() as sess:\n",
    "        return sess.run(variable)"
   ]
  },
  {
   "cell_type": "code",
   "execution_count": 33,
   "metadata": {},
   "outputs": [],
   "source": [
    "my_distribution = tf.random_uniform((600,400),seed=42) #6x4 : 데이터  24개\n",
    "uniform = run_variable(my_distribution)"
   ]
  },
  {
   "cell_type": "code",
   "execution_count": 34,
   "metadata": {},
   "outputs": [
    {
     "data": {
      "image/png": "[encoded data removed]",
      "text/plain": [
       "<Figure size 432x288 with 1 Axes>"
      ]
     },
     "metadata": {
      "needs_background": "light"
     },
     "output_type": "display_data"
    }
   ],
   "source": [
    "from matplotlib import pyplot as plt\n",
    "plt.hist(uniform.flatten()) #flatten  데이터 메모리 저장 : 1차원으로 \n",
    "plt.show() \n",
    "\n"
   ]
  },
  {
   "cell_type": "markdown",
   "metadata": {},
   "source": [
    "# 활성화 함수 activation fx\n",
    "\n",
    "- 역할 : 회귀냐 분류냐 결정\n",
    "- 비선형 매핑 ( 선형대수 -> 비선형문제로 변경)\n",
    "- 가중치를 깊게하고 활성화함수 맵핑으로 xor문제를 해결"
   ]
  },
  {
   "cell_type": "code",
   "execution_count": 35,
   "metadata": {},
   "outputs": [
    {
     "name": "stdout",
     "output_type": "stream",
     "text": [
      "[-10.          -9.7979798   -9.5959596   -9.39393939  -9.19191919\n",
      "  -8.98989899  -8.78787879  -8.58585859  -8.38383838  -8.18181818\n",
      "  -7.97979798  -7.77777778  -7.57575758  -7.37373737  -7.17171717\n",
      "  -6.96969697  -6.76767677  -6.56565657  -6.36363636  -6.16161616\n",
      "  -5.95959596  -5.75757576  -5.55555556  -5.35353535  -5.15151515\n",
      "  -4.94949495  -4.74747475  -4.54545455  -4.34343434  -4.14141414\n",
      "  -3.93939394  -3.73737374  -3.53535354  -3.33333333  -3.13131313\n",
      "  -2.92929293  -2.72727273  -2.52525253  -2.32323232  -2.12121212\n",
      "  -1.91919192  -1.71717172  -1.51515152  -1.31313131  -1.11111111\n",
      "  -0.90909091  -0.70707071  -0.50505051  -0.3030303   -0.1010101\n",
      "   0.1010101    0.3030303    0.50505051   0.70707071   0.90909091\n",
      "   1.11111111   1.31313131   1.51515152   1.71717172   1.91919192\n",
      "   2.12121212   2.32323232   2.52525253   2.72727273   2.92929293\n",
      "   3.13131313   3.33333333   3.53535354   3.73737374   3.93939394\n",
      "   4.14141414   4.34343434   4.54545455   4.74747475   4.94949495\n",
      "   5.15151515   5.35353535   5.55555556   5.75757576   5.95959596\n",
      "   6.16161616   6.36363636   6.56565657   6.76767677   6.96969697\n",
      "   7.17171717   7.37373737   7.57575758   7.77777778   7.97979798\n",
      "   8.18181818   8.38383838   8.58585859   8.78787879   8.98989899\n",
      "   9.19191919   9.39393939   9.5959596    9.7979798   10.        ]\n"
     ]
    }
   ],
   "source": [
    "#그랲프 리셋해주기 항상 !\n",
    "\n",
    "import tensorflow as tf\n",
    "import numpy as np\n",
    "import matplotlib.pyplot as plt\n",
    "from tensorflow.python.framework import ops\n",
    "\n",
    "ops.reset_default_graph() #그래프 초기화\n",
    "sess = tf.Session()\n",
    "\n",
    "x_vals = np.linspace(start = -10.,stop=10.,num=100)\n",
    "print(x_vals)"
   ]
  },
  {
   "cell_type": "code",
   "execution_count": 38,
   "metadata": {},
   "outputs": [
    {
     "name": "stdout",
     "output_type": "stream",
     "text": [
      "[-0.  3. 10.]\n",
      "[0.26894143 0.5        0.7310586 ]\n",
      "[-0.7615942  0.         0.7615942]\n",
      "[-0.63212055  0.          1.        ]\n",
      "[-0.9999546  -0.99994444 -0.999932   -0.99991677 -0.99989814 -0.99987534\n",
      " -0.99984743 -0.99981327 -0.99977147 -0.99972031 -0.99965769 -0.99958106\n",
      " -0.99948727 -0.99937248 -0.999232   -0.99906006 -0.99884964 -0.9985921\n",
      " -0.99827691 -0.99789116 -0.99741905 -0.99684124 -0.99613408 -0.99526861\n",
      " -0.99420938 -0.99291301 -0.99132643 -0.98938465 -0.98700817 -0.98409965\n",
      " -0.98053999 -0.97618343 -0.97085155 -0.96432601 -0.95633957 -0.94656519\n",
      " -0.9346026  -0.9199619  -0.90204355 -0.88011378 -0.85327452 -0.82042669\n",
      " -0.78022512 -0.73102351 -0.67080701 -0.59710968 -0.50691352 -0.3965249\n",
      " -0.26142329 -0.0960761   0.1010101   0.3030303   0.50505051  0.70707071\n",
      "  0.90909091  1.11111111  1.31313131  1.51515152  1.71717172  1.91919192\n",
      "  2.12121212  2.32323232  2.52525253  2.72727273  2.92929293  3.13131313\n",
      "  3.33333333  3.53535354  3.73737374  3.93939394  4.14141414  4.34343434\n",
      "  4.54545455  4.74747475  4.94949495  5.15151515  5.35353535  5.55555556\n",
      "  5.75757576  5.95959596  6.16161616  6.36363636  6.56565657  6.76767677\n",
      "  6.96969697  7.17171717  7.37373737  7.57575758  7.77777778  7.97979798\n",
      "  8.18181818  8.38383838  8.58585859  8.78787879  8.98989899  9.19191919\n",
      "  9.39393939  9.5959596   9.7979798  10.        ]\n",
      "[0.31326166 0.6931472  1.3132616 ]\n",
      "[4.53988992e-05 5.55621925e-05 6.80006294e-05 8.32234827e-05\n",
      " 1.01854002e-04 1.24654915e-04 1.52559623e-04 1.86710374e-04\n",
      " 2.28504961e-04 2.79653838e-04 3.42249995e-04 4.18854392e-04\n",
      " 5.12600439e-04 6.27321712e-04 7.67708042e-04 9.39496227e-04\n",
      " 1.14970295e-03 1.40690911e-03 1.72160671e-03 2.10662180e-03\n",
      " 2.57762963e-03 3.15378152e-03 3.85846667e-03 4.72023638e-03\n",
      " 5.77392318e-03 7.06199264e-03 8.63617122e-03 1.05593993e-02\n",
      " 1.29081631e-02 1.57752639e-02 1.92730804e-02 2.35373794e-02\n",
      " 2.87317129e-02 3.50524161e-02 4.27341757e-02 5.20560700e-02\n",
      " 6.33478781e-02 7.69963170e-02 9.34506760e-02 1.13227094e-01\n",
      " 1.36910472e-01 1.65152775e-01 1.98666320e-01 2.38210660e-01\n",
      " 2.84571982e-01 3.38534624e-01 4.00845440e-01 4.72173209e-01\n",
      " 5.53066799e-01 6.43916968e-01 7.44927069e-01 8.56097102e-01\n",
      " 9.77223714e-01 1.10791615e+00 1.24762553e+00 1.39568309e+00\n",
      " 1.55134197e+00 1.71381783e+00 1.88232449e+00 2.05610239e+00\n",
      " 2.23443922e+00 2.41668300e+00 2.60224884e+00 2.79062061e+00\n",
      " 2.98134900e+00 3.17404731e+00 3.36838575e+00 3.56408525e+00\n",
      " 3.76091112e+00 3.95866702e+00 4.15718941e+00 4.35634251e+00\n",
      " 4.55601394e+00 4.75611092e+00 4.95655694e+00 5.15728907e+00\n",
      " 5.35825559e+00 5.55941402e+00 5.76072954e+00 5.96217359e+00\n",
      " 6.16372278e+00 6.36535797e+00 6.56706347e+00 6.76882647e+00\n",
      " 6.97063647e+00 7.17248488e+00 7.37436470e+00 7.57627018e+00\n",
      " 7.77819663e+00 7.98014023e+00 8.18209784e+00 8.38406689e+00\n",
      " 8.58604530e+00 8.78803135e+00 8.99002364e+00 9.19202105e+00\n",
      " 9.39402262e+00 9.59602760e+00 9.79803536e+00 1.00000454e+01]\n"
     ]
    },
    {
     "data": {
      "image/png": "[encoded data removed]",
      "text/plain": [
       "<Figure size 432x288 with 1 Axes>"
      ]
     },
     "metadata": {
      "needs_background": "light"
     },
     "output_type": "display_data"
    },
    {
     "data": {
      "image/png": "[encoded data removed]",
      "text/plain": [
       "<Figure size 432x288 with 1 Axes>"
      ]
     },
     "metadata": {
      "needs_background": "light"
     },
     "output_type": "display_data"
    }
   ],
   "source": [
    "print(sess.run(tf.nn.relu([-3., 3., 10.])))  # 값의 범위: 0에서 무한대 -> relu 가 제일많이 쓰인다. relu 는 속도도 빠르고 빨리 최적화함  ( relu 수정본 : elu, softplus )\n",
    "y_relu = sess.run(tf.nn.relu(x_vals))   # relu 의 단점 : 마이너스 값이 없다 ( 그것을 보완한 것이 elu) \n",
    "\n",
    "print(sess.run(tf.nn.sigmoid([-1., 0., 1.]))) # 값의 범위 0~1\n",
    "y_sigmoid=sess.run(tf.nn.sigmoid(x_vals))\n",
    "\n",
    "print(sess.run(tf.nn.tanh([-1., 0., 1.]))) # 값의 범위 -1~1\n",
    "y_tanh = sess.run(tf.nn.tanh(x_vals))\n",
    "\n",
    "print(sess.run(tf.nn.elu([-1., 0., 1.])))  # -1~무한대 까지 ( relu 의 수정본이다 ) \n",
    "y_elu=sess.run(tf.nn.elu(x_vals))\n",
    "print(y_elu)\n",
    "print(sess.run(tf.nn.softplus([-1., 0., 1.]))) # relu 의 각진단점을 보완한것이 softplus\n",
    "y_softplus=sess.run(tf.nn.softplus(x_vals))\n",
    "print(y_softplus)\n",
    "\n",
    "plt.plot(x_vals, y_relu, 'b:', label='ReLU', linewidth=2)\n",
    "plt.plot(x_vals,y_elu, 'k-', label='ExpLU', linewidth=0.5)\n",
    "plt.ylim([-1.5,7])\n",
    "plt.legend(loc='upper left')\n",
    "plt.show()\n",
    "\n",
    "plt.plot(x_vals, y_sigmoid,'r--', label=\"Sigmoid\", linewidth=2)\n",
    "plt.plot(x_vals, y_tanh, 'b:', label='Tanh', linewidth=2)\n",
    "plt.ylim([-2,2])\n",
    "plt.legend(loc='upper left')\n",
    "plt.show()"
   ]
  },
  {
   "cell_type": "code",
   "execution_count": 62,
   "metadata": {},
   "outputs": [],
   "source": [
    "ops.reset_default_graph() # 그래프 초기화\n",
    "sess = tf.Session()\n",
    "tf.set_random_seed(5) #시드의 초기값\n",
    "np.random.seed(42)\n",
    "batch_size = 50\n",
    "\n",
    "a1 = tf.Variable(tf.random_normal(shape=[1,1])) #가중치\n",
    "\n",
    "b1 = tf.Variable(tf.random_uniform(shape=[1,1]))# bias\n",
    "\n",
    "a2 = tf.Variable(tf.random_normal(shape=[1,1])) #가중치 \n",
    "\n",
    "b2 = tf.Variable(tf.random_uniform(shape=[1,1])) #bias\n",
    "\n",
    "\n",
    "x = np.random.normal(2,0.1,500)  # 500개 뽑기 \n",
    "\n",
    "# shape=[None,1] :사이즈를 fix하지않고 입력데이터로 부터 계산 / # 행데이터로 생성 \n",
    "x_data = tf.placeholder(shape=[None,1],dtype=tf.float32)\n"
   ]
  },
  {
   "cell_type": "code",
   "execution_count": 63,
   "metadata": {},
   "outputs": [
    {
     "name": "stdout",
     "output_type": "stream",
     "text": [
      "\n",
      " Sigmoid AND Relu 함수의 최적화 0.75\n"
     ]
    }
   ],
   "source": [
    "# y = ax + b \n",
    "\n",
    "#어떤 값이라도 sigmoid 통과하면 값이 0~1사이로 mapping\n",
    "\n",
    "sigmoid_activation = tf.sigmoid(tf.add(tf.matmul(x_data,a1),b1))\n",
    "\n",
    "#어떤 값이라도 relu 통과하면 값이 0~ oo 사이로 mapping\n",
    "relu_activation = tf.nn.relu(tf.add(tf.matmul(x_data,a2),b2\n",
    "                                    \n",
    "# 0.75로 수렴과정:\n",
    "# MSE                                    \n",
    "                                    \n",
    "loss1= tf.reduce_mean(tf.square(tf.subtract(sigmoid_activation,0.75)))\n",
    "                            \n",
    "loss2= tf.reduce_mean(tf.square(tf.subtract(relu_activation,0.75)))                            \n",
    "                            \n",
    "init = tf.global_variables_initializer()\n",
    "                            \n",
    "sess.run(init)\n",
    "my_opt=tf.train.GradientDescentOptimizer(0.01)# 학습률 0.01\n",
    "train_step_sigmoid = my_opt.minimize(loss1)                                            \n",
    "train_step_relu = my_opt.minimize(loss2)                       \n",
    "print('\\n Sigmoid AND Relu 함수의 최적화 0.75')"
   ]
  },
  {
   "cell_type": "code",
   "execution_count": 64,
   "metadata": {},
   "outputs": [],
   "source": [
    "loss_vec_sigmoid =[] #로스값을 저장하기위해서  만들어놈  # 밑에서 APPEND로 추가함 \n",
    "loss_vec_relu=[]"
   ]
  },
  {
   "cell_type": "code",
   "execution_count": 66,
   "metadata": {},
   "outputs": [
    {
     "name": "stdout",
     "output_type": "stream",
     "text": [
      "sigmoid =0.12930582relu =1.8877889\n",
      "sigmoid =0.17661771relu =0.7568796\n",
      "sigmoid =0.2541377relu =0.74418783\n",
      "sigmoid =0.34693393relu =0.74961424\n",
      "sigmoid =0.4502716relu =0.74353874\n",
      "sigmoid =0.5281099relu =0.7499316\n",
      "sigmoid =0.58489215relu =0.7503509\n",
      "sigmoid =0.6255449relu =0.7521825\n",
      "sigmoid =0.6554158relu =0.75160563\n",
      "sigmoid =0.67665017relu =0.7494941\n"
     ]
    }
   ],
   "source": [
    "for i in range(500): # 500번 돈다\n",
    "    # 500 => 50\n",
    "    rand_indices = np.random.choice(len(x),size= batch_size)\n",
    "    x_vals = np.transpose([x[rand_indices]])\n",
    "    sess.run(train_step_sigmoid, feed_dict={x_data:x_vals})\n",
    "    sess.run(train_step_relu,feed_dict={x_data:x_vals})\n",
    "    \n",
    "    loss_vec_sigmoid.append(sess.run(loss1,feed_dict={x_data:x_vals}))\n",
    "    loss_vec_relu.append(sess.run(loss2,feed_dict={x_data:x_vals}))\n",
    "    \n",
    "    sigmoid_output = np.mean(sess.run(sigmoid_activation,feed_dict={x_data:x_vals}))\n",
    "    relu_output = np.mean(sess.run(relu_activation,feed_dict={x_data:x_vals}))\n",
    "    if i%50==0: #50번에 한번씩\n",
    "        print('sigmoid =' + str(np.mean(sigmoid_output))+ 'relu ='+ str(np.mean(relu_output)))\n",
    "        \n",
    "#0.75 수렴하는 과정 "
   ]
  },
  {
   "cell_type": "code",
   "execution_count": 67,
   "metadata": {},
   "outputs": [
    {
     "data": {
      "image/png": "[encoded data removed]",
      "text/plain": [
       "<Figure size 432x288 with 1 Axes>"
      ]
     },
     "metadata": {
      "needs_background": "light"
     },
     "output_type": "display_data"
    }
   ],
   "source": [
    "plt.plot(loss_vec_sigmoid, 'k-', label='Sigmoid Activation')\n",
    "plt.plot(loss_vec_relu, 'r--', label='Relu Activation')\n",
    "plt.ylim([0, 1.0])\n",
    "plt.title(' loss per Generation')\n",
    "plt.xlabel('Generation')\n",
    "plt.ylabel('Loss')\n",
    "plt.legend(loc='upper right')\n",
    "plt.show() "
   ]
  },
  {
   "cell_type": "code",
   "execution_count": null,
   "metadata": {},
   "outputs": [],
   "source": []
  },
  {
   "cell_type": "code",
   "execution_count": null,
   "metadata": {},
   "outputs": [],
   "source": []
  },
  {
   "cell_type": "code",
   "execution_count": null,
   "metadata": {},
   "outputs": [],
   "source": []
  },
  {
   "cell_type": "code",
   "execution_count": null,
   "metadata": {},
   "outputs": [],
   "source": []
  },
  {
   "cell_type": "code",
   "execution_count": null,
   "metadata": {},
   "outputs": [],
   "source": []
  }
 ],
 "metadata": {
  "kernelspec": {
   "display_name": "Python 3",
   "language": "python",
   "name": "python3"
  },
  "language_info": {
   "codemirror_mode": {
    "name": "ipython",
    "version": 3
   },
   "file_extension": ".py",
   "mimetype": "text/x-python",
   "name": "python",
   "nbconvert_exporter": "python",
   "pygments_lexer": "ipython3",
   "version": "3.7.4"
  },
  "toc": {
   "base_numbering": 1,
   "nav_menu": {},
   "number_sections": true,
   "sideBar": true,
   "skip_h1_title": false,
   "title_cell": "Table of Contents",
   "title_sidebar": "Contents",
   "toc_cell": false,
   "toc_position": {
    "height": "671.818px",
    "left": "22px",
    "top": "160.284px",
    "width": "288.267px"
   },
   "toc_section_display": true,
   "toc_window_display": true
  }
 },
 "nbformat": 4,
 "nbformat_minor": 2
}
