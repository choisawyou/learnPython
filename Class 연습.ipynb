{
 "cells": [
  {
   "cell_type": "markdown",
   "metadata": {},
   "source": [
    "# Class  \n"
   ]
  },
  {
   "cell_type": "markdown",
   "metadata": {},
   "source": [
    "# class는 모두가 공유 , instance는 나만의 변수 "
   ]
  },
  {
   "cell_type": "code",
   "execution_count": 14,
   "metadata": {},
   "outputs": [
    {
     "name": "stdout",
     "output_type": "stream",
     "text": [
      "<class '__main__.Dog'>\n",
      "False 2412881141256 2412881141192 2412881137800\n",
      "dog1 {'name': 'happy', 'age': 2}\n",
      "dog2 {'name': 'sad', 'age': 4}\n",
      "happy is 2 and sad is 4\n",
      "happy is a firstdog\n",
      "firstdog\n",
      "firstdog\n",
      "firstdog\n"
     ]
    }
   ],
   "source": [
    "#예제 1\n",
    "#모든 CLASS는 초기화 속성을 갖는다 \n",
    "class   Dog: #object 상속 #붕어빵 틀\n",
    "    species = 'firstdog' # 클래스 속성  # 해당값을 공유 \n",
    "    def __init__(self,name,age):  #class가 초기화될 때 반드시 1번 호출되는 함수 #__init__,변수\n",
    "        self.name = name\n",
    "        self.age = age\n",
    "#CLASS 정보\n",
    "print(Dog)\n",
    "a = Dog(\"happy\",2) #인스턴스화  # 변수 = class이름(변수1,변수2)\n",
    "b = Dog(\"sad\",4)   #강아지이름,나이 \n",
    "c = Dog(\"happy\",2)\n",
    "#비교\n",
    "print(a == b , id(a),id(b),id(c))  # a와 c는 보기에는 같지만 다른 인스턴스임 \n",
    "\n",
    "#네임 스페이스 : 객체를 인스턴스화 할 때 저장된 공간_나만의 공간 \n",
    "print('dog1',a.__dict__)\n",
    "print('dog2',b.__dict__)\n",
    "\n",
    "#class 변수  : 직접접근 가능 , 공유 _ species\n",
    "# instance 변수 : 객체마다 별도 존재 _ name , age\n",
    "\n",
    "#인스턴스 속성 확인\n",
    "\n",
    "print('{} is {} and {} is {}'.format(a.name,a.age,b.name,b.age))\n",
    "\n",
    "if a.species =='firstdog':\n",
    "    print('{0} is a {1}'.format(a.name,a.species))\n",
    "\n",
    "print(Dog.species) #class 로 바로 접근 가능\n",
    "print(a.species) # instance화된 변수로도 접근가능\n",
    "print(b.species)"
   ]
  },
  {
   "cell_type": "markdown",
   "metadata": {},
   "source": [
    "# Self"
   ]
  },
  {
   "cell_type": "code",
   "execution_count": 27,
   "metadata": {},
   "outputs": [
    {
     "name": "stdout",
     "output_type": "stream",
     "text": [
      "['__class__', '__delattr__', '__dict__', '__dir__', '__doc__', '__eq__', '__format__', '__ge__', '__getattribute__', '__gt__', '__hash__', '__init__', '__init_subclass__', '__le__', '__lt__', '__module__', '__ne__', '__new__', '__reduce__', '__reduce_ex__', '__repr__', '__setattr__', '__sizeof__', '__str__', '__subclasshook__', '__weakref__', 'func1', 'func2']\n",
      "2412881139336\n",
      "Func1 called\n",
      "2412881139336\n",
      "Func2 called\n"
     ]
    }
   ],
   "source": [
    "#예제 2\n",
    "\n",
    "#self의 이해\n",
    "\n",
    "class SelfTest:\n",
    "    def func1():  #self가 없으면 class매소드 _ class로 호출 _ SelfTest.func1()\n",
    "        print(\"Func1 called\")\n",
    "    def func2(self):   #self가 있으면 인스턴스 매소드 _ 인스턴스화 한 것으로 호출 _ f.func2()\n",
    "        print(id(self))  #a\n",
    "        print('Func2 called')\n",
    "        \n",
    "f = SelfTest() #인스턴스화  #이름을 바꿔준것  sleftest => f\n",
    "\n",
    "print(dir(f)) #함수 속 들여다보기\n",
    "print(id(f))  #주소값 #b              #a와 b의 아이디 값이 동일하다 \n",
    "#f.func1() #에러발생_ 매개변수는 없는데 한개가 넘어왔다\n",
    "SelfTest.func1()  #self값이 없는 경우에는 이렇게 호출 selftest에는 값이 있지만 f에는 없다 \n",
    "f.func2  #self 값이 있을 때 호출방법\n",
    "#SelfTest.func2() # 에러발생  2번함수는 하나의 매개변수를 요구하는데 아무것도 없어서\n",
    "SelfTest.func2(f) #생성한 인스턴스 변수를 넣어줘야함\n",
    "\n",
    "# class 내부의 변수를 선언할 때 self가 없으면 class 매소드"
   ]
  },
  {
   "cell_type": "code",
   "execution_count": 52,
   "metadata": {},
   "outputs": [
    {
     "name": "stdout",
     "output_type": "stream",
     "text": [
      "0\n",
      "Lee\n",
      "Cho\n",
      "{'name': 'Lee'}\n",
      "{'name': 'Cho'}\n",
      "before {'__module__': '__main__', 'stock_num': 0, '__init__': <function Warehouse.__init__ at 0x00000231CAEF8AF8>, '__del__': <function Warehouse.__del__ at 0x00000231CAEF8948>, '__dict__': <attribute '__dict__' of 'Warehouse' objects>, '__weakref__': <attribute '__weakref__' of 'Warehouse' objects>, '__doc__': None}\n",
      "0\n",
      ">>> 0\n",
      "after {'__module__': '__main__', 'stock_num': -1, '__init__': <function Warehouse.__init__ at 0x00000231CAEF8AF8>, '__del__': <function Warehouse.__del__ at 0x00000231CAEF8948>, '__dict__': <attribute '__dict__' of 'Warehouse' objects>, '__weakref__': <attribute '__weakref__' of 'Warehouse' objects>, '__doc__': None}\n"
     ]
    }
   ],
   "source": [
    "#예제 3\n",
    "#클래스 변수 , 인스턴스 변수 (self)\n",
    "\n",
    "class Warehouse:\n",
    "    stock_num = 0   #재고  #클래스 변수 = 0 , 모두가 공유 \n",
    "      \n",
    "    def __init__(self, name):\n",
    "        self.name = name\n",
    "        Warehouse.stock_num +=1\n",
    "        \n",
    "    def __del__(self):  #소멸할 때\n",
    "        Warehouse.stock_num -= 1\n",
    "        \n",
    "user1 = Warehouse('Lee')  #인스턴스화\n",
    "user2 = Warehouse('Cho')    #객체 2개 생성\n",
    "\n",
    "\n",
    "print(Warehouse.stock_num )\n",
    "#Warehouse.stock_num = 50\n",
    "print(user1.name)\n",
    "print(user2.name)\n",
    "\n",
    "print(user1.__dict__)  #instance 네임스페이스에 stock_num 이 없으면 Warehouse에 가서 찾는다. \n",
    "print(user2.__dict__)  #공유 변수여서 가지고는 있으나 굳이 표현을 안해주는것 !\n",
    "print('before',Warehouse.__dict__)\n",
    "print(user1.stock_num)\n",
    "print('>>>',user1.stock_num)\n",
    "\n",
    "del user1  #인스턴스를 메모리에서 지움\n",
    "print('after',Warehouse.__dict__)"
   ]
  },
  {
   "cell_type": "code",
   "execution_count": 59,
   "metadata": {},
   "outputs": [
    {
     "name": "stdout",
     "output_type": "stream",
     "text": [
      "julie is 4 years old\n",
      "julie says wal wal!\n",
      "bery says mung mung!\n"
     ]
    }
   ],
   "source": [
    "# 예제 4\n",
    "\n",
    "class Dog:\n",
    "    species = 'firstdog'\n",
    "    def __init__(self,name,age):\n",
    "        self.name = name\n",
    "        self.age = age\n",
    "    def info(self):\n",
    "        return '{} is {} years old'.format(self.name,self.age)\n",
    "    \n",
    "    def speak(self,sound):\n",
    "        return\"{} says {}!\".format(self.name,sound)\n",
    "    \n",
    "#인스턴스 생성    \n",
    "c= Dog('julie',4)\n",
    "d= Dog('bery',10)\n",
    "#메소드 호출\n",
    "print(c.info())\n",
    "\n",
    "print(c.speak('wal wal'))\n",
    "print(d.speak('mung mung'))"
   ]
  },
  {
   "cell_type": "code",
   "execution_count": null,
   "metadata": {},
   "outputs": [],
   "source": []
  },
  {
   "cell_type": "code",
   "execution_count": null,
   "metadata": {},
   "outputs": [],
   "source": []
  },
  {
   "cell_type": "code",
   "execution_count": null,
   "metadata": {},
   "outputs": [],
   "source": []
  },
  {
   "cell_type": "code",
   "execution_count": null,
   "metadata": {},
   "outputs": [],
   "source": []
  }
 ],
 "metadata": {
  "kernelspec": {
   "display_name": "Python 3",
   "language": "python",
   "name": "python3"
  },
  "language_info": {
   "codemirror_mode": {
    "name": "ipython",
    "version": 3
   },
   "file_extension": ".py",
   "mimetype": "text/x-python",
   "name": "python",
   "nbconvert_exporter": "python",
   "pygments_lexer": "ipython3",
   "version": "3.7.4"
  }
 },
 "nbformat": 4,
 "nbformat_minor": 2
}
