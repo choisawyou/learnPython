{
 "cells": [
  {
   "cell_type": "markdown",
   "metadata": {},
   "source": [
    "# GAN\n",
    "\n",
    "\n",
    "#AE(autoencoder) -> variational AE -> GAN(복잡해서 찾아낼수없는 특징을 찾아준다 , 왼쪽을 보는 이미지+ 오른쪽을 보는이미지 2개만 있어도 왼쪽에서 오른쪽으로 돌아가는 모습을 보여줌 )\n",
    "#GAN: 화질개선에도 쓰인다   (정확한 자기자신 이미지의 특징을 뽑는다)                             \n",
    "\n",
    "#FFNN : 전진신경망\n",
    "#CNN : 특징추출 (주변을고려한특징)\n",
    "#RNN  : 특징추출 (순서를고려한특징)\n",
    "    \n",
    "    \n",
    "#Autoencoder, VAE, gAN : 확률적 특성 (수직,수평특성추출)      : 생성모델이라고 한다 \n",
    "#AE : 타켓이 자기자신이다 -> 노이즈가 없는 자기자신의 사진을 생성 ?\n",
    "#VARIATION AE -> GAN(GENERATOR 와 DISCRIMINATE 의 2개의 회로로 구성) \n",
    "\n",
    "[즉 TENSORFLOW 는 특징을 찾아내는것이다 ]\n",
    "\n",
    "#머신러닝에서 비지도학습 ; PCA, MDS, T-SNE \n"
   ]
  },
  {
   "cell_type": "markdown",
   "metadata": {},
   "source": [
    "{'S': 0, 'E': 1, 'P': 2, 'a': 3, 'b': 4, 'c': 5, 'd': 6, 'e': 7, 'f': 8, 'g': 9, 'h': 10, 'i': 11, 'j': 12, 'k': 13, 'l': 14, 'm': 15, 'n': 16, 'o': 17, 'p': 18, 'q': 19, 'r': 20, 's': 21, 't': 22, 'u': 23, 'v': 24, 'w': 25, 'x': 26, 'y': 27, 'z': 28, '단': 29, '어': 30, '나': 31, '무': 32, '놀': 33, '이': 34, '소': 35, '녀': 36, '연': 37, '습': 38, '사': 39, '랑': 40}\n",
    "41"
   ]
  },
  {
   "cell_type": "code",
   "execution_count": 9,
   "metadata": {
    "scrolled": true
   },
   "outputs": [
    {
     "name": "stdout",
     "output_type": "stream",
     "text": [
      "41\n",
      "WARNING:tensorflow:From <ipython-input-9-f6032278d695>:49: BasicRNNCell.__init__ (from tensorflow.python.ops.rnn_cell_impl) is deprecated and will be removed in a future version.\n",
      "Instructions for updating:\n",
      "This class is equivalent as tf.keras.layers.SimpleRNNCell, and will be replaced by that in Tensorflow 2.0.\n",
      "WARNING:tensorflow:From <ipython-input-9-f6032278d695>:54: dynamic_rnn (from tensorflow.python.ops.rnn) is deprecated and will be removed in a future version.\n",
      "Instructions for updating:\n",
      "Please use `keras.layers.RNN(cell)`, which is equivalent to this API\n",
      "WARNING:tensorflow:From C:\\Users\\ICT01_14\\.conda\\envs\\tf_test\\lib\\site-packages\\tensorflow\\python\\ops\\init_ops.py:1251: calling VarianceScaling.__init__ (from tensorflow.python.ops.init_ops) with dtype is deprecated and will be removed in a future version.\n",
      "Instructions for updating:\n",
      "Call initializer instance with the dtype argument instead of passing it to the constructor\n",
      "WARNING:tensorflow:From C:\\Users\\ICT01_14\\.conda\\envs\\tf_test\\lib\\site-packages\\tensorflow\\python\\ops\\rnn_cell_impl.py:459: calling Zeros.__init__ (from tensorflow.python.ops.init_ops) with dtype is deprecated and will be removed in a future version.\n",
      "Instructions for updating:\n",
      "Call initializer instance with the dtype argument instead of passing it to the constructor\n",
      "WARNING:tensorflow:Entity <bound method BasicRNNCell.call of <tensorflow.python.ops.rnn_cell_impl.BasicRNNCell object at 0x000002BE971BCF08>> could not be transformed and will be executed as-is. Please report this to the AutgoGraph team. When filing the bug, set the verbosity to 10 (on Linux, `export AUTOGRAPH_VERBOSITY=10`) and attach the full output. Cause: converting <bound method BasicRNNCell.call of <tensorflow.python.ops.rnn_cell_impl.BasicRNNCell object at 0x000002BE971BCF08>>: AssertionError: Bad argument number for Name: 3, expecting 4\n",
      "WARNING: Entity <bound method BasicRNNCell.call of <tensorflow.python.ops.rnn_cell_impl.BasicRNNCell object at 0x000002BE971BCF08>> could not be transformed and will be executed as-is. Please report this to the AutgoGraph team. When filing the bug, set the verbosity to 10 (on Linux, `export AUTOGRAPH_VERBOSITY=10`) and attach the full output. Cause: converting <bound method BasicRNNCell.call of <tensorflow.python.ops.rnn_cell_impl.BasicRNNCell object at 0x000002BE971BCF08>>: AssertionError: Bad argument number for Name: 3, expecting 4\n",
      "WARNING:tensorflow:Entity <bound method BasicRNNCell.call of <tensorflow.python.ops.rnn_cell_impl.BasicRNNCell object at 0x000002BE971BC488>> could not be transformed and will be executed as-is. Please report this to the AutgoGraph team. When filing the bug, set the verbosity to 10 (on Linux, `export AUTOGRAPH_VERBOSITY=10`) and attach the full output. Cause: converting <bound method BasicRNNCell.call of <tensorflow.python.ops.rnn_cell_impl.BasicRNNCell object at 0x000002BE971BC488>>: AssertionError: Bad argument number for Name: 3, expecting 4\n",
      "WARNING: Entity <bound method BasicRNNCell.call of <tensorflow.python.ops.rnn_cell_impl.BasicRNNCell object at 0x000002BE971BC488>> could not be transformed and will be executed as-is. Please report this to the AutgoGraph team. When filing the bug, set the verbosity to 10 (on Linux, `export AUTOGRAPH_VERBOSITY=10`) and attach the full output. Cause: converting <bound method BasicRNNCell.call of <tensorflow.python.ops.rnn_cell_impl.BasicRNNCell object at 0x000002BE971BC488>>: AssertionError: Bad argument number for Name: 3, expecting 4\n",
      "WARNING:tensorflow:From <ipython-input-9-f6032278d695>:64: dense (from tensorflow.python.layers.core) is deprecated and will be removed in a future version.\n",
      "Instructions for updating:\n",
      "Use keras.layers.dense instead.\n",
      "WARNING:tensorflow:Entity <bound method Dense.call of <tensorflow.python.layers.core.Dense object at 0x000002BE96B7DFC8>> could not be transformed and will be executed as-is. Please report this to the AutgoGraph team. When filing the bug, set the verbosity to 10 (on Linux, `export AUTOGRAPH_VERBOSITY=10`) and attach the full output. Cause: converting <bound method Dense.call of <tensorflow.python.layers.core.Dense object at 0x000002BE96B7DFC8>>: AssertionError: Bad argument number for Name: 3, expecting 4\n",
      "WARNING: Entity <bound method Dense.call of <tensorflow.python.layers.core.Dense object at 0x000002BE96B7DFC8>> could not be transformed and will be executed as-is. Please report this to the AutgoGraph team. When filing the bug, set the verbosity to 10 (on Linux, `export AUTOGRAPH_VERBOSITY=10`) and attach the full output. Cause: converting <bound method Dense.call of <tensorflow.python.layers.core.Dense object at 0x000002BE96B7DFC8>>: AssertionError: Bad argument number for Name: 3, expecting 4\n"
     ]
    }
   ],
   "source": [
    "import tensorflow as tf\n",
    "import numpy as np\n",
    "from tensorflow.python.framework import ops\n",
    "ops.reset_default_graph()\n",
    "\n",
    "# 데이터가 한글자씩 들어감\n",
    "char_arr = [c for c in 'SEPabcdefghijklmnopqrstuvwxyz단어나무놀이소녀연습사랑'] \n",
    "                                \n",
    "num_dic =  {n: i for i , n  in enumerate(char_arr)} #enumerate : 각 데이터에 번호를 달아줌\n",
    "dic_len = len(num_dic)\n",
    "print(dic_len)\n",
    "seq_data =[['word','단어'],['wood','나무'],  #4글자이고 각단어마다 41자리로 표현(원핫인코딩 )\n",
    "           ['game','놀이'],['girl','소녀'],\n",
    "           ['test','연습'],['love','사랑']]\n",
    "#seq2seq 번역망\n",
    "\n",
    "def make_batch(seq_data) :\n",
    "    \n",
    "    input_batch = []\n",
    "    output_batch = []\n",
    "    target_batch = []\n",
    "    for seq in seq_data:\n",
    "        input = [num_dic[n] for n in seq[0]]          # word => num_dic에서 번호로 바뀜 25,17,..\n",
    "        \n",
    "        # 첫번째 입력 데이터는 'word'이 학습된 smoking gun이 들어옴 \n",
    "        output = [num_dic[n] for n in (\"S\" + seq[1])] # Start의 S  => 시작을 확인하기 위해서\n",
    "        target = [num_dic[n] for n in (seq[1] + 'E')] # End => 끝을 확인하기 위해서( 글자 수가 다른 경우, 인덱스로 지정이 어렵기 떄문에 E를 끝으로 설정하여 출력)\n",
    "        \n",
    "        input_batch.append(np.eye(dic_len)[input]) # 42개 대각행렬( 단위행렬(identity matrix)) => one-hot 인코딩\n",
    "        # 숫자로된 word가 one-hot되어 4x41가 만들어짐\n",
    "        \n",
    "        output_batch.append(np.eye(dic_len)[output])\n",
    "        # 2글자이므로 one-hot되어 2x41\n",
    "        \n",
    "        target_batch.append(target)\n",
    "    return input_batch, output_batch, target_batch\n",
    "\n",
    "learning_rate = 0.01\n",
    "n_hidden = 128    # neurons 출력이 128차\n",
    "total_epoch = 100\n",
    "n_class = n_input = dic_len #41\n",
    "\n",
    "# encoder, decoder용 데이터 주입 변수\n",
    "enc_input = tf.placeholder(tf.float32, [None,None,n_input])\n",
    "dec_input = tf.placeholder(tf.float32, [None,None,n_input])\n",
    "targets = tf.placeholder(tf.int64, [None,None])\n",
    "with tf.variable_scope('encode'):\n",
    "    #FFNN한개 입력 => 가중치 =출력 (N_HIDDEN)\n",
    "    enc_cell =tf.nn.rnn_cell.BasicRNNCell(n_hidden)\n",
    "    #DROPOUT은 과적합 방지를 위해 계산회로 생략,SEED값을 주는것으로 보아 랜덤한것을 알 수 있따 \n",
    "    enc_cell = tf.nn.rnn_cell.DropoutWrapper(enc_cell,\n",
    "                                            output_keep_prob = 0.5, seed=100)\n",
    "    # 셀이 4개 셀당  41 개의 데이터가입력\n",
    "    otuputs , enc_states = tf.nn.dynamic_rnn(enc_cell, enc_input, dtype = tf.float32)\n",
    "\n",
    "with tf.variable_scope('decode') :\n",
    "    dec_cell = tf.nn.rnn_cell.BasicRNNCell(n_hidden)\n",
    "    dec_cell = tf.nn.rnn_cell.DropoutWrapper(dec_cell,output_keep_prob = 0.5) #INITIONA\n",
    "    #앞의 인코더망에서 출력된 STATES값 : 마지막 CELL 의 출력 \n",
    "    #앞의 데이터를 다 고려한 특징 \n",
    "    #두개의 망을 연결하는 지점이 : initial_state= enc_states\n",
    "    outputs , dec_stats = tf.nn.dynamic_rnn(dec_cell, dec_input, initial_state= enc_states, dtype = tf.float32)\n",
    "    \n",
    "model = tf.layers.dense(outputs, n_class, activation = None) #OUTPUT으로 나온 차수  : 6X3X128\n",
    "cost = tf.reduce_mean(tf.nn.sparse_softmax_cross_entropy_with_logits(\n",
    "                    logits = model, labels = targets))\n",
    "optimizer = tf.train.AdamOptimizer(learning_rate).minimize(cost)\n",
    "sess = tf.Session()\n",
    "sess.run(tf.global_variables_initializer())"
   ]
  },
  {
   "cell_type": "code",
   "execution_count": 7,
   "metadata": {
    "scrolled": true
   },
   "outputs": [
    {
     "name": "stdout",
     "output_type": "stream",
     "text": [
      "Epoch :  0001 cost =  3.725494\n",
      "Epoch :  0002 cost =  2.813121\n",
      "Epoch :  0003 cost =  1.748182\n",
      "Epoch :  0004 cost =  1.067128\n",
      "Epoch :  0005 cost =  0.582811\n",
      "Epoch :  0006 cost =  0.433602\n",
      "Epoch :  0007 cost =  0.561899\n",
      "Epoch :  0008 cost =  0.190317\n",
      "Epoch :  0009 cost =  0.166817\n",
      "Epoch :  0010 cost =  0.090269\n",
      "Epoch :  0011 cost =  0.146006\n",
      "Epoch :  0012 cost =  0.118091\n",
      "Epoch :  0013 cost =  0.102531\n",
      "Epoch :  0014 cost =  0.133898\n",
      "Epoch :  0015 cost =  0.012656\n",
      "Epoch :  0016 cost =  0.066011\n",
      "Epoch :  0017 cost =  0.221216\n",
      "Epoch :  0018 cost =  0.200898\n",
      "Epoch :  0019 cost =  0.108115\n",
      "Epoch :  0020 cost =  0.037494\n",
      "Epoch :  0021 cost =  0.019775\n",
      "Epoch :  0022 cost =  0.040745\n",
      "Epoch :  0023 cost =  0.094955\n",
      "Epoch :  0024 cost =  0.009516\n",
      "Epoch :  0025 cost =  0.021785\n",
      "Epoch :  0026 cost =  0.019482\n",
      "Epoch :  0027 cost =  0.004555\n",
      "Epoch :  0028 cost =  0.009713\n",
      "Epoch :  0029 cost =  0.038014\n",
      "Epoch :  0030 cost =  0.007967\n",
      "Epoch :  0031 cost =  0.006060\n",
      "Epoch :  0032 cost =  0.003629\n",
      "Epoch :  0033 cost =  0.003598\n",
      "Epoch :  0034 cost =  0.002436\n",
      "Epoch :  0035 cost =  0.001019\n",
      "Epoch :  0036 cost =  0.002367\n",
      "Epoch :  0037 cost =  0.001336\n",
      "Epoch :  0038 cost =  0.002269\n",
      "Epoch :  0039 cost =  0.003500\n",
      "Epoch :  0040 cost =  0.000865\n",
      "Epoch :  0041 cost =  0.001243\n",
      "Epoch :  0042 cost =  0.000582\n",
      "Epoch :  0043 cost =  0.000477\n",
      "Epoch :  0044 cost =  0.000846\n",
      "Epoch :  0045 cost =  0.002177\n",
      "Epoch :  0046 cost =  0.001259\n",
      "Epoch :  0047 cost =  0.001341\n",
      "Epoch :  0048 cost =  0.001688\n",
      "Epoch :  0049 cost =  0.001665\n",
      "Epoch :  0050 cost =  0.002056\n",
      "Epoch :  0051 cost =  0.001342\n",
      "Epoch :  0052 cost =  0.002011\n",
      "Epoch :  0053 cost =  0.003869\n",
      "Epoch :  0054 cost =  0.000296\n",
      "Epoch :  0055 cost =  0.000801\n",
      "Epoch :  0056 cost =  0.001366\n",
      "Epoch :  0057 cost =  0.000457\n",
      "Epoch :  0058 cost =  0.000772\n",
      "Epoch :  0059 cost =  0.000787\n",
      "Epoch :  0060 cost =  0.000644\n",
      "Epoch :  0061 cost =  0.000267\n",
      "Epoch :  0062 cost =  0.001410\n",
      "Epoch :  0063 cost =  0.000590\n",
      "Epoch :  0064 cost =  0.000481\n",
      "Epoch :  0065 cost =  0.000979\n",
      "Epoch :  0066 cost =  0.000756\n",
      "Epoch :  0067 cost =  0.000278\n",
      "Epoch :  0068 cost =  0.000688\n",
      "Epoch :  0069 cost =  0.000765\n",
      "Epoch :  0070 cost =  0.000983\n",
      "Epoch :  0071 cost =  0.001812\n",
      "Epoch :  0072 cost =  0.000429\n",
      "Epoch :  0073 cost =  0.000458\n",
      "Epoch :  0074 cost =  0.000289\n",
      "Epoch :  0075 cost =  0.000369\n",
      "Epoch :  0076 cost =  0.000161\n",
      "Epoch :  0077 cost =  0.000840\n",
      "Epoch :  0078 cost =  0.000408\n",
      "Epoch :  0079 cost =  0.000765\n",
      "Epoch :  0080 cost =  0.001408\n",
      "Epoch :  0081 cost =  0.001642\n",
      "Epoch :  0082 cost =  0.000383\n",
      "Epoch :  0083 cost =  0.000696\n",
      "Epoch :  0084 cost =  0.000219\n",
      "Epoch :  0085 cost =  0.000406\n",
      "Epoch :  0086 cost =  0.001226\n",
      "Epoch :  0087 cost =  0.001068\n",
      "Epoch :  0088 cost =  0.000184\n",
      "Epoch :  0089 cost =  0.000289\n",
      "Epoch :  0090 cost =  0.000402\n",
      "Epoch :  0091 cost =  0.000292\n",
      "Epoch :  0092 cost =  0.000376\n",
      "Epoch :  0093 cost =  0.000488\n",
      "Epoch :  0094 cost =  0.000710\n",
      "Epoch :  0095 cost =  0.000512\n",
      "Epoch :  0096 cost =  0.000203\n",
      "Epoch :  0097 cost =  0.000422\n",
      "Epoch :  0098 cost =  0.000387\n",
      "Epoch :  0099 cost =  0.000352\n",
      "Epoch :  0100 cost =  0.000758\n"
     ]
    }
   ],
   "source": [
    "input_batch, output_batch, target_batch = make_batch(seq_data)\n",
    "for epoch in range(total_epoch) :\n",
    "    _, loss = sess.run([optimizer, cost],\n",
    "                      feed_dict = {enc_input: input_batch,\n",
    "                                  dec_input : output_batch,\n",
    "                                  targets : target_batch})\n",
    "    print('Epoch : ', '%04d' % (epoch+1),\n",
    "         'cost =  {:.6f}'.format(loss))"
   ]
  },
  {
   "cell_type": "code",
   "execution_count": 8,
   "metadata": {},
   "outputs": [
    {
     "name": "stdout",
     "output_type": "stream",
     "text": [
      "word=> 단어\n"
     ]
    }
   ],
   "source": [
    "def translate(word):\n",
    "    #모델의 자리수는 일치시켜야함\n",
    "    seq_data =[word,'P' * len(word)] #PPPP\n",
    "    #1x4x41\n",
    "    #1x4x41\n",
    "    input_batch,ouput_batch,target_batch = make_batch([seq_data])\n",
    "    \n",
    "    prediction = tf.argmax(model,2) ##면행(열을 중심):41개\n",
    "    result = sess.run(prediction,feed_dict={enc_input:input_batch,\n",
    "                                           dec_input: ouput_batch,\n",
    "                                           targets: target_batch})\n",
    "    decoded = [char_arr[i] for i in result[0]]\n",
    "    end = decoded.index('E')\n",
    "    translated = ''.join(decoded[:end])\n",
    "    return translated\n",
    "\n",
    "print('word=>',translate('word'))"
   ]
  },
  {
   "cell_type": "markdown",
   "metadata": {},
   "source": [
    "# 이미지 글자 읽기"
   ]
  },
  {
   "cell_type": "markdown",
   "metadata": {},
   "source": [
    "\n",
    "## OCR : KAKAO API\n",
    "#카카오 :https://developers.kakao.com/docs/restapi/vision#%EB%AC%B8%EC%9E%90-%EC%9D%B8%EC%8B%9D"
   ]
  },
  {
   "cell_type": "code",
   "execution_count": 17,
   "metadata": {},
   "outputs": [
    {
     "name": "stdout",
     "output_type": "stream",
     "text": [
      "Requirement already satisfied: opencv-python in c:\\users\\ict01_14\\.conda\\envs\\tf_test\\lib\\site-packages (4.2.0.32)\n",
      "Requirement already satisfied: numpy>=1.14.5 in c:\\users\\ict01_14\\.conda\\envs\\tf_test\\lib\\site-packages (from opencv-python) (1.18.1)\n"
     ]
    },
    {
     "name": "stderr",
     "output_type": "stream",
     "text": [
      "WARNING: pip is being invoked by an old script wrapper. This will fail in a future version of pip.\n",
      "Please see https://github.com/pypa/pip/issues/5599 for advice on fixing the underlying issue.\n",
      "To avoid this problem you can invoke Python with '-m pip' instead of running pip directly.\n"
     ]
    }
   ],
   "source": [
    "!pip install opencv-python # import cv2를 하기위한것 "
   ]
  },
  {
   "cell_type": "code",
   "execution_count": 49,
   "metadata": {},
   "outputs": [],
   "source": [
    "import json\n",
    "import cv2\n",
    "import requests #html 페이지 요청\n",
    "import sys\n",
    "LIMIT_PX = 1024\n",
    "LIMIT_BYTE = 1024*1024\n",
    "LIMIT_BOX = 40 #박스단위로 잘라내기\n",
    "\n",
    "\n",
    "# ocr 절차\n",
    "#이미지 사이즈 조정\n",
    "#글씨를 둘러싼 box를 detection "
   ]
  },
  {
   "cell_type": "code",
   "execution_count": 50,
   "metadata": {},
   "outputs": [],
   "source": [
    "def kakao_ocr_resize(image_path:str): #규격이미지 사이즈\n",
    "    image = cv2.imread('2.jpg') #자기의 이미지로 변경 : 영수증\n",
    "    height,width,_ = image.shape\n",
    "    if LIMIT_PX<height or LIMIT_PX<width:\n",
    "        ratio = float(LIMIT_PX) / max(height,width)\n",
    "        imgate = cv2.resize(image,None,fx = ratio,fy = ratio)\n",
    "        height,width,_ = height,width,_ = image.shape\n",
    "        image_path = '{}_resized.jpg'.format('2')\n",
    "        cv2.imwrite(image_path,image)\n",
    "        return image_path\n",
    "    return None\n",
    "#글씨가 있는 영역을 detect 그런다음 다시 읽어줘야함 2번읽기"
   ]
  },
  {
   "cell_type": "code",
   "execution_count": 51,
   "metadata": {},
   "outputs": [],
   "source": [
    "#사용법\n",
    "#open api : 함수를 원격호출 (remote call )\n",
    "def kakao_ocr_detect(image_path:str,appkey:str):\n",
    "    API_URL = 'http://kapi.kakao.com/v1/vision/text/detect'\n",
    "    headers = {'Authorization':'KakaoAK{}'.format('bb6a0234a916254c7a8adb9e6d35be68')} #이자리가 api id \n",
    "    image = cv2.imread('2.jpg')\n",
    "    #네이버는 jpg형식만 .png(transparent 지원),gif(애니메이션 지원)\n",
    "    jpeg_image = cv2.imencode('.jpg',image)[1]\n",
    "    data = jpeg_image.tobytes() #네트워크 전송 => serialization #tobytes:사각형이미지가 일렬로 되도록\n",
    "    #네트워크일 떄 = > 데이터가 시리얼로 가야함(네트워크 모뎀)\n",
    "    #8개 line으로 구성 =>4개회선만 사용 => 1개는 전송, 1개는 수신\n",
    "    #네트워크를 통해 함수 호출(시간): 비동기 방식\n",
    "    #동기 방식, 비동기방식(다른작업을 하고있다가  event가 벌어짐 )\n",
    "    #대표적인 비동기 통신 방식으로 ajax _페이지가 따른일을하고있는데 웹브라우저 내부적으로 처리하는 것 \n",
    "    # flask 에서 사용 \n",
    "    #인터넷에서 표준 데이터 포맷 : json\n",
    "    return requests.post(API_URL,headers = headers,files={'file':data})"
   ]
  },
  {
   "cell_type": "code",
   "execution_count": 54,
   "metadata": {},
   "outputs": [
    {
     "ename": "TypeError",
     "evalue": "'int' object is not subscriptable",
     "output_type": "error",
     "traceback": [
      "\u001b[1;31m---------------------------------------------------------------------------\u001b[0m",
      "\u001b[1;31mTypeError\u001b[0m                                 Traceback (most recent call last)",
      "\u001b[1;32m<ipython-input-54-e71bad754819>\u001b[0m in \u001b[0;36m<module>\u001b[1;34m\u001b[0m\n\u001b[0;32m      6\u001b[0m     \u001b[0mboxes\u001b[0m \u001b[1;33m=\u001b[0m \u001b[0mboxes\u001b[0m\u001b[1;33m[\u001b[0m\u001b[1;33m:\u001b[0m\u001b[0mmin\u001b[0m\u001b[1;33m(\u001b[0m\u001b[0mlen\u001b[0m\u001b[1;33m(\u001b[0m\u001b[0mboxes\u001b[0m\u001b[1;33m)\u001b[0m\u001b[1;33m,\u001b[0m\u001b[0mLIMIT_BOX\u001b[0m\u001b[1;33m)\u001b[0m\u001b[1;33m]\u001b[0m\u001b[1;33m\u001b[0m\u001b[1;33m\u001b[0m\u001b[0m\n\u001b[0;32m      7\u001b[0m     \u001b[0moutput\u001b[0m \u001b[1;33m=\u001b[0m\u001b[0mkakao_ocr_recognize\u001b[0m\u001b[1;33m(\u001b[0m\u001b[0mimage_path\u001b[0m\u001b[1;33m,\u001b[0m\u001b[0mboxes\u001b[0m\u001b[1;33m,\u001b[0m\u001b[0mappkey\u001b[0m\u001b[1;33m)\u001b[0m\u001b[1;33m.\u001b[0m\u001b[0mjson\u001b[0m\u001b[1;33m(\u001b[0m\u001b[1;33m)\u001b[0m\u001b[1;33m\u001b[0m\u001b[1;33m\u001b[0m\u001b[0m\n\u001b[1;32m----> 8\u001b[1;33m \u001b[0mouput\u001b[0m \u001b[1;33m=\u001b[0m \u001b[0mmain\u001b[0m\u001b[1;33m(\u001b[0m\u001b[1;33m)\u001b[0m\u001b[1;33m\u001b[0m\u001b[1;33m\u001b[0m\u001b[0m\n\u001b[0m\u001b[0;32m      9\u001b[0m \u001b[0mouput\u001b[0m\u001b[1;33m[\u001b[0m\u001b[1;34m\"result\"\u001b[0m\u001b[1;33m]\u001b[0m\u001b[1;33m\u001b[0m\u001b[1;33m\u001b[0m\u001b[0m\n",
      "\u001b[1;32m<ipython-input-54-e71bad754819>\u001b[0m in \u001b[0;36mmain\u001b[1;34m()\u001b[0m\n\u001b[0;32m      3\u001b[0m     \u001b[0mresize_impath\u001b[0m \u001b[1;33m=\u001b[0m \u001b[0mkakao_ocr_resize\u001b[0m\u001b[1;33m(\u001b[0m\u001b[0mimage_path\u001b[0m\u001b[1;33m)\u001b[0m\u001b[1;33m\u001b[0m\u001b[1;33m\u001b[0m\u001b[0m\n\u001b[0;32m      4\u001b[0m     \u001b[0mouput\u001b[0m \u001b[1;33m=\u001b[0m\u001b[0mkakao_ocr_detect\u001b[0m\u001b[1;33m(\u001b[0m\u001b[0mimage_path\u001b[0m\u001b[1;33m,\u001b[0m\u001b[0mappkey\u001b[0m\u001b[1;33m)\u001b[0m\u001b[1;33m.\u001b[0m\u001b[0mjson\u001b[0m\u001b[1;33m(\u001b[0m\u001b[1;33m)\u001b[0m\u001b[1;33m\u001b[0m\u001b[1;33m\u001b[0m\u001b[0m\n\u001b[1;32m----> 5\u001b[1;33m     \u001b[0mboxes\u001b[0m \u001b[1;33m=\u001b[0m \u001b[0mouput\u001b[0m\u001b[1;33m[\u001b[0m\u001b[1;34m\"result\"\u001b[0m\u001b[1;33m]\u001b[0m\u001b[1;33m[\u001b[0m\u001b[1;34m\"boxes\"\u001b[0m\u001b[1;33m]\u001b[0m\u001b[1;33m\u001b[0m\u001b[1;33m\u001b[0m\u001b[0m\n\u001b[0m\u001b[0;32m      6\u001b[0m     \u001b[0mboxes\u001b[0m \u001b[1;33m=\u001b[0m \u001b[0mboxes\u001b[0m\u001b[1;33m[\u001b[0m\u001b[1;33m:\u001b[0m\u001b[0mmin\u001b[0m\u001b[1;33m(\u001b[0m\u001b[0mlen\u001b[0m\u001b[1;33m(\u001b[0m\u001b[0mboxes\u001b[0m\u001b[1;33m)\u001b[0m\u001b[1;33m,\u001b[0m\u001b[0mLIMIT_BOX\u001b[0m\u001b[1;33m)\u001b[0m\u001b[1;33m]\u001b[0m\u001b[1;33m\u001b[0m\u001b[1;33m\u001b[0m\u001b[0m\n\u001b[0;32m      7\u001b[0m     \u001b[0moutput\u001b[0m \u001b[1;33m=\u001b[0m\u001b[0mkakao_ocr_recognize\u001b[0m\u001b[1;33m(\u001b[0m\u001b[0mimage_path\u001b[0m\u001b[1;33m,\u001b[0m\u001b[0mboxes\u001b[0m\u001b[1;33m,\u001b[0m\u001b[0mappkey\u001b[0m\u001b[1;33m)\u001b[0m\u001b[1;33m.\u001b[0m\u001b[0mjson\u001b[0m\u001b[1;33m(\u001b[0m\u001b[1;33m)\u001b[0m\u001b[1;33m\u001b[0m\u001b[1;33m\u001b[0m\u001b[0m\n",
      "\u001b[1;31mTypeError\u001b[0m: 'int' object is not subscriptable"
     ]
    }
   ],
   "source": [
    "def main():\n",
    "    image_path,appkey = sys.argv[0],sys.argv[0]\n",
    "    resize_impath = kakao_ocr_resize(image_path)\n",
    "    ouput =kakao_ocr_detect(image_path,appkey).json()\n",
    "    boxes = ouput[\"result\"][\"boxes\"]\n",
    "    boxes = boxes[:min(len(boxes),LIMIT_BOX)]\n",
    "    output =kakao_ocr_recognize(image_path,boxes,appkey).json()\n",
    "ouput = main()\n",
    "ouput[\"result\"]"
   ]
  },
  {
   "cell_type": "code",
   "execution_count": 58,
   "metadata": {},
   "outputs": [
    {
     "data": {
      "text/plain": [
       "{'recognition_words': ['주문서 작성',\n",
       "  '.',\n",
       "  '카드매출전표',\n",
       "  '(영수증) 발급',\n",
       "  'Windows',\n",
       "  'Internet E...',\n",
       "  '',\n",
       "  'https://admin.kop.co.kr/Modules/Sale/Card/ADSA_CARD_BI',\n",
       "  '\"이용해 주셔서 감',\n",
       "  '주문상세내역',\n",
       "  'KCF',\n",
       "  '카드매출전표!',\n",
       "  '구입 상품명',\n",
       "  '카드종류/CARDTYPE',\n",
       "  '카드번호/CARD NO',\n",
       "  'BC카드',\n",
       "  '9440-03ø-11ø-8302',\n",
       "  '판매가 500원',\n",
       "  '적립금',\n",
       "  '0원',\n",
       "  '수량 무제한타',\n",
       "  '유효기간',\n",
       "  '거래유형',\n",
       "  '거래일시/TRANS.DATE',\n",
       "  '++{+t',\n",
       "  '2009/10/28 10:36:38',\n",
       "  '일반일시를',\n",
       "  '합신용승인',\n",
       "  '거래취소일시/TRANS.DATE',\n",
       "  '승인번호APPROVAL NO',\n",
       "  '상품면가기TE500원',\n",
       "  '47585139',\n",
       "  '적립금',\n",
       "  '0...',\n",
       "  '주문자/PURCHASER',\n",
       "  '주문번호ORDER NO',\n",
       "  '결제방법',\n",
       "  '비회원2',\n",
       "  '200A1028103522',\n",
       "  '신용카드']}"
      ]
     },
     "execution_count": 58,
     "metadata": {},
     "output_type": "execute_result"
    }
   ],
   "source": [
    "# 하림이거 \n",
    "# pip install opencv-python\n",
    "import json\n",
    "import cv2 # computer vision tool (이미지, 동영상 처리)\n",
    "import requests # html 페이지 요청\n",
    "import sys\n",
    "LIMIT_PX = 1024\n",
    "LIMIT_BYTE = 1028*1024\n",
    "LIMIT_BOX = 40\n",
    "# OCR 절차\n",
    "# 이미지 사이즈 조정\n",
    "# 글씨를 둘러싼 Box를 detection\n",
    "\n",
    "def kakao_ocr_resize(image_path: str):\n",
    "    image = cv2.imread('2.jpg')\n",
    "    height, width, _ = image.shape\n",
    "    if LIMIT_PX < height or LIMIT_PX < width:\n",
    "        ratio = float(LIMIT_PX) / max(heigth, width)\n",
    "        image = cv2.resize(image, None, fx=ratio, fy=ratio)\n",
    "        height, width, _ = height, width, _ = image.shape\n",
    "        image_path = \"{}_resize.jpg\".format('2')\n",
    "        cv2.imwrite(image_path, image)\n",
    "        return image_path\n",
    "    return None\n",
    "\n",
    "# 사용법\n",
    "# open api 함수를 원격호출 (remote call)\n",
    "def kakao_ocr_detect(image_path: str, appkey: str):\n",
    "    API_URL ='https://kapi.kakao.com/v1/vision/text/detect'\n",
    "    headers = {'Authorization': 'KakaoAK {}'.format('bb6a0234a916254c7a8adb9e6d35be68')}\n",
    "    image = cv2.imread('2.jpg') # 이미지 로드\n",
    "    # naver는 jpg만, gif 애니메이션 지원, png 투명도 지원\n",
    "    jpeg_image = cv2.imencode('.jpg', image)[1]\n",
    "    data = jpeg_image.tobytes() # 네크워크 전송 -> serialization\n",
    "    # 네트워크일 때 => 데이터가 시리얼로 가야 함 (모뎀)\n",
    "    # 8개 라인으로 구성, 4개 회선만 사용 (1개 전송, 1개 수신)\n",
    "    # 네트워크를 통해 함수 호출 (시간) : 비동기 방식\n",
    "    # 동기 방식(호출 후 돌아올 때까지 기다림), 비동기 방식(다른 작업 중 -event 받아서 작업)\n",
    "    # 대표적인 비동기 통신 방식이 AJAX : 웹 브라우저 내부적 처리\n",
    "    # 인터넷 표준 데이터 형식 json\n",
    "    return requests.post(API_URL, headers=headers, files={\"file\": data})\n",
    "\n",
    "def kakao_ocr_recognize(image_path: str, boxes: list, appkey: str):\n",
    "    API_URL = 'https://kapi.kakao.com/v1/vision/text/recognize'\n",
    "    headers = {'Authorization': 'KakaoAK {}'.format('7d278c16a4138b64cf7e96eb6fb432a4')}\n",
    "    image = cv2.imread('2.jpg')\n",
    "    jpeg_image = cv2.imencode('.jpg', image)[1]\n",
    "    data = jpeg_image.tobytes()\n",
    "    # 인식은 BOX로 텍스트 구역을 확인하고, recognize 인식한다.\n",
    "    return requests.post(API_URL, headers=headers, files={\"file\": data}, data={\"boxes\": json.dumps(boxes)})\n",
    "\n",
    "def main():\n",
    "    image_path, appkey = sys.argv[1], sys.argv[2]\n",
    "    resize_impath = kakao_ocr_resize(image_path)\n",
    "    output = kakao_ocr_detect(image_path, appkey).json()\n",
    "    boxes = output['result']['boxes']\n",
    "    boxes = boxes[:min(len(boxes), LIMIT_BOX)]\n",
    "    output = kakao_ocr_recognize(image_path, boxes, appkey).json()\n",
    "    return output\n",
    "output = main()\n",
    "output['result']"
   ]
  },
  {
   "cell_type": "markdown",
   "metadata": {},
   "source": [
    "# 동영상 "
   ]
  },
  {
   "cell_type": "markdown",
   "metadata": {},
   "source": [
    "## 동영상 실행"
   ]
  },
  {
   "cell_type": "code",
   "execution_count": 72,
   "metadata": {},
   "outputs": [
    {
     "ename": "error",
     "evalue": "OpenCV(4.2.0) C:\\projects\\opencv-python\\opencv\\modules\\imgproc\\src\\color.cpp:182: error: (-215:Assertion failed) !_src.empty() in function 'cv::cvtColor'\n",
     "output_type": "error",
     "traceback": [
      "\u001b[1;31m---------------------------------------------------------------------------\u001b[0m",
      "\u001b[1;31merror\u001b[0m                                     Traceback (most recent call last)",
      "\u001b[1;32m<ipython-input-72-be3d9a2c7d69>\u001b[0m in \u001b[0;36m<module>\u001b[1;34m\u001b[0m\n\u001b[0;32m     10\u001b[0m     \u001b[0mret\u001b[0m\u001b[1;33m,\u001b[0m\u001b[0mframe\u001b[0m\u001b[1;33m=\u001b[0m\u001b[0mcap\u001b[0m\u001b[1;33m.\u001b[0m\u001b[0mread\u001b[0m\u001b[1;33m(\u001b[0m\u001b[1;33m)\u001b[0m \u001b[1;31m#하나의 frame을 읽어옴 => 동영상은 ntsc 방식  / 초다아29.7 frame 가져오ㅠㅁ\u001b[0m\u001b[1;33m\u001b[0m\u001b[1;33m\u001b[0m\u001b[0m\n\u001b[0;32m     11\u001b[0m     \u001b[1;31m# frame = cv2.flip(frame,0)  #flip(뒤집는거) , # 자동 차선인식, object detection하는걸 여기에 넣어주면도니다?\u001b[0m\u001b[1;33m\u001b[0m\u001b[1;33m\u001b[0m\u001b[1;33m\u001b[0m\u001b[0m\n\u001b[1;32m---> 12\u001b[1;33m     \u001b[0mframe\u001b[0m \u001b[1;33m=\u001b[0m \u001b[0mcv2\u001b[0m\u001b[1;33m.\u001b[0m\u001b[0mcvtColor\u001b[0m\u001b[1;33m(\u001b[0m\u001b[0mframe\u001b[0m\u001b[1;33m,\u001b[0m\u001b[0mcv2\u001b[0m\u001b[1;33m.\u001b[0m\u001b[0mCOLOR_BGR2GRAY\u001b[0m\u001b[1;33m)\u001b[0m \u001b[1;31m#고속 # 흑백\u001b[0m\u001b[1;33m\u001b[0m\u001b[1;33m\u001b[0m\u001b[0m\n\u001b[0m\u001b[0;32m     13\u001b[0m     \u001b[1;32mif\u001b[0m \u001b[0mret\u001b[0m \u001b[1;33m==\u001b[0m \u001b[1;32mTrue\u001b[0m\u001b[1;33m:\u001b[0m  \u001b[1;31m#\u001b[0m\u001b[1;33m\u001b[0m\u001b[1;33m\u001b[0m\u001b[0m\n\u001b[0;32m     14\u001b[0m         \u001b[0mcv2\u001b[0m\u001b[1;33m.\u001b[0m\u001b[0mimshow\u001b[0m\u001b[1;33m(\u001b[0m\u001b[1;34m'Frame'\u001b[0m\u001b[1;33m,\u001b[0m\u001b[0mframe\u001b[0m\u001b[1;33m)\u001b[0m \u001b[1;31m#이미지 출력과 동일\u001b[0m\u001b[1;33m\u001b[0m\u001b[1;33m\u001b[0m\u001b[0m\n",
      "\u001b[1;31merror\u001b[0m: OpenCV(4.2.0) C:\\projects\\opencv-python\\opencv\\modules\\imgproc\\src\\color.cpp:182: error: (-215:Assertion failed) !_src.empty() in function 'cv::cvtColor'\n"
     ]
    }
   ],
   "source": [
    "import cv2\n",
    "import numpy as np\n",
    "\n",
    "#cap = cv2.VideoCapture(0) #0번 디바이스 -카메라 영상을 받아들임\n",
    "\n",
    "cap = cv2.VideoCapture('corrupted_video.mp4') #캡처ㅏ한것\n",
    "if (cap.isOpened()==False): #파일이 없거나 장치가 없거나 \n",
    "    print('에러발생')\n",
    "    \n",
    "while(cap.isOpened()):\n",
    "    ret,frame=cap.read() #하나의 frame을 읽어옴 => 동영상은 ntsc 방식  / 초다아29.7 frame 가져오ㅠㅁ\n",
    "    # frame = cv2.flip(frame,0)  #flip(뒤집는거) , # 자동 차선인식, object detection하는걸 여기에 넣어주면도니다?\n",
    "    frame = cv2.cvtColor(frame,cv2.COLOR_BGR2GRAY) #고속 # 흑백\n",
    "    if ret == True:  #\n",
    "        cv2.imshow('Frame',frame) #이미지 출력과 동일\n",
    "        if cv2.waitKey(25) & 0xFF == ord('q'): #ascii code 코드 표\n",
    "            break\n",
    "    else:\n",
    "        break\n",
    "cap.release()\n",
    "cv2.destroyAllWindows()"
   ]
  },
  {
   "cell_type": "markdown",
   "metadata": {},
   "source": [
    "### 뒤집기"
   ]
  },
  {
   "cell_type": "code",
   "execution_count": 78,
   "metadata": {},
   "outputs": [],
   "source": [
    "import cv2\n",
    "import numpy as np\n",
    "\n",
    "#cap = cv2.VideoCapture(0) #0번 디바이스 -카메라 영상을 받아들임\n",
    "\n",
    "cap = cv2.VideoCapture('corrupted_video.mp4') #캡처ㅏ한것\n",
    "if (cap.isOpened()==False): #파일이 없거나 장치가 없거나 \n",
    "    print('에러발생')\n",
    "    \n",
    "while(cap.isOpened()):\n",
    "    ret,frame=cap.read() #하나의 frame을 읽어옴 => 동영상은 ntsc 방식  / 초다아29.7 frame 가져오ㅠㅁ\n",
    "    frame = cv2.flip(frame,0)  #flip(뒤집는거) , # 자동 차선인식, object detection하는걸 여기에 넣어주면도니다?\n",
    "    #frame = cv2.cvtColor(frame,cv2.COLOR_BGR2GRAY) #고속 # 흑백\n",
    "    if ret == True:  #\n",
    "        cv2.imshow('Frame',frame) #이미지 출력과 동일\n",
    "        if cv2.waitKey(25) & 0xFF == ord('q'): #ascii code 코드 표\n",
    "            break\n",
    "    else:\n",
    "        break\n",
    "cap.release()\n",
    "cv2.destroyAllWindows()"
   ]
  },
  {
   "cell_type": "markdown",
   "metadata": {},
   "source": [
    "### 흑백"
   ]
  },
  {
   "cell_type": "code",
   "execution_count": null,
   "metadata": {},
   "outputs": [],
   "source": [
    "###흑백\n",
    "\n",
    "import cv2\n",
    "import numpy as np\n",
    "\n",
    "#cap = cv2.VideoCapture(0) #0번 디바이스 -카메라 영상을 받아들임\n",
    "\n",
    "cap = cv2.VideoCapture('corrupted_video.mp4') #캡처ㅏ한것\n",
    "if (cap.isOpened()==False): #파일이 없거나 장치가 없거나 \n",
    "    print('에러발생')\n",
    "    \n",
    "while(cap.isOpened()):\n",
    "    ret,frame=cap.read() #하나의 frame을 읽어옴 => 동영상은 ntsc 방식  / 초다아29.7 frame 가져오ㅠㅁ\n",
    "    #frame = cv2.flip(frame,0)  #flip(뒤집는거) , # 자동 차선인식, object detection하는걸 여기에 넣어주면도니다?\n",
    "    frame = cv2.cvtColor(frame,cv2.COLOR_BGR2GRAY) #고속 # 흑백\n",
    "    if ret == True:  #\n",
    "        cv2.imshow('Frame',frame) #이미지 출력과 동일\n",
    "        if cv2.waitKey(25) & 0xFF == ord('q'): #ascii code 코드 표\n",
    "            break\n",
    "    else:\n",
    "        break\n",
    "cap.release()\n",
    "cv2.destroyAllWindows()"
   ]
  },
  {
   "cell_type": "markdown",
   "metadata": {},
   "source": [
    "### 배경제거"
   ]
  },
  {
   "cell_type": "code",
   "execution_count": null,
   "metadata": {},
   "outputs": [],
   "source": [
    "import cv2\n",
    "import numpy as np\n",
    "history =30\n",
    "#cap = cv2.VideoCapture(0) #0번 디바이스 -카메라 영상을 받아들임\n",
    "\n",
    "cap = cv2.VideoCapture('corrupted_video.mp4') #캡처ㅏ한것\n",
    "if (cap.isOpened()==False): #파일이 없거나 장치가 없거나 \n",
    "    print('에러발생')\n",
    "fgbg = cv2.createBackgroundSubtractorMOG2()  #배경제거\n",
    "while(cap.isOpened()):\n",
    "    ret,frame=cap.read() #하나의 frame을 읽어옴 => 동영상은 ntsc 방식  / 초다아29.7 frame 가져오ㅠㅁ\n",
    "    # frame = cv2.flip(frame,0)  #flip(뒤집는거) , # 자동 차선인식, object detection하는걸 여기에 넣어주면도니다?\n",
    "    \n",
    "    if ret == True:  \n",
    "        gray = cv2.cvtColor(frame,cv2.COLOR_BGR2GRAY) #고속 # 흑백\n",
    "        fgmask = fgbg.apply(gray,learningRate=1.0/history)\n",
    "        cv2.imshow('Frame',fgmask) #이미지 출력과 동일\n",
    "        if cv2.waitKey(25) & 0xFF == ord('q'): #ascii code 코드 표\n",
    "            break\n",
    "    else:\n",
    "        break\n",
    "cap.release()\n",
    "cv2.destroyAllWindows()"
   ]
  },
  {
   "cell_type": "markdown",
   "metadata": {},
   "source": [
    "## 동영상 저장"
   ]
  },
  {
   "cell_type": "code",
   "execution_count": 70,
   "metadata": {},
   "outputs": [
    {
     "ename": "NameError",
     "evalue": "name 'isOpened' is not defined",
     "output_type": "error",
     "traceback": [
      "\u001b[1;31m---------------------------------------------------------------------------\u001b[0m",
      "\u001b[1;31mNameError\u001b[0m                                 Traceback (most recent call last)",
      "\u001b[1;32m<ipython-input-70-b669a65f84dd>\u001b[0m in \u001b[0;36m<module>\u001b[1;34m\u001b[0m\n\u001b[0;32m      6\u001b[0m \u001b[0mfourcc\u001b[0m \u001b[1;33m=\u001b[0m\u001b[0mcv2\u001b[0m\u001b[1;33m.\u001b[0m\u001b[0mVideoWriter_fourcc\u001b[0m\u001b[1;33m(\u001b[0m\u001b[1;33m*\u001b[0m\u001b[1;34m'XVID'\u001b[0m\u001b[1;33m)\u001b[0m \u001b[1;31m#codec : 동영상 encoding\u001b[0m\u001b[1;33m\u001b[0m\u001b[1;33m\u001b[0m\u001b[0m\n\u001b[0;32m      7\u001b[0m \u001b[0mout\u001b[0m \u001b[1;33m=\u001b[0m\u001b[0mcv2\u001b[0m\u001b[1;33m.\u001b[0m\u001b[0mVideoWriter\u001b[0m\u001b[1;33m(\u001b[0m\u001b[1;34m'output.avi'\u001b[0m\u001b[1;33m,\u001b[0m\u001b[0mfourcc\u001b[0m\u001b[1;33m,\u001b[0m\u001b[1;36m20.0\u001b[0m\u001b[1;33m,\u001b[0m\u001b[1;33m(\u001b[0m\u001b[1;36m640\u001b[0m\u001b[1;33m,\u001b[0m\u001b[1;36m480\u001b[0m\u001b[1;33m)\u001b[0m\u001b[1;33m)\u001b[0m\u001b[1;33m\u001b[0m\u001b[1;33m\u001b[0m\u001b[0m\n\u001b[1;32m----> 8\u001b[1;33m \u001b[1;32mwhile\u001b[0m\u001b[1;33m(\u001b[0m\u001b[0mcap\u001b[0m\u001b[1;33m,\u001b[0m\u001b[0misOpened\u001b[0m\u001b[1;33m(\u001b[0m\u001b[1;33m)\u001b[0m\u001b[1;33m)\u001b[0m\u001b[1;33m:\u001b[0m\u001b[1;33m\u001b[0m\u001b[1;33m\u001b[0m\u001b[0m\n\u001b[0m\u001b[0;32m      9\u001b[0m     \u001b[0mret\u001b[0m\u001b[1;33m.\u001b[0m\u001b[0mframe\u001b[0m \u001b[1;33m=\u001b[0m \u001b[0mcap\u001b[0m\u001b[1;33m.\u001b[0m\u001b[0mread\u001b[0m\u001b[1;33m(\u001b[0m\u001b[1;33m)\u001b[0m \u001b[1;31m# embedded 장치 # ainpu 삼성엑시노스\u001b[0m\u001b[1;33m\u001b[0m\u001b[1;33m\u001b[0m\u001b[0m\n\u001b[0;32m     10\u001b[0m     \u001b[1;32mif\u001b[0m \u001b[0mret\u001b[0m \u001b[1;33m==\u001b[0m\u001b[1;32mTrue\u001b[0m\u001b[1;33m:\u001b[0m\u001b[1;33m\u001b[0m\u001b[1;33m\u001b[0m\u001b[0m\n",
      "\u001b[1;31mNameError\u001b[0m: name 'isOpened' is not defined"
     ]
    }
   ],
   "source": [
    "import cv2  #computer vision 처리 - > 사운드 불가\n",
    "import numpy as np\n",
    "\n",
    "# 동영상 데이터 전처리 = > AI model 훈련 => 실시간 인식\n",
    "cap = cv2.VideoCapture('corrupted_video.mp4')\n",
    "fourcc =cv2.VideoWriter_fourcc(*'XVID') #codec : 동영상 encoding \n",
    "out =cv2.VideoWriter('output.avi',fourcc,20.0,(640,480))\n",
    "while(cap,isOpened()):\n",
    "    ret.frame = cap.read() # embedded 장치 # ainpu 삼성엑시노스 \n",
    "    if ret ==True:\n",
    "        frame = cv2.flip(frame,0)\n",
    "        out.write(frmae)\n",
    "        cv2.imshow('frame',frame)\n",
    "        if cv2.waitKey(1) & OxFF == ord('q'):\n",
    "            break\n",
    "    else:\n",
    "        break"
   ]
  },
  {
   "cell_type": "markdown",
   "metadata": {},
   "source": [
    "# Auto Encoder _ denoising encoder\n",
    "\n",
    "\n",
    "- denosing encoder 은 원본과 noise가 있는 학습데이터가 있다\n",
    "- 노이즈 있는 데이터로 학습을 해도 가중치가 제대로 학습이된다 \n",
    "- 오토인코더는 디노이즈한다  \n",
    "- auto encoder는 비지도 학습 => 비지도 학습은 데이터의 특징 뽑으려고 : PCA데이터 재해석(직교하는 축으로 )\n",
    "- \n",
    "- 원리 설명을 위해 일부러 이미지에 노이즈 추가\n",
    "- \n",
    "- noise : 군데군데 빵구 ㅋㅋㅋ\n",
    "    - 그럼에도 불구하고 오토인코더 사용하면 원본이미지의 특성을 발견해낸다\n",
    "- \n",
    "- 오토인코더는 input이 자기자신이고  output도 자기자신이다\n",
    "    - 예측된 이미지가 자기자신 _ 자기자신의 데이터로 훈련??\n",
    "- \n",
    "- \n",
    "- 타겟이 없다 _ 비지도학습이기 때문에\n",
    "- \n",
    "- \n",
    "- 마스크를 씌우는것은 데이터를 안보이게 하겠다는것\n"
   ]
  },
  {
   "cell_type": "code",
   "execution_count": 49,
   "metadata": {},
   "outputs": [],
   "source": [
    "%matplotlib inline\n",
    "from tensorflow.examples.tutorials.mnist  import input_data\n",
    "import matplotlib.pyplot as plt\n",
    "import matplotlib.gridspec as gridspec\n",
    "\n",
    "\n",
    "def vis(images,save_name):\n",
    "    dim = images.shape[0]\n",
    "    n_image_rows = int(np.ceil(np.sqrt(dim)))\n",
    "    n_image_cols = int(np.ceil(dim * 1.0/n_image_rows))\n",
    "    gs = gridspec.GridSpec(n_image_rows,n_image_cols,top =1.,bottom = 0.,right =1.,left = 0.,hspace =0.,wspace=0.)\n",
    "    for g,count in zip(gs,range(int(dim))):\n",
    "        ax = plt.subplot(g)\n",
    "        ax.imshow(images[count,:].reshape((28,28)))\n",
    "        ax.set_xticks([])\n",
    "        ax.set_yticks([])\n",
    "        plt.savefig(save_name + '_vis.png')\n",
    "        plt.show()\n",
    "mnist_width = 28\n",
    "n_visible =mnist_width * mnist_width\n",
    "n_hidden = 500"
   ]
  },
  {
   "cell_type": "code",
   "execution_count": 45,
   "metadata": {},
   "outputs": [],
   "source": [
    "corruption_level =0.3\n",
    "X = tf.placeholder('float',[None, n_visible],name='X')\n",
    "mask = tf.placeholder('float',[None,n_visible],name='mask')\n",
    "W_init_max = 4 * np.sqrt(6./(n_visible + n_hidden))        \n",
    "#균등분포에서 데이터 생성(가중치 초기화)\n",
    "W_init = tf.random_uniform(shape = [n_visible , n_hidden],minval = -W_init_max,maxval = W_init_max)\n",
    "W =tf.Variable(W_init,name ='W')\n",
    "b = tf.Variable(tf.zeros([n_hidden]),name ='b')"
   ]
  },
  {
   "cell_type": "code",
   "execution_count": 46,
   "metadata": {
    "scrolled": true
   },
   "outputs": [],
   "source": [
    "W_prime = tf.transpose(W) #자기자신 전치 \n",
    "b_prime = tf.Variable(tf.zeros([n_visible]),name='b_prime')\n",
    "def model(X, mask, W, b, W_prime, b_prime):\n",
    "    tilde_X = mask * X #행렬 요소 곱 #tilde 잡티가 묻은 \n",
    "    Y = tf.nn.sigmoid(tf.matmul(tilde_X,W) + b)\n",
    "    Z = tf.nn.sigmoid(tf.matmul(Y, W_prime) + b_prime)\n",
    "    return Z\n",
    "Z = model(X, mask, W, b , W_prime, b_prime) #가중치에 이미지의 특성이 추출 "
   ]
  },
  {
   "cell_type": "code",
   "execution_count": 47,
   "metadata": {},
   "outputs": [
    {
     "name": "stdout",
     "output_type": "stream",
     "text": [
      "Extracting MNIST_data/train-images-idx3-ubyte.gz\n",
      "Extracting MNIST_data/train-labels-idx1-ubyte.gz\n",
      "Extracting MNIST_data/t10k-images-idx3-ubyte.gz\n",
      "Extracting MNIST_data/t10k-labels-idx1-ubyte.gz\n"
     ]
    }
   ],
   "source": [
    "# 원본데이터 == 예측 데이터가 자기자신)\n",
    "\n",
    "cost = tf.reduce_sum(tf.pow(X-Z,2))\n",
    "train_op = tf.train.GradientDescentOptimizer(0.02).minimize(cost)\n",
    "predict_op = Z\n",
    "mnist = input_data.read_data_sets('MNIST_data/',one_hot = True)\n",
    "trX,trY,teX,teY = mnist.train.images,mnist.train.labels,mnist.test.images,mnist.test.labels"
   ]
  },
  {
   "cell_type": "code",
   "execution_count": 52,
   "metadata": {},
   "outputs": [
    {
     "name": "stdout",
     "output_type": "stream",
     "text": [
      "0 112643.305\n",
      "1 95766.89\n",
      "2 87651.19\n",
      "3 81237.63\n",
      "4 78480.375\n",
      "5 73977.14\n",
      "6 72626.54\n",
      "7 70222.695\n",
      "8 69677.69\n",
      "9 69095.61\n",
      "10 67907.23\n",
      "11 68816.05\n",
      "12 65937.25\n",
      "13 65884.914\n",
      "14 65756.02\n",
      "15 63976.773\n",
      "16 64566.41\n",
      "17 64507.3\n",
      "18 62911.27\n",
      "19 64138.938\n",
      "20 62676.51\n",
      "21 63067.062\n",
      "22 61927.04\n",
      "23 62417.59\n",
      "24 60831.465\n",
      "25 61582.195\n",
      "26 61454.055\n",
      "27 61125.164\n",
      "28 60904.36\n",
      "29 62175.02\n",
      "30 60632.94\n",
      "31 61404.227\n",
      "32 60605.72\n",
      "33 60132.805\n",
      "34 60757.445\n",
      "35 59696.258\n",
      "36 59644.58\n",
      "37 59557.25\n",
      "38 59423.418\n",
      "39 61208.008\n",
      "40 59508.74\n",
      "41 59849.83\n",
      "42 58614.59\n",
      "43 59629.758\n",
      "44 59644.2\n",
      "45 58837.695\n",
      "46 59119.33\n",
      "47 59847.734\n",
      "48 58398.754\n",
      "49 59051.656\n",
      "50 58617.914\n",
      "51 59014.86\n",
      "52 58913.223\n",
      "53 59361.92\n",
      "54 57906.28\n",
      "55 58867.85\n",
      "56 58484.688\n",
      "57 58094.246\n",
      "58 57647.312\n",
      "59 59539.4\n",
      "60 58128.387\n",
      "61 57367.547\n",
      "62 58126.746\n",
      "63 58287.066\n",
      "64 57911.113\n",
      "65 58203.883\n",
      "66 58388.297\n",
      "67 58249.676\n",
      "68 57431.246\n",
      "69 58782.14\n",
      "70 57417.34\n",
      "71 58035.555\n",
      "72 57144.65\n",
      "73 57000.35\n",
      "74 57510.027\n",
      "75 57044.49\n",
      "76 56968.87\n",
      "77 56510.812\n",
      "78 56784.496\n",
      "79 57366.82\n",
      "80 57700.938\n",
      "81 56776.93\n",
      "82 58100.38\n",
      "83 57134.504\n",
      "84 57782.062\n",
      "85 56778.27\n",
      "86 56756.21\n",
      "87 56788.297\n",
      "88 57632.855\n",
      "89 57114.59\n",
      "90 57145.805\n",
      "91 57925.82\n",
      "92 57764.535\n",
      "93 57855.176\n",
      "94 56963.51\n",
      "95 56164.72\n",
      "96 56661.473\n",
      "97 56721.4\n",
      "98 55815.85\n",
      "99 56838.01\n"
     ]
    },
    {
     "data": {
      "image/png": "[encoded data removed]",
      "text/plain": [
       "<Figure size 432x288 with 1 Axes>"
      ]
     },
     "metadata": {},
     "output_type": "display_data"
    },
    {
     "data": {
      "image/png": "[encoded data removed]",
      "text/plain": [
       "<Figure size 432x288 with 1 Axes>"
      ]
     },
     "metadata": {},
     "output_type": "display_data"
    },
    {
     "data": {
      "image/png": "[encoded data removed]",
      "text/plain": [
       "<Figure size 432x288 with 1 Axes>"
      ]
     },
     "metadata": {},
     "output_type": "display_data"
    },
    {
     "data": {
      "image/png": "[encoded data removed]",
      "text/plain": [
       "<Figure size 432x288 with 1 Axes>"
      ]
     },
     "metadata": {},
     "output_type": "display_data"
    },
    {
     "data": {
      "image/png": "[encoded data removed]",
      "text/plain": [
       "<Figure size 432x288 with 1 Axes>"
      ]
     },
     "metadata": {},
     "output_type": "display_data"
    },
    {
     "data": {
      "image/png": "[encoded data removed]",
      "text/plain": [
       "<Figure size 432x288 with 1 Axes>"
      ]
     },
     "metadata": {},
     "output_type": "display_data"
    },
    {
     "data": {
      "image/png": "[encoded data removed]",
      "text/plain": [
       "<Figure size 432x288 with 1 Axes>"
      ]
     },
     "metadata": {},
     "output_type": "display_data"
    },
    {
     "data": {
      "image/png": "[encoded data removed]",
      "text/plain": [
       "<Figure size 432x288 with 1 Axes>"
      ]
     },
     "metadata": {},
     "output_type": "display_data"
    },
    {
     "data": {
      "image/png": "[encoded data removed]",
      "text/plain": [
       "<Figure size 432x288 with 1 Axes>"
      ]
     },
     "metadata": {},
     "output_type": "display_data"
    },
    {
     "data": {
      "image/png": "[encoded data removed]",
      "text/plain": [
       "<Figure size 432x288 with 1 Axes>"
      ]
     },
     "metadata": {},
     "output_type": "display_data"
    },
    {
     "data": {
      "image/png": "[encoded data removed]",
      "text/plain": [
       "<Figure size 432x288 with 1 Axes>"
      ]
     },
     "metadata": {},
     "output_type": "display_data"
    },
    {
     "data": {
      "image/png": "[encoded data removed]",
      "text/plain": [
       "<Figure size 432x288 with 1 Axes>"
      ]
     },
     "metadata": {},
     "output_type": "display_data"
    },
    {
     "data": {
      "image/png": "[encoded data removed]",
      "text/plain": [
       "<Figure size 432x288 with 1 Axes>"
      ]
     },
     "metadata": {},
     "output_type": "display_data"
    },
    {
     "data": {
      "image/png": "[encoded data removed]",
      "text/plain": [
       "<Figure size 432x288 with 1 Axes>"
      ]
     },
     "metadata": {},
     "output_type": "display_data"
    },
    {
     "data": {
      "image/png": "[encoded data removed]",
      "text/plain": [
       "<Figure size 432x288 with 1 Axes>"
      ]
     },
     "metadata": {},
     "output_type": "display_data"
    },
    {
     "data": {
      "image/png": "[encoded data removed]",
      "text/plain": [
       "<Figure size 432x288 with 1 Axes>"
      ]
     },
     "metadata": {},
     "output_type": "display_data"
    },
    {
     "data": {
      "image/png": "[encoded data removed]",
      "text/plain": [
       "<Figure size 432x288 with 1 Axes>"
      ]
     },
     "metadata": {},
     "output_type": "display_data"
    },
    {
     "data": {
      "image/png": "[encoded data removed]",
      "text/plain": [
       "<Figure size 432x288 with 1 Axes>"
      ]
     },
     "metadata": {},
     "output_type": "display_data"
    },
    {
     "data": {
      "image/png": "[encoded data removed]",
      "text/plain": [
       "<Figure size 432x288 with 1 Axes>"
      ]
     },
     "metadata": {},
     "output_type": "display_data"
    },
    {
     "data": {
      "image/png": "[encoded data removed]",
      "text/plain": [
       "<Figure size 432x288 with 1 Axes>"
      ]
     },
     "metadata": {},
     "output_type": "display_data"
    },
    {
     "data": {
      "image/png": "[encoded data removed]",
      "text/plain": [
       "<Figure size 432x288 with 1 Axes>"
      ]
     },
     "metadata": {},
     "output_type": "display_data"
    },
    {
     "data": {
      "image/png": "[encoded data removed]",
      "text/plain": [
       "<Figure size 432x288 with 1 Axes>"
      ]
     },
     "metadata": {},
     "output_type": "display_data"
    },
    {
     "data": {
      "image/png": "[encoded data removed]",
      "text/plain": [
       "<Figure size 432x288 with 1 Axes>"
      ]
     },
     "metadata": {},
     "output_type": "display_data"
    },
    {
     "data": {
      "image/png": "[encoded data removed]",
      "text/plain": [
       "<Figure size 432x288 with 1 Axes>"
      ]
     },
     "metadata": {},
     "output_type": "display_data"
    },
    {
     "data": {
      "image/png": "[encoded data removed]",
      "text/plain": [
       "<Figure size 432x288 with 1 Axes>"
      ]
     },
     "metadata": {},
     "output_type": "display_data"
    },
    {
     "data": {
      "image/png": "[encoded data removed]",
      "text/plain": [
       "<Figure size 432x288 with 1 Axes>"
      ]
     },
     "metadata": {},
     "output_type": "display_data"
    },
    {
     "data": {
      "image/png": "[encoded data removed]",
      "text/plain": [
       "<Figure size 432x288 with 1 Axes>"
      ]
     },
     "metadata": {},
     "output_type": "display_data"
    },
    {
     "data": {
      "image/png": "[encoded data removed]",
      "text/plain": [
       "<Figure size 432x288 with 1 Axes>"
      ]
     },
     "metadata": {},
     "output_type": "display_data"
    },
    {
     "data": {
      "image/png": "[encoded data removed]",
      "text/plain": [
       "<Figure size 432x288 with 1 Axes>"
      ]
     },
     "metadata": {},
     "output_type": "display_data"
    },
    {
     "data": {
      "image/png": "[encoded data removed]",
      "text/plain": [
       "<Figure size 432x288 with 1 Axes>"
      ]
     },
     "metadata": {},
     "output_type": "display_data"
    },
    {
     "data": {
      "image/png": "[encoded data removed]",
      "text/plain": [
       "<Figure size 432x288 with 1 Axes>"
      ]
     },
     "metadata": {},
     "output_type": "display_data"
    },
    {
     "data": {
      "image/png": "[encoded data removed]",
      "text/plain": [
       "<Figure size 432x288 with 1 Axes>"
      ]
     },
     "metadata": {},
     "output_type": "display_data"
    },
    {
     "data": {
      "image/png": "[encoded data removed]",
      "text/plain": [
       "<Figure size 432x288 with 1 Axes>"
      ]
     },
     "metadata": {},
     "output_type": "display_data"
    },
    {
     "data": {
      "image/png": "[encoded data removed]",
      "text/plain": [
       "<Figure size 432x288 with 1 Axes>"
      ]
     },
     "metadata": {},
     "output_type": "display_data"
    },
    {
     "data": {
      "image/png": "[encoded data removed]",
      "text/plain": [
       "<Figure size 432x288 with 1 Axes>"
      ]
     },
     "metadata": {},
     "output_type": "display_data"
    },
    {
     "data": {
      "image/png": "[encoded data removed]",
      "text/plain": [
       "<Figure size 432x288 with 1 Axes>"
      ]
     },
     "metadata": {},
     "output_type": "display_data"
    },
    {
     "data": {
      "image/png": "[encoded data removed]",
      "text/plain": [
       "<Figure size 432x288 with 1 Axes>"
      ]
     },
     "metadata": {},
     "output_type": "display_data"
    },
    {
     "data": {
      "image/png": "[encoded data removed]",
      "text/plain": [
       "<Figure size 432x288 with 1 Axes>"
      ]
     },
     "metadata": {},
     "output_type": "display_data"
    },
    {
     "data": {
      "image/png": "[encoded data removed]",
      "text/plain": [
       "<Figure size 432x288 with 1 Axes>"
      ]
     },
     "metadata": {},
     "output_type": "display_data"
    },
    {
     "data": {
      "image/png": "[encoded data removed]",
      "text/plain": [
       "<Figure size 432x288 with 1 Axes>"
      ]
     },
     "metadata": {},
     "output_type": "display_data"
    },
    {
     "data": {
      "image/png": "[encoded data removed]",
      "text/plain": [
       "<Figure size 432x288 with 1 Axes>"
      ]
     },
     "metadata": {},
     "output_type": "display_data"
    },
    {
     "data": {
      "image/png": "[encoded data removed]",
      "text/plain": [
       "<Figure size 432x288 with 1 Axes>"
      ]
     },
     "metadata": {},
     "output_type": "display_data"
    },
    {
     "data": {
      "image/png": "[encoded data removed]",
      "text/plain": [
       "<Figure size 432x288 with 1 Axes>"
      ]
     },
     "metadata": {},
     "output_type": "display_data"
    },
    {
     "data": {
      "image/png": "[encoded data removed]",
      "text/plain": [
       "<Figure size 432x288 with 1 Axes>"
      ]
     },
     "metadata": {},
     "output_type": "display_data"
    },
    {
     "data": {
      "image/png": "[encoded data removed]",
      "text/plain": [
       "<Figure size 432x288 with 1 Axes>"
      ]
     },
     "metadata": {},
     "output_type": "display_data"
    },
    {
     "data": {
      "image/png": "[encoded data removed]",
      "text/plain": [
       "<Figure size 432x288 with 1 Axes>"
      ]
     },
     "metadata": {},
     "output_type": "display_data"
    },
    {
     "data": {
      "image/png": "[encoded data removed]",
      "text/plain": [
       "<Figure size 432x288 with 1 Axes>"
      ]
     },
     "metadata": {},
     "output_type": "display_data"
    },
    {
     "data": {
      "image/png": "[encoded data removed]",
      "text/plain": [
       "<Figure size 432x288 with 1 Axes>"
      ]
     },
     "metadata": {},
     "output_type": "display_data"
    },
    {
     "data": {
      "image/png": "[encoded data removed]",
      "text/plain": [
       "<Figure size 432x288 with 1 Axes>"
      ]
     },
     "metadata": {},
     "output_type": "display_data"
    },
    {
     "data": {
      "image/png": "[encoded data removed]",
      "text/plain": [
       "<Figure size 432x288 with 1 Axes>"
      ]
     },
     "metadata": {},
     "output_type": "display_data"
    },
    {
     "data": {
      "image/png": "[encoded data removed]",
      "text/plain": [
       "<Figure size 432x288 with 1 Axes>"
      ]
     },
     "metadata": {},
     "output_type": "display_data"
    },
    {
     "data": {
      "image/png": "[encoded data removed]",
      "text/plain": [
       "<Figure size 432x288 with 1 Axes>"
      ]
     },
     "metadata": {},
     "output_type": "display_data"
    },
    {
     "data": {
      "image/png": "[encoded data removed]",
      "text/plain": [
       "<Figure size 432x288 with 1 Axes>"
      ]
     },
     "metadata": {},
     "output_type": "display_data"
    },
    {
     "data": {
      "image/png": "[encoded data removed]",
      "text/plain": [
       "<Figure size 432x288 with 1 Axes>"
      ]
     },
     "metadata": {},
     "output_type": "display_data"
    },
    {
     "data": {
      "image/png": "[encoded data removed]",
      "text/plain": [
       "<Figure size 432x288 with 1 Axes>"
      ]
     },
     "metadata": {},
     "output_type": "display_data"
    },
    {
     "data": {
      "image/png": "[encoded data removed]",
      "text/plain": [
       "<Figure size 432x288 with 1 Axes>"
      ]
     },
     "metadata": {},
     "output_type": "display_data"
    },
    {
     "data": {
      "image/png": "[encoded data removed]",
      "text/plain": [
       "<Figure size 432x288 with 1 Axes>"
      ]
     },
     "metadata": {},
     "output_type": "display_data"
    },
    {
     "data": {
      "image/png": "[encoded data removed]",
      "text/plain": [
       "<Figure size 432x288 with 1 Axes>"
      ]
     },
     "metadata": {},
     "output_type": "display_data"
    },
    {
     "data": {
      "image/png": "[encoded data removed]",
      "text/plain": [
       "<Figure size 432x288 with 1 Axes>"
      ]
     },
     "metadata": {},
     "output_type": "display_data"
    },
    {
     "data": {
      "image/png": "[encoded data removed]",
      "text/plain": [
       "<Figure size 432x288 with 1 Axes>"
      ]
     },
     "metadata": {},
     "output_type": "display_data"
    },
    {
     "data": {
      "image/png": "[encoded data removed]",
      "text/plain": [
       "<Figure size 432x288 with 1 Axes>"
      ]
     },
     "metadata": {},
     "output_type": "display_data"
    },
    {
     "data": {
      "image/png": "[encoded data removed]",
      "text/plain": [
       "<Figure size 432x288 with 1 Axes>"
      ]
     },
     "metadata": {},
     "output_type": "display_data"
    },
    {
     "data": {
      "image/png": "[encoded data removed]",
      "text/plain": [
       "<Figure size 432x288 with 1 Axes>"
      ]
     },
     "metadata": {},
     "output_type": "display_data"
    },
    {
     "data": {
      "image/png": "[encoded data removed]",
      "text/plain": [
       "<Figure size 432x288 with 1 Axes>"
      ]
     },
     "metadata": {},
     "output_type": "display_data"
    },
    {
     "data": {
      "image/png": "[encoded data removed]",
      "text/plain": [
       "<Figure size 432x288 with 1 Axes>"
      ]
     },
     "metadata": {},
     "output_type": "display_data"
    },
    {
     "data": {
      "image/png": "[encoded data removed]",
      "text/plain": [
       "<Figure size 432x288 with 1 Axes>"
      ]
     },
     "metadata": {},
     "output_type": "display_data"
    },
    {
     "data": {
      "image/png": "[encoded data removed]",
      "text/plain": [
       "<Figure size 432x288 with 1 Axes>"
      ]
     },
     "metadata": {},
     "output_type": "display_data"
    },
    {
     "data": {
      "image/png": "[encoded data removed]",
      "text/plain": [
       "<Figure size 432x288 with 1 Axes>"
      ]
     },
     "metadata": {},
     "output_type": "display_data"
    },
    {
     "data": {
      "image/png": "[encoded data removed]",
      "text/plain": [
       "<Figure size 432x288 with 1 Axes>"
      ]
     },
     "metadata": {},
     "output_type": "display_data"
    },
    {
     "data": {
      "image/png": "[encoded data removed]",
      "text/plain": [
       "<Figure size 432x288 with 1 Axes>"
      ]
     },
     "metadata": {},
     "output_type": "display_data"
    },
    {
     "data": {
      "image/png": "[encoded data removed]",
      "text/plain": [
       "<Figure size 432x288 with 1 Axes>"
      ]
     },
     "metadata": {},
     "output_type": "display_data"
    },
    {
     "data": {
      "image/png": "[encoded data removed]",
      "text/plain": [
       "<Figure size 432x288 with 1 Axes>"
      ]
     },
     "metadata": {},
     "output_type": "display_data"
    },
    {
     "data": {
      "image/png": "[encoded data removed]",
      "text/plain": [
       "<Figure size 432x288 with 1 Axes>"
      ]
     },
     "metadata": {},
     "output_type": "display_data"
    },
    {
     "data": {
      "image/png": "[encoded data removed]",
      "text/plain": [
       "<Figure size 432x288 with 1 Axes>"
      ]
     },
     "metadata": {},
     "output_type": "display_data"
    },
    {
     "data": {
      "image/png": "[encoded data removed]",
      "text/plain": [
       "<Figure size 432x288 with 1 Axes>"
      ]
     },
     "metadata": {},
     "output_type": "display_data"
    },
    {
     "data": {
      "image/png": "[encoded data removed]",
      "text/plain": [
       "<Figure size 432x288 with 1 Axes>"
      ]
     },
     "metadata": {},
     "output_type": "display_data"
    },
    {
     "data": {
      "image/png": "[encoded data removed]",
      "text/plain": [
       "<Figure size 432x288 with 1 Axes>"
      ]
     },
     "metadata": {},
     "output_type": "display_data"
    },
    {
     "data": {
      "image/png": "[encoded data removed]",
      "text/plain": [
       "<Figure size 432x288 with 1 Axes>"
      ]
     },
     "metadata": {},
     "output_type": "display_data"
    },
    {
     "data": {
      "image/png": "[encoded data removed]",
      "text/plain": [
       "<Figure size 432x288 with 1 Axes>"
      ]
     },
     "metadata": {},
     "output_type": "display_data"
    },
    {
     "data": {
      "image/png": "[encoded data removed]",
      "text/plain": [
       "<Figure size 432x288 with 1 Axes>"
      ]
     },
     "metadata": {},
     "output_type": "display_data"
    },
    {
     "data": {
      "image/png": "[encoded data removed]",
      "text/plain": [
       "<Figure size 432x288 with 1 Axes>"
      ]
     },
     "metadata": {},
     "output_type": "display_data"
    },
    {
     "data": {
      "image/png": "[encoded data removed]",
      "text/plain": [
       "<Figure size 432x288 with 1 Axes>"
      ]
     },
     "metadata": {},
     "output_type": "display_data"
    },
    {
     "data": {
      "image/png": "[encoded data removed]",
      "text/plain": [
       "<Figure size 432x288 with 1 Axes>"
      ]
     },
     "metadata": {},
     "output_type": "display_data"
    },
    {
     "data": {
      "image/png": "[encoded data removed]",
      "text/plain": [
       "<Figure size 432x288 with 1 Axes>"
      ]
     },
     "metadata": {},
     "output_type": "display_data"
    },
    {
     "data": {
      "image/png": "[encoded data removed]",
      "text/plain": [
       "<Figure size 432x288 with 1 Axes>"
      ]
     },
     "metadata": {},
     "output_type": "display_data"
    },
    {
     "data": {
      "image/png": "[encoded data removed]",
      "text/plain": [
       "<Figure size 432x288 with 1 Axes>"
      ]
     },
     "metadata": {},
     "output_type": "display_data"
    },
    {
     "data": {
      "image/png": "[encoded data removed]",
      "text/plain": [
       "<Figure size 432x288 with 1 Axes>"
      ]
     },
     "metadata": {},
     "output_type": "display_data"
    },
    {
     "data": {
      "image/png": "[encoded data removed]",
      "text/plain": [
       "<Figure size 432x288 with 1 Axes>"
      ]
     },
     "metadata": {},
     "output_type": "display_data"
    },
    {
     "data": {
      "image/png": "[encoded data removed]",
      "text/plain": [
       "<Figure size 432x288 with 1 Axes>"
      ]
     },
     "metadata": {},
     "output_type": "display_data"
    },
    {
     "data": {
      "image/png": "[encoded data removed]",
      "text/plain": [
       "<Figure size 432x288 with 1 Axes>"
      ]
     },
     "metadata": {},
     "output_type": "display_data"
    },
    {
     "data": {
      "image/png": "[encoded data removed]",
      "text/plain": [
       "<Figure size 432x288 with 1 Axes>"
      ]
     },
     "metadata": {},
     "output_type": "display_data"
    },
    {
     "data": {
      "image/png": "[encoded data removed]",
      "text/plain": [
       "<Figure size 432x288 with 1 Axes>"
      ]
     },
     "metadata": {},
     "output_type": "display_data"
    },
    {
     "data": {
      "image/png": "[encoded data removed]",
      "text/plain": [
       "<Figure size 432x288 with 1 Axes>"
      ]
     },
     "metadata": {},
     "output_type": "display_data"
    },
    {
     "data": {
      "image/png": "[encoded data removed]",
      "text/plain": [
       "<Figure size 432x288 with 1 Axes>"
      ]
     },
     "metadata": {},
     "output_type": "display_data"
    },
    {
     "data": {
      "image/png": "[encoded data removed]",
      "text/plain": [
       "<Figure size 432x288 with 1 Axes>"
      ]
     },
     "metadata": {},
     "output_type": "display_data"
    },
    {
     "data": {
      "image/png": "[encoded data removed]",
      "text/plain": [
       "<Figure size 432x288 with 1 Axes>"
      ]
     },
     "metadata": {},
     "output_type": "display_data"
    },
    {
     "data": {
      "image/png": "[encoded data removed]",
      "text/plain": [
       "<Figure size 432x288 with 1 Axes>"
      ]
     },
     "metadata": {},
     "output_type": "display_data"
    },
    {
     "data": {
      "image/png": "[encoded data removed]",
      "text/plain": [
       "<Figure size 432x288 with 1 Axes>"
      ]
     },
     "metadata": {},
     "output_type": "display_data"
    },
    {
     "data": {
      "image/png": "[encoded data removed]",
      "text/plain": [
       "<Figure size 432x288 with 1 Axes>"
      ]
     },
     "metadata": {},
     "output_type": "display_data"
    },
    {
     "data": {
      "image/png": "[encoded data removed]",
      "text/plain": [
       "<Figure size 432x288 with 1 Axes>"
      ]
     },
     "metadata": {},
     "output_type": "display_data"
    },
    {
     "data": {
      "image/png": "[encoded data removed]",
      "text/plain": [
       "<Figure size 432x288 with 1 Axes>"
      ]
     },
     "metadata": {},
     "output_type": "display_data"
    },
    {
     "data": {
      "image/png": "[encoded data removed]",
      "text/plain": [
       "<Figure size 432x288 with 1 Axes>"
      ]
     },
     "metadata": {},
     "output_type": "display_data"
    },
    {
     "data": {
      "image/png": "[encoded data removed]",
      "text/plain": [
       "<Figure size 432x288 with 1 Axes>"
      ]
     },
     "metadata": {},
     "output_type": "display_data"
    },
    {
     "data": {
      "image/png": "[encoded data removed]",
      "text/plain": [
       "<Figure size 432x288 with 1 Axes>"
      ]
     },
     "metadata": {},
     "output_type": "display_data"
    },
    {
     "data": {
      "image/png": "[encoded data removed]",
      "text/plain": [
       "<Figure size 432x288 with 1 Axes>"
      ]
     },
     "metadata": {},
     "output_type": "display_data"
    },
    {
     "data": {
      "image/png": "[encoded data removed]",
      "text/plain": [
       "<Figure size 432x288 with 1 Axes>"
      ]
     },
     "metadata": {},
     "output_type": "display_data"
    },
    {
     "data": {
      "image/png": "[encoded data removed]",
      "text/plain": [
       "<Figure size 432x288 with 1 Axes>"
      ]
     },
     "metadata": {},
     "output_type": "display_data"
    },
    {
     "data": {
      "image/png": "[encoded data removed]",
      "text/plain": [
       "<Figure size 432x288 with 1 Axes>"
      ]
     },
     "metadata": {},
     "output_type": "display_data"
    },
    {
     "data": {
      "image/png": "[encoded data removed]",
      "text/plain": [
       "<Figure size 432x288 with 1 Axes>"
      ]
     },
     "metadata": {},
     "output_type": "display_data"
    },
    {
     "data": {
      "image/png": "[encoded data removed]",
      "text/plain": [
       "<Figure size 432x288 with 1 Axes>"
      ]
     },
     "metadata": {},
     "output_type": "display_data"
    },
    {
     "data": {
      "image/png": "[encoded data removed]",
      "text/plain": [
       "<Figure size 432x288 with 1 Axes>"
      ]
     },
     "metadata": {},
     "output_type": "display_data"
    },
    {
     "data": {
      "image/png": "[encoded data removed]",
      "text/plain": [
       "<Figure size 432x288 with 1 Axes>"
      ]
     },
     "metadata": {},
     "output_type": "display_data"
    },
    {
     "data": {
      "image/png": "[encoded data removed]",
      "text/plain": [
       "<Figure size 432x288 with 1 Axes>"
      ]
     },
     "metadata": {},
     "output_type": "display_data"
    },
    {
     "data": {
      "image/png": "[encoded data removed]",
      "text/plain": [
       "<Figure size 432x288 with 1 Axes>"
      ]
     },
     "metadata": {},
     "output_type": "display_data"
    },
    {
     "data": {
      "image/png": "[encoded data removed]",
      "text/plain": [
       "<Figure size 432x288 with 1 Axes>"
      ]
     },
     "metadata": {},
     "output_type": "display_data"
    },
    {
     "data": {
      "image/png": "[encoded data removed]",
      "text/plain": [
       "<Figure size 432x288 with 1 Axes>"
      ]
     },
     "metadata": {},
     "output_type": "display_data"
    },
    {
     "data": {
      "image/png": "[encoded data removed]",
      "text/plain": [
       "<Figure size 432x288 with 1 Axes>"
      ]
     },
     "metadata": {},
     "output_type": "display_data"
    },
    {
     "data": {
      "image/png": "[encoded data removed]",
      "text/plain": [
       "<Figure size 432x288 with 1 Axes>"
      ]
     },
     "metadata": {},
     "output_type": "display_data"
    },
    {
     "data": {
      "image/png": "[encoded data removed]",
      "text/plain": [
       "<Figure size 432x288 with 1 Axes>"
      ]
     },
     "metadata": {},
     "output_type": "display_data"
    },
    {
     "data": {
      "image/png": "[encoded data removed]",
      "text/plain": [
       "<Figure size 432x288 with 1 Axes>"
      ]
     },
     "metadata": {},
     "output_type": "display_data"
    },
    {
     "data": {
      "image/png": "[encoded data removed]",
      "text/plain": [
       "<Figure size 432x288 with 1 Axes>"
      ]
     },
     "metadata": {},
     "output_type": "display_data"
    },
    {
     "data": {
      "image/png": "[encoded data removed]",
      "text/plain": [
       "<Figure size 432x288 with 1 Axes>"
      ]
     },
     "metadata": {},
     "output_type": "display_data"
    },
    {
     "data": {
      "image/png": "[encoded data removed]",
      "text/plain": [
       "<Figure size 432x288 with 1 Axes>"
      ]
     },
     "metadata": {},
     "output_type": "display_data"
    },
    {
     "data": {
      "image/png": "[encoded data removed]",
      "text/plain": [
       "<Figure size 432x288 with 1 Axes>"
      ]
     },
     "metadata": {},
     "output_type": "display_data"
    },
    {
     "data": {
      "image/png": "[encoded data removed]",
      "text/plain": [
       "<Figure size 432x288 with 1 Axes>"
      ]
     },
     "metadata": {},
     "output_type": "display_data"
    },
    {
     "data": {
      "image/png": "[encoded data removed]",
      "text/plain": [
       "<Figure size 432x288 with 1 Axes>"
      ]
     },
     "metadata": {},
     "output_type": "display_data"
    },
    {
     "data": {
      "image/png": "[encoded data removed]",
      "text/plain": [
       "<Figure size 432x288 with 1 Axes>"
      ]
     },
     "metadata": {},
     "output_type": "display_data"
    },
    {
     "data": {
      "image/png": "[encoded data removed]",
      "text/plain": [
       "<Figure size 432x288 with 1 Axes>"
      ]
     },
     "metadata": {},
     "output_type": "display_data"
    },
    {
     "data": {
      "image/png": "[encoded data removed]",
      "text/plain": [
       "<Figure size 432x288 with 1 Axes>"
      ]
     },
     "metadata": {},
     "output_type": "display_data"
    },
    {
     "data": {
      "image/png": "[encoded data removed]",
      "text/plain": [
       "<Figure size 432x288 with 1 Axes>"
      ]
     },
     "metadata": {},
     "output_type": "display_data"
    },
    {
     "data": {
      "image/png": "[encoded data removed]",
      "text/plain": [
       "<Figure size 432x288 with 1 Axes>"
      ]
     },
     "metadata": {},
     "output_type": "display_data"
    },
    {
     "data": {
      "image/png": "[encoded data removed]",
      "text/plain": [
       "<Figure size 432x288 with 1 Axes>"
      ]
     },
     "metadata": {},
     "output_type": "display_data"
    },
    {
     "data": {
      "image/png": "[encoded data removed]",
      "text/plain": [
       "<Figure size 432x288 with 1 Axes>"
      ]
     },
     "metadata": {},
     "output_type": "display_data"
    },
    {
     "data": {
      "image/png": "[encoded data removed]",
      "text/plain": [
       "<Figure size 432x288 with 1 Axes>"
      ]
     },
     "metadata": {},
     "output_type": "display_data"
    },
    {
     "data": {
      "image/png": "[encoded data removed]",
      "text/plain": [
       "<Figure size 432x288 with 1 Axes>"
      ]
     },
     "metadata": {},
     "output_type": "display_data"
    },
    {
     "data": {
      "image/png": "[encoded data removed]",
      "text/plain": [
       "<Figure size 432x288 with 1 Axes>"
      ]
     },
     "metadata": {},
     "output_type": "display_data"
    },
    {
     "data": {
      "image/png": "[encoded data removed]",
      "text/plain": [
       "<Figure size 432x288 with 1 Axes>"
      ]
     },
     "metadata": {},
     "output_type": "display_data"
    },
    {
     "data": {
      "image/png": "[encoded data removed]",
      "text/plain": [
       "<Figure size 432x288 with 1 Axes>"
      ]
     },
     "metadata": {},
     "output_type": "display_data"
    },
    {
     "data": {
      "image/png": "[encoded data removed]",
      "text/plain": [
       "<Figure size 432x288 with 1 Axes>"
      ]
     },
     "metadata": {},
     "output_type": "display_data"
    },
    {
     "data": {
      "image/png": "[encoded data removed]",
      "text/plain": [
       "<Figure size 432x288 with 1 Axes>"
      ]
     },
     "metadata": {},
     "output_type": "display_data"
    },
    {
     "data": {
      "image/png": "[encoded data removed]",
      "text/plain": [
       "<Figure size 432x288 with 1 Axes>"
      ]
     },
     "metadata": {},
     "output_type": "display_data"
    },
    {
     "data": {
      "image/png": "[encoded data removed]",
      "text/plain": [
       "<Figure size 432x288 with 1 Axes>"
      ]
     },
     "metadata": {},
     "output_type": "display_data"
    },
    {
     "data": {
      "image/png": "[encoded data removed]",
      "text/plain": [
       "<Figure size 432x288 with 1 Axes>"
      ]
     },
     "metadata": {},
     "output_type": "display_data"
    },
    {
     "data": {
      "image/png": "[encoded data removed]",
      "text/plain": [
       "<Figure size 432x288 with 1 Axes>"
      ]
     },
     "metadata": {},
     "output_type": "display_data"
    },
    {
     "data": {
      "image/png": "[encoded data removed]",
      "text/plain": [
       "<Figure size 432x288 with 1 Axes>"
      ]
     },
     "metadata": {},
     "output_type": "display_data"
    },
    {
     "data": {
      "image/png": "[encoded data removed]",
      "text/plain": [
       "<Figure size 432x288 with 1 Axes>"
      ]
     },
     "metadata": {},
     "output_type": "display_data"
    },
    {
     "data": {
      "image/png": "[encoded data removed]",
      "text/plain": [
       "<Figure size 432x288 with 1 Axes>"
      ]
     },
     "metadata": {},
     "output_type": "display_data"
    },
    {
     "data": {
      "image/png": "[encoded data removed]",
      "text/plain": [
       "<Figure size 432x288 with 1 Axes>"
      ]
     },
     "metadata": {},
     "output_type": "display_data"
    },
    {
     "data": {
      "image/png": "[encoded data removed]",
      "text/plain": [
       "<Figure size 432x288 with 1 Axes>"
      ]
     },
     "metadata": {},
     "output_type": "display_data"
    },
    {
     "data": {
      "image/png": "[encoded data removed]",
      "text/plain": [
       "<Figure size 432x288 with 1 Axes>"
      ]
     },
     "metadata": {},
     "output_type": "display_data"
    },
    {
     "data": {
      "image/png": "[encoded data removed]",
      "text/plain": [
       "<Figure size 432x288 with 1 Axes>"
      ]
     },
     "metadata": {},
     "output_type": "display_data"
    },
    {
     "data": {
      "image/png": "[encoded data removed]",
      "text/plain": [
       "<Figure size 432x288 with 1 Axes>"
      ]
     },
     "metadata": {},
     "output_type": "display_data"
    },
    {
     "data": {
      "image/png": "[encoded data removed]",
      "text/plain": [
       "<Figure size 432x288 with 1 Axes>"
      ]
     },
     "metadata": {},
     "output_type": "display_data"
    },
    {
     "data": {
      "image/png": "[encoded data removed]",
      "text/plain": [
       "<Figure size 432x288 with 1 Axes>"
      ]
     },
     "metadata": {},
     "output_type": "display_data"
    },
    {
     "data": {
      "image/png": "[encoded data removed]",
      "text/plain": [
       "<Figure size 432x288 with 1 Axes>"
      ]
     },
     "metadata": {},
     "output_type": "display_data"
    },
    {
     "data": {
      "image/png": "[encoded data removed]",
      "text/plain": [
       "<Figure size 432x288 with 1 Axes>"
      ]
     },
     "metadata": {},
     "output_type": "display_data"
    },
    {
     "data": {
      "image/png": "[encoded data removed]",
      "text/plain": [
       "<Figure size 432x288 with 1 Axes>"
      ]
     },
     "metadata": {},
     "output_type": "display_data"
    },
    {
     "data": {
      "image/png": "[encoded data removed]",
      "text/plain": [
       "<Figure size 432x288 with 1 Axes>"
      ]
     },
     "metadata": {},
     "output_type": "display_data"
    },
    {
     "data": {
      "image/png": "[encoded data removed]",
      "text/plain": [
       "<Figure size 432x288 with 1 Axes>"
      ]
     },
     "metadata": {},
     "output_type": "display_data"
    },
    {
     "data": {
      "image/png": "[encoded data removed]",
      "text/plain": [
       "<Figure size 432x288 with 1 Axes>"
      ]
     },
     "metadata": {},
     "output_type": "display_data"
    },
    {
     "data": {
      "image/png": "[encoded data removed]",
      "text/plain": [
       "<Figure size 432x288 with 1 Axes>"
      ]
     },
     "metadata": {},
     "output_type": "display_data"
    },
    {
     "data": {
      "image/png": "[encoded data removed]",
      "text/plain": [
       "<Figure size 432x288 with 1 Axes>"
      ]
     },
     "metadata": {},
     "output_type": "display_data"
    },
    {
     "data": {
      "image/png": "[encoded data removed]",
      "text/plain": [
       "<Figure size 432x288 with 1 Axes>"
      ]
     },
     "metadata": {},
     "output_type": "display_data"
    },
    {
     "data": {
      "image/png": "[encoded data removed]",
      "text/plain": [
       "<Figure size 432x288 with 1 Axes>"
      ]
     },
     "metadata": {},
     "output_type": "display_data"
    },
    {
     "data": {
      "image/png": "[encoded data removed]",
      "text/plain": [
       "<Figure size 432x288 with 1 Axes>"
      ]
     },
     "metadata": {},
     "output_type": "display_data"
    },
    {
     "data": {
      "image/png": "[encoded data removed]",
      "text/plain": [
       "<Figure size 432x288 with 1 Axes>"
      ]
     },
     "metadata": {},
     "output_type": "display_data"
    },
    {
     "data": {
      "image/png": "[encoded data removed]",
      "text/plain": [
       "<Figure size 432x288 with 1 Axes>"
      ]
     },
     "metadata": {},
     "output_type": "display_data"
    },
    {
     "data": {
      "image/png": "[encoded data removed]",
      "text/plain": [
       "<Figure size 432x288 with 1 Axes>"
      ]
     },
     "metadata": {},
     "output_type": "display_data"
    },
    {
     "data": {
      "image/png": "[encoded data removed]",
      "text/plain": [
       "<Figure size 432x288 with 1 Axes>"
      ]
     },
     "metadata": {},
     "output_type": "display_data"
    },
    {
     "data": {
      "image/png": "[encoded data removed]",
      "text/plain": [
       "<Figure size 432x288 with 1 Axes>"
      ]
     },
     "metadata": {},
     "output_type": "display_data"
    },
    {
     "data": {
      "image/png": "[encoded data removed]",
      "text/plain": [
       "<Figure size 432x288 with 1 Axes>"
      ]
     },
     "metadata": {},
     "output_type": "display_data"
    },
    {
     "data": {
      "image/png": "[encoded data removed]",
      "text/plain": [
       "<Figure size 432x288 with 1 Axes>"
      ]
     },
     "metadata": {},
     "output_type": "display_data"
    },
    {
     "data": {
      "image/png": "[encoded data removed]",
      "text/plain": [
       "<Figure size 432x288 with 1 Axes>"
      ]
     },
     "metadata": {},
     "output_type": "display_data"
    },
    {
     "data": {
      "image/png": "[encoded data removed]",
      "text/plain": [
       "<Figure size 432x288 with 1 Axes>"
      ]
     },
     "metadata": {},
     "output_type": "display_data"
    },
    {
     "data": {
      "image/png": "[encoded data removed]",
      "text/plain": [
       "<Figure size 432x288 with 1 Axes>"
      ]
     },
     "metadata": {},
     "output_type": "display_data"
    },
    {
     "data": {
      "image/png": "[encoded data removed]",
      "text/plain": [
       "<Figure size 432x288 with 1 Axes>"
      ]
     },
     "metadata": {},
     "output_type": "display_data"
    },
    {
     "data": {
      "image/png": "[encoded data removed]",
      "text/plain": [
       "<Figure size 432x288 with 1 Axes>"
      ]
     },
     "metadata": {},
     "output_type": "display_data"
    },
    {
     "data": {
      "image/png": "[encoded data removed]",
      "text/plain": [
       "<Figure size 432x288 with 1 Axes>"
      ]
     },
     "metadata": {},
     "output_type": "display_data"
    },
    {
     "data": {
      "image/png": "[encoded data removed]",
      "text/plain": [
       "<Figure size 432x288 with 1 Axes>"
      ]
     },
     "metadata": {},
     "output_type": "display_data"
    },
    {
     "data": {
      "image/png": "[encoded data removed]",
      "text/plain": [
       "<Figure size 432x288 with 1 Axes>"
      ]
     },
     "metadata": {},
     "output_type": "display_data"
    },
    {
     "data": {
      "image/png": "[encoded data removed]",
      "text/plain": [
       "<Figure size 432x288 with 1 Axes>"
      ]
     },
     "metadata": {},
     "output_type": "display_data"
    },
    {
     "data": {
      "image/png": "[encoded data removed]",
      "text/plain": [
       "<Figure size 432x288 with 1 Axes>"
      ]
     },
     "metadata": {},
     "output_type": "display_data"
    },
    {
     "data": {
      "image/png": "[encoded data removed]",
      "text/plain": [
       "<Figure size 432x288 with 1 Axes>"
      ]
     },
     "metadata": {},
     "output_type": "display_data"
    },
    {
     "data": {
      "image/png": "[encoded data removed]",
      "text/plain": [
       "<Figure size 432x288 with 1 Axes>"
      ]
     },
     "metadata": {},
     "output_type": "display_data"
    },
    {
     "data": {
      "image/png": "[encoded data removed]",
      "text/plain": [
       "<Figure size 432x288 with 1 Axes>"
      ]
     },
     "metadata": {},
     "output_type": "display_data"
    },
    {
     "data": {
      "image/png": "[encoded data removed]",
      "text/plain": [
       "<Figure size 432x288 with 1 Axes>"
      ]
     },
     "metadata": {},
     "output_type": "display_data"
    },
    {
     "data": {
      "image/png": "[encoded data removed]",
      "text/plain": [
       "<Figure size 432x288 with 1 Axes>"
      ]
     },
     "metadata": {},
     "output_type": "display_data"
    },
    {
     "data": {
      "image/png": "[encoded data removed]",
      "text/plain": [
       "<Figure size 432x288 with 1 Axes>"
      ]
     },
     "metadata": {},
     "output_type": "display_data"
    },
    {
     "data": {
      "image/png": "[encoded data removed]",
      "text/plain": [
       "<Figure size 432x288 with 1 Axes>"
      ]
     },
     "metadata": {},
     "output_type": "display_data"
    },
    {
     "data": {
      "image/png": "[encoded data removed]",
      "text/plain": [
       "<Figure size 432x288 with 1 Axes>"
      ]
     },
     "metadata": {},
     "output_type": "display_data"
    },
    {
     "data": {
      "image/png": "[encoded data removed]",
      "text/plain": [
       "<Figure size 432x288 with 1 Axes>"
      ]
     },
     "metadata": {},
     "output_type": "display_data"
    },
    {
     "data": {
      "image/png": "[encoded data removed]",
      "text/plain": [
       "<Figure size 432x288 with 1 Axes>"
      ]
     },
     "metadata": {},
     "output_type": "display_data"
    },
    {
     "data": {
      "image/png": "[encoded data removed]",
      "text/plain": [
       "<Figure size 432x288 with 1 Axes>"
      ]
     },
     "metadata": {},
     "output_type": "display_data"
    },
    {
     "data": {
      "image/png": "[encoded data removed]",
      "text/plain": [
       "<Figure size 432x288 with 1 Axes>"
      ]
     },
     "metadata": {},
     "output_type": "display_data"
    },
    {
     "data": {
      "image/png": "[encoded data removed]",
      "text/plain": [
       "<Figure size 432x288 with 1 Axes>"
      ]
     },
     "metadata": {},
     "output_type": "display_data"
    },
    {
     "data": {
      "image/png": "[encoded data removed]",
      "text/plain": [
       "<Figure size 432x288 with 1 Axes>"
      ]
     },
     "metadata": {},
     "output_type": "display_data"
    },
    {
     "data": {
      "image/png": "[encoded data removed]",
      "text/plain": [
       "<Figure size 432x288 with 1 Axes>"
      ]
     },
     "metadata": {},
     "output_type": "display_data"
    },
    {
     "data": {
      "image/png": "[encoded data removed]",
      "text/plain": [
       "<Figure size 432x288 with 1 Axes>"
      ]
     },
     "metadata": {},
     "output_type": "display_data"
    },
    {
     "data": {
      "image/png": "[encoded data removed]",
      "text/plain": [
       "<Figure size 432x288 with 1 Axes>"
      ]
     },
     "metadata": {},
     "output_type": "display_data"
    },
    {
     "data": {
      "image/png": "[encoded data removed]",
      "text/plain": [
       "<Figure size 432x288 with 1 Axes>"
      ]
     },
     "metadata": {},
     "output_type": "display_data"
    }
   ],
   "source": [
    "with tf.Session() as sess:\n",
    "    tf.global_variables_initializer().run()\n",
    "    for i in range(100):\n",
    "        for start, end in zip(range(0, len(trX), 128),range(128, len(trX)+1, 128)):\n",
    "            input_ = trX[start:end]\n",
    "            mask_np = np.random.binomial(1,1 -corruption_level, input_.shape)\n",
    "            sess.run(train_op, feed_dict={X:input_,mask:mask_np})\n",
    "        mask_np = np.random.binomial(1,1-corruption_level, teX.shape) #binomial : 이항분포로 마스크 생성 : 원본이미지에 노이즈를 주기위해서 \n",
    "        \n",
    "        print(i, sess.run(cost, feed_dict={X: teX, mask:mask_np}))\n",
    "    mask_np=np.random.binomial(1,1-corruption_level, teX[:100].shape)\n",
    "    #예츷할 때 이미지에 마스크를 줌 :원본이미지를 훼손시킴 \n",
    "    predicted_imgs = sess.run(predict_op, feed_dict={X: teX[:100], mask:mask_np})\n",
    "    input_imgs = teX[:100]\n",
    "vis(predicted_imgs,'pred')\n",
    "vis(input_imgs, 'in')\n",
    "\n",
    "\n",
    "\n",
    "#훼손된 이미지로ㅠ 학습하고 예측을 했는데도 값이 잘나옴 \n"
   ]
  },
  {
   "cell_type": "markdown",
   "metadata": {},
   "source": [
    "## 판별 모델(discrimitive model)\n",
    "      - 선을 그엉서 분류를하는\n",
    "## VARIATIONAL AUTOENCODER (VAE)\n",
    "\n",
    "\n",
    "\n",
    "## GENERATIVE MODEL 생성모델\n",
    "    - 화률 평균+분산(분포)  이 분포를 잠재 변수라고 한다\n",
    "    \n",
    "## 잠재변수 ( latent variables) : 키,남자 , +> 특징 + 노이즈 \n",
    "     - 중간에  특징을 "
   ]
  },
  {
   "cell_type": "code",
   "execution_count": 55,
   "metadata": {},
   "outputs": [],
   "source": [
    "import tensorflow as tf \n",
    "from tensorflow.python.framework import ops\n",
    "ops.reset_default_graph()\n",
    "from functools import partial\n",
    "n_inputs =28*28\n",
    "n_hidden1 = 500\n",
    "n_hidden2 = 500\n",
    "n_hidden3 = 20\n",
    "n_hidden4 = n_hidden2  #자기가 자기자신으로 돌아옴\n",
    "n_hidden5 =n_hidden1 \n",
    "n_outputs =n_inputs   #입력이 출력으로 \n",
    "\n",
    "\n",
    "learning_rate = 0.001\n",
    "#scaling없이 초기화 \n",
    "initializer = tf.contrib.layers.variance_scaling_initializer()"
   ]
  },
  {
   "cell_type": "code",
   "execution_count": 63,
   "metadata": {
    "scrolled": true
   },
   "outputs": [
    {
     "name": "stdout",
     "output_type": "stream",
     "text": [
      "WARNING:tensorflow:Entity <bound method Dense.call of <tensorflow.python.layers.core.Dense object at 0x000002BE972CAC48>> could not be transformed and will be executed as-is. Please report this to the AutgoGraph team. When filing the bug, set the verbosity to 10 (on Linux, `export AUTOGRAPH_VERBOSITY=10`) and attach the full output. Cause: converting <bound method Dense.call of <tensorflow.python.layers.core.Dense object at 0x000002BE972CAC48>>: AssertionError: Bad argument number for Name: 3, expecting 4\n",
      "WARNING: Entity <bound method Dense.call of <tensorflow.python.layers.core.Dense object at 0x000002BE972CAC48>> could not be transformed and will be executed as-is. Please report this to the AutgoGraph team. When filing the bug, set the verbosity to 10 (on Linux, `export AUTOGRAPH_VERBOSITY=10`) and attach the full output. Cause: converting <bound method Dense.call of <tensorflow.python.layers.core.Dense object at 0x000002BE972CAC48>>: AssertionError: Bad argument number for Name: 3, expecting 4\n",
      "WARNING:tensorflow:Entity <bound method Dense.call of <tensorflow.python.layers.core.Dense object at 0x000002BE9FFCD088>> could not be transformed and will be executed as-is. Please report this to the AutgoGraph team. When filing the bug, set the verbosity to 10 (on Linux, `export AUTOGRAPH_VERBOSITY=10`) and attach the full output. Cause: converting <bound method Dense.call of <tensorflow.python.layers.core.Dense object at 0x000002BE9FFCD088>>: AssertionError: Bad argument number for Name: 3, expecting 4\n",
      "WARNING: Entity <bound method Dense.call of <tensorflow.python.layers.core.Dense object at 0x000002BE9FFCD088>> could not be transformed and will be executed as-is. Please report this to the AutgoGraph team. When filing the bug, set the verbosity to 10 (on Linux, `export AUTOGRAPH_VERBOSITY=10`) and attach the full output. Cause: converting <bound method Dense.call of <tensorflow.python.layers.core.Dense object at 0x000002BE9FFCD088>>: AssertionError: Bad argument number for Name: 3, expecting 4\n",
      "WARNING:tensorflow:Entity <bound method Dense.call of <tensorflow.python.layers.core.Dense object at 0x000002BEA3E79BC8>> could not be transformed and will be executed as-is. Please report this to the AutgoGraph team. When filing the bug, set the verbosity to 10 (on Linux, `export AUTOGRAPH_VERBOSITY=10`) and attach the full output. Cause: converting <bound method Dense.call of <tensorflow.python.layers.core.Dense object at 0x000002BEA3E79BC8>>: AssertionError: Bad argument number for Name: 3, expecting 4\n",
      "WARNING: Entity <bound method Dense.call of <tensorflow.python.layers.core.Dense object at 0x000002BEA3E79BC8>> could not be transformed and will be executed as-is. Please report this to the AutgoGraph team. When filing the bug, set the verbosity to 10 (on Linux, `export AUTOGRAPH_VERBOSITY=10`) and attach the full output. Cause: converting <bound method Dense.call of <tensorflow.python.layers.core.Dense object at 0x000002BEA3E79BC8>>: AssertionError: Bad argument number for Name: 3, expecting 4\n",
      "WARNING:tensorflow:Entity <bound method Dense.call of <tensorflow.python.layers.core.Dense object at 0x000002BE9FFCD088>> could not be transformed and will be executed as-is. Please report this to the AutgoGraph team. When filing the bug, set the verbosity to 10 (on Linux, `export AUTOGRAPH_VERBOSITY=10`) and attach the full output. Cause: converting <bound method Dense.call of <tensorflow.python.layers.core.Dense object at 0x000002BE9FFCD088>>: AssertionError: Bad argument number for Name: 3, expecting 4\n",
      "WARNING: Entity <bound method Dense.call of <tensorflow.python.layers.core.Dense object at 0x000002BE9FFCD088>> could not be transformed and will be executed as-is. Please report this to the AutgoGraph team. When filing the bug, set the verbosity to 10 (on Linux, `export AUTOGRAPH_VERBOSITY=10`) and attach the full output. Cause: converting <bound method Dense.call of <tensorflow.python.layers.core.Dense object at 0x000002BE9FFCD088>>: AssertionError: Bad argument number for Name: 3, expecting 4\n",
      "WARNING:tensorflow:Entity <bound method Dense.call of <tensorflow.python.layers.core.Dense object at 0x000002BE9FFE0988>> could not be transformed and will be executed as-is. Please report this to the AutgoGraph team. When filing the bug, set the verbosity to 10 (on Linux, `export AUTOGRAPH_VERBOSITY=10`) and attach the full output. Cause: converting <bound method Dense.call of <tensorflow.python.layers.core.Dense object at 0x000002BE9FFE0988>>: AssertionError: Bad argument number for Name: 3, expecting 4\n",
      "WARNING: Entity <bound method Dense.call of <tensorflow.python.layers.core.Dense object at 0x000002BE9FFE0988>> could not be transformed and will be executed as-is. Please report this to the AutgoGraph team. When filing the bug, set the verbosity to 10 (on Linux, `export AUTOGRAPH_VERBOSITY=10`) and attach the full output. Cause: converting <bound method Dense.call of <tensorflow.python.layers.core.Dense object at 0x000002BE9FFE0988>>: AssertionError: Bad argument number for Name: 3, expecting 4\n",
      "WARNING:tensorflow:Entity <bound method Dense.call of <tensorflow.python.layers.core.Dense object at 0x000002BEA0B05C08>> could not be transformed and will be executed as-is. Please report this to the AutgoGraph team. When filing the bug, set the verbosity to 10 (on Linux, `export AUTOGRAPH_VERBOSITY=10`) and attach the full output. Cause: converting <bound method Dense.call of <tensorflow.python.layers.core.Dense object at 0x000002BEA0B05C08>>: AssertionError: Bad argument number for Name: 3, expecting 4\n",
      "WARNING: Entity <bound method Dense.call of <tensorflow.python.layers.core.Dense object at 0x000002BEA0B05C08>> could not be transformed and will be executed as-is. Please report this to the AutgoGraph team. When filing the bug, set the verbosity to 10 (on Linux, `export AUTOGRAPH_VERBOSITY=10`) and attach the full output. Cause: converting <bound method Dense.call of <tensorflow.python.layers.core.Dense object at 0x000002BEA0B05C08>>: AssertionError: Bad argument number for Name: 3, expecting 4\n",
      "WARNING:tensorflow:Entity <bound method Dense.call of <tensorflow.python.layers.core.Dense object at 0x000002BE9FFE0988>> could not be transformed and will be executed as-is. Please report this to the AutgoGraph team. When filing the bug, set the verbosity to 10 (on Linux, `export AUTOGRAPH_VERBOSITY=10`) and attach the full output. Cause: converting <bound method Dense.call of <tensorflow.python.layers.core.Dense object at 0x000002BE9FFE0988>>: AssertionError: Bad argument number for Name: 3, expecting 4\n",
      "WARNING: Entity <bound method Dense.call of <tensorflow.python.layers.core.Dense object at 0x000002BE9FFE0988>> could not be transformed and will be executed as-is. Please report this to the AutgoGraph team. When filing the bug, set the verbosity to 10 (on Linux, `export AUTOGRAPH_VERBOSITY=10`) and attach the full output. Cause: converting <bound method Dense.call of <tensorflow.python.layers.core.Dense object at 0x000002BE9FFE0988>>: AssertionError: Bad argument number for Name: 3, expecting 4\n"
     ]
    }
   ],
   "source": [
    "my_dense_layer = partial(tf.layers.dense, # 매개변수 일부를 고정\n",
    "                        activation =tf.nn.elu, #exponential linear unit( -1를 고려한 relu)\n",
    "                        kernel_initializer=initializer) #activation / initializer 은 변하지않음\n",
    "X = tf.placeholder(tf.float32,[None,n_inputs])\n",
    "hidden1 = my_dense_layer(X,n_hidden1)\n",
    "hidden2 = my_dense_layer(hidden1,n_hidden2)\n",
    "\n",
    "hidden3_mean = my_dense_layer(hidden2,n_hidden3,activation = None)\n",
    "hidden3_sigma =my_dense_layer(hidden2,n_hidden3,activation = None)\n",
    "\n",
    "noise = tf.random_normal(tf.shape(hidden3_sigma),dtype = tf.float32)\n",
    "\n",
    "#평균 ,시그마(분산) * 노이즈  로 변동된 특성을 뽑아내겠디\n",
    "hidden3 = hidden3_mean + hidden3_sigma * noise #변동특성 _ #어느정도 노이즈를 감당할 수 있는 모델이된다 \n",
    "hidden4 =  my_dense_layer(hidden3,n_hidden4)\n",
    "hidden5 = my_dense_layer(hidden4,n_hidden5)  #hidden 5ㄱㅏ 자기자신 \n",
    "\n",
    "logits = my_dense_layer(hidden5,n_outputs,activation=None)\n",
    "outputs = tf.sigmoid(logits)"
   ]
  },
  {
   "cell_type": "code",
   "execution_count": 65,
   "metadata": {},
   "outputs": [],
   "source": [
    "xentropy = tf.nn.sigmoid_cross_entropy_with_logits(labels = X, logits = logits) #입력값 ==출력값\n",
    "#재구축 손실\n",
    "reconstruction_loss = tf.reduce_sum(xentropy)\n",
    "eps = 1e-10\n",
    "#epsilon 상수 : 로그의 성질 : 0이면 무한대 \n",
    "#epsilon 상수 :  부동소수점을 비교 0.0001 : 차가 0.0001이하면 같은 것으로 본다 \n",
    "#cost funtion :                         시그마 제곱                      평균제곱         #log likligood 우도확률\n",
    "# 지연손실(확률분포 곡선을)\n",
    "latent_loss = 0.5 * tf.reduce_sum(tf.square(hidden3_sigma) + tf.square(hidden3_mean)-1 -tf.log(eps+tf.square(hidden3_sigma)))\n",
    "\n",
    "loss = reconstruction_loss + latent_loss\n",
    "\n",
    "optimizer =tf.train.AdamOptimizer(learning_rate = learning_rate)\n",
    "\n",
    "training_op = optimizer.minimize(loss)\n",
    "\n",
    "init =tf.global_variables_initializer()"
   ]
  },
  {
   "cell_type": "code",
   "execution_count": 73,
   "metadata": {},
   "outputs": [
    {
     "name": "stdout",
     "output_type": "stream",
     "text": [
      "0 Train total loss:  28406.139 \tReconstruction loss:  24281.5 \tLatent loss :  4124.638\n",
      "1 Train total loss:  32128.396 \tReconstruction loss:  25147.299 \tLatent loss :  6981.097\n",
      "2 Train total loss:  26742.912 \tReconstruction loss:  22333.68 \tLatent loss :  4409.232\n",
      "3 Train total loss:  36265.938 \tReconstruction loss:  26649.941 \tLatent loss :  9615.997\n",
      "4 Train total loss:  24153.479 \tReconstruction loss:  19829.607 \tLatent loss :  4323.871\n",
      "5 Train total loss:  22280.166 \tReconstruction loss:  18746.887 \tLatent loss :  3533.2795\n",
      "6 Train total loss:  19156.84 \tReconstruction loss:  16073.25 \tLatent loss :  3083.5903\n",
      "7 Train total loss:  18392.66 \tReconstruction loss:  15490.973 \tLatent loss :  2901.6885\n",
      "89% Train total loss:  16992.938 \tReconstruction loss:  13920.748 \tLatent loss :  3072.1887\n",
      "9 Train total loss:  16726.492 \tReconstruction loss:  13515.414 \tLatent loss :  3211.079\n",
      "10 Train total loss:  16273.116 \tReconstruction loss:  13088.865 \tLatent loss :  3184.251\n",
      "11 Train total loss:  16790.043 \tReconstruction loss:  13474.697 \tLatent loss :  3315.345\n",
      "12 Train total loss:  16162.72 \tReconstruction loss:  12917.057 \tLatent loss :  3245.663\n",
      "13 Train total loss:  16202.809 \tReconstruction loss:  12878.281 \tLatent loss :  3324.5269\n",
      "14 Train total loss:  15915.682 \tReconstruction loss:  12719.589 \tLatent loss :  3196.0923\n",
      "15 Train total loss:  16181.539 \tReconstruction loss:  12605.056 \tLatent loss :  3576.483\n",
      "16 Train total loss:  16775.344 \tReconstruction loss:  13486.717 \tLatent loss :  3288.6272\n",
      "17 Train total loss:  21078.23 \tReconstruction loss:  17113.615 \tLatent loss :  3964.6162\n",
      "18 Train total loss:  24515.658 \tReconstruction loss:  20104.223 \tLatent loss :  4411.4355\n",
      "19 Train total loss:  24699.838 \tReconstruction loss:  19503.494 \tLatent loss :  5196.3438\n",
      "20 Train total loss:  22733.18 \tReconstruction loss:  19233.37 \tLatent loss :  3499.8105\n",
      "21 Train total loss:  27885.646 \tReconstruction loss:  21095.994 \tLatent loss :  6789.6523\n",
      "22% Train total loss:  22930.717 \tReconstruction loss:  19767.812 \tLatent loss :  3162.9038\n",
      "23 Train total loss:  18888.14 \tReconstruction loss:  15749.682 \tLatent loss :  3138.4595\n",
      "24 Train total loss:  16675.93 \tReconstruction loss:  13570.621 \tLatent loss :  3105.308\n",
      "25 Train total loss:  16861.225 \tReconstruction loss:  13551.852 \tLatent loss :  3309.3735\n",
      "26 Train total loss:  16949.125 \tReconstruction loss:  13625.91 \tLatent loss :  3323.215\n",
      "27 Train total loss:  16308.903 \tReconstruction loss:  12951.684 \tLatent loss :  3357.2195\n",
      "28 Train total loss:  16426.63 \tReconstruction loss:  13089.6045 \tLatent loss :  3337.0261\n",
      "29 Train total loss:  16195.652 \tReconstruction loss:  12848.881 \tLatent loss :  3346.772\n",
      "30 Train total loss:  15768.396 \tReconstruction loss:  12416.234 \tLatent loss :  3352.1616\n",
      "31 Train total loss:  15829.604 \tReconstruction loss:  12523.426 \tLatent loss :  3306.1782\n",
      "32 Train total loss:  15699.811 \tReconstruction loss:  12157.401 \tLatent loss :  3542.4097\n",
      "33 Train total loss:  16742.734 \tReconstruction loss:  13326.027 \tLatent loss :  3416.7078\n",
      "34 Train total loss:  15591.41 \tReconstruction loss:  12140.826 \tLatent loss :  3450.5837\n",
      "35 Train total loss:  15328.711 \tReconstruction loss:  12117.096 \tLatent loss :  3211.6157\n",
      "36 Train total loss:  16073.225 \tReconstruction loss:  12449.328 \tLatent loss :  3623.8965\n",
      "37% Train total loss:  16115.739 \tReconstruction loss:  12413.744 \tLatent loss :  3701.9954\n",
      "38 Train total loss:  16951.426 \tReconstruction loss:  13152.668 \tLatent loss :  3798.757\n",
      "39 Train total loss:  27736.8 \tReconstruction loss:  22529.52 \tLatent loss :  5207.2803\n",
      "40 Train total loss:  30825.98 \tReconstruction loss:  24499.277 \tLatent loss :  6326.703\n",
      "41 Train total loss:  24604.383 \tReconstruction loss:  19540.11 \tLatent loss :  5064.2734\n",
      "42 Train total loss:  22611.96 \tReconstruction loss:  18787.543 \tLatent loss :  3824.418\n",
      "43 Train total loss:  18651.53 \tReconstruction loss:  15499.342 \tLatent loss :  3152.1882\n",
      "44 Train total loss:  17616.66 \tReconstruction loss:  14166.43 \tLatent loss :  3450.2307\n",
      "45 Train total loss:  17068.807 \tReconstruction loss:  13726.414 \tLatent loss :  3342.3928\n",
      "46 Train total loss:  16162.82 \tReconstruction loss:  12756.34 \tLatent loss :  3406.48\n",
      "47 Train total loss:  16370.756 \tReconstruction loss:  12859.741 \tLatent loss :  3511.0151\n",
      "48 Train total loss:  15497.583 \tReconstruction loss:  12052.838 \tLatent loss :  3444.7449\n",
      "49 Train total loss:  16206.391 \tReconstruction loss:  12717.531 \tLatent loss :  3488.8599\n"
     ]
    }
   ],
   "source": [
    "import sys\n",
    "n_digis = 60\n",
    "n_epochs = 50\n",
    "batch_size = 150\n",
    "with tf.Session() as sess:\n",
    "    init.run()\n",
    "    for epoch in range(n_epochs) :\n",
    "        n_batches = mnist.train.num_examples // batch_size\n",
    "        for iteration in range(n_batches):\n",
    "            print(\"\\r{}%\".format(100 * iteration // n_batches),\n",
    "                 end = '')\n",
    "            sys.stdout.flush()\n",
    "            X_batch, y_batch = mnist.train.next_batch(batch_size)\n",
    "            sess.run(training_op, feed_dict = {X:X_batch})\n",
    "        loss_val , reconstruction_loss_val, latent_loss_val = sess.run([loss, reconstruction_loss , latent_loss], feed_dict={X:X_batch})\n",
    "        print(\"\\r{}\".format(epoch), 'Train total loss: ', loss_val, '\\tReconstruction loss: ',\n",
    "             reconstruction_loss_val, '\\tLatent loss : ', latent_loss_val)\n",
    "        codings_rnd = np.random.normal(size = [n_digis, n_hidden3])\n",
    "        outputs_val = outputs.eval(feed_dict={hidden3: codings_rnd})\n",
    "        \n",
    "# 가중치를 통과한 데이터 ( tset ) : 모델 완성\n",
    "# PCA처럼 비지도학습의 특성으로 추출된 데이터 ( 분류와 예측이 잘되기 위해서 함 )"
   ]
  },
  {
   "cell_type": "code",
   "execution_count": null,
   "metadata": {},
   "outputs": [],
   "source": []
  },
  {
   "cell_type": "code",
   "execution_count": null,
   "metadata": {},
   "outputs": [],
   "source": []
  },
  {
   "cell_type": "code",
   "execution_count": null,
   "metadata": {},
   "outputs": [],
   "source": []
  },
  {
   "cell_type": "code",
   "execution_count": null,
   "metadata": {},
   "outputs": [],
   "source": []
  },
  {
   "cell_type": "code",
   "execution_count": null,
   "metadata": {},
   "outputs": [],
   "source": []
  },
  {
   "cell_type": "code",
   "execution_count": null,
   "metadata": {},
   "outputs": [],
   "source": []
  }
 ],
 "metadata": {
  "kernelspec": {
   "display_name": "Python 3",
   "language": "python",
   "name": "python3"
  },
  "language_info": {
   "codemirror_mode": {
    "name": "ipython",
    "version": 3
   },
   "file_extension": ".py",
   "mimetype": "text/x-python",
   "name": "python",
   "nbconvert_exporter": "python",
   "pygments_lexer": "ipython3",
   "version": "3.7.6"
  }
 },
 "nbformat": 4,
 "nbformat_minor": 4
}
