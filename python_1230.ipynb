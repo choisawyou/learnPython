{
 "cells": [
  {
   "cell_type": "markdown",
   "metadata": {},
   "source": [
    "# 객체 지향 프로그래밍 (class(형태) = > (instance: 메모리 확보) =>object(객체))\n",
    "\n",
    "-class : 멤버변수 (속성)  + 멤버함수  (공유되어짐)\n",
    "- 인스턴스 할 때 멤버변수 (속성)를 저장하는 공간만 확보 \n",
    "-"
   ]
  },
  {
   "cell_type": "code",
   "execution_count": null,
   "metadata": {},
   "outputs": [],
   "source": [
    "width = 10\n",
    "height = 20\n",
    "\n",
    "area = 10* 20 /2\n",
    "\n",
    "print(\"삼각형의 넓이는 : area\")  #프린트에서 앞에 설명없이는 어떤 값에대한 높이와 width인지 모른다\n"
   ]
  },
  {
   "cell_type": "code",
   "execution_count": null,
   "metadata": {},
   "outputs": [],
   "source": [
    "class Triangle:  #class이름\n",
    "    def setData(self,width,height):  #함수를 이용한 초기화 \n",
    "        self.width =width\n",
    "        self.height = height #여기까지 메모리 확보 \n",
    "    def area(self):   #self를 반드시 붙여줘야함  # 매개변수 취급은 안함 \n",
    "        return self.width*self.height /2 \n",
    "tri1= Triangle()    #이부분이 '인스턴스를 하는 것'  _ ()함수처럼 한다\n",
    "tri1.setData(10,20) #실시간으로 변수공간 확보 \n",
    "print(tri1.width,tri1.height,tri1.area())"
   ]
  },
  {
   "cell_type": "code",
   "execution_count": null,
   "metadata": {},
   "outputs": [],
   "source": [
    "#__init__: Object에 있는 함수 (상속 : 클래스를 생성하면 자동으로 상속)\n",
    "class Triangle: \n",
    "    def __init__(self,width,height): #첫번째 slef는 어떤 함수든 다 들어감   #초기화함수 , 생성자, 강제로  호출불가한 함수 \n",
    "        self.width =width\n",
    "        self.height = height \n",
    "    def area(self):    \n",
    "        return self.width*self.height /2 \n",
    "#tri1= Triangle()    \n",
    "tri1.setData(10,20) #매개변수 갯수만큼 값을 넣어줌 _ 인스턴스할 때\n",
    "#tri1.__init(10,20) 불가 > 인스턴스할 때 자동으로 호출 \n",
    "print(tri1.width,tri1.height,tri1.area())"
   ]
  },
  {
   "cell_type": "code",
   "execution_count": null,
   "metadata": {},
   "outputs": [],
   "source": [
    "#클래스 변수, 멤버변수 , 지역변수\n",
    "\n",
    "class MyClass(object):   #선언하는 순간에 메모리에 자리를 잡음\n",
    "    \"\"\"클래스의 예\"\"\"\n",
    "    i = 12345 #함수 외부에서 선언 _ 클래스변수 , 공용변수\n",
    "    def __init__(self):\n",
    "        self.i = 54321   #slef가 붙으면 _ 멤버변수 #실행후에도 남아있음 \n",
    "        num = 100        #slef도 붙지않고, 함수 내부에 있는 것은 _ 지역변수  _ 실행 후 메모리에서 소멸\n",
    "    def f(self):\n",
    "        return self.i\n",
    "\n",
    "MyClass.__doc__   #__doc__ 는 object의 속성"
   ]
  },
  {
   "cell_type": "code",
   "execution_count": null,
   "metadata": {},
   "outputs": [],
   "source": [
    "print(MyClass.i) #인스턴스하지않고도 호출가능 #인스턴스 하기전의 결과\n",
    "    "
   ]
  },
  {
   "cell_type": "code",
   "execution_count": null,
   "metadata": {},
   "outputs": [],
   "source": [
    "#인스턴스 후\n",
    "myclass = MyClass() #self.i에 대한 메모리 확보\n",
    "print(myclass.i)   #멤버변수 호출 \n",
    "myclass.f()"
   ]
  },
  {
   "cell_type": "code",
   "execution_count": null,
   "metadata": {},
   "outputs": [],
   "source": [
    "print(MyClass.i)\n",
    "print(MyClass().i)  #참조가 없기 때문에 사용과 동시에 메모리에서 사라짐"
   ]
  },
  {
   "cell_type": "code",
   "execution_count": null,
   "metadata": {},
   "outputs": [],
   "source": [
    "from time import time,ctime,sleep #시간은 초로 관리 ctiime (문자열로 co\\nvert)\n",
    "class Life:\n",
    "    def __init__(self):   #생성자\n",
    "        self.birth=ctime()  #현재의 시간을 문자열로 변환해서 출력\n",
    "        print (\"생성 \", self.birth)\n",
    "    def __del__(self):   #소멸자 ( 메모리에서 사라질 때 자동으로 호출)\n",
    "        print('사망',ctime())\n",
    "    def test(self):\n",
    "        #mylife = Life()\n",
    "        print('sleeping for 3 sec')\n",
    "        sleep(3)  #3초\n",
    "li = Life()  #life의 오른쪽은 heep에 저장, 왼쪽은 그 주소를 가리키는 stack에 생성\n",
    "li.test()  \n",
    "del li  #자동으로 가비지 컬렉션됨\n",
    "        \n"
   ]
  },
  {
   "cell_type": "code",
   "execution_count": null,
   "metadata": {},
   "outputs": [],
   "source": [
    "#사원관리\n",
    "\n",
    "class Employee:\n",
    "    empCount = 0  #사원수를 저장 #공유변수 \n",
    "    def __init__(self,name,salary):\n",
    "        self.name = name #이름  _ 멤버변수\n",
    "        self.salary = salary #급여 _ 멤버변수\n",
    "        Employee.empCount+=1\n",
    "    def displayCount(self):\n",
    "        print('직원수 = %d'%Employee.empCount)\n",
    "    def displayEmployee(self):\n",
    "        print('이름 :' , self.name, ' , 급여 :' , self.salary )\n",
    "    def __call__(self, *pargs,**kargs):\n",
    "        print(\"Called \", pargs, kargs)"
   ]
  },
  {
   "cell_type": "code",
   "execution_count": null,
   "metadata": {},
   "outputs": [],
   "source": [
    "emp = Employee('김종호',500)\n",
    "print(emp.displayCount()) #1이라고 출력\n",
    "emp1 = Employee('빅데타',500)\n",
    "print(emp1.displayCount()) #2를 출력 \n",
    "print(emp.displayCount()) #2  #공유변수이기 때문에 emp에 display count 를 해도 2가 나옴 \n",
    "print(emp.displayEmployee()) #데이터를 담고있는 위치가 다르기 때문\n",
    "print(emp1.displayEmployee())\n",
    "print(emp( '빅데타', 500,100, ㅊ = 100)) #클래스를 함수처럼 사용하고싶을 때 \n"
   ]
  },
  {
   "cell_type": "code",
   "execution_count": null,
   "metadata": {},
   "outputs": [],
   "source": [
    "#실시간 변수 추가 가능\n",
    "emp1.age = 7\n",
    "emp.age = 8"
   ]
  },
  {
   "cell_type": "code",
   "execution_count": null,
   "metadata": {},
   "outputs": [],
   "source": [
    "print(emp1.age)"
   ]
  },
  {
   "cell_type": "code",
   "execution_count": null,
   "metadata": {},
   "outputs": [],
   "source": [
    "print(emp.__dict__) #오브젝트 상속"
   ]
  },
  {
   "cell_type": "code",
   "execution_count": null,
   "metadata": {},
   "outputs": [],
   "source": [
    "print(Employee.empCount)"
   ]
  },
  {
   "cell_type": "code",
   "execution_count": null,
   "metadata": {},
   "outputs": [],
   "source": [
    "print(dir(emp))"
   ]
  },
  {
   "cell_type": "code",
   "execution_count": null,
   "metadata": {},
   "outputs": [],
   "source": [
    "#문제 1 Q\n",
    "-이름과 나이를 저장하는 Student class 를 생성하시오\n",
    "-이름과 나이룰 출력하는 print 함수를 클래스 내에 정의하시오"
   ]
  },
  {
   "cell_type": "code",
   "execution_count": null,
   "metadata": {},
   "outputs": [],
   "source": [
    "#문제 1 A\n",
    "\n",
    "class Student:   #사용자 정의 데이터 타입\n",
    "    \"\"\"학생관리\"\"\"\n",
    "    def __init__(self,name,age):\n",
    "        self.full_name = name\n",
    "        self.age  = age\n",
    "    def print(self):\n",
    "        print('이름',self.full_name,'나이:',self.age)\n",
    "    def __repr__(self):  #__str__\n",
    "        return '나의 이름은:'+self.full_name\n",
    "    "
   ]
  },
  {
   "cell_type": "code",
   "execution_count": null,
   "metadata": {},
   "outputs": [],
   "source": [
    "f = Student('다함께', 23)\n",
    "f.print()"
   ]
  },
  {
   "cell_type": "code",
   "execution_count": null,
   "metadata": {},
   "outputs": [],
   "source": [
    "print(f)"
   ]
  },
  {
   "cell_type": "code",
   "execution_count": null,
   "metadata": {},
   "outputs": [],
   "source": [
    "#object로부터 상속을 받았지만 그중 class는 \n",
    "print(f.__class__)  #어떤 class에서 instance되었는지  확인 "
   ]
  },
  {
   "cell_type": "code",
   "execution_count": null,
   "metadata": {},
   "outputs": [],
   "source": [
    "#Student()\n",
    "g = f.__class__('김종호',34)#인스턴스된 변수로 부터 클래스 생성\n",
    "print(g)"
   ]
  },
  {
   "cell_type": "code",
   "execution_count": 18,
   "metadata": {},
   "outputs": [],
   "source": [
    "import math\n",
    "#1개를 다루는 클래스를 작성하고 있지만 거리값은 두개를 이용 \n",
    "class Point:\n",
    "    def __init__(self,x,y): #생성자 \n",
    "        self.x =x    #멤벼변수 = 매개변수 \n",
    "        self.y =y    # 소멸 x     소멸 o\n",
    "    def __str__(self): #__repr__:문자열을 요구하는 함수에 들어가면\n",
    "        return \"좌표는 (%d, %d)\"%(self.x, self.y)\n",
    "    def dist(self, other):\n",
    "        distance = math.sqrt((self.x -other.x)**2 +(self.y - other.y)**2)\n",
    "        return distance\n",
    "    def collision(self,other):\n",
    "        return self.dist(other) < 3   #거리값이 3보다 작으면 충돌 \n",
    "    \n",
    "    \n",
    "    "
   ]
  },
  {
   "cell_type": "code",
   "execution_count": 19,
   "metadata": {},
   "outputs": [
    {
     "name": "stdout",
     "output_type": "stream",
     "text": [
      "좌표는 (7, 3)\n",
      "좌표는 (4, 7)\n"
     ]
    }
   ],
   "source": [
    "first = Point(7,3)\n",
    "second = Point(4,7)\n",
    "print(first)\n",
    "print(second)"
   ]
  },
  {
   "cell_type": "code",
   "execution_count": 21,
   "metadata": {},
   "outputs": [
    {
     "name": "stdout",
     "output_type": "stream",
     "text": [
      "두 점 사이의 거리는 = 5.0\n",
      "충돌하지않았습니다\n"
     ]
    }
   ],
   "source": [
    "print('두 점 사이의 거리는 =',first.dist(second))\n",
    "if first.collision(second):\n",
    "    print('충돌했습니다')\n",
    "else:\n",
    "    print('충돌하지않았습니다')"
   ]
  },
  {
   "cell_type": "markdown",
   "metadata": {},
   "source": [
    "#문제 : Point 클래스를 이용하여 Circle 클래스를 정의하시오\n",
    "\n",
    "-원 : 중심점(point)과 반지름\n",
    "-원과 원의 충돌 여부를 확인하는 함수를 작성하시오\n"
   ]
  },
  {
   "cell_type": "code",
   "execution_count": null,
   "metadata": {},
   "outputs": [],
   "source": [
    "#센터는 포인트\n",
    "class circle:\n",
    "    def __init__(self,center,radius):-\n",
    "        self.center = center\n",
    "        self.radius = radius\n",
    "    def __repr__(self):# 문자열 캐스팅 \n",
    "        return '원의 중심은 :' + str(self.center) + '반지름은' + str(self.radius)\n",
    "    def collision (self,other):\n",
    "        if self.center.dist(other.center) < self.radius + other.radius:\n",
    "            result = '충돌한다'\n",
    "        else:\n",
    "            return '충돌하지않는다'\n",
    "        return result"
   ]
  },
  {
   "cell_type": "code",
   "execution_count": null,
   "metadata": {},
   "outputs": [],
   "source": [
    "cir = circle(first,1)\n",
    "cir2 = circle(second,5)\n",
    "print(cir)\n",
    "print(cir2)"
   ]
  },
  {
   "cell_type": "code",
   "execution_count": null,
   "metadata": {},
   "outputs": [],
   "source": [
    "print(cir.collision(cir2))\n",
    "circle.collision(cir,cir2)"
   ]
  },
  {
   "cell_type": "code",
   "execution_count": null,
   "metadata": {},
   "outputs": [],
   "source": [
    "#문제 \n",
    "#point 를 이용해서 사각형 Rectangle 클래스를 작성하시오\n",
    "-사각형의 면적을 구하는 함수를 작성하시오\n",
    "-사각형의 둘레를 구하는 함수를 작성하시오\n",
    "-대각선의 길이를 구하는 함수를 작성하시오"
   ]
  },
  {
   "cell_type": "code",
   "execution_count": null,
   "metadata": {},
   "outputs": [],
   "source": [
    "class Rectangle:\n",
    "    def __init__(self,po1,po2): #po1=Point() 매핑\n",
    "        self.po1 = po1 \n",
    "        self.po2 = po2\n",
    "    def area(self):\n",
    "        result = abs((po1.x - po2.x) *(po1.y - po2.y))\n",
    "        return result\n",
    "    def perimeter(self):\n",
    "        abs((po1.x - po2.x) *2 + (po1.y - po2.y)) *2\n",
    "    def diagonal_dist(self):\n",
    "        result = math.sqrt((po1.x - po2.x)**2 + (po1.y - po2.y)**2)\n",
    "        "
   ]
  },
  {
   "cell_type": "code",
   "execution_count": 17,
   "metadata": {},
   "outputs": [
    {
     "ename": "IndentationError",
     "evalue": "unindent does not match any outer indentation level (<tokenize>, line 8)",
     "output_type": "error",
     "traceback": [
      "\u001b[1;36m  File \u001b[1;32m\"<tokenize>\"\u001b[1;36m, line \u001b[1;32m8\u001b[0m\n\u001b[1;33m    |A| = math.sqrt(x^2 + y^2)\u001b[0m\n\u001b[1;37m    ^\u001b[0m\n\u001b[1;31mIndentationError\u001b[0m\u001b[1;31m:\u001b[0m unindent does not match any outer indentation level\n"
     ]
    }
   ],
   "source": [
    "#문제 \n",
    "#Vector class 를 작성하시오\n",
    "- x , y 의 2차원 벡터 구현\n",
    "-벡터의 연산 (+,-,*,/)\n",
    "-dot함수를 구현하시오 : 벡터의 요소별로 곱하고 모두 더해주면 내적 유사도 \n",
    "- cos값으로 변환하는 함수를 구현하시오\n",
    "        cos theta = acos( A내적 B/|A||B|)\n",
    "    |A| = math.sqrt(x^2 + y^2)"
   ]
  },
  {
   "cell_type": "code",
   "execution_count": 15,
   "metadata": {},
   "outputs": [],
   "source": [
    "class Vector:\n",
    "    def __init__(self,x,y):\n",
    "        self.x = x\n",
    "        self.y = y\n",
    "    def __repr__(self):\n",
    "        return '(좌표는 %d,%d)' %(self.x,self.y)\n",
    "    def __add__(self,other): # 연산자 오버로딩을 오버라이딩으로 구현한 것\n",
    "        return Vector(self.x+other.x,self.y + other.y)\n",
    "    def __mul__(self,other):\n",
    "        return Vector(self.x*other.x,self.y *other.y)\n",
    "    def __sub__(self,other):\n",
    "        return Vector(self.x-other.x,self.y -other.y)\n",
    "    def __truediv__ (self,other):\n",
    "        return Vector(self.x/other.x,self.y / other.y)\n",
    "        "
   ]
  },
  {
   "cell_type": "code",
   "execution_count": 8,
   "metadata": {},
   "outputs": [
    {
     "name": "stdout",
     "output_type": "stream",
     "text": [
      "(좌표는 10,23)\n",
      "(좌표는 20,46)\n",
      "(좌표는 30,50)\n",
      "(좌표는 200,621)\n",
      "(좌표는 0,0)\n",
      "(좌표는 -10,-4)\n"
     ]
    }
   ],
   "source": [
    "f = Vector(10,23)\n",
    "g = Vector(20,27)\n",
    "print(f)\n",
    "print(f+f)\n",
    "print(f+g)\n",
    "print(f*g)\n",
    "print(f / g)\n",
    "print(f-g)"
   ]
  },
  {
   "cell_type": "code",
   "execution_count": 9,
   "metadata": {},
   "outputs": [],
   "source": [
    "#문제\n",
    "#3차원 벡터를 클래스로 구현하시오 ( 연산자 오버로딩 +,-,*,/)"
   ]
  },
  {
   "cell_type": "code",
   "execution_count": 27,
   "metadata": {},
   "outputs": [],
   "source": [
    "class Vector:\n",
    "    def __init__(self,x,y,z):\n",
    "        self.x = x\n",
    "        self.y = y\n",
    "        self.z = z\n",
    "    def __repr__(self):\n",
    "        return '(좌표는 %d,%d,%d)' %(self.x,self.y,self.z)\n",
    "    def __add__(self,other): # 연산자 오버로딩을 오버라이딩으로 구현한 것\n",
    "        return Vector(self.x+other.x,self.y + other.y,self.z+other.z)\n",
    "    def __mul__(self,other):\n",
    "        return Vector(self.x*other.x,self.y *other.y,self.z*other.z)\n",
    "    def __sub__(self,other):\n",
    "        return Vector(self.x-other.x,self.y -other.y,self.z-other.z)\n",
    "    def __truediv__ (self,other):\n",
    "        return Vector(self.x/other.x,self.y / other.y,self.z/other.z)\n",
    "    def dist (self):\n",
    "        return math.sqrt(self.x*self.x+ self.y *self.y + self.z *self.z)\n",
    "    def norm(self):\n",
    "        dist =self.dist()\n",
    "        return self.x/dist, self.y/dist,self.z/dist\n",
    "    def dot(self,other):\n",
    "        return (self.x *other.x + self.y * other.t + self.z*other.z)\n",
    "    def theta(self,other):\n",
    "        dot = self.dot(other)\n",
    "        dist1 = self.dot(other)\n",
    "        dist2 = other.dist()  #radian => degree 로 (컴퓨터는 라디안만 사용) #라디안은 호의길이 \n",
    "        return math.acos(dot/(dist1*dist2))*(180/math.pi) #라디안 => 디그리로 변경\n",
    "#변환과정이 필요 => 사람이 사용하는 각도 입력 (90) => 라디안 변환(math.pi/180)\n",
    "#=>계산후 => 사람이 사용하는 degree 로 변환해서 출력 (180/math.pi)\n",
    "        \n",
    "    "
   ]
  },
  {
   "cell_type": "code",
   "execution_count": 11,
   "metadata": {},
   "outputs": [
    {
     "name": "stdout",
     "output_type": "stream",
     "text": [
      "(좌표는 10,23,55)\n",
      "(좌표는 20,46,110)\n",
      "(좌표는 30,50,111)\n",
      "(좌표는 200,621,3080)\n",
      "(좌표는 0,0,0)\n",
      "(좌표는 -10,-4,-1)\n"
     ]
    }
   ],
   "source": [
    "f = Vector(10,23,55)\n",
    "g = Vector(20,27,56)\n",
    "print(f)\n",
    "print(f+f)\n",
    "print(f+g)\n",
    "print(f*g)\n",
    "print(f / g)\n",
    "print(f-g)"
   ]
  },
  {
   "cell_type": "code",
   "execution_count": 28,
   "metadata": {},
   "outputs": [
    {
     "name": "stdout",
     "output_type": "stream",
     "text": [
      "(좌표는 10,0,0)\n",
      "(좌표는 20,0,0)\n",
      "(좌표는 10,-27,0)\n",
      "(좌표는 0,0,0)\n",
      "f벡터의 크기 = 10.0\n",
      "g벡터의 크기 = 27.0\n",
      "f의  normal vector =  (1.0, 0.0, 0.0)\n",
      "g의  normal vector =  (0.0, 1.0, 0.0)\n"
     ]
    },
    {
     "ename": "AttributeError",
     "evalue": "'Vector' object has no attribute 't'",
     "output_type": "error",
     "traceback": [
      "\u001b[1;31m---------------------------------------------------------------------------\u001b[0m",
      "\u001b[1;31mAttributeError\u001b[0m                            Traceback (most recent call last)",
      "\u001b[1;32m<ipython-input-28-0040f933897e>\u001b[0m in \u001b[0;36m<module>\u001b[1;34m\u001b[0m\n\u001b[0;32m     10\u001b[0m \u001b[0mprint\u001b[0m\u001b[1;33m(\u001b[0m\u001b[1;34m'f의  normal vector = '\u001b[0m\u001b[1;33m,\u001b[0m \u001b[0mf\u001b[0m\u001b[1;33m.\u001b[0m\u001b[0mnorm\u001b[0m\u001b[1;33m(\u001b[0m\u001b[1;33m)\u001b[0m\u001b[1;33m)\u001b[0m\u001b[1;33m\u001b[0m\u001b[1;33m\u001b[0m\u001b[0m\n\u001b[0;32m     11\u001b[0m \u001b[0mprint\u001b[0m\u001b[1;33m(\u001b[0m\u001b[1;34m'g의  normal vector = '\u001b[0m\u001b[1;33m,\u001b[0m \u001b[0mg\u001b[0m\u001b[1;33m.\u001b[0m\u001b[0mnorm\u001b[0m\u001b[1;33m(\u001b[0m\u001b[1;33m)\u001b[0m\u001b[1;33m)\u001b[0m\u001b[1;33m\u001b[0m\u001b[1;33m\u001b[0m\u001b[0m\n\u001b[1;32m---> 12\u001b[1;33m \u001b[0mprint\u001b[0m\u001b[1;33m(\u001b[0m\u001b[1;34m'두벡터의 내적  ='\u001b[0m\u001b[1;33m,\u001b[0m \u001b[0mg\u001b[0m\u001b[1;33m.\u001b[0m\u001b[0mdot\u001b[0m\u001b[1;33m(\u001b[0m\u001b[0mf\u001b[0m\u001b[1;33m)\u001b[0m\u001b[1;33m)\u001b[0m  \u001b[1;31m#내적이 -이면 두벡터는 90도 직교한다\u001b[0m\u001b[1;33m\u001b[0m\u001b[1;33m\u001b[0m\u001b[0m\n\u001b[0m\u001b[0;32m     13\u001b[0m \u001b[0mprint\u001b[0m\u001b[1;33m(\u001b[0m\u001b[1;34m'f와 g의 사이각은 '\u001b[0m\u001b[1;33m,\u001b[0m \u001b[0mf\u001b[0m\u001b[1;33m.\u001b[0m\u001b[0mtheta\u001b[0m\u001b[1;33m(\u001b[0m\u001b[0mg\u001b[0m\u001b[1;33m)\u001b[0m\u001b[1;33m)\u001b[0m \u001b[1;31m#90\u001b[0m\u001b[1;33m\u001b[0m\u001b[1;33m\u001b[0m\u001b[0m\n",
      "\u001b[1;32m<ipython-input-27-2afeb40399f8>\u001b[0m in \u001b[0;36mdot\u001b[1;34m(self, other)\u001b[0m\n\u001b[0;32m     20\u001b[0m         \u001b[1;32mreturn\u001b[0m \u001b[0mself\u001b[0m\u001b[1;33m.\u001b[0m\u001b[0mx\u001b[0m\u001b[1;33m/\u001b[0m\u001b[0mdist\u001b[0m\u001b[1;33m,\u001b[0m \u001b[0mself\u001b[0m\u001b[1;33m.\u001b[0m\u001b[0my\u001b[0m\u001b[1;33m/\u001b[0m\u001b[0mdist\u001b[0m\u001b[1;33m,\u001b[0m\u001b[0mself\u001b[0m\u001b[1;33m.\u001b[0m\u001b[0mz\u001b[0m\u001b[1;33m/\u001b[0m\u001b[0mdist\u001b[0m\u001b[1;33m\u001b[0m\u001b[1;33m\u001b[0m\u001b[0m\n\u001b[0;32m     21\u001b[0m     \u001b[1;32mdef\u001b[0m \u001b[0mdot\u001b[0m\u001b[1;33m(\u001b[0m\u001b[0mself\u001b[0m\u001b[1;33m,\u001b[0m\u001b[0mother\u001b[0m\u001b[1;33m)\u001b[0m\u001b[1;33m:\u001b[0m\u001b[1;33m\u001b[0m\u001b[1;33m\u001b[0m\u001b[0m\n\u001b[1;32m---> 22\u001b[1;33m         \u001b[1;32mreturn\u001b[0m \u001b[1;33m(\u001b[0m\u001b[0mself\u001b[0m\u001b[1;33m.\u001b[0m\u001b[0mx\u001b[0m \u001b[1;33m*\u001b[0m\u001b[0mother\u001b[0m\u001b[1;33m.\u001b[0m\u001b[0mx\u001b[0m \u001b[1;33m+\u001b[0m \u001b[0mself\u001b[0m\u001b[1;33m.\u001b[0m\u001b[0my\u001b[0m \u001b[1;33m*\u001b[0m \u001b[0mother\u001b[0m\u001b[1;33m.\u001b[0m\u001b[0mt\u001b[0m \u001b[1;33m+\u001b[0m \u001b[0mself\u001b[0m\u001b[1;33m.\u001b[0m\u001b[0mz\u001b[0m\u001b[1;33m*\u001b[0m\u001b[0mother\u001b[0m\u001b[1;33m.\u001b[0m\u001b[0mz\u001b[0m\u001b[1;33m)\u001b[0m\u001b[1;33m\u001b[0m\u001b[1;33m\u001b[0m\u001b[0m\n\u001b[0m\u001b[0;32m     23\u001b[0m     \u001b[1;32mdef\u001b[0m \u001b[0mtheta\u001b[0m\u001b[1;33m(\u001b[0m\u001b[0mself\u001b[0m\u001b[1;33m,\u001b[0m\u001b[0mother\u001b[0m\u001b[1;33m)\u001b[0m\u001b[1;33m:\u001b[0m\u001b[1;33m\u001b[0m\u001b[1;33m\u001b[0m\u001b[0m\n\u001b[0;32m     24\u001b[0m         \u001b[0mdot\u001b[0m \u001b[1;33m=\u001b[0m \u001b[0mself\u001b[0m\u001b[1;33m.\u001b[0m\u001b[0mdot\u001b[0m\u001b[1;33m(\u001b[0m\u001b[0mother\u001b[0m\u001b[1;33m)\u001b[0m\u001b[1;33m\u001b[0m\u001b[1;33m\u001b[0m\u001b[0m\n",
      "\u001b[1;31mAttributeError\u001b[0m: 'Vector' object has no attribute 't'"
     ]
    }
   ],
   "source": [
    "f = Vector(10,0,0)\n",
    "g = Vector(0,27,0)\n",
    "\n",
    "print(f)\n",
    "print(f+f)\n",
    "print(f-g)\n",
    "print(f*g)\n",
    "print('f벡터의 크기 =',f.dist())\n",
    "print('g벡터의 크기 =',g.dist())\n",
    "print('f의  normal vector = ', f.norm())\n",
    "print('g의  normal vector = ', g.norm())\n",
    "print('두벡터의 내적  =', g.dot(f))  #내적이 -이면 두벡터는 90도 직교한다 \n",
    "print('f와 g의 사이각은 ', f.theta(g)) #90\n"
   ]
  },
  {
   "cell_type": "code",
   "execution_count": 30,
   "metadata": {},
   "outputs": [
    {
     "name": "stdout",
     "output_type": "stream",
     "text": [
      "a = [1, 2, 3]\n",
      "[[1, 2, 3], [4, 5, [1, 2, 3]], 100]\n",
      "[[1, 2, 3], [4, 5, [1, 2, 3]], 100]\n",
      "[[1, 2, 3], [4, 5, [1, 2, 3]], 100]\n",
      "[[1, 2, 3], [4, 5, [1, 2, 3]], 100]\n",
      "[[1, 2, 3, 100], [4, 5, [1, 2, 3, 100]], 100]\n",
      "[[1, 2, 3, 100], [4, 5, [1, 2, 3, 100]], 100]\n",
      "[[1, 2, 3], [4, 5, [1, 2, 3]], 100]\n",
      "[[1, 2, 3], [4, 5, [1, 2, 3]], 100]\n"
     ]
    }
   ],
   "source": [
    "import copy\n",
    "\n",
    "a = [1,2,3]\n",
    "b =[4,5,a] #a가 주소로 연결\n",
    "x=[a,b,100]\n",
    "y=copy.copy(x)  #주소값만 복사\n",
    "t=copy.deepcopy(x)  #deep copy는 원래의 요소를 별도의 공간에 복사 . 이 복사한 주소를 전달\n",
    "e = copy.deepcopy(y)\n",
    "print('a =',a)\n",
    "print(x)\n",
    "print(y)\n",
    "print(t)\n",
    "print(e)\n",
    "a.append(100)\n",
    "print(x)\n",
    "print(y)\n",
    "print(t)\n",
    "print(e)\n"
   ]
  },
  {
   "cell_type": "markdown",
   "metadata": {},
   "source": [
    "#\n",
    "문제\n",
    "#이름 , 국어 수학 , 영어를 관리하는  Student  class를 작성하시오 (1인분 관리)\n",
    "-총점과 평균도 계산해서 멤버 변수에 저장"
   ]
  },
  {
   "cell_type": "code",
   "execution_count": null,
   "metadata": {},
   "outputs": [],
   "source": [
    "class Student:\n",
    "    studentCount = 0  #학생수 저장\n",
    "    def __init__(self,name,kor,math,eng):\n",
    "        self.name = name\n",
    "        self.kor = int(kor)\n",
    "        self.math = int(math)\n",
    "        self.eng = int(eng)\n",
    "        self.tot = self.kor + self.math + self.eng\n",
    "        self.avg = self.tot/3\n",
    "        \n",
    "    "
   ]
  },
  {
   "cell_type": "code",
   "execution_count": null,
   "metadata": {},
   "outputs": [],
   "source": [
    "#메뉴화\n",
    "\n",
    "\n",
    "def start():\n",
    "    students = []\n",
    "    while True:\n",
    "        choice = input('1.입력  2.출력 3.계산 4.종료 =>')\n",
    "        if choice =='1':\n",
    "            name = input('이름 :')\n",
    "            kor = input('국어 :')\n",
    "            eng = input('영어 :')\n",
    "            math = input('수학 :')\n",
    "            stud = Student(name,kor,math,eng)\n",
    "            students.append(stud)\n",
    "        elif choice =='2':\n",
    "            for s in students:\n",
    "                print('이름 :%s  국어:%s  영어:%s  수학:%s 총점:%s 평균:%s' % (\n",
    "                 s.name,s.kor,s.math,s.eng,s.tot,s.avg))\n",
    "        elif choice =='3':\n",
    "            kor_tot = 0; eng_tot = 0; math_tot =0\n",
    "            for s in students:\n",
    "                kor_tot+=s.kor\n",
    "                eng_tot+=s.eng\n",
    "                math_tot+=s.math\n",
    "            kor_avg = round(kor_tot / len(students),2)\n",
    "            eng_avg = round(eng_tot / len(students),2)\n",
    "            math_avg = round(math_tot / len(students),2)\n",
    "            print('총 학생수 : %s 명'%  len(students))\n",
    "            print('국어평균 : %s\\t\\t영어평균 : %s\\t\\t 수학평균 %s\\t\\t'% (\n",
    "                    kor_avg,eng_avg,math_avg))\n",
    "                                    \n",
    "        elif choice == '4':\n",
    "            break\n",
    "    \n",
    "start()\n",
    "        "
   ]
  },
  {
   "cell_type": "code",
   "execution_count": null,
   "metadata": {},
   "outputs": [],
   "source": [
    "#2개로 분리된 class\n",
    "#-기본적인 데이터를 저장하는 클래스\n",
    "#-management (입력, 출력, 검색, 수정 등)\n",
    "#- 메뉴함수 \n",
    "\n",
    "import sys\n",
    "class Student:\n",
    "    def __init__(self):\n",
    "        self.bunho = 0; self.name = '';\n",
    "        self.kor = 0; self.math =0; self.eng =0;\n",
    "        self.total =0; self.average=0; self.grade=\"\"\n",
    "    def inputData(self):\n",
    "        self.name =input('이름을 입력')\n",
    "        self.kor =eval(input('국어 점수 :')) \n",
    "        self.math = eval(input('수학 점수 :'))\n",
    "        self.eng =  eval(input('영어점수: '))  \n",
    "    def calc_total_average(self):\n",
    "        self.total = self.kor + self.math + self.eng\n",
    "        self.average = round(self.total /3,2)\n",
    "        self.grade = self.calcSemGrade()   \n",
    "    def calcSemGrade(self):\n",
    "        if self.average >= 90: return 'A'\n",
    "        elif self.average >=80: return 'B'\n",
    "        elif self.average >=70: return 'C'\n",
    "        elif self.average >=60: return 'D'\n",
    "        else:\n",
    "             return\"F\"\n",
    "    def __str__(self):\n",
    "                return '%5s %5s %6.2f %6.2f %6.2f %7.2f %7.2f %5s' %(self.bunho, self.name,self.kor,self.math,\n",
    "                                                               self.eng,self.total,self.average,self.grade)\n",
    "    def __cmp__(self,other): #compare\n",
    "                return self.name == other.name\n",
    "                "
   ]
  },
  {
   "cell_type": "code",
   "execution_count": null,
   "metadata": {},
   "outputs": [],
   "source": [
    "class Management:\n",
    "    schoolname = '제주 아카데미'\n",
    "    bunho = 0\n",
    "    def __init__(self, count):\n",
    "        print('메뉴를 선택하시오')\n",
    "        self.sungjuk=[]\n",
    "        self.count = count\n",
    "    def input(self):\n",
    "        for co_in in range(self.count):\n",
    "            stu = Student()\n",
    "            stu.inputData()\n",
    "            Management.bunho +=1 #번호를 자동으로 입력하기 위해\n",
    "            stu.bunho = Management.bunho\n",
    "            self.sungjuk.append(stu)\n",
    "    def print_sungjuk(self):\n",
    "        for per in self.sungjuk:\n",
    "            print(per)\n",
    "            print()\n",
    "    def calc_sungjuk(self):\n",
    "        for per in self.sungjuk:\n",
    "            per.calc_total_average()\n",
    "    def search_name(self):\n",
    "        name = input('검색할 학생 이름을 추가하시오')\n",
    "        for per in self.sungjuk:\n",
    "            if(per.name == name):\n",
    "                print(per)\n",
    "                return\n",
    "        print('검색하고자하는 학생이 업음')\n",
    "        return"
   ]
  },
  {
   "cell_type": "code",
   "execution_count": null,
   "metadata": {},
   "outputs": [],
   "source": [
    "sj = ['번호','이름','국어','수학','영어','총점','평균','학점']\n",
    "\n",
    "menu = ['입력(1)','출력(2)','계산(3)','검색(4)','이름수정(5)','이름삭제(6)','정렬(7)','종료(8)']\n",
    "man_sung = Management(3)\n",
    "while 1:\n",
    "    sel = input(menu)\n",
    "    if sel == '1':\n",
    "        man_sung.input()\n",
    "        continue\n",
    "    elif sel =='2':\n",
    "        print(Management.schoolname + '성적 계산표')\n",
    "        print('%5s %5s %6s %6s %6s %7s %7s %7s' % ('번호','이름','국어','수학','영어','총점','평균','학점'))\n",
    "        man_sung.print_sungjuk()\n",
    "        continue\n",
    "    elif sel =='3':\n",
    "        man_sung.calc_sungjuk()\n",
    "        print('계산이 완료 되었습니다.- 확인하려면 출력해보세요')\n",
    "        continue \n",
    "    elif sel =='4':\n",
    "        man_sung.search_name()\n",
    "        continue\n",
    "    else :\n",
    "        print('잘못된 입력입니다. 다시 입력하세요 ')\n",
    "        continue"
   ]
  },
  {
   "cell_type": "code",
   "execution_count": null,
   "metadata": {},
   "outputs": [],
   "source": []
  }
 ],
 "metadata": {
  "kernelspec": {
   "display_name": "Python 3",
   "language": "python",
   "name": "python3"
  },
  "language_info": {
   "codemirror_mode": {
    "name": "ipython",
    "version": 3
   },
   "file_extension": ".py",
   "mimetype": "text/x-python",
   "name": "python",
   "nbconvert_exporter": "python",
   "pygments_lexer": "ipython3",
   "version": "3.7.4"
  }
 },
 "nbformat": 4,
 "nbformat_minor": 2
}
