{
 "cells": [
  {
   "cell_type": "code",
   "execution_count": null,
   "metadata": {},
   "outputs": [],
   "source": [
    "#함수(function)\n",
    "\n",
    "-함수 이름은 중복이 되면 안됨( 오버로딩은 default 매개변수로 해결)\n",
    "-Required arguments(매개변수를 순서적으로 입력)\n",
    "-keyword arguments(key  매개변수의 순서 변경이 가능)\n",
    "-Default arguments(오버로딩해결)\n",
    "-variable-length arguments(변동매개변수 : *-> list , ** -> dict)\n"
   ]
  },
  {
   "cell_type": "code",
   "execution_count": 1,
   "metadata": {},
   "outputs": [
    {
     "name": "stdout",
     "output_type": "stream",
     "text": [
      "30\n",
      "70\n",
      "30\n",
      "70\n"
     ]
    }
   ],
   "source": [
    "a=10\n",
    "b=20\n",
    "\n",
    "result = a+b\n",
    "print(result)\n",
    "\n",
    "c=30\n",
    "d=40\n",
    "\n",
    "result = c+d\n",
    "print(result)\n",
    "#사용자 지정 함수 이름  \n",
    "def addvalue(x,y):   #주소값만 전달 call by reference\n",
    "    return x+y\n",
    "print(addvalue(10,20))   # 호출시 데이터는 힙에 저장 => 주소값만 전달 \n",
    "print(addvalue(30,40))\n"
   ]
  },
  {
   "cell_type": "code",
   "execution_count": null,
   "metadata": {},
   "outputs": [],
   "source": [
    "#회귀분석\n",
    "\n",
    "y= ax+b    # a = 기울기 계수 # b = bias 절편  "
   ]
  },
  {
   "cell_type": "code",
   "execution_count": 8,
   "metadata": {},
   "outputs": [
    {
     "name": "stdout",
     "output_type": "stream",
     "text": [
      "1030\n",
      "1030\n"
     ]
    }
   ],
   "source": [
    "def reg(a,b,x):\n",
    "    return a*x+b\n",
    "print(reg(10,30,100))\n",
    "\n",
    "\n",
    "def reg(x):\n",
    "    a =10\n",
    "    b =30\n",
    "    return a*x+b\n",
    "print(reg(100))\n",
    "#reg(10,30,100) 을 밑에서 실행하면 오류  since  재정의 된 함수이기 때문에 !"
   ]
  },
  {
   "cell_type": "code",
   "execution_count": 10,
   "metadata": {},
   "outputs": [],
   "source": [
    "#두수를 더한 값이 10보다 큰지 확인하시오\n",
    "\n",
    "a = 10\n",
    "b = 27\n",
    "result = a+b\n",
    "if result >= 10:\n",
    "    result = '10보다 크다'\n",
    "else:\n",
    "    result = '10보다 작다'\n",
    " "
   ]
  },
  {
   "cell_type": "code",
   "execution_count": 11,
   "metadata": {},
   "outputs": [
    {
     "data": {
      "text/plain": [
       "'10보다 크다'"
      ]
     },
     "execution_count": 11,
     "metadata": {},
     "output_type": "execute_result"
    }
   ],
   "source": [
    "def sum_1(a,b):\n",
    "    result = a+b\n",
    "    if result>=10:\n",
    "        result = '10보다 크다'\n",
    "    else:\n",
    "        result =  '10보다 작다'\n",
    "    return result\n",
    "sum_1(10,20)"
   ]
  },
  {
   "cell_type": "code",
   "execution_count": 15,
   "metadata": {},
   "outputs": [
    {
     "name": "stdout",
     "output_type": "stream",
     "text": [
      "20\n",
      "\n",
      "(20, 10)\n"
     ]
    }
   ],
   "source": [
    "# 함수를 이용해서  a와 b의 값을 바꿔라\n",
    "a = 10\n",
    "b = 20\n",
    "\n",
    "a,b = b,a\n",
    "\n",
    "print(a)\n",
    "\n",
    "print()\n",
    "\n",
    "def switch(x,y):   #함수는 ㄴ여러개의 값을 리턴할 수 있음 \n",
    "    return y,x\n",
    "a,b = switch(a,b)\n",
    "x = switch(a,b)  #함수가 리턴하는 값은 튜플\n",
    "\n",
    "print(x)\n"
   ]
  },
  {
   "cell_type": "code",
   "execution_count": 2,
   "metadata": {},
   "outputs": [
    {
     "name": "stdout",
     "output_type": "stream",
     "text": [
      "(4, 2)\n"
     ]
    }
   ],
   "source": [
    "a = 2\n",
    "b =4\n",
    "\n",
    "def swith(x,y):\n",
    "    return y,x\n",
    "\n",
    "print(swith(a,b))"
   ]
  },
  {
   "cell_type": "code",
   "execution_count": 26,
   "metadata": {
    "collapsed": true
   },
   "outputs": [
    {
     "name": "stdout",
     "output_type": "stream",
     "text": [
      "정수 입력1\n",
      "정수 입력2\n",
      "<function subtract at 0x0000026F015AEC18>\n",
      "<function multiply at 0x0000026F015AE4C8>\n",
      "result : 30\n",
      "result : -10\n",
      "result : 200\n"
     ]
    }
   ],
   "source": [
    "#두 수를 입력받아 +,-, * 하는 함수 3개를 작성하시오 \n",
    "#함수 이름 : add, subtract, multiply\n",
    "    \n",
    "    \n",
    "n1 = int(input('정수 입력'))\n",
    "n2 = int(input('정수 입력'))\n",
    "\n",
    "\n",
    "def add(x,y):\n",
    "     return x+y\n",
    "    \n",
    "def subtract(x,y):\n",
    "     return x-y\n",
    "\n",
    "    \n",
    "def multiply(x,y):\n",
    "     return x*y\n",
    "\n",
    "\n",
    "add(n1,n2)\n",
    "subtract(n1,n2)\n",
    "multiply(n1,n2)\n",
    "\n",
    "\n",
    "#함수는 일급함수 : 함수가 매개변수로 전달가능, 리턴값으로 가능\n",
    "\n",
    "def changefun(g,a,b):\n",
    "    return g(a,b)\n",
    "\n",
    "print('result :' , changefun(add,10,20)) #함수의 매개변수로 함수가 전달됨 \n",
    "print('result :' , changefun(subtract,10,20))\n",
    "print('result :' , changefun(multiply,10,20))\n",
    "    "
   ]
  },
  {
   "cell_type": "code",
   "execution_count": 5,
   "metadata": {},
   "outputs": [
    {
     "name": "stdout",
     "output_type": "stream",
     "text": [
      "deny : 13\n"
     ]
    }
   ],
   "source": [
    "def prac (x,y):\n",
    "    return x+y\n",
    "\n",
    "def try3(f,x,y):\n",
    "    return f(x,y)\n",
    "\n",
    "a=10\n",
    "b=3\n",
    "\n",
    "print('deny :', try3(prac,a,b))"
   ]
  },
  {
   "cell_type": "code",
   "execution_count": 43,
   "metadata": {},
   "outputs": [
    {
     "name": "stdout",
     "output_type": "stream",
     "text": [
      "함수 내부에서 출력 : [10, 20, 30, [1, 2, 3, 4]]\n",
      "함수 외부에서 출력 : [10, 20, 30, [1, 2, 3, 4]]\n"
     ]
    }
   ],
   "source": [
    "# 문장 종료 점 ; _없어도됨 \n",
    "\n",
    "def changeme( mylist ):   # <= stack 에 저장 #mylist = mylist  주소 \n",
    "    mylist.append([1,2,3,4]);\n",
    "    print('함수 내부에서 출력 :', mylist)\n",
    "    return\n",
    "mylist = [10,20,30]; #heep에 ㅈㅓ장    #바뀌어 있는 이유 : 주소값이 넘어갔기 때문 _ call by reference\n",
    "changeme(mylist);\n",
    "print(\"함수 외부에서 출력 :\", mylist)\n",
    "      "
   ]
  },
  {
   "cell_type": "code",
   "execution_count": 12,
   "metadata": {},
   "outputs": [
    {
     "name": "stdout",
     "output_type": "stream",
     "text": [
      "district : [2, 4, 45, [12, 13, 14]]\n",
      "district : [3, 5, [12, 13, 14]]\n"
     ]
    }
   ],
   "source": [
    "list1=[2,4,45]\n",
    "\n",
    "def whats (list1):\n",
    "    list1.append([12,13,14])\n",
    "    print('district :', list1)\n",
    "    return\n",
    "whats(list1)\n",
    "\n",
    "rand = [3,5]\n",
    "whats(rand)"
   ]
  },
  {
   "cell_type": "code",
   "execution_count": 46,
   "metadata": {
    "collapsed": true
   },
   "outputs": [
    {
     "ename": "AttributeError",
     "evalue": "'set' object has no attribute 'append'",
     "output_type": "error",
     "traceback": [
      "\u001b[1;31m---------------------------------------------------------------------------\u001b[0m",
      "\u001b[1;31mAttributeError\u001b[0m                            Traceback (most recent call last)",
      "\u001b[1;32m<ipython-input-46-9bcce5fee200>\u001b[0m in \u001b[0;36m<module>\u001b[1;34m\u001b[0m\n\u001b[0;32m      1\u001b[0m \u001b[0mmylist\u001b[0m \u001b[1;33m=\u001b[0m \u001b[1;33m{\u001b[0m\u001b[1;36m10\u001b[0m\u001b[1;33m,\u001b[0m\u001b[1;36m20\u001b[0m\u001b[1;33m,\u001b[0m\u001b[1;36m30\u001b[0m\u001b[1;33m}\u001b[0m\u001b[1;33m;\u001b[0m\u001b[1;33m\u001b[0m\u001b[1;33m\u001b[0m\u001b[0m\n\u001b[1;32m----> 2\u001b[1;33m \u001b[0mchangeme\u001b[0m\u001b[1;33m(\u001b[0m\u001b[0mmylist\u001b[0m\u001b[1;33m)\u001b[0m\u001b[1;33m;\u001b[0m\u001b[1;33m\u001b[0m\u001b[1;33m\u001b[0m\u001b[0m\n\u001b[0m\u001b[0;32m      3\u001b[0m \u001b[0mprint\u001b[0m\u001b[1;33m(\u001b[0m\u001b[1;34m'함수 외부에서 출력 :'\u001b[0m \u001b[1;33m,\u001b[0m \u001b[0mmylist\u001b[0m\u001b[1;33m)\u001b[0m\u001b[1;33m\u001b[0m\u001b[1;33m\u001b[0m\u001b[0m\n",
      "\u001b[1;32m<ipython-input-45-b74f78331b20>\u001b[0m in \u001b[0;36mchangeme\u001b[1;34m(mylist)\u001b[0m\n\u001b[0;32m      1\u001b[0m \u001b[1;32mdef\u001b[0m \u001b[0mchangeme\u001b[0m\u001b[1;33m(\u001b[0m \u001b[0mmylist\u001b[0m \u001b[1;33m)\u001b[0m\u001b[1;33m:\u001b[0m   \u001b[1;31m# <= stack 에 저장#mylist = mylist  주소 st\u001b[0m\u001b[1;33m\u001b[0m\u001b[1;33m\u001b[0m\u001b[0m\n\u001b[1;32m----> 2\u001b[1;33m     \u001b[0mmylist\u001b[0m\u001b[1;33m.\u001b[0m\u001b[0mappend\u001b[0m\u001b[1;33m(\u001b[0m\u001b[1;33m[\u001b[0m\u001b[1;36m1\u001b[0m\u001b[1;33m,\u001b[0m\u001b[1;36m2\u001b[0m\u001b[1;33m,\u001b[0m\u001b[1;36m3\u001b[0m\u001b[1;33m,\u001b[0m\u001b[1;36m4\u001b[0m\u001b[1;33m]\u001b[0m\u001b[1;33m)\u001b[0m\u001b[1;33m;\u001b[0m\u001b[1;33m\u001b[0m\u001b[1;33m\u001b[0m\u001b[0m\n\u001b[0m\u001b[0;32m      3\u001b[0m     \u001b[0mprint\u001b[0m\u001b[1;33m(\u001b[0m\u001b[1;34m'함수 내부에서 출력 :'\u001b[0m\u001b[1;33m,\u001b[0m \u001b[0mmylist\u001b[0m\u001b[1;33m)\u001b[0m\u001b[1;33m\u001b[0m\u001b[1;33m\u001b[0m\u001b[0m\n\u001b[0;32m      4\u001b[0m     \u001b[1;32mreturn\u001b[0m\u001b[1;33m\u001b[0m\u001b[1;33m\u001b[0m\u001b[0m\n\u001b[0;32m      5\u001b[0m \u001b[0mmylist\u001b[0m \u001b[1;33m=\u001b[0m \u001b[1;33m[\u001b[0m\u001b[1;36m10\u001b[0m\u001b[1;33m,\u001b[0m\u001b[1;36m20\u001b[0m\u001b[1;33m,\u001b[0m\u001b[1;36m30\u001b[0m\u001b[1;33m]\u001b[0m\u001b[1;33m;\u001b[0m \u001b[1;31m#heep에 ㅈㅓ장    #바뀌어 있는 이유 : 주소값이 넘어갔기 때문 _ call by reference\u001b[0m\u001b[1;33m\u001b[0m\u001b[1;33m\u001b[0m\u001b[0m\n",
      "\u001b[1;31mAttributeError\u001b[0m: 'set' object has no attribute 'append'"
     ]
    }
   ],
   "source": [
    "#실행안되는 이유 : 데이터 타입을 구분해야하는 것은 프로그래머의 책임 \n",
    "\n",
    "mylist = {10,20,30};   #dict 이라서 안됨 \n",
    "changeme(mylist);\n",
    "print('함수 외부에서 출력 :' , mylist)"
   ]
  },
  {
   "cell_type": "code",
   "execution_count": 48,
   "metadata": {},
   "outputs": [
    {
     "name": "stdout",
     "output_type": "stream",
     "text": [
      "시작\n",
      "1.2.3.\n",
      "1.2.3.4.5.\n"
     ]
    }
   ],
   "source": [
    "#변동 매개변수 : \n",
    "# * list ** dict\n",
    "def func1(*args):   # * list\n",
    "    for i in args:\n",
    "        print(i,end ='.')\n",
    "    print()\n",
    "print('시작')\n",
    "func1(1,2,3 \n",
    "func1(1,2,3,4,5)"
   ]
  },
  {
   "cell_type": "code",
   "execution_count": null,
   "metadata": {},
   "outputs": [],
   "source": []
  },
  {
   "cell_type": "code",
   "execution_count": 50,
   "metadata": {},
   "outputs": [
    {
     "name": "stdout",
     "output_type": "stream",
     "text": [
      "args is (1, 2)\n",
      "kwargs is {'z': 5.0}\n",
      "Hello Now I'm going to call <function g at 0x0000026F015CAB88>\n",
      "1\n",
      "2\n",
      "5.0\n"
     ]
    },
    {
     "data": {
      "text/plain": [
       "0.6"
      ]
     },
     "execution_count": 50,
     "metadata": {},
     "output_type": "execute_result"
    }
   ],
   "source": [
    "def say_hello_then_call(f,*args,**kwargs):   #함수 , 리스트, dict 변동 매개변수\n",
    "    print('args is', args)\n",
    "    print(\"kwargs is\",kwargs)\n",
    "    print(\"Hello Now I'm going to call %s\" % f) #함수 위치한 주소 \n",
    "    return f(*args , **kwargs)  #통째로 넣어도 밑에서 찢어져서 들어감 \n",
    "def g(x,y,z =1): #default 매개변수 (z=1)\n",
    "    print(x)\n",
    "    print(y)\n",
    "    print(z)\n",
    "    return(x+y) /z\n",
    "say_hello_then_call(g,1,2,z=5.0)  #1,2 는 say_hello_then_call 의 args에 대입 / z=5.0은 kwargs 에 대입"
   ]
  },
  {
   "cell_type": "code",
   "execution_count": 52,
   "metadata": {},
   "outputs": [
    {
     "name": "stdout",
     "output_type": "stream",
     "text": [
      "1 0\n",
      "1 2\n",
      "1 2\n"
     ]
    }
   ],
   "source": [
    "def func_test2(a,b=0):  #b=0은 default\n",
    "    print(a,b)\n",
    "func_test2(1)  # a=1, b=0\n",
    "func_test2(1,2) # a=1 b=2\n",
    "func_test2(b=2,a=1) #키이 매개변수 "
   ]
  },
  {
   "cell_type": "code",
   "execution_count": 13,
   "metadata": {},
   "outputs": [],
   "source": [
    "def func_test4(): # None 을 리턴  _ 객체\n",
    "    pass   #몸통을 미지정 \n",
    "\n",
    "\n"
   ]
  },
  {
   "cell_type": "code",
   "execution_count": 56,
   "metadata": {},
   "outputs": [
    {
     "data": {
      "text/plain": [
       "True"
      ]
     },
     "execution_count": 56,
     "metadata": {},
     "output_type": "execute_result"
    }
   ],
   "source": [
    "# == 숫자나 문자, \n",
    "#객체를 비교할 떄에는 is 함수를 쓴다\n",
    "\n",
    "result = func_test4()\n",
    "result is None"
   ]
  },
  {
   "cell_type": "code",
   "execution_count": 59,
   "metadata": {},
   "outputs": [
    {
     "data": {
      "text/plain": [
       "NoneType"
      ]
     },
     "execution_count": 59,
     "metadata": {},
     "output_type": "execute_result"
    }
   ],
   "source": [
    "result.__class__ #멤버변수=>  __class__  : 타입을 알려줌  / 앞뒤에 __가 붙으면 시스템에서 생성한 변수 "
   ]
  },
  {
   "cell_type": "code",
   "execution_count": 64,
   "metadata": {},
   "outputs": [
    {
     "data": {
      "text/plain": [
       "function"
      ]
     },
     "execution_count": 64,
     "metadata": {},
     "output_type": "execute_result"
    }
   ],
   "source": [
    "func_test4.__class__"
   ]
  },
  {
   "cell_type": "code",
   "execution_count": 61,
   "metadata": {},
   "outputs": [
    {
     "name": "stdout",
     "output_type": "stream",
     "text": [
      "15 5 50\n",
      "<class 'function'>\n"
     ]
    }
   ],
   "source": [
    "def func_test3(a,b):\n",
    "    return a+b, a-b, a*b\n",
    "a,b,c = func_test3(10,5)\n",
    "print(a,b,c)\n",
    "print(type(func_test3)) #함수도 객체다 "
   ]
  },
  {
   "cell_type": "code",
   "execution_count": null,
   "metadata": {},
   "outputs": [],
   "source": [
    "h"
   ]
  },
  {
   "cell_type": "code",
   "execution_count": 65,
   "metadata": {},
   "outputs": [
    {
     "name": "stdout",
     "output_type": "stream",
     "text": [
      "15\n"
     ]
    }
   ],
   "source": [
    "#커링\n",
    "\n",
    "def all_number(x,y):\n",
    "    return x+y\n",
    "add_five = lambda y: all_number(5,y) #무명함수를 유명함수로 변경 _ 두개의 매개변수\n",
    "print(add_five(10))"
   ]
  },
  {
   "cell_type": "code",
   "execution_count": 17,
   "metadata": {},
   "outputs": [
    {
     "ename": "SyntaxError",
     "evalue": "invalid syntax (<ipython-input-17-6ae8ab8a4cd8>, line 6)",
     "output_type": "error",
     "traceback": [
      "\u001b[1;36m  File \u001b[1;32m\"<ipython-input-17-6ae8ab8a4cd8>\"\u001b[1;36m, line \u001b[1;32m6\u001b[0m\n\u001b[1;33m    def dis(a,b,c,d)\u001b[0m\n\u001b[1;37m                    ^\u001b[0m\n\u001b[1;31mSyntaxError\u001b[0m\u001b[1;31m:\u001b[0m invalid syntax\n"
     ]
    }
   ],
   "source": [
    "#문제 \n",
    "#두점 사이의 거리값을 구하는 함수를 작성하시오 \n",
    "import math\n",
    "math.sqrt() #루트 하는 함수\n",
    "\n",
    "def dis(a,b,c,d)\n",
    "     return math.sqrt((a-c)^2 + (b-d^2))\n"
   ]
  },
  {
   "cell_type": "code",
   "execution_count": 26,
   "metadata": {},
   "outputs": [
    {
     "name": "stdout",
     "output_type": "stream",
     "text": [
      "1.4142135623730951\n"
     ]
    }
   ],
   "source": [
    "import math\n",
    "\n",
    "\n",
    "def distance_between (x1,y1,x2,y2):\n",
    "    answ = math.sqrt((x1-x2)^2+(y1-y2)^2)\n",
    "    return answ\n",
    "\n",
    "\n",
    "\n",
    "print(distance_between(3,2,3,4))"
   ]
  },
  {
   "cell_type": "code",
   "execution_count": 48,
   "metadata": {},
   "outputs": [
    {
     "name": "stdout",
     "output_type": "stream",
     "text": [
      "2.8284271247461903\n"
     ]
    },
    {
     "data": {
      "text/plain": [
       "<function __main__.distance_between_points(x1, y1, x2, y2)>"
      ]
     },
     "execution_count": 48,
     "metadata": {},
     "output_type": "execute_result"
    }
   ],
   "source": [
    "import math\n",
    "\n",
    "def distance_between_points(x1,y1,x2,y2):\n",
    "# \"\"\" 두 점 사이의 거리를 구하는 함수. \"\"\"\n",
    "    dx = x1-x2\n",
    "    dy = y1-y2\n",
    "    dist = math.sqrt(dx**2 + dy**2)\n",
    "    return dist\n",
    "\n",
    "print(distance_between_points(1,2,3,4))\n",
    "distance_between_points"
   ]
  },
  {
   "cell_type": "code",
   "execution_count": 50,
   "metadata": {},
   "outputs": [
    {
     "name": "stdout",
     "output_type": "stream",
     "text": [
      "4.123105625617661\n"
     ]
    }
   ],
   "source": [
    "import math\n",
    "def twodots (x1,x2,y1,y2):\n",
    "    dx = x1-x2\n",
    "    dy = y1-y2\n",
    "    dist = math.sqrt(dx**2 + dy**2)\n",
    "    return dist\n",
    "\n",
    "print(twodots(6,2,3,4))\n"
   ]
  },
  {
   "cell_type": "code",
   "execution_count": 82,
   "metadata": {},
   "outputs": [
    {
     "data": {
      "text/plain": [
       "120"
      ]
     },
     "execution_count": 82,
     "metadata": {},
     "output_type": "execute_result"
    }
   ],
   "source": [
    "# 수학에서 factorial 5! = 5 * 4*  3*   2 * 1\n",
    "\n",
    "def factorial(n):\n",
    "    sum = 1   #곱하기 연산에서는 0 이 초기값일 수 없어서 1을 줌\n",
    "    for i in range(n,1,-1):\n",
    "        sum *= i\n",
    "    return sum\n",
    "factorial(5)\n",
    "\n",
    "\n",
    "#항등원 : 덧셈의 항등원은 0 , 곱셈의 항등원 1, 행렬의 항등원 : 단위행력"
   ]
  },
  {
   "cell_type": "code",
   "execution_count": 52,
   "metadata": {},
   "outputs": [
    {
     "name": "stdout",
     "output_type": "stream",
     "text": [
      "6\n"
     ]
    }
   ],
   "source": [
    "def f(n):\n",
    "    sum =1\n",
    "    for i in range(n,1,-1):\n",
    "        sum *= i\n",
    "    return sum\n",
    "\n",
    "print(f(3))"
   ]
  },
  {
   "cell_type": "code",
   "execution_count": 85,
   "metadata": {},
   "outputs": [
    {
     "data": {
      "text/plain": [
       "120"
      ]
     },
     "execution_count": 85,
     "metadata": {},
     "output_type": "execute_result"
    }
   ],
   "source": [
    "#재귀 함수 : 함수가 자기자신 함수를 호출  #종료조건이 반드시 있어야함 ! if not  무한루프\n",
    "\n",
    "def factorial(n,stop=1):\n",
    "    if n <= stop or n <=0: #종료조건 , 입력제한 \n",
    "        return 1\n",
    "    return n*factorial(n-1,stop)\n",
    "factorial(5)"
   ]
  },
  {
   "cell_type": "code",
   "execution_count": 92,
   "metadata": {},
   "outputs": [
    {
     "name": "stdout",
     "output_type": "stream",
     "text": [
      "8\n"
     ]
    }
   ],
   "source": [
    "# power  함수를 구현하시오 (2^10) # pow(2,10)\n",
    "\n",
    "def power( r,n):\n",
    "    value = 1\n",
    "    for i in range(1, n + 1):\n",
    "        value = r*value\n",
    "    return value\n",
    "print(power(2,3))"
   ]
  },
  {
   "cell_type": "code",
   "execution_count": null,
   "metadata": {},
   "outputs": [],
   "source": [
    "def power(r,n):\n",
    "    value = 1\n",
    "    for i in range(1,n+1):\n",
    "        value = r * value\n",
    "        \n",
    "\n",
    "    \n",
    "    "
   ]
  },
  {
   "cell_type": "code",
   "execution_count": 55,
   "metadata": {},
   "outputs": [
    {
     "name": "stdout",
     "output_type": "stream",
     "text": [
      "range(1, 4)\n"
     ]
    }
   ],
   "source": [
    "print(range(1,4))"
   ]
  },
  {
   "cell_type": "markdown",
   "metadata": {},
   "source": [
    "## power 재귀함수\n",
    "def power(r,n):\n",
    "    if n ==1:\n",
    "        return r\n",
    "    else:\n",
    "        return r *power(r,n-1)  # else 안써도됨 \n",
    "print(power(2,3))\n",
    "    \n",
    "\n",
    "#내부 함수\n",
    "\n",
    "def outer():\n",
    "    def inner():\n",
    "        print('inner')\n",
    "    inner()\n",
    "    \n",
    "def inner():\n",
    "     print('global inner')  #inner 함수는 함수 내부에서만 작동한다.\n",
    "outer()"
   ]
  },
  {
   "cell_type": "code",
   "execution_count": null,
   "metadata": {},
   "outputs": [],
   "source": [
    "#generator_ 메모리를 낭비하지않고 데이터를 불러오기 위해 사용 ( yield 를 사용해야 무한루프 발생 x)\n",
    "#for in : collections(list,tuple,dict,set) , iterator(ranges), generator, eneumerator\n",
    "\n",
    "import random\n",
    "def gaus_dist(n):\n",
    "    while n >0:\n",
    "        yield random.random() #비동기 호출함수 0 ~ 1 의 값\n",
    "        n-=1\n",
    "gd = gaus_dist(5)\n",
    "for i in gd:\n",
    "    print(i)"
   ]
  },
  {
   "cell_type": "code",
   "execution_count": 56,
   "metadata": {},
   "outputs": [
    {
     "name": "stdout",
     "output_type": "stream",
     "text": [
      "0.9793462669355546\n",
      "0.8419048848825095\n",
      "0.18688451046704535\n",
      "0.32879879218726105\n",
      "0.9074238827104915\n",
      "python's recipe no.1\n",
      "perl's recipe no.2\n"
     ]
    },
    {
     "data": {
      "text/plain": [
       "(2265567037624, 2265567037768)"
      ]
     },
     "execution_count": 56,
     "metadata": {},
     "output_type": "execute_result"
    }
   ],
   "source": [
    "#함수가 값을 저장할 수 있는가 ? 지역변수라 저장지 불가\n",
    "#clouser (자바스크립트에서 사용하던 방식) : 값을 저장하는 방법\n",
    "\n",
    "\n",
    "def cookbook(name):  # 함수안에 함수가 있고.내부에서 정의 된 함수 return\n",
    "    def recipe(no):   #recipe함수가 다 실행이 되어야 cookbook 이 사라질 수 있다 \n",
    "        print(\"%s's recipe no.%d\" % (name, no))\n",
    "    return recipe\n",
    "\n",
    "python_recipe = cookbook('python')\n",
    "perl_recipe = cookbook('perl')\n",
    "\n",
    "python_recipe(1)  #recipe에 대입\n",
    "perl_recipe(2)\n",
    "id(python_recipe), id(perl_recipe)"
   ]
  },
  {
   "cell_type": "code",
   "execution_count": 125,
   "metadata": {},
   "outputs": [
    {
     "name": "stdout",
     "output_type": "stream",
     "text": [
      "         1.7560\n",
      "              1\n"
     ]
    }
   ],
   "source": [
    "#clouser 클로저의 응용 (장식자 ㅣ decorator)\n",
    "\n",
    "def format_and_pad(template,space):\n",
    "    def formatter(x):\n",
    "        return (template % x).rjust(space)\n",
    "    return formatter\n",
    "\n",
    "fmt = format_and_pad('%.4f',15)\n",
    "print(fmt(1.756))\n",
    "\n",
    "fmt2 = format_and_pad('%d',15)\n",
    "print(fmt2(1.756))"
   ]
  },
  {
   "cell_type": "code",
   "execution_count": 158,
   "metadata": {},
   "outputs": [
    {
     "name": "stdout",
     "output_type": "stream",
     "text": [
      "삼각형 높이10\n",
      "삼각형 밑변5\n"
     ]
    },
    {
     "data": {
      "text/plain": [
       "25.0"
      ]
     },
     "execution_count": 158,
     "metadata": {},
     "output_type": "execute_result"
    }
   ],
   "source": [
    "#문제\n",
    "\n",
    "#데이터를 입력받아 \n",
    "#삼각형의 넓이 ( 밑변 x 높이 /2 )\n",
    "#사각형의 넓이 ( 밑변 x 높이)\n",
    "#원의 넓이를 계산하는 함수를 작성해보시오 ( 반지름) math.pi =3.141592\n",
    "\n",
    "#내답 .\n",
    "\n",
    "triangle_height = int(input('삼각형 높이'))\n",
    "triangle_line = int(input('삼각형 밑변'))\n",
    "\n",
    "def triangle_width(a,b):\n",
    "    return (a*b)/2\n",
    "\n",
    "triangle_width(triangle_height,triangle_line)\n",
    "    \n"
   ]
  },
  {
   "cell_type": "code",
   "execution_count": 163,
   "metadata": {},
   "outputs": [
    {
     "name": "stdout",
     "output_type": "stream",
     "text": [
      "밑변이나 반지름으로 사용할 값 입력 :10\n",
      "높이로 사용할 값 입력 :5\n",
      "삼각형 넓이  25.0\n",
      "사각형 넓이  50\n",
      "원의 넓이 314.1592653589793\n"
     ]
    }
   ],
   "source": [
    "#문제\n",
    "\n",
    "#데이터를 입력받아 \n",
    "#삼각형의 넓이 ( 밑변 x 높이 /2 )\n",
    "#사각형의 넓이 ( 밑변 x 높이)\n",
    "#원의 넓이를 계산하는 함수를 작성해보시오 ( 반지름) math.pi =3.141592\n",
    "\n",
    "\n",
    "import math\n",
    "def calculate_triangle(mylist):\n",
    "    return mylist[0] * mylist[1]/2\n",
    "\n",
    "\n",
    "def calculate_rectangle(mylist):\n",
    "    return mylist[0] * mylist[1]\n",
    "\n",
    "def calculate_circle(mylist):\n",
    "    return math.pi * (mylist[0]**2)\n",
    "\n",
    "mylist =[]\n",
    "width = eval(input('밑변이나 반지름으로 사용할 값 입력 :',))\n",
    "height = eval(input('높이로 사용할 값 입력 :',))\n",
    "\n",
    "mylist.append(width)\n",
    "mylist.append(height)\n",
    "\n",
    "print('삼각형 넓이 ',  calculate_triangle(mylist))\n",
    "print('사각형 넓이 ',calculate_rectangle(mylist))\n",
    "print('원의 넓이', calculate_circle(mylist))"
   ]
  },
  {
   "cell_type": "code",
   "execution_count": 194,
   "metadata": {},
   "outputs": [
    {
     "ename": "IndentationError",
     "evalue": "unindent does not match any outer indentation level (<tokenize>, line 14)",
     "output_type": "error",
     "traceback": [
      "\u001b[1;36m  File \u001b[1;32m\"<tokenize>\"\u001b[1;36m, line \u001b[1;32m14\u001b[0m\n\u001b[1;33m    print(time,money)\u001b[0m\n\u001b[1;37m    ^\u001b[0m\n\u001b[1;31mIndentationError\u001b[0m\u001b[1;31m:\u001b[0m unindent does not match any outer indentation level\n"
     ]
    }
   ],
   "source": [
    "#시간과 시간당 급여를 입력받아 주급을 계산하는 프로그램을 작성하시오\n",
    "\n",
    "#- 조건 : 40시간이 넘으면 1.5배하여 지급한다\n",
    "#   - 매개변수  ( 시간, 시간당 급여 )\n",
    "#내답\n",
    "    \n",
    "t = int(input('근무시간 :'))    \n",
    "m = int(input( ' 시급 : '))\n",
    "    \n",
    "\n",
    "def income(time,money):\n",
    "    if time > 40:\n",
    "         x = time * money + (time-40)* (money*1.5)   # 50시간이라고 할 때 앞에서도  50ㅇㅣ 곱해지기 때문에  틀렸음 \n",
    "        print(time)\n",
    "    else:\n",
    "        x =  time*money\n",
    "    return x\n",
    "            \n",
    "    \n",
    "print(income(t,m))"
   ]
  },
  {
   "cell_type": "code",
   "execution_count": 192,
   "metadata": {},
   "outputs": [
    {
     "name": "stdout",
     "output_type": "stream",
     "text": [
      "시급 :2\n",
      " 근무시간 :50\n",
      "주간수입{0:,.2f} : 110.0\n"
     ]
    }
   ],
   "source": [
    "\n",
    "basictime= 40\n",
    "def pay(wage,hours):\n",
    "    if hours <= basictime:\n",
    "        amount = wage * hours\n",
    "    else:\n",
    "         amount = (wage * basictime) + ((1.5) * wage * (hours - basictime))\n",
    "    return amount\n",
    "\n",
    "hourlywage = eval(input('시급 :'))\n",
    "hoursworked = eval(input(' 근무시간 :'))\n",
    "earnings = pay(hourlywage,hoursworked)\n",
    "print('주간수입{0:,.2f} :', format(earnings))"
   ]
  },
  {
   "cell_type": "code",
   "execution_count": 208,
   "metadata": {},
   "outputs": [
    {
     "ename": "IndentationError",
     "evalue": "unindent does not match any outer indentation level (<tokenize>, line 18)",
     "output_type": "error",
     "traceback": [
      "\u001b[1;36m  File \u001b[1;32m\"<tokenize>\"\u001b[1;36m, line \u001b[1;32m18\u001b[0m\n\u001b[1;33m    return  origin * interest\u001b[0m\n\u001b[1;37m    ^\u001b[0m\n\u001b[1;31mIndentationError\u001b[0m\u001b[1;31m:\u001b[0m unindent does not match any outer indentation level\n"
     ]
    }
   ],
   "source": [
    "#이자율이 주어졌을 때 기간 거치후의 총액과 이자수익을 출력하시오\n",
    "#복리계산 = (원가1 + 이율 0.04) ** 거치년수 \n",
    "# 매개변수: 원금 , 거치기간 \n",
    "#단서 조건 , 입력함수 , 계산함수 , 출력함수 분리해서 작성하시오\n",
    "\n",
    "# 내답\n",
    "\n",
    "interest_rate = 0.04\n",
    "\n",
    "#복리 계산법  : a(1+r)^n\n",
    "\n",
    "#입\n",
    "origin = eval(input('원금 :'))\n",
    "period = eval(input('거치 기간 :'))\n",
    "\n",
    "#계산\n",
    "\n",
    "def total(origin,period):\n",
    "     interest = (1+interest_rate)**p    \n",
    "    return  origin * interest\n",
    "\n",
    "\n",
    "print(total(origin,period))\n"
   ]
  },
  {
   "cell_type": "code",
   "execution_count": 230,
   "metadata": {},
   "outputs": [
    {
     "name": "stdout",
     "output_type": "stream",
     "text": [
      "예금액 :25\n",
      "기간:2\n",
      "예금 총액 :$27.04 이자 총액 : $2.04\n",
      "예금액 :2\n",
      "기간:2\n",
      "예금 총액 :$2.16 이자 총액 : $0.16\n"
     ]
    }
   ],
   "source": [
    "#이자율이 주어졌을 때 기간 거치후의 총액과 이자수익을 출력하시오\n",
    "#복리계산 = (원가1 + 이율 0.04) ** 거치년수 \n",
    "# 매개변수: 원금 , 거치기간 \n",
    "#단서 조건 , 입력함수 , 계산함수 , 출력함수 분리해서 작성하시오\n",
    "\n",
    "#쌤 답\n",
    "\n",
    "\n",
    "interest_rate = 0.04\n",
    "\n",
    "#입력\n",
    "\n",
    "def getInput():\n",
    "    principal = eval(input('예금액 :'))\n",
    "    numberOfYears = eval(input('기간:'))\n",
    "    return(principal,numberOfYears)\n",
    "#처리\n",
    "def balanceAndInterest(prin,numYears):\n",
    "    balance = prin *((1+interest_rate) ** numYears) #원금포함 이자 계산액\n",
    "    interestEarned = balance - prin\n",
    "    return (balance,interestEarned)\n",
    "#출력\n",
    "def displayOutput(bal,intEarned):\n",
    "    print('예금 총액 :${0:,.2f} 이자 총액 : ${1:,.2f}'.format(bal, intEarned))\n",
    "    \n",
    "    \n",
    "    \n",
    "\n",
    "    \n",
    "#방법 2\n",
    "\n",
    "def main():\n",
    "    principal,numberOfYears = getInput()\n",
    "    bal,intEarned = balanceAndInterest(principal,numberOfYears)\n",
    "    displayOutput(bal,intEarned)\n",
    "    displayOutput(*(balanceAndInterest(*getInput()))) # *이거 붙이면 찢어져서 다음함수에 투입됨 \n",
    "\n",
    "main()\n",
    "\n"
   ]
  },
  {
   "cell_type": "code",
   "execution_count": null,
   "metadata": {},
   "outputs": [],
   "source": [
    "#함수화 프로그래밍 FOR + 함수를 적용\n",
    "#laMBDA 함수를 이용한 처리가 많음"
   ]
  },
  {
   "cell_type": "code",
   "execution_count": 231,
   "metadata": {},
   "outputs": [
    {
     "data": {
      "text/plain": [
       "100"
      ]
     },
     "execution_count": 231,
     "metadata": {},
     "output_type": "execute_result"
    }
   ],
   "source": [
    "(lambda x:x*x)(10) # 즉시 실행시 lambda괄호 "
   ]
  },
  {
   "cell_type": "code",
   "execution_count": 232,
   "metadata": {},
   "outputs": [
    {
     "name": "stdout",
     "output_type": "stream",
     "text": [
      "11\n"
     ]
    },
    {
     "data": {
      "text/plain": [
       "15"
      ]
     },
     "execution_count": 232,
     "metadata": {},
     "output_type": "execute_result"
    }
   ],
   "source": [
    "#,lambda 함수를 변수에 대입하면  무명함수에서 유명함수\n",
    "\n",
    "incr = lambda x, incr =1: x+incr\n",
    "print(incr(10))\n",
    "incr(10,5)"
   ]
  },
  {
   "cell_type": "code",
   "execution_count": 235,
   "metadata": {},
   "outputs": [
    {
     "name": "stdout",
     "output_type": "stream",
     "text": [
      "['aaaa', 'foo', 'abab', 'bar', 'card']\n"
     ]
    }
   ],
   "source": [
    "#개수에 따른 정렬 \n",
    "strings= ['foo','card','bar','aaaa','abab']\n",
    "strings.sort()\n",
    "#정렬기준을 key에 함수로 전달 ()\n",
    "strings.sort( key = lambda x :len(set(list(x)))) #중복되지않는 데이터 개수에 따라 정렬 ( 내림차순)\n",
    "print(strings)  # sort안에 key라는 매개변수가 있다 "
   ]
  },
  {
   "cell_type": "code",
   "execution_count": 238,
   "metadata": {},
   "outputs": [
    {
     "name": "stdout",
     "output_type": "stream",
     "text": [
      "<map object at 0x0000026F027E4848>\n",
      "[9, 16]\n"
     ]
    }
   ],
   "source": [
    "#map함수 : for 문이 없지만 들어온 데이터에 대해서 하나하나 함수 적용 \n",
    "#map 은  default 가 없기 때문에  앞처럼 ' key = ' 이 없어도 된당\n",
    "\n",
    "\n",
    "m = map(lambda x: x*x,[3,4])  # map 고유의 포멧으로 출력되어서  list로 캐스팅해줘야 볼 수 있음\n",
    "print(m)\n",
    "print(list(m)) #리스팅으로 캐스팅해야 출력"
   ]
  },
  {
   "cell_type": "code",
   "execution_count": 241,
   "metadata": {},
   "outputs": [
    {
     "data": {
      "text/plain": [
       "[0, 1, 4, 9, 16]"
      ]
     },
     "execution_count": 241,
     "metadata": {},
     "output_type": "execute_result"
    }
   ],
   "source": [
    "#map\n",
    "#직접 대입\n",
    "list(map(lambda x: x*x,range(5))) "
   ]
  },
  {
   "cell_type": "code",
   "execution_count": null,
   "metadata": {},
   "outputs": [],
   "source": [
    "#map\n",
    "#간단하게 표현\n",
    "sqr = lambda x: x*x\n",
    "list(map(sqr,range(5)))  "
   ]
  },
  {
   "cell_type": "code",
   "execution_count": 243,
   "metadata": {},
   "outputs": [
    {
     "data": {
      "text/plain": [
       "[0, 1, 4, 9, 16]"
      ]
     },
     "execution_count": 243,
     "metadata": {},
     "output_type": "execute_result"
    }
   ],
   "source": [
    "#map\n",
    "# 정식함수\n",
    "\n",
    "def sqr2(x):\n",
    "    return x*x\n",
    "list(map(sqr2,range(5)))"
   ]
  },
  {
   "cell_type": "code",
   "execution_count": 246,
   "metadata": {},
   "outputs": [
    {
     "name": "stdout",
     "output_type": "stream",
     "text": [
      "[1210000, 1135000, 910000, 1360000, 2260000, 3010000]\n",
      "[1210000, 1135000, 910000, 1360000, 2260000, 3010000]\n"
     ]
    }
   ],
   "source": [
    "#문제\n",
    "# 다음 출근시간 데이터에 대하여 기본금 1000원 시간당 7500원의 급여를 계산하고 \n",
    "#lambda 와 map 함수를 이용하여 구하시오\n",
    "\n",
    "#방법 1\n",
    "\n",
    "total_time = [160,150,120,180,300,400]\n",
    "calculate = lambda x: 10000 +7500 * x\n",
    "pay = list(map(calculate,total_time))\n",
    "print(pay)\n",
    "\n",
    "#방법 2\n",
    "\n",
    "pay = list(map(lambda x: 10000+7500 * x , total_time))\n",
    "print(pay)"
   ]
  },
  {
   "cell_type": "code",
   "execution_count": 249,
   "metadata": {},
   "outputs": [
    {
     "data": {
      "text/plain": [
       "(<function __main__.odd(p)>, range(0, 100))"
      ]
     },
     "execution_count": 249,
     "metadata": {},
     "output_type": "execute_result"
    }
   ],
   "source": [
    "#홀수만 출력하기\n",
    "\n",
    "def odd(p):\n",
    "    return[i for i in p if i%2]  #홀수\n",
    "odd,range(100)"
   ]
  },
  {
   "cell_type": "code",
   "execution_count": 250,
   "metadata": {},
   "outputs": [
    {
     "name": "stdout",
     "output_type": "stream",
     "text": [
      "[1, 3, 5, 7, 9, 11, 13, 15, 17, 19, 21, 23, 25, 27, 29, 31, 33, 35, 37, 39, 41, 43, 45, 47, 49, 51, 53, 55, 57, 59, 61, 63, 65, 67, 69, 71, 73, 75, 77, 79, 81, 83, 85, 87, 89, 91, 93, 95, 97, 99]"
     ]
    }
   ],
   "source": [
    "#필터의 함수는 true/false 를 리턴하는 함수여야함\n",
    "\n",
    "def odd(k):\n",
    "       return k%2\n",
    "print(list(filter(odd,range(100))), end = '')"
   ]
  },
  {
   "cell_type": "code",
   "execution_count": 256,
   "metadata": {},
   "outputs": [
    {
     "name": "stdout",
     "output_type": "stream",
     "text": [
      "[3, 6, 9, 12, 15, 18, 21, 24, 27, 30, 33, 36, 39, 42, 45, 48, 51, 54, 57, 60, 63, 66, 69, 72, 75, 78, 81, 84, 87, 90, 93, 96, 99] "
     ]
    }
   ],
   "source": [
    "#문제\n",
    "#1부터 99 사이의 데이터 중 3으로 나누어 떨어지는 데이터를 filter를 이용해 구하시오 \n",
    "# filter도 list로 casting 해주어야  출력가능하다 \n",
    "\n",
    "def  odd(k):\n",
    "    return k%3 ==0\n",
    "print(list(filter(odd,range(1,100))),end = \" \")"
   ]
  },
  {
   "cell_type": "code",
   "execution_count": 255,
   "metadata": {},
   "outputs": [
    {
     "data": {
      "text/plain": [
       "55"
      ]
     },
     "execution_count": 255,
     "metadata": {},
     "output_type": "execute_result"
    }
   ],
   "source": [
    "#reduce (분산 처리시 값을 계산할 때 사용)\n",
    "\n",
    "from functools import reduce\n",
    "reduce(lambda x,y : x+y , range(11)) #이전에 계산된 값이 x 로 온다 "
   ]
  },
  {
   "cell_type": "code",
   "execution_count": 263,
   "metadata": {},
   "outputs": [
    {
     "data": {
      "text/plain": [
       "362880"
      ]
     },
     "execution_count": 263,
     "metadata": {},
     "output_type": "execute_result"
    }
   ],
   "source": [
    "reduce(lambda x,y: x*y,range(1,10))"
   ]
  },
  {
   "cell_type": "code",
   "execution_count": 257,
   "metadata": {},
   "outputs": [
    {
     "data": {
      "text/plain": [
       "'edcba'"
      ]
     },
     "execution_count": 257,
     "metadata": {},
     "output_type": "execute_result"
    }
   ],
   "source": [
    "reduce(lambda x, y: y+x , \"abcde\")"
   ]
  },
  {
   "cell_type": "code",
   "execution_count": 260,
   "metadata": {},
   "outputs": [
    {
     "data": {
      "text/plain": [
       "5.0"
      ]
     },
     "execution_count": 260,
     "metadata": {},
     "output_type": "execute_result"
    }
   ],
   "source": [
    "#함수 배열\n",
    "func_choice = [lambda x, y: x**y,lambda x,y :x/y]\n",
    "func_choice[0](10,2)\n",
    "func_choice[1](10,2)"
   ]
  },
  {
   "cell_type": "code",
   "execution_count": 262,
   "metadata": {},
   "outputs": [
    {
     "name": "stdout",
     "output_type": "stream",
     "text": [
      "[5, 6, 7, 8]\n"
     ]
    }
   ],
   "source": [
    "# 문제\n",
    "\n",
    "#1. 다음 데이터에서 4보다 큰 수만 출력하도록 filltering 해보시오\n",
    "\n",
    "data = [1,2,3,4,5,6,7,8,3,4,2,1] \n",
    "\n",
    "fill = list(filter(lambda x: x>4 , data))\n",
    "print(fill)"
   ]
  },
  {
   "cell_type": "code",
   "execution_count": 271,
   "metadata": {},
   "outputs": [],
   "source": [
    "#문제 \n",
    "\n",
    "#2. 숫자를 입력받아서 홀수 인 경우는 ' 나는 행복합니다 ' 라고 출력하고 \n",
    "#짝수인 경우는 '나는 귀중한 사람이다' 라고 출력하는 함수 선택을 구현해 보시오\n",
    "\n",
    "func_choice = [lambda:print('나는 귀중한 사람이다') ,lambda:print('나는 행복합니다.')]\n",
    "               "
   ]
  },
  {
   "cell_type": "code",
   "execution_count": 272,
   "metadata": {},
   "outputs": [
    {
     "name": "stdout",
     "output_type": "stream",
     "text": [
      "숫자를 입력하시오10\n",
      "나는 귀중한 사람이다\n"
     ]
    }
   ],
   "source": [
    "condition = eval ( input ('숫자를 입력하시오'))\n",
    "condition %=2\n",
    "func_choice[condition]()"
   ]
  },
  {
   "cell_type": "code",
   "execution_count": null,
   "metadata": {},
   "outputs": [],
   "source": [
    "#성적 프로그램을 입력, 처리 , 출력 함수를 이용해서 구현하시오\n",
    "# 이름,국어,영어, 수학, 총점,평균\n",
    "\n",
    "#입력\n",
    "\n",
    "#성적 프로그램을 입력, 처리 , 출력 함수를 이용해서 구현하시오\n",
    "# 이름,국어,영어, 수학, 총점,평균\n",
    "\n",
    "#list에 담아서 보기 \n",
    "\n",
    "test_info=[]\n",
    "\n",
    "#입력\n",
    "\n",
    "def score():\n",
    "    name = input('enter name :')\n",
    "    kor = int(input('enter kor score:'))\n",
    "    eng = int(input('enter english score :'))\n",
    "    math = int(input('enter math score :'))\n",
    "    test_info.append(name)\n",
    "    test_info.append(kor)\n",
    "    test_info.append(eng)\n",
    "    test_info.append(math)\n",
    "    return test_info\n",
    "#처리\n",
    "def info(test_info):\n",
    "    total = sum(test_info[1:])\n",
    "    avr = total /3\n",
    "    test_info.append(total)\n",
    "    test_info.append(avr)\n",
    "    return test_info    \n",
    "  \n",
    "#출력\n",
    "\n",
    "def result(test_info):\n",
    "    for i in range(len(test_info)):\n",
    "        print(test_info[i],end = '\\t')\n",
    "        \n",
    "        \n",
    "result(info(score()))"
   ]
  }
 ],
 "metadata": {
  "kernelspec": {
   "display_name": "Python 3",
   "language": "python",
   "name": "python3"
  },
  "language_info": {
   "codemirror_mode": {
    "name": "ipython",
    "version": 3
   },
   "file_extension": ".py",
   "mimetype": "text/x-python",
   "name": "python",
   "nbconvert_exporter": "python",
   "pygments_lexer": "ipython3",
   "version": "3.7.4"
  }
 },
 "nbformat": 4,
 "nbformat_minor": 2
}
