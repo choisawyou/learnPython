{
 "cells": [
  {
   "cell_type": "code",
   "execution_count": 2,
   "metadata": {},
   "outputs": [],
   "source": [
    "%matplotlib inline\n",
    "import numpy as np\n",
    "import matplotlib.pyplot as plt\n",
    "from scipy.optimize import curve_fit\n",
    "#scipy패키지 optimizaiton,interpolation,미적분,fft : matlab"
   ]
  },
  {
   "cell_type": "code",
   "execution_count": 5,
   "metadata": {},
   "outputs": [
    {
     "name": "stdout",
     "output_type": "stream",
     "text": [
      "[ 0.08703704 -0.81349206  1.69312169 -0.03968254]\n"
     ]
    }
   ],
   "source": [
    "x = np.array([0.0,1.0,2.0,3.0,4.0,5.0])\n",
    "y = np.array([0.0,0.8,0.9,0.1,-0.8,-1.0])\n",
    "\n",
    "z = np.polyfit(x,y,3)\n",
    "\n",
    "print(z)\n",
    "\n",
    "p = np.poly1d(z)"
   ]
  },
  {
   "cell_type": "code",
   "execution_count": 6,
   "metadata": {},
   "outputs": [
    {
     "data": {
      "text/plain": [
       "0.6143849206349201"
      ]
     },
     "execution_count": 6,
     "metadata": {},
     "output_type": "execute_result"
    }
   ],
   "source": [
    "p(0.5)"
   ]
  },
  {
   "cell_type": "markdown",
   "metadata": {},
   "source": [
    "# 상수 고려한 후 ? 달라지는 점과 reshape하는이유\n",
    "\n",
    "# y와 w는?\n",
    "\n"
   ]
  },
  {
   "cell_type": "code",
   "execution_count": 12,
   "metadata": {},
   "outputs": [
    {
     "name": "stdout",
     "output_type": "stream",
     "text": [
      "[[ 0.23249456]\n",
      " [-0.03869551]\n",
      " [ 0.5505375 ]\n",
      " [ 0.50318481]\n",
      " [ 2.18697965]]\n",
      "[[ 0.23249456]\n",
      " [-0.03869551]\n",
      " [ 0.5505375 ]\n",
      " [ 0.50318481]\n",
      " [ 2.18697965]]\n"
     ]
    },
    {
     "data": {
      "text/plain": [
       "array(86.44794301)"
      ]
     },
     "execution_count": 12,
     "metadata": {},
     "output_type": "execute_result"
    }
   ],
   "source": [
    "\n",
    "from sklearn.datasets import make_regression\n",
    "import statsmodels.api as sm\n",
    "\n",
    "bias = 100\n",
    "\n",
    "X0,y,w = make_regression(n_samples=200,n_features=1,bias=bias,noise=10,coef=True,random_state=1)\n",
    "print(X0[:5,:])\n",
    "\n",
    "X=sm.add_constant(X0)\n",
    "\n",
    "print(X0[:5,:])\n",
    "\n",
    "y=y.reshape(len(y),1)\n",
    "\n",
    "w"
   ]
  },
  {
   "cell_type": "code",
   "execution_count": null,
   "metadata": {},
   "outputs": [],
   "source": []
  }
 ],
 "metadata": {
  "kernelspec": {
   "display_name": "Python 3",
   "language": "python",
   "name": "python3"
  },
  "language_info": {
   "codemirror_mode": {
    "name": "ipython",
    "version": 3
   },
   "file_extension": ".py",
   "mimetype": "text/x-python",
   "name": "python",
   "nbconvert_exporter": "python",
   "pygments_lexer": "ipython3",
   "version": "3.7.4"
  }
 },
 "nbformat": 4,
 "nbformat_minor": 2
}
