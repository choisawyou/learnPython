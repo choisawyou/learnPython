{
 "cells": [
  {
   "cell_type": "code",
   "execution_count": 2,
   "metadata": {},
   "outputs": [
    {
     "name": "stdout",
     "output_type": "stream",
     "text": [
      "2 5 5.0\n",
      "5.0\n"
     ]
    }
   ],
   "source": [
    "class Triangle :\n",
    "    def datas(self,line,height):\n",
    "        self.line = line\n",
    "        self.height = height\n",
    "    def width(self):\n",
    "        return self.line * self.height /2\n",
    "tri = Triangle()\n",
    "tri.datas(2,5)\n",
    "print(tri.line,tri.height,tri.width())\n",
    "print(tri.width())"
   ]
  },
  {
   "cell_type": "markdown",
   "metadata": {},
   "source": [
    " # 인스턴스 후 출력방법 ?"
   ]
  },
  {
   "cell_type": "code",
   "execution_count": 20,
   "metadata": {},
   "outputs": [
    {
     "name": "stdout",
     "output_type": "stream",
     "text": [
      "<bound method Tri.w of <__main__.Tri object at 0x0000023493FB4088>>\n",
      "<bound method Tri.w of <__main__.Tri object at 0x0000023493FB40C8>>\n",
      "10 20 100.0\n",
      "7.5\n"
     ]
    }
   ],
   "source": [
    "class Tri:\n",
    "    def __init__(self,line,height):\n",
    "        self.line = line\n",
    "        self.height = height\n",
    "    def w(self):\n",
    "        return self.line * self.height /2\n",
    "T = Tri(10,20)\n",
    "x = Tri(3,5)\n",
    "\n",
    "print(T.w)  # 주소값 동일\n",
    "print(x.w)\n",
    "\n",
    "print(T.line,T.height,T.w())\n",
    "\n",
    "print(x.w())"
   ]
  },
  {
   "cell_type": "code",
   "execution_count": 31,
   "metadata": {},
   "outputs": [
    {
     "name": "stdout",
     "output_type": "stream",
     "text": [
      "12345\n",
      "54321\n"
     ]
    },
    {
     "data": {
      "text/plain": [
       "54321"
      ]
     },
     "execution_count": 31,
     "metadata": {},
     "output_type": "execute_result"
    }
   ],
   "source": [
    "class Myclass(object):\n",
    "    \"\"\"클래스의 예\"\"\"\n",
    "    i = 12345\n",
    "    def __init__(self):\n",
    "        self.i = 54321\n",
    "        num = 100\n",
    "    def f(self):\n",
    "        return self.i\n",
    "    \n",
    "print(Myclass.i)\n",
    "\n",
    "mc = Myclass()\n",
    "\n",
    "print(mc.i)\n",
    "\n",
    "mc.f()"
   ]
  },
  {
   "cell_type": "code",
   "execution_count": 32,
   "metadata": {},
   "outputs": [
    {
     "name": "stdout",
     "output_type": "stream",
     "text": [
      "12345\n",
      "54321\n"
     ]
    }
   ],
   "source": [
    "print(Myclass.i)\n",
    "print(Myclass().i)"
   ]
  },
  {
   "cell_type": "markdown",
   "metadata": {},
   "source": [
    "# sleep(3)은 뭐죠 ?"
   ]
  },
  {
   "cell_type": "code",
   "execution_count": 36,
   "metadata": {},
   "outputs": [
    {
     "name": "stdout",
     "output_type": "stream",
     "text": [
      "생성 Tue Dec 31 00:16:27 2019\n",
      "사망 Tue Dec 31 00:16:27 2019\n",
      "sleeping for 3 sec\n",
      "사망 Tue Dec 31 00:16:30 2019\n"
     ]
    }
   ],
   "source": [
    "from time import time,ctime,sleep\n",
    "class Life :\n",
    "    def __init__(self):\n",
    "        self.birth = ctime()\n",
    "        print('생성',self.birth)\n",
    "    def __del__(self):\n",
    "        print('사망',ctime())\n",
    "    def test(self):\n",
    "        print('sleeping for 3 sec')\n",
    "        sleep(3)\n",
    "li = Life()\n",
    "li.test()\n",
    "del li"
   ]
  },
  {
   "cell_type": "markdown",
   "metadata": {},
   "source": [
    "# Employee.empCount 에서 왜 Employee?"
   ]
  },
  {
   "cell_type": "code",
   "execution_count": 40,
   "metadata": {},
   "outputs": [],
   "source": [
    "class Employee:\n",
    "    empCount = 0\n",
    "    def __init__(self,name,salary):\n",
    "        self.name = name\n",
    "        self.salary = salary\n",
    "        Employee.empCount +=1\n",
    "    def displayCount(self):\n",
    "        print('직원수 = %d' %Employee.empCount)\n",
    "    def displayEmployee(self):\n",
    "         print('이름:', self.name , '급여 :', self.salary)\n",
    "    def __call__(self,*pargs,**kargs):\n",
    "        print('called :', pargs,kargs)\n",
    "    "
   ]
  },
  {
   "cell_type": "code",
   "execution_count": 44,
   "metadata": {},
   "outputs": [
    {
     "name": "stdout",
     "output_type": "stream",
     "text": [
      "직원수 = 6\n",
      "None\n",
      "직원수 = 7\n",
      "None\n"
     ]
    }
   ],
   "source": [
    "emp = Employee('김종호',500)\n",
    "print(emp.displayCount())\n",
    "emp1 = Employee('최서윤',10000)\n",
    "print(emp1.displayCount())\n"
   ]
  },
  {
   "cell_type": "code",
   "execution_count": 45,
   "metadata": {},
   "outputs": [
    {
     "name": "stdout",
     "output_type": "stream",
     "text": [
      "{'name': '김종호', 'salary': 500, 'age': 7}\n"
     ]
    }
   ],
   "source": [
    "emp.age  = 7\n",
    "\n",
    "print(emp.__dict__)"
   ]
  },
  {
   "cell_type": "markdown",
   "metadata": {},
   "source": [
    "# 문제 1 Q\n",
    "#-이름과 나이를 저장하는 Student class 를 생성하시오\n",
    "#-이름과 나이룰 출력하는 print 함수를 클래스 내에 정의하시오"
   ]
  },
  {
   "cell_type": "code",
   "execution_count": 47,
   "metadata": {},
   "outputs": [
    {
     "name": "stdout",
     "output_type": "stream",
     "text": [
      "최서윤 25\n",
      "None\n"
     ]
    }
   ],
   "source": [
    "class Student:\n",
    "    def __init__(self,name,age):\n",
    "        self.name = name\n",
    "        self.age = age\n",
    "    def info(self):\n",
    "        print(self.name,self.age)\n",
    "\n",
    "st = Student('최서윤',25)\n",
    "print(st.info())"
   ]
  },
  {
   "cell_type": "code",
   "execution_count": 49,
   "metadata": {},
   "outputs": [],
   "source": [
    "class Point:\n",
    "    def __init__(self,x,y):\n",
    "        self.x = x\n",
    "        self.y =y\n",
    "    def __repr__(self):\n",
    "        return \"좌표는 : (%d,%d)\"% (self.x,self.y)\n",
    "    def dist(self,other):\n",
    "        distance = (self.x - other.x)^2+(self.y-other.y)^2\n",
    "        return distance\n"
   ]
  },
  {
   "cell_type": "markdown",
   "metadata": {},
   "source": [
    "# dist 함수 쓰임새?"
   ]
  },
  {
   "cell_type": "code",
   "execution_count": 52,
   "metadata": {},
   "outputs": [
    {
     "ename": "NameError",
     "evalue": "name 'dist' is not defined",
     "output_type": "error",
     "traceback": [
      "\u001b[1;31m---------------------------------------------------------------------------\u001b[0m",
      "\u001b[1;31mNameError\u001b[0m                                 Traceback (most recent call last)",
      "\u001b[1;32m<ipython-input-52-419ad3a70140>\u001b[0m in \u001b[0;36m<module>\u001b[1;34m\u001b[0m\n\u001b[1;32m----> 1\u001b[1;33m \u001b[0mp1\u001b[0m \u001b[1;33m=\u001b[0m \u001b[0mdist\u001b[0m\u001b[1;33m(\u001b[0m\u001b[1;36m10\u001b[0m\u001b[1;33m,\u001b[0m\u001b[1;36m20\u001b[0m\u001b[1;33m)\u001b[0m\u001b[1;33m\u001b[0m\u001b[1;33m\u001b[0m\u001b[0m\n\u001b[0m\u001b[0;32m      2\u001b[0m \u001b[0mp2\u001b[0m \u001b[1;33m=\u001b[0m \u001b[0mPoint\u001b[0m\u001b[1;33m(\u001b[0m\u001b[1;36m1\u001b[0m\u001b[1;33m,\u001b[0m\u001b[1;36m5\u001b[0m\u001b[1;33m)\u001b[0m\u001b[1;33m\u001b[0m\u001b[1;33m\u001b[0m\u001b[0m\n\u001b[0;32m      3\u001b[0m \u001b[1;33m\u001b[0m\u001b[0m\n\u001b[0;32m      4\u001b[0m \u001b[0mprint\u001b[0m\u001b[1;33m(\u001b[0m\u001b[0mp1\u001b[0m\u001b[1;33m)\u001b[0m\u001b[1;33m\u001b[0m\u001b[1;33m\u001b[0m\u001b[0m\n",
      "\u001b[1;31mNameError\u001b[0m: name 'dist' is not defined"
     ]
    }
   ],
   "source": [
    "# print('두 점 사이의 거리는 =',first.dist(second))\n",
    "# if first.collision(second):\n",
    "#     print('충돌했습니다')\n",
    "# else:\n",
    "#     print('충돌하지않았습니다')"
   ]
  },
  {
   "cell_type": "code",
   "execution_count": null,
   "metadata": {},
   "outputs": [],
   "source": []
  },
  {
   "cell_type": "code",
   "execution_count": null,
   "metadata": {},
   "outputs": [],
   "source": []
  }
 ],
 "metadata": {
  "kernelspec": {
   "display_name": "Python 3",
   "language": "python",
   "name": "python3"
  },
  "language_info": {
   "codemirror_mode": {
    "name": "ipython",
    "version": 3
   },
   "file_extension": ".py",
   "mimetype": "text/x-python",
   "name": "python",
   "nbconvert_exporter": "python",
   "pygments_lexer": "ipython3",
   "version": "3.7.4"
  }
 },
 "nbformat": 4,
 "nbformat_minor": 2
}
