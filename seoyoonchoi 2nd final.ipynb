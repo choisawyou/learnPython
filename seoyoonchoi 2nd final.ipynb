{
 "cells": [
  {
   "cell_type": "markdown",
   "metadata": {},
   "source": [
    "# modeling\n",
    "\n",
    "https://books.google.co.kr/books?id=LTJFDwAAQBAJ&pg=PA134&lpg=PA134&dq=%ED%9D%91%EB%B0%B1%EC%9D%B4%EB%AF%B8%EC%A7%80+%EB%94%A5%EB%9F%AC%EB%8B%9D&source=bl&ots=m58eyFkxQ_&sig=ACfU3U3EGkypUS-G3t6amZqMp0Pvwit8Fg&hl=ko&sa=X&ved=2ahUKEwi2g-i5_drnAhWU7WEKHbApDHwQ6AEwCHoECAkQAQ#v=onepage&q=%ED%9D%91%EB%B0%B1%EC%9D%B4%EB%AF%B8%EC%A7%80%20%EB%94%A5%EB%9F%AC%EB%8B%9D&f=false"
   ]
  },
  {
   "cell_type": "code",
   "execution_count": null,
   "metadata": {},
   "outputs": [],
   "source": [
    "\n",
    "image_dir = './emotion_edit/'\n",
    "afraid_dir= \"./emotion_edit/afraid/\"\n",
    "anger_dir = \"./emotion_edit/anger/\"\n",
    "disgusted_dir = \"./emotion_edit/disgusted/\"\n",
    "happy_dir = \"./emotion_edit/happy/\"\n",
    "neutral_dir = \"./emotion_edit/neutral/\"\n",
    "sad_dir = \"./emotion_edit/sad/\"\n",
    "surprised_dir = \"./emotion_edit/surprised/\""
   ]
  },
  {
   "cell_type": "code",
   "execution_count": null,
   "metadata": {},
   "outputs": [],
   "source": [
    "from PIL import Image\n",
    "import os,glob,numpy as np\n",
    "from sklearn.model_selection import train_test_split\n",
    "import numpy as np\n",
    "from numpy import array\n",
    "import cv2\n",
    "image_path  = image_dir\n",
    "\n",
    "category = ['afraid','anger','disgusted','happy','neutral','sad','surprised']\n",
    "print(category)\n",
    "\n",
    "n_class = len(category)\n",
    "print(n_class)"
   ]
  },
  {
   "cell_type": "code",
   "execution_count": null,
   "metadata": {},
   "outputs": [],
   "source": [
    "\n",
    "X=[]\n",
    "Y=[]\n",
    "image_w =128\n",
    "image_h =128\n",
    "# pixels = image_w * image_h * 1"
   ]
  },
  {
   "cell_type": "code",
   "execution_count": null,
   "metadata": {},
   "outputs": [],
   "source": []
  },
  {
   "cell_type": "code",
   "execution_count": null,
   "metadata": {},
   "outputs": [],
   "source": [
    "for idx, expression  in enumerate(category):\n",
    "    label =[0 for i in range(n_class)] #라벨 초기화 \n",
    "    label[idx]=1\n",
    "    image_path = image_dir+'/'+ expression\n",
    "    files = glob.glob(image_path+'/*.jpg')\n",
    "    \n",
    "    \n",
    "    for i,f in enumerate(files):\n",
    "        img = Image.open(f)\n",
    "        img = img.convert('RGB') \n",
    "        img = img.resize((image_w, image_h))\n",
    "        data = np.asarray(img)\n",
    "        \n",
    "        X.append(data)\n",
    "        Y.append(label)\n",
    "        \n",
    "X = np.array(X)\n",
    "Y=  np.array(Y)"
   ]
  },
  {
   "cell_type": "code",
   "execution_count": null,
   "metadata": {},
   "outputs": [],
   "source": [
    "print(X.shape)"
   ]
  },
  {
   "cell_type": "code",
   "execution_count": null,
   "metadata": {},
   "outputs": [],
   "source": [
    "X_train, X_test, y_train,y_test = train_test_split(X,Y)\n",
    "print(len(X))\n",
    "print(len(Y))\n",
    "print(len(X_train))\n",
    "print(len(X_test))"
   ]
  },
  {
   "cell_type": "code",
   "execution_count": null,
   "metadata": {},
   "outputs": [],
   "source": [
    "print(X_train.shape)\n",
    "print(X_train.shape[0])\n",
    "print(X_test.shape)\n",
    "print(y_train[:10])"
   ]
  },
  {
   "cell_type": "code",
   "execution_count": null,
   "metadata": {},
   "outputs": [],
   "source": [
    "import tensorflow as tf\n",
    "\n",
    "config = tf.ConfigProto()\n",
    "config.gpu_options.allow_growth = True\n",
    "session = tf.Session(config=config)"
   ]
  },
  {
   "cell_type": "code",
   "execution_count": null,
   "metadata": {},
   "outputs": [],
   "source": [
    "X_train = X_train.astype(float)/255\n",
    "X_test = X_test.astype(float)/255"
   ]
  },
  {
   "cell_type": "code",
   "execution_count": null,
   "metadata": {},
   "outputs": [],
   "source": [
    "\n",
    "import tensorflow as tf\n",
    "from keras.applications import VGG16"
   ]
  },
  {
   "cell_type": "code",
   "execution_count": null,
   "metadata": {},
   "outputs": [],
   "source": [
    "import os,glob,numpy as np\n",
    "from keras.models import Sequential\n",
    "from keras.layers import Conv2D,MaxPooling2D,Dense,Flatten,Dropout\n",
    "from keras.callbacks import EarlyStopping,ModelCheckpoint\n",
    "import matplotlib.pyplot as plt\n",
    "import keras.backend.tensorflow_backend as K\n",
    "\n",
    "from keras import models, layers\n",
    "from keras import Input\n",
    "from keras.models import Model\n",
    "from keras import optimizers, initializers, regularizers, metrics\n",
    "from keras.callbacks import ModelCheckpoint\n",
    "import os\n",
    "from glob import glob\n",
    "from PIL import Image\n",
    "import matplotlib.pyplot as plt\n",
    "import numpy as np\n",
    "import math\n",
    "\n",
    "from keras.models import Sequential\n",
    "from keras import models\n",
    "from keras import layers\n",
    "from keras import optimizers,initializers,regularizers,metrics"
   ]
  },
  {
   "cell_type": "markdown",
   "metadata": {},
   "source": [
    "##  MAX POOLING"
   ]
  },
  {
   "cell_type": "code",
   "execution_count": null,
   "metadata": {},
   "outputs": [],
   "source": [
    "img_row = 128\n",
    "img_col =128\n",
    "channel =1\n",
    "n_class = 7\n",
    "batch_size =32\n",
    "epoch =32\n",
    "\n"
   ]
  },
  {
   "cell_type": "code",
   "execution_count": null,
   "metadata": {},
   "outputs": [],
   "source": [
    "X_train = X_train.reshape(X_train.shape[0],128,128,1)\n",
    "X_test = X_test.reshape(X_test.shape[0],128,128,1)"
   ]
  },
  {
   "cell_type": "code",
   "execution_count": null,
   "metadata": {},
   "outputs": [],
   "source": [
    "model =Sequential()\n",
    "#1\n",
    "model.add(Conv2D(256,kernel =3, padding ='same',input_shape =(img_row,img_col,channel),activation = 'relu'))\n",
    "model.add(Conv2D(64,(3,3),activation ='relu',padding='same'))\n",
    "model.add(Maxpooling2D(2,2),strides=(2,2))\n",
    "\n",
    "#2\n",
    "\n",
    "model.add(Conv2D(128,(3,3),activation ='relu',padding='same'))\n",
    "model.add(Conv2D(128,(3,3),activation ='relu',padding='same'))\n",
    "model.add(Maxpooling2D(2,2),strides=(2,2))\n",
    "\n",
    "#3\n",
    "model.add(Conv2D(256,(3,3),activation ='relu',padding='same'))\n",
    "model.add(Conv2D(256,(3,3),activation ='relu',padding='same'))\n",
    "model.add(Conv2D(256,(3,3),activation ='relu',padding='same'))\n",
    "model.add(Maxpooling2D(2,2),strides=(2,2))\n",
    "\n",
    "\n",
    "#4\n",
    "\n",
    "model.add(Conv2D(512,(3,3),activation ='relu',padding='same'))\n",
    "model.add(Conv2D(512,(3,3),activation ='relu',padding='same'))\n",
    "model.add(Conv2D(512,(3,3),activation ='relu',padding='same'))\n",
    "model.add(Maxpooling2D(2,2),strides=(2,2))\n",
    "\n",
    "\n",
    "#5\n",
    "\n",
    "model.add(Conv2D(512,(3,3),activation ='relu',padding='same'))\n",
    "model.add(Conv2D(512,(3,3),activation ='relu',padding='same'))\n",
    "model.add(Conv2D(512,(3,3),activation ='relu',padding='same'))\n",
    "model.add(Maxpooling2D(2,2),strides=(2,2))\n",
    "\n",
    "\n",
    "\n",
    "#Flatten\n",
    "model.add(layers.Flatten())\n",
    "model.add(layers.Dense(4096,activation = 'relu'))\n",
    "model.add(layers.Dense(4096,activation ='relu'))\n",
    "model.add(layers.Dense(2048,activation ='relu'))\n",
    "model.add(layers.Dense(1024,activation ='relu'))\n",
    "model.add(layers.Dense(n_class,activation ='softmax'))\n",
    "# model.add(layers.Dense(7,activation = 'softmax'))\n",
    "\n"
   ]
  },
  {
   "cell_type": "code",
   "execution_count": null,
   "metadata": {},
   "outputs": [],
   "source": [
    "print(X_train.shape)"
   ]
  },
  {
   "cell_type": "code",
   "execution_count": null,
   "metadata": {},
   "outputs": [],
   "source": [
    "from keras.models import Sequential\n",
    "from keras import models\n",
    "from keras import layers\n",
    "from keras import optimizers,initializers,regularizers,metrics"
   ]
  },
  {
   "cell_type": "code",
   "execution_count": null,
   "metadata": {},
   "outputs": [],
   "source": [
    " # 보류\n",
    "prevgg = VGG16(weights='imagenet',include_top = False, input_shape = (128,128,3))\n",
    "prevgg.trainable = False\n",
    "\n",
    "prevgg.summary()"
   ]
  },
  {
   "cell_type": "code",
   "execution_count": null,
   "metadata": {},
   "outputs": [],
   "source": [
    " # 보류\n",
    "face_model = models.Sequential()\n",
    "face_model.add(prevgg)\n",
    "face_model.add(layers.Flatten())\n",
    "face_model.add(layers.Dense(4096,activation = 'relu'))\n",
    "face_model.add(layers.Dense(2048,activation ='relu'))\n",
    "face_model.add(layers.Dense(1024,activation ='relu'))\n",
    "face_model.add(layers.Dense(7,activation = 'softmax'))"
   ]
  },
  {
   "cell_type": "code",
   "execution_count": null,
   "metadata": {},
   "outputs": [],
   "source": [
    "model_dir = 'emotion_edit/model'\n",
    "model_path = model_dir +'vgg16max.model'"
   ]
  },
  {
   "cell_type": "code",
   "execution_count": null,
   "metadata": {},
   "outputs": [],
   "source": [
    "checkpoint = ModelCheckpoint(filepath=model_path , monitor='val_loss', verbose=1, save_best_only=True)\n",
    "early_stopping = EarlyStopping(monitor='val_loss', patience=6)\n",
    "face_model.compile(loss='categorical_crossentropy', optimizer=optimizers.RMSprop(lr=2e-5), metrics=['acc'])"
   ]
  },
  {
   "cell_type": "code",
   "execution_count": null,
   "metadata": {},
   "outputs": [],
   "source": [
    "maxmodel = model.fit(X_train,y_train,validation_split =0.2, batch_size = batch_size , epochs = epoch , callbacks[checkpoint,early_stopping])"
   ]
  },
  {
   "cell_type": "code",
   "execution_count": null,
   "metadata": {},
   "outputs": [],
   "source": [
    "from keras.models import load_model\n",
    "model.save('maxmodel.h5')"
   ]
  },
  {
   "cell_type": "code",
   "execution_count": null,
   "metadata": {},
   "outputs": [],
   "source": []
  },
  {
   "cell_type": "code",
   "execution_count": null,
   "metadata": {},
   "outputs": [],
   "source": []
  },
  {
   "cell_type": "code",
   "execution_count": null,
   "metadata": {},
   "outputs": [],
   "source": []
  },
  {
   "cell_type": "code",
   "execution_count": null,
   "metadata": {},
   "outputs": [],
   "source": []
  },
  {
   "cell_type": "code",
   "execution_count": null,
   "metadata": {},
   "outputs": [],
   "source": []
  },
  {
   "cell_type": "markdown",
   "metadata": {},
   "source": [
    "## AVERAGE POOLING or avg로 해보기"
   ]
  },
  {
   "cell_type": "markdown",
   "metadata": {},
   "source": [
    "- keras.layers.AveragePooling2D(pool_size=(2, 2), strides=None, padding='valid', data_format=None)"
   ]
  },
  {
   "cell_type": "code",
   "execution_count": null,
   "metadata": {},
   "outputs": [],
   "source": [
    "from keras.layers import AveragePooling2D"
   ]
  },
  {
   "cell_type": "code",
   "execution_count": null,
   "metadata": {},
   "outputs": [],
   "source": [
    "img_row = 128\n",
    "img_col =128\n",
    "channel =1\n",
    "n_class = 7\n",
    "batch_size =32\n",
    "epoch =32\n"
   ]
  },
  {
   "cell_type": "code",
   "execution_count": null,
   "metadata": {},
   "outputs": [],
   "source": [
    "model =Sequential()\n",
    "#1\n",
    "model.add(Conv2D(256,kernel =3, padding ='same',input_shape =(img_row,img_col,channel),activation = 'relu'))\n",
    "model.add(Conv2D(64,(3,3),activation ='relu',padding='same'))\n",
    "model.add(Maxpooling2D(2,2),strides=(2,2))\n",
    "\n",
    "#2\n",
    "\n",
    "model.add(Conv2D(128,(3,3),activation ='relu',padding='same'))\n",
    "model.add(Conv2D(128,(3,3),activation ='relu',padding='same'))\n",
    "model.add(AveragePooling2D(2,2),strides=(2,2))\n",
    "\n",
    "#3\n",
    "model.add(Conv2D(256,(3,3),activation ='relu',padding='same'))\n",
    "model.add(Conv2D(256,(3,3),activation ='relu',padding='same'))\n",
    "model.add(Conv2D(256,(3,3),activation ='relu',padding='same'))\n",
    "model.add(AveragePooling2D(2,2),strides=(2,2))\n",
    "\n",
    "\n",
    "#4\n",
    "\n",
    "model.add(Conv2D(512,(3,3),activation ='relu',padding='same'))\n",
    "model.add(Conv2D(512,(3,3),activation ='relu',padding='same'))\n",
    "model.add(Conv2D(512,(3,3),activation ='relu',padding='same'))\n",
    "model.add(AveragePooling2D(2,2),strides=(2,2))\n",
    "\n",
    "\n",
    "#5\n",
    "\n",
    "model.add(Conv2D(512,(3,3),activation ='relu',padding='same'))\n",
    "model.add(Conv2D(512,(3,3),activation ='relu',padding='same'))\n",
    "model.add(Conv2D(512,(3,3),activation ='relu',padding='same'))\n",
    "model.add(AveragePooling2D(2,2),strides=(2,2))\n",
    "\n",
    "\n",
    "\n",
    "#Flatten\n",
    "model.add(layers.Flatten())\n",
    "model.add(layers.Dense(4096,activation = 'relu'))\n",
    "model.add(layers.Dense(4096,activation ='relu'))\n",
    "model.add(layers.Dense(2048,activation ='relu'))\n",
    "model.add(layers.Dense(1024,activation ='relu'))\n",
    "model.add(layers.Dense(n_class,activation ='softmax'))\n",
    "# model.add(layers.Dense(7,activation = 'softmax'))\n",
    "\n"
   ]
  },
  {
   "cell_type": "code",
   "execution_count": null,
   "metadata": {},
   "outputs": [],
   "source": [
    "print(X_train.shape)"
   ]
  },
  {
   "cell_type": "code",
   "execution_count": null,
   "metadata": {},
   "outputs": [],
   "source": [
    "\n",
    "model_dir = 'emotion_edit/model'\n",
    "model_path = model_dir +'vgg16avg.model'"
   ]
  },
  {
   "cell_type": "code",
   "execution_count": null,
   "metadata": {},
   "outputs": [],
   "source": [
    "checkpoint = ModelCheckpoint(filepath=model_path , monitor='val_loss', verbose=1, save_best_only=True)\n",
    "early_stopping = EarlyStopping(monitor='val_loss', patience=6)\n",
    "face_model.compile(loss='categorical_crossentropy', optimizer=optimizers.RMSprop(lr=2e-5), metrics=['acc'])"
   ]
  },
  {
   "cell_type": "code",
   "execution_count": null,
   "metadata": {},
   "outputs": [],
   "source": [
    "avgmodel = model.fit(X_train,y_train,validation_split =0.2, batch_size = batch_size , epochs = epoch , callbacks[checkpoint,early_stopping])"
   ]
  },
  {
   "cell_type": "code",
   "execution_count": null,
   "metadata": {},
   "outputs": [],
   "source": [
    "from keras.models import load_model\n",
    "model.save('avgmodel.h5')"
   ]
  },
  {
   "cell_type": "code",
   "execution_count": null,
   "metadata": {},
   "outputs": [],
   "source": []
  },
  {
   "cell_type": "code",
   "execution_count": null,
   "metadata": {},
   "outputs": [],
   "source": []
  },
  {
   "cell_type": "code",
   "execution_count": null,
   "metadata": {},
   "outputs": [],
   "source": []
  },
  {
   "cell_type": "code",
   "execution_count": null,
   "metadata": {},
   "outputs": [],
   "source": []
  },
  {
   "cell_type": "code",
   "execution_count": null,
   "metadata": {},
   "outputs": [],
   "source": []
  }
 ],
 "metadata": {
  "kernelspec": {
   "display_name": "Python 3",
   "language": "python",
   "name": "python3"
  },
  "language_info": {
   "codemirror_mode": {
    "name": "ipython",
    "version": 3
   },
   "file_extension": ".py",
   "mimetype": "text/x-python",
   "name": "python",
   "nbconvert_exporter": "python",
   "pygments_lexer": "ipython3",
   "version": "3.7.4"
  },
  "toc": {
   "base_numbering": 1,
   "nav_menu": {},
   "number_sections": true,
   "sideBar": true,
   "skip_h1_title": false,
   "title_cell": "Table of Contents",
   "title_sidebar": "Contents",
   "toc_cell": false,
   "toc_position": {},
   "toc_section_display": true,
   "toc_window_display": false
  }
 },
 "nbformat": 4,
 "nbformat_minor": 2
}
