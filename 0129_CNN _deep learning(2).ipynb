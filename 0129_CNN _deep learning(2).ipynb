{
 "cells": [
  {
   "cell_type": "markdown",
   "metadata": {},
   "source": [
    "# CNN ( Convolution Neural Network)_ 적분\n",
    "    _ cnn은 주변값을 고려하여 특징추출 _ 이것에 filter가 필요함 \n",
    "- 모델이 직접 이미지, 비디오, 텍스트 또는 사운드를 분류하는 머신 러닝의 한 유형인 딥러닝에 가장 많이 사용되는 알고리즘\\\n",
    "- CNN은 이미지에서 객체, 얼굴, 장면을 인식하기 위해 패턴을 찾는 데 특히 유용합니다. CNN은 데이터에서 직접 학습하며, 패턴을 사용하여 이미지를 분류하고 특징을 수동으로 추출할 필요가 없습니다.\n",
    "\n",
    "- 신경망의 기본은 ffnn이고 cnn은 앞단에서 특징추출 \n",
    "- cnn으로 특징추출하고 ffnn 실행\n",
    "\n",
    "**특징**\n",
    "- flattern 으로 일렬로 만들어줘야함\n",
    "- 이미지의 경우 일렬로 만들면 특징추출이 어려워진다 eg) 얼굴의 경우 눈 옆에 코 코옆에 입 이런식으로 \n",
    "    - 그래서 1 .이미지 원본에 filter적용_ 필터 사이즈가 크면 큰특징, 작으면 작은 특징 # 갯수 구하는 식은  -n+1 (n은 필터크기)\n",
    "    - 2. 이를 통해 필터의 주변이미지 특징값을 고려하여 곱합_ 중복되는 값이 생기기도함 \n",
    "    - 3. 이를 다 더해줌 : 적분과 비슷   \n",
    "    - 필터를 여러개 쌓아서 여러개의 특징을 뽑아냄\n",
    "    - random으로 초기화시키고 어떤필터를 적용시키면 될지 학습함 \n",
    "    - 특징을 필터로 뽑아내면 끝에 테두리 값은 없어진다 . 이것을 padding으로 값을 채움 100x100 => filter 98x98 => padding 100x100\n",
    "    -  pooling으로 강제로 줄여줌 _ max / average 등의 방법으로 pooling\n",
    "        - (필터를 통해 값을 추출하면 중복값이 생기기 때문에 줄여도 특징추출 문제 x)\n",
    "    - 이미지는 기본적으로 3차원 ( 가로 세로 RGB )\n",
    "        - 색상이 중요하지않은 이미지(형태가 중요한것)는 흑백으로 줄여서해야 사이즈 준다\n",
    "    - 필터를 증가시키는 이유는 여러 필터를 이용해서 특징 추출 / 이미 2차원을 적용하기위해서 3차원 값 도출\n",
    "         -  가중치를 부과하는 것과 비슷한 맥락?\n",
    "    - DEEP(레이어가 증가할수록)해질수록 정확해짐 \n",
    "    \n",
    "[중요개념 ]\n",
    "\n",
    "- stride : 연산자:건너뛰기 _특징을 추출할떄 이미 주변을 고려했기 때문에 한칸이 아닌 두칸세칸씩 건너뛰면서 특징추출 _ 적분연산\n",
    "- filter : 특징을 어떻게 추출할것인지  _ 필터 사이즈 때문에 주변값 손실해서\n",
    "- padding:으로 주변값으로  채워줌\n",
    "- pooling 주변값을 고려해서 특징추출해서 중복값 발생_ 그래서 값을 줄여줌"
   ]
  },
  {
   "cell_type": "markdown",
   "metadata": {},
   "source": [
    "# FFNN\n",
    "\n",
    "- 이미지의 숫자 예측\n",
    "- 0~ 9까지의 숫자를 이미지화_ 인식 eg 자동차 번호판"
   ]
  },
  {
   "cell_type": "markdown",
   "metadata": {},
   "source": [
    "## 모델만들기"
   ]
  },
  {
   "cell_type": "code",
   "execution_count": 50,
   "metadata": {},
   "outputs": [],
   "source": [
    "import warnings\n",
    "warnings.filterwarnings(action='ignore')"
   ]
  },
  {
   "cell_type": "code",
   "execution_count": 51,
   "metadata": {},
   "outputs": [
    {
     "name": "stdout",
     "output_type": "stream",
     "text": [
      "Extracting /tmp/data/train-images-idx3-ubyte.gz\n",
      "Extracting /tmp/data/train-labels-idx1-ubyte.gz\n",
      "Extracting /tmp/data/t10k-images-idx3-ubyte.gz\n",
      "Extracting /tmp/data/t10k-labels-idx1-ubyte.gz\n"
     ]
    }
   ],
   "source": [
    "from tensorflow.examples.tutorials.mnist import input_data\n",
    "# target : 열자리중 하나로 표현 eg) 1000000000 \n",
    "mnist =input_data.read_data_sets('/tmp/data/',one_hot=True)  # 다운로드 위치와 원핫인코딩\n",
    "import tensorflow as tf"
   ]
  },
  {
   "cell_type": "code",
   "execution_count": 52,
   "metadata": {},
   "outputs": [
    {
     "name": "stdout",
     "output_type": "stream",
     "text": [
      "(128, 784)\n"
     ]
    }
   ],
   "source": [
    "# 128장의 이미지를 랜덤하게 공급\n",
    "batch_x,batch_y = mnist.train.next_batch(128)  #배치엑스는 이미지 와이는 타겟 \n",
    "print(batch_x.shape) # 128장 * 784(28x28) => 이미지가 flattern 되었다는 의미  _ flattern이 이미 되어서 나옴\n",
    "learning_rate =0.1 # 하이퍼파라미터 \n",
    "num_steps =500 #epoch 세대\n",
    "batch_size = 128 # mini batch  사이즈  : 속도를 고속, local해 때문에 미니배치\n",
    "display_step = 100 #시각화"
   ]
  },
  {
   "cell_type": "code",
   "execution_count": 53,
   "metadata": {},
   "outputs": [],
   "source": [
    "#히든레이어가 2개 \n",
    "# 784( 픽셀하나를 변수로 봄) => 784(입력) x 256 => 256x256 => 256 x10\n",
    "n_hidden_1 = 256\n",
    "n_hidden_2 = 256\n",
    "num_input = 784\n",
    "num_classes =10  #target 이 0 ~ 9 \n",
    "X = tf.placeholder('float',[None,num_input]) #128장 x 784픽셀\n",
    "Y = tf.placeholder('float',[None,num_classes]) #128장 x 10개 (원핫인코딩)"
   ]
  },
  {
   "cell_type": "code",
   "execution_count": 54,
   "metadata": {},
   "outputs": [],
   "source": [
    "#가중치 = 설명력 = 계수 \n",
    "weights ={  # 784x256 , 256x256 , 256x10  :가중치 덩어리 세개  # 이게 학습되어야 모델이 완성\n",
    "    'h1':tf.Variable(tf.random_normal([num_input,n_hidden_1])),\n",
    "    'h2':tf.Variable(tf.random_normal([n_hidden_1,n_hidden_2])),\n",
    "    'out':tf.Variable(tf.random_normal([n_hidden_2,num_classes]))\n",
    "}\n",
    "#bias = activation \n",
    "biases = {  #가중치 한덩어리당 bias 하나 반드시 존재 \n",
    "    'b1':tf.Variable(tf.random_normal([n_hidden_1])), #가중치가 존재하는 변수만큼 존재 \n",
    "    'b2':tf.Variable(tf.random_normal([n_hidden_2])),\n",
    "    'out':tf.Variable(tf.random_normal([num_classes]))\n",
    "}"
   ]
  },
  {
   "cell_type": "code",
   "execution_count": 55,
   "metadata": {},
   "outputs": [],
   "source": [
    "# 뉴럴네트워크 망 생성 \n",
    "def neural_net(x):  # x는 128x784  #layer_1은 가중치를 계산하고 나온 놈\n",
    "    layer_1 = tf.add(tf.matmul(x,weights['h1']),biases['b1']) # x와 곱해줌 / h1 : 784x256 , layer_1 : 128x256\n",
    "    layer_2 = tf.add(tf.matmul(layer_1,weights['h2']), # 128 x 256 * 256x256 => 128x256\n",
    "                    biases['b2'])\n",
    "    # 128x256  가중치 : 256x10 => 128 x 10 :타겟사이즈와 동일\n",
    "    out_layer = tf.matmul(layer_2,weights['out'])+biases['out']\n",
    "    return out_layer  # 128 x 10"
   ]
  },
  {
   "cell_type": "markdown",
   "metadata": {},
   "source": [
    "adagrad : learning -rate 처음에는 크다가 점점작게  0으로 \n",
    "\n",
    "이걸 쓰다가  momentum + propgrad() : 로 넘어옴  adaptive 적응적 \n",
    "↓↓↓↓↓↓↓↓↓↓↓↓↓↓↓↓↓"
   ]
  },
  {
   "cell_type": "code",
   "execution_count": 56,
   "metadata": {},
   "outputs": [],
   "source": [
    "logits = neural_net(X)  # 128 x 10\n",
    "#경사하강법 => 미분가능 => 분류 \n",
    "loss_op = tf.reduce_mean( #원핫인코드된값* log(확률값)       # softmax 확률값으로 계산            \n",
    "    tf.nn.softmax_cross_entropy_with_logits_v2(logits=logits, labels=Y)) #Adam 최적화기 : momentum + propgrad() 합친것\n",
    "optimizer = tf.train.AdamOptimizer(learning_rate=learning_rate) #최적화기 : 기울기 , 학습율\n",
    "train_op = optimizer.minimize(loss_op)\n",
    "correct_pred = tf.equal(tf.argmax(logits,1), tf.argmax(Y,1)) #가장 큰값의 인덱스를 구함(원핫인코딩) => target\n",
    "accuracy = tf.reduce_mean(tf.cast(correct_pred, tf.float32)) #cast :데이터 형변환 \n",
    "init = tf.global_variables_initializer()\n",
    "\n",
    "#######init = tf.global_variables_initializer() ####여기까지 모델 만들기"
   ]
  },
  {
   "cell_type": "markdown",
   "metadata": {},
   "source": [
    "## 실행부"
   ]
  },
  {
   "cell_type": "code",
   "execution_count": 58,
   "metadata": {},
   "outputs": [
    {
     "name": "stdout",
     "output_type": "stream",
     "text": [
      "Step1Minibatch Loss  : 11025.7832, Training Accuracy : 0.289\n",
      "Step100Minibatch Loss  : 494.5671, Training Accuracy : 0.875\n",
      "Step200Minibatch Loss  : 105.2701, Training Accuracy : 0.852\n",
      "Step300Minibatch Loss  : 111.3374, Training Accuracy : 0.852\n",
      "Step400Minibatch Loss  : 58.4010, Training Accuracy : 0.852\n",
      "Step500Minibatch Loss  : 55.1440, Training Accuracy : 0.891\n",
      "테스트 정확도 : \n",
      " 0.8476\n"
     ]
    }
   ],
   "source": [
    "with tf.Session() as sess: # GPU 네트워크 연결 => 일반화\n",
    "    sess.run(init)\n",
    "    for step in range(1, num_steps+1): # epoch\n",
    "        # #batch_x :128x784  batch_y : 128x10\n",
    "        batch_x, batch_y = mnist.train.next_batch(batch_size)\n",
    "        sess.run(train_op, feed_dict={X:batch_x, Y:batch_y})\n",
    "        if step % display_step ==0 or step == 1:\n",
    "            loss, acc = sess.run([loss_op, accuracy], feed_dict={X:batch_x, Y:batch_y})\n",
    "            print('Step'+str(step)+'Minibatch Loss  : {:.4f}'.format(loss)+', Training Accuracy : {:.3f}'.format(acc))\n",
    "    print('테스트 정확도 : \\n',sess.run(accuracy, feed_dict={X:mnist.test.images, Y:mnist.test.labels}))"
   ]
  },
  {
   "cell_type": "markdown",
   "metadata": {},
   "source": [
    "# boston 집값 예측 _회귀 \n",
    "boston 집값 예측"
   ]
  },
  {
   "cell_type": "code",
   "execution_count": 60,
   "metadata": {},
   "outputs": [
    {
     "data": {
      "text/html": [
       "<div>\n",
       "<style scoped>\n",
       "    .dataframe tbody tr th:only-of-type {\n",
       "        vertical-align: middle;\n",
       "    }\n",
       "\n",
       "    .dataframe tbody tr th {\n",
       "        vertical-align: top;\n",
       "    }\n",
       "\n",
       "    .dataframe thead th {\n",
       "        text-align: right;\n",
       "    }\n",
       "</style>\n",
       "<table border=\"1\" class=\"dataframe\">\n",
       "  <thead>\n",
       "    <tr style=\"text-align: right;\">\n",
       "      <th></th>\n",
       "      <th>CRIM</th>\n",
       "      <th>ZN</th>\n",
       "      <th>INDUS</th>\n",
       "      <th>CHAS</th>\n",
       "      <th>NOX</th>\n",
       "      <th>RM</th>\n",
       "      <th>AGE</th>\n",
       "      <th>DIS</th>\n",
       "      <th>RAD</th>\n",
       "      <th>TAX</th>\n",
       "      <th>PTRATIO</th>\n",
       "      <th>B</th>\n",
       "      <th>LSTAT</th>\n",
       "      <th>const</th>\n",
       "    </tr>\n",
       "  </thead>\n",
       "  <tbody>\n",
       "    <tr>\n",
       "      <td>501</td>\n",
       "      <td>0.06263</td>\n",
       "      <td>0.0</td>\n",
       "      <td>11.93</td>\n",
       "      <td>0.0</td>\n",
       "      <td>0.573</td>\n",
       "      <td>6.593</td>\n",
       "      <td>69.1</td>\n",
       "      <td>2.4786</td>\n",
       "      <td>1.0</td>\n",
       "      <td>273.0</td>\n",
       "      <td>21.0</td>\n",
       "      <td>391.99</td>\n",
       "      <td>9.67</td>\n",
       "      <td>1.0</td>\n",
       "    </tr>\n",
       "    <tr>\n",
       "      <td>502</td>\n",
       "      <td>0.04527</td>\n",
       "      <td>0.0</td>\n",
       "      <td>11.93</td>\n",
       "      <td>0.0</td>\n",
       "      <td>0.573</td>\n",
       "      <td>6.120</td>\n",
       "      <td>76.7</td>\n",
       "      <td>2.2875</td>\n",
       "      <td>1.0</td>\n",
       "      <td>273.0</td>\n",
       "      <td>21.0</td>\n",
       "      <td>396.90</td>\n",
       "      <td>9.08</td>\n",
       "      <td>1.0</td>\n",
       "    </tr>\n",
       "    <tr>\n",
       "      <td>503</td>\n",
       "      <td>0.06076</td>\n",
       "      <td>0.0</td>\n",
       "      <td>11.93</td>\n",
       "      <td>0.0</td>\n",
       "      <td>0.573</td>\n",
       "      <td>6.976</td>\n",
       "      <td>91.0</td>\n",
       "      <td>2.1675</td>\n",
       "      <td>1.0</td>\n",
       "      <td>273.0</td>\n",
       "      <td>21.0</td>\n",
       "      <td>396.90</td>\n",
       "      <td>5.64</td>\n",
       "      <td>1.0</td>\n",
       "    </tr>\n",
       "    <tr>\n",
       "      <td>504</td>\n",
       "      <td>0.10959</td>\n",
       "      <td>0.0</td>\n",
       "      <td>11.93</td>\n",
       "      <td>0.0</td>\n",
       "      <td>0.573</td>\n",
       "      <td>6.794</td>\n",
       "      <td>89.3</td>\n",
       "      <td>2.3889</td>\n",
       "      <td>1.0</td>\n",
       "      <td>273.0</td>\n",
       "      <td>21.0</td>\n",
       "      <td>393.45</td>\n",
       "      <td>6.48</td>\n",
       "      <td>1.0</td>\n",
       "    </tr>\n",
       "    <tr>\n",
       "      <td>505</td>\n",
       "      <td>0.04741</td>\n",
       "      <td>0.0</td>\n",
       "      <td>11.93</td>\n",
       "      <td>0.0</td>\n",
       "      <td>0.573</td>\n",
       "      <td>6.030</td>\n",
       "      <td>80.8</td>\n",
       "      <td>2.5050</td>\n",
       "      <td>1.0</td>\n",
       "      <td>273.0</td>\n",
       "      <td>21.0</td>\n",
       "      <td>396.90</td>\n",
       "      <td>7.88</td>\n",
       "      <td>1.0</td>\n",
       "    </tr>\n",
       "  </tbody>\n",
       "</table>\n",
       "</div>"
      ],
      "text/plain": [
       "        CRIM   ZN  INDUS  CHAS    NOX     RM   AGE     DIS  RAD    TAX  \\\n",
       "501  0.06263  0.0  11.93   0.0  0.573  6.593  69.1  2.4786  1.0  273.0   \n",
       "502  0.04527  0.0  11.93   0.0  0.573  6.120  76.7  2.2875  1.0  273.0   \n",
       "503  0.06076  0.0  11.93   0.0  0.573  6.976  91.0  2.1675  1.0  273.0   \n",
       "504  0.10959  0.0  11.93   0.0  0.573  6.794  89.3  2.3889  1.0  273.0   \n",
       "505  0.04741  0.0  11.93   0.0  0.573  6.030  80.8  2.5050  1.0  273.0   \n",
       "\n",
       "     PTRATIO       B  LSTAT  const  \n",
       "501     21.0  391.99   9.67    1.0  \n",
       "502     21.0  396.90   9.08    1.0  \n",
       "503     21.0  396.90   5.64    1.0  \n",
       "504     21.0  393.45   6.48    1.0  \n",
       "505     21.0  396.90   7.88    1.0  "
      ]
     },
     "execution_count": 60,
     "metadata": {},
     "output_type": "execute_result"
    }
   ],
   "source": [
    "from sklearn.datasets import load_boston\n",
    "import pandas as pd\n",
    "import numpy as np\n",
    "import tensorflow as tf\n",
    "boston = load_boston()\n",
    "df = pd.DataFrame(boston.data,columns=boston.feature_names)\n",
    "df['const'] =np.ones(df.shape[0])\n",
    "df.tail()"
   ]
  },
  {
   "cell_type": "code",
   "execution_count": 64,
   "metadata": {},
   "outputs": [
    {
     "name": "stdout",
     "output_type": "stream",
     "text": [
      "506 14\n"
     ]
    }
   ],
   "source": [
    "n,m =df.shape\n",
    "print(n,m) #506개 data point x 14개 변수 \n",
    "X = tf.placeholder(tf.float64 , shape =(n,m)) # 506x14\n",
    "y = tf.placeholder(tf.float64, shape =(n,1)) #14x506\n",
    "XT = tf.transpose(X)\n"
   ]
  },
  {
   "cell_type": "code",
   "execution_count": 65,
   "metadata": {},
   "outputs": [
    {
     "name": "stdout",
     "output_type": "stream",
     "text": [
      "예측한 집값: [18.40613603] 실제 집값: 18.2\n"
     ]
    }
   ],
   "source": [
    "# 가중치 학습하는게 없다\n",
    "# 행렬식으로 구함  # XT는 X의 전치 \n",
    "# 행렬의 거듭제곱하면 상관계수가 만들어짐  #14x506 * 506x14 => 14x14 상관행렬 (두변수간의 관계가 만들어짐 ) => 역행렬 14x14 \n",
    "# 14x14 , 14x506 => 14x506\n",
    "# 14x506 ,506x1 +> 14x1 \n",
    "\n",
    "#역행렬 이용해서 가중치 결정\n",
    "\n",
    "# y = ax -> a = y/x # 변수간의 관계 => 역행렬 \n",
    "w = tf.matmul(tf.matmul(tf.matrix_inverse(tf.matmul(XT,X)),XT),y)\n",
    "y_pred =tf.matmul(X,w) #506x14, 14x1 => 506x1 회귀식\n",
    "with tf.Session() as sess:\n",
    "    y_pred_ = sess.run(y_pred, feed_dict={X:df.values,y:boston.target.reshape(-1,1)})\n",
    "\n",
    "print('예측한 집값:',y_pred_[19],'실제 집값:',boston.target[19])"
   ]
  },
  {
   "cell_type": "markdown",
   "metadata": {},
   "source": [
    "# Kmeans\n",
    "\n",
    "- k가 결정되어야함 . k 개의 중심 생성\n",
    "- 각 데이터의 중심값을 빼서 거리값을 계산\n",
    "- 중심이 계속 변한다 "
   ]
  },
  {
   "cell_type": "markdown",
   "metadata": {},
   "source": [
    "## tile\n",
    "\n",
    "- 타일은 차수를 확대하지만 차원을 확대하진않는다 "
   ]
  },
  {
   "cell_type": "code",
   "execution_count": 66,
   "metadata": {},
   "outputs": [
    {
     "name": "stdout",
     "output_type": "stream",
     "text": [
      "홑일 때 [0 2 3 0 2 3 0 2 3 0 2 3 0 2 3]\n"
     ]
    }
   ],
   "source": [
    "# tile 1\n",
    "\n",
    "import tensorflow as tf\n",
    "sess =tf.Session()\n",
    "\n",
    "val=[0,2,3]\n",
    "val=tf.tile(val,[5]) #tile :옆으로 반복\n",
    "print('홑일 때',sess.run(val)) \n"
   ]
  },
  {
   "cell_type": "code",
   "execution_count": 68,
   "metadata": {},
   "outputs": [
    {
     "name": "stdout",
     "output_type": "stream",
     "text": [
      "2차원일 때 [[1 1 1 1 1 1]\n",
      " [2 2 2 2 2 2]\n",
      " [3 3 3 3 3 3]\n",
      " [1 1 1 1 1 1]\n",
      " [2 2 2 2 2 2]\n",
      " [3 3 3 3 3 3]\n",
      " [1 1 1 1 1 1]\n",
      " [2 2 2 2 2 2]\n",
      " [3 3 3 3 3 3]\n",
      " [1 1 1 1 1 1]\n",
      " [2 2 2 2 2 2]\n",
      " [3 3 3 3 3 3]\n",
      " [1 1 1 1 1 1]\n",
      " [2 2 2 2 2 2]\n",
      " [3 3 3 3 3 3]]\n"
     ]
    }
   ],
   "source": [
    "val =[[1,1,1,],[2,2,2],[3,3,3]] #3x3\n",
    "val = tf.tile(val,[5,2]) #5x2를  tile => 15x6\n",
    "print('2차원일 때',sess.run(val))"
   ]
  },
  {
   "cell_type": "code",
   "execution_count": 70,
   "metadata": {},
   "outputs": [
    {
     "name": "stdout",
     "output_type": "stream",
     "text": [
      "[[ 1.  2.  1.  2.  1.  2.]\n",
      " [ 2.  1.  2.  1.  2.  1.]\n",
      " [-2. -1. -2. -1. -2. -1.]]\n",
      "[[ 1.  2.  1.  2.  1.  2.]\n",
      " [ 2.  1.  2.  1.  2.  1.]\n",
      " [-2. -1. -2. -1. -2. -1.]\n",
      " [ 1.  2.  1.  2.  1.  2.]\n",
      " [ 2.  1.  2.  1.  2.  1.]\n",
      " [-2. -1. -2. -1. -2. -1.]]\n"
     ]
    }
   ],
   "source": [
    "# tile 2\n",
    "\n",
    "input_vecs=[[1.,2.],[2.,1.],[-2.,-1.]]\n",
    "tiled_vecs=tf.tile(input_vecs,[1,3])\n",
    "print(sess.run(tiled_vecs))\n",
    "tiled_vecs =tf.tile(input_vecs,[2,3])\n",
    "print(sess.run(tiled_vecs))"
   ]
  },
  {
   "cell_type": "markdown",
   "metadata": {},
   "source": [
    "## iris"
   ]
  },
  {
   "cell_type": "code",
   "execution_count": 73,
   "metadata": {},
   "outputs": [],
   "source": [
    "import numpy as np\n",
    "import  matplotlib.pyplot as plt\n",
    "import tensorflow as tf\n",
    "from sklearn import datasets\n",
    "from sklearn.preprocessing import scale\n",
    "from tensorflow.python.framework import ops\n",
    "ops.reset_default_graph() #그래프 초기화 \n",
    "sess =tf.Session()\n",
    "iris = datasets.load_iris() #iris : 4개의 변수와 타겟 "
   ]
  },
  {
   "cell_type": "code",
   "execution_count": 76,
   "metadata": {},
   "outputs": [],
   "source": [
    "num_pts = len(iris.data) # 행수\n",
    "num_feats = len(iris.data[0]) #columns 수 : 변수\n",
    "k=3 #군집수\n",
    "generations =25 # epoch가 25번 돌아감 \n",
    "data_points = tf.Variable(iris.data) #iris 데이터 한꺼번에 받겠다\n",
    "\n",
    "#tf.Variable(tf.zeros([num_pts] : 행수만큼 0으로 초기화하여 레이블변수 만들어줌 \n",
    "cluster_labels = tf.Variable(tf.zeros([num_pts],dtype =tf.int64))\n",
    "\n",
    "#중심데이터를 랜덤으로 취해라 # 중심하나의 요소는 4개  ( 열변수개수 )\n",
    "rand_starts = np.array([iris.data[np.random.choice(len(iris.data))] for _ in range(k)]) \n",
    "centroids = tf.Variable(rand_starts) # 중심을 저장\n",
    "\n",
    "# 3개의 중심을  150개(pts) 이걸 reshape (150,3,4)\n",
    "centroid_matrix = tf.reshape(tf.tile(centroids,[num_pts,1]),[num_pts,k,num_feats]) #num_feats 행수 150개, k 3개 , 각 변수 4개 \n",
    "\n",
    "#데이터를 통째로 옆으로 k번(3번) 옮긴다  \n",
    "point_matrix = tf.reshape(tf.tile(data_points,[1,k]),[num_pts,k,num_feats]) \n",
    "\n",
    "# 세번 반복된 데이터에서 중심값을 빼준다 \n",
    "distances = tf.reduce_sum(tf.square(point_matrix - centroid_matrix), axis =2)\n",
    "\n",
    "# 2개전제 (인덱스,실제값 비교 )\n",
    "centroid_group = tf.argmin(distances,1) #중심거리 1, 중심거리2, 중심거리3"
   ]
  },
  {
   "cell_type": "code",
   "execution_count": 77,
   "metadata": {},
   "outputs": [],
   "source": [
    "# unsorted_segment_sum :라벨번호로 값의 합계 ; 라벨(group_ids)과 값이 잇을 때 라벨을 기준으로 값을 합함\n",
    "# 그룹별로 거리으ㅣ평균\n",
    "#중심거리를 재계산해서 중심값을 재할당 \n",
    "\n",
    "def data_group_avg(group_ids,data): #group(3개)별로 평균을 낸다 \n",
    "    sum_total =tf.unsorted_segment_sum(data,group_ids,3)\n",
    "            \n",
    "    num_total = tf.unsorted_segment_sum(tf.ones_like(data),group_ids,3) #ones_like(data ): data와 사이즈는 같지만 값을 1로바꿔라\n",
    "                                                                        # 1로된것을 다 더하면 그룹의 전체 개수가 나옴\n",
    "    avg_by_group = sum_total/ num_total #합계 / 갯수 : 그룹의 평균거리\n",
    "    return(avg_by_group)\n",
    "means = data_group_avg(centroid_group,data_points)\n",
    "\n",
    "# 업데이트 노드를 결정\n",
    "update = tf.group(centroids.assign(means),cluster_labels.assign(centroid_group))\n",
    "init = tf.global_variables_initializer()\n",
    "sess.run(init)"
   ]
  },
  {
   "cell_type": "code",
   "execution_count": 80,
   "metadata": {
    "collapsed": true
   },
   "outputs": [
    {
     "name": "stdout",
     "output_type": "stream",
     "text": [
      "Calculatinf gen 0,out of 25.\n",
      "Group counts :[72]\n",
      "Group counts :[72, 28]\n",
      "Group counts :[72, 28, 50]\n",
      "Calculatinf gen 1,out of 25.\n",
      "Group counts :[65]\n",
      "Group counts :[65, 35]\n",
      "Group counts :[65, 35, 50]\n",
      "Calculatinf gen 2,out of 25.\n",
      "Group counts :[62]\n",
      "Group counts :[62, 38]\n",
      "Group counts :[62, 38, 50]\n",
      "Calculatinf gen 3,out of 25.\n",
      "Group counts :[62]\n",
      "Group counts :[62, 38]\n",
      "Group counts :[62, 38, 50]\n",
      "Calculatinf gen 4,out of 25.\n",
      "Group counts :[62]\n",
      "Group counts :[62, 38]\n",
      "Group counts :[62, 38, 50]\n",
      "Calculatinf gen 5,out of 25.\n",
      "Group counts :[62]\n",
      "Group counts :[62, 38]\n",
      "Group counts :[62, 38, 50]\n",
      "Calculatinf gen 6,out of 25.\n",
      "Group counts :[62]\n",
      "Group counts :[62, 38]\n",
      "Group counts :[62, 38, 50]\n",
      "Calculatinf gen 7,out of 25.\n",
      "Group counts :[62]\n",
      "Group counts :[62, 38]\n",
      "Group counts :[62, 38, 50]\n",
      "Calculatinf gen 8,out of 25.\n",
      "Group counts :[62]\n",
      "Group counts :[62, 38]\n",
      "Group counts :[62, 38, 50]\n",
      "Calculatinf gen 9,out of 25.\n",
      "Group counts :[62]\n",
      "Group counts :[62, 38]\n",
      "Group counts :[62, 38, 50]\n",
      "Calculatinf gen 10,out of 25.\n",
      "Group counts :[62]\n",
      "Group counts :[62, 38]\n",
      "Group counts :[62, 38, 50]\n",
      "Calculatinf gen 11,out of 25.\n",
      "Group counts :[62]\n",
      "Group counts :[62, 38]\n",
      "Group counts :[62, 38, 50]\n",
      "Calculatinf gen 12,out of 25.\n",
      "Group counts :[62]\n",
      "Group counts :[62, 38]\n",
      "Group counts :[62, 38, 50]\n",
      "Calculatinf gen 13,out of 25.\n",
      "Group counts :[62]\n",
      "Group counts :[62, 38]\n",
      "Group counts :[62, 38, 50]\n",
      "Calculatinf gen 14,out of 25.\n",
      "Group counts :[62]\n",
      "Group counts :[62, 38]\n",
      "Group counts :[62, 38, 50]\n",
      "Calculatinf gen 15,out of 25.\n",
      "Group counts :[62]\n",
      "Group counts :[62, 38]\n",
      "Group counts :[62, 38, 50]\n",
      "Calculatinf gen 16,out of 25.\n",
      "Group counts :[62]\n",
      "Group counts :[62, 38]\n",
      "Group counts :[62, 38, 50]\n",
      "Calculatinf gen 17,out of 25.\n",
      "Group counts :[62]\n",
      "Group counts :[62, 38]\n",
      "Group counts :[62, 38, 50]\n",
      "Calculatinf gen 18,out of 25.\n",
      "Group counts :[62]\n",
      "Group counts :[62, 38]\n",
      "Group counts :[62, 38, 50]\n",
      "Calculatinf gen 19,out of 25.\n",
      "Group counts :[62]\n",
      "Group counts :[62, 38]\n",
      "Group counts :[62, 38, 50]\n",
      "Calculatinf gen 20,out of 25.\n",
      "Group counts :[62]\n",
      "Group counts :[62, 38]\n",
      "Group counts :[62, 38, 50]\n",
      "Calculatinf gen 21,out of 25.\n",
      "Group counts :[62]\n",
      "Group counts :[62, 38]\n",
      "Group counts :[62, 38, 50]\n",
      "Calculatinf gen 22,out of 25.\n",
      "Group counts :[62]\n",
      "Group counts :[62, 38]\n",
      "Group counts :[62, 38, 50]\n",
      "Calculatinf gen 23,out of 25.\n",
      "Group counts :[62]\n",
      "Group counts :[62, 38]\n",
      "Group counts :[62, 38, 50]\n",
      "Calculatinf gen 24,out of 25.\n",
      "Group counts :[62]\n",
      "Group counts :[62, 38]\n",
      "Group counts :[62, 38, 50]\n"
     ]
    }
   ],
   "source": [
    "for i in range(generations): #25번 : epoch 위에서 설정\n",
    "    print('Calculatinf gen {},out of {}.'.format(i,generations))\n",
    "    # update: 군집의 중심값 재계산 및 그룹 변경 # centroid_group 호출 : 그룹번호 결정\n",
    "    _,centroid_group_count = sess.run([update,centroid_group]) \n",
    "    group_count = []\n",
    "    for ix in range(k):  #군집번호  #군집별 카운트 \n",
    "        group_count.append(np.sum(centroid_group_count == ix))\n",
    "        print('Group counts :{}'.format(group_count))\n",
    " # for문이 종료된 후 결정된 중심값, 할당된 군집번호 받기        \n",
    "[centers,assignments] = sess.run([centroids,cluster_labels])"
   ]
  },
  {
   "cell_type": "code",
   "execution_count": 81,
   "metadata": {},
   "outputs": [
    {
     "name": "stdout",
     "output_type": "stream",
     "text": [
      "ACccuracy:0.89\n"
     ]
    }
   ],
   "source": [
    "#제대로 군집화되었는지 확인\n",
    "\n",
    "def most_common(my_list): #대표성을 띈 라벨을 결정 \n",
    "    return(max(set(my_list),key =my_list.count)) #set은 key의 중복을 불허 \n",
    "# 0 1 2 label 결정\n",
    "label0 =most_common(list(assignments[0:50]))\n",
    "label1 =most_common(list(assignments[50:100]))\n",
    "label2 =most_common(list(assignments[100:150]))\n",
    "#라벨과 일치여부 확인 \n",
    "group0_count = np.sum(assignments[0:50]==label0)\n",
    "group1_count = np.sum(assignments[50:100]==label1)\n",
    "group2_count = np.sum(assignments[100:150]==label2)\n",
    "\n",
    "accuracy = (group0_count + group1_count + group2_count)/150.\n",
    "print('Acccuracy:{:.2}'.format(accuracy))"
   ]
  },
  {
   "cell_type": "code",
   "execution_count": null,
   "metadata": {},
   "outputs": [],
   "source": []
  },
  {
   "cell_type": "code",
   "execution_count": null,
   "metadata": {},
   "outputs": [],
   "source": []
  },
  {
   "cell_type": "code",
   "execution_count": null,
   "metadata": {},
   "outputs": [],
   "source": []
  },
  {
   "cell_type": "code",
   "execution_count": null,
   "metadata": {},
   "outputs": [],
   "source": []
  },
  {
   "cell_type": "code",
   "execution_count": null,
   "metadata": {},
   "outputs": [],
   "source": []
  },
  {
   "cell_type": "code",
   "execution_count": null,
   "metadata": {},
   "outputs": [],
   "source": []
  },
  {
   "cell_type": "code",
   "execution_count": null,
   "metadata": {},
   "outputs": [],
   "source": []
  },
  {
   "cell_type": "code",
   "execution_count": null,
   "metadata": {},
   "outputs": [],
   "source": []
  },
  {
   "cell_type": "code",
   "execution_count": null,
   "metadata": {},
   "outputs": [],
   "source": []
  },
  {
   "cell_type": "code",
   "execution_count": null,
   "metadata": {},
   "outputs": [],
   "source": []
  },
  {
   "cell_type": "code",
   "execution_count": null,
   "metadata": {},
   "outputs": [],
   "source": []
  },
  {
   "cell_type": "code",
   "execution_count": null,
   "metadata": {},
   "outputs": [],
   "source": []
  },
  {
   "cell_type": "code",
   "execution_count": null,
   "metadata": {},
   "outputs": [],
   "source": []
  },
  {
   "cell_type": "code",
   "execution_count": null,
   "metadata": {},
   "outputs": [],
   "source": []
  },
  {
   "cell_type": "code",
   "execution_count": null,
   "metadata": {},
   "outputs": [],
   "source": []
  },
  {
   "cell_type": "code",
   "execution_count": null,
   "metadata": {},
   "outputs": [],
   "source": []
  },
  {
   "cell_type": "code",
   "execution_count": null,
   "metadata": {},
   "outputs": [],
   "source": []
  },
  {
   "cell_type": "code",
   "execution_count": null,
   "metadata": {},
   "outputs": [],
   "source": []
  },
  {
   "cell_type": "code",
   "execution_count": null,
   "metadata": {},
   "outputs": [],
   "source": []
  },
  {
   "cell_type": "code",
   "execution_count": null,
   "metadata": {},
   "outputs": [],
   "source": []
  },
  {
   "cell_type": "code",
   "execution_count": null,
   "metadata": {},
   "outputs": [],
   "source": []
  },
  {
   "cell_type": "code",
   "execution_count": null,
   "metadata": {},
   "outputs": [],
   "source": []
  },
  {
   "cell_type": "code",
   "execution_count": null,
   "metadata": {},
   "outputs": [],
   "source": []
  },
  {
   "cell_type": "code",
   "execution_count": null,
   "metadata": {},
   "outputs": [],
   "source": []
  },
  {
   "cell_type": "code",
   "execution_count": null,
   "metadata": {},
   "outputs": [],
   "source": []
  },
  {
   "cell_type": "code",
   "execution_count": null,
   "metadata": {},
   "outputs": [],
   "source": []
  },
  {
   "cell_type": "code",
   "execution_count": null,
   "metadata": {},
   "outputs": [],
   "source": []
  }
 ],
 "metadata": {
  "kernelspec": {
   "display_name": "Python 3",
   "language": "python",
   "name": "python3"
  },
  "language_info": {
   "codemirror_mode": {
    "name": "ipython",
    "version": 3
   },
   "file_extension": ".py",
   "mimetype": "text/x-python",
   "name": "python",
   "nbconvert_exporter": "python",
   "pygments_lexer": "ipython3",
   "version": "3.7.4"
  },
  "toc": {
   "base_numbering": 1,
   "nav_menu": {},
   "number_sections": true,
   "sideBar": true,
   "skip_h1_title": false,
   "title_cell": "Table of Contents",
   "title_sidebar": "Contents",
   "toc_cell": false,
   "toc_position": {
    "height": "calc(100% - 180px)",
    "left": "10px",
    "top": "150px",
    "width": "258.991px"
   },
   "toc_section_display": true,
   "toc_window_display": true
  }
 },
 "nbformat": 4,
 "nbformat_minor": 2
}
